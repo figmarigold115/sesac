{
 "cells": [
  {
   "cell_type": "markdown",
   "metadata": {},
   "source": [
    "\n",
    "# 🌼 자연어처리 기초 - 1차시(24.11.08)\n",
    "\n",
    "---\n"
   ]
  },
  {
   "cell_type": "markdown",
   "metadata": {},
   "source": [
    "## 1. 텍스트 전처리\n",
    "1. 정규화 : 대소문자 통일, 용어 통일, 특수문자 제거, 정규표현식\n",
    "2. 어간추출 / 표제어추출 : 단어에서 접사 제거하여 기본 형태 찾아내기, 사전에 기반하여 단어를 원형으로 변환하기\n",
    "3. 불용어 제거 : 불용어 목록 정의하고 필터링\n",
    "4. 토큰화 : 의미를 갖는 최소한의 단위로 나누기"
   ]
  },
  {
   "cell_type": "code",
   "execution_count": 1,
   "metadata": {},
   "outputs": [
    {
     "data": {
      "text/plain": [
       "'today is an exciting friday'"
      ]
     },
     "execution_count": 1,
     "metadata": {},
     "output_type": "execute_result"
    }
   ],
   "source": [
    "text = 'Today is an exciting Friday'\n",
    "lower_text = text.lower() # 소문자 변환\n",
    "lower_text"
   ]
  },
  {
   "cell_type": "code",
   "execution_count": 2,
   "metadata": {},
   "outputs": [
    {
     "data": {
      "text/plain": [
       "'THE WEEKEND IS SHORT, ONLY TWO DAYS LONG.'"
      ]
     },
     "execution_count": 2,
     "metadata": {},
     "output_type": "execute_result"
    }
   ],
   "source": [
    "text2 = 'The weekend is short, only two days long.'\n",
    "upper_text = text2.upper()\n",
    "upper_text"
   ]
  },
  {
   "cell_type": "code",
   "execution_count": 3,
   "metadata": {},
   "outputs": [
    {
     "data": {
      "text/plain": [
       "'스마트폰은 스마트폰, 스마트폰 이라고도 할 수 있어요'"
      ]
     },
     "execution_count": 3,
     "metadata": {},
     "output_type": "execute_result"
    }
   ],
   "source": [
    "import re  # 정규표현식\n",
    "\n",
    "text3 = '스마트폰은 핸드폰, 휴대폰 이라고도 할 수 있어요'\n",
    "normalized = re.sub(r'(핸드폰|휴대폰)', '스마트폰', text3)\n",
    "normalized"
   ]
  },
  {
   "cell_type": "markdown",
   "metadata": {},
   "source": [
    "|구성 요소|설명|예시|\n",
    "|---|---|---|\n",
    "|특수 문자|특정 패턴에 매칭하는 메타 문자|\n",
    "|.\t|임의의 한 문자와 매칭 (줄 바꿈 제외)|\ta.b → \"a와 b 사이에 아무 문자\"|\n",
    "|*\t|앞에 있는 문자가 0번 이상 반복됨|\tab* → \"a + 0개 이상의 b\"|\n",
    "|+\t|앞에 있는 문자가 1번 이상 반복됨|\tab+ → \"a + 1개 이상의 b\"|\n",
    "|?\t|앞에 있는 문자가 0번 또는 1번 나타남|\tab? → \"a + 0개 또는 1개의 b\"|\n",
    "|문자 클래스\t|대괄호 안의 문자 중 하나와 매칭\t|\n",
    "|[abc]\t|\"a\", \"b\", \"c\" 중 하나와 매칭\t|[abc] → \"a, b, 또는 c\"|\n",
    "|[a-z]\t|소문자 알파벳 a부터 z까지의 문자 중 하나와 매칭\t|[a-z] → \"모든 소문자\"|\n",
    "|이스케이프 시퀀스\t|특정 문자 그룹과 매칭\t|\n",
    "|\\d|\t숫자 (0-9)와 매칭\t|\\d+ → \"1개 이상의 숫자\"|\n",
    "|\\s\t|공백 문자 (스페이스, 탭 등)와 매칭|\t\\s+ → \"1개 이상의 공백\"|\n",
    "|\\w\t|알파벳, 숫자, 밑줄(_)과 매칭\t|\\w+ → \"1개 이상의 단어 문자\"|\n",
    "|그룹화\t|패턴을 그룹으로 묶어 매칭 및 캡처\t|\n",
    "|()\t|괄호 안의 패턴을 그룹화하여 캡처 가능\t|(\\d{3})-(\\d{4}) → 전화번호 패턴|"
   ]
  },
  {
   "cell_type": "code",
   "execution_count": 4,
   "metadata": {},
   "outputs": [
    {
     "data": {
      "text/plain": [
       "'안녕하세요 오늘 점심은 무엇을 먹을까요 김수빈 Python AI'"
      ]
     },
     "execution_count": 4,
     "metadata": {},
     "output_type": "execute_result"
    }
   ],
   "source": [
    "text4 = \"안녕하세요!!! 오늘 점심은 무엇을 먹을까요? @김수빈 #Python #AI\"\n",
    "normalized2 = re.sub(r'[^가-힣a-zA-Z0-9\\s]', '', text4)  # 대괄호 내부에 있는것을 제외하고 지워줘\n",
    "normalized2"
   ]
  },
  {
   "cell_type": "code",
   "execution_count": 5,
   "metadata": {},
   "outputs": [
    {
     "data": {
      "text/plain": [
       "'문의는  으로 보내주세요. 더 많은 정보는 https://chatgpt.com/ 에서 확인하세요.'"
      ]
     },
     "execution_count": 5,
     "metadata": {},
     "output_type": "execute_result"
    }
   ],
   "source": [
    "text5 = \"문의는 soocong@chunjae.co.kr 으로 보내주세요. 더 많은 정보는 https://chatgpt.com/ 에서 확인하세요.\"\n",
    "without_email = re.sub(r'\\S+@\\S+', '', text5)\n",
    "without_email"
   ]
  },
  {
   "cell_type": "code",
   "execution_count": 6,
   "metadata": {},
   "outputs": [
    {
     "data": {
      "text/plain": [
       "'문의는  으로 보내주세요. 더 많은 정보는  에서 확인하세요.'"
      ]
     },
     "execution_count": 6,
     "metadata": {},
     "output_type": "execute_result"
    }
   ],
   "source": [
    "without_url = re.sub(r'http[s]?://\\S+', '', without_email)\n",
    "without_url"
   ]
  },
  {
   "cell_type": "code",
   "execution_count": 7,
   "metadata": {},
   "outputs": [],
   "source": [
    "# !pip install nltk"
   ]
  },
  {
   "cell_type": "code",
   "execution_count": 8,
   "metadata": {},
   "outputs": [
    {
     "name": "stderr",
     "output_type": "stream",
     "text": [
      "[nltk_data] Downloading package wordnet to\n",
      "[nltk_data]     C:\\Users\\RMARKET\\AppData\\Roaming\\nltk_data...\n",
      "[nltk_data]   Package wordnet is already up-to-date!\n"
     ]
    },
    {
     "data": {
      "text/plain": [
       "True"
      ]
     },
     "execution_count": 8,
     "metadata": {},
     "output_type": "execute_result"
    }
   ],
   "source": [
    "import nltk\n",
    "nltk.download('wordnet')"
   ]
  },
  {
   "cell_type": "code",
   "execution_count": 9,
   "metadata": {},
   "outputs": [],
   "source": [
    "from nltk.stem import PorterStemmer  # 어간 추출\n",
    "stemmer = PorterStemmer()\n",
    "word = ['running', 'jumps', 'studies']"
   ]
  },
  {
   "cell_type": "code",
   "execution_count": 10,
   "metadata": {},
   "outputs": [
    {
     "data": {
      "text/plain": [
       "['run', 'jump', 'studi']"
      ]
     },
     "execution_count": 10,
     "metadata": {},
     "output_type": "execute_result"
    }
   ],
   "source": [
    "stems = []\n",
    "for w in word:\n",
    "    stems.append(stemmer.stem(w))\n",
    "\n",
    "stems"
   ]
  },
  {
   "cell_type": "code",
   "execution_count": 11,
   "metadata": {},
   "outputs": [],
   "source": [
    "from nltk.stem import WordNetLemmatizer  # 표제어 추출 (사전을 기반으로)\n",
    "lemmatizer = WordNetLemmatizer()\n",
    "words = ['running', 'jumps', 'studies']"
   ]
  },
  {
   "cell_type": "code",
   "execution_count": 12,
   "metadata": {},
   "outputs": [
    {
     "data": {
      "text/plain": [
       "['run', 'jump', 'study']"
      ]
     },
     "execution_count": 12,
     "metadata": {},
     "output_type": "execute_result"
    }
   ],
   "source": [
    "lemmas = []\n",
    "for word in words:\n",
    "    lemma = lemmatizer.lemmatize(word, pos='v')  # pos 파라미터로 품사 지정 가능 v: 동사, n: 명사, r: 부사\n",
    "    lemmas.append(lemma)\n",
    "\n",
    "lemmas"
   ]
  },
  {
   "cell_type": "code",
   "execution_count": 13,
   "metadata": {},
   "outputs": [],
   "source": [
    "# pip install konlpy"
   ]
  },
  {
   "cell_type": "code",
   "execution_count": 14,
   "metadata": {},
   "outputs": [],
   "source": [
    "from konlpy.tag import Okt"
   ]
  },
  {
   "cell_type": "code",
   "execution_count": 15,
   "metadata": {},
   "outputs": [],
   "source": [
    "okt = Okt()\n",
    "text = '달리고 있는 사람들을 보다'"
   ]
  },
  {
   "cell_type": "code",
   "execution_count": 16,
   "metadata": {},
   "outputs": [
    {
     "data": {
      "text/plain": [
       "['달리', '고', '있다', '사람', '들', '을', '보다']"
      ]
     },
     "execution_count": 16,
     "metadata": {},
     "output_type": "execute_result"
    }
   ],
   "source": [
    "stems = okt.morphs(text, stem=True)\n",
    "stems"
   ]
  },
  {
   "cell_type": "code",
   "execution_count": 17,
   "metadata": {},
   "outputs": [
    {
     "data": {
      "text/plain": [
       "[('달리', 'Noun'),\n",
       " ('고', 'Josa'),\n",
       " ('있는', 'Adjective'),\n",
       " ('사람', 'Noun'),\n",
       " ('들', 'Suffix'),\n",
       " ('을', 'Josa'),\n",
       " ('보다', 'Verb')]"
      ]
     },
     "execution_count": 17,
     "metadata": {},
     "output_type": "execute_result"
    }
   ],
   "source": [
    "lemmas = []\n",
    "for word, tag in okt.pos(text):\n",
    "    lemmas.append((word, tag))\n",
    "\n",
    "lemmas"
   ]
  },
  {
   "cell_type": "code",
   "execution_count": 18,
   "metadata": {},
   "outputs": [
    {
     "name": "stderr",
     "output_type": "stream",
     "text": [
      "[nltk_data] Downloading package stopwords to\n",
      "[nltk_data]     C:\\Users\\RMARKET\\AppData\\Roaming\\nltk_data...\n",
      "[nltk_data]   Package stopwords is already up-to-date!\n"
     ]
    },
    {
     "data": {
      "text/plain": [
       "True"
      ]
     },
     "execution_count": 18,
     "metadata": {},
     "output_type": "execute_result"
    }
   ],
   "source": [
    "# 불용어 제거\n",
    "from nltk.corpus import stopwords\n",
    "nltk.download('stopwords')"
   ]
  },
  {
   "cell_type": "code",
   "execution_count": 19,
   "metadata": {},
   "outputs": [
    {
     "data": {
      "text/plain": [
       "'이 문장에서 라는 단어를 로 처리합니다'"
      ]
     },
     "execution_count": 19,
     "metadata": {},
     "output_type": "execute_result"
    }
   ],
   "source": [
    "text = '이 문장에서 불용어라는 단어를 불용어로 처리합니다'\n",
    "text.replace('불용어', '')  # 대량처리에 적합하지 않음"
   ]
  },
  {
   "cell_type": "code",
   "execution_count": 20,
   "metadata": {},
   "outputs": [],
   "source": [
    "from nltk.corpus import stopwords\n",
    "stop_words = stopwords.words('english')"
   ]
  },
  {
   "cell_type": "code",
   "execution_count": 21,
   "metadata": {},
   "outputs": [],
   "source": [
    "words = ['This', 'is', 'a', 'simple', 'example']\n",
    "filtered = []"
   ]
  },
  {
   "cell_type": "code",
   "execution_count": 22,
   "metadata": {},
   "outputs": [
    {
     "data": {
      "text/plain": [
       "['simple', 'example']"
      ]
     },
     "execution_count": 22,
     "metadata": {},
     "output_type": "execute_result"
    }
   ],
   "source": [
    "for word in words:\n",
    "    if word.lower() not in stop_words:\n",
    "        filtered.append(word)\n",
    "    \n",
    "filtered"
   ]
  },
  {
   "cell_type": "code",
   "execution_count": 23,
   "metadata": {},
   "outputs": [],
   "source": [
    "text = '불용어 예시를 실행해봅니다.'\n",
    "stop_words = {'불', '를'}"
   ]
  },
  {
   "cell_type": "code",
   "execution_count": 24,
   "metadata": {},
   "outputs": [
    {
     "data": {
      "text/plain": [
       "['용어', '예시', '실행', '해봅니다', '.']"
      ]
     },
     "execution_count": 24,
     "metadata": {},
     "output_type": "execute_result"
    }
   ],
   "source": [
    "words = okt.morphs(text)\n",
    "filtered_ko = []\n",
    "\n",
    "for word in words:\n",
    "    if word not in stop_words:\n",
    "        filtered_ko.append(word)\n",
    "\n",
    "filtered_ko"
   ]
  },
  {
   "cell_type": "code",
   "execution_count": 25,
   "metadata": {},
   "outputs": [
    {
     "data": {
      "text/plain": [
       "['불', '용어', '예시', '를', '실행', '해보다', '.']"
      ]
     },
     "execution_count": 25,
     "metadata": {},
     "output_type": "execute_result"
    }
   ],
   "source": [
    "words = okt.morphs(text, stem=True)\n",
    "words"
   ]
  },
  {
   "cell_type": "markdown",
   "metadata": {},
   "source": [
    "## 2-1. 토큰화 (영어)\n",
    "1. word_tokenize\n",
    "2. TfidfVectorizer"
   ]
  },
  {
   "cell_type": "code",
   "execution_count": 26,
   "metadata": {},
   "outputs": [
    {
     "name": "stderr",
     "output_type": "stream",
     "text": [
      "[nltk_data] Downloading package punkt to\n",
      "[nltk_data]     C:\\Users\\RMARKET\\AppData\\Roaming\\nltk_data...\n",
      "[nltk_data]   Package punkt is already up-to-date!\n"
     ]
    },
    {
     "data": {
      "text/plain": [
       "True"
      ]
     },
     "execution_count": 26,
     "metadata": {},
     "output_type": "execute_result"
    }
   ],
   "source": [
    "import nltk\n",
    "nltk.download('punkt')"
   ]
  },
  {
   "cell_type": "code",
   "execution_count": 27,
   "metadata": {},
   "outputs": [
    {
     "data": {
      "text/plain": [
       "'3.9.1'"
      ]
     },
     "execution_count": 27,
     "metadata": {},
     "output_type": "execute_result"
    }
   ],
   "source": [
    "nltk.__version__"
   ]
  },
  {
   "cell_type": "code",
   "execution_count": 28,
   "metadata": {},
   "outputs": [],
   "source": [
    "# nltk.download()"
   ]
  },
  {
   "cell_type": "code",
   "execution_count": 29,
   "metadata": {},
   "outputs": [],
   "source": [
    "from nltk.tokenize import word_tokenize\n",
    "text = \"It's difficult to create English sentence examples\""
   ]
  },
  {
   "cell_type": "code",
   "execution_count": 30,
   "metadata": {},
   "outputs": [
    {
     "data": {
      "text/plain": [
       "['It', \"'s\", 'difficult', 'to', 'create', 'English', 'sentence', 'examples']"
      ]
     },
     "execution_count": 30,
     "metadata": {},
     "output_type": "execute_result"
    }
   ],
   "source": [
    "tokens = word_tokenize(text)\n",
    "tokens"
   ]
  },
  {
   "cell_type": "markdown",
   "metadata": {},
   "source": [
    "## 2-2. 토큰화 (한국어)\n",
    "1. okt\n",
    "2. hannanum\n",
    "3. kkma"
   ]
  },
  {
   "cell_type": "code",
   "execution_count": 31,
   "metadata": {},
   "outputs": [],
   "source": [
    "# pip install konlpy"
   ]
  },
  {
   "cell_type": "code",
   "execution_count": 32,
   "metadata": {},
   "outputs": [],
   "source": [
    "import konlpy\n",
    "from konlpy.tag import Okt, Hannanum, Kkma "
   ]
  },
  {
   "cell_type": "code",
   "execution_count": 33,
   "metadata": {},
   "outputs": [],
   "source": [
    "okt = Okt() \n",
    "hannanum = Hannanum() \n",
    "kkma = Kkma() "
   ]
  },
  {
   "cell_type": "code",
   "execution_count": 34,
   "metadata": {},
   "outputs": [],
   "source": [
    "text = \"아버지가방에들어가신다.\" \n",
    "text2 = \"저기저뜀틀이내가뛸뜀틀인가내가안뛸뜀틀인가\""
   ]
  },
  {
   "cell_type": "code",
   "execution_count": 35,
   "metadata": {},
   "outputs": [
    {
     "name": "stdout",
     "output_type": "stream",
     "text": [
      "okt 형태소 추출: ['아버지', '가방', '에', '들어가신다', '.']\n",
      "hannanum 형태소 추출: ['아버지가방에들어가', '이', '시ㄴ다', '.']\n",
      "kkma 형태소 추출: ['아버지', '가방', '에', '들어가', '시', 'ㄴ다', '.']\n"
     ]
    }
   ],
   "source": [
    "print(f'okt 형태소 추출: {okt.morphs(text)}')\n",
    "print(f'hannanum 형태소 추출: {hannanum.morphs(text)}')\n",
    "print(f'kkma 형태소 추출: {kkma.morphs(text)}')"
   ]
  },
  {
   "cell_type": "code",
   "execution_count": 36,
   "metadata": {},
   "outputs": [
    {
     "name": "stdout",
     "output_type": "stream",
     "text": [
      "okt 형태소 추출: ['저', '기', '저', '뜀틀', '이내', '가', '뛸', '뜀틀', '인가', '내', '가안', '뛸', '뜀틀', '인가']\n",
      "hannanum 형태소 추출: ['저기저뜀틀이내가뛸뜀틀인가내가안뛸뜀틀', '인가']\n",
      "kkma 형태소 추출: ['저', '기저', '뜀틀', '이내', '가', '뛰', 'ㄹ', '뜀틀', '이', 'ㄴ가', '내가', '안', '뛰', 'ㄹ', '뜀틀', '이', 'ㄴ가']\n"
     ]
    }
   ],
   "source": [
    "print(f'okt 형태소 추출: {okt.morphs(text2)}')\n",
    "print(f'hannanum 형태소 추출: {hannanum.morphs(text2)}')\n",
    "print(f'kkma 형태소 추출: {kkma.morphs(text2)}')"
   ]
  },
  {
   "cell_type": "code",
   "execution_count": 37,
   "metadata": {},
   "outputs": [
    {
     "name": "stdout",
     "output_type": "stream",
     "text": [
      "okt 명사 추출: ['아버지', '가방']\n",
      "hannanum 명사 추출: ['아버지가방에들어가']\n",
      "kkma 명사 추출: ['아버지', '아버지가방', '가방']\n"
     ]
    }
   ],
   "source": [
    "print(f'okt 명사 추출: {okt.nouns(text)}')\n",
    "print(f'hannanum 명사 추출: {hannanum.nouns(text)}')\n",
    "print(f'kkma 명사 추출: {kkma.nouns(text)}')"
   ]
  },
  {
   "cell_type": "code",
   "execution_count": 38,
   "metadata": {},
   "outputs": [
    {
     "name": "stdout",
     "output_type": "stream",
     "text": [
      "okt 명사 추출: ['뜀틀', '이내', '뜀틀', '가안', '뜀틀']\n",
      "hannanum 명사 추출: ['저기저뜀틀이내가뛸뜀틀인가내가안뛸뜀틀']\n",
      "kkma 명사 추출: ['뜀틀', '내가', '뜀틀이내', '기저', '이내']\n"
     ]
    }
   ],
   "source": [
    "print(f'okt 명사 추출: {okt.nouns(text2)}')\n",
    "print(f'hannanum 명사 추출: {hannanum.nouns(text2)}')\n",
    "print(f'kkma 명사 추출: {kkma.nouns(text2)}')"
   ]
  },
  {
   "cell_type": "markdown",
   "metadata": {},
   "source": [
    "### Mecab\n",
    "- 형태소분석기 성능 중 가장 빠르고 성능이 좋은 편으로 유명한 한국어 자연어 처리 모델\n",
    "- mecab-ko-dic : https://github.com/Pusnow/mecab-ko-dic-msvc/releases/tag/mecab-ko-dic-2.1.1-20180720-msvc\n",
    "- mecab-ko-msvc :https://github.com/Pusnow/mecab-ko-msvc/releases/tag/release-0.9.2-msvc-3\n",
    "- https://github.com/Pusnow/mecab-python-msvc/releases\n",
    "- C드라이브 바로 아래에 mecab이라는 폴더 생성 후 mecab-ko-dic, mecab-ko-msvc 파일 언패킹\n",
    "- 비트에 맞는 python wheel 설치 후 anaconda3 > envs > 가상환경 > Lib > site-packages 폴더로 이동\n",
    "- python version 3.9인 가상환경 실행 (Anaconda Prompt)\n",
    "- 실행 후 wheel을 설치한 경로로 이동하여 pip install mecab-python3 실행\n",
    "- `커널 restart 후 코드 실행`\n"
   ]
  },
  {
   "cell_type": "code",
   "execution_count": 39,
   "metadata": {},
   "outputs": [
    {
     "data": {
      "text/plain": [
       "['한국어', '자연어', '처리']"
      ]
     },
     "execution_count": 39,
     "metadata": {},
     "output_type": "execute_result"
    }
   ],
   "source": [
    "from konlpy.tag import Mecab\n",
    "\n",
    "m = Mecab(dicpath = 'C:/mecab/mecab-ko-dic')\n",
    "m.nouns('한국어자연어처리')"
   ]
  },
  {
   "cell_type": "code",
   "execution_count": 40,
   "metadata": {},
   "outputs": [
    {
     "data": {
      "text/plain": [
       "['아버지', '가', '방', '에', '들어가', '신다', '.']"
      ]
     },
     "execution_count": 40,
     "metadata": {},
     "output_type": "execute_result"
    }
   ],
   "source": [
    "m.morphs(text)"
   ]
  },
  {
   "cell_type": "code",
   "execution_count": 41,
   "metadata": {},
   "outputs": [
    {
     "data": {
      "text/plain": [
       "['아버지', '방']"
      ]
     },
     "execution_count": 41,
     "metadata": {},
     "output_type": "execute_result"
    }
   ],
   "source": [
    "m.nouns(text)"
   ]
  },
  {
   "cell_type": "code",
   "execution_count": 42,
   "metadata": {},
   "outputs": [
    {
     "data": {
      "text/plain": [
       "['저기',\n",
       " '저',\n",
       " '뜀틀',\n",
       " '이',\n",
       " '내',\n",
       " '가',\n",
       " '뛸',\n",
       " '뜀틀',\n",
       " '인가',\n",
       " '내',\n",
       " '가',\n",
       " '안',\n",
       " '뛸',\n",
       " '뜀틀',\n",
       " '인가']"
      ]
     },
     "execution_count": 42,
     "metadata": {},
     "output_type": "execute_result"
    }
   ],
   "source": [
    "m.morphs(text2)"
   ]
  },
  {
   "cell_type": "markdown",
   "metadata": {},
   "source": [
    "## 3. 텍스트 벡터화\n",
    "1. Bag-of-Words\n",
    "2. TF-IDF"
   ]
  },
  {
   "cell_type": "code",
   "execution_count": 43,
   "metadata": {},
   "outputs": [],
   "source": [
    "def bag_or_words(text):\n",
    "    okt = Okt()\n",
    "    text = text.replace('.', '')\n",
    "    tokens = okt.morphs(text)\n",
    "    word_dict = {}\n",
    "    bow= []\n",
    "    \n",
    "    for token in tokens:\n",
    "        if token not in word_dict:\n",
    "            word_dict[token] = len(word_dict)\n",
    "            # 인덱스 부여\n",
    "            bow.append(1)\n",
    "        else:\n",
    "            bow[word_dict[token]] += 1\n",
    "        \n",
    "    return word_dict, bow"
   ]
  },
  {
   "cell_type": "code",
   "execution_count": 44,
   "metadata": {},
   "outputs": [
    {
     "name": "stdout",
     "output_type": "stream",
     "text": [
      "[1, 1, 2, 1, 1, 1, 1, 1]\n",
      "{'반복': 0, '되는': 1, '단어': 2, '는': 3, '개수': 4, '만큼': 5, '추가': 6, '됩니다': 7}\n"
     ]
    }
   ],
   "source": [
    "doc = '반복되는 단어는 단어 개수만큼 추가됩니다.'\n",
    "word_dict, bow = bag_or_words(doc)\n",
    "print(bow)\n",
    "print(word_dict)"
   ]
  },
  {
   "cell_type": "code",
   "execution_count": 45,
   "metadata": {},
   "outputs": [
    {
     "name": "stdout",
     "output_type": "stream",
     "text": [
      "[1, 1, 1, 2, 1, 1, 2, 1, 1, 1, 1, 1, 1, 1, 2, 1, 1, 1, 1, 1, 1, 1, 1, 1, 1, 1, 1]\n",
      "{'그룹': 0, '에스': 1, '파': 2, '카리나': 3, '가': 4, '미모': 5, '를': 6, '뽐냈다': 7, '는': 8, '7일': 9, '자신': 10, '의': 11, '인스타그램': 12, '에': 13, '\"': 14, '우울할': 15, '땐': 16, '이': 17, '포즈': 18, '해봐': 19, '라는': 20, '글': 21, '과': 22, '사진': 23, '을': 24, '게재': 25, '했다': 26}\n"
     ]
    }
   ],
   "source": [
    "doc = '그룹 에스파 카리나가 미모를 뽐냈다. 카리나는 7일 자신의 인스타그램에 \"우울할 땐 이 포즈를 해봐\"라는 글과 사진을 게재했다.'\n",
    "word_dict, bow = bag_or_words(doc)\n",
    "print(bow)\n",
    "print(word_dict)"
   ]
  },
  {
   "cell_type": "code",
   "execution_count": 46,
   "metadata": {},
   "outputs": [],
   "source": [
    "from sklearn.feature_extraction.text import CountVectorizer"
   ]
  },
  {
   "cell_type": "code",
   "execution_count": 47,
   "metadata": {},
   "outputs": [
    {
     "name": "stdout",
     "output_type": "stream",
     "text": [
      "벡터화된 문장: [[1 1 1 1 1]]\n",
      "단어 사전: {'반복되는': 3, '단어는': 2, '단어': 1, '개수만큼': 0, '추가됩니다': 4}\n"
     ]
    }
   ],
   "source": [
    "corpus = ['반복되는 단어는 단어 개수만큼 추가됩니다.']\n",
    "vector = CountVectorizer()\n",
    "print(f'벡터화된 문장: {vector.fit_transform(corpus).toarray()}')\n",
    "print(f'단어 사전: {vector.vocabulary_}') # 각 인덱스가 정렬된 상태로 나온다"
   ]
  },
  {
   "cell_type": "code",
   "execution_count": 86,
   "metadata": {},
   "outputs": [
    {
     "name": "stdout",
     "output_type": "stream",
     "text": [
      "벡터화된 문장: [[1 1 1 1]]\n",
      "단어 사전: {'bow': 0, 'works': 3, 'same': 2, 'english': 1}\n"
     ]
    }
   ],
   "source": [
    "text = ['BOW works the same for English']\n",
    "vect = CountVectorizer(stop_words=['the', 'for'])\n",
    "print(f'벡터화된 문장: {vect.fit_transform(text).toarray()}')\n",
    "print(f'단어 사전: {vect.vocabulary_}')"
   ]
  },
  {
   "cell_type": "code",
   "execution_count": 49,
   "metadata": {},
   "outputs": [
    {
     "name": "stdout",
     "output_type": "stream",
     "text": [
      "벡터화된 문장: [[1 1 1]]\n",
      "단어 사전: {'bow': 0, 'works': 2, 'english': 1}\n"
     ]
    }
   ],
   "source": [
    "vect = CountVectorizer(stop_words='english')  # 자체 불용어 사전\n",
    "print(f'벡터화된 문장: {vect.fit_transform(text).toarray()}')\n",
    "print(f'단어 사전: {vect.vocabulary_}')"
   ]
  },
  {
   "cell_type": "code",
   "execution_count": 87,
   "metadata": {},
   "outputs": [
    {
     "name": "stdout",
     "output_type": "stream",
     "text": [
      "[[1 1 2 1 1 1 1]]\n",
      "{'hello': 2, 'my': 4, 'name': 5, 'is': 3, 'are': 0, 'you': 6, 'happy': 1}\n"
     ]
    }
   ],
   "source": [
    "text = ['hello my name is hello are you happy?']\n",
    "print(vect.fit_transform(text).toarray())\n",
    "print(vect.vocabulary_)"
   ]
  },
  {
   "cell_type": "markdown",
   "metadata": {},
   "source": [
    "tf-idf"
   ]
  },
  {
   "cell_type": "code",
   "execution_count": 50,
   "metadata": {},
   "outputs": [],
   "source": [
    "import pandas as pd\n",
    "from math import log\n",
    "\n",
    "# DTM: 문서 단어 행렬 (Document Term Matrix)\n",
    "\n",
    "docs = [\n",
    "  '원숭이 엉덩이는 빨개',\n",
    "  '빨간건 사과',\n",
    "  '사과는 맛있어',\n",
    "  '맛있으면 바나나'\n",
    "]\n"
   ]
  },
  {
   "cell_type": "code",
   "execution_count": 51,
   "metadata": {},
   "outputs": [
    {
     "data": {
      "text/plain": [
       "['맛있어', '맛있으면', '바나나', '빨간건', '빨개', '사과', '사과는', '엉덩이는', '원숭이']"
      ]
     },
     "execution_count": 51,
     "metadata": {},
     "output_type": "execute_result"
    }
   ],
   "source": [
    "voca = []\n",
    "for doc in docs:\n",
    "    words = doc.split()\n",
    "    for w in words:\n",
    "        if w not in voca:\n",
    "            voca.append(w)\n",
    "\n",
    "\n",
    "voca.sort()\n",
    "voca"
   ]
  },
  {
   "cell_type": "code",
   "execution_count": 52,
   "metadata": {},
   "outputs": [],
   "source": [
    "N = len(docs)\n",
    "def tf(t, d):\n",
    "    return d.count(t)\n",
    "# TF: 특정 문서 d에서 특정 단어 t의 등장 횟수"
   ]
  },
  {
   "cell_type": "code",
   "execution_count": 53,
   "metadata": {},
   "outputs": [],
   "source": [
    "def idf(t):\n",
    "    df = 0\n",
    "    for doc in docs:\n",
    "        df += t in doc  # True, False\n",
    "    return log(N/(df+1))"
   ]
  },
  {
   "cell_type": "code",
   "execution_count": 54,
   "metadata": {},
   "outputs": [],
   "source": [
    "def tfidf(t, d):\n",
    "    return tf(t, d) * idf(t)"
   ]
  },
  {
   "cell_type": "code",
   "execution_count": 55,
   "metadata": {},
   "outputs": [
    {
     "data": {
      "text/html": [
       "<div>\n",
       "<style scoped>\n",
       "    .dataframe tbody tr th:only-of-type {\n",
       "        vertical-align: middle;\n",
       "    }\n",
       "\n",
       "    .dataframe tbody tr th {\n",
       "        vertical-align: top;\n",
       "    }\n",
       "\n",
       "    .dataframe thead th {\n",
       "        text-align: right;\n",
       "    }\n",
       "</style>\n",
       "<table border=\"1\" class=\"dataframe\">\n",
       "  <thead>\n",
       "    <tr style=\"text-align: right;\">\n",
       "      <th></th>\n",
       "      <th>맛있어</th>\n",
       "      <th>맛있으면</th>\n",
       "      <th>바나나</th>\n",
       "      <th>빨간건</th>\n",
       "      <th>빨개</th>\n",
       "      <th>사과</th>\n",
       "      <th>사과는</th>\n",
       "      <th>엉덩이는</th>\n",
       "      <th>원숭이</th>\n",
       "    </tr>\n",
       "  </thead>\n",
       "  <tbody>\n",
       "    <tr>\n",
       "      <th>0</th>\n",
       "      <td>0</td>\n",
       "      <td>0</td>\n",
       "      <td>0</td>\n",
       "      <td>0</td>\n",
       "      <td>1</td>\n",
       "      <td>0</td>\n",
       "      <td>0</td>\n",
       "      <td>1</td>\n",
       "      <td>1</td>\n",
       "    </tr>\n",
       "    <tr>\n",
       "      <th>1</th>\n",
       "      <td>0</td>\n",
       "      <td>0</td>\n",
       "      <td>0</td>\n",
       "      <td>1</td>\n",
       "      <td>0</td>\n",
       "      <td>1</td>\n",
       "      <td>0</td>\n",
       "      <td>0</td>\n",
       "      <td>0</td>\n",
       "    </tr>\n",
       "    <tr>\n",
       "      <th>2</th>\n",
       "      <td>1</td>\n",
       "      <td>0</td>\n",
       "      <td>0</td>\n",
       "      <td>0</td>\n",
       "      <td>0</td>\n",
       "      <td>1</td>\n",
       "      <td>1</td>\n",
       "      <td>0</td>\n",
       "      <td>0</td>\n",
       "    </tr>\n",
       "    <tr>\n",
       "      <th>3</th>\n",
       "      <td>0</td>\n",
       "      <td>1</td>\n",
       "      <td>1</td>\n",
       "      <td>0</td>\n",
       "      <td>0</td>\n",
       "      <td>0</td>\n",
       "      <td>0</td>\n",
       "      <td>0</td>\n",
       "      <td>0</td>\n",
       "    </tr>\n",
       "  </tbody>\n",
       "</table>\n",
       "</div>"
      ],
      "text/plain": [
       "   맛있어  맛있으면  바나나  빨간건  빨개  사과  사과는  엉덩이는  원숭이\n",
       "0    0     0    0    0   1   0    0     1    1\n",
       "1    0     0    0    1   0   1    0     0    0\n",
       "2    1     0    0    0   0   1    1     0    0\n",
       "3    0     1    1    0   0   0    0     0    0"
      ]
     },
     "execution_count": 55,
     "metadata": {},
     "output_type": "execute_result"
    }
   ],
   "source": [
    "result = []\n",
    "for i in range(N):\n",
    "    result.append([])\n",
    "    d = docs[i]\n",
    "\n",
    "    for j in range(len(voca)):\n",
    "        t = voca[j]\n",
    "        result[-1].append(tf(t, d))\n",
    "\n",
    "tf_ = pd.DataFrame(result, columns=voca)\n",
    "tf_"
   ]
  },
  {
   "cell_type": "code",
   "execution_count": 56,
   "metadata": {},
   "outputs": [],
   "source": [
    "result2 = []\n",
    "for i in range(len(voca)):\n",
    "    t = voca[i]\n",
    "    result2.append(idf(t))"
   ]
  },
  {
   "cell_type": "code",
   "execution_count": 57,
   "metadata": {},
   "outputs": [
    {
     "data": {
      "text/html": [
       "<div>\n",
       "<style scoped>\n",
       "    .dataframe tbody tr th:only-of-type {\n",
       "        vertical-align: middle;\n",
       "    }\n",
       "\n",
       "    .dataframe tbody tr th {\n",
       "        vertical-align: top;\n",
       "    }\n",
       "\n",
       "    .dataframe thead th {\n",
       "        text-align: right;\n",
       "    }\n",
       "</style>\n",
       "<table border=\"1\" class=\"dataframe\">\n",
       "  <thead>\n",
       "    <tr style=\"text-align: right;\">\n",
       "      <th></th>\n",
       "      <th>IDF</th>\n",
       "    </tr>\n",
       "  </thead>\n",
       "  <tbody>\n",
       "    <tr>\n",
       "      <th>맛있어</th>\n",
       "      <td>0.693147</td>\n",
       "    </tr>\n",
       "    <tr>\n",
       "      <th>맛있으면</th>\n",
       "      <td>0.693147</td>\n",
       "    </tr>\n",
       "    <tr>\n",
       "      <th>바나나</th>\n",
       "      <td>0.693147</td>\n",
       "    </tr>\n",
       "    <tr>\n",
       "      <th>빨간건</th>\n",
       "      <td>0.693147</td>\n",
       "    </tr>\n",
       "    <tr>\n",
       "      <th>빨개</th>\n",
       "      <td>0.693147</td>\n",
       "    </tr>\n",
       "    <tr>\n",
       "      <th>사과</th>\n",
       "      <td>0.287682</td>\n",
       "    </tr>\n",
       "    <tr>\n",
       "      <th>사과는</th>\n",
       "      <td>0.693147</td>\n",
       "    </tr>\n",
       "    <tr>\n",
       "      <th>엉덩이는</th>\n",
       "      <td>0.693147</td>\n",
       "    </tr>\n",
       "    <tr>\n",
       "      <th>원숭이</th>\n",
       "      <td>0.693147</td>\n",
       "    </tr>\n",
       "  </tbody>\n",
       "</table>\n",
       "</div>"
      ],
      "text/plain": [
       "           IDF\n",
       "맛있어   0.693147\n",
       "맛있으면  0.693147\n",
       "바나나   0.693147\n",
       "빨간건   0.693147\n",
       "빨개    0.693147\n",
       "사과    0.287682\n",
       "사과는   0.693147\n",
       "엉덩이는  0.693147\n",
       "원숭이   0.693147"
      ]
     },
     "execution_count": 57,
     "metadata": {},
     "output_type": "execute_result"
    }
   ],
   "source": [
    "idf_ = pd.DataFrame(result2, index=voca, columns=['IDF'])\n",
    "idf_"
   ]
  },
  {
   "cell_type": "code",
   "execution_count": 58,
   "metadata": {},
   "outputs": [
    {
     "data": {
      "text/html": [
       "<div>\n",
       "<style scoped>\n",
       "    .dataframe tbody tr th:only-of-type {\n",
       "        vertical-align: middle;\n",
       "    }\n",
       "\n",
       "    .dataframe tbody tr th {\n",
       "        vertical-align: top;\n",
       "    }\n",
       "\n",
       "    .dataframe thead th {\n",
       "        text-align: right;\n",
       "    }\n",
       "</style>\n",
       "<table border=\"1\" class=\"dataframe\">\n",
       "  <thead>\n",
       "    <tr style=\"text-align: right;\">\n",
       "      <th></th>\n",
       "      <th>맛있어</th>\n",
       "      <th>맛있으면</th>\n",
       "      <th>바나나</th>\n",
       "      <th>빨간건</th>\n",
       "      <th>빨개</th>\n",
       "      <th>사과</th>\n",
       "      <th>사과는</th>\n",
       "      <th>엉덩이는</th>\n",
       "      <th>원숭이</th>\n",
       "    </tr>\n",
       "  </thead>\n",
       "  <tbody>\n",
       "    <tr>\n",
       "      <th>0</th>\n",
       "      <td>0.000000</td>\n",
       "      <td>0.000000</td>\n",
       "      <td>0.000000</td>\n",
       "      <td>0.000000</td>\n",
       "      <td>0.693147</td>\n",
       "      <td>0.000000</td>\n",
       "      <td>0.000000</td>\n",
       "      <td>0.693147</td>\n",
       "      <td>0.693147</td>\n",
       "    </tr>\n",
       "    <tr>\n",
       "      <th>1</th>\n",
       "      <td>0.000000</td>\n",
       "      <td>0.000000</td>\n",
       "      <td>0.000000</td>\n",
       "      <td>0.693147</td>\n",
       "      <td>0.000000</td>\n",
       "      <td>0.287682</td>\n",
       "      <td>0.000000</td>\n",
       "      <td>0.000000</td>\n",
       "      <td>0.000000</td>\n",
       "    </tr>\n",
       "    <tr>\n",
       "      <th>2</th>\n",
       "      <td>0.693147</td>\n",
       "      <td>0.000000</td>\n",
       "      <td>0.000000</td>\n",
       "      <td>0.000000</td>\n",
       "      <td>0.000000</td>\n",
       "      <td>0.287682</td>\n",
       "      <td>0.693147</td>\n",
       "      <td>0.000000</td>\n",
       "      <td>0.000000</td>\n",
       "    </tr>\n",
       "    <tr>\n",
       "      <th>3</th>\n",
       "      <td>0.000000</td>\n",
       "      <td>0.693147</td>\n",
       "      <td>0.693147</td>\n",
       "      <td>0.000000</td>\n",
       "      <td>0.000000</td>\n",
       "      <td>0.000000</td>\n",
       "      <td>0.000000</td>\n",
       "      <td>0.000000</td>\n",
       "      <td>0.000000</td>\n",
       "    </tr>\n",
       "  </tbody>\n",
       "</table>\n",
       "</div>"
      ],
      "text/plain": [
       "        맛있어      맛있으면       바나나       빨간건        빨개        사과       사과는  \\\n",
       "0  0.000000  0.000000  0.000000  0.000000  0.693147  0.000000  0.000000   \n",
       "1  0.000000  0.000000  0.000000  0.693147  0.000000  0.287682  0.000000   \n",
       "2  0.693147  0.000000  0.000000  0.000000  0.000000  0.287682  0.693147   \n",
       "3  0.000000  0.693147  0.693147  0.000000  0.000000  0.000000  0.000000   \n",
       "\n",
       "       엉덩이는       원숭이  \n",
       "0  0.693147  0.693147  \n",
       "1  0.000000  0.000000  \n",
       "2  0.000000  0.000000  \n",
       "3  0.000000  0.000000  "
      ]
     },
     "execution_count": 58,
     "metadata": {},
     "output_type": "execute_result"
    }
   ],
   "source": [
    "result3 = []\n",
    "for i in range(N):\n",
    "    result3.append([])\n",
    "    d = docs[i]\n",
    "    for j in range(len(voca)):\n",
    "        t = voca[j]\n",
    "        result3[-1].append(tfidf(t, d))\n",
    "\n",
    "tfidf_ = pd.DataFrame(result3, columns=voca)\n",
    "tfidf_"
   ]
  },
  {
   "cell_type": "code",
   "execution_count": 59,
   "metadata": {},
   "outputs": [],
   "source": [
    "# 사이킷런을 통한 TF-IDF\n",
    "from sklearn.feature_extraction.text import CountVectorizer\n",
    "# 사실 이거 쓰면 짱빨리됨ㅎㅎ\n",
    "\n",
    "docs = [\n",
    "  '원숭이 엉덩이는 빨개',\n",
    "  '빨간건 사과',\n",
    "  '사과는 맛있어',\n",
    "  '맛있으면 바나나'\n",
    "]\n"
   ]
  },
  {
   "cell_type": "code",
   "execution_count": 60,
   "metadata": {},
   "outputs": [
    {
     "name": "stdout",
     "output_type": "stream",
     "text": [
      "{'원숭이': 8, '엉덩이는': 7, '빨개': 4, '빨간건': 3, '사과': 5, '사과는': 6, '맛있어': 0, '맛있으면': 1, '바나나': 2}\n",
      "[[0 0 0 0 1 0 0 1 1]\n",
      " [0 0 0 1 0 1 0 0 0]\n",
      " [1 0 0 0 0 0 1 0 0]\n",
      " [0 1 1 0 0 0 0 0 0]]\n"
     ]
    }
   ],
   "source": [
    "vector = CountVectorizer()\n",
    "vector.fit_transform(docs).toarray()\n",
    "print(vector.vocabulary_)\n",
    "print(vector.fit_transform(docs).toarray())"
   ]
  },
  {
   "cell_type": "code",
   "execution_count": 61,
   "metadata": {},
   "outputs": [
    {
     "data": {
      "text/plain": [
       "array([[0.        , 0.        , 0.        , 0.        , 0.57735027,\n",
       "        0.        , 0.        , 0.57735027, 0.57735027],\n",
       "       [0.        , 0.        , 0.        , 0.70710678, 0.        ,\n",
       "        0.70710678, 0.        , 0.        , 0.        ],\n",
       "       [0.70710678, 0.        , 0.        , 0.        , 0.        ,\n",
       "        0.        , 0.70710678, 0.        , 0.        ],\n",
       "       [0.        , 0.70710678, 0.70710678, 0.        , 0.        ,\n",
       "        0.        , 0.        , 0.        , 0.        ]])"
      ]
     },
     "execution_count": 61,
     "metadata": {},
     "output_type": "execute_result"
    }
   ],
   "source": [
    "from sklearn.feature_extraction.text import TfidfVectorizer\n",
    "\n",
    "tfidf_vectorizer = TfidfVectorizer()\n",
    "tfidf_matrix = tfidf_vectorizer.fit_transform(docs)\n",
    "tfidf_matrix.toarray()"
   ]
  },
  {
   "cell_type": "code",
   "execution_count": 62,
   "metadata": {},
   "outputs": [
    {
     "data": {
      "text/html": [
       "<div>\n",
       "<style scoped>\n",
       "    .dataframe tbody tr th:only-of-type {\n",
       "        vertical-align: middle;\n",
       "    }\n",
       "\n",
       "    .dataframe tbody tr th {\n",
       "        vertical-align: top;\n",
       "    }\n",
       "\n",
       "    .dataframe thead th {\n",
       "        text-align: right;\n",
       "    }\n",
       "</style>\n",
       "<table border=\"1\" class=\"dataframe\">\n",
       "  <thead>\n",
       "    <tr style=\"text-align: right;\">\n",
       "      <th></th>\n",
       "      <th>맛있어</th>\n",
       "      <th>맛있으면</th>\n",
       "      <th>바나나</th>\n",
       "      <th>빨간건</th>\n",
       "      <th>빨개</th>\n",
       "      <th>사과</th>\n",
       "      <th>사과는</th>\n",
       "      <th>엉덩이는</th>\n",
       "      <th>원숭이</th>\n",
       "    </tr>\n",
       "  </thead>\n",
       "  <tbody>\n",
       "    <tr>\n",
       "      <th>0</th>\n",
       "      <td>0.000000</td>\n",
       "      <td>0.000000</td>\n",
       "      <td>0.000000</td>\n",
       "      <td>0.000000</td>\n",
       "      <td>0.57735</td>\n",
       "      <td>0.000000</td>\n",
       "      <td>0.000000</td>\n",
       "      <td>0.57735</td>\n",
       "      <td>0.57735</td>\n",
       "    </tr>\n",
       "    <tr>\n",
       "      <th>1</th>\n",
       "      <td>0.000000</td>\n",
       "      <td>0.000000</td>\n",
       "      <td>0.000000</td>\n",
       "      <td>0.707107</td>\n",
       "      <td>0.00000</td>\n",
       "      <td>0.707107</td>\n",
       "      <td>0.000000</td>\n",
       "      <td>0.00000</td>\n",
       "      <td>0.00000</td>\n",
       "    </tr>\n",
       "    <tr>\n",
       "      <th>2</th>\n",
       "      <td>0.707107</td>\n",
       "      <td>0.000000</td>\n",
       "      <td>0.000000</td>\n",
       "      <td>0.000000</td>\n",
       "      <td>0.00000</td>\n",
       "      <td>0.000000</td>\n",
       "      <td>0.707107</td>\n",
       "      <td>0.00000</td>\n",
       "      <td>0.00000</td>\n",
       "    </tr>\n",
       "    <tr>\n",
       "      <th>3</th>\n",
       "      <td>0.000000</td>\n",
       "      <td>0.707107</td>\n",
       "      <td>0.707107</td>\n",
       "      <td>0.000000</td>\n",
       "      <td>0.00000</td>\n",
       "      <td>0.000000</td>\n",
       "      <td>0.000000</td>\n",
       "      <td>0.00000</td>\n",
       "      <td>0.00000</td>\n",
       "    </tr>\n",
       "  </tbody>\n",
       "</table>\n",
       "</div>"
      ],
      "text/plain": [
       "        맛있어      맛있으면       바나나       빨간건       빨개        사과       사과는  \\\n",
       "0  0.000000  0.000000  0.000000  0.000000  0.57735  0.000000  0.000000   \n",
       "1  0.000000  0.000000  0.000000  0.707107  0.00000  0.707107  0.000000   \n",
       "2  0.707107  0.000000  0.000000  0.000000  0.00000  0.000000  0.707107   \n",
       "3  0.000000  0.707107  0.707107  0.000000  0.00000  0.000000  0.000000   \n",
       "\n",
       "      엉덩이는      원숭이  \n",
       "0  0.57735  0.57735  \n",
       "1  0.00000  0.00000  \n",
       "2  0.00000  0.00000  \n",
       "3  0.00000  0.00000  "
      ]
     },
     "execution_count": 62,
     "metadata": {},
     "output_type": "execute_result"
    }
   ],
   "source": [
    "df_tfidf = pd.DataFrame(tfidf_matrix.toarray(), columns=voca)\n",
    "df_tfidf"
   ]
  },
  {
   "cell_type": "markdown",
   "metadata": {},
   "source": [
    "## 4. 텍스트 임베딩 (Word2Vec)\n",
    "1. CBOW\n",
    "2. Skip-gram"
   ]
  },
  {
   "cell_type": "code",
   "execution_count": 63,
   "metadata": {},
   "outputs": [],
   "source": [
    "# 넘파이 지우기 pip uninstall numpy\n",
    "# 넘파이 재설치하기 pip install numpy==1.24.4\n",
    "# gensim 설치하기 pip install gensim==3.4.0\n",
    "# scipy 지우기 pip uninstall scipy\n",
    "# scipy 설치하기 pip install scipy==1.9.3"
   ]
  },
  {
   "cell_type": "code",
   "execution_count": 64,
   "metadata": {},
   "outputs": [],
   "source": [
    "from gensim.models import Word2Vec\n",
    "\n",
    "sentences = [\n",
    "    ['the', 'cat', 'is', 'on', 'the', 'mat'],\n",
    "    ['dogs', 'are', 'in', 'the', 'garden'],\n",
    "    ['we', 'love', 'playing', 'with', 'our', 'pets']\n",
    "]\n"
   ]
  },
  {
   "cell_type": "code",
   "execution_count": 65,
   "metadata": {},
   "outputs": [],
   "source": [
    "# 다 설치하고 업데이트!!!\n",
    "# !pip install --upgrade gensim"
   ]
  },
  {
   "cell_type": "code",
   "execution_count": 66,
   "metadata": {},
   "outputs": [
    {
     "data": {
      "text/plain": [
       "[('with', 0.17826786637306213),\n",
       " ('pets', 0.16072483360767365),\n",
       " ('garden', 0.10560770332813263),\n",
       " ('on', 0.09215974807739258),\n",
       " ('is', 0.027008360251784325),\n",
       " ('we', 0.00773055013269186),\n",
       " ('the', -0.037719566375017166),\n",
       " ('are', -0.045522745698690414),\n",
       " ('dogs', -0.04649786278605461),\n",
       " ('mat', -0.05902623012661934)]"
      ]
     },
     "execution_count": 66,
     "metadata": {},
     "output_type": "execute_result"
    }
   ],
   "source": [
    "cbow_model = Word2Vec(sentences, vector_size=100, window=5, min_count=1, sg=0)\n",
    "cbow_model.wv.most_similar('cat')"
   ]
  },
  {
   "cell_type": "code",
   "execution_count": 67,
   "metadata": {},
   "outputs": [
    {
     "data": {
      "text/plain": [
       "[('with', 0.17826786637306213),\n",
       " ('pets', 0.16072483360767365),\n",
       " ('garden', 0.10560770332813263),\n",
       " ('on', 0.09215974807739258),\n",
       " ('is', 0.027008360251784325),\n",
       " ('we', 0.00773055013269186),\n",
       " ('the', -0.037719566375017166),\n",
       " ('are', -0.045522745698690414),\n",
       " ('dogs', -0.04649786278605461),\n",
       " ('mat', -0.05902623012661934)]"
      ]
     },
     "execution_count": 67,
     "metadata": {},
     "output_type": "execute_result"
    }
   ],
   "source": [
    "skip_gram_model = Word2Vec(sentences, vector_size=100, window=5, min_count=1, sg=1)\n",
    "skip_gram_model.wv.most_similar('cat')"
   ]
  },
  {
   "cell_type": "markdown",
   "metadata": {},
   "source": [
    "\n",
    "## 🌼마무리 문제\n",
    "\n",
    "아래 문제들을 풀어보세요!\n",
    "\n",
    "Q1. 음식점 리뷰 데이터를 다운로드받고 불러오세요!"
   ]
  },
  {
   "cell_type": "code",
   "execution_count": 68,
   "metadata": {},
   "outputs": [],
   "source": [
    "# pip install kagglehub"
   ]
  },
  {
   "cell_type": "code",
   "execution_count": 69,
   "metadata": {},
   "outputs": [],
   "source": [
    "# pip install kaggle"
   ]
  },
  {
   "cell_type": "code",
   "execution_count": 70,
   "metadata": {},
   "outputs": [
    {
     "name": "stdout",
     "output_type": "stream",
     "text": [
      "Warning: Looks like you're using an outdated `kagglehub` version, please consider updating (latest version: 0.3.4)\n",
      "설치 파일 경로: C:\\Users\\RMARKET\\.cache\\kagglehub\\datasets\\ninetyninenewton\\kr3-korean-restaurant-reviews-with-ratings\\versions\\1\n"
     ]
    }
   ],
   "source": [
    "# 캐글에서 데이터 다운로드\n",
    "import kagglehub\n",
    "path = kagglehub.dataset_download(\"ninetyninenewton/kr3-korean-restaurant-reviews-with-ratings\")\n",
    "\n",
    "print(\"설치 파일 경로:\", path)"
   ]
  },
  {
   "cell_type": "code",
   "execution_count": 71,
   "metadata": {},
   "outputs": [
    {
     "data": {
      "text/html": [
       "<div>\n",
       "<style scoped>\n",
       "    .dataframe tbody tr th:only-of-type {\n",
       "        vertical-align: middle;\n",
       "    }\n",
       "\n",
       "    .dataframe tbody tr th {\n",
       "        vertical-align: top;\n",
       "    }\n",
       "\n",
       "    .dataframe thead th {\n",
       "        text-align: right;\n",
       "    }\n",
       "</style>\n",
       "<table border=\"1\" class=\"dataframe\">\n",
       "  <thead>\n",
       "    <tr style=\"text-align: right;\">\n",
       "      <th></th>\n",
       "      <th>Rating</th>\n",
       "      <th>Review</th>\n",
       "    </tr>\n",
       "  </thead>\n",
       "  <tbody>\n",
       "    <tr>\n",
       "      <th>124388</th>\n",
       "      <td>1</td>\n",
       "      <td>삼겹만 먹다가 목살 먹었어요 냉면에   역시 저기압일 땐 고기 앞으로 가야쥬 잘 먹...</td>\n",
       "    </tr>\n",
       "    <tr>\n",
       "      <th>633594</th>\n",
       "      <td>2</td>\n",
       "      <td>가볼만해요 맛있더라고요</td>\n",
       "    </tr>\n",
       "    <tr>\n",
       "      <th>393430</th>\n",
       "      <td>0</td>\n",
       "      <td>새로 생겨서 가봤는데 생각보다는 별로였네요  라테 종류는 맛있었는데 아메리카노는 산...</td>\n",
       "    </tr>\n",
       "    <tr>\n",
       "      <th>547587</th>\n",
       "      <td>1</td>\n",
       "      <td>사람들이 너무 많아서 주변 분위기가 너무 시끄러웠다.. 이야기를 하기 위해서는 목청...</td>\n",
       "    </tr>\n",
       "    <tr>\n",
       "      <th>125026</th>\n",
       "      <td>1</td>\n",
       "      <td>밑에 뚜아앙 정신 차려라 세종에서 이 정도면 서비스 맛 다 좋은 편이다</td>\n",
       "    </tr>\n",
       "    <tr>\n",
       "      <th>...</th>\n",
       "      <td>...</td>\n",
       "      <td>...</td>\n",
       "    </tr>\n",
       "    <tr>\n",
       "      <th>216066</th>\n",
       "      <td>1</td>\n",
       "      <td>음료와 디저트가 좀 비싸고 카페 가는 길이 좀 힘들긴 해요 그래도 그게 잊힐 만큼 ...</td>\n",
       "    </tr>\n",
       "    <tr>\n",
       "      <th>166832</th>\n",
       "      <td>1</td>\n",
       "      <td>건강빵에 눈을 뜬 곳  건강빵도 맛있다는 걸 알게 됐어요   다른 빵보다 건강빵 등...</td>\n",
       "    </tr>\n",
       "    <tr>\n",
       "      <th>369894</th>\n",
       "      <td>1</td>\n",
       "      <td>600번째 리뷰는 늦었지만 화이트데이 기념으로 방문한 테이블 포포! Popo가 아니...</td>\n",
       "    </tr>\n",
       "    <tr>\n",
       "      <th>179061</th>\n",
       "      <td>0</td>\n",
       "      <td>양도 별로고 맛도 없고 원수 친구가 간다 해도 말릴 거 같아요. 그리고 컵이 약간 ...</td>\n",
       "    </tr>\n",
       "    <tr>\n",
       "      <th>323012</th>\n",
       "      <td>1</td>\n",
       "      <td>깔끔하고 어른들이 좋아하실만한 맛 외국인들도 많이 옴</td>\n",
       "    </tr>\n",
       "  </tbody>\n",
       "</table>\n",
       "<p>1000 rows × 2 columns</p>\n",
       "</div>"
      ],
      "text/plain": [
       "        Rating                                             Review\n",
       "124388       1  삼겹만 먹다가 목살 먹었어요 냉면에   역시 저기압일 땐 고기 앞으로 가야쥬 잘 먹...\n",
       "633594       2                                       가볼만해요 맛있더라고요\n",
       "393430       0  새로 생겨서 가봤는데 생각보다는 별로였네요  라테 종류는 맛있었는데 아메리카노는 산...\n",
       "547587       1  사람들이 너무 많아서 주변 분위기가 너무 시끄러웠다.. 이야기를 하기 위해서는 목청...\n",
       "125026       1            밑에 뚜아앙 정신 차려라 세종에서 이 정도면 서비스 맛 다 좋은 편이다\n",
       "...        ...                                                ...\n",
       "216066       1  음료와 디저트가 좀 비싸고 카페 가는 길이 좀 힘들긴 해요 그래도 그게 잊힐 만큼 ...\n",
       "166832       1  건강빵에 눈을 뜬 곳  건강빵도 맛있다는 걸 알게 됐어요   다른 빵보다 건강빵 등...\n",
       "369894       1  600번째 리뷰는 늦었지만 화이트데이 기념으로 방문한 테이블 포포! Popo가 아니...\n",
       "179061       0  양도 별로고 맛도 없고 원수 친구가 간다 해도 말릴 거 같아요. 그리고 컵이 약간 ...\n",
       "323012       1                      깔끔하고 어른들이 좋아하실만한 맛 외국인들도 많이 옴\n",
       "\n",
       "[1000 rows x 2 columns]"
      ]
     },
     "execution_count": 71,
     "metadata": {},
     "output_type": "execute_result"
    }
   ],
   "source": [
    "# 다운받은 경로에 접근하여 csv로 읽어오기\n",
    "import pandas as pd\n",
    "df = pd.read_csv('C:/Users/RMARKET/.cache/kagglehub/datasets/ninetyninenewton/kr3-korean-restaurant-reviews-with-ratings/versions/1/kr3.tsv', sep='\\t', encoding='utf-8')\n",
    "restaurants = df.sample(n=1000, random_state=42)\n",
    "# 데이터가 너무 커요~ 랜덤으로 1000개정도만 가져와봅시다\n",
    "restaurants"
   ]
  },
  {
   "cell_type": "markdown",
   "metadata": {},
   "source": [
    "Q2. 리뷰의 길이와 평점 사이의 관계를 분석해보세요\n",
    "\n",
    "1. 각 리뷰의 문자 수나 단어 수를 계산해보세요.\n",
    "2. 평점에 따른 리뷰의 평균 길이를 계산하여, 평점이 높은 리뷰와 평점이 낮은 리뷰의 길이 차이를 비교해보고 시각화해보세요"
   ]
  },
  {
   "cell_type": "code",
   "execution_count": 72,
   "metadata": {},
   "outputs": [
    {
     "name": "stdout",
     "output_type": "stream",
     "text": [
      "리뷰 길이 평균은 133.315 입니다.\n"
     ]
    }
   ],
   "source": [
    "length = []\n",
    "\n",
    "for r in restaurants['Review']:\n",
    "    length.append(len(r))\n",
    "\n",
    "avg = sum(length) / len(length)\n",
    "\n",
    "print(f'리뷰 길이 평균은 {sum(length) / len(length)} 입니다.')"
   ]
  },
  {
   "cell_type": "code",
   "execution_count": 73,
   "metadata": {},
   "outputs": [
    {
     "name": "stdout",
     "output_type": "stream",
     "text": [
      "짧은 리뷰 평균 평점: 1.2237960339943343\n",
      "긴 리뷰 평점: 1.0952380952380953\n"
     ]
    }
   ],
   "source": [
    "short = []\n",
    "long = []\n",
    "\n",
    "for index, row in restaurants[['Rating', 'Review']].iterrows():\n",
    "    rate = row['Rating']\n",
    "    review = row['Review']\n",
    "    \n",
    "    if len(review) < avg:\n",
    "        short.append(rate)\n",
    "    else:\n",
    "        long.append(rate)\n",
    "\n",
    "print(f'짧은 리뷰 평균 평점: {sum(short)/len(short)}\\n긴 리뷰 평점: {sum(long)/len(long)}')"
   ]
  },
  {
   "cell_type": "code",
   "execution_count": 74,
   "metadata": {},
   "outputs": [
    {
     "name": "stdout",
     "output_type": "stream",
     "text": [
      "짧은 리뷰: {0: 65, 1: 418, 2: 223} \n",
      "긴 리뷰: {0: 35, 1: 196, 2: 63}\n"
     ]
    }
   ],
   "source": [
    "short_score = {0:0, 1:0, 2:0}\n",
    "long_score = {0:0, 1:0, 2:0}\n",
    "\n",
    "for s in short:\n",
    "    if s == 0:\n",
    "        short_score[0] += 1\n",
    "    elif s == 1:\n",
    "        short_score[1] += 1\n",
    "    elif s == 2:\n",
    "        short_score[2] += 1\n",
    "    else:\n",
    "        print('뭔가 잘못됨')\n",
    "\n",
    "for l in long:\n",
    "    if l == 0:\n",
    "        long_score[0] += 1\n",
    "    elif l == 1:\n",
    "        long_score[1] += 1\n",
    "    elif l == 2:\n",
    "        long_score[2] += 1\n",
    "    else:\n",
    "        print('뭔가 잘못됨')\n",
    "\n",
    "print(f'짧은 리뷰: {short_score} \\n긴 리뷰: {long_score}')"
   ]
  },
  {
   "cell_type": "code",
   "execution_count": 75,
   "metadata": {},
   "outputs": [
    {
     "name": "stdout",
     "output_type": "stream",
     "text": [
      "짧은 리뷰 0점 비율: 0.09, 1점 비율: 0.59, 2점 비울: 0.32\n",
      "긴 리뷰 0점 비율: 0.12, 1점 비율: 0.67, 2점 비율: 0.21\n"
     ]
    }
   ],
   "source": [
    "print(f'짧은 리뷰 0점 비율: {short_score[0]/len(short):.2f}, 1점 비율: {short_score[1]/len(short):.2f}, 2점 비울: {short_score[2]/len(short):.2f}')\n",
    "print(f'긴 리뷰 0점 비율: {long_score[0]/len(long):.2f}, 1점 비율: {long_score[1]/len(long):.2f}, 2점 비율: {long_score[2]/len(long):.2f}')"
   ]
  },
  {
   "cell_type": "markdown",
   "metadata": {},
   "source": [
    "- 짧은 리뷰가 높은 점수를 더 잘 주는 경향이 있다"
   ]
  },
  {
   "cell_type": "markdown",
   "metadata": {},
   "source": [
    "Q2. 평점에 따라 리뷰에서 자주 등장하는 단어를 분석해보세요\n",
    "\n",
    "1. 리뷰데이터를 전처리하고 자유로운 방법으로 토큰화를 수행해보세요\n",
    "2. 토큰화된 단어들의 빈도수를 계산하고 가장 많이 등장한 단어들을 bar그래프로 시각화해보세요"
   ]
  },
  {
   "cell_type": "code",
   "execution_count": 76,
   "metadata": {},
   "outputs": [
    {
     "data": {
      "text/plain": [
       "['삼겹만 먹다가 목살 먹었어요 냉면에   역시 저기압일 땐 고기 앞으로 가야쥬 잘 먹었습니다',\n",
       " '가볼만해요 맛있더라고요',\n",
       " '새로 생겨서 가봤는데 생각보다는 별로였네요  라테 종류는 맛있었는데 아메리카노는 산미가 강하기도 하고 맛이 좀 따로 노는 느낌이었습니다 아인슈페너는 예쁘고 크림도 맛있었는데 아무래도 너무 크림이 되직하다 보니 마시기에는 불편했고 좀 느끼해서 다 마시기도 힘들었어요 베이커리류는 가게 카운터 앞에 그냥 진열되어있는데 예쁘기는 해도 위생상 안 좋아 보였어요 초코쿠키는 만든 지 너무 오래된 것 같이 딱딱하고 약간 덜 익은 느낌이라 먹고 당황했네요 투명 케이스라도 덮어두면 더 나을 것 같네요 실내는 예쁘고 넓은데 그만큼 시끄럽고 또 음악소리도 너무 커서 오래 앉아있다는 힘들었습니다 전반적으로 외관에만 치중한 것 같아서 아쉬웠습니다',\n",
       " '사람들이 너무 많아서 주변 분위기가 너무 시끄러웠다 이야기를 하기 위해서는 목청을 높여야 했다 음식점 분위기는 별로',\n",
       " '밑에 뚜아앙 정신 차려라 세종에서 이 정도면 서비스 맛 다 좋은 편이다',\n",
       " '회기역 근처에 있는 족발보쌈 맛 집 시에 갔는데도 많은 손님들로 북적였다 족발보다는 보쌈이 유명하다 해서 보쌈 중 사이즈로 시켰다 고기는 평범한 거 같은데 보쌈김치와 그 위에 올려진 양념이 이 집의 점수인 듯 김치는 깍둑 썬 생고구마와 무를 돌돌 말은 형태로 나오는데 배로 만든 달달한 양념과 너무나도 잘 어우러진다 다른 테이블 여기저기서 보쌈김치 추가 주문이 계속 나온다 보쌈에서 김치의 중요성을 새삼 다시 느끼게 됐다',\n",
       " '치즈 성애자들 환장할만한 곳',\n",
       " '핵존맛탱집이에요  진짜 너무 맛있어요 여기서 먹고 다른 데서 곱창이나 막창 먹으면 맛이 좀 심심하게 느껴져요 추천합니다  가격이 좀만 쌌으면 하는 바람',\n",
       " '성북동에 위치한 알렉스 더 커피 랩 분점 건축사무소와 같이 운영되는 듯한 이 카페는 정원이 아름다운 곳이다 플랫 화이트를 먹고 싶었으나 메뉴에 없어 비슷하다고 추천받은 라테 와 아이스 아메리카노 그리고 초코 퍼지를 주문하였다 이곳의 커피는 고소함이 주무기인듯한데 우유가 들어가지 않은 커피도 충분히 고소해 라테로 마시면 조금 느끼한 감이 있다 초코 퍼지는 마시멜로와 같이 오븐에 구워져 아이스크림과 함께 나오는데 부족한 당을 충전해준다 양은 적어 입가심용 정도로 적당 정원은 매우 아름다우나 모기가 많아 실내에서 즐기는 것만으로도 충분히 운치가 있다 카페 직원들은 모두 친절하였으나 발레 해주는 분은 불친절 역에서 엄청 먼 것은 아니므로 편한 신발을 신고 성북동 산책을 하며 카페에 방문하는 것도 나쁘지 않겠다',\n",
       " '최고 맛있는 집을 찾았어요',\n",
       " '착한 가격 쩔 시키는 메뉴 족족 다 맛있음 안 가봤으면 말을 말라 짱 이집 알려지면 웬만한 라멘 가게들 문 다 닫아야 함',\n",
       " '오랜만에 버터 핑거 왔는데 변한 게 없다 달콤한 냄새 메이플 시럽 올려먹으니 꿀맛',\n",
       " '다양한 맥주를 마실 수 있어요 분위기도 좋고 안주도 맛있어 추천해요',\n",
       " '저는 너무 좋아하는 집입니다 제주도 갈 때마다 들르는 집이에요 제주도에 년에 번은 가는데 매번 가요  단점이라면 통화하기가 너무 힘들어요  짧게는 통 정도에서 길게는 통 이상 시도해서 거우 연결함  오늘도 갔는데 예약시간보다 좀 일찍 도착해서 기다리던 중 어떤 손님이 개 주문했는데 오다가 뭘 좀 먹어서 ',\n",
       " '생일날 저녁 예약하고 갔는데 전화 한 통 없이 문이 닫혀있었음 식당 운영 태도가 최악이네요 예약을 받지 말던가 사정이 있으면 연락을 줬어야 하는 게 정상 아닌가요',\n",
       " '천천히 마을 한 바퀴 돌고 싶었다  들어가자마자 예뻐 예뻐 소리가 절로 나옴 ',\n",
       " '리뷰 쓰다가 다른 어플 키니까 리뷰 쓰던 거 삭제되었는데 쓰기 귀찮다 쑥 맛 개존맛 엄청 찐해서 너무 좋아요 눈 떠지는 맛 쑥 맛 먹으면 따랏따랏따따따 짜릿짜릿할 거다',\n",
       " '여기는 맥주창고처럼 음식 반입 허락해줘야 돼 안주 실화 시원한 맥주 때문에 별점 그나마 두 개 드림',\n",
       " '요즘 프랜차이즈 삼겹살집 많이 생기는데 이곳 돼지고기 정말 맛있음 입가심으로 먹은 돼지갈비도 밥도둑 제주돼지라 그런가 조금 비싸긴 하지만 일일이 구워주셔서 편하게 먹을 수 있다 게다가 한꺼번에 구워주는 게 아니라 조금씩 구워주셔서 정말 감동이었다',\n",
       " '두 번째 방문입니다 역시나 기대를 저버리지 않네요 머 하나 부족함 없는 식사였습니다 친절한 대응과 가 선비 있는 요리 크리스마스나 기념일같이 하셔도 손색이 없을 것 같습니다 티본과 와규 등심 스테이크 둘 다 색다른 고기 맛이 인상적이었습니다 쵸리조 파스타 역시 짭조름하고 매콤함이 좋았습니다 강추합니다',\n",
       " '곤이 이리밖에 안 든 해물탕 꽃게는 다리길이 합쳐봐야 사람 몸통만 한 작은 국물용 게였고 오징어 반 토막 그 와중에 다리도 안 들었습니다 문어는 못 본 것 같고 낙지도 너무 작아서 있는지도 몰랐네요 미더덕 비싸서 오만둥이 쓰는 건 이해하는데 적정량은 넣어줘야 하는 것 아닌가요 오만둥이 다 뒤져서 다섯 마리 찾았습니다 미나리 반 줌도 안 들어가고 조개도 거의 없고 아구도 꼬리 한 도막 나머지는 아구 가죽만 있더군요 해물 양이 부족하니 당연히 맛이 안 나고 그걸 보충하려고 해물 다시 다를 잔뜩 집어넣었는지 매운 음식인데도 느끼한 맛부터 느껴집니다 해물칼국수도 매한가지고요 오히려 맑은 국물이라 다시다 맛이 더 많이 나네요 살다 살다 어버이날 기념 식사에 이런 걸 먹어봅니다 돈 쓰고 죄송한 건 또 오랜만이네요 예전엔 안 이랬다는데 초심을 잃은 겁니까 주인장이 바뀐 겁니까 돈 쓴 게 아까워서 먹다가 반절도 안 먹고 손을 놔서 사진은 못 찍었네요',\n",
       " '숙성 스시의 원탑 타쿠미곤 네타가 샤리의 풍미를 넘어서 입안을 가득 채움 조용한 화려함을 느낄 수 있는 곳 익숙한 네타에서 새로운 맛을 느낄 수 있음 접객 훌륭하고 더할 나위 없음 다만 색이 강하다 보니 개인 취향에 따라 극과 극일 수 있음 물론 난 극화 깊은 숙성에서 우러나오는 꼼꼼함이 싫으신 분들에게는 비추 그러나 사실 뱃다라즈케가 훌륭해서 입가심하면 해결 가능 오마카세 구성이 완급조절을 잘 하는 느낌이다 정신 차려보면 계산하고 있음 결론은 향과 맛이 강한 것을 좋아하는 사람에게는 강력히 추천함',\n",
       " '유명한 크림치즈 바게트와 새우 바게트 샀어요 둘 다 맛있어요',\n",
       " '도미와 야채 진짜 만족스러워요',\n",
       " '매덕스 신사점은 처음인데 웨이팅 없어서 좋았다 매덕스는 조각이 엄청 커서 조금만 시켜야 하는데 둘이서 개 시키고 절반 남김 둘이 가면 조각으로 충분하다 마르게리타 뭐 시킬지 고민된다면 마르게리타로 무난하게 성공할 수 있다 싱싱하지는 않고 미국식 피자답게 짭조름하고 기름기도 있지만 제일 맛있었다 그린 초리소 네모 피자 네모 조각은 다른 도우보다 푹신한 것 같다 초기 조는 다른 피자집에서 잘 못 봐서 매덕스에 오면 주문한다 맵지 않고 익힌 초록 고추가 생각보다 피자에 잘 어울린다 맥인 치즈 베이컨 마카로니 치즈와 도우 사이에 붉은색 소스가 들어있어서 덜 느끼하다 베이컨도 짭조름해서 맛있다 페퍼로니 짠맛이 강해서 페퍼로니 덕후는 좋아할 듯 맛있었다',\n",
       " '주변에 회사가 많아서 그런지 점심시간에 맞추면 앉을 곳이 부족합니다 맥도날드 번이 바뀌어서 더 맛있는듯해요 맥도날드 앱에 매주 주는 쿠폰 사용해서 저렴하게 먹었습니다',\n",
       " '여기 빙수 이름이 진짜 귀여워요 팥드라슈 프랜차이즈 빙수 치고도 맛있는 편이고',\n",
       " '회식으로 갔었는데 모임 장소로 매우 좋을 것 같아요 분위기도 그렇고 깔끔 샐러드 바는 종류가 아주 많은 것은 아니었으나 있을 건 다 있어서 나름 만족스러웠고 서빙해주시는 고기도 다 맛있더라고요 따로 판매하고 있는 조각 케이크도 진짜 맛있었다는 다만 뷔페를 원래 별로 안 좋아하는 저로서는 가격 대비 만족도는 잘 제 돈 주고 또 갈지는 잘 모르겠어요',\n",
       " '브런치 주문하려니 웨이팅이 한 시간 반 결국 빵 먹어요  엄청 시끄럽고 사람 많아요',\n",
       " '한 시 즈음에 도착하니 유명 메뉴는 다 팔렸더라고요 하는 수 없이 당근이랑 무화과 사서 먹어봤는데 그냥 빵 자체가 엄청 엄청 맛있어요 특히 무화과 좋아하는 어머니가 굉장히 좋아하셨고요 조금 당황스러운 건 한 번에 한 팀 입장이라 저희 뒤에 오신 분들이 저희가 뭘 살지 보고 있는 중에 밖에서 기다리고 계셔서 괜히 죄송했습니다',\n",
       " '만 원에 코끝이 찡하게 구성비 좋은 식당입니다 젊은 서빙하시는 분들도 열심히 하는 거 보기 좋고요 대기 길다고 해서 차일피일 미뤘는데 기다릴 가치 있네요',\n",
       " '처음에는 진짜 맛있게 먹었는데 먹다 보니까 마라의 얼얼함이 너무 강했다 마라탕 처음 접하는 분들은 좀 힘들 듯해요 그래도 유린기는 정말 맛나요',\n",
       " '가락국수가 메인 음식으로서 손색이 없음을 느끼게 해주었다 가락국수의 생명은 면발 아니던가 면발은 탱글 하면서 매끄러워서 많은 양도 먹다 보면 후루룩 남김없이 다 먹고 나오게 됨  개인적으로 야마다 야보다 인상 깊었다 몇 번 더 가봐야 자세히 알겠지만 먹으면서도 다른 메뉴를 먹어보고 싶었기에 재방문 의사는  크로켓은 갈 때마다 시켜야 하는 사이드인 듯 장맛 메뉴는 순서대로 튀김 자루 가라아게붓가케 크로켓',\n",
       " '모둠 소시지 맘에 든 거 같아요',\n",
       " '포털에 검색했을 때는 없던 점심 특선이 있어 좋았고 포인트 적립도 해준다 깔끔하고 예쁜 분위기의 식사로 추천',\n",
       " '년에도 하늘 높은 줄 모르고 치솟는 물가 그럼에도 삼거리 먼지만 순댓국은 년에 한 번꼴로 원씩 찔끔찔끔 올랐어요 년 환으로 시작해서 년 원으로 인상되기까지 역사가 SMRUWLSPDUG',\n",
       " '모던한 느낌의 요즘 카페 말차 맛은 좋음 ',\n",
       " '사람이 그렇게 많을 줄 모르고 아무 생각 없이 두세시쯤 갔다가 어마어마한 인파를 보고 바로 포기하고 그 다음날 새벽에 가서 번호표를 받아서 들어갔어요 맛있어서 새벽부터 부지런히 움직인 보람이 있다고 생각했습니다 웨이팅을 최대한 피해서 한번 드셔보세요',\n",
       " '동네 장사치곤 너무 비싼 가격 효율적이지 못한 시간  굳이 갈 필요가 있는가   난 잘 모르겠다',\n",
       " '오이소박이국수 김치만두 칼국수 오이소박이국수를 먹고 싶어서 찾아갔는데 오이소박이국수는 그저 그랬고 오히려 칼국수가 진하고 맛있었다 여름에는 고기만두를 팔지 않는다 해서 대신 시킨 김치만두는 생각보다 짠 편이어서 다 먹지 못하고 남겼다',\n",
       " '시 반 오픈이라고 했지만 무조건 시 분 시 사이에 가야 들어갈 수 있는 집 다행히 시 분에 가서 겨우 남은 두 자리에 앉았다 찐만두 군만두 일품 가지 양장피 네 가지를 먹었다 만두는 당연히 맛있었지만 일품 가지가 숨겨진 에이스다 가지를 좋아해서 하하의 가지 튀김 다른 중국집의 지상선 다 먹어봤지만 여기의 일품 가지가 일등이다 가지를 다른 데보다 조금 더 얇게 자르고 바삭하게 튀긴다기보다 찹쌀 반죽을 이용해 안을 가지 특유의 물컹함과 반죽의 쫄깃함이 잘 어울려진다 양념은 잡탕밥과 비슷한 매콤함이 나면서 탕수육 특유의 파인애플의 단맛이 잘 어우러져서 느끼하지가 않다 하하의 가지 튀김은 가지도 너무 두껍고 느끼했는데 이 일품 가지는 느끼하지 않고 매콤해서 만족스러웠다 양장피는 살짝 아쉬웠지만 다른 메뉴가 너무 세서 그런 거 같다 정말 만족',\n",
       " '불닭 정말 깔끔한 편이에요',\n",
       " '강남역에서는 보기 힘든 노포입니다 된장찌개가 기본 메뉴이고 청국장이나 목살 김치 된장도 비슷한데 맛이 괜찮습니다 찌개를 넣고 비벼 먹는 비빔밥으로 많이 먹는데 리필도 가능해서 아주 푸짐하게 한 끼 먹을 수 있는 곳입니다 강남역에 있는 식당이라고 하기에는 누추한 인테리어지만 괜찮은 가격에 배부르게 한 끼 먹기에 아주 좋은 곳입니다 보통 찌개를 먹으러 가는데 삼겹살이나 제육도 괜찮은 곳입니다',\n",
       " '주님이 먹여살려주시는 인생 김포공항 맛 집 송정역 맛 집 삼부 숯불구이  정말 맛있는 맛집 이 집을 알게 된 건 년 전쯤인 거 같은데 한 달에 한 번씩 꼭 생각나는 맛 집이에요 이런 게 진정한 맛집 아니겠습니꽈  외국 갔다가 인천공항으로 입국했는데 삼부 소갈빗살이 너무 먹고 싶어서  김포공항 가서 혼자 고기 구워 먹고 왔답니다 흫흫 그만큼 맛있는 맛 집이에요 저의 인생 맛 집  소갈빗살은 인분에 원 혼자 먹기에는 인분이 적당한 거 같아요 고기에 입맛을 살려주는 양념이 배어있는데 진짜 맛있어요 감칠맛 나는 맛 이런 맛이라고 딱 정의 내릴 수 없는데 입에 넣으면 아 이 맛이지 하는 맛 설명이 좀 이상한데 아무튼 말로 표현하기 힘든 맛있는 맛입니다 양 파 절임에 찍어 먹는 거 강추 소금 살짝 찍어 먹어도 맛있고 다 맛있쥬 하하하  다른 메뉴인 차돌박이 삼겹살도 먹어봤는데 여긴 갈빗살 맛 집입니다 갈빗살만 드세요 같이 나오는 버섯 떡도 너무 맛있어요쌈장 찍어 먹으면 꿀맛 또 먹고 싶네요 흑흑  고기도 맛있고 일하시는 분들도 넘넘 친절하세요 항상 성실하게 일하시는 게 느껴지고 넘넘 좋으시답니다 지금도 충분히 맛 집이지만 더더더 잘 되셨으면 좋겠네요 주차는 주변에 하시면 됩니다',\n",
       " '조미료를 안 써서 그런지 먹고 나서 속도 더부룩하지도 않고 너무 좋네요  헿 인테리어도 너무 귀엽고 계속 머물고 싶던 곳이에요',\n",
       " '먹어봐야 맛있는 걸 아는 집 강추',\n",
       " '괜찮아요 정말 정말 줄 서서 기다려서 먹을만한지는 개취요',\n",
       " '대접받는 식사네요 잘 먹고 갑니다 중문 맛 집 추천',\n",
       " '갈비찜이 제일 맛있는 집이에요 매콤 달콤하고 갈비도 야들야들한 게 취향 저격입니다',\n",
       " '초기 부자 피자랑 거의 흡사한 맛으로 느껴졌어요 도우가 쫄깃하고 좋은데 꼭 따뜻할 때 먹어야 맛있어요 대화하다가 식었을 때 먹으니 도우가 너무 눅눅해진 감이 있었습니다 분위기도 가정집 같아서 차분하고 좋아요',\n",
       " '번호표 받기 위해 우선 대기하고 번호표 받고서 음식 나올 때까지 기다려야 해요 식당 내에서 먹을 거면 번호표 바로 뽑고 대기하면 되고요 번호표 받는데 분 정도 기다렸던 것 같고 음식 픽업하기까지는 분 정도 두꺼운 방어회 비주얼만 보다가 먹어보니 너무 맛있었네요 웨이팅은 엄청나지만 먹어볼 만한 것 같아요 호점 맞은편에는 주차장이 있어서 자차를 이용하신다면 주차장에 차 세우고 번호표 받은 후에 차에서 대기해도 좋습니다',\n",
       " '오늘 라미띠에 런치 다녀왔습니다 근래에 다녀본 프렌치 중 오랜만에 느껴본 만족감입니다 모든 플레이트가 정갈하게 나왔고 한 시간 동안 조용한 분위기에서 음식을 즐겼습니다',\n",
       " '마제 소바 맛있음 자리 배치가 독특함 ',\n",
       " '양도 괜찮고 맛있음 소스도 다양하고 매장이 되게 크고 시끌벅적',\n",
       " '무난하며 괜찮습니다 가볼 만합니다',\n",
       " '매콤하고 달착지근한 년 전통의 안동찜닭 추천합니다',\n",
       " '부평에서 어쩌다 보니 들어가서 먹게 되었는데 파스타나 뭐 그런 거 판다 가게 분위기도 나쁘진 않고 약간 파이팅 넘치는 분위기 크림새우 파스타랑 찹스테이크 먹었는데 찹스테이크는 좀 짭짜름한 느낌이 있어서 약간 아쉬웠고 파스타도 그냥 맛있었다 완전 만족은 아닌데 무난했음 ',\n",
       " '지인이 여기 키조개 삼합이 유명하다 해서 먹었는데 진짜 키조개가 다른 데보다 배는 큰 거 같아요 국물도 기가 막히고 칼국수도 먹으니 배불러서 앞으로 자주 오게 될만한 집인 거 같네요',\n",
       " ' 딤섬이 유명한 신림동 중식당 중국집이라 하기에는 개별 룸도 있고 인테리어도 고급 지다  메뉴가 워낙 많아 다 시켜보진 못했지만 딤섬 짬뽕류 탕수육은 다 제값 이상의 맛',\n",
       " '우리나라 최고의 bbq 집이라는데 역시 정말 맛있었어요 일단 소스나 간의 맛이 심하지 않아서 고기 본연의 맛을 즐길 수 있어서 좋았어요 그리고 코울 실로 나 브로콜리도 맛있어서 좋았어요 저는 둘이서 베비 back rib 이랑 pulled pork 먹었는데 만족스러웠어요',\n",
       " '어렸을 때부터 단골이었던 대도식당 등심이 너무 맛있지만 반찬이 너무 적어서 아쉬웠다 깍두기 볶음밥은 비법을 알아내서 집어서도 해먹어 보고 싶은 맛이다',\n",
       " '오래 기다리다 먹었는데 가볼만해요',\n",
       " '커피도 맛있고 인테리어도 괜찮아요',\n",
       " '베스트 메뉴인 안심 쌀국수 양파절임 조금 넣고 고기랑 같이 스몰 시키면서 그냥 라지 시킬까 고민 많았는데 괜찮습니다',\n",
       " '잠깐만 지나쳤는데도 멸치육수 냄새가 장난 아니더라고요 제가 냄새쩐다구추천할만했던거 같다',\n",
       " '줄 서서 먹어봤는데 사람들이 기다렸다 먹는 기분을 알겠더라고요 맛있었어요',\n",
       " ' 맛  분위기  재방문의 사   쓰케멘 인기 맛 집   전포에 위치한 쓰케멘 맛 집   일본스러운 분위기와 라면 비주얼로 늘 인기 있는 식당 늘 웨이팅이 어마어마하다고 키오스크로 주문하면 되고 한 모금 맥주라고 원에 판매하는 맥주도 있어 한잔하기 딱 좋다 처음 방문하면 매운맛을 추가하는 것을 추천한다고 하는데 그냥 기본으로 한번 먹어봤다   사실 쓰케멘을 좋아하는 타입이 아닌데 나쁘지 않게 잘 먹었다 면이 엄청 쫄깃했고 간장베이스로 먹었는데 계속 먹다 보면 조금 간이 센듯했다 좀 짰음',\n",
       " '처음 갔을 때는 서비스와 맛 분위기 모두 만족하여 점이었으나 재방문 시에는 연남 카즈에 비계 부위가 반이고 기름도 덜 빠진 채로 있어 깜짝 놀랐습니다 모츠나 베도 음식 자체가 느끼한 탓인지 실망스러웠습니다 여전히 서비스는 좋았으나 맛의 기복이 심한듯하여 별 두 개 뺍니다',\n",
       " '웨이팅 해서 먹을 맛 존 맛',\n",
       " '오빠랑 경주 여행 가서 맛 집 찾아 고고 한 상 푸짐하게 먹을 수 있어서 너무 좋았어요',\n",
       " '한 번쯤은 먹을만한 곳 매장이 쪼금 협소하고 인기는 많은데 서빙하는 분은 한 분이라 매우 바쁘시다 보니 서비스는 그리 좋게 느껴지진 않음 조금 자극적인데 갈비찜이 넘나 부드러워 먹을만했다 얇디얇은 대학생 지갑으론 갈비찜 먹는다는 것만으로도 행복',\n",
       " '한판 보쌈 이거 이거 제일 맛있었다 착한 가격도 마음에 들고 XD',\n",
       " '곱창 양이 적고 크기가 상대적으로 자잘한 게 아쉬워요 ',\n",
       " '람보르 판매한 곳 여기 아닙니다 사격 중지',\n",
       " '역시 맛 집은 메뉴가 한 개 ',\n",
       " '지방에 잘 없는 프리미엄 돈가스를 먹을 수 있어서 좋았어요 가격도 서울에 비해서 저렴하고 맛도 있었습니다 다만 아르바이트생들이 너무 불친절하고 일하기 싫은 티가 팍팍 나서 손님이 눈치 보이는 그런 상황이랄까요 사장님 혼자 고군분투하시는 거 같아 안타까웠어요',\n",
       " '전복 크림 리소토 문어 파스타 한라봉 에이드 세 개다 맛있다 바다 앞이라 뷰도 괜찮고 밥 먹고 산책하기도 좋았다 재방문 의사 있음 ',\n",
       " '홍콩 퓨전 음식을 파는 곳이에요 일단 네온사인 등의 인테리어가 홍콩 느낌 물씬이에요 매장 규모는 생각보다 큰데 지하로 층까지 있어요 멘보샤와 홍콩 파스타 꿔바로우 가지 메뉴를 시켰어요 멘보샤는 너무 기름져서 별로였어요 홍콩 파스타는 마라 크림 파스타인데 이건 정말 여자들이 좋아할 만한 맛이에요 일단 마라 맛에 크림 꾸 덕에 여서 서비스로 같이 주신 꽃빵에 양념을 싹싹 긁어서 먹었어요 꿔바로우는 조금 얇은 편이에요 이것도 괜찮았습니다 밀크티 홍콩 음료 등도 팔아요 요즘 카페에 갈 수 없는데 음식 먹고 음료까지 한큐 마무리하고 왔습니다',\n",
       " '구운 인절미  홍시스무디  인사동 한편에 있는 전통 디저트 찻집 인사동 분위기에 맞는 편안하고 따뜻한 분위기 나름 합리적인 가격 맛은 평범 구운 인절미에 찍어 먹을 유자 꿀 과 계피 맛 꿀 을 주심 구운 인절미는 인절미 구운 맛이다 겉은 바삭해서 꿀 찍어 먹으면 달달한 맛 특별한 맛을 기대하고 가면 실망할 듯',\n",
       " '넓고 조용하며 경관이 좋아요 커피도 맛있고 디저트류도 맛있어요',\n",
       " '아메리카노 만족스러웠었어요',\n",
       " '유명한 이유가 있는 샌드위치 맛 집  특히 바질 크림 고구마 그릴 샌드위치 진짜 맛있습니다 그 자체로도 이미 맛있어버리는 밤고구마 좌르륵 늘어나는 치즈 감칠맛을 주는 베이컨 수프로 또 시키고 싶을 만큼 최고였던 바질 크림 재료들이 뭐 하나 빠짐없이 다 맛있고 그냥 끝장이었어요 이거 먹으러 얼른 또 가고 싶네요 같이 시킨 우가 파워 파니니도 맛있었어요 겉바속촉 파니니 빵 청경채 치즈 페스토 우삼겹 등 재료들의 맛 조합은 물론이고 약간 매콤한 것까지 너무 좋더라고요 전체적으로 음식도 분위기도 친절하신 사장님도 그냥 모두 맘에 드는 브런치 집이었습니다',\n",
       " '쏘 쏘 생각보다 나쁘지 않았고 나눠먹기 갠춘 담에는 찌개  고기  계란말이  시키기',\n",
       " '평양냉면을 많이 먹어본 건 아니지만 맛있었다 비싸긴 하지만 잘못하면 역한 고기 냄새가 나기 쉬운 평양냉면인데 특유의 냄새가 적고 깔끔하게 맛있었다 육수가 아주 진한 편은 아니지만 슴슴하게 자꾸 손이 가는 육수였다 편육은 맛있었지만 양이 적다 아 그리고 식전에 육수가 아닌 소바 집처럼 면 끓인 물을 주시는데 겨울에 따뜻하고 고소하게 맛있게 마셨다 아주머니분들도 친절하신 편이고 근처에 올 일이 있다면 괜찮은 선택일 듯',\n",
       " '갈 때마다 점점 곁들이찬과 회 종류 가짓수 퀄리티가 떨어지고 있네요 아무리 관광객 대상으로 하지만 개선해야 될 듯합니다 그래도 여전히 붐비는 게 신기합니다',\n",
       " '친구랑 가기 좋은 음식점이에요 분위기도 좋고 가격도 적당하고 피자 크기도 커서 한 조각만 먹어도 배불러요 생각보다 웨이팅도 금방 빠져요 항상 만족하는 맛 집입니다',\n",
       " '돈가스 샌드로 sns에서 유명해진 집 사진 찍기 예쁘게 나오는 프리미엄 분식들이 눈요기도 되면서 맛도 나름 괜찮아요 특히 살짝 매운맛 좋아하시는 분들은 떡볶이 메뉴 추천합니다 살짝 달달하면서 매콤한 맛이 매운맛 좋아하는 저에게 취향 저격 돈가스 샌드도 맛있어요 겉의 식빵은 평범하지만 안에 돈가스가 굉장히 두툼하면서 식감이 좋아요 소스도 적당히 달짝지근해서 누구나 좋아할 맛 담에 다른 메뉴도 먹어봐야겠어요 전 다섯시 반쯤 갔더니 웨이팅 없이 바로 먹었는데 저 들어오자마자 웨이팅 두 팀 정도 걸리더라고요 피크타임 피해서 가시길 한 번쯤 가볼 만한 레트로풍 분식집입니다',\n",
       " '맛있어요 단점은 가게가 좀 협소해요',\n",
       " '저녁시간에 가면 약간의 웨이팅이 있으나 회전율 좋은 편 양 꼬치와 칭따오는 기본이고 가지볶음 크림새우 유명하고 많이들 찾는 편 사진에 있는 건 크림새우지만 좀 느끼해서 어쩌다 시킨 레몬 새우가 훨씬 맛 좋음 조금 식었다 싶으면 양 꼬치 먹고 난 꼬치에 꽂아서 불에 데워먹으면 더 맛있음 ',\n",
       " '층이고 테이블 간 간격듀 넓어 쾌적해요 음식이 좀 늦어서 쓱 음료수를 주셨습니다 감동 라멘은 맛있는데 가츠 산도는 비추합니다 그리고 주방이 오픈되어있는데 어 어 엄청 깨끗해요 가본 라멘 집중에 제일 깨끗한 것 같아요 아마 깨끗해서 여러 번 재방문 할 것 같습니다  라멘은 맛있어요 닭 가슴살도 촉촉하고 부드럽습니다  그리고 너무 느끼하진 않지만 진한 육수에요 먹고 밥 말아 먹어도 맛있었어요 마제 소파 두 맛있는데 뭔가 면먹는 것보다 다시마 식초 넣고 밥 비벼 먹으니까 더 맛있었습니다 담에 가면 바로 식초 넣고 비벼 먹을 것 같아요 계란 노른자랑 식초랑 고기 조합이 너무 맛있습니다 가츠 산도는 튀김옷이랑 빵이랑 소스랑 고기가 모두 분리되는 경험을 할 수 있습니다 고기도 뭐랄까 제대로 손질이 안되어서 식감이 일정하지 못하고 맛이 없어요',\n",
       " '맛은 괜찮은데 가격이 너무 비싸다 강남에 있는 빵집도 아닌데 가격이 좀 합리적이면 좋겠다는 생각이 드는 집 맛이 막 엄청나요 할 정도는 아닌데 가격이 비싸 집 앞인데도 자주는 안 가게 되는 집',\n",
       " '서머를 맞이하며 계절이 참 중간이 없다 몇 주 전에는 출근 때 패딩을 입고 싶을 만큼 춥더라니 이제는 여름으로 넘어간 양 후덥지근해진 것 무엇 스프링 서머가 한 계절로 합쳐진 기분이 드는 건 왜일까 코로나를 조심하며 확진자가 되어버렸기 때문에 급작스레 닥친 서머에 아주 취약한 상태다 자연히 수시로 헉헉대며 찬 거 시원한 거를 찾게 되었고 냉소바 생각이 절실해져 재방문하게 되었다 소바 쿵 사람 생각 다 거기서 거기인 법 비슷하게 시원한 소바 냉가락 국수가 생각나 찾아온 것으로 보이는 분들이 많았다 내츄럴리 웨이팅 하게 되었는데 그래도 길진 않았음 십분 정도 뒤 바로 입장할 수 있었으니 처음 먹어보는 냉소바와 이 집 메뉴 중 최애인 토리 카라를 주문 소바부터 말하면 미나미 등에서 맛볼 수 있는 높은 메밀 함량의 진짜 메밀국수에 비해 향 식감은 확실히 쳐진다그러나 어려서부터 자주 먹어 익숙한 간간하고 시원한 한국식 소바 스타일이라 맛없는 건 또 아님 면도 분식집 소바보단 훨씬 나은 그래도 소바라 할 수준은 되기도 하고 짜기만 엄청 짜고 젤 중요한 면 맛이 처참했던 소바 식당의 소바보단 훨씬 나았다 토리 카라는 전 리뷰에서도 극찬했었던 이 집을 찾아오게 만드는 메뉴 중 하나다 고추냉이를 발라 전처리한 큼직한 닭 다리 살을 튀겨내 매콤향긋빠작한 것이 정말 맛있으니 아직 안 가보신 분들은 방문하게 되신다면 다른 건 몰라도 요 토리 카라는 꼭 드셔보시길 전반적으로 만족스러운 올봄여름 첫 소바였다 계산하고 나오며 쨍한 햇살을 직방으로 맞으면서도 웃음이 지어졌던 거 보면 확실하다 다들 늦지 않게 첫 소바로 갖춥시다 더위 견딜 힘',\n",
       " '남자친구가 엄청 잘 먹어요 히로시마풍 오코노미야키는 처음 먹었는데 다 먹고 나니까 남자친구가 오사카식 오코노미야키는 유사 오꼬노미야끼라면서 좋아하네요',\n",
       " '굉장히 오래전부터 합정에 상위권을 유지하고 있어서 엄청 궁금했었어요 게다가 라자냐 전문점이라니 이탈리안 레스토랑에서 라자냐를 파는 건 봤어도 라자냐를 전문적으로 파는 곳은 거의 못 봐서 신기했어요 기대를 물씬 안고 갔는데 역시나 웨이팅이 있었습니다 여섯시 좀 넘어서 기다리고 일곱시쯤 들어갔는데 벌써 클래식 라자냐가 솔드아웃이었어요 제일 먹고 싶었던 메뉴였는데 그래서 크림 라자냐랑 클래식 라자냐랑 같은 소스를 사용한다던 라구 파스타를 시켰는데 음 저는 기대만큼은 아니었어요 라구 파스타는 라구 소스가 생각보다 세지 않아서인지 면 자체는 좋았는데 면이랑 라구 소스랑 잘 어우러지지 않았던 것 같아요 뭔가 밍밍한 느낌 좀 더 맛이 강했으면 좋았을 것 같아요 크림 라자냐가 더 맛있긴 했는데 먹다 보니 너무 느끼해서 피클만 먹을 수밖에 없었습니다 디저트는 역시나 매우 맛있었어요첸토페르첸토에서도 디저트가 엄청 맛있었던 기억이 있는데 카밀로도 디저트가 맛있네요 서비스도 굉장히 좋고 엄청 친절하셨어요',\n",
       " '맛은 있는데 뭔가 다 섞으면 그 비주얼이 묘하게 역해져서 먹기가 싫다 분명 맛있는데 비주얼이 너무 싫음',\n",
       " '세꼬시를 먹으러 찾아갔는데 너무 뜬금없는 곳에 있는데도 사람들이 많이 찾아와서 맛 집이구나 싶었다 세꼬시가 식감이 아주 얇게 썰어져있어서 식감이 좋았다 물회는 첫맛은 새콤달콤한데 뒷맛은 된 줄 맛이 나서 자극적이지 않고 구수하고 맛있었다',\n",
       " '춘천 사는데 춘천에서보다 더 맛있게 잘 먹은 거 같아요 특히 치즈 닭갈비 진짜 너무 맛있어요 진짜 꼭 드셔보세요 ',\n",
       " '새우튀김도 맛나고 음식도 안 짜고 밥 양도 많아요',\n",
       " '부타동 신촌에서 좋아하는 가게들이 좀 있는 골목이라 공사할 때부터 점찍었다가 이제야 방문 전반적인 인상은 좋은 의미에서 모범생 같은 가게 부타 돌이란 메뉴를 잘 알지는 못하지만 충실하게 잘 만든 음식임을 느꼈다 비단 부타 동민이 아니라 가게 전반적으로 그런 기분을 느낄 수 있는데 젓가락부터 츠케모노까지도 신경을 쓴 테가 난다 딱 이만큼의 디테일에 대한 차이가 좋거나 평범하거나의 경험을 가르는 부분인데 아주 만족스러운 부분 살코기와 비계가 어우러진 고기에는 숯불의 향이 진하게 난다 고기 밑에 있는 따뜻한 밥도 더할 나위 없이 적절하다 신촌에서는 분명 매력적인 선택지가 될 수 있는 가게 아무튼 신촌 붐은 온다',\n",
       " '한방 진흙 오리구이 맛집 미덕원 보양식으로도 아주 좋은 오리 요리에요 가족 모임에 최적인 레스토랑',\n",
       " '맛은 괜찮은 수준 그러나 손두부가 일찍 떨어져 못 먹었고 종업원 불친절 손두부는 못 먹어봤으니 평가 제외하고 굳이 먼 길 찾아가서 먹을 정도는 안라는 게 내 생각입니다',\n",
       " '안에 고기도 푸짐하게 많았고 국물도 확실히 오래 우러난 맛이 난다고 느껴졌고 밑반찬도 괜찮았으며 모든 게 다 좋았던 것 같다 내가 사는 곳 근처인데 자주 이용해야겠다',\n",
       " '당면 쑥갓 무한리필',\n",
       " '티라미수 짱 맛있다 뭔가 흰 케이크가 있어서 물어보니까 티라미수래서 놀랐다 가루를 나중에 뿌려준 댔음 분위기도 좋고 자주 가게 될 듯',\n",
       " '촛불 켜줘서 분위기 좋음 추천 메뉴 연어 리소토 토마토 파스타 비추 메뉴 이마트 리치 아나 이유 파스타가 너무 달았음',\n",
       " '보정동 카페거리 초창기부터 계속 유지되고 있는 터줏대감 카페 중 하나에요 케이크 먹으러 자주 들르는 곳이에요 코로나라 요새 가기 좀 그런데 좀 나아져서 얼른 또 가고 싶어요 포장해와도 되지만 카페 분위기도 좋거든요 소파도 있고 의자도 있고 앉아서 시간 보내기 딱 좋았는데 말이죠',\n",
       " '이번에 가족들끼리 가서 파스타 덮밥 돈가스 등 이것저것 시켜서 같이 나눠 먹었어요 그중에서 토마토 파스타는 제 입맛에도 딱 맞고 우리 집 아기도 맛있다고 잘 먹더라고요 파스타에 들어가는 토마토소스 자체가 맛있어서 계속 생각나네요',\n",
       " '맛 겁나 없고 양보고 너무 적어서 깜짝 놀람 개 정도 있었을라나 인분인데',\n",
       " '에그 베네딕트가 짱맛있어요  분위기도 좋아요',\n",
       " '회식장소로 어딜 갈까 고민하다가 전에 친구한테 추천받아서 갔다 온 좋은 기억이 있어서 회사 사람들과 다 같이 회식하러 왔는데 가볍게 밥 먹고 술 먹는 자리로도 좋지만 회식으로 오기에 너무 좋았어요 안에 룸 하나를 다 빌려주셔서 저희끼리 엄청 재밌고 맛있게 먹다 왔어요',\n",
       " '인테리어랑 정원이 아기자기하게 예뻐요 오늘 날씨 좋아서 야외에서 먹어서 더 좋았네요 커피는 그냥 소 쏘지만 빵이 맛있었네요 크루아상이 이렇게 쫄깃하다니  버터를 듬뿍 쓰는지 좀 기름진 맛이 있긴 한데  나쁘게 느껴지진 않고 좋은 원료를 쓴다고 하니 믿어봅니다  크루아상이나 깜빠뉴 등 식사 빵류는 주로 쫄깃한 식감이 시그니처인 거 같고 디저트류는 딸기',\n",
       " '음식은 정말 맛있었어요 직원분들도 친절하고 괜찮았지만 주차가 불편했습니다',\n",
       " '별미 만두 흔한 메뉴 면 선호하지는 않을 듯',\n",
       " '양이 푸짐하다 그것이 질과 맛까지 보장해주지는 않으나 양 만을 생각한다면 가히 최고',\n",
       " '의왕에 있기 아까운 집',\n",
       " '분위기 너무 멋스러운 카페에요 공간이 널찍한데 그에 비해 좌석이 많지 않아 오히려 좋았다는 묵직한 원두 추천받아서 그걸로 필터 커피 마셨어요 커피 물론 괜찮았고 혼자 방문하기도 좋을 것 같네요',\n",
       " '가게가 좁고 사람이 많아 혼잡하지만 그럼에도 불구하고 맛있다 간이 좀 센 편이지만 그래서 더 맛있었다',\n",
       " '오리지널 프린스 튼 프라이드치킨 치킨의 퀄리티보다는 양 감자튀김과 같은 사이드',\n",
       " '연신내에서 커피가 마시고 싶다 YM COFFEEPROJECT로 커피와 음료에 진심이 이곳 늦은 저녁 노트북이나 다이어리 얇은 책 가져와 혼자 즐기고 싶다 둔켈  블랙 티에 블랙커피 그래서 독일어로 어둡다는 뜻에 둔켈이란 이름을 가졌다 블랙 티는 얼그레이인데 얼그레이의 향미를 느끼다 보면 쌉쌀한 커피가 중후하게 마무리한다 즐거웠던 커피 타임 말차 솔티라 테  시원한 음료를 원해 주문한 메뉴 당근 파우더 말차를 사용할 줄 알았는데 차선 챙겨 격분하셔 놀랐다 소금은 핑크 솔트 들어간다고 한다 전형적인 맛을 예상했는데 정성 가득해 특별히 맛있었다 제대로 하는 이곳 홈 시그니처 블랜드  콜롬비아 게이샤  커피 노트는 플로럴과 장미 원하는 찻잔을 지정할 수 있다 나는 좋아하는 플로렌 팀으로 픽 비싼 찻잔을 깬다면 서로 난감해질 테니 더 조심하시길',\n",
       " '예전에 근처에 있는 회사 다닐 때 즐겨먹던 맛 집입니다 년 만에 다시 왔네요 칼국수가 유명하고요 여름에 콩국수를 합니다 콩국수 정말 맛있습니다 콩 국물에 얼음을 띄워 주는 방식이 아니라 콩 국물 자체를 얼려서 살얼음이 있는 상태로 나와요 면도 수타면이라 사장님이 직접 만드십니다 녹아도 묽어질 일이 없어서 맛있게 먹을 수 있습니다',\n",
       " '정원이 예뻐서 손님을 데리고 가끔 가는 집이다  그런데 이 집은 빵 커팅에 참 인색하다  차 안에서 먹으려고 커팅을 해 달라고 하면 가져가는 것은 안 된다고 한다  오늘은 나하고 어떤 손님이 빵을 사면서 커팅을 해 달라고 했더니 지금은 커팅을 안 해 준다고 그다음 손님이 커팅을 해 달라고 하자 또 지금은 커팅은 안 해 준다고 아니 왜  ',\n",
       " '간짜장  믿고 가세요 여러분  성북동에서 거의 년을 버텨온 옛날 중국집 노 사장님 내외가 건강상의 이유로 다른 외부 사장님께 자리를 넘긴 이래 맛이 급격히 안 좋아졌다고 하는데 다시 원래 사장님 아드님 부부가 가게를 맡아 요리를 시작했다고 한다 리뷰들을 보면 그 당시에 방문해 아쉬웠던 리뷰들이 많고 평점도 덩달아 낮아져 있는데 너무나 아쉬울 따름 이날 가족 모두 너무너무 맛있게 식사를 하고 왔기에 자신 있게 다시 방문해 보시라고 추천하고 싶다  먼저 짜장 간짜장이 무엇인지를 알게 해준 곳이다 그리고 정말 정말 몇 년 만에 너무나 맛있는 짜장면 한 그릇을 먹은 곳 전분물을 붓지 않고 춘장과 야채 고기를 바싹 볶아내 건 짜잘이라는 말이 간짜장으로 변형되었다는 썰어 있는데 정말 그렇다 과도하고 끈적한 물기 없이 건조하게 볶아낸 소스는 춘장의 구수함이 가득하다강한 불에서 휙 볶아낸 야채는 흐물흐물해지지 않고 아삭하지만 단 맛을 가득 머금고 있고 어머니가 주문하신 삼선짜장은 간짜장에 해물과 고기가 더 많이 들어간 스타일인데 건더기가 가득한 짜장을 맛보고 싶다면 이쪽을 주문해도 좋을 것 같다  면발 역시 소다를 가득 넣은 흔히 보는 노란 면발이 아니라 약간 희다고 느낄 정도의 면 잘 삶아낸 면과 소스의 궁합은 정말 환상 비빌 때도 너무나 잘 비벼지고 면과 소스의 궁합도 완벽하다 거기에 올라가는 메추리알 하나는 빈티지한 매력까지  모든 테이블마다 주문하는 고기튀김은 소스 없는 탕수육인데 고춧가루를 살살 푼 간장에 찍으면 맛이 끝장 나는 튀김을 못 먹으니까 부모님 표정을 읽어보면 끝장나는 맛임을 알 수 있다 짜장만 먹기 아쉬워 주문한 물만두는 시판인 듯하지만 특이하게 육수를 바닥에 부어 마치 국물이 있는 것처럼 내어주신다 이런 스타일은 처음이었는데 만둣국을 먹는 듯한 느낌이 너무나 좋았다 활기차고 친절하고 섬세한 아드님이 홀을 지키고 아마 부인분께서 주방을 지키는 듯하다 오래된 업장이다 보니 내부가 다소 비좁고 테이블이 작아 여러 요리를 시키면 그릇들이 삐져나오기는 하지만 이 정도는 감수하고 먹을 가치가 너무나 충분하다 실로 맛있는 짜장과 요리를 맛봤던 곳 이제 다시 믿고 방문하시길 추천드린다',\n",
       " '특이하고 맛있었다 많이 배고프진 않았는데 한 조각씩 먹을 수 있어서 더 좋았다 화이트 트러플 피자와 스파이시라고 피자라니 피자의 쫄깃한 도우와 맛있는 파스타를 같이 먹는 느낌 맥주도 양이 많게 잘 나온다',\n",
       " '맛나요 맛나요 음식도 안 짜고 좋아요',\n",
       " '낮에는 식사 메뉴 저녁에는 삼겹살 메뉴 등 각각 잘 나가나 봐요 저녁에 밥 먹으러 갔는데 대부분 테이블이 삼겹살 굽길래 덩달아 저도 삼겹살을 먹고 말았습니다 안 먹었으면 큰일날뻔졸맛',\n",
       " ' 화교 중식당의 오리지널리티  호텔 주방장 출신의 귀촌이라는데  Y대 캠퍼스와 함께 꽤 오래전 개업하자마자 대박 난 집',\n",
       " '고기도 맛있고 사장님 친절 ',\n",
       " ' 금 리뷰가 다 좋길래 점심 먹으러 기대하며 방문한 곳 생각보다 테이블이 몇 개 없어 타이밍 잘못 맞추면 웨이팅 해야 할 듯 사람들이 막 길게 줄 서진 않는데 끊기진 않음 프렌치토스트는 아이스크림이 올라가서 추운 날씨라 못 먹고 비에이 치 플레이트 먹었는데 너무 맛있었다 갖가지 재료들이 조화롭고 만족스러움 양이 적을 거 같았는데 다 먹으니 딱 기분 좋은 배부름 다음에 프렌치토스트 먹으러 꼭 가야지',\n",
       " '진짜 맛 집이 아니다 동네 짱개만도 못한다 특히 탕수육은 먹지 마라 밀가루 냄새 펄펄 난 다',\n",
       " '여기 꼭 가주세요 sns 하시는 분들 사진 찍는 거 좋아하시는 분들도 가시면 좋을 것 같아요 분위기가 좋아서 그런가 커피 한잔하면서 파블로바 먹으면 너무 괜찮더라고요 추천합니다',\n",
       " '먼가 있는 듯이 하지만 없고 불친절에 가격만 비싸게 받습니다 ',\n",
       " '맛은 있어요 하지만 기대보단 별로예요 근처에 있으면 방문하면 좋을듯해요 굳이 찾아갈 필요는 없을 듯요',\n",
       " '먹어 본 꿔바로우 중 제일 맛있음',\n",
       " '일단 경관이 진짜 좋고 예뻐서 데이트하는 커플들에게 너무 추천드립니다 안에 작은 연못 같은 게 있는데 졸졸졸 흐르는 걸 구경만 해도 마음이 편안해져요 계절별로 모습이 달라진다고 하니 저는 봄에도 또 가보고 싶습니다  좌석  좌식과 의자 좌석이 있고 좌식 좌석에는 온돌방같이 바닥 히터를 틀 수 있어요  서비스  서버분들이 정말 친절하시고 싹싹하십니다 특히 샤부샤부 먹을 때 일행분이 잠깐 화장실 가셨었는데 잠시 기다렸다가 설명해주셨어요 요즘 코로나 때문에 손님이 줄어서 많이 걱정하시던데  안타까웠습니다  가격대  원대인데 대체로 인당 원 생각하고 가면 될 것 같아요 솔직히 가격은 좀 비싸다고 생각은 듭니다 근데 익선동은 팬케이크 하나에 이만 원씩 하는 곳이라 감안하고 먹었습니다  음식 맛 진짜 맛있고 아기자기하게 잘 플레이팅 되어 있어요 gtlt 일식 도시락 생각하시면 되는데요 트러플 튀김덮밥이 진짜 먹을게 많았습니다 반찬 가짓수도 좀 되고요밥에도 간이 되어 있어서 맛있었어요 트러플 향도 제법 나는 편 샤부샤부는 국물은 좋았지만 양이 적어서 아쉬웠습니다 전반적으로 저는 호였고요 재방문의 사 있습니다',\n",
       " '가볍게 구성비 있게 맛있게 편하게 먹고 싶을 때 찾는 음식점 종종 찾는 멕시칸 요리 프랜차이즈점 대중화된 멕시칸 요리를 먹기에 참 좋은 거 같다 뭘 먹어도 맛있지만 화 기타에 이번에 추가로 샐러드볼을 시켰는데 이것도 넘넘 굿굿',\n",
       " '곰탕이 맛있는 집 오늘도 곰탕 먹어요',\n",
       " '친절하시고 음식도 빨리 나오고 맛있고 좋았습니다 다음에 또 방문하고 싶어요',\n",
       " '분위기 좋고 코스로 시키면서 까바랑 곁들이면 멋진 주말 점심을 만드는 곳입니다',\n",
       " '예쁜데 좌석이 불편해요 맛은 괜찮고요 저녁에 가시는 분들은 웨이팅 생각하셔야 할 것 같아요',\n",
       " '오늘의 파스타 여러모로 좋았다',\n",
       " '저는 속이 안 좋아서 못 먹었는데 부모님은 아주 맛있게 드셨어요 어느 집은 오징어는 없고 어묵만 많다고 하던데 여기는 오징어도 많이 주시네요 다만 김밥인데 인분에 천 원은 살짝 비싼 느낌 포장은 인분부터 된다니 참고하세요',\n",
       " '이쁜 카페를 찾다가 우연히 발견하게 돼서 온 카페인데 가구들도 너무너무 이쁘고 특히 녹차 아이스크림이 너무 맛있어요',\n",
       " '지나가며 사람 많은 것만 봤는데 오늘에서야 와 봤네요 비지찌개는 김치 넣고 일반적인 빨간 스탈이 아니라 하얀 국인데 콩 맛나요  콩 좋아하는 사람은 좋아할 듯 청국장은 맛은 괜찮은데 양이 좀 작고요 도토리묵은 괜찮네요 메인보다도 조미료 없는 밑반찬들 때문에 사람들이 많이 오는 거 같네요',\n",
       " '곤드레를 싫어하는 여자친구도 굉장히 맛있게 먹을 수 있는 대구의 맛집',\n",
       " '역시 믿고 먹는 정지영 커피입니다',\n",
       " ' 아보카도 연어 포케  마플 후기를 믿고 선택한 메뉴 후기대로 맛있었고 색다른 메뉴였어요 연어 아보카도 옥수수 콩 해초 간장 젤리가 있는 덮밥이에요 밥이랑 아보카도를 같이 먹는 것도 처음이고 재료들만 보면 되게 난잡하고 안 어울려 보여서 기대 안 했는데 넘넘 맛있게 먹고 왔어요 연어랑 해초가 촉촉하고 새콤해요 그리고 평소에 아보카도를 그렇게 좋아하진 않았는데 여기 아보카도는 느끼하지도 않고 부드러워서 아보카도가 좋아졌어요  아보카도 고기 불이 또 볼  치킨 돼지고기 소고기 중에 선택할 수 있어요 저희는 치킨으로 선택했고 또 먹고 싶은 메뉴에요 소스가 맛있더라고요 고기 소스가 매콤하고 사워 소스 아보카도 소스랑 섞어먹으니까 대박이었어요 두고두고 생각날 것 같아요',\n",
       " '달고 짜고 냠냠 맛나게 술을 부르는 맛이에요 구석 자리에 앉으면 잘 모르셔서 주문하러 누군가 출발해야 하지만 맛나고 즐겁게 차로 갔어요 안주 사진 너무 귀여워서 찍었는데 실수로 삭제  떡볶이랑 깻잎 말이 가지 튀김 추천입니다',\n",
       " '이미 너무 바쁜 매장이라 그런지 위생적이지는 않은 거 같아요 테이블 덜 닦인 거 같은 거는 이해합니다 하지만 같이 나오는 반찬 중에 부추 무친 거 나오는데 거기에 살아있는 애벌레가 고사리 해장국 자체는 맛은 있었다만 반찬에서 신뢰가 떨어져서 재방문 의사는 없습니다 다른 방문자들 위해서라도 재료 제대로 손질하셨으면',\n",
       " '가격이 아깝지 않아요 정말 맛있습니다',\n",
       " '바다 바로 앞에 있는 바다 뷰 카페 자연이 그림 액자로 어떻게 이런 곳에 카페 가 딸기 생크림 케이크 랑 커피 도 맛있고 물 색깔부터 다른 포항바다 너무 예뻤어요',\n",
       " '모든 메뉴가 기본 이상으로 동네 중국집 보다 나은 수준 간짜장이 특히 맛이 좋다 주차가 안되고 웨이팅이 길고 위치가 좋지 않다 반면 그 맛이 유명 중식요리점 수준까진 아니어서 멀리서 찾아가서 먹을 만큼의 맛은 아닌듯함',\n",
       " '룸으로 갔는데 역시 카운터로 할걸 하는 생각이 드네요 이번에 처음 나온 초밥 피스들은 밥이 다 말라있어서 별로였습니다',\n",
       " '맛은 있는데 분위기나 전망이 가격을 커버하는 느낌 아주 맛나기보다는 맛은 중간 분위기는 상급',\n",
       " '평일 점심에 방문했는데 넓은 공간에도 불가하고 손님들이 많아서 웨이팅 조금 했습니다 깔끔하고 맛있어요',\n",
       " '저녁에 풍경이 너무 이쁘고 전체적으로 음식 구성비도 괜찮은 거 같아요',\n",
       " '정말 오랜만에 재방문인데 여전히 맛은 있네요 근데 뭔가 사람이 정말 많아서 그런 건지 회전율을 신경 쓰다 보니 케어를 받는 느낌은 확실히 줄어들은 것 같아서 아쉽긴 했네요 첫 방문 때와 비교를 하다 보니 아쉬움이 남는 것 같아요 크게 마이너스적 요소는 아닌 것 같긴 해요 쌀쌀한 날 몸을 녹이는 데엔 제격인 칼칼한 버섯매운탕 다진 양념이 듬뿍 들어 있어 국물 한 입만 마셔도 얼큰하니 추위가 싹 내려가는 느낌이에요 묵직한 깊은 맛은 없지만 충분히 맛있는 국물 건더기는 버섯 미나리 감자 등인데 버섯 미나리를 계속 추가할 수 있는 점은 큰 메리트 무한으로 리필되는 거 치곤 버섯의 식감이나 미나리 향 둘 다 좋았어요 충분히 즐기셨으면 이제 칼국수 투하 칼국수를 넣으면 전분기 때문에 국물 맛이 변해서 꼭 국물 버섯 미나리를 충분히 먹은 후에 넣는 게 팁 칼국수는 면이 좀 두꺼운 편이기에 푹 익혀서 드시는 게 좋은 것 같아요개인적으론 버섯 미나리 칼국수 세트만 먹어도 배부르기 때문에 굳이 볶음밥이나 샤부샤부를 먹을 필요는 없는 것 같아요 뭔가 특별하게 맛있는 느낌은 아닌데 딱히 호불호 없을 것 같은 맛이라 인기가 꾸준히 많은 집인 것 같아요 여의도 근처에 은근 밥집 괜찮은 게 없는 것도 한몫하는 듯',\n",
       " '고급 진 이디야입니다  근처 갈 일 있으면 종종 들릅니다 이날은 차를 가져와서 발레를 맡겼는데 기본 시간에 천 원이에요',\n",
       " '여러모로 괜찮을 것 같아요',\n",
       " '맛있어요 과일 맛 마카롱 많아서 최저 아가랑 같이 먹으니 넘나 맛있는 뚱카롱이었어요 천 원대 가격이고 카페 내부 너무 이뻐요 송리단길 마카롱 맛 집으로 인정합니다 은근히 마카롱 팔면서 앉는 자리 넉넉한 카페가 잘 없는데 송리단길 외곽 쪽에 있네요  망고 마카롱 먹었는데 안에 쨈도 잇더라고요 두 번째 사진 미니 마카롱은 카카오 맵 리뷰 남기면 증정하고 판매는 안 하는데 너무 귀여워요 이건 먹어야 햇',\n",
       " '제가 방문했을 때 사장님께서 제과를 직접 만드시고 계셨어요 그래서 수제로 다 만드는 건지 물어보니 전부 수제로 만든다고 하더라고요 쇼케이스에 만든 디저트 있다 해서 사 먹 먹었는데 너무 맛있었어요 커피도 너무 맛있어서 다른 분들도 다 가봤으면 해서 리뷰 적습니다',\n",
       " '무한리필 집 치고 고기 질도 좋고 분위기도 좋습니다',\n",
       " '꿀호떡은 그냥 그랬어요',\n",
       " '한 줄 평  스페인 대사가 추천하는 과천 스페인 요리 맛집  과천 선바위역 인근에 자리 잡은 엘 올리보는 스페인 요리 전문점이다 현직 주한 스페인 대사가 제대로 된 스페인 요리를 맛볼 수 있는 집이라고 추천했다고 한다 특히 미리 예약하면 셰프 스페셜 코스 요리를 맛볼 수 있다고 해서 미리 예약하고 방문했다  한적한 골목에 건물 하나 통으로 자리 잡았는데 외관부터 스페인풍 느낌이 풍긴다 벽돌 건물에 아치 천장 등 스페인 느낌 난다 계단으로 올라가면 따듯한 느낌 정말 지중해를 끼고 있는 어느 마을의 한 식당에 온 것 같다 셰프 스페셜은  식전 빵  가스파초  앙살 라다  뽈뽀아페이라  해산물 타파스  안초비 파스타  채끝등심 스테이크  디저트로 구성돼있었다 식전 빵도 따끈하고 고소하니 괜찮았다 가스파초는 토마토 베이스에 양파와 마늘 빵가루 등을 갈아 넣었는데 날씨가 항상 더운 스페인다운 맛이었다 양파와 마늘 향이 포인트였다 앙살 라다는 정말 마음에 들었는데 토마토 아스파라거스에 하몽이 올라갔다심지어 이 하몽은 내가 스페인에서 먹어본 이베리코 베요 타로 만든 하몽 싱코호타스만큼은 아니지만 고급 진 느낌 뿜뿜이다 올리브오일을 담뿍 뿌려주는 것도 마음에 들었다 뽈뽀아페이라는 구운 문어를 감자무스와 같이 곁들였는데 이 문어가 참 쫀득하면서도 부드러워서 맛있었다 잘 구웠는데 질기지 않다니 최고다 해산물 타파스는 구운 관자와 구운 새우를 샤프란 소스와 함께 내왔다 아빠랑 오빠는 관자가 약간 질기다고 했는데 나는 탱실탱실해서 좋았다 안초비 파스타는 애초비를 오일에만 넣고 볶아서 안초비 맛이 강하지 않고 맛있었다 파스타면 익힘도 적당하니 좋았다 같이 넣은 마늘 마늘종이랑도 잘 어울린다  채끝등심 스테이크도 완전 최고 양도 꽤 많은 데다 알아서 미디엄 정도로 구워서 가져다주는데 맛있다 이쯤 되니까 배가 엄청 부르더라는  디저트도 마카롱이랑 정말 맛있게 냠냠했다 셰프 스페셜은 메뉴판에는 없는 메뉴로 매일매일 구성이 바뀌어서 매일 와도 다른 메뉴를 맛볼 수 있다고 한다다음에는 메뉴판에 있는 메뉴를 주문해서 먹어보고 싶다 잘 먹었습니다',\n",
       " '그냥 동네 밥집 리뷰 천개 맛 집인 진 모르겠음',\n",
       " '가게 이름만큼 이상한 맛의 떡볶이가 반찬으로 나온다 파스타는 맹숭맹숭 오므라이스는 무난한 편이지만 양이 적은 편이라 구성비가 좋지 않음 스테이크는 안 먹어봤지만 그 이상한 떡볶이의 냄새가 가게 안을 가득 매워서 다시는 가고 싶지 않은 가게',\n",
       " '진실의 미간  양념에서 깊은 내공이 느껴지는 맛 맛의 호불호가 갈리지 않을 맛 역시 춘천인 것인가 막국수는 기대하지 마시길 엄청난 단점이라면 초에 한 번씩 뒤집어야 한다는',\n",
       " '원두가 깔끔해서 참 좋았습니다 갈증 해소에 참 좋았네요',\n",
       " '라멘 먹고 싶어도 설숲 근처에 제대로 된 라멘집이 없어서 불편했는데 여기는 마제 소비도 맛있고 시그니처 메뉴인 오야지 라멘도 육수가 깔끔 구수해서 맛있었어요',\n",
       " '깔끔합니다 조용하고 깔끔한 분위기의 이자카야',\n",
       " '저는 평양냉면과 소고기 회 무침 먹었습니다 필동면옥 을지면옥 우래옥 등 많이 먹어봤지만 거기와 다르게 닭 육수라 생소할 수 있지만 굉장히 맛있게 먹었어요 소고기 회 무침과 평양냉면의 조화가 좋았습니다 또 갈 것 같아요',\n",
       " '해물라면 도시락 세트 주문했습니다 입장 전부터 라면 냄새가 너무 좋아서 기대를 하고 갔습니다 각종 해물들이라면 위에 있었고 면 발고 쫄깃해서 맛이 있었어요 그런데 해물이 손질이 잘 안됐는지 조개랑 게를 먹고 나서 면발을 먹는데 해물 찌꺼기라든지 조개껍질 게 껍데기들이 자꾸 입에 걸려서 먹기가 불편했어요 특히 국물을 먹을 때 해물 특유의 쓴맛도 났고 국물 먹을 때마다 이물질이 걸려서 국물 먹기가 힘들었네요 도시락은 너무 맛있어서 좋았는데 라면이 먹기 불편해서 힘들었어요 차라리 손질을 해서 조개를 껍데기까지 넣은 게 아니라 해산물만 분리했으면 좋았을 뻔했네요',\n",
       " '팬에서 구운 와규 등심 스테이크 진짜 깔끔하고요',\n",
       " '생각보다 굉장히 저렴한 편이었던 오월의 종  오월의 종 타임스퀘어점은 영등포 타임스퀘어 옆에 앤티크 한 창고 모양 건물로 단독으로 있었다 점심시간에 갔더니 아직 빵이 많이 남아있었다 가게를 한 바퀴 돌아본 후 빵을 골랐는데 빵 가격 대가 낮아서 놀랐다 보통 유명한 베이커리는 가격대가 높아서 여기도 그럴 거리고 생각하고 왔는데 아니어서 신기했다 후가스를 비롯해 다른 빵도 몇 가지 더 사서 먹었는데 한 달이 좀 넘었더니 빵 이름들이 기억이 나지 않는다 애벌레가 갉아먹은 잎같이 생긴 올리브 빵 후가스는 밋밋하면서 심심한 게먹기 좋았다 올리브유에 발사믹 소스랑 같이 먹으면 맛있다는 건 나중에 봐서 그냥 먹었었는데 괜찮았다 다른 빵들도 가격 대비 맛있었다 근데 이날 골랐던 빵들이 다 맛이 밋밋한 빵 들이어서 맛있다고 평가하기엔 애매하다 그래서 재방문하기로 하고 이번엔 괜찮다로',\n",
       " '빵은 맛있는데 직원들 표정과 접대 서비스에서 안 까먹어도 될 매출을 까먹는 매장 자주 보이고 정해진 직원들 중엔 미소지 하나 없이 그래 난 직원이고 넌 손님이야 근대 뭐 어쩌라고라는 투로 손님을 대하지 티브이 광고 내봐야 뭐하나 안에서 누수가 일어나는데 새 단장하고 반짝하다가 갈수록 맘에 안 듦',\n",
       " '여수 야경이 한눈에 보이는 숨은 맛 집 기본적으로 나오는 생선구이 외에도 같이 나오는 게장이랑 서대 회 무침 진심으로 맛있다',\n",
       " '화려해 보이는 외관에 들어가길 망설이게 되지만 생각보다 구성비 좋고 맛도 괜찮다 덮밥류와 생선회 모두 훌륭하다',\n",
       " '달지 않은 찹쌀떡',\n",
       " '라자냐   새우 오일 스파게티  예전부터 꼭 가보고 싶었던 곳인데 기대보다는 실망이었어요 다섯 가지 크림 리가토니를 먹어보고 싶긴 했지만 남자 동기와 함께 방문하다 보니 느끼한 거느끼한 거는 좀 힘들 것 같아 오일 파스타로 주문했습니다 식전 빵은 여러분들이 이야기하셨듯 식감이 좋은 편은 아니었어요 좀 부슬부슬하다고 해야 할까요 결국 빵은 남겼네요 먼저 라자냐는 기대만큼 맛있었어요 면 색깔을 보니 시금치를 넣고 반죽하신 듯했어요 치즈도 입안에서 가득 씹히고 라구 소스의 고기도 풍부해서 씹는 동안 행복했어요 그런데 새우 오일 스파게티가 너무 별로였어요 동행한 동기도 라자냐는 맛있는데 이게 너무 싱거워서 별로라고 하더라고요 전 싱겁지는 않았는데 꼭 다진 마늘즙에 질척이게 담가놓은 국수를 먹는 기분이었어요 마늘 맛밖에 안 나는데 식감마저 기분이 나쁘던 차라리 로제 소스로 변경해서 먹을 걸 그랬나 후회했어요 양 자체는 저한테는 괜찮았어요먹고 나니 딱 배불렀는데 동행은 똑같은 거 다섯 개쯤 더 먹어야 배가 찰 것 같다고 재방문까지 할 필요가 있을까 싶지만 리가토니가 궁금하긴 하네요 가격대는 마르셀과 비슷해서 부담 없는 편이에요 ',\n",
       " '재방문한 복덕방 긴 웨이팅 끝에  입장했어요 이곳의 시그니처인 메밀전병과 사장님 추천 육회를 차로 주문 생강 맛 나는 달달 짭조름한 기본 반찬 멸볶과 함께 나온 산 아래 막걸리 저번에도 처음에 이걸 마셨었는데 대부분 스타트 막걸리를 이걸로 주시나 봐요  역시 깔끔하고 맛있 제천에 산 아래 쌈밥집이 더욱 궁금해지는 맛 사장님 말대로 아스파탐이 없어서 다음날 머리가 안 아팠나 싶네요 육회는 처음 먹어보는데 역시는 역시 위에 잣가루 때문에 고소하고 섞어 먹으면 안 되는 배랑같이 먹으면 더욱 맛있어요 약간 짤 뻔했으나 막걸리랑 먹으니 괜찮은 간이었어요 우렁이 쌀 드라이 막걸리는 처음 먹어보는 스타일의 막걸리였어요 탄산이 거의 없고 진짜 안 달았어요 산 아래 먹으면서 안 달다고 생각한 게 민망한 수준  메밀 정병은 왠지 저번이랑 먹는 방법 설명이 달라진 것 같 지만 맛있어요  추가로 명란젓 시키고 한 병 더 시켰어요해창 막걸리가 나왔는데 명란젓이랑 궁합이 좋았던 것 밖엔 기억이 나질 않네요 명란젓도 명장이 만들었다고 하던데 하도 얘기를 많이 들어서 기억이 증발 짜지 않아 좋았어요 츤데레 사장님이 무릎 담요도 주시고 오늘도 손님 한 분 한 분 다 잘 챙기시는 모습이 대단해 보였어요 목 건강이 걱정됩니다 꼭 인 안쪽으로만 가세요 인 이상은 안 받으세요 그리고 인 자리가 가장 잘 빠진다고 합니다 insta hhhynie',\n",
       " '제주도 중문에 오면 꼭 들르세요 너무 맛있습니다 맛 청결서비스 모두 만점이에요',\n",
       " '신사동에 있는 프랑스 디저트 카페 와우 원더플 그 자체 달달한데 과하지 않으면서도 풍부한 맛에 반함',\n",
       " '원 정도에 엄청난 반찬과 돌솥이라니 게다가 자리선정만 잘하면 송정 바다를 보면서 식사도 가능하다 이곳이 바로 혜자스러운 식당',\n",
       " '만둣국 국물에 짜장면 면 김밥천국 승',\n",
       " '기존 맛이에요 맥주도 다양해서 좋고 안주도 너무 맛있어요 칵테일 종류도 많고 혼술 하러 가는 분들도 꽤 있더라고요 스테이크는 정말 감동의 맛입니다 분위기도 좋아요 가격대는 조금 있는 편이지만 그 값어치를 하는 곳입니다',\n",
       " '초계국수랑 초계 비빔국수 파전 맛있게 먹었습니다',\n",
       " '크림이 엄청 많이 들어있어요',\n",
       " '분위기 친절 여기 오브제 다 너무 이쁘다 조잡하지 않으면서도 소품들을 쌓는 솜씨가 아주 대단하신 거 같다 그리고 엄청 엄청 친절하셔서 좋았다 시그니처에 가까운 대표 메뉴 개 이쁜 뇨끼와 랍스터 베이스 리소토 먹었다 맛은 괜찮은 편인데 사실 아주 특별나진 않았다 그래도 독특한 메뉴도 많아서 여러 명 와서 셰어하면 더 좋을 거 같다 메인 접시다 만 원 정도 음식점이 살짝 숨어있는데 그래서 더 매력 있었음',\n",
       " '어젯밤에 친구랑 둘이 층에서 아이스크림 먹었는데 엄청 맛있었어요 그리고 제가 커피 쏟은 거 대신 청소해주셔서 너무 감사합니다 너무 일찍이라 그런지 오늘 아침엔 문이 안 열렸더라고요 담에 통영 오면 꼭 다시 와볼 거예요',\n",
       " '분위기부터 현지 필 뿜뿜 적당한 가격에 맛은 확실하네요 똠양꿈맛집입니다',\n",
       " '음 가격 대비로는 나쁘지 않지만 유명세 대비로는 많이 떨어지는 집 셰프 없는 날이 별로라는 말이 있지만 제대로 된 중식당이라면 기복을 줄이고 특수한 인의 인격에 의존성을 줄이는 것도 필요하지 않을까 그렇지 않다면 스타 셰프 보유 중인 가게일 뿐 중춘 등 신흥 강자들에 비해서 더 낫다 볼 것이 없지 않을까 각설하고 인상 깊은 메뉴 위주의 리뷰를 하겠다 전복은 손질이 정말 잘되고 질감도 좋았지만 소스가 만족스럽진 않았다 동파육은 이연복의 메인 요리로 유명한데 소스와 거의 일체를 이루듯 진득한 스타일이 흔한 것과 달리 여기에서는 고기를 조린 듯이 나온다 향신료향이 덜 자극적인데 취향에 따라 갈릴 요소다 단 난 더 진득하고 자극적인 편이 이상적이라고 생각함에도 먹을 만하다고 생각했다 완벽은 아니지만 제법 부드럽게 익었고 말이다 군만두는 제법 훌륭하긴 했고 특히 만두피가 수제인 것이 좋았고 만두 속도 기성품에 비하면 들큼한 맛이 리드하는 경향이 적었다그러나 이곳은 연희동 훨씬 담백 짭조름하게 즉 식사 거리로서 안성맞춤인 만두 속을 선사하는 만둣집은 차고 넘친다는 것이 함정 짜장면 탕수육 짬뽕 누룽지탕 등은 여느 중화요리점과 비교해도 눈에 띄는 차이는 없을 정도로 평범했다 그 외의 식품은 내가 썩 좋아하지 않기에 굳이 평하지 않는 게 나을 것 같다 다만 디저트로 나오는 팥빵 과자는 수제인 것 같았는데 제법 중독성 있는 맛이다 의외로 이것을 기대해도 좋다',\n",
       " '고기국수  비고 국수 조합이 너무 맛있고 수육에서 나는 진하고 깊은 맛이 감칠맛을 더해서 강력 추천',\n",
       " '가격도 적당하고 다 맛있습니다',\n",
       " '분위기 좋고 가볍기 먹기 좋고 안주도 이색적인 술집이에요 밥 먹고 차로 뭔가 가볍게 먹고 싶으면서도 분위기 좋은 곳이 가고 싶어 고민하다 예전에 추천받은 곳이 생각나서 방문하게 되었어요 생각보다 늦게 가서 그런가 사람은 많지 않았어요 분위기도 뭔가 고급 지고 적당히 시끄러워서 차로 가볍게 먹기 좋은 곳이었어요 메뉴가 모두 맛있어 보였는데 저희는 차로 간 거라 가볍게 먹고 싶어서 제일 저렴한 메뉴를 시켰어요 그런데 존 만 진짜 대전 맛이에요 리코타 치즈와 크래커 팥빙수 위에 올라가는 그런 통팥에 아몬드를 올려놓은 메뉴인데 이렇게 조합이 잘 어우러질 줄은 몰랐어요 진짜 집에서 또 만들어 먹고 싶은 맛 차인데 순삭 해버렸어요 술은 안동소주랑 청포도 막걸리를 시켜 먹었어요 청포도 막걸리는 사실 술맛이 너무 안 나서 안동소주로 갈아탄 건데 안동소주가 이렇게 맛있는 술인 줄 몰랐어요이것도 두병이나 마셔버렸답니다 가격도 별로 안 비싸고 앞으로는 안동소주에 한동안 빠져있을 예정이에요 근데 정말 채끝 짜파구리 이런 것도 있고 메뉴가 다 너무 괜찮아 보여서 담번엔 저녁으로 먹으러 와야겠어요 강추합니다',\n",
       " '연어 회덮밥이 대박',\n",
       " '확실히 매장이 친절하진 않지만  너무 맛있어요 부추 양념법 알고 싶어요',\n",
       " '정말 금호동 로컬들만 알만한 외진 골목 위치 커피 맛이 괜찮고 분위기는 갤러리를 연상시킴',\n",
       " '나름 일타의 안락한 카페입니다 알 사람 다 아는 숨겨진 카페랄까요',\n",
       " '무한리필 콘셉트에 대한 기대가 컸는지 그냥 그랬어요',\n",
       " '행사를 자주 하는 편이라 행사 때가면 좋습니다',\n",
       " '상동역 바로 앞에 스타벅스라 가까워서 좋고 사람은 항상 많은 편이에요 그리고 슴벅 치즈케이크 진짜 끄덕 하구 맛있네요',\n",
       " '인생 맛 집으로 임명함 ',\n",
       " '화이트 롤도 맛있고 만득 버거도 맛있고 에그타르트도 맛있고 어쩜 하나같이 다 맛있을 수가 있는 건지',\n",
       " '치즈 버거랑 갈릭버터 먹었는데  갈릭버터 존 맛 마늘 향이 조금 강한 편인데 마늘 좋아하는 저는 더 좋았어요 염염긋   평일 오픈 시간 맞춰서 갔는데 바로 웨이팅 생기더라고요',\n",
       " 'Soybean Noodle  Also in Jamsil',\n",
       " '널찍하고 음료 맛 굳굳 시장통처럼 겁나 시끄러움 ',\n",
       " '음식은 인당 원 메뉴인데 전병 쌈이 인 기준 여섯 장 정도 나왔어요 쌈을 좀 더 많이 주셔야 할 것 같습니다  음식 맛은 평범했습니다  특히 직원분이 좀 더 친절하게 손님을 대해주셨으면 좋았을 거 같아요 아르바이트생분이 아니라 주인처럼 보이는 분이 그러셔서 더 리뷰에 올려야겠다는 생각에 남깁니다 평점 점을 준 다른 리뷰들도 서비스에 대한 얘기',\n",
       " '솔직히 맛은 모르게 쒀요 하지만 뷰가 진짜 너무 이쁘다 와 진짜 북한산과 한옥 마을의 조화에 한동안 넋을 놓고 쳐다봤다 아이 예뻐라  진짜 날씨가 다했다 그냥 처마 밑에 걸쳐있는 구름까지도 예쁜 걸 보니 괜히 또 설레네요 맛은 그냥 그렇고 가격은 비싸지만 뷰 보러 가기 좋습니다',\n",
       " '씹히는 어탕국수는 싫어하는데 거슬리는 것들 없이 너무 맛있어요 갈 때마다 양이 많아서 다 못 먹고 오네요 ',\n",
       " '사장님 적게 일하고 많이 버세요 제 바람은 그뿐 ',\n",
       " '오픈 시간보다 일찍 갔는데 들어와서 기다리라고 하셔서 들어가서 편하게 기다리다가 주문했어요 여태까지 직접 잡은 문어도 많이 먹어보고 해물탕도 꽤 먹어봤는데 여기가 일등인 것 같아요 문어랑 생선 부드럽고 국물도 맑고 문어 비빔밥이 진짜 제일 맛있어요 사과랑 톳 당근 등 건강한 재료들 왕창 넣고 문어랑 초고추장이랑 비벼서 먹는데 한 그릇 더 시켜서 먹고 싶을 정도로 맛있었어요 삼척 오시면 꼭 들려서 식사하고 가세요 사장님도 다른 직원분들도 친절하시고 구성비도 좋아요 덕분에 정말 만족스러운 점심 식사했어요',\n",
       " '괜찮 초코 분수가 좋았음',\n",
       " '분명히 좋은 곳은 맞지만 마음 한편에선 비싸다는 생각을 지우지 못했으므로 괜찮다 가장 좋은 건 맥주를 시키면 콜리지가 프리다 콜리지를 냈다고 생각하면 퉁칠수있는 가격이긴 함',\n",
       " '한 달에 번 정도 식사를 하는데 서비스도 맘에 들고 분위기와 시설 등 스페셜 메뉴 먹는 재미가 있어요 가격 할인이나 카드사 할인이 많았으면 좋겠네요',\n",
       " '닭볶음탕에 꼬막이 짱임 밥으로 식사해도 좋고 안주로도 좋음 매일 가도 아쉽지 않음',\n",
       " '고기 맛은 좋은데 주차장 찾기 어려움',\n",
       " '러블리 B 세트 먹었어요 풍기 샐러드는 정말 맛있었는데 등심 스테이크 미디엄 레어로 주문했는데 미디엄 웰던으로 나와서 퍽퍽하고 질겼어요  파스타도 soso',\n",
       " ' 수프  싱거움 그 자체  돈가스 양 적고 특색 없고 싱거움  빵은 맛있음  분위기 괜찮음',\n",
       " '오랜만에 갔더니 메뉴가 조금 바뀌었네 김치 등갈비는 이제 치즈 토핑 메뉴가 따로 생겼군',\n",
       " '고사리랑 토란 있는 육개장 좋아하시는 분들은  근처에 있는 이화수 육개장 드시기를 왕 고기와 왕 파 들어있는 육개장이고  익숙한 맛의 육개장은 아닙니다  ',\n",
       " '밀탑 빙수 명성만 듣고 정말 늦게 처음으로 먹어봤는데 역시 왜 맛있다고 하는지 알겠다 적당히 달콤한 팥과 부드러운 우유 얼음의 조화가 좋아서 요즘 나오는 화려한 빙수들보다 훨씬 맛있게 느껴졌다 다만 위에 올라가는 떡이 커피 물에 재 놓은 것 같았는데 너무 씁쓸해서 남자친구는 담배맛이 난다고 했음 그것만 빼면 맛있었다 또 먹으러 가고 싶다',\n",
       " '덜미 살 쫀득하네요',\n",
       " '제가 다원 식당 많이 사랑합니다 지금은 새우 콜리플라워 리조 또는 없대요 흑흑 전복 리소토 먹으러 가야지',\n",
       " '홍대 가서 족발 먹고 싶으면 가는 곳 마늘맛이 강하지 않고 중독성 있는 곳 외국인들이 많은 곳',\n",
       " 'best milk tea Ive had in Korea lovely flavour',\n",
       " '해산물이 싱싱하고 맛있다 매일 노량진 시장에서 사가지고 오신다고 합니다',\n",
       " '다양한 구이 요리와 한잔하기 좋은 ',\n",
       " '동치미 국물이 최고 막국수가 정말 맛나다 보쌈고기도 기대 이상',\n",
       " '사장님 너무 친절하시고 음식도 깔끔하고 가게 분위기도 너무 좋습니다 부천 페이도 됩니다',\n",
       " '신안에서 찾은 한정식 맛 집 천사 대교 구경하러 갔다가 인생 맛 집을 찾았어요 저희는 특화 상차림으로 전복 해초 돌솥밥에 간장게장 돼지불고기를 먹었습니다 살면서 이런 맛의 간장 게장은 처음 먹어봤어요 게장을 아예 못 먹는 저희 엄마도 먹을 수 있을 정도로 비린내 하나 없고 간장 맛보다 게의 본연의 맛을 느낄 수 있었습니다 돼지 불고기도 맛있었고 특히 기본 반찬으로 나오는 하나하나 모두 건강하고 감칠맛이 있어 반찬 리필했어요 저희뿐만 아니라 다른 테이블도 너무 맛있다고 하며 기분 좋은 식사를 하고 가게 사장님도 필요한 거 없는지 여쭤봐주시며 친절하셨어요 부모님도 정말 맛있었다며 만족하였습니다 가격도 이 정도 퀄리티에는 저렴하다고 느껴집니다 신안에 놀러 가신다면 꽃 피는 무화과 강추해드립니다',\n",
       " '년 전 리뷰는 평이 조금 안 좋네요  제가 간 날 기준 직원분들이 아주 친절하셨고 맛은 기본적으로 평균 이상인 것 같아요 양은 제법 많은 편입니다  저녁 기준으로 가격은 아주 좋은 편인 것 같네요 점심으로는 가격과 양 모두 조금 부담스러울지도',\n",
       " '전체적으로 별로예요 이렇게 맛없는 회는 첨 먹어봤어요',\n",
       " '아기자기하고 맛있는 음식을 파는 양식집입니다 음식 색깔도 알록달록해서 사진 찍기에도 이쁘고 맛도 맛있습니다 다만 가게가 많이 협소하여 대기를 많이 해야 한다는 단점이 있습니다',\n",
       " '괜찮아요 좀 외진 곳',\n",
       " '삼둥이가 먹었던 비슷한 만두 맛은 여기가 최고인 듯 잠시나마 송일국처럼 먹방함',\n",
       " '사실 메인 사진만 보고 오스트리아 샘킴 가려다가 리뷰를 정독하니 방문하고 싶어진 로로  안 와볼 이유가 도 없는 실속 있는 파스타집이라고 과감히 얘기하고 싶다 매력 포인트는 세 가지  가게는 크지는 않지만 자리가 널찍하고 인테리어가 고풍스러움  가격에 비해서 느껴지는 고퀄 파스타 및 뇨끼  잘생긴 사장님이 편지까지 써주는 센스 겸비 주문한 메뉴는 극찬을 받고 있는 보따르가어란 파스타 및 감자 크리머 뇨끼 두 개 해서 천 원에 혜자스러운 질 좋은 파스타였다 보따르가  사장님이 직접 파스타 위에 어란을 갈아주시는데 짭짤한 가루와 너무 많이 익히지 않은 얇은 면과 후추가 조화를 이루어 다른 소스의 도움 없이 오롯이 맛있는 맛이었다 감자 크리머 뇨끼  뇨키라는 음식을 처음 먹어보는 것이긴 한데 진짜 다들 뇨끼뇨끼 할만한 맛이다 얼핏 보고는 링귀네 같은 맛이겠거니 했는데 아니다 완전히 달라훨씬 쫀득쫀득 부들부들 베이컨 크림하고 너무 잘 어울리는 또 생각나는 맛 같이 간 친구도 뇨끼를 찬사했다 헤어지면서 맛있었다는 말도 남김  최근에 찾아서 간 집 중에서는 가장 만족스러웠다',\n",
       " '딱 그냥 깔끔해요 블루베리스무디에는 요구르트 맛이 살짝 나고 라테 맛있어요 커피 원두 두 종류라서 고를 수 있어서 좋네요',\n",
       " '일행들은 다 고기 흡입하느라 정신없는데 혼자 마약 옥수수에 빠져버림 구황작물의 이 중독적인 맛 어쩔 거야',\n",
       " '맛있음 시커먼 남자 명이서 가서 먹음',\n",
       " '맨날 가도 존 만',\n",
       " '정통 이탈리안을 지향하는 느낌',\n",
       " '분위기는 일반 식당 분위기 위생상태 양호 깔끔함 맛은 불 맛이 많고 적당히 매운맛 입맛 없을 때 가서 먹으면 입맛이 돌아옴 매운 주꾸미를 밥에 비벼 먹으면 맛있음 불 맛이 강하고 소스가 맵고 자극적임 사이드로 나오는 샐러드는 드레싱이 맛있고 같이 주는 도토리묵도 소스가 뭔지 상큼하고 맛있음 황태 콩나물국도 주는데 이것도 맛있음 가끔 일부러 찾아가서 먹는 집',\n",
       " '맛있었던 순서로 얘기하자면 치킨 퀘사디아 사진엔 없지만 김치 프라이 스테이크 라이스 볼 치킨 퀘사디아는 한입 먹자마자 맛있었고 사진에 없는 김치 프라이는 안에 고기도 들어있어서 좋았다 스테이크 라이스볼은  생각하고 주문했는데 와 달리 야채보다 밥이 너무 많음  스테이크도 부드럽진 않아 암튼 평점이 높아 기대하고 갔는데 실망한 부분도 있고 전체적으로 양은 많지만 간이 짜게 느껴져 괜찮다로 평가함 ',\n",
       " '제주 오겹살 전문점 합리적인 가격이 좋다',\n",
       " '배신하지 않는 맛 하이디라오',\n",
       " '내 돈 내고 기분 나쁘고 싶으면 가세요 제주도에 근 고깃집이 여기만 있는 것도 아니고 진짜',\n",
       " '밑반찬이 부실한 거 빼면  육수는 깜놀',\n",
       " '포 시즌스 호텔 이름보다는 상대적으로 가격대가 괜찮습니다 그런데 맛도 그 정도 수준이네요 파스타는 생면이고 특성상 쫄깃함보다는 부드러움이 강합니다 식전 빵에 익힌 마늘을 발라서 먹는 것이 참 맛있어 급니다 광화문 근처에서 쾌적하고 깔끔한 모임을 원하시면 추천합니다',\n",
       " '삼겹 볶음  막걸리 페어링 산 아래 이름 기억 안 나는 거 하나 호랑이배꼽 드라이한 것부터 달달한 것 순으로 착착 가져다주시며 이 막걸리가 무슨 막걸리인지 어디서 만들어졌는 왜 여기 있는지 어떻게 음미해야 하는지까지 하나하나 설명해주신다 막걸리가 이런 맛일 수도 있구나 하는 생각이 절로 들었으며 세 가지 모두 마음에 쏙 들었다 안주는 또 왜 이리 맛있는지 라면 사리 추가해서 먹었는데 왕 꿀맛이다 가게가 작아서 웨이팅을 시작하면 끝도 없을 것 같다 하지만 그렇기 때문에 또 사장님과 사모님이 정말 섬세하게 신경 써주실 수 있는 것 같음 필요해 보이는 건 먼저 가져다주시지를 않나 특히 세면대에 꽂힌 일회용 칫솔들은 복덕방의 화룡점정이라고 봄 쏘스윗  사장님의 센스에 한번 치이고 막걸리에 대한 해박한 지식에 치이고 술을 의외로 안 좋아하신다는 반전 매력에 또 치어 여럿 다 막걸리가 병당 얼마인지 모르기 때문에 예산을 잡는 데에 어려움이 있을 수 있다이 날은 세 명이 위와 같이 먹고 만 원이 나왔다 망원동은 정말 가기 귀찮은 동네이지만 복덕방 때문에 더 자주 갈 수밖에 없겠다',\n",
       " '멸치 국물이 시원하네요',\n",
       " '카페모카 너무 달지 않아서 좋았음 아인슈페너도 진짜 맛있었음 아인슈페너 크림이 진짜 부드럽고 또 적당히 달아서 커피랑 같이 호로록 마시면 끝장 카페 분위기도 너무 좋고 무엇보다 처음 들어갈 때는 사람도 많고 좁아 보여서 자리 없겠는데 했는데 들어가니 안쪽으로 개미집처럼 끝도 없이 자리가 있음 다음에 또 가고 싶은 곳',\n",
       " '제가 여기가 봤는데 짱짱 입에서 살살 녹네요 제가 회를 엄청 좋아해서  맛없는 데는 안 가는데  진짜 맛있어요  강추입니다 여러분 한번 가보세요',\n",
       " '직원들이 매우 친절하고 음식 종류가 많아서 좋았습니다',\n",
       " '사실 치킨버거를 좋아해서 그렇게 큰 기대는 안 해서 그런지 맛있게 먹었다 근데 뭐 굳이 찾아가서 먹을 정도의 맛은 아닌 거 같다 개인적으로는 쉑쉑버거가 더 취향 근데 감 튀기 맛있었으면 얇아가지고 파삭파삭해서 맛있었다 그리고 무조건 치즈 올려야 댐',\n",
       " '그냥 오래 시간 때우기 좋은 카페  낮에는 좀 시끄럽기도 한 듯',\n",
       " '두 명이서 배 터지게 먹고 갑니다 올 때마다 맛이 변함없어서 믿고 먹어요  가격도 부담 없고 닭갈비도 직접 앞에서 조리해주시니 야채 상태도 항상 좋고 그냥 다 만족입니다 ',\n",
       " '서현에서 오래된 고깃집 됐소 모둠 꽃등심 삼겹살 항정살 주문했는데 항정살이 제일 맛있었다 개별 룸이 있어서 회식 단체 모임 하기 좋은 곳이다 런치메뉴는 좀 더 저렴하게 먹을 수 있다',\n",
       " '데이트하러 자주 가는 곳 중에 하나가 퓨어아레나 일단 분위기가 정말 좋고 식사를 할 수도 있고 차를 마시기에도 너무나 편안한 공간이라서 자주 찾게 된다',\n",
       " '저렴한 가격에 이 정도 소 곱창을 서울에서 먹을 수 있다는 것에서 가볼만하다 곱창이 날마다 편차가 있지만 상태가 좋은 날 가면 꽤나 맛있다 물론 조미료 맛이 쌔긴 하다',\n",
       " '회기역 쪽에 간 김에 카페를 가려는데 건물이 눈에 띄게 예뻐서 들어가게 되었어요 카페 비엔나와 녹차 프라페를 시켰어요 커피류는 조금 시큼한 맛의 커피와 달고 고소한 맛의 커피 중 선택하라고 하고 진하기도 하라고 했어요 카페 비엔나를 시킨 커피를 잘 모르는 저는 그냥 달고 고소한 맛 B 타입 커피와 진한 커피를 선택했어요 사실 카페 비엔나는 단맛을 생각하고 주문했는데 달지 않았어요 저는 진하게 해달라고 주문했더니 투 샷을 넣는다고 했는데 탄 맛이 나거나 쓰지 않고 고소하고 부드러워서 맛있었어요 녹차 프라페는 달고 맛있었습니다 카페가 구석구석 복도식으로 되어 있고 테이블도 꽤 있어서 좋았어요 회기에서 카페를 가신다면 여기 추천합니다',\n",
       " '존 만 그 자체 비싸도 수긍하게 된다  그래도 비싸긴 하다',\n",
       " '무개념 평점 테러리스트들과 이 너무 많아 평점 조절을 위해 점  아 물론 맛과 정성은 점짜리',\n",
       " '남원에 와서 폭풍 검색 후 찾아낸 돈가스 맛집 그랑 깨라는 곳인데 점심시간쯤 가니 웨이팅이 있을 정도로 붐비더라고요 이곳의 시그니처 메뉴라는 매콤 치즈돈가스를 주문해서 먹었는데 약간의 양념치킨 맛도 나며 새콤달달한게 취향 저격이었어요 혹 다음에 또 놀러 온다면 냉메밀 등 다른 메뉴도 먹어봐야겠어요 망고 하이',\n",
       " '커피는 쏘 쏘 식빵은 맛있다 특히 가게에서 살짝 데워서 나온 얼그레이 식빵의 향과 식감이 참 좋다',\n",
       " '플라자호텔에 있는 세븐스퀘어입니다 생일 기념으로 다녀왔어요 민어회 민어 초밥이 있었고 시즌별로 메뉴가 조금씩 바뀌어요 멜론이 없어서 너무 아쉬웠습니다 가격 비싼 게 단점이죠  항상 런치 부에 갔었는데 사람이 너무 많고 음식도 채워지는 게 좀 더뎌서 이번에 처음으로 런치 부에 갔는데 널찍하고 조용해서 좋았습니다',\n",
       " '깔끔한 조개 칼국수 조개도 듬뿍 있었어요',\n",
       " '서빙이 살짝 느리신 것 빼고는 좋았어요',\n",
       " '일본 라면인데 한국화된 부분이 분명 있다 현지의 맛을 좋아하는지라 그런 집들은 보통 맛이 없기 마련인데 여기는 더 맛있다',\n",
       " '디 타워 안에 있어서 조금 개방적인 형태로 자리 잡고 있는데 분위기는 야경 말고는 그냥 그렇게 특별한 건 없어요 나름 건강한 이탈리아 음식을 내세우고 있어서 자극적인 맛은 아니지만 심심한 듯 맛있어서 제 입맛에는 좋았습니다 깻잎 페스토 알리오 올리오는 호불호 조금 갈릴 수도 있을 것 같아요 조금 찐득 한 맛이 있고 꾸덕꾸덕한 치즈 같은 그런 맛 이 있어요 디 타워 내 다른 식당이나 카페를 이용해도 주차는 시간만 지원해주기 때문에 무료주차임에도 불구하고 서비스가 좀 아쉬웠어요 디 타워 내에서 밥과 커피를 먹고 마셔도 주차비는 시간 이후부터는 내야 합니다',\n",
       " '찾아가기도 어렵고 이미 너무나 유명한 집이라 웨이팅도 길지만 무릅쓰고 계속 찾게 되는 마성의 맛 술 곁들여 꼬리 수육 클리어하고 국수사리까지 비벼 먹으면 완벽 그 자체',\n",
       " '생각했던 것보다 훨 당황스러울 정도로 차를 타고 시골을 구석구석 들어가야 나옴 뚜벅이는 택시를 타지 않고는 불가능한 위치 맛은 여타 서울에서 먹어본 플래터들과 비교하면 중간 정도 가격 대비 나쁘지 않으나 위치가 찾아가기 너무 귀찮다 마당에서 뛰어다니는 아기 강아지들이 매우 귀여움',\n",
       " '문어 진짜 먹고 싶을만했음',\n",
       " '추어 텅 전혀 비리거나 생선 특유의 잡내도 없고 구수하고 시원하니 짱짱',\n",
       " '백반집인데 메뉴가 다양하게 준비되어 있어서 질리는 감 없이 먹기 좋아요 나름 청담동에서는 꽤 오래된 맛 집이라 맛 하나는 확실히 인정할만합니다',\n",
       " '허니 큐브 먹었는데 유기농 아이스크림 위에 벌집을 올려줘요  달고 맛있어요 약간 머리가 아플 정도로 단맛  그렇지만 먹고 나서 계속 생각나더라고요',\n",
       " '매장 시 분쯤 도착 후에 분이 되어도 음식이 안 나오는 곳이에요 늦는 점에 대해 중간에 물어봐도 별로 신경도 안 쓰시네요 뒤따라서 들어온 다른 테이블은 음식이 먼저 나와서 왜 안 나오냐고 했더니 순서대로 하신다고 하시더군요 순서라는 뜻도 모르시는 거 같아요  배달 음식 준비하시는 건 알겠는데 홀 신경은 아예 안 쓰시나요 늦을 걸 아시면 미리 얘기하는 거 기본 아',\n",
       " '엄마의 손맛 같은 정이 느껴지는 집입니다 사장님도 정말 친절하십니다 특별한 맛이 있는 건 아니지만 따뜻하고 배부른 한 그릇입니다 시장 안에서 저렴하고 배부르게 먹을 수 있는 것이 장점입니다 그리고 곁들여 나오는 갈치속젓이랑 오징어젓 김 역시 사이드 디시로 최고입니다 환상 궁합 또 방문할 의사 있습니다 사장님 번창하세요 아 참참 날계란에 콩나물 국물 넣어서 먹으라고 떠로 주시는데 이게 아주 별미입니다',\n",
       " '피시소스머스타트소스칠리소스땅콩 소스 있는데 칠리랑 피시소스는 샤부샤부 찍어 먹기에 좋고 땅콩소스는 라이스페이퍼에 맞아요',\n",
       " '뷰가 참 좋다',\n",
       " ' 평일에 갔더니 너무 좋았어요 주차도 괜찮았고 자리도 있었어요 음료도 좋았고 빵도 맛났어요 카페 엄청 좋은데 주말은 시장 바닥일 거 같아요 사람 엄청 올 듯 가시려면 평일에 가시는 걸 추천드립니다',\n",
       " '점심 정식을 먹었습니다 명란젓을 너무 좋아하는 저로서는 너무 행복한 점심이었어요 점심 메뉴로 대창 볶음 메뉴를 주문했는데 정확한 메뉴명이 기억이 안 나네요 대창을 추가했는데요 양이 생각보다 많지 않았어요 그렇다고 절대 부족한 건 아니었고 적당히 잘 먹고 나왔습니다 담엔 모츠나 베 먹으러 갈 거예요',\n",
       " '이전 다운 다우너 버거와 같은 평 맛있는 수제버거이긴 한데 특별한 게 드러난 느낌은 없었어요 무난한 수제버거였습니다  피클이 참 맛있었습니다 상큼하고 짭짤했어요 근데 세트로 시켰을 시 원 가까이 육박하는 가격이면 최소 피클 반 조각보다는 온전한 하나를 주는 게 맞지 않나 싶었어요',\n",
       " '옥상에서 먹어야 하는 곳 분위기가 다해서 좋았습니다 핵 추천',\n",
       " '스파게티 리소토 주문 음식의 양이 기본적으로 인분입니다 양 많은 건 좋았는데 다 너무 달아요 토마토 스파게티 실패하기 쉽지 않은데 말이죠 디저트가 아닌 식사가 단건 안 좋아해서 거의 남기고 나왔네요',\n",
       " '방순인데 다이어트 때문에 이리저리 찾아보다 발견한 집입니다 저는 호밀 빵만 먹습니다',\n",
       " '야채랑 패티가 맛이 따로납니다 패티 맛은 부드럽다기보다는 무너진다는 표현이 나오며 감자튀김은 맨날 감 튀어 소금 간이 덜 된 맛이며 왜 이렇게 고평가인지 이해가 안 되네요',\n",
       " '정후 분식 원탑은 누가 뭐래도 고 햇이지',\n",
       " '삼겹살 토핑이 수육처럼 부드러워서 맛있었어요 그리고 가게가 위생적이라 좋았네요',\n",
       " '간단한 축하 자리를 위해서 도 이 룸 예약을 통해 세 번째 방문을 했습니다 처음 생면의 쫄깃한 신세계를 보여줬던 오징어 먹물 커 펠리니와 시저샐러드를 먹었고 농어 스테이크를 먹었습니다  전에 먹었던 다른 메뉴들보다 농어 스테이크가 훌륭했습니다 항상 다녀올 때마다 재방문을 생각하게 되는 곳입니다',\n",
       " '가격도 착하고 맛있네요 무엇보다 정말 푸짐해서 여기서 밥 먹은 날은 하루 종일 든든',\n",
       " '먹고 갈 수도 있어서 좋아요',\n",
       " '분위기가 너무 좋아서 다음에 또 방문의 사 있네요',\n",
       " '맛있었습니다 추가로 주시는 사리까지 먹으니 배부르네요 근데 사라 추가하니까 국물이 약간 밍밍해졌어요  다음엔 사리 없이 먹어도 될 거 같다는 생각이 들었습니다',\n",
       " 'The place where all the soldiers go More poultry than most stomachs can handle But not bad',\n",
       " '대기 많던데 그렇게까지 대기하면서 먹을 맛인지는 모르겠음 이 동네 대비 싼 가격도 아니고 그래도 맛있고 음악 좋았음',\n",
       " '북한식 음식이 원래 간이 세질 않나 봐요 완전내취향이넼',\n",
       " '시 반에 웨이팅 찍었고 번 받았습니다 시 분쯤 입장했고 영업 시작 후 첫 음식이 나오는 데까지의 시간이 있으니 음식을 받는 데는 분쯤 걸렸습니다  특로스세트 원을 먹었고 실망했습니다  사진에서 볼 수 있듯이 고기는 많이 익혀 촉촉함이 느껴지지 않았고 튀김은 조리 후 눌려있었는지 아래쪽이 눅눅했습니다  아마 개시 후 동시에 조리',\n",
       " '테이블도 많고 회식하기 좋아 보입니다 오징어회 쫀득하고 신선했어요',\n",
       " '맛은 있었어요 신선 탱글 근데 저 박스가 만 원어치입니다  회알못인 저는 회가 이렇게 비싼 음식인 줄은 몰랐네요 이럴 거면 그냥 서울에서 노량진 수산시장이나 갈걸 음 그리고 저희가 다른 반찬 없이 소 자를 포장 주문했는데 주문할 때 계속 소 자는 모자랄 텐데 이러셨지만 그냥 소 자로 달라고 말했거든요 근데 영수증에 보니까 중 자로 가격이 찍혀있더라고요 주문한 항목을 바꿔버리시다니 메뉴는 중 자로 주신 거 갰죠 값은 중자로 받고 담아준 건 소 자이지만 않으면 좋겠네요 맛은 그냥 신선한데 주문 과정에서 뭔가 찜찜함이 남아서 괜찮다를 드립니다 항구 도시에 갔다고 무작정 회를 사러 가는 그런 무모한 짓은 앞으로는 하지 말아야겠습니다 그냥 앞으로는 노량진 형제 상회 같은 곳이나 가는 걸로',\n",
       " '진짜 맛있었음 곱창이 질기지 않았고 직접 구워주셔서 타지도 않고 맛있게 먹을 수 있었음',\n",
       " '맛나고 깔끔해요 분위기도 좋고요',\n",
       " '언제 가서 뭘 시켜도 깔끔하고 맛있어요 몇 년을 가도 변함이 없어요',\n",
       " '진짜 진한 초콜릿 음료 원 실제 메뉴 이름 찌에 인한 떠먹는 초콜릿이 있어서 너무 좋아요 진짜 초콜릿 향이 진하고 카카오 풍미가 느껴져요 위치는 홍대입구출쪽 연남동에 있는 조용한 카페에요 연남동 산책길 따라 쭉 가면 한적한 곳에 하얀 가게 하나 있어요 가게 안에 초콜릿 만드는 공방도 있고 분위기 깔끔하고 좋아요 ',\n",
       " '스플릿 비시즌 플레이트 여자친구는 갈 때마다 이것만 먹는 안 물리나',\n",
       " '효자동 세트 가격 대비 구성비 좋지만 점심때 무조건 웨이팅 해야 한다 초밥 맛이 아주 특별히 맛있는 것도 아니고 음식점 분위기가 그렇다고 뛰어나게 좋은 집도 아니다 구성비는 좋으나 맛 집은 아닌 소문 거품이 많은 집이다',\n",
       " '하도 인기 많고 호평 일색이고 맨날 줄 서있고 그래서 금송아지라도 파나 하고 방문 한국식 쌀국수의 정수라고 어떤 분이 남기신 글을 본 거 같은데 그 말이 딱 맞다 그렇지만 왜 쌀국수를 한국식으로 만들어서 파는 것일까 이건 쌀국수한테 너무한 일인 것이다 또 그걸 먹으려 줄 섰던 나에게도',\n",
       " '맛있어요 코다리 막국수 먹었는데 코다리 양도 많고 새콤달콤한 맛이 누구나 무난하게 먹을 맛이에요 여름엔 줄 서서 먹더라고요 아쉬운 점은 메밀 맛도 약하고 양념 맛이 너무 강해요',\n",
       " '오늘의 포스팅은 구월동 유신 불 족발입니다 친구랑 오늘 연어 먹으러 연어 시대 가려고 했는데 점심에 만났더니 문을 안 열어서 족발로 변경했어요 유신 불 족발이 체인점인 건 다들 아시죠 제가 방문한 곳은 구월동 로데오거리 중앙에 위치해있습니다',\n",
       " '가로수길에 위치한 맛 집 오코노미야키가 담백하고 맛있다',\n",
       " '대파가 푸짐하게 들어가 들큼한 맛이 매력적인 육개장 소고기도 큼직한 크기로 길쭉하게 찢어 넉넉하게 넣어 풍성하게 느껴지는 식감이 아주 만족스럽습니다',\n",
       " '과대평가된 집 웨이팅 시스템이 후지기 그지없음 세기에 뭐 하는 짓인가 모르겠고 이렇게까지 기다려서 먹을만한 음식인지도 모르겠음',\n",
       " '너티 클라우드 한 번 마셔보고는 정말 꽂혀서 일주일 내내 이 커피만 마시러 갔었네요 다른 커피도 있는데 그냥 이거에 미쳐서 눈이 안 갔어요  지금도 생각하니 입에 침 고이네요 우유 땅콩 크림 에스프레소의 완벽한 조화 땅콩 맛을 진짜 싫어하는 사람이 아닌 이상 너티 클라우드를 맛없다고 할 사람은 없을 듯합니다 가게 분위기도 뭔가 앤티크 한 이 물씬 풍겨서 인 스타 그래머들에게도 인기 좋을 듯하고 커피 자체도 오 저게 뭐지 하고 생각할 수 있게 만드는 비주얼입니다 하지만 진짜 다 필요 없고 그냥 엄청 맛있어요 열 번 드세요',\n",
       " '바로 여기 남녀노소 지금 이 글을 보는 당신 오세요',\n",
       " '오므라이스가 괜찮던데',\n",
       " '면이 쫄깃쫄깃 맛있고요 사장님이 친절하게 잘해주세요',\n",
       " ' 너무너무 친절함  반찬 밥 리필 가능  반찬 중 유자 목이 버섯무침이 대박  가격이 비싸다 생각되지만 먹다 보면 맛과 서비스에 만족하게 됨',\n",
       " '여기 경치가 장관인 곳 멋져요',\n",
       " '사람 엄청 많아요 장사 잘 되는 곳',\n",
       " '여수 여행 때 가볼 만한 횟집 추천입니다 싱싱하고 좋아요',\n",
       " '외관이 예뻐서 마음에 들었는데 같이 놀던 친구가 케이크가 맛있다고 해서 방문했어요 근데 컵들이 깨끗하지 않아서 아쉬웠어요 케이크나 음료 같은 경우는 괜찮았어요',\n",
       " '반찬 재사용 목격하고 구토 나올 뻔 시청에 민원 넣으려 했으나 촬영물이 있어야 해서 실패 닭고기도 재사용하는 건 아닌지 의심 아주 불친절하고 맛 도전하고 이제 망할 때 됐음 아참 다 먹고 나가실 때 닭볶음탕 냄비에 반찬 좀 알아서 다 버려주고 나가세요  그 남은 반찬이 또 다른 테이블로 갑니다 ',\n",
       " '맛은 콩국수 잔치국수비빔국수 차 타고 분 이내 국숫집 중 젤 잘함',\n",
       " '겐지 돈가스 정말 먹고 싶음',\n",
       " '연희동 지역에 유명한 냉면집이 두 개 있는데 평양냉면으로는 고 여사 냉면이 유 몽하고 함흥냉면으로는 이 청송 냉면이 유명하다 학창시절 자취방 근처였는데 친구들 놀러 오면 십중팔구는 여기서 식사를 했다 냉면육수에서 야쿠르트향이 살짝 느껴지는 동치미가 섞인 육수이다 아주 맛있어서 대개 함흥냉면은 회 냉면이 유명한데 물냉면을 더 자주 먹음 사장님 인심이 후하셔서 젊은 장정들 가면 무료로 사이즈업을 해주시기도 한다  주차  대중교통  구성비  온 밥 ',\n",
       " '정원이 넓고 햇빛이 좋은 카페',\n",
       " '분위기 잡고 싶을 땐 무조건 올라르 하죠 내 사랑 봉골레가 있는 곳',\n",
       " 'Really good Chinese and very fair price',\n",
       " '분위기 좋고 나쁘지 않아요',\n",
       " '낮엔 파는 메뉴가 좀 더 적은 듯 주문한 메뉴는 다 맛있어서 만족스러운 한 끼였다 까이 양은 제대로 겉바속촉이라 아주 좋았다 꿍팟퐁은 어떤 덴 볶은 새우인데 여긴 튀긴 식감이 좋아서 크랩 못지않게 맛있었다 파스씨 유랑 무쌉도 맛있었다',\n",
       " '맛있습니다 다만 전체적으로 단맛이 너무 강하고 추천해주신 와인 또한 달아서 와인과 어울리지 않았습니다 전반적으로 와인 또한 달달한 와인뿐이고 만약 이 주변 식당을 가신다면 전 두 믹스를 추천합니다',\n",
       " '근방 가게들과는 달리 브레이크 타임이 없어서 좋았어요 직원분들도 친절하시고 김치가 츠나 베는 해장하는 듯한 개운한 맛이 일품 돈부리는 소스도 적당히 달짝지근한 게 좋아요 그리고 장국 너무 맛있어서 레시피가 궁금할 정도 리뷰 쓰다 보니까 먹고 싶어지는 게 근래에 또 가야겠네요',\n",
       " '예전에 갔을 땐 분명 하와이안 버거가 있었는데 없어져서 좀 아쉽지만 여전히 맛있는 버거집',\n",
       " '궁금했던 김밥 집 클리어 밥 도둑이랑 매운 참치 먹었습니다 밥도둑은 계란이 잔뜩 있어 계란 김밥일 것 같지만 사실은 매운 계란 김밥입니다 비주얼만 보고 매운맛이 전혀 없을 줄 알고 매운 참치김밥이랑 같이 먹다가 입에 불남 근데 이 집은 특이하게 매운맛을 매운 어묵으로 내는 거 같아요 매운 참치김밥은 매운 어묵이 들어간 참치김밥인 거 같음 일부러 찾아갈 필욘 없지만 근처에 있다면 종종 들를 거 같은 김밥 집입니다',\n",
       " '비프뷰기뇽이라고 소고기 스튜 추천합니다 너무 부드럽고 와인의 깊은 맛을 느끼실 수 있음',\n",
       " '찌개는 원래 뜨끈하게 먹어야 맛있는데 그렇게 먹을 수가 없네요 ',\n",
       " '짬뽕 추천할만했던 것 같고요',\n",
       " '몇 년째 단골입니다  볶음밥 종류 양이 많은 편입니다 평소 볶음밥을 즐겨 하지 않지만 여기 볶음밥은 다릅니다 기름지지 않고 불 향도 나고요   최애 메뉴는 고기짬뽕입니다 짬뽕 좋아해서 일부러 먼 곳까지 찾아가서 먹는 편인데 가본 곳 중 상위권입니다 적당하게 매콤하고 고기가 들어갔어도 느끼하거나 기름지지 않습니다    기본짬뽕도 좋아하는데 스페셜 짬뽕',\n",
       " '양 갈비 스테이크 추천할만했음',\n",
       " '막국수가 이 정도는 돼야지',\n",
       " '마롱 카론 인스타그램에서 꽤나 유명한 디저트 가게 공릉동의 구석에 있어도 사람들이 잘 찾아온다 인스타 보고 가면 그날의 맛을 볼 수 있다 매일 라인업 바뀜 한 개에 원 구 포장세트에 원 개인적으로 맛은 인절미 에스프레소로 투스 그리고 비슷비슷하다 필링이 두꺼워서 그런지 조금 느끼할 수도 있다 그래도 맛있다',\n",
       " '여기는 먹으면 먹을수록 슬퍼짐 계속 맛있는 게 없어져서 속상 엉엉  리얼 돼지',\n",
       " '별로 대창은 기름만 많이 나오고 빠지는 구멍도 없고 빼달라는 소리만 번 하다 그냥 돈 내고 안 먹음 볶음밥도 먹다 말음 맛없음',\n",
       " '분위기 아늑해서 자꾸 생각나요 ',\n",
       " '집에서 백 선생 양념대로 하면 딱 요 맛 나는 것 같아요 특별한 맛 아닌데 입맛은 각자 다르니깐요 선술집 분위기로 큰 목소리 내면서 술 먹기엔 좋은 듯',\n",
       " '통마늘 닭똥집 마늘 안 좋아하지만 여긴쩔어 라잇댓',\n",
       " '슴벅은 믿고 먹는 슴벅 돌체 라테는 최애 메뉴라 어느 지점을 가도 맛있어요',\n",
       " '김치찌개가 맛있어요 묵은지 직접 담은 맛이라 집에서 엄마가 해주는 맛에 약간 짠맛이에요',\n",
       " '양념이 다른 곳보다 짜지 않고 물 없이 먹을 수 있을 정도로 맛있었어요',\n",
       " '너무 느려요 커피 나오는데 분 저거 나오는데 분 아직도 바스켓 뭐는 안 나옴',\n",
       " '맛있네요 존 만',\n",
       " '분위기 좋고 맛 좋고 대기가 엄청나다고 들었는데 요즘엔 코로나 때문인지 덜 기다려 좋다 다시 방문의 사 프로',\n",
       " '아무도 몰라 며느리도 몰라 근데 마복림 할미는 알아요 마복림 떡볶이의 비밀',\n",
       " '저번에 전남 광주에 갈 일이 생겨서 들렀던 궁전제과 금남로  광장 바로 건너편에 있는 충장로 본점에 다녀왔습니다 층에서 빵을 골라서 계산하고 포장해 가거나 층 자리로 갖고 올라가서 먹을 수도 있습니다 층에서 음료나 빙수도 주문 가능해요 그리고 층 카운터 바로 앞에 빵을 담을 접시 나이프 포크 등이 비치되어있고 전자레인지도 있어서 원하는 대로 빵을 데워 먹을 수 있어요 궁전제과에서 유명하다는 나비 파이와 공룡알 빵 그리고 에그타르트를 먹었습니다 사실 어느 정도 예상 가능한 평범한 맛이긴 했지만 괜찮았어요 전체적으로 빵값도 싼 편이에요 개인적으로 공룡알 빵이 제일 마음에 들었어요 만약 광주에 살았다면 자주 갔을 빵집',\n",
       " '그냥 라면 맛 서비스와 위생은 ',\n",
       " '필래프도 파스타도 맛있는데 정작 화덕피자가 맛이 좀 그냥 그랬어요 깔끔하고 메뉴가 무난해서 가족끼리 가기 좋습니다',\n",
       " '삼청동에서 망원으로 이사 간 다음에 처음 가봤는데 더 깔끔하고 좋아졌어요 음식도 더 맛있어진 거 같네요 아뮤즈 부시부터 메인과 디저트까지 모두 너무 맛있고 만족스러운 식사였어요 보통 코스요리 먹을 때 입에 안 맞는 것들이 한두 개씩 있는데 세 시몽은 음식 하나하나 다 제 입맛에 딱 맞았어요',\n",
       " '엥 여기는 한창 페북에 광고 올라와서 대창 덮밥 먹어보고 싶어서 갔다가 후회한 곳 한동안 대창은 역시 구워 먹는 거다 생각이 박혀서 안 먹다가 다른 곳에 도전했는데 존맛탱 여기는 한 번 가고 말았어요 그렇다고 한 번쯤 가볼 만한 곳은 아님 사진은 먹음직스럽게 잘 나왔네요',\n",
       " '개인적으로 구월동에서 가장 분위기 좋다고 생각하는 이탈리안 레스토랑 다른 데는 너무 캐주얼하거나 학생들만 바글바글해서 그래서 그런지 저녁에 가면 소개팅 꽤 많이 하는 듯 이곳 식전 빵 너무 맛있다 담백한 맛이 딱 내 취향 사진은 봉골레 비앙코 구스토 피칸테 리소토 스피나치 풍기 샐러드 마르게리타 피자 라구 알라 불로네 제 쓰기도 힘들다',\n",
       " '워낙 유명한 곳이라 기대하고 갔는데 입구 저 멀리서부터 차가 꽉꽉 막혀서 좀 힘들었어요 카페 요새 근처가 분위기 좋은 카페가 많아서 그런지 주말에 차가 생각보다도 엄청 많았어요 분위기는 좋아요 한강을 보면서 차 마시기 좋고 강과 연결되어 있어 가볍게 걷기도 좋았고요 수제버거도 맛있었고 커피도 괜찮았어요 음식 음료 분위기는 나쁘진 않았으나 카페 앞 좁은 길에 꽉 막히는 차는 좀 스트레스였고 화장실도 좀 별로였어요 유명하다 보니 사람이 많아 시끌시끌 친구들과 분위기 내러 가긴 좋지만 조용히 힐링하러 가기엔 별로예요',\n",
       " '음 맛은 그냥 동네 빵집  운영방식이 많이 문제 있는 가게 능력 부족 신경을 많이 써야 할 듯',\n",
       " '어디로 갈까 망설이다가 찾아갔어요 아쉬움 도 없이 갈치조림 최고였습니다 ',\n",
       " '남한산성 가면 들르는 곳인데 이번엔 아쉬운 점이 많네요 물병 물 따르니 긴 부추 찌꺼기가 따라 나오네요 밥 먹기 전에 이미 가족들 비위 상함 물병 바꿔주러 온 직원은 기계적으로 죄송하다  앞접시에 고춧가루 붙어있고 그냥 나오려다 먼 길 갔고 가족에게 특별한 날이니 참고 먹었는데  힘들었음 한정식 인가 비싼 거 시켜서 기',\n",
       " '초밥 먹고 들린 카페 바리스타 대상 수상한 곳이라고 함 저녁이라 커피 안 먹고 청보리퐁 음료 먹긴 했는데 졸맛임 친구가 커피도 맛있다 함 근처에 지나가면 가볼 만한 곳',\n",
       " '맛 숙성회는 맛있음 고등어는 너무 비렸고 관자구이는 투 머치 불 향하지만 회 먹으러 갈만함 아 굴이 진리 기본적인 장 반찬 이 괜찮음 서비스 및 분위기 청년 느낌 젊은이 느낌 파이팅 넘침 굉장히 시끄러움 장점 숙성회 다양한 회에 뉴 단점 시끄러움 한 줄 평  다양한 특이한 어종 먹고플 때 배달보단 직접 방문을 추천함',\n",
       " '순두부만 전문적으로  최고의 맛',\n",
       " '압구정 버블 앤코 클스에서 홀릭파티했던 모임이 좋은 기억으로 남아서 한남점을 다시 방문했어요 메뉴들이 다 맛있어서 여러 명이 가서 여러 메뉴를 시키는 게 좋은 곳이에요 지하에 있는데 분위기도 너무 좋고 양초도 예뻤어요 분위기는 크리스마스 연말 느낌  이제 생굴은 시즌이 지나서 더 이상 나오지 않고 그릴드 시푸드 플래터에 삶은 오징어 나오는 메뉴 그리고 저번에 젤 맛있게 먹은 피시 파이를 시켰습니다 맥주는 모카 스타우트가 맛있다는 평이 많았는데 이거 없어서 대신으로 생뚱맞게 전혀 다른 벨지안 윗으로 주시더라고요 근데 제 입맛엔 맛있었어요 라거도 스텔라 아르토 리스로 주시고  맥주 잔이 다 예뻤어요 식전 빵엔 훈연한 고등어로 만든 소스가 나와 특이했고요 플래터에는 굴 가리비 새우 훈연 고등어 등이 있었고 젤 신기한 건 기장멸치 튀김  고소해서 젤 맛있다는 분도 있었어요 오징어 나오는 요리는 조그마한 병아리콩 같은 것들도 오징어였고 소스가 매운데 특이했어요피시 파이는 좀 더 컸으면   문어 카르파초를 못 먹어봐서 아쉬워요  또 가고 싶은 곳이에요',\n",
       " '낮의 차도 좋지만 밤의 와인이 더 좋아요',\n",
       " '평일에도 북적거리는 맛 집 파전이 정말 맛있다 건물 내 주차장이 있으며 무료주차이다 낙지 추가는 비싸다',\n",
       " '오늘 선택한 빵은 만족스럽고 커피도 훌륭했다 주말 이렇게 보내야 한다',\n",
       " '주인이 불친절하고 음식 맛은 조미료 맛이 너무 강해서 다시는 가고 싶지 않네요',\n",
       " '예약은 필수 종류도 다양하고 맛있음',\n",
       " '대구 사는 친구가 추천해서 같이 포장해서 먹은 집  시장 골목에 매장이 개나 있는 점이   이 구역에선 내가 제일 잘 나간다는 느낌을 줬다  장사가 잘 되는 집답게 포장도 금방 됐으며  인 세트를 시켰는데 양도 푸짐한 편이였다  타 지역에서 원에 족발 쟁반국수를 둘이서  푸짐하게 먹기는 솔직히 다들 힘들다는 거 알 것이다  맛은 와 미쳤다',\n",
       " '음식도 너무 자극적이지 않으며 맛있고 서비스 마인드도 좋음 막국수 수육 전병 시키니 큰 대접에 계란 하나 들어간 거 나와서 이게 모지 했는데 덜어먹을 그릇 큰 거에 섭섭할까 계란까지 넣어주신 거임 세심한 배려에 감동 ',\n",
       " '맛있어요 부니기 채고',\n",
       " 'Spicy Hot 짬뽕 the 순두부 짬뽕 was different never had anything like it before and the 탕수육 was a bit more buttery not as crispy as I would have preferred but incredibly fast service',\n",
       " '유명하다고 해서 정말 많이 걸어서 찾아갔어요 따끈함에 몸은 녹았지만 기대가 너무 컸나 봐요 그렇지만 따뜻한 사실 엄청 뜨거운 탕수육 주먹으로 나왔는데도 바삭함이 살아있는 거 보고 깜짝 놀랐어요 볶음밥은 고슬고슬 어떻게 만든 걸까요',\n",
       " '술친구들과 부담 없이 즐기기 정말 좋은 곳 고수가 쌈 채소로 나오는데 돼지고기와 쌈궁합이 최곱니다',\n",
       " '음 한번 경험으로 충분해서 다시 방문할 생각은 없는 곳 인스타에서 엄청 핫해서 가봤는데 약 시간 기다린 보람이 없던 곳이었어요 일단 문어 덮밥 저건 맛있게 먹었지만 엄청 배고픈 상태에서 먹은 거라 그런 것 같아요 약간 단 회덮밥에 문어 들어간 느낌이고 해물라면은 어디서나 먹을 수 있는 평범한 맛 삼합은 갓김치 냉동 삼겹 새우 문어 등등 유 판위에 놓고 구워 먹는 건데 아르바이트생들이 대체로 어리고 손님이 너무 많아서 그런지 불 조절도 잘 안 해주고 전혀 손을 안 대줘서 저희가 알아서 먹어야 되더라고요 근데 갓김치 국물에 버터에 삼겹살 기름에 섞여서 진짜 네 맛도 내 맛도 아닌 느낌 유명세에 비해 실속 없는 집이었어요',\n",
       " '홍짬뽕 아주 매운맛 머리에서 땀난닷',\n",
       " '몇 년 전 방문하고 또 방문',\n",
       " '현지인이 데리고 간 맛 집이에요 고기가 입에서 살살 녹네요 너무 맛있어요',\n",
       " '가볼만했고요 카페 바리에 옆에 있어요 산쪼메 건너편',\n",
       " '청계산 입구에서는 거리가 좀 있어요 차 가지고 가시는 걸 추천 ',\n",
       " '아이들과 놀고 사진 찍고 추억 쌓기 좋은 곳 실내도 넓지만 실외도 아주 넓네요 ',\n",
       " '바쁘신 와중에 친절하시고 맛있고 가격도 좋고 변함없어서 좋다',\n",
       " '마셔봤는데 개인적으로는 카페인이 없는 캐머마일과 페퍼민트가 좋다 이 날 굉장히 피 튀기는 회의였는데 결과도 커피도 좋았음',\n",
       " '곱창 먹으면 항상 가는 곳 탕도 맛있고 볶음밥은 꼭꼭 먹기 일하시는 분들도 친절하시고 좋아요 근데 막창은 좀 많이 기름진다는 거',\n",
       " '안동 간고등어 정말 맘에 들음',\n",
       " '카페에서 음료 마시면서 아이들 뛰어놀게 하기 좋네요',\n",
       " '루프탑의 흰색 천이 유명한 카페 규모도 전체 층 건물을 통째로 쓰고 있고 강릉 안목 해변을 마주 보고 있어 뷰도 좋은 곳입니다 층은 현재 비어있고 층에 바 테이블과 주문하는 곳이 있어요 층은 넓게 자리를 쓰면서도 바다 전경 자리가 있고 층은 루프탑입니다 루프탑이 유명한데 유명세에 비해 너무 좁고 사람들이 좁은 공간에 다닥다닥 붙어 있어야 해서 불편해 보였어요 아메리카노와 카페라테를 마셨는데 원두는 참 좋네요 고소하고 산미가 거의 없었고 향도 좋았습니다 추가로 원두 티백을 더 주문해서 집에서 내려 마셔봤는데 향도 좋고 보디감도 좋아요 분위기 맛 집이라고 생각했는데 생각보다 커피가 맛있어서 놀랐습니다 주차는 근처 주차공간에 하면 됩니다 한창 사람들이 많이 몰리는 시간에는 주차하기 혼잡한 편이지만 안목 해변 가장 끝 쪽에 주차공간이 따로 있으니 참고하세요 화장실이 층에 있는데 남녀 구분되어 있고 한 칸만 있어요깨끗한 편이지만 카페 규모에 비해 화장실이 비좁아 상황에 따라 줄이 길 수도 있을 것 같아요',\n",
       " 'excellent',\n",
       " '얇은 오겹살보다는 두꺼운 오겹살이 좋을 거 같음 고기는 비싼 값을 한다',\n",
       " '분위기 너무 예뻐요  친절하시고 감사합니다 ',\n",
       " '근처 맛 집이 별로 없어서 가볼 만한 집이긴 합니다 아주 맛있는 건 아닌데 맛없진 않아요 그냥 무난 무난 가격대 생각하면 약간 아쉽고 안창살 파니니였나 시켰는데 힘줄 있는 고기를 파니니에 넣는 건 좀 아니지 않나요 먹기 힘들었네요',\n",
       " '점심 먹으러 가기 괜찮음',\n",
       " '카르보 순살 베이크 정말 먹고 싶어진다',\n",
       " '차선책으로 방문한 곳인데 전체적으로 다 괜찮았던 거 같다',\n",
       " '삼선짬뽕 정말 괜찮은 편이에요',\n",
       " '저의 단골 밀면집이에요  일단 육수가 기가 막혀요 육수 매력에 빠져서 갈 때마다 여러 잔 마시고 오네요  매운 거 잘 못 먹는데도 여기 비빔면은 제 입맛에 맞더라고요 매콤하게 맛있다가 뭔지 알겠다는  아 그리고 양도 진짜 많아요 구성비 굿',\n",
       " '양고기 특유의 냄새에 약하신 분들은 좀 어려워하실 수도 있습니다 근데 애초에 그런 분이 여길 왜 올지는 모르겠네요 전 여기서 꽤 자주 먹어봤는데 보통 미트 플래터 밖에 안 먹긴 해요 양 갈비 되게 맛있고 소시지는 가공육류 수준이 아닌 진짜 고기가 들어간 소시지입니다 양고기 파이도 한번 먹어봤는데 가볍게 한 끼 할 수 있어요 개인적으로 여기 샐러드랑 콜 슬롯도 좋아합니다 웨이팅은 좀 긴 편입니다 오려는 사람이 많아서',\n",
       " '국산 팥도 직접 받아서 직접 삶으셔서 알알이 살아있어서 달달한 우유 빙수도 맛있고 무엇보다 정성과 맛이 더해지니 단골이 될 수밖에 없는 곳이에요 당근 케이크는 많이 안 달고 어른들도 좋아하셔서 늘 가족이나 친척 생일 케이크를 주문하는 곳이죠',\n",
       " '그냥 보통 점 정도  멀리서 찾아올 건 아닌 것 같고 근처면 방문해도 좋을 것 같아요',\n",
       " '양평 가족 나들이에 들렀다 용문산 근처 커피는 맛있다 바게트와 크루아상 스콘 등 베이커리는 보통 좀 아쉽다 조명으로 인한 사진발은 잘 받아 좋다',\n",
       " '힘내세요 사장님',\n",
       " '스콘들이 너무나도 예쁘고 맛있게 생긴 카페에요 카페 내부도 생각보다 넓고 커피 맛도 굿 다만 평일 낮인데도 사람이 너무 많아서 굉장히 시끄러웠어요',\n",
       " '메르스 때문에 외출을 되도록 안 하는 편인데 너무 맛있어서 먹으러 갔어요',\n",
       " '오늘 저녁은 여의도 해 우리에 사 모림 합니다 역시 좋아요',\n",
       " ' 맛  분위기  재방문의 사 O  팔당 칼제비 맛 집으로 유명한 곳 팔당에 위치한 곳으로 tv에도 여러 번 나온 곳이다 건물이 층으로 엄청 크고 넓은데 시간을 나눠서 저녁 늦은 시간엔 층만 운영하는 듯하다 그땐 약간 포차에서 먹는 듯한 메뉴도 함께 주메뉴는 칼제비와 만두다 만두는 아니 특히 김치만두는 정말 정말 맵다 엄청 맵다 매운 거 잘 먹는 사람들도 맵다고 하는 나는 만두는 좀 별로였다 나는 주로 시원한 칼제비를 먹는 편인데 원래 국물에 해산물이 엄청 많이 들어가있었다 바지락이 엄청 많았는데 가면 갈수록 바지락이 작아지는 이유는 모르겠다  여하튼 양이 좀 작아도 국물이 시원해서 좋다 여기에 고추와 고춧가루를 넣으면 얼큰하게도 먹을 수 있어 일석이조 칼제비 비율은 수제비보다 칼국수가 더 많은데 개인적으로 수제비를 더 좋아해서 이 부분은 아쉽다 아 다 먹고 나면 볶음 죽이 있는데 이건 꼭 먹어줘야 한다 안 먹으면 뭔가 덜먹은 느낌',\n",
       " '패션과 디자인의 도시 밀라노를 그대로 옮겨 놓은 듯한 인테리어가 아주 맘에 듭니다 음식도 먹을만했음',\n",
       " '내가 제일 좋아하는 태국 음식점 게살 볶음밥 쏨땀 뿌팟퐁커리 추천 사장님이랑 직원들 친절하고 음식 맛도 좋다 조만간 또 방문할 예정',\n",
       " '명이서 갈비 한 짝  된장찌개 클리어  경제활동을 하고 있으나 한우란 음식은 아직까지 엄마 찬스가 더 좋은 그런 내게 여기는 자랑스럽게 친구들과도 부담 없이 갈 수 있는 곳이다 맛과 질적인 측면에서도 훌륭하고 사장님의 철학과 서비스도 멋들어지는 곳이다 메뉴는 꽤 간단하다 갈빗살 반짝 g  갈빗살 한 짝 g이 있고 밥 종류는 된장찌개 하나가 전부다 단순 명료한 메뉴가 때때로 음식에 대한 기대감을 불러일으킨다 살치살을 더 먹고 싶어 시원하게 원짜리 갈비 한 짝 주문  식육처리 기능사 자격증을 보유하신 사장님께서 갈비를 직접 정형하셔서 고기를 내어주신다 그 때문인지 고기의 때깔이 정말 너무 곱다 선홍빛에 예쁘게 있는 마블링들 그리고 약간의 핏빛으로 고기의 신선도를 가늠할 수 있다 고기를 따로 구워주는 집은 아니다 이 집의 고기가 맛있을 수 있는 이유는 바로 비상 탄 덕분이기도 한데 깨끗하게 손질된 탄 덕분에 더욱 믿음이 갔다 밑반찬류에는 샐러리 마요네즈 쌈장 상추 파무침 김치 깻잎절임이 나왔다 모두 나무랄 데 없었다 특히 파무침의 경우 일반 고깃집에서 내어오는 것보다 새콤한 맛이 특징이었고 깻잎절임도 생각보다 양념이 강하지 않아 본인 입맛에 딱 맞았다 샐러리는 고기가 느끼하다 싶으면 한 번씩 먹어주기에 훌륭한 찰떡궁합  불판에 열이 오르면 고기를 굽는다 미디엄 웰던으로 먹기 때문에 시간은 좀 걸리지만 그 사이에 마늘도 구워서 먹고 샐러리도 먹어주면 심심한 배를 달랠 수 있다 고기는 굉장하다 갈빗살은 특유의 감칠맛과 꼬들꼬들함이 매력적이고 한 입에 넣기에 알맞다 살치살의 경우에는 말해 무엇 정말로 입에서 살살 녹는다 느끼함보다는 풍부한 육즙 덕분에 파무침이나 김치와 먹어도 고기 본연을 살리면서 조화롭게 먹을 수 있다 웨이팅을 한 덕에 안창살을 더 내어주셨는데 이 또한 너무 맛있었다  된장찌개  공깃밥  여기 된장찌개 양 엄청 많다두부와 고추가 가득 들어있고 갈비 뼛대가 들어있는 점이 특징이다 동행은 여기 안에 들어있는 갈비 뼛대도 뜯어먹었다  고기 먹으면 밥을 안 먹는 사람이지만 뭔가 이 날은 된장찌개 국물을 한 술 뜨고 싶어 먹었다 칼칼하고 시원하다 특히 두부를 어디서 공수해오시는지 모르겠지만 두부가 뭔가 맛이 더 깊다 일반 시중에서 으스러지는 두부가 아니라 더 좋은 두부를 쓰거나 아니면 혹시 이것도 직접 만드시는 게 아닌지 전체적으로 너무 만족스러운 식사였다 가게 규모는 테이블 수가 개 정도로 길쭉한 직사각형 모양이며 그리 크지 않다 그런데 또 올 것 같다 부모님도 모시고 싶고 친구들이랑도 또 올 것 같은 집   계산대 쪽에 있는 꼬마가 참 귀엽다',\n",
       " '너무 맛있네요',\n",
       " '인생 닭갈비입니다 닭 육질이 너무 신선하고 좋아요 대한민국 등 철판 닭갈비 인정합니다 bb  불친절 후기가 많던데 저는 종업원분들 다 빠릿빠릿 신속히 해주셔서 좋았어요',\n",
       " '향신료가 강하니 평소에 항 강한 음식 별로 못 먹는 사람들은 카레 같은 거 들어간 메뉴 빼고 시켜야 성공함',\n",
       " '카르보나라랑 반반 피자 자주 먹는데 갠차눔',\n",
       " '대전은 이북 음식을 하기에 너무 남쪽에 있는 게 아닐까 하는 생각을 하게 되었습니다 ',\n",
       " '여긴 바질 페스토 스콘이 최고 여태 먹어본 어떤 바질 페스토 음식들보다 훠얼씨이이이인 맛있다 키 시도 맛있으니 꼭꼭 도전해보시길 근데 키 귀먹은 다음엔 입에서 비린내 날 수도 있으니 데이트 음식으로는 추천하지 않는다',\n",
       " '밥시간에 가면 무조건 명 이상 기다리고 있음 반찬은 무나물이랑 배추김치',\n",
       " '어니언 되게 옛날부터 가고 싶다가 가까운 수유 어니언으로 방문했었어요 기대치가 너무 높았던 탓인지 수유 어니언은 기대보다는 그냥 그랬어요 매장이 넓은데 자리가 거의 없다고 해야 하나 그냥 비어있어요  그리고 의자를 가져다가 앉을 수 있는데 저한테는 굉장히 현대 미술적으로 다가왔습니다 음료는 그냥 괜찮았고 빵은 맛있게 먹었는데 기름이 너무 많아서  좀 당황했습니다',\n",
       " '지인 추천으로 방문했던 추어탕 집 이곳 주변에 대략 십여 개의 추어탕 골목이 형성되어 추어탕 집이 많은데 그중에서도 사람이 제일 많은 곳 거리 두기로 손님을 줄여서 입장하고 있지만 주말 아침 일찍부터 이미 만석 소개로 갔기에 기대를 너무했던 탓인지 먹는 내내 나와는 맞지 않은걸 느낌 돌솥이 아닌 스테인리스 솥이라 밥은 금방 식고 추어탕 맛도 이게 추어탕인지 어죽인지 모를 정도라 그다지 다시 오고 싶지는 않았음 장점이라면 직접 막걸리를 담그시는지 바가지 막걸리를 단돈 천 원에 판매해 애주가들에겐 인기 좋은 곳 인건 확실함 그리고 식사 뒤 후식으로 나오는 술빵이 맛이 더 좋음',\n",
       " '알자 지점으로 갔어요 바다 보러갔다가 괜찮아 보이길래 들어갔는데 알고 보니 맛 집 문어 파스타 매콤한 알리오 올리오 느낌 간도 적당하고 너무 맛있어요 문어도 안질 기고 말캉 부드러움 전복 리소토 지금까지 먹어봤던 전복 리소토 중 등 전복도 마리나 현무암 치즈 카츠 무난한 맛 사이드로 나오는 전복밥이랑 카레 가 존 만 인테리어는 테이블보가 있는 본점이 좋은 것 같아요 그래도 한적하게 먹을 수 있어서 좋았어요 가격은 비싼 편이지만 이태원 가도 비슷한 가격대라 뭐 서울 와서도 계속 생각나는 맛이라 비슷한 식당을 찾아봐야겠음 ',\n",
       " '맛있었는데 뭔가가 빠진 듯 아쉬운 느낌 마무리로 나온 소금 아이스크림이 진짜 맛있었던 곳 뭔지 모르게 아쉬우니 재방문은 할 예정',\n",
       " '된장찌개를 좋아하는데 관악 쟁의 된장찌개는 일반적인 된장찌개 완 조금 다르게 맑다고 해야 하나 맛있어요 고기도 많이 들어있고 된장에 비벼 먹는 비빔밥과 같이 먹으니 최고',\n",
       " '진짜 최고다 음식 정갈하고 푸짐하고 기본 음식이 끝도 없이 나온다 이름이 여수 맛 집인데 네이버가 서치가 안되게 해놨다 그게 가장 큰 단점이다 회나 해산물 정말 신선하다 추천한다 여수에서 횟집 중엔 이 집보다 뛰어난 집을 보지 못했다',\n",
       " '파히타는 양도 많고 맛있었는데 파스타는 무슨 정체 모를 맛이었어요 가격은 좀 비싸지만 강남역에서는 괜찮은 것 같아요',\n",
       " '일단 주차장이 넓어 좋고요 비빔국수가 정말 맛있어요 그리고 날씨가 쌀쌀하니 잔치국수도 맛있어요',\n",
       " '종류의 겉절이 신 김치 때문에 들깨칼국수 바닥까지 긁어먹을 수 있었다 진한소고기스프향을 시작으로 구수하고 달짝지근 걸쭉한 국물과 면이 풋내 없이 쫄깃했고 식사 후 배불러 오는 부담이 없었다 조미료 없이 어떻게 이렇게 맛있을 수가 있지  평일 오픈 시간에 방문하게 되어 영광이다',\n",
       " '이 시간에도 사람이 들락날락하네 ',\n",
       " 'Very tasty',\n",
       " '가격도 괜찮고 아주 맛있어요 내부 인테리어도 깔끔하고 직원분들이 친절하세요',\n",
       " '구성비 좋은 스시집 포장해서 태화강공원에서 먹었다 적절한 가격에 괜찮은 스시',\n",
       " '따뜻한 느낌의 한옥 아기자기한 소품과 빈티지 가구의 조화가 멋스러워요 게다가 음식은 더더 맛있어서 만족스러워요  단호박 피자 리코타치즈 샐러드는 꼭 드셔야 하고 다른 피자들도 맛있어요 바비큐 피자는 아이들과 먹기도 좋고요 버섯 가득한 풍기 피자도 맛있어요 미남 사장님이 권해주시는 밀맥주도 맛있게 마셨어요 부부가 운영하시는데 참 예뻐 보여요',\n",
       " '버거 짱맛있어욥 먹고 주변 산책하기도 좋고',\n",
       " '동네 맛 집 스타일 가게인데 이상하게 밖에서 더 유명하고 동네 사람들은 음 고기 빼고 모두 무한리필 가능 밥 편차가 있는데 맛있을 때는 정말 맛있음 교통 편이 편도 분 이상 걸린다고 하면 굳이 올 필요 있을까',\n",
       " '지난 년간 프렌치 요리에 꽂혀서 서울에 있는 다양한 프렌치 레스토랑을 여러 군데 다녀봤어요 결론은 서울 시내에서는 이곳이 최고라는 점입니다 특히 양념 맛에 많이 길들여진 요즘 음식문화 상황에서 식재료 자체의 맛을 중시하는 점은 같은 프렌치 레스토랑들 중에서도 가장 큰 차이점으로 느껴지더군요 물론 높은 가격이 가장 큰 부담요인인지라 특별한 날 특별한 사람과 함께 할 때 좋을듯해요',\n",
       " '자주 오고 싶은데 너무 멀어서 손에 꼽을 정도로 오게 되는 연희동 주차가 가능해서 가게 된 노아스 로스팅 일단 분위기가 너무 예쁘다 꼭 교외로 나온 것 같은 기분이 들게 하는 곳 저녁에 갔더니 공부하시는 분들도 있었고 친구 연인끼리 오신 분들도 많았다 저녁에는 좀 쌀쌀하지만 담요 달라고 해서 덮고 창가 자리 앉으니 너무 좋았다 아메리카노랑 얼그레이 초코롤 주문했다 먹기 전에 일단 커피잔도 접시도 최저인 것 아메리카노는 호불호 없는 맛에 저는 맛있었어요 얼그레이 초코론은 생각보다 얼그레이 향이 강하게 훅 들어와서 너무 좋았고 묵직하고 진해서 좋았다 이런 곳이 가까이에 있다면 매일 오고 싶다',\n",
       " '부드러운 버터 느낌도 나고 시럽 처리 덕에 달달하니 굳굳굳',\n",
       " '원래 아메리카노만 마시는데 여긴 플랫 화이트가 시그니처 메뉴인 것 같길래 먹어봄 원두를 선택할 수 있는데 나는 다크초콜릿 향이 나는 원두로 선택 향이 좋고 무엇보다 고소해서 이래서 플랫 화이트를 먹는구나 했던 자리는 오래 앉아서 머물기는 불편하기는 할 것 같은데 정말 맛있는 커피가 먹고 싶다면 꼭 가볼 것을 추천',\n",
       " '한 개만 금방 나온 걸로 먹어봤는데 겉바속촉 너무 맛있었어요 팥소도 부드럽고 많이 달지 않고 맛있어요 아무 리뷰',\n",
       " '직원들도 친절하시고 양념 맛이 사라 있네요  다음에 또 들리겠습니다',\n",
       " '오늘 갔다 왔는데 고기 질도 너무 괜찮고 다양해서 먹을만했어요 직원분들도 친절해서 기분 좋게 잘 먹고 가요',\n",
       " '르쎄 케이크 정말 다 맛있어요 당근 케이크 정말 맛있으니까 꼭 먹어주길 바랍니다',\n",
       " '정말 숨겨진 맛 집입니다 울 교수님 최애 맛 집인데 너무 알려지면 울 교수님 원하실 때 못 드시니까 너무 유명해지진 않았으면 좋겠습니다 모둠 인분 곱창 유창 시켰더니 세 명이서 정말 배불리 먹을 수 있었어요 모둠에는 곱창 대창 막창 유창 염통이 포함되어있어서 두 명이서 오면 먹기 좋은 것 같아요 가장 감동받은 것은 곱창 안에 곱이 진짜 가득가득 들어차 있어요 겉을 적당히 바삭하게 굽고 먹으면 겉바속촉 그 자 체 곱이 엄청 부드러워요 마치 안 키모 같은 식감 언어의 한계 대창은 역시 기름 퐝퐝하구 유창은 여기에서만 먹어본 것 같은데 신기했어요 약간 쫄깃쫄깃하니 씹는 맛이 좋았어요 많이 기름지지 않아서 다른 메뉴 먹다가 먹기에 좋아유 부추도 기름에 사악 구워 먹으면 맛있어요 그리고 양념에 고추 송송 썰어서 넣은 다음에 곱창을 삭 찍어 먹으면 느끼한 맛이 좀 잡혀요 기름이 많아서 쉽게 느끼해질 수 있으니까 고추 꼭 넣어서 먹어보셔 융 아 또 가고 싶다의정부는 그립지 않지만 소 곱창은 그리워요 교수님도 그리워요',\n",
       " '안녕하세요 마르스입니다 백종원 대 천왕에 나온 치킨맛집 중국식으로 튀긴 치킨에 마늘과 파를 집어 간장소스에 찍어 먹으면  튀김옷이 담백하면서 바삭함이 완전 최고 탕수육과 치킨이 합쳐진 느낌 양념치킨은 계피 향이 입혀진 흔히 알던 맛이지만 은은하면서 자극적이지 않아 계속해서 끌리는 중독성 강한 맛이었다 다음에 갈 땐 마늘치킨만 시킬 듯',\n",
       " '한국인이 먹기에도 거부감 없는 마라샹궈입니다 먹고 싶은 재료를 고를 수 있어서 좋습니다 꿔바로우도 맛있습니다',\n",
       " '진짜 어이가 없네요 이게 어떻게 천 원입니까 맛도 맛이지만 진짜 먹다 지쳐서 남겼습니다 만수무강하십시오',\n",
       " '맛있네요 냄새 안 나고 굿',\n",
       " '아 행복합니다 제가 제돈을 주고 음식을 먹게 해주셔서 감사합니다 좋은 경험이 되었습니다 그냥 제가 제돈을 내고 이런 서비스와 수준 미달의 음식을 입에 넣은 저의 잘못을 깨닫게 해주셔서 감사합니다 음식 조리는 알바가 하는 게 아닙니다 사장님 기본적으로 교육이 필요합니다 모양만 이쁘면 음식이 아닙니다 맛은 있어야 된다고 생각합니다 분위기가 있어야 음식집이 아닙니다 최소한의 기분 나쁘지 않을 정도의 응대는 있어야 된다고 생각합니다 서비스와 음식의 질 모두 저의 입맛에는 맞지 않았습니다',\n",
       " '오늘은 집에서 택배로 받아본 활어회입니다 자연산 광어로 주문했는데요 역시나 사장님이 신경 써서 좋은 광어로 보내주셨네요 저번 날에 신랑이랑 꽃게도 시켜 먹은 곳인데요 태안에서 살 때 단골이었던 태안 수산입니다 태안 재래시장 수산시장 안에 있는 횟집인데요 각종 활어회와 조개 꽃게 등등 해산물도 푸짐하게 주시는 곳이에요 그래서 단골로 자주 찾다가 안산으로 이사 와서 굉장히 못 가서 아쉬운 횟집인데요 이렇게 택배로도 받아볼 수 있어서 너무 좋은 것 같아요 사진 정리하다가 태안 수산 싱싱한 활어와 질 좋은 수산물이 가득인 수조관을 찍었던 영상이 있네요 사장님께서 워낙 싱싱한 활어회와 해산물들을 고집하시기 때문에 시켜 먹는 소비자의 입장에서는 엄지적입니다 사장님 마인드가 굉장히 좋으세요 요즘에 제철인 동죽조개도 시원하게 끓여 먹으려고 주문했고요 활어회와 매운탕 거리도 같이 보내주셨어요 회는 짱짱하게 진공 포장되어 도착했어요 태안 수산 사장님은 꼼꼼하게 신선도 유지에 신경 써주세요그래서 바로 횟집 가서 먹는 그런 기분을 낼 수 있어요 회를 두툼하게 큼지막하게 썰어 주시거든요 그래서 얇은 회 두세 점을 한 번에 먹을 필요 없이 한점만으로 회의 육즙이 팡팡 정말 회 먹는 기분이 들어요 매운탕 안에도 새우와 동죽조개가 가득이라서 제대로 국물이 우러납니다 정말 매운탕 같은 매운탕 먹는 것 같아요 싱싱한 매운탕도 빨리 조리해 줍니다 어려운 것 없어요 무와 양파가 있어서 넣어 줬고요 회는 아무것도 안 찍어 먹어도 충분히 너무 맛있네요 탱글 한 식감과 회 맛을 좋아하시면 아주 마음에 들어 하실 거예요 태안 활어회 전문점이라서 싱싱함이 남다르지요 레몬까지 넣어주시는 세심함까지 칭찬할만하지요 충분히 회를 길게 썰어주셔서 초밥을 만들어 먹어도 식감 좋을 것 같아요 어떻게 먹어도 참 맛있는 자연산 회랍니다 태안 수산에서 회택배 시키실 땐 꼭 잊지 마시고 동죽조개도 함께 시키세요 다른 조개류는 치패를 바다에 뿌려 양식을 하지만 동죽은 양식을 하지 않기 때문에 자연산입니다수산시장에도 동죽이 없을 가능성이 많다네요 태안 재래시장 태안 수산에는 있습니다 그리고 매운탕 국물 하나 버릴 것 없어요 다음날에 조개 조금 더 넣어서 해장 해물 라면을 끓여 먹었어요 주소 충청남도 태안군 태안읍 시장 길  남문리  단체석 포장 예약 지역화폐 지류형 카드형 모둠 조개 통신 판매 전문점 각종 활어회 포장 바닷장어 대하 꽃게 낙지 각종 조개류 태안 자연산 우럭포 태안 제철 수산물 포장 택배 전문점 사장님 전화번호 ',\n",
       " '싼 맛에 먹기에 괜찮지만 굳이 홍대 마카롱과 비교할 것도 없이 그냥 쏘쏘한 수준의 마카롱과 푸짐한 필링 상쾌하고 개운한 느낌의 마카롱을 찾는다면 비추 마카롱은 다 좋아 그렇다면 추천',\n",
       " '진하고 깔끔하고 고기가 푸짐함 달리 말하면 특별한 맛은 아님 또 그래서 질리지도 않음',\n",
       " '가끔씩 가는 카페 조용하니 혼자 앉아있기도 좋다 플레 히팅이 예뻐서 좋아하는 곳',\n",
       " '요샌 장칼국수 파는 데가 많이 없어져서 아쉬웠는데 꾸준한  맛 집이네요',\n",
       " '무난한 맛에 양도 넉넉하며 야채도 많이 챙겨주지만 임팩트가 있는 맛은 아니고 가격도 국수치곤 사악하다 만두도 역시 같음',\n",
       " '타르트 종류가 꽤 많아요 올라가는 과일 종류도 다양함',\n",
       " '신랑이랑 아이들이랑 자주 갑니다 요 근처에선 함박식당이 제일 맛있는데 뭐 입맛은 사람마다 다르니까요',\n",
       " '떡이 엄청 쫄깃해서 엄마가 집에서 해주는 쌀떡볶이 먹는 기분이었어요 자리가 좁아서 조금 불편했지만 떡볶이는 맛있었습니다 근데 멀리서 찾아와서 먹을 정도는 아니고 그냥 무난 한 정도인 것 같아요 떡볶이는 역시 학창시절 학교 앞 떡볶이가 최고인 듯',\n",
       " '식었는데도 감자튀김이 맛있는 이유는 이 집은 정말 질 좋은 감자를 쓰기 때문인 것 같음 환상의 맛 사랑해요 포테이토 워로 원 근데 사장님 말고 알바 언니들이 튀겨주면 맛없음 왜죠 그래도 알다 언니들 좋아요 사장님이 맨날 이쁜 언니들만 알바로 뽑음',\n",
       " '면이 약간 굵지만 퍼지지 않아 식감 좋고 맛있어요',\n",
       " '구성비  맛  분위기  재방문의 사  단골 카페 사장님한테 추천받아 간 곳인데 그 카페보다 맛있어서 걱정이다 원두가 두 가지 있어 산미가 적은 여운을 골랐다 포근하고 부드러운 맛이라 햇빛 받으며 마시면 기분이 편안해진다 일하시는 분들이 다들 성격 좋고 사려 깊다 사장님이 선물 받으신 케냐 원두로 한 잔 내려 주셨는데 처음엔 산미가 아주 강해 깜짝 놀랐으나 끝 향리 좋고 향긋해 계속 당기는 맛이었다 커피 어떤지 맘에 드는지 계속 물어보시고 자세히 설명해 주셔서 정말 좋았다 시그니처 메뉴로 복분자 라테가 있다 사장님 어머니께서 직접 담근 복분자 첨으로 만드는데 하나도 안 달고 정말 맛있음 색깔도 예쁘다 베이커리류는 없어 나 같은 먹종이는 슬프다 그래도 커피 맛이 좋아 충분히 찾아갈 가치가 있는 곳',\n",
       " '공갈빵 먹고 왔어요 만두도 있었는데 배가 불러서 공갈빵만 사 왔는데 달달하니 괜찮았어요',\n",
       " '여행 중 우연히 들른 집인데 정말 맛있었습니다 생선구이는 원인데 고등어 꽁치 임연수어가 나와요 곤드레 밥의 나물도 매우 부드럽고 쌈 채소도 싱싱하고 더할 나위 없이 만족스러운 식사였습니다 추천',\n",
       " '년째 방문 중 이제는 제주여행의 목적이 되어버린 글라글라 하와이 여자친구는 제주도 방문 일주일 전부터 글 라그라를 입에 달고 산다 수많은 식당들이 맛이 변하는 와중에도 기대를 저버리지 않고 매번 최고의 맛을 경험할 수 있다 하와이안 해물찜은 무조건 먹어야 하는 고정 픽 하며 퍽퍽 살을 좋아한다면 달고기 부드럽고 기름진 식감을 선호한다면 은갈치 앤드 칩스를 추천한다 밥 종류 중에선 개인적으로 포키 볼보다는 슈림프 볶음밥이 더 좋았다 다만 초기엔 사장님이 기운 넘치시고 직접 서빙하시며 입담을 보여주셨는데 최근 두 번의 방문 동안에는 아예 주방에서 안 나오셔서 좀 아쉬웠다 아 해물찜을 먹을 예정이라면 흰색 옷은 입지 않는 것을 추천한다 무조건 튐 암튼 튐',\n",
       " '월 초 당일 전화 예약 방문 주메뉴 개 있는 고깃집에 안심이 없다 함 착 석전에 카운터에서 알려주든가 마늘 다 타들어가서 불렀더니 멀뚱거리며 어쩌라고 하는 표정으로 서있음 테이블 수 대비 인원이 많이 부족해 보임',\n",
       " '공장 같아요  맛은 인정 서비스는 글쎄 ',\n",
       " '분위기도 정갈하니 조용하고 너무 좋았어요 분위기 있게 식사 가능한 일식집',\n",
       " '영국 음식을 위한 변명 차만 다의 피시 앤칩스 영국 음식 영국에는 맛있는 음식이 없다는 편견이 세계적으로 널리 퍼져있지만 사실 영국은 수집한 미슐랭 스타로 세계에서 열 손가락 안에 들어가고 많은 세계적인 스타 셰프들을 배출한 나라다 영국 사회 전반에 자리 잡은 티타임의 영향으로 제과제빵 기술과 디저트 문화도 남부럽지 않게 발달했다 영국이 이런 오명을 쓰게 된 건 주로 일상식의 빈약함에 기인한다 피시 앤칩스 외에는 먹을 게 없다는 소리가 나올 정도로 일상식의 다양성이 떨어진다는 것인데 그 이유로는 척박한 토지와 기후로 인한 식재료의 제한 청교도의 금욕주의와 복잡한 조리를 기피하는 문화 등이 꼽힌다 또한 예전부터 바다를 식량의 보고로 인지해온 일본과 달리 영국은 바다를 미지의 대상 혹은 그저 육지를 잇는 통로로 보았기에 섬나라임에도 해산물 요리가 크게 발달하지 못했다이 와중에 하필 이웃나라는 세계의 미식 중심지인 프랑스 비교가 될 수밖에 차만 다 국내에 영국 음식을 전문으로 하는 곳은 거의 찾아보기 힘들다 피시엔 칩스를 파는 펍이나 영국식 베이커리 정도가 전부다 그래서 이 식당의 존재가 참 귀하다 송리단길을 시작으로 서울의 미식 요지들에 거점을 늘려가고 있는 영국 음식점 차만 다 피시 앤칩스 셰퍼드 파이 같은 영국의 오리지널 음식부터 치킨 티카 마살라 캐저리 같은 인도의 영향을 받아 탄생한 영국의 일상식들 그리고 영국 스코틀랜드의 맥주까지 단출하지만 짜임새 있는 구성으로 영국의 식탁을 구현했다 그리고 단순히 옮겨오는데 그치지 않고 음식마다 자신의 색깔을 입혔다 이 집의 시그니처 메뉴인 셰퍼드 파이를 예로 들면 양고기가 아닌 소등 심을 사용해 바탕을 깔고 완전히 으깬 mashed 것이 아닌 잘게 다진 hashed 감자를 써서 꼭 감자 채전 같은 식감을 주도록 했다거기에 모차렐라 치즈와 사워크림을 올려 누구나 부담 없이 즐길 수 있는 음식으로 탈바꿈했다 이곳을 방문한 뒤 영국 음식은 맛이 없다는 편견이 깨졌다는 사람들이 많다 내게 이 식당은 그간 억울했을 영국 음식을 위한 근사한 변명 같았다 피시 앤칩스 영국 음식점에 왔다면 생선과 감튀를 이웃나라에서 넘어온 감자튀김과 유태인 이주민들의 생선튀김이 만나 탄생한 요리다 산업혁명 이후 면직 공장의 부산물로 면실유가 영국 내 싸게 유통되었는데 노상에서 생선과 감자를 빠르게 기름에 튀겨먹는 피시 앤칩스 갸 이때부터 본격적인 인기를 끌기 시작했다 그리고 차 세계대전 직후 배급제로 인해 식료품이 제한되었을 때 많은 식당들이 수급이 용이했던 감자를 사용한 피시엔 칩스를 메뉴로 내세우면서 이 음식은 더욱 널리 전파되었다 지금도 영국 음식 하면 많은 이들에게 top of mind인 음식이다 차만 다에 서도 피시 앤칩스 우는 역시나 대표 메뉴 중 하나다와인 반죽한 대구살과 웨지감자를 튀겨 치폴레 소스와 샐러드를 곁들여 낸다 공기층이 느껴지는 바삭한 튀김과 담백한 맛으로 가득 찬 대구살의 어색한 듯 자연스러운 조화 생선튀김의 묘미다 내심 몰트 비니 거를 기대했지만 매콤 새콤한 치폴레 소스와의 궁합도 썩 나쁘지 않았다 피시 앤칩스 갸 자연스레 낮 막을 부른다 스코틀랜드에서 온 테넌트 위스키 맥주 사실 여름보다는 겨울에 더 어울리는 맥주지만 맛있으면 사시사철이다 싱글몰트위스키 오크에 숙성해 진한 오크 향과 은은한 위스키 향이 크 풍긴다 맥주의 풍미를 더 풍성하게 즐길 수 있게 덜 차가운 온도로 내주는 이런 센스 instagram colinbeak',\n",
       " '애피타이저로 나오는 단호박 수프 기대하고 갔는데 역시 기억에 남는다',\n",
       " '체인점 신의주 찹쌀순대 얼큰 순댓국 매콤하니 맛있어서 자주 가느누곳',\n",
       " '지금까지 들 바둑이 방울만 잘도 울리는 줄 아셨죠 속초 소방 울리 사나이 울리는 건 모르시죠 빨란 뚜껑만 골라 작살내는 형아야 누나 아들의 숨겨진 천국 소방 울를 자신 있게 소개합니다 가게 구조가 특이하게 반 다찌 반 테이블로 되어있어요 다찌에 남녀 커플 한 팀 테이블에 남녀 커플 한 팀 계셔 가지고 들어가니 다찌에 앉아있던 커플 중 여자분이 냉장고에서 반찬이랑 이것저것 꺼내주셨어요 사장님 제사 지내고 바로 오신대요 알고 보니 자기들도 손님이래요 사장님이 잠깐 자기들한테 가게 맡겨놓고 가셨다 그래가지고 못 살아 정말 여기서부터 극화요 무적권 빨간 뚜껑 부셔야겠어요 사장님 오시고 도치 알탕 소자 원 시켰어요 도루묵 구이 소자 원도 추가했는데요 사장님 자기 늦으셨다고 양미리도 서비스로 주셨거든 지고 문 오홍홍 좋아요 적당히 익은 김치 넣고 얼큰하게 끓여낸 도치 알탕은 별미 중의 별미였어요첨 먹고는 생선 넣은 김치찌개네 싶었는데 숙소 와서 친구랑 드러누우면서 자꾸 생각 나가주고 쫄깃 탱탱한 도치 살코기에 고소한 도치 아라이 아삭 새콤한 김치와 만나면 내 입안에 노벨화학 상이요 도루묵이랑 양미리 빼놓지 마시세 빠삭하게 구워내서 대가리까지 빠작빠작 씹어먹어야 제맛이에요 알배기라 그 크리미한 알 한 입에 탐욕스럽게 먹어야 하는 거 아시죠 사장님이 자기 가게 유명해지는 거 싫다 하셨지만 어쩔 수 없어요 운명인걸요',\n",
       " '특별함을 기대했다면 실망스러울 수 있음',\n",
       " 'Maybe the single most overrated burger in town Utter disappointment If you like onions thousand island dressing limp fries and emptiness please go If you like good burgers go to Firebell The  Food Truck or Star Burger This place sucks',\n",
       " '신선하고 맛있어요',\n",
       " '장점 양념이 잘 베여있다 오징어 판연 가격 대비 괜찮다 단점 반찬이 적다 머리카락이 한 번 두 번 나와서 위생이 팁 줄이 많으니 일행 중 한 명이 먼저 가서 줄 서자 대패삼겹까지 있는 건 가격 대비 비싼 편이다 오징어 팬이랑 비교했을 때 양 차이가 별로 없음 부추 리필은 직원 마음대로 어느 날은 가능하고 어느 날은 안된다 반찬은 미역 냉채와 당근인데 빙초산 넣은 것처럼 엄청 셔서 생각만해도침나옴생레몬 즐겨먹는데도 머리카락은 두 번 정도 나왔는데 판 시키고 한입도 못 먹었는데 교체해줄 때 양이 인분도 안 돼서 당황 양념이 먹을만해서 갈만했었다',\n",
       " '맛있는 편이에요 최고의 곱창집',\n",
       " '프랜차이즈 빵집에선 볼 수 없는 독특한 빵들도 있고 또 엄마가 드시더니 맛있다고 좋아하셔요 ',\n",
       " '루프탑 맛집 커피도 괜찮음',\n",
       " '요새 초밥을 조금 자주 먹게 된 덕분에 초밥집 고르는 저만의 기준이 생겼는데요  서울대 입구 낙성대 녹두거리 기준으로 연어초밥은 은행 굴 느끼한 초밥 먹고 싶을 때는 김창일 스시 회가 크고 약간 회로 flex 하고 싶을 때는 니와 그리고 모둠 초밥 먹고 싶을 때는 초와 밥입니다 초밥 종류 중에 어느 하나 별로인 종류가 없어서 좋아요 보통 저가의 모둠 초밥에는 어느 한 종류는 비리거나 질기거나 하지 않나요 그런데 여기는 밸런스 좋게 전부 맛있어요 올라간 회가 큰 편은 아니라 회 말고 특별한 토핑이 올라가지 않아서 깔끔한 편이고 대신 밥이 조금 간이 세고 잘 부서지는 편이었어요 분위기는 교수님이랑 와도 괜찮을 정도로 정갈한 분위기에요',\n",
       " '너무 맛있는데 양이 정말 적네요 근데 맛있어요',\n",
       " '중국 만두가게 싸오롱바오 스타일의 육즙 만두가 무난합니다 건두부도 좋습니다 ',\n",
       " '외관 기사식당이라 주차가 쉽다는 것이 아주 큰 장점',\n",
       " '외관도 너무 예쁘고 실내 인테리어도 너무 예쁜 카페 데이트하기에 좋은 곳 같음 ',\n",
       " '기름 재활용을 안 해서 색이 약간 밝은데 그래서 더 믿을만하고 맛있어요',\n",
       " '옆의 슴벅을 물리치고 방문하고 싶게 만드는 공간의 힘',\n",
       " '집 밥보다 더 정성스러운 건강한 한 끼를 먹을 수 있어서 자주 갑니다 생선 양도 많고 반찬도 다 맛있어요 주인 내외분이 친절하세요',\n",
       " '집 근처 떡볶이 먹고 싶을 때 가끔 와요 맛있어요 떡볶이는 섞어 먹을 수 있어요',\n",
       " '오래전부터 단골인 집이에요 최근까지 법정 소송으로 문을 닫았다가 영업을 재개했어요 그전에 비해서 사실 양대비 가격이 많이 오른 것 같아서 그 점이 좀 아쉬워요 그래도 여전히 맛있고 친절하십니다',\n",
       " '최악 맛 집이었어요',\n",
       " '맛있는 고기와 손수 구워서 잘라주는 서비스까지 전체적으로 마음에 들었습니다 다만 가격 대비 밑반찬은 쏘쏘했네용',\n",
       " '진짜 존맛탱 여기 내 인생 파스타 맛집',\n",
       " '고양 맛집 이케아  이케아에서 레스토랑은 일종의 관광코스와 같아서 그냥 지나치기 아쉬운 곳 추억의 미트볼을 먹어본다 칸 타인의 분위기와 무척 착한 가격에 사실 맛은 이미 좋은 듯  식당은 가족 나들이 분위기 아이들 데리고 오면 딱 좋은 장소',\n",
       " '일단 사장님이 엄청 친절하세요 설명도 잘 해주셔서 감사한 마음으로 잘 먹고 왔습니다 냉면  낙지 밥 군만두 시켰는데 군만두가 제일 맛있고 그다음 냉면 맛있었습니다 낙지 밥도 맛있긴 한데 둘이 냉면에 만두에 낙지 밥까지 시키기엔 많은 것 같아요  술은 제 입맛에 너무 맛있어요 이름 미친 봉밀주 사랑해요 봉밀주',\n",
       " '저렴한 가격으로 이탈리아 스타일 음식을 코스로 맛볼 수 있어서 좋았습니다',\n",
       " '호주 브런치의 맛을 그대로 가져온 거 같아요 경리단 길에서 이렇게 맛있는 에그 베네딕트와 프렌치토스트 커피를 즐길 수 있는 곳이 없는 거 같아요 여름에 너무 어울리는 수박 케이크랑 호주에서만 먹을 수 있던 래밍턴을 맛볼 수 있어서 좋았어요',\n",
       " '아메리카노 마음에 듭니다',\n",
       " '서양 주택 내부 속 분위기나 인테리어가 예쁘고 친구들이나 연인끼리 오면 좋을 양식집이라고 생각했지만 음식이 별로여서 다신 오기 싫어요 명 중 명은 음식이 별로라고 했던 곳  리소토랑 로제파스타 진짜 별로예요 그럭저럭 피자가 맛있었고 외관도 예쁘지만 아쉬운 곳  음식을 직접 맛보시고 요리하셨으면 좋겠어요',\n",
       " '일층에서 많은 아주머님들의 호객행위가 있었지만 서울보단 훨씬 저렴한 가격에 물고기를 살 수 있습니다 월 중순인데 광어 숭어 등이 k 당 만 원이네요 쿨 거래를 하니 만 원에 여러 가지 잔뜩 넣어 kg을 훌쩍 넘게 주셨습니다 저희는 층에 있는 가게에서 먹었는데 직원분들이 바빠서인지 크게 얘기해야 하고 회 손질하시는데도 주문이 많아 좀 늦게 받았습니다 하지만 회도 잘 손질해주시고 밑반찬도 괜찮아서 기분 좋게 먹었습니다',\n",
       " '포장을 좀 잘해주셨으면 좋았을 텐데 제가 가져오면서 뒤집은 것도 아닌데 케이크가 다 흘러내리네요  자주 갔었는데 사람이 많아서 그런지 점점 서비스가 안 좋아지는 게 느껴져요',\n",
       " '비건 음식점이에요 전체적으로 맛이 심심하지만 맛있고 속이 편합니다',\n",
       " '명장의 베이커리 다양한 커피 라인업  블링 블링 힙해요  ',\n",
       " '일단 예약하는 거부터 남다른 맛 집 콘서트 티켓 매진되듯이 분 만에 한 달 치 예약 모두 완료 어쩌다 예약 성공해서 맛을 보면 이유를 알 수 있게 된다 이 가격에 이 퀄리티의 오마카세를 즐길 수 있는 곳은 여기뿐인 거 같다',\n",
       " '영대에서 유명한 카페 브라우니 음료도 맛있고 와플이나 빙수도 맛있어요 특히 딸기 철에는 딸기 메뉴가 잔뜩  전 치즈케이크나 딸기가 들어간 메뉴가 가장 맛있었어요 치즈케이크 라테는 바닐라 셰이크 위에 필라델피아 치즈케이크가 듬뿍 올라가 있는데 바닐라 셰이크에서 치즈 맛이 느껴지지 않는 건 좀 아쉽지만 전 바세를 좋아하므로 치즈 맛을 많이 느끼고 싶으면 치즈케이크 빙수 추천해요 빙수에도 재료가 듬뿍 올라가 있어요 재료를 아끼지 않고 왕창 넣어서 좋아요',\n",
       " '맛은 있으나 구성비가 떨어집니다 명이가 나 명이 가나 반찬 양은 똑같아 명이 가면 반 이상 남깁니다 중요 손님 가셔고 처음 나오는 거 보고 진수성찬이라 하지만 먹고 나면 특별한 맛보다 배만 부르고 아까워하시네요  쓸데없이 비싸게 받고 버리는 게 많은 집이네요  요즘 시대엔 안 맞는 거 같아요',\n",
       " '고기 두툼하고 좋아요',\n",
       " '전체적으로 다 맛있다 갈비 피자는 가격 대비 별로니 다른 파스타 추천',\n",
       " '바로 집 근처라 가족들 식사때 종종 가는데 갈 때마다 기억해주시는 사장님도 좋고 음식은 항상 재료를 아끼지 않고 쓴다는 느낌이에요 친근하고 조용한 분위기가 항상 좋고 여기 가면 대화도 많이 하게 되는 거 같아요 스테이크 들어간 크림소스 파스타랑 어니언 수프 맛나요',\n",
       " '가격도 합리적이고 맛도 최고 유명한 이네요 특히 차우셔우 정말 꼭 시켜야 하네요 참 완탕면에 들어가는 새우만두랑 같은 거 같네요 아 우육탕 면도 죽이네요 꿔바로우도 맛나고요  동파육도 물론 나쁘지 않네요  사장님은 잘 계시는지  혼자 가든 둘이 가든 항상 친절하셔서 감사했네요  건강하시고 조만간 다시 먹으러 달려가야죠',\n",
       " '기대만큼은 아니었지만 괜찮았던 건강 음료들 역시 단호박 스무디는 크롬옐로가 최고 인걸로 음료를 주문하니 연잎차와 유과를 서비스로 주셨다 원이란 가격도 인사동에선 무난한 편이니 근처에서 딱히 갈만한 곳이 없다면 추천',\n",
       " '직원분들 대체적으로 친절하고 낙지가 확실히 싱싱하고 특히 낙지볶음이 맛있어요 전체적으로 가격은 저렴하지 않지만 몸 보양한다 생각하고 오면 구성비 나쁘지 않아요',\n",
       " '빵은 배신하지 않는다',\n",
       " '떡볶이가 적당히 달아서 깔끔합니다 그리고 김말이 대박이에요 왕김말이라는 이름에 걸맞은 크기에 맛도 일품입니다 여의도에서 떡볶이 땅길 땐 여기 가려고요',\n",
       " '팔 선과 더불어 중식 예의 양대 산맥 가격대가 높지만 단품으로 적절히 시키면 합리적인 메뉴 구성을 할 할 수 있다 탕수육만 유명하지만 불도장은 정주영 회장님이 즐겨 찾던 메뉴 담백한 맛이 일품일 생선요리도 추천',\n",
       " '샌드위치 맛은 그럭저럭 괜찮았지만 두 번 가지는 않을 것 같음 개인적으로 한 번이면 족한',\n",
       " '엄청 엄청 맛있지는 않다 하지만 구성비 굿 베리굿 굳이 찾아가서 먹을만하지는 않지만 근처에 있다면 햄버거는 무조건 여기로 고고 어느 리뷰에서 구성비 좋은 좀 더 맛있는 맥 날라고 했는데 어느 정도 동의하지만 훨씬 안 퍽퍽하고 맛있고 맛있다 감자튀김은 평균 벗 햄버거 겉면을 싸고 있는 포장지 외에 그 안에 햄버거를 감싸고 있는 포장지가 또 있음 이거 불편함  거기에 치즈도 엄청 붙고 근데 근처라면 무조건 여기서 햄버거',\n",
       " '디저트 맛 집인데 배가 불러 커피만 시켰습니다 일단 이 정도 가격대인데 대회용 컵이 아닌 종이컵을 사용한다는 점에서 굉장히 성의 없어 보였습니다 주말 저녁때라 바쁘다 치더라도 근무자가 셋이나 있던데 아쉽습니다 커피는 신맛을 골랐는데 너무 시기만 하더군요 다음엔 쓴맛 커피와 디저트 도전해 보겠습니다 아무 리뷰',\n",
       " '설렁탕 육수가 진해서 그런지 먹고 나면 엄청 든든하네요',\n",
       " '카페 내부는 안락하고 좋은데 가격이 사악해서 구성비가 좀 그럼  ',\n",
       " '매번 늦게 가다가 좀 이른 시간에 갔더니 가게 안도 비교적 조용하고 안이하게 잘 먹었어요',\n",
       " '학교 근처에 이렇게나 많은 크래프트 비어를 취급한다는 게 놀랍다 가격대는 좀 있음',\n",
       " '돈가스 고기 질이 너무 훌륭하네요 간단히 먹기 좋은 듯',\n",
       " '짜장 떡볶이로 최고봉인 집 이 집보다 맛있는 짜장 떡볶이를 먹어본 적이 없음 처음 가면 사장님이 약간 매운맛 먹으라고 권해도 그냥 원조 먹을 것',\n",
       " '생각보다 매장이 넓었음 점심에 시에 가면 분 대기해야 함 맛은 맛있었고 구성비 좋았음',\n",
       " '친구가 가자고 해서 간 곳이에요 웨이팅이 분 기다렸어요 황리단길 둘러보다가 대기실에서 또 기다렸네요 자극적이지도 않고 밥에 비벼 먹기 좋은 맛이었어요 감태 주먹밥이 신선한 메뉴인데다가 갈비찜이랑 잘 어울렸네요',\n",
       " '여긴 점은 항상 방문포장 은 하고 있습니다 파파존스 피자는 완전 미국식 피자로 토마토소스에 짠맛 나는 다양한 토핑과 가득한 치즈까지 느끼하고 맛있는 피자가 땡 낄 때 딱입니다 정말 맛있어요',\n",
       " '종업원도 주인도 불친절 특히 종업원 아줌마는 소란스럽고 가르치려 하네요 맛은 쏘 쏘 기분 유쾌하지 않은 것을 참고 먹을 만큼 특별하지는 않네요 재방문은 안 할 거 같아요',\n",
       " '기대하고 갔다가 실망',\n",
       " '동네를 지나다가 냄새가 좋아서 가고 싶었던 곳 기회가 되어 사 먹게 되었고 포장해 집에서 먹었다 숯불 향이 입혀지고 기름기가 쫙 빠지니 껍질은 바삭하며 고소하며 살도 부드러웠다 발굴까지 잘 되어 먹기까지 편했음 안에 들어 있는 누룽지 밥도 맛있었고 대추와 인삼도 넣어 풍미까지 좋았다 치킨무에 열무 그리고 콜라 서비스까지 모자람이 없었다 재방문 하고 싶을 정도',\n",
       " '오리훈제 만족스러운 편',\n",
       " '호텔 안 카페 겸 레스토랑 와인을 아주 저렴하게 맛볼 수 있고 스테이크가 맛있었다 주로 가족들이 오는 호텔이기에 아이들이 함께 오는 경우가 절반이지만 문제 되지는 않았다 분위기도 매우 만족',\n",
       " '치즈떡볶이 아주 깔끔했었어요',\n",
       " '만족해요 차 종류랑 디저트류도 많아서 좋았어요',\n",
       " '소시지 사리 깔끔한 거 같다',\n",
       " '다시 생각해도 운 좋게 웨이팅 없이 먹었지만 맛있었음',\n",
       " '소고기 돼지고기를 같이 구워 먹어도 되는 불판을 사용하니까 아무거나 막 구워서 먹음 돼요 깔끔했어요',\n",
       " '분위기가 좋은 곳 인테리어도 따뜻하고 시끌벅적하지 않고 조용하다 감성적인 공간으로 연인과 함께 가기에 좋다',\n",
       " '분위기도 있고 캐주얼한 느낌이었고 북경오리와 백사육 쓰란 갈비 보이차 꽃새우 튀김 너무 맛있었어요 나머지는 제 입맛에는 쏘쏘였구 먹다 보니 느끼해서 오이김치 같은 절임류가 있으면 좋을 것 같았어요',\n",
       " '상권에 비해 저렴한 가격과 접객 맛 모두 괜찮았어요 ',\n",
       " '카페가 너무 깔끔하고 이뻐요',\n",
       " '소 등심 꼬치 맛있는 편입니다',\n",
       " '웨이팅은 거짓말을 안 하네요 역시 기다려서 먹는 보람 잇는 집',\n",
       " '은평 사는 친구가 데려가 준 곳이에요  은평구 카페 콘텐츠에서 본 적이 있는데 역시 연신내 핫플레이스답게 자리 잡는 데만도 엄청 애먹었어요 사람도 많아서 시끄럽네요  평일에 갔는데도 이 정도면 주말이면 자리 없어서 나와야 할 수도 있을 것 같아요 하지만 정말 예쁩니다  초록 초록하고 나무나 무한 것이 이런 걸 그리너리 하다고 하나요 사람 없고 조용하면 절로 힐링 될 것 같네요 하지만 왜 카페 이름이 뤽상부르인지는 모르겠지만 뤽상부르 카페에서 유명한 와플을 먹었어요 처음에 비주얼 보고 너무 예뻐서 큰 기대하고 먹었는데 맛은 비주얼을 못 따라오네요  예쁜 카페에 비해서 별 맛은 없어서 아쉬웠던 곳이에요',\n",
       " '가격은 비싸지만 맛은 괜찮음 가게가 넓고 공간과 좌석이 다양함',\n",
       " '더 시키고 싶었지만 또갈꺼기 때문에 참았어요 너무 맛있었고 회가 신선했어요 여기 먹고 옆에 포장마차 멸치국수 먹어야 했는데 너무 많이 먹어서 고것이 아쉬웠던 날이에요 Sns 이벤트 하고 있는데 리뷰하고 마치 받았는데 진짜 맛있었어요 서비스가 이렇게 튼실하고 클 일이야  다 필요 없고 두 번 가세요 세 번 가세요',\n",
       " '가족 모두 항상 맛있게 이용하고 있습니다',\n",
       " '취향을 많이 매우 많이 탈 수 있습니다 이건 무슨 맛이지 여기를 왜 왔지 이런 생각이 드네요 명이 갔는데 명이 영 이상하더고 하네요',\n",
       " '초창기에 팔던 잇디 반값 비스티 버거세트로 먹었다 위치가 자주 가는 쪽은 아니지만 여기 갔다가 한강진 쪽 카페로 버스를 타거나 배부른 김에 걸어가면 괜찮은 코스 매장 크기가 기대보다 작아서 의외였다 빵이 아주 부드러웠고 패티는 생각보다 담백했다 감자튀김이 아주 신기했는데 놀랍도록 속이 부드러웠다 조금 두꺼운 편이긴 했지만 겉 부분은 살짝 바삭한데 속이 많이 부드럽달까 호불호 중에는 호 인테리어도 발랄하고 깔끔해서 괜찮더라',\n",
       " '안경 쓴 남자 사장인지 알바인지 너무 불친절해서 기분 나빴어요 다음부턴 안 가려고요  장사 똑바로 하세요',\n",
       " '로제파스타랑 불고기 피자랑 베네딕트랑 다 존 만이에 여 자몽에이드 상큼 달달 아 자몽에이드 또 생각나네 내일 또 먹으러 가야지 우헹헹',\n",
       " '직원분들 서비스도 좋으시고 무엇보다 음식이 정말 잘 나옵니다',\n",
       " '강남에 참치 무한리필이라니 무한대로 참치를 먹는다니 갈 수밖에 없는 맛 집',\n",
       " '담소는 원래 담소원이란 한정식집이었고 폐백 이바지 음식 하객 도시락 출장 뷔페 등을 전문으로 하는 반찬가게를 담소를 주엽에서 오랫동안 운영하였다 해요 정말 맛있어요',\n",
       " '생갈비 너무 맛있음 제주도 갈 때마다 방문해요',\n",
       " '빈티지 팝콘 팝콘 좋아하시나요 집에서 만들어보신 분들은 아시겠지만 팝콘이란 녀석은 제법 복잡 미묘하다 모든 옥수수알이 타지 않고 노릇노릇하게 익도록 열을 가하는 것은 그리 간단치 않다 눅눅해지기 쉬워 딱 먹을 만큼만 만들어야 하는 정도의 아름다움을 담고 있다고까지 생각한다면 뭐 좀 이상해 보이려나요 추운 날 맛있는 팝콘을 만나는 건 길거리 붕어빵 가게를 발견한 만큼이나 따뜻한 즐거움이다 멋들어진 유니폼을 입은 바텐더들의 젠틀한 응대와 위스키 베이스의 칵테일이 가득한 공간이 곁들여지면 더욱 그렇다 은근슬쩍 단골이 되고 싶어지는 건 당연하달까요',\n",
       " '심하게 맛없다 목만 힐 정도로 육즙 제로에 퍽퍽하고 통후추의 강한 향만이 찌르는 패티 야채라고는 인스턴트 할라피뇨 몇 점 특색 없고 맛없는 빵의 조화가 최악이다 요즘 맛있는 버거집이 많아서 여기는 다시는 안 간다 천 원을 넘게 받으면서 양상추 한 조각 안 들어 있는 건 너무하다는 생각이 든다',\n",
       " '단점   사람이 왔는데 어디 앉으라는 사람조차 없음  테이블에 벨도 없어서 주문도 못함  주문한 거 나오기 전까진 세팅도 안 해줌 물조차 없음  죽 나왔는데 수저 없어서 가락국수 숟가락으로 먹었음  죽다 먹으니까 수저줌  단품으로 먹었는데 온도조절도 안 돼있음 무슨 말인지 모르겠으면 옆에 있는 스시 오너에서 단품 먹고 오면 뭔 말인지 암  웨이팅 오더를 주방에서 내',\n",
       " '공간 음악 커피 빵 모든 것이 너무 완벽한',\n",
       " '분당권 뷔페 중에서는 가장 괜찮은 듯',\n",
       " '맛있다 프리미엄 어묵 원조 집',\n",
       " '맛있는 양 꼬치집 냄새도 안 나고 오랜만에 먹은 맛있는 양 꼬치와 호남식 닭고기 처음 먹어본 맛인데 되게 맛있다 정말 최고 바삭하고 튀김옷에도 살짝 매콤한 맛이 있어서 좋아요 다시 먹으러 가볼 만한 곳',\n",
       " '문어랑 닭이 들어가 있는 해천탕입니다 여러 명이 가야 먹을 수 있어요 몇 군데 다녀봤는데 이곳이 간이 잘 되어있고 맛있습니다 해산물도 적절한 시기에 꺼내어 손질해주시고 부들부들 야들야들 맛있습니다 칼국수 면도 쫄깃해서 두 번이나 퍼먹었어요 근처에 오시면 들러보세요',\n",
       " '카페에서 답례떡 들어온 걸 나눠주셨는데 너무 맛있어서 떡집까지 직접 찾아가서 구매했네요 맛있는 거 먹으니 가족 생각나서 제 인생 흑임자 인절미에요 마약 인절미 쫄깃하고 달달한데 짭짤해요 근데 가격이 사악해요 천 원 너무해 천 원이면 좋겠네요',\n",
       " '재미있는 관광지가 부족했던 시절 손님에게 욕을 한다는 카페는 신선함이 있었다 관광에 목을 매는 통영시에게도 옳다고 나였지 통영에 놀러 온 젊은이들에게 필수 코스가 됐다 웃겼으니까 얘깃거리니까  그러나 웬만큼 올 사람은 와보니 드디어 밑천이 드러나나 보다 여러 사람들의 리뷰가 모이고 있다  욕쟁이 할미 국밥과는 다르게 맛없는 커피들 홍대 카페들 보다 비',\n",
       " '부추 개 달아요 고기 그냥 초기임 여자 사장님이신지 매우 불친절하셨음',\n",
       " '오랜만에 고등학교 동창과 무려 년 만에 약속을 잡았습니다 고등학교가 전국구였어서 어쩔 수 없이 계륵과 같은 강남역에서 만나기로 했는데 역시나 불모지 강남역에서 맛 집 찾기란 보물찾기 수준 따라서 그날도 어김없이 마플을 켰고 그때 눈에 띈 곳은 어메이징 타이 평점이 높아 맛도 어메이징 할까 기대하고 갔습니다 같이 갔던 친구가 태국 악성 개인 팬 이어서 쿠킹클래스 경험을 바탕으로 음식 분석을 해줬는데 여긴 제대로라고 그러더라고요 예민한 미각인 저도 정말 맛있게 먹었습니다 인 세트똠양꿍푸팟퐁커리팟타이 역시 음식은 한 가지 음식을 많이 즐기기보단 샘플러처럼 다양한 음식을 조금씩 즐기는 것이 진리 인 세트답게 음식이 조금씩 나오는데 양이 모자라진 않았어요 우선 똠얌꿍은 한국인 입맛에 맞춘 느낌이었습니다 토마토 맛과 특유의 신맛이 강하지 않아서 입문자도 쉽게 먹을 수 있을 것 같아요 푸팟퐁커리는 제일 맛있게 먹었어요이 전까지 방콕 익스프레스에서 푸팟퐁커리를 가장 맛있게 먹었었는데 여기도 비슷하게 맛있습니다 마지막으로 팟타이는 면이 조금 뭉쳐있어서 아쉬웠고 고기가 적었어요 그래도 무난 무난 나쁘지 않았습니다  타이 밀크티 밀크티 악기인 저에게 너무 맛있었던 타이 밀크티 다만 밀크보단 물맛이 좀 더 강했음 전체적으로 가벼운 맛이었습니다',\n",
       " '대표적으로 먹고 나서 후회하는 곳',\n",
       " '양념 맛이 꽤나 강했던 갈비 생갈비가 더 괜찮았음 사이드로 나온 반찬들이 더 맛있었다 식사류는 국밥 갈비탕 냉면 등은 비추',\n",
       " '존맛탱 세 가지 요리를 시켜 둘이 배 터지게 먹었는데 태국 요리를 향신료 낭랑하고 돋보이는 풍미로 합리적인 가격에 제공하는 골목 안 작은 강자라고 느꼈다 사실 제일 기대한 메뉴는 뿌팟퐁가리소프트쉘크랩 튀김 위에 계란 스크램블을 풀은 태국식 카레를 얹은 것 내 개인적 생각인데 향신료가 강해서 다른 곳에서 먹는 것과 다르다고 경고 주셨고 그럼에도 먹었는데 확실히 예상했던 것과 다른 맛이긴 했다만 매력 있었다 짝꿍은 이 메뉴를 베스트로 꼽음 나는 개인적으로 가장 기대하지 않았던 파스카 파오 무쌉고기소보로볶음덮밥 같은 느낌이 제일 맛있었다 매콤 짭짤한 자극적 고기볶음과 고슬고슬한 밥 계란 반숙의 조합은 사랑입니다 그리고 텃만꿍 새우고 로켓은 맛있긴 했는데 튀김옷 빵가루가 생각보다 두터워서 빵 냄새 밀가루 냄새가 조금 강하고 텁텁한 느낌이 살짝 있었다 그렇지만 전반적으로 너무 만족스러운 식사였고 작은 가게임에도 내실 있게 체계적으로 잘 운영하신다는 인상을 받았다깔끔하고 오픈 키친으로 운영되고 적당히 친절하시고 재방문 의사 가득',\n",
       " '친구 추천으로 가본 집 사람 매우 많고 사진에서 보듯이 초밥 비주얼 안 좋음 해동도 안된 참치 근데 비쌈 블로그 후기는 믿고 거르는 게 정답임 초밥은 잘 모르지만 좋아하는 사람으로서 좀 아닌 것 같음',\n",
       " '빛깔이 좋은 천연재료들과 육즙이 흘러나오는 고기의 조화',\n",
       " '마싰음 최상록 없음 치킨남방마시씀',\n",
       " '리뷰 더 보기 httpmblognavercomlinglingz 맛있어요 요즘 인스타 핫 집안 것 같은데 리뷰가 없어서 진짜 망설였어요 가는데 시간이 너무 많이 걸리고 날씨가 날씨인지라 일단 저는 크랜베리 사과 크림이랑 녹차 팥 샀는데 시식으로 녹차 초코랑 크랜베리 크림치즈를 피스를 받았거든요 근데 웬걸 메뉴 모두 실패 크랜베리 사과가 유명하긴 하지만 크랜베리 크림치즈가 좀 더 어울려요 크랜베리가 생크랜베리라 신맛이 세서 크림치즈 같은 담백함이 훨씬 맛있었어요 그리고 녹차 크림 팥은 그냥 녹차 맛은 별로 안 나고 크림이랑 팥인데 아무래도 팥 고당을 너무 좋아해서 저는 팥은 그냥 팥 고당으로 근데 녹차 초코를 왜 안 샀는지 지금 너무 후회돼요 한 조각 먹었는데 와 진짜 딱한 조각으로 그 단맛이 시럽의 단맛이 아니라 고급스러운 초코의 단맛이에요 진짜 이걸 샀어야 했는데 왕후회 홍대 가는 길에 또 들릴 의사 있어요 그땐 녹차 초코 살 거예요 아 또 그리고 생각 외로 단호박 크림치즈 찹쌀떡 이것도 샀는데 전 제가 산 것 중엔 요게 최고였어요그 요구르트 크림치즈 맛이 아니라 베이글에 발라 먹는 필라델피아 크림치즈 맛인데 거어어어엉업나맛있음',\n",
       " '양이 거대하고 맛도 좋습니다 배달도 하는 가게라 사람 많은 타이밍에 가면 오래 기다릴 수도 있습니다 주차공간이 거의 없어서 차를 가져갈 경우 어디에 세울지 미리 생각을 하고 가지 않으면 운전자가 아주 힘든 시간을 보내게 됩니다',\n",
       " '평일은 시 브레이크 타임이 있다 식사할 곳을 찾으러 돌아다녀 본 결과 문 닫은 곳이 꽤 있는 걸로 봐서 평일 이 근처는 확인 후 방문하는 것이 좋을 것 같다 지금은 여기저기 화덕피자가 흔하지만 이곳은 꽤나 오래된 곳이라고 한다 가게 내부에 화덕에서 피자 굽는 모습을 볼 수 있었다 피자와 파스타를 먹을까 고민하다가 리소토는 한 종류 둘 다 배가 많이 고프지 않아 피자와 샐러드로 바삭해 보이는 피자 도우가 씹으면 찰지다 짭조름한 살라미와 치즈 조합이 아주 좋았고 크게 기대 안 한 샐러드도 굿 그밖에 기억 한옥의 느낌과 귀여운 물병  그다음 방문 루콜라 피자와 먹물 크림 파스타도 만족 D',\n",
       " '망고 하이 여긴 진짜 찐 스튜 맛집 사계절 내내 뭉근하게 끓인 스튜를 맛볼 수 있는 곳 카페 랄로 같이 나오는 치아바타는 또 얼마나 겉바속촉인지 모두들 다 드셔보셨으면 좋겠어요 이집 스튜는 먹고 나서 돌아서면 또 생각나요 해장 스튜로 두 강추',\n",
       " '흑임자 초코 카스텔라  인절미  흑임자 크림  오레오  시즈널 시그니처  캐머마일 티  맛있을 수밖에 없는 조합 초코 카스텔라와 인절미에다가 크림과 오레오라니 미쳤다 부드럽고 달달한 초코 카스텔라에 쫀득한 인절미와 고소한 흑임자 크림의 조합이 너무 맛있었어요 시그니처는 청량한 여름 음료였는데 상큼해서 좋았어요 분위기도 좋고 넓어서 기분 좋은 방문이었어요 한옥을 개조해서 만든 공간이라 더 예쁘고 운치 있었어요 저녁 무렵에 가니까 분위기 엄청 좋았고 원래 낮에는 사람이 많아서 만석인 경우가 많다는데 밤에는 사람이 많이 없어서 좋았어요',\n",
       " '갬성과 분위기가 다 한집 사실 분위기 좋은 곳에서 좋아하는 사람과 있으면 어떤 음식이 맛이 없을까요 이번에 소개드릴 곳은 익선동에 힙한 갬성을 담은 맥주 짐입니다 안주 소개부터 들어갑니다 페퍼로니 피자와 타 메뉴 한 개를 시켰는데 메뉴판을 안 찍어서 그런지 메뉴명이 도통 떠오르지가 않네요 크래프트 루의 페퍼로니 피자는 향이 가득한 피자입니다 페퍼로니도 그렇고 치즈도 향이 매우 풍부합니다 도우도 파파존스 정도까지는 아니지만 그래도 충분히 훌륭한 도우를 만들어 냈다고 생각합니다 도우에서 효모 냄새도 많이 안 나고 그 식감도 너무 딱딱하지도 않고 너무 빵 같기도 않은 적당한 식감을 잘 구현해 냈다고 생각이 들더군요 피자스쿨을 생각하면 비싼 것 같다가도 술집치고는 괜찮은 것 같다고 생각이 들기도 합니다 그리고 다른 메뉴는 아무리 생각하고 검색해봐도 도통 메뉴명을 찾지를 못하겠네요이 메뉴는 접시 위에 도톰한 감자튀김 나초 소시지 그리고 소시지 위에 있는 고수 가 들어간 듯한 향을 뿜는 토마토소스 치즈와 샤워크림 이 플레이팅 되어 나왔는데요 제가 고수를 못 먹어서 마라탕 우육면먹을 때 절대로 고수 안 넣는 스타일인데요 여기는 뭔가 독특함은 느끼지만 토마토소스와 은근하게 잘 어울려지는 맛이고 맥주를 먹다 보면 소스를 계속 먹게 됩니다 그리고 소시지는 약간 스팸 맛이 나더라고요 감자튀김 나초도 이 토마토소스와 기가 막히게 잘 어울립니다 고수를 못 먹더라도 꼭 한 번 드셔보셨으면 좋겠습니다 맥주는 지인들 것도 먹어보면서 가지를 먹어봤는데요 대체적으로 단맛이 좀 적은 편이고 아무 맛이 가미되지 않은 향만 가미된 듯한 맥주들의 특징을 가진 것 같습니다 제가 맥린이어서 그런지 쓴맛 소수의 향 이 정도로 느껴지더라고요 일반 시중의 맥주도 같이 팔았다면 더 좋지 않았을까 싶네요그리고 내부 인테리어는 말로 다 담을 수 없지만 전통적인 것과 현대적인 것을 결합한 히프 한 갬성을 가진 분들이라면 좋아할 만한 인테리어입니다 내부에는 아주 작지만 원두막에 올라가는 듯한 느낌을 표현한 공간도 있고 천정은 유리로 마감해놔서 그 날씨에 따라 술 마시는 기분도 낼 수 있을 것 같습니다 날씨가 더워지는데 익선동에서 소중한 사람들과 맛있는 안주와 함께 맥주 한잔하시는 건 어떠실 가요',\n",
       " '면발의 윤기도 나면서 적당히 탄성도 있고 다른데 내놔도 기죽지 않는 맛입니다 ',\n",
       " '가격 대비 먹기 좋아요 음식도 엄청 빨리 나오고요 대신 양이 좀 적다는 느낌이 드네요',\n",
       " '훌륭 깔끔한 음식',\n",
       " '아니 통닭이 이렇게 맛있을 수가 한방 통닭에 떡사리 추가하면 거의 떡볶이가 나옴',\n",
       " '빠네 크림 파스타 이런 걸 많이 시키지만 이 집에서 가장 맛있는 건 스피니치 샐러드임 여름엔 판매하지 않아 아쉬운 메뉴 피자도 맛있음 도우도 괜찮고 치즈 맛도 짜지 않고 맛있음 그에 비하면 파스타는 평범과 맛없음 중간 맛의 기복도 있는 편',\n",
       " '삼식이 회 무침 대체로 만족했던 거 같아요',\n",
       " '초밥 먹고 싶은 날 종종 찾는 곳 밥알이 흐드러지는 스탈  함께 나오는 어묵탕도 너무나 좋다',\n",
       " '멋들어진 매장을 간판 삼아 영업하는 곳 프렌치 셰프 하시던 분이 요리를 하며 하나하나 그 요리의 퀄리티가 상당하다 기본으로 주는 물부터 미지근한 기분 좋은 온도에 재스민 향이 살짝 남 감각이 있다 특히 거제 산 각굴 이 사계절 제공되며 가격도 좋고 맛도 최고다 와인 셀렉션도 매우 뛰어나다 다만 양이 적지만 테마를 보면 적절하며 메뉴가 가격 부담이 없다 주차 대 가능 예약 필수',\n",
       " '공릉동 서울과학기술대학교 정문 인근에 위치한 시간 콩나물국밥 전문점 크지 않은 규모지만 이곳이 본점으로 약간의 분점이 있는 듯하다 이곳은 일반적 타 음식점과 차별화 시킨 무농약 한약 콩나물을 사용하기에 나름 자부심이 가득하다 콩나물국밥 전문점 이긴 하지만 파전 굴 국밥 굴전 및 수육 비빔밥 등 해장 음식에만 치우치지 않고 여러 메뉴를 선보이고 있어 아침 식사부터 반주 곁들인 저녁 식사까지 말 그대로 시간 취향에 맞는 식사가 가능한 것이 장점인 곳이다 국밥은 수란이 아니고 직접 계란을 풀어먹는 스타일이며 맛 좋고 반찬 깔끔하며 가격도 합리적인 곳이다',\n",
       " '오래간만에 햄버거 실컷 먹고 왔네요 맛있습니다 ',\n",
       " '여기 진짜 굴이 너무 맛있네요',\n",
       " '대게 랑 회랑 와우',\n",
       " '가격대가 좀 있지만 분위기 좋고 밀페유 로열이 먹을만했던 곳 초코와 바닐라 밀페유는 평범했지만 밀페유 로열은 가격은 좀 비쌌지만 맛이 있었음',\n",
       " '몇십 년 맛 집',\n",
       " '광화문 직장인데 이 집 짱입니다',\n",
       " '안암치고는 살짝 가격대가 있기는 한 파스타 집입니다 아주머니도 친절하시고 맛도 나쁘지는 않아서 안암에서 양식으로 밥 약하기 좋은 집이에요 프랜차이즈는 아니지만 딱 적당한 양식 프랜차이즈 집인 느낌이에요',\n",
       " '여기 식당 종업원들 손님 평가 질하고 질 나쁜 아줌마들 이에요 가지 마요 맛도 딱히 없고',\n",
       " '얼큰한 국물이 끝내주는 집이에요 요즘 오징어가 워낙 안 잡혀서 가격이 천원 오르긴 했는데 그래도 인당 천 원으로 푸짐한 오징어찌개를 맛볼 수 있어요',\n",
       " '진경수쉐프가 운영하는 라 싸브어 고급 지고 깔끔한 맛 메뉴도 자주 바뀌는 편인 걸 보면 음식에 대한 연구와 고민이 느껴집니다 항상 만족스러운 식사를 할 수 있어 애정 하는 곳 안심스테이크 양 갈비 파스타를 추천하고 싶습니다',\n",
       " '좋고요 좋네요  추천드림 안 망함다',\n",
       " '여러 미방 지점들 중에 여기가 제일 괜찮음',\n",
       " '정말 맛있고 푸짐하네요 지인들에게 소개해 주고 싶은 맛 집입니다 번창하세요',\n",
       " '물회가 맛이 없어요 케라시스 맛 나요 성게알 밥은 무난  물회 먹을 거면 다른 집 가세요 먹고 나서 입에 이상한 맛 남음  ',\n",
       " '칼제비 시켰는데 나쁘지 않은 듯 주인장도 친절함 근데 간이 좀 셈 칼제비도 김치도',\n",
       " '구반포역 아파트 상가에 위치한 피자집 학창시절 피자헛에서 생일파티하던 기억을 떠오르게 하는 동네 핫플레이스 느낌입니다 갈릭 스페셜 레귤러 사이즈에 치즈오븐 스파게티 치즈 브레드에 크레이지 소스까지 주문했어요 치즈 브레드가 먼저 나와서 소스에 찍어서 계속 먹었더니 배불러서 피자를 한 조각밖에 못 먹었네요 치즈 브레드는 방금 나와서 따뜻하게 먹으니 맛있었어요 근데 소스가 특이한 소스일 줄 알았는데 그냥 피자에 바르는 피자소스였네요 남은 피자는 전부 포장해서 나왔습니다 구반포역에 워낙 먹을 곳이 없다 보니 유명해진 것 같은데 구성비는 좋지만 진짜 동네 맛 집이에요 일부러 찾아갈 정도는 아닌듯합니다',\n",
       " '전에 가서 실망했다가 어쩌다가 한 번 더 가게 되었는데 메뉴가 바뀌어서 전보다 훨씬 맛있는 것 같아요 주말에 갔는데 서빙하시는 직원분들도 친절하시고 괜찮았습니다',\n",
       " '와이프가 대게가 그렇게 먹고 싶다고 하여 어쩔 수 없이 속초서 대게 집을 찾았다 가격이 싼 것보단 퀄리티 좋은 대게를 공급받는 곳이어야 하고 곁들이 찬 없이 대게 자체로 승부하는 곳 중앙시장 안에 위치한 총각네 대게였는데 모든 면에서 만족스러웠다 현재 서울에선 러시아산 대게를 킬로당 싼 곧 선 만 원 정도 좀 비싼 곳에선 만 원 정도 하는 것 같은데 가격 차원에선 크게 차이나 진 않았다 여기도 킬로당 만 원 다만 만 원짜리는 직판 장서 바로 온 놈들로 살수율이 대단히 높은 등급 이보다 한 등급 아래 그러니깐 서울서 만 원에 먹을 수 있는 애들은 킬로당 만 원에 팔더라 물론 노량진 가락시장 이런 곳에서 이보다 싸게 먹을 수는 있겠다만 퀄리티 차이도 있고 자릿값 쪄주는 값 등등 치고 나면 많이 좋지는 않을 듯 여하튼 킬로당 만 원에 먹었는데큰 거 하나보단 중간 거 두개로 킬로 정도 잡고 골랐는데 중량이 킬로가 나옴 둘이 먹기에 너무 큰 거 같다고 하니 만원 할인하고 대게 볶음밥에 홍게야 면도 제공해준다고 하여 만 원에 딜 던 배도 많이 고팠기에 왠지 다 먹을 수 있을 것 같았음 결론적으로 셋이 먹어도 배부를 양이었음 음식 남기는 걸 정말 싫어하는데 결국 남김  세 분이 가신다면 대게 마리 킬로 하시고 볶음밥 홍에 라면 드시면 배부르실 예정 인당 만 원 안 되는 가격으로 대게를 배불리 드시는 것이니 가격도 합리적이고 훌륭하다고 생각됨 여하튼 주문을 하면 모시조개로 조개탕이 나오는데 이게 일단 흘륭하다 별도의 조미료 없이 조개랑 마늘 넣고 끓이는데 국물이 시원하고 좋다 조개 퀄리티가 좋아서 그런지 식감도 좋고 국물도 좋고 대게 나오기 전에 이미 소주 한 병을 마심 이후 대게가 나오는데 확실히 제철 대게는 다르더라살이 정말 꽉 차있었고 맛도 부드러우면서 쫄깃한 게 훌륭 대게가 신선하면 내장에서 비린 맛없이 눅진하고 깊은 풍미가 느껴지는데 딱 그렇다 대게살을 발라내서 대게 내장을 소스처럼 푹 찍어 먹으면 입안이 세상 행복해진다 대게 내장 남은 걸로 볶음밥을 해줌 그런데 이거 양이 스테인리스 밥그릇 두 개 이상은 넣은 듯 양이 엄청 많았음 그래도 속초 오징어 젓갈을 같이 해서 먹으니 입안에서 감칠맛이 마구 폭발하여 정말 맛있게 먹음 홍게야 면도 국물이 시원한 게 나쁘지 않음 홍게 다리 살도 많이 넣어주었지만 배가 불러 거의 못 먹은 게 아쉬웠음 다만 국물 맛에서 임팩트는 크지 않았음 사실 제철 대게와 게딱지 볶음밥 홍에 라면 이 조합은 별도의 설명이 필요 없을 것 같다 그냥 퍼펙트 한 맛과 조합이다 둘이 방문한다면 킬로 정도에 볶음밥 라면 이렇게 먹어도 충분할 듯 양이 많으신 분들이라면 살짝 적을 수 있지만 부족한 부분은 중앙 시장서 군것질로 채울 수 있으니 저녁 시였나클로징 시간이 다소 이른 시간이라 아쉬움은 있었지만 속초서 정말 괜찮은 대게 집을 찾은 것 같아 만족스러웠음',\n",
       " '월의 코스요리로 오픈하자마자 예약 인당 만 원짜리 코스로 전액 입금해야 예약이 완료됩니다 아무래도 시그니처 요리인 비프 웰링턴이 통으로 조리되는 요리이다 보니 노쇼가 나오면 곤란하셔서 그런 것 같아요 식당 자체는 쁘띠하고 너무 정돈되지 않은 듯한 어둑한 분위기 덕에 프랑스 가정식이라는 콘셉트가 잘 느껴졌어요 해산물 자불레  인스타에 쿠스쿠스 같은 요리라고 설명하셨는데 정말 그래요 신선하고 상쾌한 애피타이저로 기분 좋게 식사 시작  비프 웰링턴  진짜 크고 맛있었던 소고기 안심 비프 웰링턴 버섯 향이 제대로 나서 좋았어요 자르기 전에 한 번 보여주시고 꽁다리 부분도 각 테이블에 나눠주셨고요 레몬 머랭 타르트  정말 정말 상큼했던 타르트 이건 레몬 그 자체 하는 자기주장 센 타르트였어요 그렇다고 인위적인 맛은 아니고 머랭이 신맛을 지그시 눌러줘서 잘 어울려요 사실 코스 짜리여서 배가 찰까 했는데 비프 웰링턴이 엄청 큽니다그리고 고기 생으로 보면 애걔 이러는데 먹고 나면 배부른 거 아시죠  먹고 나니 막상 배부르더라고요 와인이랑 먹고 나와서 상쾌하게 망원 거리 걷던 기분 좋은 하루였어요',\n",
       " '역시 탕수육 존 만 양장피도 깔끔한 맛 멘보샤 눈 정말 별로였음 ',\n",
       " '여기 근처에서 밥 먹고 가기 좋은 카페 테이블 간격 적당하고 깔끔 면학 분위기 노노 스패니시 라테 맛있고 아메리 쏘 쏘 케이크는 납품받는 것 같은데 완전 별로 그래도 그 근방에서 층짜리 건물을 다 쓰는 나름 대형 중형 카페라 가끔씩은 갈만한 것 같다',\n",
       " '아 진짜 맛있어요 스시 뷔페랑은 다르게 질도 너무 좋고 신선도도 좋아서 진짜 입에서 사르르 녹아요 ',\n",
       " '엄동설한에 삼십분 기다려서 들어갔더니 또 대기 착석하고 음식 나오는 시간도 꽤 돼서 식사 한번 하는데 시간 오래 잡으셔야 됩니다 저의 경우엔 도착했을 때 대기 번이었어요 맛있다고 해서 한번 가볼까 해서 온 곳인데 개인적으론 돈 아깝고 시간 아깝고 속은 느끼하고 좀 힘들었어요 런치메뉴로 음료수는 샹그리아 수플레 오믈렛 그 뭐 여하튼 추천받은 명란 오믈렛을 시켰어요 샹그리아 시키고 얼마 후 주방 쪽에서 남직원이 아 누가 낮술을 먹으라고 말을 했고 여직원이 낮술이 뭐 어때서 낮술이 최고지 이러면서 대화하는 거 다 들렸는데 저나 혹은 다른 분이 시킨 걸로 저런 대화를 한 거겠죠 낮술 맛있으니 참고하세요 손님 화나니깐 안 들리게 대화하시고요 누가 시켰든 손님 듣는대서 그런 식으로 말하는 거 클레임 들어올만한 일 아니던가요 여하튼 음식 비주얼은 훌륭했어요 맛있어 보였고 두 입정도 먹을 때까진 괜찮 았는데 그 후론 느끼해서무샐러드랑 샹그리아로 고냥 저냥 먹다가 많기도 하고 느끼해서 남기고 왔어요 참고로 샹그리아도 그냥저냥이에요 콜라가 나을 듯 무샐러드인가는 맛있어요 직원들은 그냥 그런 듯 사람 앞에 음식을 주는 게 아니라 사람 옆에 음식을 주고 그래 궁금하면 한번 정돈 올수 있는 맛인 거 같아요 느끼한 거 잘 드시는 분들은 좋아하실 듯 가격대는 싼 편은 아니고요 기다리시는 손님분들 좀 배려해주셨으면 좋겠네요 난로 같은 것도 안 따뜻해서 의자에 다들 안 앉으시던데 그런 쪽은 좀 별로네요 개선이 필요한 거 같습니다',\n",
       " '오리지널 베이컨  어니언 햄버그스테이크',\n",
       " '평일 사람 없는 시간대에 가면 웨이팅 없이 먹을 수 있는데 저녁 시간이나 주말에는 항상 웨이팅이 있는 것 같더라고요 가게가 큰 편이 아니라 그런가 봅니다 음식 맛은 저는 만족스러웠어요 가끔 생각나서 몇 번 더 찾을 것 같은 음식점 등심과 안심 시켜봤는데 전문가가 아니라서 뭐가 더 좋다고 추천할 수는 없고  꼭 두 분이 가서 나눠먹었으면 좋겠어요 왜냐면 둘 다 맛있거든요',\n",
       " '우리 집 근처에 이런 맛 집이  거기에 분위기는 정말 좋고 맛도 있어 자주 찾을 거 같아요  ',\n",
       " '엄청 맛있는 건 아니지만 그래도 괜찮은 편',\n",
       " '고기를 제주 흑돼지 산만으로 사용해 직접 손으로 손수 만들어서 돈가스가 만들어진다네요 일단 기본 메뉴가 나오면 수프가 먼저 눈에 띄었어요 수프가 크림 수프라 더욱 부드럽고 좋았어요 또 먹고 싶었는데 마침 셀프 바가 준비되어 있다고 하셔서 마음껏 더 먹을 수 있었던 게 좋았어요 돈가스는 양도 푸짐하게 보여서 하나 먹어도 배가 차더라고요 돈가스 위에 뿌려서 나온 일식 소스와 먹으니 더 맛있었어요',\n",
       " '일단 음식들이 맛있다 그리고 층에서 보는 한옥마을 경치가 멋있다',\n",
       " '미국식 와플 치킨 치킨 샌드위치인데 번이 와플이 대체한다 기본 오리지널과 홀리 치킨을 먹어봄 우선 치킨은 가슴 부위인데 퍽퍽하지 않은 게 안심살만 따로 발라서 사용하는 듯 최근에 먹었던 롸카두들에서 깊은 인상을 받아서 그런지 이곳 치킨에선 별다른 감흥이 없었음 여하튼 오리지널은 코올 슬로와 약간의 소스가 가미된 정말 오리지널의 맛인데 솔직히 굳이 와플과 같이 먹는 이유를 잘 모르겠더라 딱 치킨버거 치킨 샌드위치에서 번을 와플로 대체한 건데  딱히 조화로움을 찾기 어려웠다 오히려 와플이 딱딱해서 먹기 어렵다는 단점이 있음 그나마 메이플 시럽 베이컨 계란이 들어가 풍성한 맛을 내는 홀리 치킨은 확실히 특색 있는 맛이었다만 이 역시 개인적 입맛으론 와플의 이유를 잘 모르겠더라 와플을 브리오슈 번으로 대체하면 꽤나 그럴싸한 리치한 버거가 완성되지 않을까란 생각도 함 물론 맵 단잔 밸런스에서 스리라차를 좀 더 넣어 맵의 비중을 살짝만 더 높여주면 좋겠단 생각을혼자 하면서 먹었다',\n",
       " '아마 근방에 뭐가 많고 인스타로도 유명해진 거 같던 일산의 예쁜 카페 아메리카노 산미적은 커피였어요 원래는 여기 비엔나 특히 녹차 구름 비엔나가 유명한 거 같긴 했어요 혹시나 가시면 이거 드셔보세요 다른 것보다 여긴 사장님께서 참 친절하셨고 평일에 가니 정말 사람이 적은데 채광이 참 예뻤던 곳이었어요 그리고 테이블 간격이 꽤 넓어서 얘기하기도 좋으실 거예요 여기 조금 더 가면 양지 미피 스피츠 등등 있으니 같이 가셔도 좋을 거 같아요',\n",
       " '맨날 혼자 밥 먹기 힘들었는데  눈치 안 보고 혼자 먹기 좋은 곳을 발견  근데 내가 먹은 건 뚝불  된장찌개였는데  신기한 맛임  중독성 있음',\n",
       " '배달로 주문 맛있고 양이 엄청 많은 느낌 적당히 좋음 재주문할 듯',\n",
       " '이제까지 먹었던 회 국수 중에 회의 양이 제일 많았음 구성비로는 따지면 최고인 듯',\n",
       " '좋은 품질의 초밥을 먹을 수 있는 곳입니다 추천합니다',\n",
       " '다 맛있음 굳굳',\n",
       " '개인적으로 숨은  명소라고 생각합니다 한강이 바로 앞이라 분위기도 좋고 특히 비 올 때의 풍경은 크  데이트 코스로 강추합니다 가격이 비싼 건 안 비밀  ',\n",
       " '푸짐하긴 한데 맛은 그다지 뛰어나지 않았어요',\n",
       " '음식 맛은 그냥 평범하게 식사할 수준입니다 체인점의 맛이라는 느낌입니다 주문받으시는 분이 등 뒤돌면 메뉴를 깜빡하셔서 다른 테이블에서 곤란해하는 걸 봤네요 저희도 음료를 같이 시켰는데 앞 메뉴가 미리 나오고도 뒤 메뉴에서 나중에 음료를 같이 주셔서 언제 나오나 했네요 깍두기와 단무지가 실온에 오래 있었던 듯하고 통 상태도 청결하지 않았습니다 의자에 씌워진 천도 음식물이 이것저것 묻어있었습니다 세척해주시면 좋을 것 같아요 음식 맛이 나쁘지는 않았지만 청결상태에 좀 더 신경 써주시면 더 좋을 것 같습니다',\n",
       " '다 조리돼서 나와서 깔끔하고 양념 소스도 맛있었어요',\n",
       " '먹은 건 꽤 오래전 전화주문되고부터 지만 두 번째 남기는 리뷰 여러 불만들이 많아서인지 코로나 지속 때문인지 택배만 했던 적도 있고요 방식을 바꿀 수밖에 없게 되니 강구는 하더라고요 그런데 제가 보통맛만 먹다가 순한 맛을 먹어서인 건지 맛이 바뀐 건지 짜기만 하고 일반 체인점 닭강정만 못한 느낌을 받았습니다 맛 변화를 적게 하기 위해 혼자 운영한다고 하셨는데 차라리 체인화는 어떨지 그런 생각이 들어요 주문 힘들어도 맛 때문에 시켰는데 이번 건 읭스러운 맛이었습니다',\n",
       " 'I ordered a avacado burger as my other friend The other friend ordered a burrito in a bowl Every single dish was so delicious I would totally go again But as its very full especially in the evening do a reservation before you go otherwise you might have to wait a bit',\n",
       " '맛있어요 여기',\n",
       " '연희동에서 밥 먹고 차로 갈 곳을 찾다가 마플 평점이 좋아서 방문한 카페입니다 스콘 세트와 푸딩 세트를 하나씩 주문했고 홍차는 다즐링과 주빌리를 선택했어요 다즐링은 크리스틴 다트 너의 홍차였습니다 샴페인 퍼스트 플래시 함량이 높은 편이라고 적혀 있었는데 확실히 다른 다즐링에 비해 산뜻한 향과 맛이 다 강해서 맛있었습니다 반면 주빌리는 다즐링만큼 맛있지는 않았어요 주년 기념 홍차라서 골랐던 홍차인데 운남 홍차 느낌이 나는 중국차의 향과 맛이 상당히 강해서 어딘가 맛이 익숙하더라고요 그 때문에 기대에 비해 평범한 느낌이었네요 스콘은 기대보다 훨씬 맛있게 먹었습니다 끝에서 은은하게 올라오는 단맛도 좋지만 크림이나 잼과 궁합이 정말 좋았거든요 따로 먹으면 클로티드 크림은 많이 심심하고 딸기잼은 조금 과하게 달달한 느낌이었지만 같이 먹으니 스콘과 잘 맞아서 맛있었어요 푸딩은 스콘에 비하면 무난했던 것 같아요적당히 달아서 먹기엔 나쁘지 않았으나 제가 좋아하는 식감의 푸딩은 아니었거든요 낮에 방문해서 홍차와 스콘만 먹었지만 저녁에 와인 마시러 방문하는 것도 좋다고 추천을 받아서 와인 마시러 재방문할 것 같아요 분위기나 맛 모두 마음에 들어서 맛있다로',\n",
       " '파스타 양은 좀 적지만 너무 맛있어요 식전에 나오는 음식도 맛있어요',\n",
       " '매워서 눈물 남 여 떡보다 백배는 매운듯 매운맛이 강해서 아무 맛도 안 느껴짐 그냥 맵다 끝',\n",
       " '조용하게 대화할 곳을 찾아갔는데 손님도 많지 않고 밀푀유나 음료 맛도 좋았습니다',\n",
       " '별로였어요',\n",
       " '상동에 위치한 소갈비 전문점 소갈빗살보다는 소안 창살이 더 맛있었습니다 된장찌개는 약간 짭짤한 편이고 전체적으로 고기 양이 좀 적습니다 기본 인원수  인분을 더 시키면 적당히 배부르게 먹을 수 있을 것 같아요 고기는 부드럽고 맛있습니다 새벽 시까지 영업을 해서 늦게 식사나 회식하러 오시기도 좋을 것 같습니다 ',\n",
       " '열 번도 넘게 간 듯하다 맛있기도 하지만 계속 생각나기도 하고 가격적으로도 부담이 없어 한 끼 먹으러 가기 좋은 곳이다 한잔 주는 막걸리도 맛있고 겨울 메뉴도 맛있고 사이드도 다 맛있다 근처 학생들에게 추천',\n",
       " '돼지고기 누린내가 너무 심해서 아예 손도 안 대고 나왔어요 저에겐 거의 악취 수준 냄새에 민감하시면 가지 마세요 절대 처음으로 리뷰 쓸 정도로 너무너무 안 좋았어요 깔끔한 순대국밥과는 거리가 멀어도 너무 멀어요',\n",
       " '부대전골 맛있었었던 거 같네요',\n",
       " '여행 가서 간 끄리 집 추천받아서 갔는데 분위기도 좋고 음식도 맛있었어요 부산 분들 사이에서 먹어서 더 여행 온 느낌이 들었던 곳이에요 맛있는 메뉴가 많았던 것 같은데 재방문하고 싶네요',\n",
       " '서울역 안에 있어서 접근성이 좋고 체인인 만큼 맛도 괜찮아요 대신 사람이 많아서 편하게 먹긴 조금 힘들어요',\n",
       " '겨울에 생각나는 깔끔한 맛',\n",
       " '탄현역 제니스 상가에 있는 맛있는 파스타집 포장 할인으로 맛있게 먹었다',\n",
       " 'soso 설렁탕 포장해다 먹었는데 괜찮네요 담엔 본가탕 도전',\n",
       " '지하가 분위기가 좋음 쇼콜라오뱅은 초코가 너무 적게 들어있어서 아쉬웠음',\n",
       " '단동 아다 뗀 곳 후회 안 함',\n",
       " '커피 맛 경치 인테리어 빵 다 좋습니다 전망대 만석 시 안내가 된다면 헛걸음을 줄일 수 있을 텐데 이 부분이 조금 아쉬웠습니다',\n",
       " '히쓰마 부시 상 사이즈로 먹었는데 양도 괜찮았고 너무 맛있었으면 아쉬운 점은 위치가 애매하다는 것 정도',\n",
       " '점심에는 줄 서서 먹는 곳',\n",
       " '전시회를 보러 가서 점심을 먹기 위해 주변을 둘러보다 우연히 찾은 곳인데 정말 소박하고 깔끔한 게 너무 마음에 들었던 곳입니다 다음에 주변을 가게 된다면 꼭 찾아갈 계획입니다',\n",
       " '다사 미미 짬뽕 맛있다고 찾아가서 먹었는데 맵기만 맵고 맛없고 두 번 다시 가지 않는 식당입니다 누가 미미 짬뽕 맛있다고 블로그에 올리는지',\n",
       " '초계국수비빔국수 입맛 없을 때 한 번씩 먹기 좋아요 시원하고 배추가 든 게 특이하네요',\n",
       " '구성비  맛  분위기  재방문의 사  익산 초등학교 근처에 위치한 카페 기대하지 않고 가면 괜찮다 공간은 널찍한 편 딸기 케이크는 딱 비주얼 그대로의 맛 가벼운 편이다 의외로 플랫 화이트가 괜찮았음 굳이 찾아갈 정도는 아님',\n",
       " '하몽이 메인인 곳으로 주인분이 주문하면 직접 잘라주기 때문에 자르는 거 볼 수 있음',\n",
       " '줄이기죠 유명해서 오랜만에 명동교자 먹어봤어요 만두피는 얇고 보통 국수가 독특하니 괜찮았지만 제 취향은 아니었습니다 맛없지 않은데 제 취향이 아닌  전 좀 더 개운한 해물칼국수를 좋아해서요  같이 간 지인은 좋아하는 가게였어요',\n",
       " 'SNS 글 보고 갔어요 일단 막창이 다 구워져서 오고 식감이 부드러워요 또 기본 반찬에 무 쌈이나 마늘 양파절임 부추 등이 있는 게 참 좋았는데 그게 다인 것 같아요 소금도 너무 맛이 심심해서 양념소스를 찍어 먹는데 그러다 보니 양념과 소금맛이 그냥 비슷하고 특히 양념은 소스를 좀 더 연구가 필요할 것 같아요 너무 맛이 안 느껴져요 차라리 매콤하기라도 했으면 좋겠는데 너무 심심하달까 지금은 인분에 원인데 맛이 없으니 돈 아깝다고 생각되는 곳이었음요',\n",
       " '커피 맛 좋아요 라테도 맛나고 진하고 친구는 블렌딩된 커피인데 웬 허브 쑥 향이 나는데 커피의 기름맛이 없는 묘한 티 같은 커피였어요 인테리어 너무 이쁘고요 입구부터 사로잡혀서 비밀의 정원 들어오듯 들어왔네요',\n",
       " '크루아상 일반적인 크루아상이 아닌데 소금 맛과 담백함이 좋다 스콘  스콘일 뿐',\n",
       " '바브라 카다 멈 치킨 샌드위치 크루아상 샌드위치를 주문했다 카카오닙스 마들렌은 서비스 총 만원 중후반대 도미인 호텔에서 동생과 묵게 되어서 브런치로 꼼다비뛰드를 방문 미세먼지가 미친 날이라서 그런지 내가 늦게 가서 그런 건지 대기는 없었다 물론 빵도 많이는 없었음 치킨 샌드위치는 안에 닭 가슴살 발사믹에 졸인 버섯 토마토 로메인이 들어있었다 소스가 약해서 거의 버섯의 간으로 먹는 느낌 크루아상 샌드위치는 안에 힘 토마토 로메인 크림치즈가 들어있고 묘하게 매콤한 맛이 났다 둘 다 공통점은 프레시하고 건강한 맛이 난다는 것 여기 진짜 맛있다라는 생각이 바로 드는 맛이다 자극적이고 강렬하게 맛있는 게 아니라 건강한 맛있음 바브라 카다 멈은 생강 느낌이 나는 달달한 빵이었는데 카다 멈이 생강 향이 나니까 생강 싫어하는 나도 맛있게 먹었다 부드럽고 폭신 쫄깃한 빵에 은은하고 달달하게 졸여진 카다 멈이 조화가 좋다서비스로 받은 카카오닙스 마들렌도 부드럽고 촉촉한데 카카오닙스가 오독오독 씹혀서 식감이 아주 좋았다 나는 여기 많이 들어보긴 했지만 이 정도인 줄은 몰랐는데 진짜 너무 맛있음 빵을 먹으면 다음 빵을 바로 먹고 싶어져서 동생이랑 호텔에서 순삭 함 다음날 체크아웃하고 또 가봤는데 대기 팀이라고 떠서 그냥 포기하고 옴 진짜 다시 가고 싶은 빵집이다 바게트 샌드위치 먹어보고 싶어',\n",
       " '갔고 치나 시국이 시국인지라 레스토랑 방문도 조심스러운데 룸으로 준비해주셔서 편하게 식사했어요 서울에서 파인 다이닝 방문하면 에 곳은 한번 방문하고 마는데 여긴 벌써 네 번째 방문이에요 음식 퀄리티는 말할 것도 없고 코스인데 스테이크 양도 정말 많고 단품 메뉴만큼 많이 주심 직원분들 서비스도 흠잡을 때 없어요 레스토랑 분위기나 뷰는 또 어떻고요 점 만점에 하나만 점 이상 맞는 건 쉬워도 모든 평가가 점 이상이긴 어렵죠 오너분의 역량이라 생각됩니다 갈 때마다 기분 좋게 식사할 수 있는 곳이에요',\n",
       " '고기 가격이 착한 곳 정육점 가격이고 고기가 푸짐하고 신선해요',\n",
       " '토리 빠실 탄과 소유라멘 전 소유라멘은 조금 짜게 느껴져서 토리 아빠 이탄을 더 좋아해요 하루에 판매 그릇이 한정되어있지만 진한 국물 맛을 잊지 못해서 시간 맞춰서 수원에서 합정까지 먹으러 갈 정도로 좋아해요 토리 빵이 탄 국물이 다 먹어갈 때쯤이면 살짝 느끼하게 느껴질 수도 있지만 너무 맛있어요 면 추가도 공짜로 해주셔서 늘 공짜로 면 추가해서 잘 먹고 있답니다 특히 차슈가 여러 장인데 닭고기 같은 차슈와 일반 돼지고기 차슈 두 가지 종류인데 둘 다 정말 부드럽고 맛있어요 인생 라멘집이에요',\n",
       " '버터 프레첼 진짜 맛있었고 올리브 치아바타도 최고 다만 날이 더워서 집 오는 길에 버터가 녹는다는 게 단점인 듯합니다 여름 너무 싫다',\n",
       " '이거 먹음 살찌겠다 느낌 바로 오는데 계속 먹게 되는 마성의 맛  예전엔 원으로 중화풍 계란 프라이 추가할 수 있었는데 할아버지가 힘에 부치신지 간짜장이나 잡채밥에 추가가 불가란다',\n",
       " '층은 키즈존 층은 노기스 존입니다 김수로왕릉 바로 앞에 있어 경관이 뛰어나고 커피 맛도 평타 이상 김해 간다면 재방문할 의향 있어요 돌담길 바라보며 커피 마실 수 있어요 하지만 손님이 많아 북적거리긴 합니다',\n",
       " '쑥 쿠키랑 라테 산미 고소함 최고',\n",
       " '이 집은 전에도 몇 번 왔었는데 그땐 촬영을 못해서 평가글을 못 올렸었는데 이번에는 꼭 제대로 촬영해서 올리리라는 각오로 갔다 확실히 코로나 전보다는 대기가 줄긴 했다 아직도 약간의 대기가 있긴 한데 충분히 이해할 수 있는 정도이다 이건 너무 주관적인 생각이고 느낌 일수 있는데 맛있는 막국수집에서는 특유의 그 향이 있다 이 집도 강력하게 독특하고 맛있는 막국수의 향이 있다 오랜만에 왔는데 오히려 전보다 더 맛있어진 것 같다 메밀의 향긋함과 적당히 잘 익은 동치미가 이쁘게 생긴 주전자에 나와서 더 맛깔나게 느껴진다 막국수 좋아하신다면 한 번쯤은 가봐야 할 곳이다 다 먹고 향긋한 면수로 마무리해주면 딱이다',\n",
       " '어복쟁반이래서 복어 들어있는 줄 크크 야채에 고기에 만두에 육전에 많이 들어가 있어서 굿',\n",
       " '별 개도 아깝습니다 예전부터 가끔 가던 곳인데 최근에는 더 불 친절하고  카운터 직원이  무슨 조폭 같아서 오랜만에 가족들이 갔다가 기분 잡쳤습니다 음식 맛도 쌀밥과 고추장 불고기만 먹을만하고  간장 불고기 돼지 비린내 가자미 조립 너무 짜 고  비지찌개 겉물 돌보 잡채는 너무 달아 설탕을 쏟은 거 같았습니다  맛도 많이 바뀌었지만 바빠서 친절은  안 바라지만 손',\n",
       " '경상북도는 닭을 그나마 잘 요리하지만 마고 닭을 비롯한 마늘닭류는 왜 유명한지 모르겠다 그냥 쌩 마늘 맛이 남 파스타와 마찬가지로 내용물과 양념이 따로 논다 이런 맛을 좋아하나 보다',\n",
       " '끈적거리는 육수 별로 좋아하지 않는 편인데 이곳은 깔끔해서 좋았습니다',\n",
       " '과일청에이드 레전드 경치 너모 좋다',\n",
       " 'I like this place for something a little different They serve UzbekRussian style food and have some hard to find ingredients like dill and sour cream for sale as well as homemade desserts Russian vodkas and prefrozen perogies Everyone should try the meat pastries Somsa and the lamb skewers',\n",
       " '기대하고 계획하고 간 고집들  오전 일정 마치고 서둘러 간 고집들 기대하고 사전 계획 아래 먹게 된 우럭 조림 완전 맛나 수저 놓기 싫었지만 어쩔 수 없이 내려 넣고 나왔답니다',\n",
       " '집 가까운 곳에 이런 곳이 있어서 너무 행복하다 구성비가 정말 좋음 모둠과 특모듬이 만 원만 사천 원선인데 생선이 정말 두껍고 질도 좋다 번화가에서 비슷한 가격에 저렴함을 내세우고 장사하는 집들보다 훨씬 낫다 실장님과 주방 이모님도 참 친절하심 작은 가게에 저녁시간이 되면 자리가 금방 차서 기다려야 한다',\n",
       " '바나 MD 일기 봉피양 본점  접근하기 좋은 평양냉면 차별점을 둔 본점만의 서비스  첫인상 년 능라도 년 진미 평양냉면을 먹을 때도 내 머릿속에서의 평양냉면 이미지는 극도로 싱겁기만 한 물냉면이었다 그리고 그 편견을 깨뜨려주었던 곳이 바로 봉피양 지금 생각해도 웃긴 점은 롯데백화점 본점 지하 푸드코트에서 먹은 봉피양이 그 시작이었다는 것이다 백화점에서 일하고 있지만 뭔가 백화점 푸드코트는 맛이 없을 것 같았고 게다가 평양냉면이니 나의 기대치는 을 넘어 마이너스를 달리고 있었는데 당시 생각 없이 국물과 면을 한 입 먹은 뒤 난 일마다 평양냉면이 떠오르는 평양 지옥에 걸려버리고 말았던 것이다 그리고 그때부터였다 내 먹킷리스트 순위에 봉피양 본점이 들어가게 된 것은  그렇게 방문한 봉피양 본점은 우래옥 본점과 살짝 비슷한 느낌이 났다 으리으리한 건물과 주차장 그리고 빠른 회전율을 위한 능숙한 어머님들까지평일 점심이 살짝 지났을 때라 그런지 웨이팅은 없었고 난 바로 자리를 안내받을 수 있었다 평양냉면   평양냉면을 받고 제일 놀랐던 점 중 하나는 롯데백화점 본점 지하에서 먹은 그 평양냉면과 정말 똑같았다는 점 위에 올라간 고명과 은근 감미가 도는 육수 그리고 곡향이 꽤 느껴지는 면까지 너무 똑같았다 분명 맛있었지만 내가 롯백 본점 지하에서 먹은 게 처음이라 머리에서 더 미화가 되어 그렇게 느껴진 건지 아니면 다른 평양냉면 집들도 돌아다니다 보니 본점이 생각보다 임팩트 있게 느껴지지 않은 건지는 모르겠지만 내가 개인적으로 느끼기에 평양냉면 자체의 차이점은 거의 에 수렴했다 서비스 제육 하지만 역시 본점은 본점 평양냉면 하나를 주문했을 뿐인데 본점에서는 서비스로 제육이 두 점씩 서빙되더라 제육 자체가 특별히 맛있다고 느끼지는 않았지만 메밀향이 풍부한 면에 싸먹은 뒤 국물을 한 입 하면 곡향과 육향이 입에 가득 퍼져 감탄을 내뱉게 된다후식 차 이 역시 백화점에서는 볼 수 없던 서비스 홍초를 탄 차인 것인지 오미자차인지는 잘 모르겠지만 시큼한 맛이 입안을 깔끔하게 씻겨주는 느낌이 참 좋았다 타 리뷰들에서는 수정과나 매실차 등 여러 차들이 보이던데 아마도 계절마다 후식 차가 바뀌는 것 같다 끝 인상 분명 맛있게 먹었고 서비스도 다르다는 것은 잘 알겠지만 솔직히 굳이 여기까지 찾아올 필요가 있나 싶었다 교통 편이라도 좋으면 모르겠는데 방이 역은 정말 찾아갈 때 지하철이고 길이고 몇 번을 헤매었었어 길치임 내가 아직 평양냉면 초심자라 그런 것일 수도 있지만 평양냉면 자체의 차이는 느끼지 못 해서 앞으로 평양냉면이 당길 때면 그냥 지하 푸드코트 방문해서 평양냉면만 주문해 먹을 것 같다평양 고수도 아니시고 봉피양이 궁금하시다면 분점이 많으니 집에서 가까운 곳으로 찾아가서 드셔보시길 일반적인 장충동 계열도 의정부 계열도 아니지만 오히려 그런 일반적인 느낌의 평양냉면이 아니기에 나 같은 초등학생 입맛도 맛있게 먹을 수 있으니 말이다 조만간 점심은 봉피양 평양냉면이나 먹으러 가야겠다',\n",
       " '갈치조림 맛만 괜찮던데 아래 별 개 남기신 분들 이해가 안 되네요 물론 호불호가 갈리겠지만 저희는 맛있게 먹고 왔습니다',\n",
       " '너무 황당해요 불친절에 마음 상해서 네이버에 피드백과 리뷰 남겼는데 지운 모양이에요 네이버 평점 높은 게 안타깝네요  보고 가실까 봐',\n",
       " '통유리가 이서 시원시원하다 직원들이 파이팅 넘치고 친절하다',\n",
       " '고기 맛이 좋다 다만 분위기가 산만하다 고기를 구워주는 직원과 사빙을 조는 직원의 분주함이 아쉽다 테이블과 의자도 식기들도 분위기와 이질감이 있다 그럼에도 고기 맛은 수준급이다 코스에 고기를 추가하는 것이 바람직',\n",
       " '크지 바닷가 쪽에서만 볼법한 메뉴들이 서울 한복판에서 보니 새롭네요 산 곰장어가 아주 실해서 먹기도 전에 소주가 들어갑니다',\n",
       " '천 원 가격치곤 게장 양도 푸짐하고 반찬 가짓수도 여러 개에요',\n",
       " '닭갈비 직원분이 다 볶아줍니다',\n",
       " '그냥 그런',\n",
       " '이쪽에서 학창시절을 다 보낸 저에게는 어릴 때부터 먹던 추억의 맛입니다 돈암동에서만 세 번째 자리 이동을 한 곳 고기가 두툼하거나 특별한 맛이 있는 건 아니지만 이 돈가스 맛이 생각나 한 번씩 들르는 곳 회전율이 굉장히 빠르고 가격도 저렴해서 구성비 좋은 곳입니다 맛은 근처에서 금왕 온 박 사 온달 순 정도 되는듯해요 안주용 돈가스도 저렴하고 전기구이 치킨도 있습니다 서비스는 아르바이트생들이 자주 바뀌고 또 보통 어린 분들이 하는 거 같아 서비스나 친절을 바라긴 힘들지만 불편한 점은 없습니다',\n",
       " '방송에서 추천한 맛 집이라 기대하고 갔는데 그만큼은 아니었던 것 같아요 소금구이보다 데리야키 막창이 더 맛있었습니다',\n",
       " '  빵  밀크티  해돋이 보러 갈 때 갔던 곳 직원분들이 엄청 친절하심 층 층 뷰가 예뻐요 음료 가격이 은근했지만 가볼 만한 곳 맛도 그럭적럭 으악 맛없어는 아니다 빵은 좀 맛있었던 거 같은데',\n",
       " '별 다방점 너무 예뻐요 저는 주말 아침 일찍 방문하였는데 다행히 자리가 있었어요 전에 저녁시간에 방문했을 때 자리가 없어서 아쉬웠거든요 신메뉴 너무 맛있어요 콜드브루 오트 라테 너무 추천드려요 스타벅스 별다방점 매장 인테리어 너무 예뻐서 좋아요 빵 종류도 많던데 주말 아침에 브런치 즐기기 좋은 것 같아요 재방문의 사 무조건이에요',\n",
       " '퓨전치킨으로 꽤 가짓수도 많고 다양했어요 뭘 먹어야 할지 모를 정도로 다 맛있어 보여요',\n",
       " '어린 가족 인원과 저녁을 뭘 먹을까 하다 가고 싶다에 세이브해둔지 꽤 되는데 거리가 멀어서 좀처럼 안 가게 됐던 도봉구 동네 함박을 방문하려고 시 조금 전에 집에서 나섬 주차 상황을 몰라 버스를 타고 가기로 함 워낙 거리가 있는지라 시간쯤 걸려 거의 도착할 때쯤 좌석 상황을 알고자 전화를 했는데 재료가 다 떨어져서 주문이 마감되었다고 함 헐 어렵게 맘먹고 먼 거리를 왔고 시도 안됐는데 주문 마감이라니 청천벽력 같은 소식이었음 안타까운 맘에 다시 한번 전활 해서 진짜 주문 마감이냐고 먼 거리에서 왔다고 얘기해봤지만 공허한 외침이었음급히 마플을 꺼내 다른 갈 만한 곳을 찾아보는데 멀지 않은 곳에 지난번에 카이 선동이 괜찮아 보여 먼걸음을 했다가 오늘과 같이 재료가 다 떨어졌다고 해서 발걸음을 돌렸던 하이쿠 근처에서 봤던 중식당 미미도 보이고 구성비가 뛰어났던 이자카야 도 보여서 어린 가족인 원한테 돈가스랑 탕수육 중에 뭐가 먹고 싶은지 물어보니 탕수육을 먹고 싶다고 함 중식당 미미는 블로그 등에서 보니 부정적인 리뷰도 있어서 이자카야 로 설득해봤지만 탕수육을 먹고 싶다고 해서 문득 최근에 닉닉님의 리뷰에서 본 탕수육이 인상적이었던 여기 미식 반점이 떠오름 전활 해보니 다행히 여긴 시가 라스트 오더라고 해서 버스를 타고 출발함 나중에 보니 위치는 지난번에 방문했었던 건대 쪽 빠오즈푸 뒤편의 이면 도로에 위치해 있었음 이 가게는 뭔가 프랜차이즈의 느낌의 외관이어서 가게 외관으로는 그렇게 끌리진 않았지만 워낙 탕수육의 비주얼이 궁금증을 유발해서 꼭 한 번쯤은 방문해 보고 싶었음가게에 들어가니 다행히 테이블이 여유가 있어서 바로 좌석에 앉아 일단 여길 오게 만든 미식 탕수육 소자랑 식사로 짜장면류나 미식 볶음밥 둘 중에 주문하려는데 블로그 등에서 봤을 때 미식 볶음밥을 시키면 짜장 소스도 나오고 짬뽕 국물도 나오는 걸 봐서 어린 가족 인원을 설득하여 짜장면 대신 미식 볶음밥을 시킴 미식 볶음밥은 살짝 매콤한데 안 맵게 해줄 수 있다고 하는데 많이 맵냐고 물어보니 그렇진 않다고 해서 그냥 원래 나오는 대로 달라고 함 먼저 시원한 물과 양배추 오이피클과 단무지가 나옴 양배추 오이피클은 청양고추가 들어가서 살짝 매콤하면서 아삭아삭 새콤달콤해서 좋았고 단무지 역시 과하게 짜거나 달지 않고 적당해서 좋았음조금 더 기다리니 기다리던 미식 탕수육 소자가 나왔는데 양이 많아서 주문이 잘못된 건가 싶어 물어보니 이게 소자가 맞는다고 함 웬만한 곳 중자 사이즈보다 더 푸짐해서 미식 볶음밥을 시키지 말걸 하는 중에 마침 또 미식 볶음밥이 나왔는데 이것 역시 양이 푸짐해서 양은 너무 혜자스러웠으나 어린 가족 인원과 둘이 먹기엔 탕수육 소자 사이즈만으로도 충분해서 속으로 후회했음먼저 비주얼이 내가 좋아하는 신락원의 것과 비슷한 느낌인데 신락원의 것처럼 일반적인 탕수육의 모양새가 아닌 고기를 깍둑 썰어서 동그란 공 모양의 튀김 모양으로 튀겨낸 게 달랐음 기대되는 마음으로 한입 베어 무니 신락원의 것처럼 파사삭 부서지는데 신락원의 것보다 더 공기층이 많아서 튀김옷과 고기 사이에 빈 공간이 많았고 살코기에서도 잡내 같은 건 거의 안 남 튀기는 방식은 신락원의 것과 같은 건데 찹쌀 튀김옷은 이에 좀 달라붙는 타입이면서 약간 뻑뻑한 느낌이고 탕수육 소스에선 새콤한 레몬향과 맛이 살짝 느껴지면서 신락원의 것보다 조금 더 점도가 있어서 전체적인 인상은 신락원과 같은 문파인데 아무래도 완성도에 있어서 몇 단계 아래의 사제의 실력으로 느껴졌음 미식 볶음밥은 고슬고슬 짭짤하면서 감칠맛이 나게 잘 볶아졌는데 느낌은 아메리칸 차이니스 레스토랑류에서 보는 볶음밥의 느낌으로 괜찮았음난 원래 볶음밥과 짜장 소스를 같이 먹는 걸 좋아하진 않지만 나왔길래 맛을 보니 좀 많이 달달한 느낌이었고 또 다른 같이 딸려 나온 짬뽕 국물은 맛을 보니 후추 향이 확 나면서 짭짤하고 무겁게 진한 감칠맛이 도는 국물 맛으로 스푼으로 뒤적여보니 해산물도 제법 들어있음 이 집은 양이 많아서 볶음밥은 맛만 보고 포장해달라고 부탁드리고 미식 탕수육만 다 먹고 계산을 하려는데 마침 옆 테이블의 젊은 단체 손님이 시킨 미식 탕수육 대자가 나와서 서로 사진을 찍으려고 해서 보니 일반적인 그릇이 아닌 나무로 된 둥그런 두꺼운 도마 같은 느낌의 블록 위에 나온 양은 정말 푸짐했음전체적으로 홀 리 차우 같은 프랜차이즈 중식당 느낌으로 신락원과 같은 특별한 공력의 튀김 방법을 배워서 양을 푸짐하게 혜자스럽게 내놓는 집으로 간도 살짝 센 편이어서 아주 까다롭지 않은 웬만한 손님이라면 다 맛있다고 느낄만했고 가격도 저렴한 편이어서 왜 인기가 있는 줄 알겠는 방문이어서 아마도 누가 건대 쪽에 중식당 괜찮은데 소개해 달라고 하면 소개해 줬을 때 욕은 안 먹을만한 집이었음',\n",
       " '굉장히 바삭하게 튀자 진 닭고기 가득 올려주시는 부추랑 먹으니 식감이 너무 좋았어요',\n",
       " '맛있고 일단 가격에 비해 크기가 대단하고 안도 꽉꽉 차있어요 라볶이는 흔히 아는 무난한 맛인데 떡이 두꺼워서 식감이 좋아요 이것도 양이 많고요 고대 앞에서 많이 드시고 싶을 때면 추천드려요 개인적으로 밥에서 약간 꼼꼼한 냄새 같은 것이 난다고 느끼기는 했지만 다른 분들은 거의 다 맛있게 드시는 거 같아요',\n",
       " '갈 때마다 기분 좋게 먹고 옴 직원 친절도가 높고 무엇보다 주차 가능한 신천 먹자골목 내 고깃집 찾기 어려움 직원이 고기를 구워 주어 같이 간 사람들과 편하게 대화하기에도 좋음 기본 찬에 계란찜 제공 기본 구이 외에 가격도 부담 없는 불고기 메뉴도 추천',\n",
       " '그럴듯한 일본라멘을 먹고 싶다면 여기로 오시오 퍼뜩 오시오',\n",
       " '미슐랭 소바 집이에요 항상 대기 줄이 있으나 금방 줄어들어요 소바가 가쓰오부시와 뭔가 모를 독특한 향이 어우러져서 정말 맛있게 먹었어요',\n",
       " '사람 지니인 짜 많아요 거의 가족단위로 와요 종류별로 다 시켜봤는데 전 양념고기가 젤 맛있었아요 된장찌개도 맛있어요 다만 가격이 좀 세요 그래도 수원에서 갈비 먹었다 하시려면 이 정도는 감수하셔야 할 거예요 수원 대 갈비 중 한 곳이죠 여기 추천이여',\n",
       " '가게 위 간판이 없고 바닥에 작은 표시만 있어서 찾기는 어려웠어요 음료는 맛있고 매장 인테리어도 이쁘더라고요',\n",
       " '프렌치토스트 너무 맛있어요  한 사람에 하나씩 먹어줘야 합니다',\n",
       " '매우 자주 갑니다',\n",
       " '단품은 진짜 돈가스만 주니 밥이랑 샐러드 필요하면 정식시켜야 함 이 돈 주고 먹을 거면 사보텐이나 정돈 갈 듯 맛은 만 원짜리 일식 돈가스 집이랑 차이 없는데 가격은 배',\n",
       " '리코타치즈 샌드위치 맛있어요 빵이 좀 아쉽지만 야채랑 내용이 알차고 맛나요 해독주스는 짱 냉장고에 넣어두고 하루 지났는데도 물이 분리 안되고 걸쭉한 게 좋아요',\n",
       " '요즘 핫한 루프탑 방가 홍대에도 생겼어요 여러모로 좋았던 편이네요',\n",
       " '모닝빵 먹을만한 것 같고요',\n",
       " '사실  닭이 작아서 누구나 인 닭 가능 방송 타기 전부터 유명했던 곳 안 그래도 잘 되는데 더 잘 돼서 웨이팅 좀 해야 함 맛있긴 맛있는데 한방훈제전기구이통닭맛이다 특별하게 쫀득하거나 육즙 팡팡은 아님 포장은 엄청 꼼꼼하게 잘 해주심 안에 찰밥도 고소하게 맛있음 평일 밤 시쯤 가면 웨이팅 없음 평일 저녁엔 포장해도 분 웨이팅 해야 함',\n",
       " '전통이 있어서인지 옛날 빵들이 많다 바빠서 그런지 빵 모양이 예쁜 편도 아니고 신메뉴가 잘 나오지 않지만 달달한 빵들은 먹을 만하다',\n",
       " '높은 층고와 조각조각 분리되어있는 듯한 공간이 멋졌어요 주차도 편리',\n",
       " '시간 선택에 실패하여 시간을 기다려 가라쿠치라멘과 쓰케멘 교자와 미니 부터 돈을 시키고 앉아 기다리는데 온 순서와 상관없이 음식을 주고 뒤늦게 온 테이블 다 서빙하고 늦게야 나온 가라쿠치라멘과 쓰케멘이 나오고 분이 지나도 나오지 않는 교자와 미니 부터 돈에 문의하니 준비가 되어있지 않다기에 그냥 나왔습니다 어찌 미안하다는 사과 한 마디가 없고 뻔뻔한 카운터 아마도 저는 이런 서비스라면 맛을 떠나 다시는 경험하고 싶지 않은 곳이네요 오래 기다려 기분만 상한 식사 자리였네요',\n",
       " '설빙 미만 잡',\n",
       " '다양한 크래프트 맥주들을 즐길 수 있는 깔끔하고 편안한 곳 가볍게 혼술 하기에도 친구들과 담소 나누기에도 좋은 장소입니다 준비된 맥주 리스트가 다양한 편이고 공간과 탭 관리를 위생적으로 하시기로 유명한 곳이에요 친절하고 정겹게 맞아주시는 점도 좋습니다',\n",
       " '갈비찜을 먹고 싶어서 간 냉면 전문점 인으로 가서 갈비찜 소  만두 개  주문 갈비찜에는 공깃밥 별도 내 입맛에는 양념이 다소 달다는 느낌이 들었지만 낙지 젓갈 무장아찌 무채와 함께 먹으니 느끼하진 않았고 별도로 자를 필요 없이 뼈에서 사르르 벗겨지는 갈비찜은 입에서 살살 녹았음 만두는 칼국수 잘하는 집의 그것과 비슷한 맛 주차장도 넓은 편이라 부담 없이 가서 먹을 수 있음 재방문의 사 ',\n",
       " '문어는 맛이 괜찮으나 양이 적고 얇습니다 한점에 천 원꼴 이네요 같이 나오는 묵은지랑 양배추 초고추장 무침은 재 입맛에 좀 짜더군 요 체인점이라 다 비슷할듯합니다',\n",
       " '내부 인테리어가 상당히 매력적인 곳 인기가 많아 다녀왔습니다',\n",
       " '과도한 마요네즈와 케첩의 조화가 불량식품처럼 느껴진다 바게트 안에 속 재료와 소스를 채웠는데 소스가 마요네즈랑 케첩 범벅이었어요 두 소스의 조화가 너무 불량식품 맛처럼 느껴지며 어렸을 때 먹던 학교 앞 양배추 토스트 생각도 나는 것이  추억 소환 맛이네요',\n",
       " '이태원역과 가까이 있는데도 가격이 꽤 합리적인 곳 예전에 처음 갔을 땐 정말 맛있어서 다음에 재방문했는데 그때보단 감동이 덜했어요 면 요리 맛이 살짝 바뀐 건가 만두는 맞았었는데 면이 살짝 아쉬웠어요 가격 대비 만두 양도 많고 맛있어서 여기 오면 꼭 만두 시키시는 거 추천해요',\n",
       " '존 만 소리 벗고 팬티 질러 사랑해 제일 인기 많은 비스마르크 햄도 너무 부드럽고 계란도 너무 부드러워서 진짜 꿀렁꿀렁 들어가요 트러플 향도 은은하게 나는데 얼마나 풍성하고 좋던지 바질 잎도 올라가 있어서 느끼하지도 않고 딱 깔끔하게 잘 먹었어요 맛의 밸런스가 너무 좋았습니다 피자만 먹기 아쉬워서 포르치니크레마파스타를 먹었어요 이건 버섯 파스타인데 면이 도톰해요 그냥 면 익힘 상태 괜찮았는데 맛은 쏘쏘였어요 트러플 향 나는 비스마르크 피자에 비해 버섯이 메인인 버섯 파스타에 선 정작 아무 향이 안 나니까 뭔가 밋밋하달까 상대적으로 너무 풍미가 부족하지 않았나 싶어요 그래서 다음번에 가면 인 피자 하려고요 파스타는 과감하게 패스하고 맥주는 제가 뭘 먹어뜨라 암튼 사진 속 저 맥주도 진짜 청량하고 깔끔하니 너무 꿀맛 피자 꿀렁꿀렁 들어가는 맛',\n",
       " '방문 횟수  분위기 너무좋음인스타감성프라이탁있음 음악 적당한 크기 음료 말차 라테 추천 화장실 외부에 있음 깨끗 책 달린 키 들고 들어감 화장실도 느낌 있음 작업 콘센트 많음 작업하거나 공부하는 사람 많고 눈치 안 줌',\n",
       " '대표님이 알려주셔서 알게 된 곳 디저트랑 세트인데 가격이 굉장히 착한 게 마음에 든다  딸기 셰이크고 가격은 원 이 가격에 이 맛이라닠 굉장하다 뭐 그렇다고 엄청난 맛은 아니에요 구성비 대비 엄청 훌륭해서 짱짱 줌  으으 또 사 먹을 테다',\n",
       " '별점 점  먼저 관광지 음식점 판매라 가격이 창렬일 수 있는 점은 인정함  곤드레 밥 판매한다기에 검색 후 근처 곤드레 밥 집이 없기에 별점이 낮음에도 불구하고 들어감  정식 원 가격에 부실한 반찬과 메인 메뉴가 무엇인지도 모르겠음  가격을 떠나서 말을 하려고 해도 가격을 말은 안 할 수는 없는 저 퀄리티의 맛  그럼에도 손님은 많아 아이러',\n",
       " '다이어트한다고 인 파이 못해서 너무 아쉬웠어요 우선 카페 내부는 뭔가 아늑하면서 옛날 카페 분위기가 났는데 오랜만에 요런 카페 와서 색달랐어요 저는 얼 그레이가 나세요 원와 아이스 아메리카노 원을 주문했는데 파이 가격은 적당한듯해요 참고로 주문을 하면 직원분께서 가져다주셔서 편했어요 오랜만에 달달한 디저트를 먹어서 그런지 끄덕하고 진한 초콜릿에 은은하게 퍼지는 얼 그레이 향임 굿굿 얼그레이 향이 많이 느껴지지 않아서 살짝 아쉬웠지만 꾸덕꾸덕한 초코가 너무 맛있었어요 다른 파이도 맛이 너무 궁금한데 파이 홀은 멀다는 게 함정 집만 가까우면 하루에 하나씩 맛보고 싶어요',\n",
       " '어느 정도 시간이 지나니 웨이팅이 많다고 나가달라고 합니다 맛은 괜찮은 편이지만 가격 대비 괜찮지는 않으며 서비스 때문에라도 다시는 방문하지 않을 곳입니다',\n",
       " '드라이브하면서 가기 좋은 곳이에요 주차장도 넓고 그릴 휘다에서 밥 먹고 카페 휘다에서 커피 먹으면 딱 카페의 루프탑처럼 야외도 있고 정원도 너무 예뻐요 반려 견도 반 가능하고 노기스 존 노반려견존이 있어서 조용하게 힐링할 수 있는 공간이 분리되어있어서 좋았습니다',\n",
       " '몇 년째 홍대에서 버티는 것도 신기한 가게인데 맛도 늘 일정해요 정말 맛있고 정갈합니다',\n",
       " '국밥 곱빼기였나 주문했었는데 고기가 정말 많이 나왔어요 요새 유명해져서 웨이팅 조금 있기도 합니다 식탁 끈적거리는 건 소독약 때문이 아닌가 싶어요 소독액 바로바로 뿌리시더라고요',\n",
       " '맛있게 잘 먹었습니다 하지만 파인 다이닝 급 업장이 늘어난 요즘 서비스나 음식 질 면에서 호텔 가격을 감안했을 때 경쟁력이 있는지 의문이 듭니다 사진에는 없지만 청산도 전복 훈연회 가 이 날에 베스트였어요',\n",
       " '해물 맛이 진하게 우러나오는 냉면 육수가 별미입니다 육전도 부드러워요',\n",
       " '변함없는 가격과 맛입니다 사실 구성비가 좋은 집은 아닙니다만 제주도에서 맛 어설프고 가격도 어설픈 집보다는 여기가 차라리 나은듯합니다 그냥 회를 어떻게 먹을지 머리 쓰기 싫음 괜찮습니다 머리 쓰면 더 좋은 곳도 많을 것입니다',\n",
       " '비위생적인 가게 수저통에 고춧가루가 들어가 있는데 딱 고춧가루만 뺌 주문 순서 안 지킴 큰소리치는 사람 음식부터 나옴 콩국수 맛없음 시판용 콩 국물에 면만 탄 맛 만두도 시판용 찐 맛 칼국수만 추천 그러나 서비스 접객 위 생도에서 현저히 떨어져 어떻게 미슐랭 받았는지 의문 시장통 같아 밥이 코로 들어가는지 입으로 들어가는지 모를 일 비추 not recommended',\n",
       " '딸기 맥주 색도 예쁘고 맛도 괜찮았어요 스콘이랑 맥주가 이렇게 어울릴 줄이야',\n",
       " '치즈 바게트  크로켓들 근처 사는 친구가 사다 줬음 치즈 바게트  첫 비주얼 보고 대왕 치토스인 줄 완전 비비드 한 색이 정말 강렬함 살짝 데워서 먹으니 치즈 사르르 녹음 바게트 쫀쫀하고 치즈가 짭짤한 맛보다 단맛이 더 강함 묘하게 중독적인 맛이다 엄마 다 좋아하심 크로켓  이름 모를 크로켓들 돈가스가 샌딩 되어 있는데 크로켓 속 돈가스치고는 두툼하니 아주 실하다 야채들이랑 케첩이랑 적절히 잘 어울림 옛날에 시장에서 사 먹던 야채 크로켓에 돈가스 끼워 먹는 느낌 크기도 커서 만족스럽다',\n",
       " '팔긴 하지만 참치집이라기보다는 직장인 알탕 파는 점심 식당입니다 알탕에 알 하나는 많이 넣어줌 알 대구탕은 알은 반으로 줄고 생선이 좀 들어갑니다 알려면은 라면에 알 넣어서 끓여주고 사이드로 조그만 알 돌솥밥 주는데 은근 맛있음 낙지는 안 들어가고 가끔 오징어 같은 게 들었어요 회덮밥은 냉동 덜 풀린 얼은 회가 나옵니다 양은 진짜 많이 줌 구이정식은 근 괜찮아요',\n",
       " '드라이브 갈 겸 갔던 곳 생각보다 굉장히 크다 생각보다 굉장히 비싸다 끗',\n",
       " '하얀 국물이 정말 진하고 맛있더라고요 진한 국물이 참 인상적이었어요 ',\n",
       " '보쌈 자주 시켜 먹는 곳이에요 배달도 빠르고 늦은 시간에도 따뜻하게 먹을 수 있어 좋았습니다',\n",
       " '살짝 불친절해요 안구 카운터에 있으신 분부터 기분이 안 좋아 보임 다른 직원들도 똑같아요',\n",
       " '베이커리에 예술을 가미할 수 있는 장인이 있다면 경주의 핫 플 꼭 들러야 하는 기와 양과점',\n",
       " '두부전골이 깔끔하고 맛있어요 도토리묵과 파전도 조금 비싸지만 항상 먹습니다',\n",
       " '남자 직원이 싹수없음',\n",
       " '분위기가 상당히 좋았습니다 가게도 예쁘고 음식도 맛있어서 다음에 또 방문하려고 합니다',\n",
       " '기본 카레라이스 훌륭했던 편이에요',\n",
       " '바나나 망고 입맛에 맞았던 편이에요',\n",
       " '식사 시간이 아니어도 항상 사람이 많은 곳이에요 육전이 먹기 좋게 썰려 올라가 있는데 면이랑 같이 먹으면 최고 육전도 기름지지 않게 잘 부쳐서 시원한 육수랑 잘 어울렸어요 그리고 건더기 파인데 국물이 너무 맛있어서 이 날 완냉했습니다',\n",
       " '무르그마카니 그럭저럭 맛있었던 것 같다',\n",
       " '여자 셋이서 먹었는데 처음 받을 때 양이 너무 많아서 기함했습니다 오만 원에 이 정도라니 띠용때용 회도 신선 쫄깃 존 맛뱅이에 여',\n",
       " '곱창이 먹을만한 편 분위기도 왁자지껄하니 술 마시기 좋네',\n",
       " '재방문한 농민 백암 왕 순대 올 때마다 특을 시킬지 정식을 시킬지 고민하게 됨 결국 정식으로 점심시간에는 웨이팅이 좀 있지만 아주머니의 빠른 테이블 회전 스킬로 십분 이상 안 기다려도 됨 역시 해장엔 최고의 순댓국 사진 위주의 감상',\n",
       " '하남 스타필드에 입점해 있는 광화문 소바  낙지 요리집 미진 쇼핑하느라 위장이 텅 비어 있다던 일행 오 속이 비었으니까 따뜻한 국물 먹을까라고 했더니 속이 비어서 메밀국수를 먹어야겠어 미진에서라는 답변이 돌아옴 어딘가 답장 너의 기운이 싸했으나 자리에 앉아 메뉴를 고민하기도 전에 이미 맞은편에 앉은 사람의 메뉴는 정해졌고 판 메밀소바에 비빔메밀을 추가해 주문 무엇보다 판 메밀이 맛있었는데 네 덩어리의 소바와 육수라는 단출한 차림이지만 육수가 정말 괜찮다 간 무를 왕창 넣고 얇게 썬 파도 왕창 넣고 김은 더더더 왕창 넣어서 육수에 메밀면 퐁당 넣어 후루룩 먹어 주면 기분이 절로 좋아진다 육수가 맛있어서 몇 번이고 따라 마셨다 비빔메밀도 맛있는데 아우야 양이 무지막지하게 많다 결국 다 못 먹고 나오긴 했다 새콤한 빨간 비빔 초장 베이스인 것 같다 국물에 오이가 숭덩숭덩 썰려 있다평소에 비빔냉면을 먹으면 식초를 꼭 넣는데 미진의 비빔메밀은 굳이 식초를 넣지 않아도 적당히 새콤한 편 판 메밀 육수가 테이블마다 놓여 있으므로 비빔 한 입 육수 한 입 번갈아 먹으니 천국이 따로 없었다',\n",
       " '찢었다',\n",
       " '매번 코스 요리를 먹는데 요리 온도가 딱 맞춰져 나올 때는 좋지만 가끔 살짝 식은 듯하게 나올 때는 실망스럽기도 합니다 튀기는 방식의 요리는 대부분 아주 훌륭합니다 사람이 늘 많고 테이블 간격이 좁아서 저녁 시간에는 대단히 시끄럽습니다',\n",
       " '정용진 부회장이 야심 차게 선보인 조선호텔의 독자적인 부티크 호텔 에스케이프 호텔의 중식당 파워 맛집 블로거이자 정용진 부회장 인스타에 자주 등장하는 팻 투 바 아님이 호텔 총 지배인으로 있다 홍콩의 모던 차이니스 레스토랑 mott 와 협업한 광둥식 중국요리 메뉴를 갖춘 팔레드 신은 Mott 의 베이징 덕 딤섬 꿀 소스 차슈 바비큐를 그대로 맛볼 수 있다 예약은 필수 현재까지는 좌석이 있더라도 예약 없이 당일 방문한 손님은 받지 않은 것 같다 친구가 같은 날 예약 없이 왔었는데 거절당했다 베이징 덕과 차슈 바비큐는 일 전에 메뉴를 선 예약하지 않으면 당일 주문은 불가능하다 저녁에는 딤섬 가지 종류만 주문 가능하여 메추리알 트러플 샤와 마이 신라 소로 야포 하여가우를 오더 했다 그나마 메추리알 트러플 샤와 마이가 인상에 남지만 딤섬을 먹으러 찾아올 맛 집만큼은 아니었다 광동식 탕수육은 달달한 맛이었고 양이 엄청 적다 어향 가지는 짭짤 날치알 게살 볶음밥이 양이 젤 많고 맛있었다양이 적은 여성 명이서 먹어도 풍족하진 않았다 Mott  만큼의 인상적인 분위기나 맛도 아니어서 아쉬웠다 업그레이드가 되리라 기대해본다 그리고 아직은 직원 교육이 제대로 되지 않은 느낌 이미 화이트 와인을 주문했는데도 다시 주문받으러 오고 우왕좌왕한다 한편에 바 라운지나 펫 존위 있는 건 다른 중식당과의 차이점 조만간 중식당을 간다면 조선호텔 홍연으로',\n",
       " '담백하고 깔끔합니다 어른들 입맛 순두부가 천 원이면 비싸다고 생각하는 건 나뿐인가',\n",
       " '깔끔한 인테리어에 맛있는 디저트가 많이 있는 곳 커피 맛도 좋지만 스콘 가눌레 케이크 디저트의 종류가 많고 식감이나 맛도 좋음',\n",
       " '맛은 있다 근데 존 만 미미 정도까지는 아니다 양배추도 많고 레몬 소금이 돈가스와 잘 어울려서 좋았다 다음에는 카레와 먹어보고 싶다 평일 점심 오픈한 뒤 갔는데도 몇 분 뒤 사람들로 가득 찬 걸 보면 인기가 상당히 많은 듯하다 혜화에서 밥 먹는 일이 생긴다면 다시 방문해보고 싶다',\n",
       " '브라우니 스콘 먹으려고 여기까지 오는 거죠 최고',\n",
       " '많이 좁긴 하지만 엄청 이쁘고 맛나요 가격이 비싼데 이유가 다 있어요 존 만',\n",
       " '맛  분위기  서비스  혼자 가도 가격 대비 풍족하게 먹을 수 있는 곳 둘이 가면 여러 가지 맛을 맛볼 수 있는 곳 셋 이상 가면 모든 것을 즐길 수 있는 곳입니다 쌀국수와 치즈 짜조를 시켰어요 쌀국수는 맛있습니다 우려낸듯한 진한 국물이라기보단 약간 가벼운 느낌의 국물에 고기랑 면 그리고 고수를 따로 시켜서 고수에 싸가지고 소스 두 개에 찍어서 먹으면 정말 맛있습니다 라임이랑 고수는 따로 말씀드려야 해요 그리고 약간 쌀국수로 모자랄 것 같은 부분을 우리의 치즈 짜조가 커버를 쳐줍니다 피스에 비해서 가격이 좀 나간다고 느낄 수 있겠지만 쌀국수만 먹고 다른 걸 찾아다니느니 쌀국수에 어울리는 음식 하나를 더 먹는다는 느낌으로 시키기 좋습니다 혼자 갔을 때도 괜찮은 맛 집입니다 대신 짜조가 재료 소진이 빨리 돼서 저녁 늦게 가면 못 먹을 수도 있다는 점 주의하시고 여럿이 가신다면 여러 개 꼭 시켜 드세요 다 맛있습니다',\n",
       " '고기 참 좋네요 가격은 장난 아님',\n",
       " '아침 일찍 가면 좀 한가하다 아니면 줄을 서는 걸 각오 바게트 안에 음식이 들어가 있는 것이 신기하더라 식당 이름도 특이하고 참고로 식으면 딱딱하다 만들자마자 먹어야 제맛',\n",
       " '대게를 처음부터 끝까지 따뜻하게 먹을 수 있다는 게 너무 매력적이네요 속살도 꽉꽉 차 있어서 너무 맛있게 잘 먹고 왔어요',\n",
       " '사당동 방배 한가람 김밥 구성비 좋은 동네 김밥  요즘은 김밥 하나만 잘해도 전국구로 유명해지긴 한데 방배 김밥이라는 김밥이 하나의 김밥 장르로 발돋움한 것도 김밥이 얼마나 우리 삶에 깊숙하게 함께하는지를 보여주는 대목이다 방배 김밥은 유부를 조려 고기 대신 김밥 속으로 사용하는 김밥을 통칭하는데 이런 스타일의 김밥을 내는 곳이 원조인 아마도 방배 김밥 지금 리뷰하는 방배 한가람 김밥 그리고 이대 앞 방배 유부김밥 등이 있다  방배 한가람 김밥은 관악 시장에 위치한 자그마한 김밥 집이다 연세 지긋한 할머님이 운영을 하시는데 예전에 생활의 달인에도 출연하셨다 보다 가게는 옥정 김밥처럼 자그마한 테이크아웃 전문점이고 할머니 두 분께서 김밥을 만들고 판매를 하고 계신다  여기 김밥은 클래식한 옛 김밥의 특징을 모두 갖추고 있다밥이 많이 들어가 듬직하게 굵은 크기 원 수준의 저렴한 가격 년 이상의 업력 이 모든 것을 갖추면서 유부라는 독특한 재료를 사용하는 유니크함까지 가지고 있다 여러 가지를 맛보고 싶어서 기본 김밥인 유부김밥과 참치 진미 햄 우엉 네 가지 김밥을 추가로 주문해서 먹어봤다  전체적으로 맛은 짠맛은 적고 자연스러운 단맛이 우세한 슴슴한 김밥이다 강렬한 재료의 자극은 전혀 없고 평온하고 온화하지만 맛의 킥은 없다 대신 유부 조림의 고소한 끝 맛은 이집 김밥 최고의 포인트다  유부 이외에는 굳이 주문하지 않아도 맛이 예상이 된다 모든 김밥이 유부김밥을 기본으로 거기에 재료를 약간씩 더 넣은 김밥들이라 이름에 붙은 재료의 맛이 도드라지기보다는 유부김밥의 스멜이 모든 김밥에서 난다 여러 가지를 먹어도 한 가지를 먹는 느낌이 강한 아쉬움이 있다  하지만 이 지역에서 원에 배부를 수 있는 큼지막한 김밥 집이 있다는 것은 동네로서는 기쁜 일이 아닐까점심시간에 가까워지지 테이크아웃 손님들이 계속 들어오신다 앞으로도 늘 번창하시길 바란다 PS 김밥 단면 사진은 유뷰햄우엉진미참치 순서입니다',\n",
       " '오픈 시간도 안 지나서 갔는데 단 새우는 재료 소진이더라고요 개인적으로는 소바는 다른 곳보다 특별히 더 맛있는 건 못 느꼈고 소바 야끼가 맛있었습니다',\n",
       " '양고기에서 잡내 나 아무런 냄새도 느낄 수 없고 참숯에 구워서 그런지 더 숯불 향이 좋은 그런 고기였다 맛있었다',\n",
       " '바지락칼국수 보리밥  양도 많고 바지락도 맛있다 국물 죽이고 면 발개 쫄깃  인 가능 월요 휴무 남당리 천북 오천항  깐돌네굴수산 신토불이 횟집 수산',\n",
       " '무등산에 바람 쐴 겸 들렸는데 좋습니다 이층까지 있고 자리가 넓어요',\n",
       " '손님이 왜 많은지 이해가 안가네요 고등어 비린내 작렬 방어 회는 너무 비싸고 별 맛없어요 잔뜩 기대하고 갔는데 실망했습니다',\n",
       " '가족과 함께 방문 음식 만남 특히 냉면 우수함 친절은 기대하지 마세요 아이들이 떡갈비 아주 좋아함',\n",
       " '직원들이  친절함이 없어  아쉽네요',\n",
       " '음식이 깔끔하고 분위기가 너무 좋았습니다 코스 요리 하나하나가 너무 예뻐서 먹기 아까울 정도',\n",
       " '공휴일에 방문해서 그런지 사람이 정말 많았다 야채빵 단팥빵 살려면 분은 기다려야 할 듯  저 두 방 필요 없으신 분들은 줄 안서도 됩니다 근데 야채빵 단팥빵이 죽여요개존맛 특히 야채빵 흐물아삭 양배추가 잔뜩 들어있고 허영 진짜 맛있어요 다른 빵 들도 무난하게 맛있었는데 특별하지는 않아서 그냥 그랬다 아 구운 찹쌀떡 구운 찰떡 왕 추천해요 쫀득 고소 달콤 진짜 존맛탱 근데 그 구운 찹쌀떡이랑 단팥빵 야채빵 외에는 특별한 메리트는 없다 하지만 야채빵을 위해서라면 웨이팅 가능 추천합니다 재방문율  주변 추천율 ',\n",
       " '브런치 레스토랑으로 분위기도 좋고 음식도 건강하니 맛있다 병아리콩으로 만든 완자를 으깨서 각종 야채와 소스를 섞어 먹고 싸먹을 수 있는 토르티야까지 나오는 팔라펠 플레이트 건강한 맛인데 이게 맛없다는 게 아니라 진짜 맛있게 건강함 산뜻하게 한 끼 먹기 좋다  귀여운 강아지가 가게 안을 돌아다닌다',\n",
       " '구성비 최고에 맛까지 상당한 초밥집 조금은 협소하지만 건대 주민들에게 오래 사랑받는 데에는 그만한 이유가 있다',\n",
       " '식당도 깔끔하고 고기도 부드럽고 고기 양념도 맛있어요 웨이팅이 조금  있었지만  맛있는 곳이라서  사람이 많다고 생각하고 했어요  밑반찬도 직접 하시는지 맛있고 사장님 분과 직원분들 바쁘신데도 친절하게 해주셔서 좋았어요 ',\n",
       " '성산일출봉 뷰러 좋아요 비 와서 멍 때리고 앉아 있다 왔네요 제주 온니 먹어 불법 할고 같아요',\n",
       " '아무 리뷰 미각 촉각 청각 시각 후각을 다 자극하는 카페 드라이브하기 좋은 양주에 있어서 접근성이 좋아요 주차공간도 아주 넓어서 저 같은 초보도 갈 수 있어요 층도 인테리어가 예뻤지만 평범한 카페 느낌이라면 층은 정말 우와 소리가 절로 나오는 인테리어예요 성경에 나오는 사막이라는 뜻의 미드 바르에 영감을 받아 사막을 표현하고 싶으셨다고 해요 그래서 바닥이나 벽면 커튼 등 전체적인 분위기가 사막을 연상하게 만들어요 특히 정면에 통유리로 보이는 넓은 논밭 하늘이 인상적이었어요 노을이 예쁠 것 같아요 봄여름 가을 겨울 사계절이 뚜렷하게 보일 것 같아서 사계절 다 와보고 싶은 느낌이었어요 층에서 층으로 올라가는 계단에서 너무 좋은 향이 나서 여쭤보니 이센스 스틱 피워놓으신다고 하시더라고요 친절하게 어떤 향인지 직접 보여주시면서 설명해주셨어요 수유실도 따로 마련되어 있는 것 같았고 아기들 의자에 방석 화장실도 깔끔하고 사장님이 하나부터 열까지 꼼꼼히 신경 쓰신 흔적이 보였어요케이크 마카롱 등 디저트 맛과 종류도 다양했고 모든 디저트를 매장에서 직접 만드신다고 해요 커피도 종류가 다양했는데 처음 먹어본 트러플 라테가 정말 인상 깊고 맛있었어요 커피에 트러플이라니 뱅쇼와 밀크티는 예쁜 보틀로도 판매하고 있더라고요 먹어보진 못했지만 다음에 기회가 된다면 구매해보려고요 사람 없는 조금 한적한 평일에 자주 가고 싶은 곳이에요',\n",
       " '장어하면 이 집이다 장어도 친절하게 잘 구워주신다 하트시그널 에서도 나온 집 사람이 무척 많고 시끌시끌하므로 동행인들과 큰 소리로 대화하시길',\n",
       " '순대국밥 안에 대파와 부추가 약간 들어가 있어 잡내를 없애주고 소화를 돕게 한다 날씨가 추워 따듯한 국물 생각날 때 가고 싶은 곳',\n",
       " '홍콩식 딤섬을 제대로 느껴보시고 싶다면 크리스털 제이드 추천이요 샤오롱빠오는 무조건 시키세요',\n",
       " '저는 칼국수보다 만두가 맛있더라고요 상세 평가 리뷰 블로그에 글 써봤습니다  아래 링크에 구경 오세요 httpsvolagDcM',\n",
       " '깔끔했고 서비스가 좋음 맛도 있으나 가격은 있는 편',\n",
       " '약 한 시간 넘는 웨이팅을 기다리고 먹은 돈가스 첨에는 양이 너무 작은 거 아닌가라고 생각했으나 이내 돈가스 맛에 취해 모두 잊어버렸다 어떻게 이런 맛이 날까 웨이팅은 무섭지만  다시 가고 싶어요',\n",
       " '보기에는 전혀 안 맵게 보였는데 예상외로 맵더라고요 반찬도 요일마다 바뀌는 것 같고요 매운 게 당길 때 추천합니다',\n",
       " '맛 집이라고 해서 기대 많이 하고 갔는데 시간 기다리고 먹은 거 치고 별로 에여 재방의 사 없습니다',\n",
       " '예전에 갔을 때보다 덜 짜서 너무 좋았고 바삭바삭한 뉴욕 스탈 피자를 좋아해서 그런지 입맛에 잘 맞았어요  페퍼로니나 브루클린 추천 스내플을 파는 것도 특이하고 재밌네요 ',\n",
       " '어른들과 식사 추천',\n",
       " '사람 많고 잘 되는 집은 이유가 있네요',\n",
       " '맛있어요  ',\n",
       " '화이트로 구랑 카르파초가 독보적으로 맛있어요 두 번 갔는데 요고는 두 번 다 시켰고 먹을 때마다 아주 그냥 행복했답니다 문어 감자도 맛있었고 항정살은 쪼금 평범 리소토는 약간 스페인에서 유명한 문어 밥 생각났어요 근데 문어 밥은 한국 해물탕에 밥 비벼 먹는 맛이라고 유명하긴 해요 셋이 다 각각 다르긴 한데 뭔가 통하는 맛 그리고 디저트가 진짜 존맛탱이었어요 대낮에 가서 아아',\n",
       " '육지에서 친한 친구들이 놀러 와서 밥 한 끼를 사줄 때 무조건 여기로 데려옴 처음 먹었을 때 너무 맛있어서 감동이었도 그다음 방문부터는 처음 방문 때의 감동은 없엏지만 다른 곳을 방문해봐도 여기가 제일 맛있다 일단 고기에 육즙이 굉장히 풍부하다 고추냉이 갈치속젓 명란젓 등 곁들여 먹는 것들도 좋고 고사리 깻잎 같은 반찬도 좋다 그리고 묵은지를 구워 먹는 것도 존 만 기본으로 나오는 김치찌개도 자극적이면서 맛있다 안에 들어있는 고기도 부드러움 갈치속젓 비빔밥 과 국수도 맛있음 서버분에 따라 맛 차이가 좀 많이 나고 가게는 정신없다 그래도 요즘은 원격 줄 서게 해서 시간 맞춰 방문하면 되니까 좋다 기대하면 실망이 큰 법이겠지만 맛있긴 맛있는 곳',\n",
       " '맛있는 초밥집들은 항상 초밥 맛있게 먹는 법이 있더라 그리고 생고추냉이를 올려줘 그게 바로 이 가게',\n",
       " '테라스도 있고 안에 있는 공간이 그리 널찍하진 않아도 좌석이 많은 편이어서 좋았습니다',\n",
       " '법원 앞에서는 이만한 곳이 없지요 맛깔나게 주인이 직접 묻혀내는 갖가지 음식들과 메인이 나오는 한정식도 좋고 마블링 확실한 고기를 이 가격에 먹다니요 괜히 년간 법조계 인사들의 발이 안 끊기는 게 아닙니다',\n",
       " '종종 가서 차 마시고 와요  뭔가 차랑 정갈한 디저트를 먹고 나면  저까지 차분해지는 기분',\n",
       " '일본에서 년 꼬치 경력의 사장님이 운영하는 집으로 올해 여기를 알게 되고 다섯 번은 간 듯합니다 여기 꼬치를 먹어보면 한입 먹자마자 눈이 커지는 경험을 하시게 될 겁니다 꼬치에 불 맛은 기본이며 양념도 맛있고 무엇보다 식감이 너무 좋습니다 고기는 육즙 팡팡에 볼살 돈 설아 경우 식감이 좋아요 무엇보다 버섯이랑 채소도 너무 맛있어요 표고버섯은 꼭 드셔보세요 쫄깃 탱탱 리예요 기본 안주도 맛있어요 매번 둘이 개는 먹고 오는 것 같네요 서빙하는 분들도 너무 친절하고 일본 분들도 있으신데 다들 친절하고 좋아요 줄 서서 먹는 집인데 요즘엔 코로나로 인해 매장도 개 중 하나만 운영하십니다 최근엔 코로나 때문에 포장해왔는데 식어도 맛있어요 락희돈 최고입니다',\n",
       " 'this place is about the only place id go for an icecream craving during the winternot only is it good but the menu constantly comes out with limited specials that really makes you want to come back for more 아이스크림 당길 때마다 solidworks으로 가면 됩니다 상쾌하게 맛있고 별로 비싸지도 않고 메뉴도 좋고 한번 가면 다시 가고 싶을 수밖에 없습니다',\n",
       " '새우 필라 프레 새우가 정말 많아서 깜놀  이런 곳이 있었구나 매우 흡족',\n",
       " '자리가 진짜 넓고 좌석이 편해 오랫동안 머무르기 좋고 디저트며 요리며 전부 맛있어요',\n",
       " '많은 부분에서 오른 조와 비슷했던 곳 다른 점이 있다면 크고 예뻐진 분위기 메뉴들도 맛의 스타일도 오르지의 음식들과 많이 겹쳤다 맛있는 음식도 그저 그랬던 음식도 있는데 대부분이 맛있었기에 일단 맛있다로 할 수 있을 듯 누군가에게 추천할 만한 이탈리아 음식점인 듯 또한 이곳은 찾기가 은근히 어렵다 오르지를 먼저 찾은 후 정문을 바라본 후 뒤로 돌아보자 그리고 계단을 찾아보자 그곳이 바로 오르지의 애프터 이다 그리고 계단을 올라온 후 이곳에 들어오면 문이 어디인지 알기가 매우 어렵다 이때 당황하지 말고 엘리베이터같이 생긴 곳에서 빨간 버튼을 찾아서 누르자 그러면 문이 열릴 것이다 알고 나면 쉽지만 처음 오면 매우 당황스럽다 실내가 굉장히 넓고 예쁜 편이다 오르지는 나쁘진 않지만 좁고 다닥다닥 붙어 있어서 다소 불편할 수 있다 맛을 취하고 편안함을 살짝 포기해야 했던 오른 조와는 조금 다른 분위기이다음식은 주로 파스타로 주문했고 리소토 하나 안티파스토 하나를 더했다 비프 카프 라치오 우니 파스타 램라구 뇨끼 카르보나라 금태리조또 이렇게 주문했다 비프 카르파초는 얇고 넓게 나온 소고기와 재료들이 올라가 있는데 그것을 스태프 분이 와서 손수 말아서 썰어주신다 일종의 퍼포먼스인데 완성되어 칼로 썰어주신 모습을 보니 예쁘면서도 김밥이 연상되고 막 그런다 아이올리 소스를 직접 하신다고 하시는데 요거 상당히 맛있다 루콜라 호두 등 재료가 많고 다양해 여러 가지 맛이 났다 램라구파스타 생면이 정말 맛있었고 양고기의 육향이 은근히 진하게 났던 취향 저격 생면 파스타 먹으면 먹을수록 자꾸 당기는 느낌 이번 주문 메뉴 중 가장 맛있었다 애프터 에 온다면 이 메뉴를 추천한다 오르지의 화이트라고에 고기가 양고기로 바뀐 느낌이다 그리고 많은 기대를 모았던 뇨끼 음 감자요리이다 새우가 더 맛있다뇨키라는 걸 배제하고 생각한다면 그냥 잘 익은 감자와 매운 소스 뇨끼는 물론 감자로 만들었지만 뇨끼의 식감은 감자랑은 전혀 달라야 할 텐데  우니 파스타는 짭짤한 느낌의 오일 파스타였다 역시나 직접 비벼주시니 볼거리도 제공되는 편인데 조금 더 맛이 강했으면 하는 메뉴였다 내가 간이 센 걸 좋아하는 걸까 카르보나라는 파르미지아노치즈란 설명을 보고 두말 않고 먹어보고 싶었던 메뉴이다 치즈 향이 굉장히 진하고 면도 괜찮긴 한데 생각한 것만큼의 임팩트는 없다 금태리조또도 굉장히 맛있는 메뉴였다 쌀알이 식감이 좋은 편이었는데 금태가 맛을 정말 잘 살려준다 굽기가 훌륭해서 맛있고 부드럽다 금태라는 재료 때문인가 살짝 비싼 메뉴이기도 하다 와인은 카베르네 쇼비뇽이라고 한다 와 알 못 일러  음식들의 맛과 풍미를 살려주었다 간혹 그저 그런 메뉴도 있었지만 맛있는 메뉴들에 대한 만족도가 아주 높았다 그리고 기대에 못 미쳤던 음식도 있긴 하지만 막 너무 맛없거나 그런 것은 아니었다어디까지나 입맛이나 취향의 차이도 분명히 있을 듯하다 찾기가 어려운 점을 포함해서 약간 불편한 부분도 간혹 있었지만 일단 넓고 좋은 분위기 편안한 식사 자리 특색 있고 맛있는 음식들 추천하기에 부족함이 없는 곳이다',\n",
       " '시작은 꽃 삼겹이었으나 끝은 똥 목살이리라 뭘 먹든 다 맛있는 곳입니다 마지막에 냉면까지 싹 먹어주니까 개운합니다',\n",
       " '이거 방송 왜 탄 거죠',\n",
       " '코엑스 가면 중국음식은 꼭 여기서 먹지요',\n",
       " '이영자 추천',\n",
       " '전체적으로 음식들이 달아요 내부 분위기 짓다 만 건물 같음',\n",
       " '재방문한 곳 재료가 신선하고 면 굵기를 선택할 수 있어서 좋다 다른 데는 반숙 계란 반 개만 주는데 여기는 한 개다 준다 매운 돈코쓰 라멘 국물이 단연 일품 적당히 매워 느끼한 맛을 잡아준다 차슈도 부드럽고 숙주는 신선해 아삭합니다 무난한 데이트 코스나 혼밥으로 추천합니다 온 밥 테이블도 잘 돼있어요',\n",
       " '밀크티와 아포가토 시켰는데 맛있었어요 분위기도 좋고 직원분들도 친절했습니다',\n",
       " '적당한 간 신선한 고기 종로 기준 저렴한 가격',\n",
       " '진짜 순댓국 가격은 약간 있는 편이지만 원 그 값을 합니다 근처 갈 일 있어서 갔는데 일부러라도 찾고 싶은 집이에요',\n",
       " '아늑한 게 분위기도 좋고 입맛에 맞는 것 같네요',\n",
       " '갑자기 베이글이 먹고 싶어서 아침 일찍 오픈하는 이대역에 있는 마더린러베이글 다녀왔어요 역이랑 가깝고 찾기도 쉬워서 좋아요 저는 에그베이글선드라이 크림치즈 블루베리 베이글 크랜베리 주문했어요 베이글 빵은 진짜 쫄깃한 식감이었어요 저는 워낙에 크림치즈 좋아해서 두껍게 샌드 해주는 거 정말 좋았어요 크림치즈 자체도 맛있어서 저처럼 빵이랑 크림치즈 둘 다 좋아하는 사람한테는 추천 이용',\n",
       " '미리 예약하고 갔는데 만족스러웠어요',\n",
       " '게살과 날치알 로제 소스 파스타 정말 좋은데요',\n",
       " '한 후 찐 맛 집 추 전 두 번 박아요',\n",
       " '소문에 비해 별로예요 중앙 해장이 백배 맛있음 남편이랑 먹고 둘 다 설사했어요  위생에 신경 좀 써야 할 듯하네요 아웃',\n",
       " '저는 별 다섯 개요 시락국이 정말 맛있었고 열 가지가 넘는 반찬이 있는데 다 맛있었어요 그냥 먹고 있는데 주민으로 보이는 맞은편 아저씨께서 김가루랑 부추를 시락국에 넣어 먹는 거 알려주셔서 정말 맛있게 먹었네요 통영을 또 가게 된다면 이곳이 일 순위예요',\n",
       " '그냥 타워 스카이라운지가 나을 듯 가격차이도 얼마 안 됨 게다가 노기스',\n",
       " '토요일 낮에 갔을 때 손님이 없었는데 종업원도 적더라 서비스가 너무 효율적으로 돌아가는 듯 주문하기가 쉽지 않았다 맥주 맛은 에일 위주고 대자본의 위력을 제대로 보여준다 다양한 맥주를 즐길 수 있다 ',\n",
       " '강서구 화곡동에 맛난 맛 집이 그리 많지 않은데 발산역 인근에 있는 똑순이 맛 집 괜찮습니다 다른 분들의 말씀대로 함께 나오는 들깨 미역국 역시 일품입니다 나중에 볶어먹는 볶음밥도 맛난 집입니다 아주 맵지도 않고 간이 딱 적당합니다 아귀찜도 부드럽고 양도 많이 나옵니다 맛 집으로 추천드립니다',\n",
       " '회전초밥 스타필드 하남 스시 미사 하남 스타필드 하남 메가박스 아래 푸드코트 갓덴스시 한 군데인 줄 알았는데 신세계 지하에도 갓 덴쓰 시가 있네요 네 개 지점 방문했지만 맛 차이는 거의 없음 불닭 소스 들어간 연어나 와규 강력 추천 점심시간 배달 주문이 많은지 회전되는 스시가 거의 없어서 일일이 시켜야 해 아쉬움',\n",
       " '랑산 밥상 좋았던 거 같다',\n",
       " '별 하나도 아까워',\n",
       " '맛이 없었어요 점심시간에 기대하고 가서 먹었는데 팟타이 맛이 무엇 ',\n",
       " '봉골레가 원이라니 가격 정말 저렴하고요 근데 맛도 너무 맛있네요 단골 등극',\n",
       " '기대가 너무 컸나 캐실 망',\n",
       " '김치찌개 맛 집 밑반찬도 비빔밥도 김가루도 다 정갈하고 깔끔하고 맛있었어요 신촌 이대 가면 또 찾을 맛 집이에요 가게가 깔끔 깨끗했어요 남자친구가 또 가자고 밥 먹고 싶을 때마다 여기 좀 고랭지 노래를 부르네요 주인아저씨도 친절했습니다',\n",
       " '테이블 수는 적고 분위기와 노래는 좋음 커피 맛도 굉장히 좋음 주차는 근처에 적당히 하면 되고 화장실은 외부에 있지만 깔끔 재방문 의사 있음',\n",
       " '진짜 맛있네요 브루스케타도 감동적인 맛이었고 크림 리소토도 환상 그 자체 파스타는 무난한 맛이었는데 담에 오면 이 메뉴 대신 트러플 리소토를 시킬 듯',\n",
       " '리뷰 잘 안 남기는데 너무 최악이라 모두에게 알리고 싶어요  이 정도로 웨이팅 해가며 먹을만한 집은 아니에요 테이블 비었는데 손님 바로바로 안 들여보내고 계속 밖에서 기다리게 해요  전체 테이블 다 치우고 나서 한 번에 들어오라고 하네요 종업원 입장에선 그게 편할지 몰라도 손님은 기다리기 힘들어요  밖에 앉을 데도 모자라서 백발노인은 기다리다 지쳐 가신 분도 있었어요 드디',\n",
       " '육회비빔밥 대체로 깔끔했어요',\n",
       " '화명동 맛 집하면 명가 밀면 모르는 사람 없음 만두가 진짜 맛있고 먹기 전에 따뜻한 육수 주는 거 너무 좋음',\n",
       " '춘천시 토담 숯불 닭갈비 처음 맛보지만 정말 최강인 토담 숯불 닭갈비입니다 인 이서 소금 간장 고추장에 공깃밥 개 막국수까지 털어버리고 왔습니다 소금 움 그냥 맛있는 닭구이 세 가지 중에 제일 평범한 것 같아요 그렇지만 맛있습니다 간장 진짜 맛있어요 간장만의 특유한 달콤한 맛이 있고 제일 무난하게 먹을 수 있는 맛이에요 고추장 좀 매운 편이에요 특색은 없지만 이게 진짜 막국수랑 먹을 때 가장 어울렸던 것 같아요 막국수  최고입니다  그냥 공이 밥 말고 막국수를 개 시켜야 해요  닭갈비를 화려하게 바꿔주는 마술사입니다 간장이나 고추장은 자주 뒤집어줘야 해요 안 그러면 판에 달라붙거나 타요 고추장은 특히 많이 탑니다 서울에서 시간 차 타고 올만한 가치가 한 번쯤은혹은 강원도 여행 시 있다고 생각합니다  아직까지 서울에서 이런 경험을 해보지 못해서 인 것 같아요',\n",
       " '분위기도 좋고 커피 진짜 맛있네요',\n",
       " '다녀와서 와인에 대해서 더 흥미가 생겼어요 더 공부해서 다시 찾고 싶은 레스토랑',\n",
       " '맛도 준수한 편이고 서비스도 괜찮음 토르티야 음료수 무한리필',\n",
       " '여기가 왜 인기 있는지 도저히 이해 안 되네요 시간 기다리는 것은 약과인데 기다려서 먹은 맛도 그다지 크림 가락국수도 특이해 보이지만 맛 자체의 감흥은 별로 없고 전반적으로 양도 적어요 서빙하는 사람은 부족해서 불러도 안 옴 바쁜 점심시간 지났음에도 불구하고',\n",
       " '인터넷에서 보고 갔으나 기대치보다 못함',\n",
       " '연어 가마솥 밥과 믹스 프라이 사진은 없지만 민물장어 가마솥 밥을 먹었다 세 가지 모두 만족스러운 맛이다 믹스 프라이는 새우튀김 개와 관자 튀김 개 멘치까스 개로 구성되어있다 관자 튀김과 멘치까스는 등분 되어있으니 둘이서 사이드로 하나 시키면 딱 좋다 튀김옷이 아주 바삭바삭해서 전부 맛있게 먹었는데 그중에서도 관자 튀김이 인상적이다 관자가 질기지 않고 부드럽고 탱글 하면서 촉촉했다 같이 나온 계란 샐러드를 곁들여 먹었는데 타르타르 소스와도 잘 어울릴 것 같다 가마솥 밥은 쌀알이 살아있고 간이 잘 배어 있어서 고소하고 맛있었다 조금 짜다고 느낄 수도 있겠다 연어는 껍질을 불에 그을려서 스모키 한 향을 낸다 속까지 완전히 익히지 않아 퍽퍽하지 않다 민물장어는 친구 거라 한 숟갈만 먹었는데 담백한 소금구이 느낌이었다 야근하고 온 친구가 다 먹으니 힘이 난다고 말했다 조용한 분위기에서 정갈하고 든든한 한 끼를 먹고 싶다면 추천한다',\n",
       " '예술의전당 근처엔 먹을게 많아요 그중에 구성비 따져서 제일 훌륭한 곳',\n",
       " '먹고 싶은 생선 찍어찍어 찍어주시면 회 떠 주심 두툼하게 떠주신 싱싱한 회를 맛볼 수 있는 곳임',\n",
       " '양도 많고 맛있는데  주문 재촉 좀 하지 마요 자리에는 앉고 주문합시다',\n",
       " '이 정도로 만족스러운 뼈해장국 파는 집이 거의 없음 이 근방에서 보기 드문 소중한 맛 집',\n",
       " ' 분위기 만점의 커피도 맛난 카페 장점 분위기 독서 공부 편지 별거 다하고 싶게 할 만큼의 예쁜 분위기 인테리어디자인 심지어 외관도 신경 많이 쓰셨어요 친절 서비스 빵 나쁘지 않아요 커피 굿굿 바닐라라테 시켰는데 고소하면서도 적당히 달달하니 좋았어요 가격도 이 부근 카페에 비해 나쁘지 않아요 주차장 넓어요 단점 X',\n",
       " '생일이어서 런치 예약하고 방문하였어요 서비스 맛 인테리어 분위기 무엇 하나 빠지지 않아요 제일 중요한 건 맛인데 진짜 입안에서 녹는다는 게 이런 거구나 했어요  프라이빗 한 룸 공간도 있던데 다음에 예약하고 이용해보고 싶어요 쵸지 닷 덕분에 최고의 생일이었어요',\n",
       " '여기 철판 닭갈비 맛 집',\n",
       " '디너 오마카세  재료의 한계마저 뛰어넘고 항시 객을 위하는 마음이 느껴지는 섬세함',\n",
       " '입실렌티끝나고 너무 힘들어서 먹은 야식 예전보다 가격이 너무 올라버렦지만 여전히 싸고 원 이하 토핑도 실해요 생크림은 달거나 느끼하지 않아서 많이 먹어도 괜찮아요 양 많이 달라고 부탁드리는 거 잊지 마세요 띵동 소리도 여전하네요 아이스크림 와플 추천 이용 그냥 와플은 아무래도 심심해요 구냥 추억으로 맛있게 먹었어요',\n",
       " ' 식빵 달인  시 분 오픈',\n",
       " '한옥카페 매우 구석에 있음 할머니 댁에 온 듯한데 제법 예쁨 그렇지만 사람이 너무 많아서 조용하고 한적한 분위기 이런 건 아님 커피나 라테 맛 괜찮은 편 하도 사진 찍는 사람이 많아서 뭔가 조용하고 한적한 느낌을 기대하고 갔는데 에러였음',\n",
       " '주말에 사랑하는 사람과 와인에 파이 하나 어떠신가요 좋은 밤 되세요',\n",
       " '맛있는 코끼리 즉석떡볶이는 아마 서울에서 제일 싼 가격에 주는 떡볶이가 아닐까 싶다 진짜 싸지만 진짜로 맛있다',\n",
       " '판교에서 일하면서 알레그리아 모르면 앙대여',\n",
       " '내부가 시끌벅적하지만 친구들과 가기에 좋은 것 같아요 구성비는 좋진 않은 것 같지만 프라이즈가 맛있었고 뷰가 괜찮았어요',\n",
       " '부안 변산반도 서남쪽 끝에 위치한 오션뷰 카페입니다 진입로가 좁아서 나오는 차와 마주치는 것에 유의해야 합니다 깔끔한 인테리어의 실내 좌석들이 있고 바다 쪽으로 야외 좌석들이 배치되어 있습니다 커피 맛은 개인별로 취향이 다르니 넘어가고 유자 맛의 조각 케이크를 먹었는데 아주 맛있었습니다 석양이나 오션뷰를 즐기며 조용히 차 한잔하기에는 무난한 곳입니다',\n",
       " '웨이팅이 있을 수 있고 추가 주문이 안되는 걸로 알고 있습니다 밑반찬이 맛있고 셀프 바에스 채소 등 리필이 가능해서 좋습니다 비빔막국수는 광릉 한 옥점이 제 입맛에는 더 좋았지만 분위기는 광릉 한옥집이 더 좋아요 망고 하이',\n",
       " 'Pretty good selection of dishes All dishes tasted good Didnt know exactly who they were but celebrity sighting as well If u are in the area looking for a good korean place to chill this is a good choice',\n",
       " '고기를 보면 마블링에 감탄이 절로 나옴',\n",
       " '설빙은 어디나 맛이 같다 프리미엄 딸기 빙수 원 맛있옹 instagram mu eat',\n",
       " '아인슈페너 아몬드 몰카 자바  드디어 나도 가봤다 핵만 진짜 하도 인생 커피로 불리니깐 이 집 간판 진짜 인생 커피로 바꿔야 할 듯 토요일 시 웨이팅 약 분 정도 했지만 그래도 맛보았다는 거에 큰 의의를 둠 솔직히 휘핑크림이 맛없으려야 맛없을 수 없지만 이집 정말 크림 너무 맛있는 거 아닙니까 개인적으로 평상시에 아인슈페너 별로 좋아하진 않는데 여기 아인슈페너는 크림이 다 하는 거 겉음 크림만 계에 에어에 속 먹고 싶다 크림만 팔아쥬세염 개취 아인슈페너아몬드모카자바',\n",
       " '메뉴 종류가 다양하고 맛있어 보이는 사이드는 따로 시켜 먹을 수 있는 점이 좋다 양념 맛이 조금 강하나 신경 쓰이는 정도는 아니다 전체적으로 한 메뉴의 맛이 잘 어울리게 구성했다 더불어 알바가 싹수없다는 말이 종종 보이는데 일본 분들이라 대화가 좀 어색할 뿐이지 서비스가 부실하지는 않다',\n",
       " '팥앙금이 들어가 있는 단풍 모양의 빵 속초 중앙시장의 명물이라던 디',\n",
       " '라세느 파크뷰보다 개인적으로 더 좋은 곳이라고 생각해요',\n",
       " '카페거리가 아닌 강릉에서 색다른 느낌의 예쁜 카페를 찾으신다면 파티나도 좋을 것 같아요',\n",
       " '뷰 이쁘고 감성도 이쁘고 조목조목 사진 찍거나 볼거리가 많았던 카페',\n",
       " '구리남양주 최고의 부대찌개집 다만 친절함은 기대하지 마세요',\n",
       " '그냥 동네 중국집 맛이다 딱히 맛없지는 않지만 딱히 특별하지는 않다 다른 동네에서까지 찾아와서 먹을 정도는 아닌 것 같다',\n",
       " '마늘은 꼭 달라고 말해야 주십니다 한 번은 까먹고 그냥 먹다가 왜 저번이랑 맛이 다르지 생각했다가 뒤늦게 깨달아서 아쉬웠습니다',\n",
       " '아 너무 기대했던가 단호박 오징어튀김 가락국수 멸치 국물떡볶이는 좋았다 역시 관악 쪽은 점수가 후한 듯',\n",
       " '대한민국 원조 닭꼬치 집 판매 개수가 정해져있으니 일찍 가셔서 드시고 오시길',\n",
       " '베스트 제품 다 사 먹었는데 흠 부재료 폭 발 은 인정하는데 맛있는지는 정말 모르겠어요 다섯 명이서 먹었는데 다 그냥 음 이런 반응이었어요  대파 빵은 진짜 너무 별로였고 그나마 말차 매머드 만 좀 괜찮았어요 ',\n",
       " '한 소박 모둠보쌈 세트 중 시켜서 명이서 먹었어요 발사믹 드레싱의 샐러드가 먼저 나오고 한 접시에 보쌈 김치 도토리묵 홍어무침이 나왔어요 보기엔 양이 적어 보였는데 먹다 보니 적지 않더라고요 비계가 섞인 고기는 부드럽고 간이 된 느낌였는데 살코기는 좀 퍽퍽했어요 그런데 살코기 부분을 훨씬 많이 주셔서 좀 아쉽 홍어무침은 홍탁 집 무침 맛이라기보다는 회 냉면 집 홍어무침 맛 개인적으로 아주 맛있었어요 초밥에 얹어 먹으니 기가 막혔습니다 그 뒤로도 해물파전 칼국수에 죽까지 둘이서 원 내고 아주 푸짐하게 먹었습니다 담엔 아이들 데리고 인 세트 도전해보렵니다',\n",
       " '부대찌개 주문 시 라면사리를 공짜로 주고 밥이 돌솥밥이라 아주 푸짐합니다',\n",
       " '주말 입맛에 맞는 거 같고요',\n",
       " '맛도 자극적이지 않습니다 진한 국물이 먹고 싶으면 자주 들려요 아이들에게 줄 찹쌀떡도 사요',\n",
       " '가게 안이 작아서 그런가 기다리는 사람 많고 포장해가는 사람도 많아요 떡볶이 만두 김말이 포장해 왔는데 떡볶이 맛있고 튀김도 맛있네요 매장에서 먹었으면 더 맛있었을 텐데 남구 숭의동에서 사러 간 거라 오는 길에 차가 막혀서 집에 오니 다식을  튀김은 차에서 따뜻할 때 먹었는데 굳 떡볶이는 따뜻했음 대박일 듯  담엔 꼭 가게에서 먹어보겠음',\n",
       " '들어가자마자 한약재 냄새가 드리웁니다   제대로 한 끼 먹었다는 생각이 드는 곳입니다 자극적이지 않고 순수한 맛을 추구한 곳  어르신들 모시고 가면 너무나 좋아하실 곳입니다  너무 오랜만에 밥다운 밥을 먹었습니다  특히 추가로 시킨 전의 맛은 지금도 아른거립니다   이곳의 음식들은 식감들이 아주 좋습니다 전 또한 그렇습니다 ',\n",
       " '전반적으로 좋음 곳 살짝 연남 을지로 분위기도 나고 점심도 하는데 예약이나 웨이팅 시스템 등이 아쉬운 점은 있으나 제자 입장에선 불편함 골목 안쪽이라 잘 안 보임에도 불구하고 사람이 많은 편 너무 늦게 가면 sold out 될 수 있으니 가능한 일찍 입장하시길 그리고 당연히 버섯 리소토를 꼭 주문해야 하는 집 다른 음식들도 가격을 생각하면 꽤 괜찮은 편 분위기와 맛 모두를 잡은 곳이에요',\n",
       " '종류별로 빵 나오는 시간 매장 앞에 붙어 있어요',\n",
       " '여기 너무 좋아하는 곳이에요 분위기도 좋고 매운 해물 쌀국수랑 파인애플 볶음밥 너무 맛있음 오픈 키친이라 더 좋아요',\n",
       " '오랫동안 줄 서서 먹어야 할 정도로 인기가 좋지만 맛은 최고는 아니다 그냥 괜찮은 정도 싸가지고 갈 수도 있는데 인분 가격은 거기서 먹는 것과 똑같이 원 김치 맛이 예전만 못하다 요즘은 중국산 김치 맛과 비슷',\n",
       " '서울에서 이런 곳 찾기 매우 힘듭니다 굳이 이거 하나를 위해서라도 약수에 가게 만드는 스탠딩 커피다',\n",
       " '내 생일날 이태원으로 신랑을 불러 외식을 하기로 하여 첨에 스패니시 식당을 가기로 하였으나 자리가 텅텅 빈 상태를 예약을 하지 않아 들어올 수 없다는 종업원의 얘길 듣고 황당해하며 어딜 가야 하나 고심하다 삼대 천왕에 나와 유명해졌다는 맥더프 피자로 가기로 함 가게는 일반 집을 개조하여 만든듯한 허름한 계단의 층으로 올라가야 함 뭐 나름 힙하다면 합할 수 있는 이태원을 금요일 저녁 오랜만에 나와보니 뭔가 기분이 들떠 평소 웨이팅이 있으면 미련 없이 나오는 편인데 남편은 앞 두 팀밖에 안 된다며 기다리자고 함 또 방황하기도 힘들어 기다리기로 하고 드디어 입장 오랜만에 먹는 피자인데다가 방송에도 나왔다 하고 대기까지 있으니 오죽 맛있을까 상상을 하며 메뉴를 초이스람 마르게리타 하와이안 피자 맥인 치즈피자 이렇게 하고 밀러 생맥을 시킴 조각이 워낙 커 일단 먹어보고 다시 시키자고 하여 조각을 둘이 커팅 하여 나눠먹음 한 조각에 사이 정도 가격이 적당하다 생각했음다른 테이블은 정말 많이 시켜 먹는 것 같았고 젊은 남자들끼리 많이 오는 게 좀 신선했음 어쨌든 기대를 잔뜩 하고 한입 베어 물었으나 마르게리타 맛없기 쉽지 않은데 너무 기대를 한 탓일까 뉴욕을 안 가본 내 입맛이 이상한 걸까 뉴욕 스탈이라 그런가 엄청 짬 짜게 먹는 편인데도 짠 걸 보면 토마토소스를 베이스로 하는데 이게 많이 짠듯함 미국 사람들이 원래 짜게 먹는다고 거기 스타일이라고 하면 난 다시는 여기 올 일 없고 미국도 입맛 안 맞아 갈 일이 없는 걸로 역시 피자는 도미가 장맛',\n",
       " '자주 가는 단골집인데 갈 때마다 만족스러운 곳 깐풍기나 라조기처럼 튀김류가 전혀 눅눅하지 않다 볶음밥은 밥이 고슬고슬하고 간도 알맞다 추천 메뉴는 굴짬뽕 짜장면 탕수육 쟁반짜장은 양이 많은 사람에겐 조금 적을 수 있다 추천 메뉴를 세 가지 적었지만 이곳은 메뉴가 전반적으로 퀄리티가 높다 식재료도 좋은 걸 쓰시는 듯',\n",
       " '아직 오픈한지 얼마 안 되어서 정비된 느낌이 부족했으나 맛은 좋았습니다',\n",
       " '정확하게 얘기하면 맛있다 와 괜찮다의 중간임 번 걸음 해서 먹을 곳은 아니다 분위기는 좋음',\n",
       " '음식은 그럭저럭 괜찮습니다 싸지 않은 가격인 만큼 딱 그 정도의 맛입니다 하지만 서비스가 상당히 불쾌했습니다 매니저 및 직원들이 불친절한 것까진 아니지만 적절한 매뉴얼을 가지지 못하고 서비스 및 고객 접대에 미숙하다고 느낍니다 사소한 실수부터 정말 불쾌하다고 느낄만한 것이 한차례 식사에서 네 번이나 경험했다는 점에서 상당히 실망했습니다',\n",
       " '초원 by 몽탄 제 최애 고깃집은 두 개에요 소고기는 몽탄 돼지고기는 남영동 몽탄에서 이번엔 등심주물럭과 양 대창 우설로 새 브랜드를 열었다죠 메뉴 하나하나도 정말 맛있지만 제가 누누이 말했죠 고기는 어차피 유통업체에서 받아서 떼다가 파는 거라 고깃집에서 고기를 만드는 게 아님 고기는 당연히 맛있어야 하는 거라고 사이드가 맛있어야 찐 맛 집 고깃집이 되는 건데 몽탄도 그렇지만 초원의 사이드도 어마 무시 하네요 내장 술국 내장 무침 마늘 국수는 정말 압권이었습니다 내장탕 집도 내주세요 몽탄',\n",
       " '가격 저렴하고 양도 둘이서 먹기에 딱 좋아요 다른 곳보다 적은 느낌이긴 하지만 가격도 그만큼 저렴해요 맛있는데 살이 뼈에서 잘 안 발라져서 아쉬웠어요 예상치 못하게 소스가 너무 맛있었어요 소스 덕분에 감자탕 맛이 배가 되는 느낌이에요',\n",
       " '일본 카레를 즐길 수 있는 고씨네 추천할만한 거 같다',\n",
       " '인사동 좁은 골목길에 위치한 고깃집 골목길 찾아 들어가는 것도 재밌고 한옥 분위기를 잘 살려서 깔끔하고 멋있다 주말 저녁시간 조금 전 방문했는데 금방 웨이팅까지 생기더라 인사동 맛 집으로 금세 자리 잡은 듯 삼겹 목살 가브리살 인분씩 주문 리뷰에서 본 대로 친절하고 맛나게 다 구워주시니 그냥 받아먹기만 하면 된다 제일 맛있었던 가브리살 추천 젤 먼저 먹어서인가 눈이 똥그래지도록 맛있었다 기름기도 적은데 부드럽고 육즙이 가득 그리고 킥은 겨자씨 피클이라고 했었나 듬뿍 얹어 먹어도 고기 맛을 해치지 않으면서 고소한 듯 알싸한 듯 달달한 맛이 고기랑 잘 어울린다 요거 사서 쟁여두고 먹고 싶은 정도 인분에 g씩이라 인분을 둘이 먹어도 살짝 부족한 감이 있다 근데 기본으로 나오는 비지찌개가 맛있어서 밥 시켜서 먹었더니 배 뻥 밥도 한 공기가 꽉 차서 나오고 밥맛도 좋다촉촉한 비빔막국수도 빼먹으면 아쉬울 듯 맵지 않고 채소도 많이 들어서 고기 곁들여서 먹으니 좋다 빠릿빠릿 부족한 거 다 채워주시고 서비스가 너무 좋았다 분위기도 좋으니 데이트나 손님 대접에도 좋을 듯 외국인 손님들도 어떻게 다 알고 꽤 여러 팀 있더라 고기 냄새나 연기도 그다지 불편하지 않았고 너무 좋았던 식사 마플 이벤트로 감사히 잘 다녀왔어요',\n",
       " '가스트로 통 세컨드 키친이라는데 사실 가스트로 통은 비싸고 양이 적어요 라 스위스는 맛있고 양도 적당하고 가격은 너무 비싸지는 않아서 좋았어요 런치 세트메뉴 중 고기 메뉴 전부 맛있습니다',\n",
       " '해물짜뽕 맛있다 난 해물짬뽕 안 좋아한다 탕수육 짜장면 맛있다',\n",
       " '뉴욕에서 너무 좋아하던 곳이라 여기 오픈하자마자 가고 또 종종 백화점 갈 때마다 갔었다 늘 느끼지만 만족스럽지는 않다 외국에서 먹은 그 맛은 느낄 수는 없을 것 같지만 그래도 여기 오면 외국에서 먹는 듯하다 개인적으로는 피자보다는 파스타 맛이 더 나은 편이고 뭘 주문해도 이것저것 먹어보는 재미가 있다 한번 가볼 만한 곳인 것 같다',\n",
       " '가격대도 좋고 깔끔한 순댓국집 돼지 내장 없는 소고기 순댓국도 있어서 여성분들도 부담 없을 집',\n",
       " '제빵제과 가격들이 비싼 감이 있어요 치즈케이크를 먹었는데 정말 별로였고요 오후에 가서 그런가 빵들도 그다지 맛있어 보이는 상태가 아니었어요  좌석들은 코로나 때문에 널찍해서 좋았어요',\n",
       " '한우 코스 예약하고 갔는데 여자친구랑 너무 행복한 식사였습니다 코로나 단계여서 운 좋게 명에서 한우 코스를 먹었네요 셰프님도 너무 친절하시고 좋은 시간 보내다 갑니다',\n",
       " '서빙 완전 개판 알바들 교육이 정말 필요한 업소',\n",
       " '그냥 주인분이 요리를 잘하시는 거 같네요 소스가 맛있게 매운 그래서 계속 숟가락이 음식으로 향하더라고요 포장도 된다 하니 다음엔 포장해가야겠어요',\n",
       " '골목길에 있어서 잘 찾아가셔야 합니다 공간이 재미있어서 좋네요',\n",
       " '유명한 곳은 이유가 존재한다',\n",
       " '분위기는 정말 좋은 카페였다 이것저것 골라서 먹을 수 있는 빵도 많았고 커피 종류도 다양했다 아쉬운 점은 가격이 전체적으로 조금 비싸다는 것이었다 만약에 서비스가 정말 좋았다면 가격이 비싸도 고려할만할 것이다 하지만 서비스도 그다지 좋지 않아서 조금 아쉬웠다 두 번은 방문하지 않을 것 같다',\n",
       " '워낙 유명한 맛 집이고 웨이팅이 많을까 봐 다섯시쯤 갔더니 자리가 좀 많았어요 막창 인분에 만 원 제가 태어나서 먹은 막창구이 중에 제일 맛있어요 일단 초벌에서 구워주시는데 그때 바로 먹어도 되고요 바로 먹었은데 진짜 부드럽고 돼지 비린내도 하나도 안 나고 크기도 크고요 제가 서울에서 먹은 막창이랑 정말 정말 달라요 충격 먹음 직원분이 좀 더 바싹 구워 먹어도 맛있다고 해서 바싹 구워도 먹었는데 어쩜 바싹 구워도 겉은 바삭하고 속은 부드러울 수 있는지 먹으면서 맛있다고만 계속 말한 것 같아요 저는 해물뚝배기 라면이랑 버섯 된장찌개에 밥 한 공기 둘이서 나눠먹었거든요 근데 담에 가면 딱 막창 인분에 버섯 된장만 시켜 먹을 것 같아요 라면은 그저 그랬고 버섯 된장찌개는 매콤해요 근데 이거 덜 맵게 해달라고 한 거 암튼 진짜 오래간만에 너무 맛있게 먹고 갔어요 재방문의 사 ',\n",
       " '테이블 간격 좁고 시끌시끌 복잡한 분위기에요 인 세트 먹었는데 울프강은 뭔가 항상 먹다 보면 물리는 것 같아요  그리고 디저트 퀄리티가 저희 가족 전부 한 입 먹고는 디저트에 손도 안 댔어요',\n",
       " '여러 명이 여행 가서 모든 메뉴 다 시켜봄 콩국수는 평소에 안 먹어본 음식이라 맛이 있는 건지 없는 건지 모르겠는데 고소하니 먹을만했다 쫄면과 만두는 우리가 아는 그 맛  소바는 쯔위 맛이 아니라 가쓰오부시 맛 쯔위 맛 기대하면 실망 칼국수는 면이 얇고 납작하지 않고 둥글다 들깨 맛이 나고 면 요리 중에는 그나마 특색 있다 기다리면서까지 먹을 맛은 아님',\n",
       " '연어가 정말 정말 맛있음 연어롤 최고',\n",
       " '크리스마스이브에 여동생과 방문한 웨스틴조선 호텔 메뉴는 둘 다 칠리새우가 들어간 코스로 주문 만 원인 애피타이저가 다채로워서 가장 인상 깊었으며 샥스핀 수프 칠리새우 불고기류 그리고 메인메뉴 짜장 짬뽕 볶음밥 디저트로 이어지는 코스 중국식인데 코스요리라서 간이 강하지 않은 게 조금 아쉽기도 했습니다 아마도 뒤에 나오는 코스요리 맛을 죽이지 않기 위한 듯 다른 메뉴는 다 괜찮았지만 메인이 짜장 짬뽕 볶음밥 중 선택 일이라니 잘 나가다가 메인에서 아쉬웠습니다 좋은 인연과 한 번쯤 와도 좋을 중식 레스토랑이었습니다',\n",
       " '뭐냐고 뭐냐고 귀여운 거 뭐냐고 달달한 초코랑 바삭한 빵 맛있어요 조금 테이블이 낮고 의자도 불편한 편이지만 귀엽고 맛있는 음식을 먹기 위해선 견뎌 나올 땐 이쁘지만 먹을 때는 아주아주 무서운 친구로 변합니다',\n",
       " '평소에 먹던 부대찌개와는 다른 부대찌개 자극적이지 않아서 먹고 난 후 속이 편합니다',\n",
       " '엄마 생신 케이크 주문했는데 너무너무너무 맛있어요 밀크티도 따로 사 먹었는데 맛있어요 다음에 케이크 먹으러 갈 거에욤',\n",
       " '인천 원조 일당백 호점이라 듣고 가 보았습니다 안 먹어 본 사람은 있어도 한 번만 먹은 사람은 찾기 힘든 흡인력 있는 카리스마 주꾸미 음식 기대에 어긋나지 않았습니다 미남 쥔장 열심히 서빙 챙기시는 모습도 보기 좋습니다 마포구청 역 바로 곁 교통 편도 편리해 가족 모임 단체 모임에 마음 편하게 자주 이용하고 있습니다',\n",
       " '양념이 과하지 않고 우거지를 넣어 국물이 맑고 시원하다 이날 고기가 그랬던 건지 조금만 더 기름기가 있었으면 싶었지만 약간 이른 시간에 방문해서 그랬던 것 같기도 하다 볶음밥에 새로 콩나물을 얹어주어 산뜻했다 양도 엄청 많아서 굳이 옆집에 무한리필 찾을 필요는 없을 듯 테이블이 깨끗하진 않았다',\n",
       " '곳',\n",
       " '춘천 갤러 리타 페 그 다방 매니저 이 소명입니다 먼저 불편을 끼쳐드려서 죄송합니다 직원과 아르바이트생 전체에 대한 서비스 교육 및 재점검을 실시했습니다 앞으로 더 나은 커피 퀄리티와 서비스로 보답하는 그 다방이 되겠습니다 마지막으로 현재 카페 위치에 알 뮤트라는 카페가 있었는데 계약만료로 나가고 저희 카페는 년 월 새로 오픈하였습니다 그런데 사진과 댓글이 알 뮤트 시절 사진과 댓글이 여전히 남아있음으로 인해서 메뉴나 서비스에 대해 혼동이 있을 수 있음으로 현재 사이트에 수정 요청을 한 상태입니다',\n",
       " '통밥 맛있어요',\n",
       " '와 물회에 어떤 회를 넣는 건지',\n",
       " '파주에서 맛볼 수 있는 미식가들의 여행지 전주의 맛',\n",
       " '맛있는데 갈 때마다 물맛이 다르네요 물맛이 좋을 때도 있고 너무 별로여서 빨리 먹고 카페 가고 싶어질 때도 있음',\n",
       " '양 많고 너무 맛있고 좋았어요 온 밥하기에도 괜찮은 식당이었어요',\n",
       " '여기 직원 진짜 불친절함 빨리 손님 처 나가라는 듯이 음식 좀',\n",
       " '자세한 설명을 곁들여 주셔서 먹는 재미를 느꼈습니다 감사드립니다  또한 음식 속도도 최대한 맞춰주시려는 느낌을 받았고 주류 메뉴 추천도 아주 좋았습니다',\n",
       " '최근 대구에서 핫한 카페 마플 평점도 상당히 높은 곳이었고 대구 촌놈님의 강력한 추천으로 방문했어요 라테를 작은 사이즈로  더 진하다고 하네요 핫과 아이스 하나씩 주문했습니다 따뜻한 라테는 굉장히 깔끔했어요 커피에 우유를 넣은 것이 아니라 우유에 커피를 넣었다는 느낌이 들 정도로요 자칫하면 우유 맛이 너무 강해서 심심했을 텐데 밸런스 맞게 부드럽고 연해서 맛있었습니다 차가운 라테는 섞지 말라고 하셨어요 처음엔 커피가 위에 있어서 씁쓸한데 먹을수록 섞여서 나중엔 부드러워졌고요 개인적으로는 섞일 때까지 기다렸다가 먹는 게 더 맛있는 것 같다는 생각이 드네요 대구에서 마셔본 라테 중 제일 입에 맞아서 맛있다로 정했습니다',\n",
       " '마라탕 별로인 거 같음',\n",
       " '친절하시고 맛도 괜찮았어요 가격 원이 살짝 부담이 되긴 하네요',\n",
       " '이북 출신 사장님이 운영하는 봉산 옷 점심에 가면 정말 정신없어요 시끄럽고 그럼에도 불구하고 구수한 만둣국이 자꾸 생각나서 또 가고 싶어지는 곳이에요 슴슴한 만두에서 진한 육향이 느껴지는 육수가 매력적이랍니다 만둣국도 좋지만 김치말이 국수도 정말 맛있어요 일반 소면을 쓰지 않고 온면에 들어가는 옥수 수면 을 쓰시는 것 같은데 호로록 면치기 하는 재미도 있어요 겨자를 넣으셔서 끝에 감칠맛이 도는 마무리가 너무 좋답니다 저녁에 술 마시러 한 번 가보고 싶어요 ',\n",
       " '내 단골집',\n",
       " '라즈베리 티라미수 블루베리 요구르트 각   아메리카노 넛츠 그레인  그 큰 산본 한가운데에 이런 속세와 동떨어진 것 같은 공간이 있네요 방문한 날에 날씨가 너무 좋았는데 들어가자마자 보이는 통유리창에 감격했어요 직원분들도 너무 친절하시고 평화로운 공간이네요 우선 라즈베리 티라미수가 엄청 괜찮아서 놀랐어요 신맛을 좋아하지 않다 보니 라즈베리가 들어간 디저트를 맛있게 먹어본 기억이 없는데 여기는 라즈베리의 신맛과 시트의 부드러움 크림의 단 맛이 적절히 조화를 이뤄요 덕분에 신맛에 약한 저도 맛있게 냠냠했네요 다만 신맛으로 라즈베리 디저트를 드시는 분은 실망할 수도 있어요 아메리카노는 원두가 세 종류가 있는데 저는 산미 없는 종류로 골랐어요 무난한 맛 블루베리 요구르트는 요구르트의 비주얼보다는 우유 같은 느낌으로 귀여운 플라스틱 병에 담겨있어요 블루베리도 신선하고 요구르트도 수제 느낌 팍팍 났지만 뭔가 미지근해서 요구르트 특유의 상쾌한 맛이 덜한 게 아쉬웠네요사람 없고 날씨 좋을 때 창가 자리에서 한숨 돌리고 가고 싶은 곳 추천해요 ',\n",
       " '분위기도 좋고 개인적으로 타코가 젤 맛있었어요 ',\n",
       " '망고 플레이트 평점이 엄청 높길래 기대하고 다녀온 수지 앤 파스타 연어 스테이크랑 비스크 로제파스타 먹었어요 사람이 많아서 음식 나오기까지 시간이 꽤 걸려서 조금 기다리고 먹었어요 식전 빵이랑 같이 수프가 곁들여져 나왔는데 고구마 퓌레가 들어 있는 듯하던 맛 GS 편의점에서 파는 뭉개뭉계란샐러드에 들어 있는 거에 생크림 더해서 끓인 듯한 맛이었어요 단맛이 좀 강하다는 생각이 들었어요 연어 스테이크는 꽤 잘 구워져 있어서 겉나 석촉이었어요 크림소스는 꾸덕꾸덕한 편이었고요 로제파스타는 해산물 맛이 꽤 강하게 나고 살짝 매콤한 맛이 나서 덜 느끼하게 먹을 수 있었어요 탱글 한 새우가 여러 개 들어 있어서 새우 씹히는 식감도 좋았고 크림소스보다는 로제가 더 맛있었어요 전반적으로 음식들이 좀 달다는 생각이 많이 들어서 좀 덜 달았으면 싶어요 런치가 가격이 더 저렴하던데 런치로 먹으면 구성비 좋게 먹을 수 있을 수 있을 거 같아요',\n",
       " '음식이 조금 천천히 나오는 게 단점이긴 하지만 정말 맛있다',\n",
       " '친절하고 맛있는 식당입니다',\n",
       " '사실 국수가 국수지요  차별화하기 참 만만치 않은 메뉴 같습니다만 군더더기 없을 만큼의 약간의 차이를 주고 오랫동안 영업하시는 집 같습니다 잔치국수 육수는 손님들이 입맛에 맞게 얼마든지 확장 가능하도록 최대한 색깔을 자제한 느낌이어서 워너 육수는 집중해서 느끼지 않으면 풍미가 적다고 느껴질 수 있겠습니다만 심심하게 드시는 분이나 아이들 먹이기엔 양념 첨가 안 하고도 충분히 담백해서 좋았습니다 빙수 국수도 자극적이지 않아 비빔국수에 준하는 기대를 한 분들은 양념 추가하시며 드시면 적당하겠습니다 양도 넉넉한 편이고 직원분들 응대도 좋았습니다 그래도 국수는 국수지요 ',\n",
       " '아구의 살이 아주 그냥 살도 많고 크고 양념 완전 베리굳굳',\n",
       " '봉용 불고기 번째 먹은 날 청주에 친척이 살아서 자주 가는데 갈 때마다 꼭 먹음 솔직히 상 푸 파 절에 마늘 등 주요 밑반찬이 셀프라 좀 번거로울 순 있지만 매번 달라고 직원분 부르는 게 더 힘들어서 나는 셀프가 더 편하다 그리고 우리 가족은 파절이 킬러이기 때문에 셀프가 가져다 먹기 더 마음 편함 일단 파절이 덕분에 느끼함도 없고 돼지 비린내도 하나도 안 느껴짐 무엇보다 매콤해서 상추에 싸먹으면 천국이 따로 없음 볶음밥도 공깃밥이랑 같은 가격인 원에 추가되는데 별다른 재료 없이 김가루 파절이 남는 고기신 김치 자른가 해서 볶아 먹으면 진짜 맛있어요 재방문의 사 내일도 있음',\n",
       " '비싸긴 해도 자주 가는 맛 집이에요 햄버거 먹고 oo 했던 건 여기가 처음이에요 갈릭버터랑 트러플감튀도 진짜 너무 맛있어요 추천',\n",
       " '그냥 데이트할 곳 친구랑 조금 차려 먹고 싶을 때 등등 딱히 맛이 특별히 잇지는 않다 비주얼은 좋은 편',\n",
       " 'A hidden gem for a place like Humphreys',\n",
       " '자극적인 맛을 원할 때 꼭 가야 함 하지만 점심시간은 비추천 줄이 너무 깁니다',\n",
       " '독특한 인테리어와 아주 진하게 맛있는 녹차빙수가 인상적인 집 여름에 명동에 가면 항상 생각날 정도로 개성 있고 매력적이다',\n",
       " '투자를 많이 한 카페 인테리어와 건물 구조 등이 보기 좋고 반복된 일상 속에서 떠나 다른 세상에 있는 기분을 느끼고 싶을 때 또 오고 싶은 장소 낮 방문이어서 밤에도 다시 찾고 싶다  볼트 커피와 화이트 커피 마심  볼트 커피는 최근 먹어본 커피 중 단연코 위 짱짱 맛  화이트 커피는 음 느끼함 크루아상과 당근 케이크 먹음  크루아상은 고온 과발효 후 고온에 구워 ',\n",
       " '          네타와 샤리가 좀 작은듯합니다 맛은 soso',\n",
       " '이태원 대표 맛 집인 라이너스 바비큐 한창 핫했던 몇 년 전보다는 웨이팅이 덜했지만 그래도 이삼십분은 기다리고 들어갔어요 오리지널 플래터에 사이드로 추가해서 곁들여 먹었는데 왜 맛 집인지 알 것 같아요 다만 이태원인 만큼 가격대가 조금 있어요',\n",
       " '떠먹는 불고기 피자 맘에 들었고요',\n",
       " '부산역 도보 분 거리 차이나타운 거리인가 거기에 있어요 원래 줄 서서 먹는 맛 집이라고 들었어요 백종원 대 천왕에 나온 중국식 만둣집 가게는 막 크진 않아요 그래도 깔끔한 편 직원분들이 정말 친절하고 만두도 맛있었어요',\n",
       " '밑반찬도  깔끔하고 특히 연근 샐러드 너무 맛있었습니다 추어탕도 비린내 하나 안 나고 밥은 강황으로 만들었는지 노란색이더라고요 상황버섯차가 물 대신 나왔습니다 음식 하나하나에 정성이 가득 느껴졌습니다 층으로 되어 있는데도 손님이 엄청 많았습니다 저희는 시 전에 가서 자리가 있었습니다 대기실도 넉넉하고 따뜻하고 커피도 마실 수 있고 독서도 할 수 있도록 해놓았다',\n",
       " '카운터 남자 두 번 물어봤더니 한숨 쉬고 짜증 내고 더럽게 불친절 그래도 시간 내 찾아간 거라 참음 쌍욕이 나가려다가  햄버거 그 비싼 햄버거가 그렇게 맛없는 거 첨 먹어본다 엄청난 실력자들 햄 패티 계란 치즈 등으로 맛없게 만드는 실력자들 맛없게 만드는 게 더 어려운 햄버거를    야경 은 그냥 자기들 위치가 좋아서 운이 좋은 거지  그냥 그날 개 호구되고 내 돈 ',\n",
       " '층 다 차면 층에서 먹는 듯',\n",
       " '메뉴판이 살짝 어려워요 번까지 있는데 그 밑에 음식들은 콩국 안에 들어가는 재료들을 적어놓은 거라 원하는 재료 따라서 선택해서 먹으면 되는데 번이 제일 잘나간대요',\n",
       " '대중교통으로는 절대 못 갈 것 같은 꼬불꼬불한 시골길을 지나쳐 들어가면 목향 원익 나온다 점심시간에 도착하기는 했는데 사람들이 어찌나 많은지 깜짝  그래도 식당이 크고 테이블 회전이 빨라서 금방 들어갈 수 있었다 메뉴는 딱 하나 쌈밥정식만 있어서 그런지 빨리 내어 주신다 숯불에 구운 불고기와 잡곡으로 만든 삼색 밥이 이곳의 시그니처 메뉴인 듯 고기는 짜지 않고 담백하고 부드러웠고 쌈 채소도 싱싱 밑반찬들도 모두 정성이 가득한 게 느껴졌다 음식도 맛있고 바람 쐬러 나오기도 좋아 어른들 모시고 또 가고 싶다',\n",
       " '아주 오랜만에 입이 얼얼 마라샹궈 먹으러 갔다 시 분쯤 갔더니 대기손님이 꽤 많았는데 일단 재료 담아서 번호표 받고 슬렁슬렁 산책하다 돌아왔더니 금세 들어감 셋이서 샹궈만원에 꿔바로우랑 하얼빈 주문했다 꿔바로우가 먼저 나왔는데 일단 쫀득은 하다 근데 쫀득 망하고 간이 제대로 안 배어있었음 처음 딱 먹었을 때 엥 했다 색은 보통의 꿔바로우보다 빨간데 맛은 아무 맛도 안 나 그래서 밑에 고여있는 소스에 팍팍 적셔서 먹었다 소스 맛은 나쁘지 않은 것 같은데 간이 안 밴 게 정말 아쉬웠음 곧이어 마라샹궈가 나왔는데 양이 꽤 많았다 셋이 먹는다고 이것저것 많이 담았더니 생각보다 양도 가격도 푸짐  단계는 단계로 했는데 마라의 얼얼함도 잘 느껴지고 맵기도 적당해서 맛있게 맵게 먹기 좋았다 하지만 매운 거 못 먹는 친구는 엄청 힘들어했음 그리고 간이 좀 과했는데 밥이랑 같이 먹으면 좀 나을까 했지만 세 번이나 주문한 밥이 도대체 나오질 않아서 그냥 포기했다맛은 있는데 너무 차용 맛이 나쁘진 않았지만 꿔바로우는 맹맹하고 마라샹궈는 너무 짜서 아쉬웠던 매운 양솥이다 마라샹궈 좀만 덜 짰어도 꿔바로우 무시하고 맛있다 줬을 텐데  마라샹궈  g 꿔바로우  맛  구성비  총점',\n",
       " '조금 느끼하다고 느낄 수 있으나 좋은 재료로 정성껏 만든 느낌이 든다 면은 훌륭하다',\n",
       " '넓고 높고 인테리어가 잘 되어 있음 강릉의 맛을 느끼려고 강릉 블렌드를 시켰는데 씁쓸한 맛이 달콤한 티라미수와 잘 어울림',\n",
       " '진짜 최고예요 너무 맛있어요 계속 찾아가서 먹을 거예요',\n",
       " '일하는 사람이 진짜 별로네요 사장인지 모르겠지만 태도가 너무 별로예요',\n",
       " '여기서 만두를 시켜 먹었는데 만두에 고기는 없고 야채만 가득 안되겠다 싶어서 돈가스로 고기 충당',\n",
       " '공주 특산물인 밤을 이용한 메뉴들을 파는 베이커리 카페 근처에서 저녁을 먹고 늦은 시간에 기념품 사듯이 들른 곳이라 자리 잡고 즐기진 않았지만 다양한 밤을 이용한 메뉴를 파는 것도 재밌고 음료도 저렴한 편이라 근처 공산성 왔다가 들리기 좋은 듯 구입했던 밤 마들렌의 맛은 쏘 쏘',\n",
       " '카페 내부도 깔끔하고 분위기 좋았고 음료와 디저트도 모두 맛있었어요',\n",
       " '고깃집 같지 않은 분위기 있는 인테리어에 적절한 정도로 구워주시는 친절한 직원분들과 다른 곳과는 달라 보이는 맛있는 고기 세 가지가 만나서 만족스러운 식사였습니다 아 고깃집이지만 냄새가 나지 않아서 정말 좋았습니다 그릴 자체에서 연기를 빨아들여줘서 깔끔하게 먹고 갑니다',\n",
       " '뷰는 예쁜데 망고 맹맛 무알코올 칵테일은 더 노마 가격이 비싼 거에 비해 너무 별로여서 그냥 자릿값인데 음료도 준다 생각하면 좋다 직원분들은 사람 많아서 바쁜 거치고 친절하심',\n",
       " '너무 맛있었고 다시 가고 싶다',\n",
       " '맛은 둘째치고 진짜 아직도 생각나요 야채 추가 값 받고 있다고 해도 애초에 받은 배추가 소금 소태였어요 위에건 괜찮았는데 밑으로 갈수록 너무 짠데 쌈을 싸먹다 보니 무엇이 이렇게 짠지 몰라서 배추가 서너 장 남고 컴플레인이 들어갔어요 너무 짜서 쓸 정도  직원분께 말씀드리니 네 짠 거 이러면서 손으로 먹어보시더니  으퉤퉤 소태야 소태 소금이야 ',\n",
       " '무한도전에 나왔다는 걸 보고 갔는데 맛은 무난했으나 춘천까지 가서 먹을만한 맛은 아니었던 걸로 기억합니다',\n",
       " '망고 잇딜로 주말 런치 먹었다 근데 거기 가서 시키면 만 원인데 망고 잇디 가격은 만 원이 넘는다 이상하다  다른 분 댓글에 의하면 망고 잇딜로 가면 샐러드와 감자튀김이 추가되는 차이가 있다 지하에 있는 가게다 문 근처에 앉았었는데 문 열릴 때마다 얼마나 춥던지 자꾸 사람들이 문을 닫아주지 않아 너무 추웠다 그 영향 때문이었을까 스테이크는 너무 차가웠다 그리고 참 질겼다 메인인 스테이크가 좀 실망스러워 전체적 식사가 아쉬웠다 개인적으로 제일 배고플 때 먹은 식전 빵과 갓 튀긴 감자튀김이 참 맛있었다 instagram mu eat',\n",
       " '사진 더 많이 찍었는데 메밀 김밥뿐이다 일단 메밀 김밥 일단 생각해보지도 못한 요리여서 맛있을까 걱정했는데 면 씹는 식감도 좋고 이렇게 조화롭고 맛있을 수가 없다 왕 추천 또 믹스 프라이를 먹었는데 관자 튀김은 너무나 신세계였다 생생 싱싱한 관자가 마치 날것 그대로 인양 촉촉한 동시에 일식 특유의 튀김옷은 바삭거렸다 추천',\n",
       " '서비스가 최악인 집 양 꼬치는 메뉴에 개인 것 보고 하나만 시켰는데 마음대로 인분을 갖다 주고 꿔바로우도 분명 메뉴판에 천 원짜리 밖에 없어서 달라 했더니 마음대로 대자 원짜리를 갖다 주네요 나중에 계산서 보고 알았어요 그뿐만 아니라 심지어 양 꼬치를 인분 먹었다 쳐도 저희가 결국 먹은 거니까 아르바이트생 실수라고 치는데 계산서에 말도 안 되게 양 꼬치를 개나 계산해놓고 술도 병이나 더 많이 마신 걸로 계산해 놨더라고요 그래서 우리 이렇게 안 먹었다고 다시 말씀드리고서 계산서 다시 갖다 달라 했더니 또 술 더 많이 마신 걸로 틀리게 출력해왔더라고요 너무 어이없었어요 분명 아르바이트생이 잘 못한 건데 태도도 너무 불친절하더라고요 너무 불쾌한 경험이었어요 다시는 안 갈 듯 안암에서 양 꼬치 찾으시면 북경 양 꼬치로 꿔바로우 찾으시면 용도수 가세요',\n",
       " '마트에서 장보고 급 외식하게 돼서 오게 된 나눌 터 도토리 요리 전문점의 문구로 알 수 있듯 건강한 음식을 하는 곳이다 친환경 음식점 인증에 처음 보는 친절 도민증의 상장도 자리하고 있었다 그리고 예약된 내역의 포스트잇인지 계산대의 한 면은 빼곡한 포스트잇으로 유추해 보아 이곳은 굉장한 맛 집이다 역시나 토요일 저녁으로 갔더니 앞에 한 팀 있었다 회전율은 빨라서 얼마 기다리진 않았다 가격은 비싸지 않았고 여럿이 오면 이득일 세트메뉴들이 많았다 메뉴판에 베스트라 쓰여있는 임자탕 두 개를 시켰다 주문을 하면 애피타이저용 샐러드와 깍두기 양파 비트 절임 물김치의 반찬들과 물로 구기차를 가져다주신다 샐러드가 기본으로 나와 좋았고 메뉴 읽어보니 구기차도 직접 법제를 한 것이라 해서 더 맛있었다 메뉴에 도토리에 대한 효능까지 자세히 적혀있어 더 맛있을 것 같은 예감이 들었다 알고 먹으면 더 맛있는 법 임자랑은 들깨 도토리수제비였는데 수제비가 도토리로 만들어져서 갈색이었다묵사발의 수제비와 비슷하면서 묵사발은 잊혔을 정도로 굉장히 맛있었다 엄마께 순천은 들깨가 유명한 것 같다고 들깨가 특산품이냐고 여쭤볼 정도로 순천은 들깨가 들어간 음식이 많은 것 같다 임자 탕아는 김 노른자 지단 감자 버섯이 들어있어서 식감이 다양하다 특히 물에 빠진 김은 좋아하지 않는데 여기는 김이 아주 잘게 부서져 있어서 좋았다 지단도 뭔가 식감이 쫄깃 하다 다 먹어 갈 때쯤 특이하게 고추가 씹혔는데 매운 고추는 아닌 것 같지만 이게 있어서 마냥 건강하지만 혹은 물리지 않았다 조금이지만 조밥도 같이 나와서 좋다 조밥은 오랜만에 먹는데 밥 그 자체로도 맛있었다 이곳 데려와주신 엄마께 배부른데 국물 다 안 먹으면 자기 전에 생각날 것 같다며 결국은 엄마 밥까지 조금 뺏어 먹었다 죄송 그냥 밥에 국물에 같이 먹다가 말아서 먹어봤는데 말아서 먹어도 맛있다결국은 싹싹 긁어서 다 비움 임자 탕리 세트메뉴에 기본으로 다 들어있어서 다음에는 여럿이 와서 다른 메뉴도 먹어보고 싶다 임자 탕리 맛있어서 다른 메뉴도 엄청 궁금 위치도 말이 연향 지구니 오천동이랑 가까워서 정원 둘러보고 관광지 갔다가 먹으러 가도 좋을',\n",
       " '신선한 퀄리티',\n",
       " '마플 평점이 높아서 한번 가보고 싶었는데 오늘 드디어 방문함 프랑스 가정식 집이라는데 솔직히 음식을 잘하는 건지 아닌지 판단할 능력이 내게는 없다는 생각이 듦 메인 요리나 디저트를 먹은 게 아니라 브런치를 먹어서 일 수도 있을 듯하고 너무 기대하고 가서인지도 모르겠음 일단 첫인상은 거리가 참 예쁘고 식당도 거리에 잘 어울린다는 느낌 음식 맛은 내 취향은 아니어서 감히 판단하기 어려움 맛  내 취향은 아니나 많은 분들이 좋게 평가하니 분위기  좋음 구성비  원래 프랑스 가정식이 이 정도인지 몰라서 조심스러우나 개인적인 생각으로 좋다고 볼 수는 없음 재방문 의사  이런 음식을 좋아하는 사람과는 있으나 내가 좋아서 가지는 않을 듯',\n",
       " '함흥냉면 위 맛 집답네요 저한테 있어서 냉면은 두 젓가락 먹으면 질리는 음식 고기에 곁들여먹는 음식 정도로 생각해왔었는데 아주 파괴력 있는 음식이네요 꽤나 달달하다고 느꼈는데도 물리지 않고 끝까지 맛있었어요 회가 씹히는 맛이 좋고 참기름 향이 가득 나는 거도 좋았어요 가격 대비 맛은 아주 훌륭하지만 양이 아쉽긴 하네요 먹고 나와서 바로 구복 만두가 서 만두 두 판 때리고 겨우 배부르다 싶었어요 구복 만두랑 콜라보 했으면 좋겠어요',\n",
       " '사실은 괜찮다랑 맛있다랑 고민했으나 계산할 때 이 정식이 만 원이라고 해서 주저 없이 맛있다로 바꿨다 사실 맛있었다 쌈 종류가 다양하지만 먹을게 별로 없었다 하지만 싱싱하고 맛있었다 먹을게 별로 없단 건 그냥 내가 좋아하는 게 없었다는 거니까 된장찌개도 제육볶음도 밥도 밑반찬도 다 맛있었다 난 만 이천 원으로 알고 먹으면서 이 값 주고 먹을만하다 근데 음 하 맛있긴 한데 쌈밥을 먹어본 적이 없어서 이게 좋은 건지 아닌지 몰랐는데 가격까지 싸다니 맛있다 맛있어',\n",
       " '피자 도우는 얇다 치즈도 얇다 다 얇다 맛은 있다 해산물 스파게티 모든 해산물이 작다 개 들어가는 새우 빼고 맛은 있다 맥주를 시키려 봤더니 다 라이트 한 맥주만 있다 화이트 에일 난 페일에 일이나 인디언 페일에 일이 먹고 싶다 그래서 까르베네쇼비뇽 시켰는데 역시나 라이트 하다 분위기는 좋다',\n",
       " '맛이야 뭐 부자 피잔데 매장 구석구석 먼지 쌓인 곳이 눈에 밟힘',\n",
       " '생각보다 너무 맛있었어요  사장님도 친절하셔요',\n",
       " '편하게 먹기 좋아요 고급 중국식당보단 못하지만 가격 대비 괜찮다고 봅니다 간이 다 세서 싱겁게 드시는 분들은 불편할 수 있겠네요',\n",
       " '등산하고 도토리묵에 막걸리 한 잔 여기 도토리묵 참 잘해요',\n",
       " '약초 여성 남성 건강밥에 온갖 버섯 우설도 최고',\n",
       " '빵이 생각보다 싸고 맛있어요 내부가 예쁘고 큽니다  팡도 이르는 뭔가 식빵 같지만 안에 크림 들어있어서 심심하지 않고 맛있었고 앙버터도 괜찮았어요  먹다가 입천장 또 까졌지만  스콘이랑 아몬드  여하튼 포장했는데 스콘은 그저 그랬고 아몬드 는 진짜 맛있었어요 다음에 또 빵 사러 가야겠어요  타르트 종류도 있고 빵 종류도 많아 융 빵 두니는 행복합니다  ',\n",
       " '한국 가정식 전문점입니다 같은 건물 층과 지하에 있습니다 평소에는 층만 운영하는 것 같습니다 된장 비빔밥과 녹두전 모두 맛있었습니다 된장찌개는 간이 약해서 많이 먹을 수 있어 좋았습니다 된장 비빔밥을 인분만 시켰는데도 양이 꽤 많았습니다 대략 인분 정도 특히 녹두 전이 맛있었습니다 이런 전 종류는 끝부분의 바삭한 걸 좋아하기 마련인데 끝부분만 바삭한 게 아니라 전체적으로 바삭해서 좋았습니다 밑밭찬들도 맛있었던 걸로 보아 음식 하시는 분 요리 솜씨가 좋으신 것 같습니다 된장 비빔밥이 이 정도 가격이면 비싼 거지만 인사동이라는 위치를 감안하면 무난한 가격 같습니다',\n",
       " '돼지갈비 소갈비 맛은 식감이나 탱탱함은 없음 평범해요 대신 밑반찬들에 신경을 많이 쓰셔서  맛있게 먹었네요 가게도 깨끗하고 한두 번은  가볼 만한 집입니다',\n",
       " '돈가스의 신세계를 맛보게 해 준 정돈 돼지고기가 소고기처럼 부드러울 수 있다는 것을 깨닫게 된 곳이다 돈가스를 소금에 찍어 먹거나 주어진 소스에 찍어 먹으면 되는데 소금과의 조화가 생각보다 좋다 먹다가 느끼하면 같이 나온 고추나 무 피클을 먹으면 그것도 조화가 좋다 갈 때마다 안심을 시켰는데 생각보다 양도 많은 편이라 배부르게 먹을 수 있다 웨이팅이 조금 있는 편이기 때문에 애매한 시간에 찾아가는 것을 추천한다',\n",
       " '매장 앞 주차 가능하나 주차공간 많지는 않음 쌈 채소 물기도 잘 제거해 주심 제육 고기 꽤 맛있음 가마솥 밥으로 쌈밥 먹을 수 있다는 게 제일 장점인 듯',\n",
       " '서면 맛 집이라고 추천받았는데 역시 맛있네요 닭갈비 정말 추천해요',\n",
       " '맛있는데 막 줄 서서 먹을 정도는 아니에요 생각보다 배가 차니 밥 먹기 전에 먹지 마시고 디저트로만 먹는 걸 추천합니다',\n",
       " '루프탑 화장실 깔끔',\n",
       " '맛있어요 가격이 좀 세지만 만족합니다 서비스도 매우 훌륭하고요',\n",
       " '사장님과 직원분들의 친절도가 다른 곳에 비해 굉장히 좋았음 맛 자체가 어디보다 뛰어나다고 할 정도는 아니지만 양도 많은 편이고 살짝 매워서 맛있게 먹기 좋다 인 온 밥 메뉴의 경우 천 원에 즉 떡과 볶음밥까지 먹을 수 있어 구성비도 좋다',\n",
       " '건물 안쪽에 위치한 허름한 인테리어의 식당이지만 상당히 맛있다 똠얌꿍은 국물과 향이 진하고 팝 다이도 수준 급 그린 카레와 소프트 크랩 카레 역시 맛이 좋다',\n",
       " '대전 역대급 오코노미야키 맛 집 다른 후기들도 언급하는 부분이지만 사장님께 미안할 정도로 구성비가 좋은 식당이다 야끼소바 플레인 오코노미야키 치즈와 파 토핑을 듬뿍 추가한 다코야키 개 다 합쳐서 원이라는 말도 안 되는 착한 가격 심지어 양도 많이 주신다 주문한 가지 메뉴 다 맛있었다 일본 간사이 지역에서 맛볼 수 있는 오코노미야키와 다코야키를 아주 잘 재현해놓았다 점심시간에는 라멘도 파는 것 같은데 다음번에는 꼭 먹어보아야겠다 앞으로 들릴 일이 많을 것 같은 집이다',\n",
       " '돈 많이 버시면 화장실 정비부터 좀 하시는 게 좋을 거 같고요 그리고 대기 명단 받으실 거면 대기 명단 관리 좀 제대로 합시다 사람들이 임의로 명단 삭제하고 직원은 자기가 전화한 줄도 모르고 명단 지우고 대기만 시간 하고 명단 지워진 거 확인하고 컴플레인 걸고 겨우 들어가서 먹었습니다 사실 아무리 맛있어도 이런 기분에서 어떤 천하일미가 맛있게 느껴질까요 그리고 나물전 진짜 맛 별로였고 무엇보다 바지락 라면 바지락들 해감 안돼서 모래 씹히더라고요 조금 더 신경 쓰시길 바랍니다',\n",
       " '맛있어서 또 간 오목눈이 이번엔 유명한 와플을 먹어봤어요 제철 딸기 와플 다들 이것만 시키시더라고요  저희가 시켰을 때도 주문이 개는 밀려서 분 뒤에 받았어요 완전 인기 메뉴인 거 같아요 바삭하고 그 자체로도 맛있는 와플에 상큼하고 달달한 딸기 퓌레 정말 부드러운 생크림 상큼하고 맛있는 딸기 젤라또 그리고 마지막으로 딸기 산까지 진짜 이 메뉴는 첨부터 끝까지 맛있더라고요 가격은 원으로 좀 나가는 편이지만 그렇다고 하더라도 오목눈이 가면 꼭 시켜야 할 메뉴 같아요  그 외에도 스콘도 종류가 다양하고 케이크도 맛있고 커피도 맛있어요 추천 추천합니다',\n",
       " '매장 분위기 좋아요 음식도 굿 셰프님 친절하고 잘 챙겨 주시네요 주차 무료 최고입니다',\n",
       " '규모  밤에 가야 제맛  빵은 하레 하레 같은데 맛있어요 ',\n",
       " '비싸기만 하고 맛도 별로 서비스는 최악 ',\n",
       " '줄 서서 먹을 맛은 아니에요',\n",
       " '평점 높아 가봤는데  직원들은 불친절에 맛있는 건 고기일 뿐 고객 셀프 웬 말이냐  ',\n",
       " '분위기도 너무 좋고 인생 콥 샐러드에요 진짜 양도 많고 엄청 맛있어요 다른 가게에서 먹었던 콥 샐러드가 네다섯 가지 있었는데 이때까지 먹은 콥 샐러드 중 제일 양도 푸짐하고 소스가 엄청 맛있어요',\n",
       " '곱창보단 대상이 나았고 볶음밥이 제일 맛있었다',\n",
       " '그 많은 영월 음식점 중 여길 또 올 줄은 몰랐다 그래서 이번에는 저번에 먹었던 것 말고 다른 메뉴를 시켰다 다슬기 순두부 원은 삼삼한 맵기의 순두부찌개였다 이번에도 사실 그렇게 맛있진 않았는데 한식 중 찌개가 특히 좋아하는 음식이라 그런지 괜찮다 보다는 맛있게 느껴져서 괜찮다를 주기엔 뭔가 아쉬운 느낌이 든다 먹으면서 강릉의 순두부 짬뽕이 생각났는데 그때는 밥 말아먹으면서 어떻게 이렇게 밥과 찰떡일 수 있는지 감탄하면서 먹었는데 얘는 그에 비하면 평범한 맛이었다',\n",
       " '게가 조금 작지만 맛있음 웨이팅이 평일에도 있음',\n",
       " '한 줄 평  여 년 업력의 경동시장 평양냉면  돈을 벌면 업장을 좀 더 좋은 목으로 옮기고 싶은 것이 인지상정이거늘 경동시장 한편에서 여 년을 지킨 냉면집이 있다 그것도 양념 맛으로 먹는 함흥냉면이 아니라 슴슴한 육수와 메밀향 나는 면으로 승부해야 하는 평양식 냉면이다 보니 이야기만 들어도 흥미가 돋는다  평양냉면이 아닌 평양식 냉면이라 한 것은 내가 보기엔 평양냉면인데 굳이 이 집 메뉴판엔 물 막국수와 비빔막국수 등으로 표기되어 있기 때문이다 심지어 실제 살얼음이 낀 육구 통을 별도로 주고 면에 부어먹게 하는 것은 춘천 막국수 스타일이 맞다  메뉴판에 닭무침이 있고 고명으로 제육까지 두어 점이 올라온 걸 보면 이 집의 육수는 닭을 베이스로 하는 것으로 추정된다 시장 냉면이라 시판 면을 쓸 거라 생각했지만 주인장께서 직접 제면기로 면을 뽑아내신다 을지로 평양냉면 명가의 냉면이 천 원으로 올라가며 평양으로 실향의 아픔을 달래는 이북이 고향이신 노인분들의 상황을 냉트리피케이션이란 신조어로 빗대는 마당에 저런 수고로움이 들어갔는데 단돈 천 원이라는 것은 구성비를 넘어 경이롭기까지 하다  메밀면의 곡향이 좀 아쉽긴 해도 부족하진 않다 홀을 담당하는 아주머니께선 친절하시게도 육수에 다진 양념을 풀라고 알려주시는데 식초와 겨자로도 충분하다  먹어보니 정성이 듬뿍 들어간 좋은 음식이다 감칠맛을 내기 위해 억지로 뭔가를 첨가하지도 않았고 기교가 섬세하지도 않다 다만 여 년의 세월을 버텨온 꾸준함과 성실함이 느껴지는 좋은 음식임을 경험할 수 있었다',\n",
       " '맛있어요 연어도 두툼하고 가게가 좁다 보니 시끄럽고 불편한 점은 있네요',\n",
       " '치즈 철판 낙지볶음 납작 만두에 치즈와 매콤한 주꾸미 가락국수 사리 등을 싸서 냠냠뇸뇸 먹는 맛있는 걸 먹음 맛있게 먹었으나 셀프 바와 식탁 위에 간간이 파리가 날아다니는 등 위생환경이 별로 안 좋고 직원의 약간의 불친절함 때문에 괜찮다로 줌 그리고 바깥 현수막에는 음식 위에 치즈 바이트가 있었는데 시켜보니 없어서 아쉬웠음 근데 그걸 다 먹고 나와서야 깨달음 그리고 밥도 볶아먹었는데 먹느라 바빠서 사진이 없다  방문',\n",
       " '스프링 식전 빵 나오고 스테이크 너무 잘 구워져 나왔어요',\n",
       " '음료와 디저트가 좀 비싸고 카페 가는 길이 좀 힘들긴 해요 그래도 그게 잊힐 만큼 인테리어와 식물의 조합이 너무 예뻐요  봄의 꼭 가보시길 추천합니다',\n",
       " '건강빵에 눈을 뜬 곳  건강빵도 맛있다는 걸 알게 됐어요   다른 빵보다 건강빵 등이 맛있어요',\n",
       " '번째 리뷰는 늦었지만 화이트데이 기념으로 방문한 테이블 포포 Popo가 아니라 For Four입니다 런치 코스 메뉴로 먹었고 가격은 원 미슐랭 스타이고 신선한 로컬 푸드로 제철 요리를 만드는 팜 투 테이블 Farm to Table을 추구하고 있는 식당입니다 아무즈부쉬로는 수미감자와 마 등으로 얇게 말린 칩과 트러플 크림이 나왔는데 특이한 통나무 모양 그릇에 꽂혀서 나와요 설거지는 힘들겠지만 예쁜 센터피스  가리비를 곁들인 돼지감자 에스푸마  이산화질소를 사용하여 만든 거품 크림을 에스 푸마라고 하더라고요 가리비의 식감이랑 잘 어울렸어요 여기저기서 감자를 많이 쓰셨는데 사실 감자는 서민적 인 느낌이었는데 부드럽고 진한 향 때문에 잘 어울렸어요  허브오일 야채 피클 유자 드레싱을 곁들인 자연산 광어 까르파치오  까르파치오는 연어만 먹어봤는데 광어도 쫀득하니 좋았어요옆에 굵은 송화소금을 주시는데 소금이랑 먹으니까 양식 느낌 나던 요리에서 약간 동양 느낌도 나더라고요   감자 퓌레 퀴노아 아몬드를 곁들인 태안산 주꾸미 구이  주꾸미 머리를 먼저 드시라고 알려주셨는데 엄청 고소하고 맛있어서 머리만 더 먹고 싶었어요 탕으로 먹거나 데쳐먹을 때 먹어봤으니 그런 맛이겠지 싶었는데 더 고소하더라고요  태안산 홍합을 곁들인 오일 소스 스파게티니  고급 오일을 쓰셨다고 말씀해주셨는데 기억이 잘 안 먹기 바로 전에 테이블에 있던 올리브유를 추가로 더 뿌려주셨어요 애호박이랑 홍합 바지락이 있어서 친숙한 느낌  브로콜리 니와 샤프한 폼을 곁들인 자연산 참돔 구이  다른 고급 식당에서 몇 번 퍽퍽한 생선을 먹었던지라 큰 기대 없이 먹었는데 부드러웠어요 여기도 마찬가지로 송화소금  이베리코플로마  프렌치 랙 양 갈비  한우 등심   일행과 저는 양 갈비랑 이베리코를 골랐는데 양 갈비의 그 특유의 꼼꼼한 냄새가 은은히 돌았어요저는 이베리코보다는 양 갈비에 한 표  오늘의 디저트 커피차  바스크 치즈케이크 한라봉 셔벗과 머랭 칩 딸기와 작은 마들렌 마무리도 과하게 달지 않고 깔끔하게 전체적으로 화려하지 않으면서도 내실 있는 한 끼를 한 것 같아서 기분이 좋았어요 서버분들이 설명도 잘 해주시고 빈 물컵도 놓치지 않고 계속 채워주셨습니다 물 엄청 많이 마시는 편이라서 꽤 중요한 척도   주차는 발레 가능',\n",
       " '양도 별로고 맛도 없고 원수 친구가 간다 해도 말릴 거 같아요 그리고 컵이 약간 지저분 해서 기분 나빴어요',\n",
       " '깔끔하고 어른들이 좋아하실만한 맛 외국인들도 많이 옴']"
      ]
     },
     "execution_count": 76,
     "metadata": {},
     "output_type": "execute_result"
    }
   ],
   "source": [
    "reviews = restaurants['Review']\n",
    "nreviews = []\n",
    "\n",
    "for r in reviews:\n",
    "    nreviews.append(re.sub('[^가-힣a-zA-Z\\s]', '', r))\n",
    "\n",
    "nreviews"
   ]
  },
  {
   "cell_type": "code",
   "execution_count": 77,
   "metadata": {},
   "outputs": [
    {
     "name": "stdout",
     "output_type": "stream",
     "text": [
      "['가', '가까스로', '가령', '각', '각각', '각자', '각종', '갖고말하자면', '같다', '같이', '개의치않고', '거니와', '거바', '거의', '것', '것과', '같이', '것들', '게다가', '게우다', '겨우', '견지에서', '결과에', '이르다', '결국', '결론을', '낼', '수', '있다', '겸사겸사', '고려하면', '고로', '곧', '공동으로', '과', '과연', '관계가', '있다', '관계없이', '관련이', '있다', '관하여', '관한', '관해서는', '구', '구체적으로', '구토하다', '그', '그들', '그때', '그래', '그래도', '그래서', '그러나', '그러니', '그러니까', '그러면', '그러므로', '그러한즉', '그런', '까닭에', '그런데', '그런즉', '그럼', '그럼에도', '불구하고', '그렇게', '함으로써', '그렇지', '그렇지', '않다면', '그렇지', '않으면', '그렇지만', '그렇지않으면', '그리고', '그리하여', '그만이다', '그에', '따르는', '그위에', '그저', '그중에서', '그치지', '않다', '근거로', '근거하여', '기대여', '기점으로', '기준으로', '기타', '까닭으로', '까악', '까지', '까지', '미치다', '까지도', '꽈당', '끙끙', '끼익', '나', '나머지는', '남들', '남짓', '너', '너희', '너희들', '네', '넷', '년', '논하지', '않다', '놀라다', '누가', '알겠는가', '누구', '다른', '다른', '방면으로', '다만', '다섯', '다소', '다수', '다시', '말하자면', '다시말하면', '다음', '다음에', '다음으로', '단지', '답다', '당신', '당장', '대로', '하다', '대하면', '대하여', '대해', '말하자면', '대해서', '댕그', '더구나', '더군다나', '더라도', '더불어', '더욱더', '더욱이는', '도달하다', '도착하다', '동시에', '동안', '된바에야', '된이상', '두번째로', '둘', '둥둥', '뒤따라', '뒤이어', '든간에', '들', '등', '등등', '딩동', '따라', '따라서', '따위', '따지지', '않다', '딱', '때', '때가', '되어', '때문에', '또', '또한', '뚝뚝', '라', '해도', '령', '로', '로', '인하여', '로부터', '로써', '륙', '를', '마음대로', '마저', '마저도', '마치', '막론하고', '만', '못하다', '만약', '만약에', '만은', '아니다', '만이', '아니다', '만일', '만큼', '말하자면', '말할것도', '없고', '매', '매번', '메쓰겁다', '몇', '모', '모두', '무렵', '무릎쓰고', '무슨', '무엇', '무엇때문에', '물론', '및', '바꾸어말하면', '바꾸어말하자면', '바꾸어서', '말하면', '바꾸어서', '한다면', '바꿔', '말하면', '바로', '바와같이', '밖에', '안된다', '반대로', '반대로', '말하자면', '반드시', '버금', '보는데서', '보다더', '보드득', '본대로', '봐', '봐라', '부류의', '사람들', '부터', '불구하고', '불문하고', '붕붕', '비걱거리다', '비교적', '비길수', '없다', '비로소', '비록', '비슷하다', '비추어', '보아', '비하면', '뿐만', '아니라', '뿐만아니라', '뿐이다', '삐걱', '삐걱거리다', '사', '삼', '상대적으로', '말하자면', '생각한대로', '설령', '설마', '설사', '셋', '소생', '소인', '솨', '쉿', '습니까', '습니다', '시각', '시간', '시작하여', '시초에', '시키다', '실로', '심지어', '아', '아니', '아니나다를가', '아니라면', '아니면', '아니었다면', '아래윗', '아무거나', '아무도', '아야', '아울러', '아이', '아이고', '아이구', '아이야', '아이쿠', '아하', '아홉', '안', '그러면', '않기', '위하여', '않기', '위해서', '알', '수', '있다', '알았어', '앗', '앞에서', '앞의것', '야', '약간', '양자', '어', '어기여차', '어느', '어느', '년도', '어느것', '어느곳', '어느때', '어느쪽', '어느해', '어디', '어때', '어떠한', '어떤', '어떤것', '어떤것들', '어떻게', '어떻해', '어이', '어째서', '어쨋든', '어쩔수', '없다', '어찌', '어찌됏든', '어찌됏어', '어찌하든지', '어찌하여', '언제', '언젠가', '얼마', '얼마', '안', '되는', '것', '얼마간', '얼마나', '얼마든지', '얼마만큼', '얼마큼', '엉엉', '에', '에', '가서', '에', '달려', '있다', '에', '대해', '에', '있다', '에', '한하다', '에게', '에서', '여', '여기', '여덟', '여러분', '여보시오', '여부', '여섯', '여전히', '여차', '연관되다', '연이서', '영', '영차', '옆사람', '예', '예를', '들면', '예를', '들자면', '예컨대', '예하면', '오', '오로지', '오르다', '오자마자', '오직', '오호', '오히려', '와', '와', '같은', '사람들', '와르르', '와아', '왜', '왜냐하면', '외에도', '요만큼', '요만한', '것', '요만한걸', '요컨대', '우르르', '우리', '우리들', '우선', '우에', '종합한것과같이', '운운', '월', '위에서', '서술한바와같이', '위하여', '위해서', '윙윙', '육', '으로', '으로', '인하여', '으로서', '으로써', '을', '응', '응당', '의', '의거하여', '의지하여', '의해', '의해되다', '의해서', '이', '이', '되다', '이', '때문에', '이', '밖에', '이', '외에', '이', '정도의', '이것', '이곳', '이때', '이라면', '이래', '이러이러하다', '이러한', '이런', '이럴정도로', '이렇게', '많은', '것', '이렇게되면', '이렇게말하자면', '이렇구나', '이로', '인하여', '이르기까지', '이리하여', '이만큼', '이번', '이봐', '이상', '이어서', '이었다', '이와', '같다', '이와', '같은', '이와', '반대로', '이와같다면', '이외에도', '이용하여', '이유만으로', '이젠', '이지만', '이쪽', '이천구', '이천육', '이천칠', '이천팔', '인', '듯하다', '인젠', '일', '일것이다', '일곱', '일단', '일때', '일반적으로', '일지라도', '임에', '틀림없다', '입각하여', '입장에서', '잇따라', '있다', '자', '자기', '자기집', '자마자', '자신', '잠깐', '잠시', '저', '저것', '저것만큼', '저기', '저쪽', '저희', '전부', '전자', '전후', '점에서', '보아', '정도에', '이르다', '제', '제각기', '제외하고', '조금', '조차', '조차도', '졸졸', '좀', '좋아', '좍좍', '주룩주룩', '주저하지', '않고', '줄은', '몰랏다', '줄은모른다', '중에서', '중의하나', '즈음하여', '즉', '즉시', '지든지', '지만', '지말고', '진짜로', '쪽으로', '차라리', '참', '참나', '첫번째로', '쳇', '총적으로', '총적으로', '말하면', '총적으로', '보면', '칠', '콸콸', '쾅쾅', '쿵', '타다', '타인', '탕탕', '토하다', '통하여', '툭', '퉤', '틈타', '팍', '팔', '퍽', '펄렁', '하', '하게될것이다', '하게하다', '하겠는가', '하고', '있다', '하고있었다', '하곤하였다', '하구나', '하기', '때문에', '하기', '위하여', '하기는한데', '하기만', '하면', '하기보다는', '하기에', '하나', '하느니', '하는', '김에', '하는', '편이', '낫다', '하는것도', '하는것만', '못하다', '하는것이', '낫다', '하는바', '하더라도', '하도다', '하도록시키다', '하도록하다', '하든지', '하려고하다', '하마터면', '하면', '할수록', '하면된다', '하면서', '하물며', '하여금', '하여야', '하자마자', '하지', '않는다면', '하지', '않도록', '하지마', '하지마라', '하지만', '하하', '한', '까닭에', '한', '이유는', '한', '후', '한다면', '한다면', '몰라도', '한데', '한마디', '한적이있다', '한켠으로는', '한항목', '할', '따름이다', '할', '생각이다', '할', '줄', '안다', '할', '지경이다', '할', '힘이', '있다', '할때', '할만하다', '할망정', '할뿐', '할수있다', '할수있어', '할줄알다', '할지라도', '할지언정', '함께', '해도된다', '해도좋다', '해봐요', '해서는', '안된다', '해야한다', '해요', '했어요', '향하다', '향하여', '향해서', '허', '허걱', '허허', '헉', '헉헉', '헐떡헐떡', '형식으로', '쓰여', '혹시', '혹은', '혼자', '훨씬', '휘익', '휴', '흐흐', '흥', '힘입어', '는', '도', '은', '너무', '곳', '다', '거', '<<<<<<<', 'HEAD', '적', '하다', '있다', '되다', '이다', '없다', '않다', '되어다', '아니다', '=======', '적', '>>>>>>>', '56581270e378a5c246623318dc8224c338b1e282']\n"
     ]
    }
   ],
   "source": [
    "with open('./data/stopwords-ko.txt', 'r', encoding='utf-8') as file:\n",
    "    stopwords = file.read().split()\n",
    "\n",
    "print(stopwords)"
   ]
  },
  {
   "cell_type": "code",
   "execution_count": 78,
   "metadata": {},
   "outputs": [],
   "source": [
    "review_token = []\n",
    "\n",
    "for nr in nreviews:\n",
    "    review_token.extend(okt.morphs(nr))"
   ]
  },
  {
   "cell_type": "code",
   "execution_count": 79,
   "metadata": {},
   "outputs": [],
   "source": [
    "token_num = {}\n",
    "\n",
    "for rt in review_token:\n",
    "    if rt not in stopwords:\n",
    "        if rt in token_num.keys():\n",
    "            token_num[rt] += 1\n",
    "        else:\n",
    "            token_num[rt] = 1"
   ]
  },
  {
   "cell_type": "code",
   "execution_count": 80,
   "metadata": {},
   "outputs": [
    {
     "data": {
      "text/plain": [
       "{'맛': 579,\n",
       " '집': 201,\n",
       " '가격': 157,\n",
       " '음식': 148,\n",
       " '메뉴': 146,\n",
       " '정말': 135,\n",
       " '더': 133,\n",
       " '분위기': 133,\n",
       " '있는': 130,\n",
       " '잘': 128}"
      ]
     },
     "execution_count": 80,
     "metadata": {},
     "output_type": "execute_result"
    }
   ],
   "source": [
    "sorted_token_num = dict(sorted(token_num.items(), key=lambda item: item[1], reverse=True))\n",
    "top10 = dict(list(sorted_token_num.items())[:10])\n",
    "top10"
   ]
  },
  {
   "cell_type": "code",
   "execution_count": 81,
   "metadata": {},
   "outputs": [
    {
     "data": {
      "image/png": "[encoded data removed]",
      "text/plain": [
       "<Figure size 2000x1000 with 1 Axes>"
      ]
     },
     "metadata": {},
     "output_type": "display_data"
    }
   ],
   "source": [
    "import matplotlib.pyplot as plt\n",
    "\n",
    "plt.rcParams['font.family'] ='Malgun Gothic'\n",
    "plt.rcParams['axes.unicode_minus'] = False\n",
    "\n",
    "plt.figure(figsize=(20, 10))\n",
    "plt.bar(top10.keys(), top10.values(), color='skyblue')\n",
    "plt.title('단어 별 빈도 수')\n",
    "plt.xlabel('단어')\n",
    "plt.ylabel('빈도 수')\n",
    "plt.show()"
   ]
  }
 ],
 "metadata": {
  "kernelspec": {
   "display_name": "test_env",
   "language": "python",
   "name": "python3"
  },
  "language_info": {
   "codemirror_mode": {
    "name": "ipython",
    "version": 3
   },
   "file_extension": ".py",
   "mimetype": "text/x-python",
   "name": "python",
   "nbconvert_exporter": "python",
   "pygments_lexer": "ipython3",
   "version": "3.9.20"
  }
 },
 "nbformat": 4,
 "nbformat_minor": 2
}
