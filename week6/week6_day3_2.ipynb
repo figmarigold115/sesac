{
 "cells": [
  {
   "cell_type": "markdown",
   "metadata": {},
   "source": [
    "\n",
    "# 🌼 RAG기법의 이해와 적용(2) - 3차시(24.12.02)\n",
    "\n",
    "---"
   ]
  },
  {
   "cell_type": "code",
   "execution_count": 1,
   "metadata": {},
   "outputs": [
    {
     "data": {
      "text/plain": [
       "True"
      ]
     },
     "execution_count": 1,
     "metadata": {},
     "output_type": "execute_result"
    }
   ],
   "source": [
    "from dotenv import load_dotenv\n",
    "\n",
    "load_dotenv()"
   ]
  },
  {
   "cell_type": "code",
   "execution_count": 2,
   "metadata": {},
   "outputs": [
    {
     "name": "stdout",
     "output_type": "stream",
     "text": [
      "LangSmith 추적을 시작합니다.\n",
      "[프로젝트명]\n",
      "langchain_practice\n"
     ]
    }
   ],
   "source": [
    "from langchain_teddynote import logging\n",
    "logging.langsmith(\"langchain_practice\")"
   ]
  },
  {
   "cell_type": "code",
   "execution_count": 3,
   "metadata": {},
   "outputs": [],
   "source": [
    "with open('./data/appendix-keywords.txt') as f:\n",
    "    file = f.read()"
   ]
  },
  {
   "cell_type": "code",
   "execution_count": 4,
   "metadata": {},
   "outputs": [
    {
     "name": "stdout",
     "output_type": "stream",
     "text": [
      "Semantic Search\n",
      "\n",
      "정의: 의미론적 검색은 사용자의 질의를 단순한 키워드 매칭을 넘어서 그 의미를 파악하여 관련된 결과를 반환하는 검색 방식입니다.\n",
      "예시: 사용자가 \"태양계 행성\"이라고 검색하면, \"목성\", \"화성\" 등과 같이 관련된 행성에 대한 정보를 반환합니다.\n",
      "연관키워드: 자연어 처리, 검색 알고리즘, 데이터 마이닝\n",
      "\n",
      "Embedding\n",
      "\n",
      "정의: 임베딩은 단어나 문장 같은 텍스트 데이터를 저차원의 연속적인 벡터로 변환하는 과정입니다. 이를 통해 컴퓨터가 텍스트를 이해하고 처리할 수 있게 합니다.\n",
      "예시: \"사과\"라는 단어를 [0.65, -0.23, 0.17]과 같은 벡터로 표현합니다.\n",
      "연관키워드: 자연어 처리, 벡터화, 딥러닝\n",
      "\n",
      "Token\n",
      "\n",
      "정의: 토큰은 텍스트를 더 작은 단위로 분할하는 것을 의미합니다. 이는 일반적으로 단어, 문장, 또는 구절일 수 있습니다.\n",
      "예시: 문장 \"나는 학교에 간다\"를 \"나는\", \"학교에\", \"간다\"로 분할합니다.\n",
      "연관키워드: 토큰화, 자연어\n"
     ]
    }
   ],
   "source": [
    "print(file[:500])"
   ]
  },
  {
   "cell_type": "code",
   "execution_count": 7,
   "metadata": {},
   "outputs": [],
   "source": [
    "from langchain_text_splitters import CharacterTextSplitter\n",
    "# CharacterTextSplitter: 텍스트를 chunk로 분할\n",
    "text_splitter = CharacterTextSplitter(\n",
    "    chunk_size = 250,\n",
    "    chunk_overlap = 50\n",
    ")"
   ]
  },
  {
   "cell_type": "code",
   "execution_count": 8,
   "metadata": {},
   "outputs": [
    {
     "name": "stdout",
     "output_type": "stream",
     "text": [
      "page_content='Semantic Search\n",
      "\n",
      "정의: 의미론적 검색은 사용자의 질의를 단순한 키워드 매칭을 넘어서 그 의미를 파악하여 관련된 결과를 반환하는 검색 방식입니다.\n",
      "예시: 사용자가 \"태양계 행성\"이라고 검색하면, \"목성\", \"화성\" 등과 같이 관련된 행성에 대한 정보를 반환합니다.\n",
      "연관키워드: 자연어 처리, 검색 알고리즘, 데이터 마이닝\n",
      "\n",
      "Embedding'\n"
     ]
    }
   ],
   "source": [
    "texts = text_splitter.create_documents([file])\n",
    "print(texts[0])"
   ]
  },
  {
   "cell_type": "code",
   "execution_count": 9,
   "metadata": {},
   "outputs": [],
   "source": [
    "metadatas = [\n",
    "    {'document': 1},\n",
    "    {'document': 2}\n",
    "]"
   ]
  },
  {
   "cell_type": "code",
   "execution_count": 11,
   "metadata": {},
   "outputs": [
    {
     "name": "stdout",
     "output_type": "stream",
     "text": [
      "page_content='Semantic Search\n",
      "\n",
      "정의: 의미론적 검색은 사용자의 질의를 단순한 키워드 매칭을 넘어서 그 의미를 파악하여 관련된 결과를 반환하는 검색 방식입니다.\n",
      "예시: 사용자가 \"태양계 행성\"이라고 검색하면, \"목성\", \"화성\" 등과 같이 관련된 행성에 대한 정보를 반환합니다.\n",
      "연관키워드: 자연어 처리, 검색 알고리즘, 데이터 마이닝\n",
      "\n",
      "Embedding' metadata={'document': 1}\n"
     ]
    }
   ],
   "source": [
    "documents = text_splitter.create_documents(\n",
    "    [file, file],\n",
    "    metadatas = metadatas\n",
    ")\n",
    "print(documents[0])"
   ]
  },
  {
   "cell_type": "code",
   "execution_count": 12,
   "metadata": {},
   "outputs": [
    {
     "name": "stdout",
     "output_type": "stream",
     "text": [
      "page_content='멀티모달 (Multimodal)\n",
      "\n",
      "정의: 멀티모달은 여러 종류의 데이터 모드(예: 텍스트, 이미지, 소리 등)를 결합하여 처리하는 기술입니다. 이는 서로 다른 형식의 데이터 간의 상호 작용을 통해 보다 풍부하고 정확한 정보를 추출하거나 예측하는 데 사용됩니다.\n",
      "예시: 이미지와 설명 텍스트를 함께 분석하여 더 정확한 이미지 분류를 수행하는 시스템은 멀티모달 기술의 예입니다.\n",
      "연관키워드: 데이터 융합, 인공지능, 딥러닝' metadata={'document': 2}\n"
     ]
    }
   ],
   "source": [
    "print(documents[-1])"
   ]
  },
  {
   "cell_type": "code",
   "execution_count": 13,
   "metadata": {},
   "outputs": [],
   "source": [
    "from langchain_text_splitters import CharacterTextSplitter"
   ]
  },
  {
   "cell_type": "code",
   "execution_count": null,
   "metadata": {},
   "outputs": [
    {
     "name": "stderr",
     "output_type": "stream",
     "text": [
      "Created a chunk of size 358, which is longer than the specified 300\n",
      "Created a chunk of size 315, which is longer than the specified 300\n",
      "Created a chunk of size 305, which is longer than the specified 300\n",
      "Created a chunk of size 366, which is longer than the specified 300\n",
      "Created a chunk of size 330, which is longer than the specified 300\n",
      "Created a chunk of size 351, which is longer than the specified 300\n",
      "Created a chunk of size 378, which is longer than the specified 300\n",
      "Created a chunk of size 361, which is longer than the specified 300\n",
      "Created a chunk of size 350, which is longer than the specified 300\n",
      "Created a chunk of size 362, which is longer than the specified 300\n",
      "Created a chunk of size 335, which is longer than the specified 300\n",
      "Created a chunk of size 353, which is longer than the specified 300\n",
      "Created a chunk of size 358, which is longer than the specified 300\n",
      "Created a chunk of size 336, which is longer than the specified 300\n",
      "Created a chunk of size 324, which is longer than the specified 300\n",
      "Created a chunk of size 337, which is longer than the specified 300\n",
      "Created a chunk of size 307, which is longer than the specified 300\n",
      "Created a chunk of size 361, which is longer than the specified 300\n",
      "Created a chunk of size 354, which is longer than the specified 300\n",
      "Created a chunk of size 378, which is longer than the specified 300\n",
      "Created a chunk of size 381, which is longer than the specified 300\n",
      "Created a chunk of size 365, which is longer than the specified 300\n",
      "Created a chunk of size 377, which is longer than the specified 300\n",
      "Created a chunk of size 329, which is longer than the specified 300\n"
     ]
    }
   ],
   "source": [
    "text_splitter = CharacterTextSplitter.from_tiktoken_encoder(\n",
    "    chunk_size = 300,\n",
    "    chunk_overlap = 5,\n",
    ")\n",
    "texts = text_splitter.split_text(file)\n",
    "# CharacterTextSplitter.from_tiktoken_encoder: 기본 구분자인 (\\n\\n)을 기준으로 분할하는데,\n",
    "# 구분자가 문장 내에서 발견되지 않아 분할할 수 없는 경우, chunk_size보다 더 큰 chunk가 생성될 수 있다"
   ]
  },
  {
   "cell_type": "code",
   "execution_count": 15,
   "metadata": {},
   "outputs": [
    {
     "name": "stdout",
     "output_type": "stream",
     "text": [
      "51\n"
     ]
    }
   ],
   "source": [
    "print(len(texts))"
   ]
  },
  {
   "cell_type": "code",
   "execution_count": 16,
   "metadata": {},
   "outputs": [
    {
     "data": {
      "text/plain": [
       "'정의: 의미론적 검색은 사용자의 질의를 단순한 키워드 매칭을 넘어서 그 의미를 파악하여 관련된 결과를 반환하는 검색 방식입니다.\\n예시: 사용자가 \"태양계 행성\"이라고 검색하면, \"목성\", \"화성\" 등과 같이 관련된 행성에 대한 정보를 반환합니다.\\n연관키워드: 자연어 처리, 검색 알고리즘, 데이터 마이닝'"
      ]
     },
     "execution_count": 16,
     "metadata": {},
     "output_type": "execute_result"
    }
   ],
   "source": [
    "texts[1]"
   ]
  },
  {
   "cell_type": "code",
   "execution_count": null,
   "metadata": {},
   "outputs": [
    {
     "name": "stdout",
     "output_type": "stream",
     "text": [
      "Semantic Search\n",
      "\n",
      "정의: 의미론적 검색은 사용자의 질의를 단순한 키워드 매칭을 넘어서 그 의미를 파악하여 관련된 결과를 반환하는 검색 방식입니다.\n",
      "예시: 사용자가 \"태양계 행성\"�\n"
     ]
    }
   ],
   "source": [
    "from langchain_text_splitters import TokenTextSplitter\n",
    "# 의미 없이 토큰으로 분할되기만 하면 되는 경우\n",
    "\n",
    "text_splitter = TokenTextSplitter(\n",
    "    chunk_size = 200,\n",
    "    chunk_overlap = 0\n",
    ")\n",
    "\n",
    "texts = text_splitter.split_text(file)\n",
    "print(texts[0])"
   ]
  },
  {
   "cell_type": "code",
   "execution_count": 19,
   "metadata": {},
   "outputs": [],
   "source": [
    "# pip install sentence-transformers"
   ]
  },
  {
   "cell_type": "code",
   "execution_count": 21,
   "metadata": {},
   "outputs": [],
   "source": [
    "from langchain_text_splitters import SentenceTransformersTokenTextSplitter\n",
    "\n",
    "splitter = SentenceTransformersTokenTextSplitter(\n",
    "    chunk_size = 200,\n",
    "    chunk_overlap = 10\n",
    ")\n",
    "\n",
    "# 시간적인 측면이 중요하면 다른 텍스트 분할기를 사용하는 것이 좋을 수도 있다"
   ]
  },
  {
   "cell_type": "code",
   "execution_count": null,
   "metadata": {},
   "outputs": [
    {
     "name": "stdout",
     "output_type": "stream",
     "text": [
      "7686\n"
     ]
    }
   ],
   "source": [
    "count_start_and_stop_token = 2\n",
    "\n",
    "text_token_count = splitter.count_tokens(text=file) - count_start_and_stop_token\n",
    "print(text_token_count)\n",
    "# 모델 입력 제한을 초과하지 않도록 토큰 개수를 조절하기 위해 \n",
    "# eos, sos 등 문장의 시작과 끝 토큰을 제외한 나머지 토큰 수를 출력\n",
    "# 얼마나 토큰을 넣을 것인지 인지하기 위한 참고 값 (실제로 토큰화할 때 사용하는 값이 아니다)"
   ]
  },
  {
   "cell_type": "code",
   "execution_count": 23,
   "metadata": {},
   "outputs": [],
   "source": [
    "text_chunks = splitter.split_text(text=file)"
   ]
  },
  {
   "cell_type": "code",
   "execution_count": null,
   "metadata": {},
   "outputs": [
    {
     "name": "stdout",
     "output_type": "stream",
     "text": [
      "##정입니다. 이를 통해 컴퓨터가 텍스트를 이해하고 처리할 수 [UNK] 합니다. [UNK] : \" 사과 \" 라는 단어를 [ 0. 65, - 0. 23, 0. 17 ] 과 [UNK] 벡터로 표현합니다. 연관키워드 : 자연어 처리, 벡터화, 딥러닝 token 정의 : 토큰은 텍스트를 더 작은 [UNK] 분할하는 [UNK] 의미합니다. 이는 일반적으로 단어, 문장, [UNK] 구절일 수 [UNK]. [UNK] : 문장 \" 나는 학교에 간다 \" 를 \" 나는 \", \" 학교에 \", \" 간다 \" 로 분할합니다. 연관키워드 : 토큰화, 자연어 처리, 구문 분석 tokenizer\n"
     ]
    }
   ],
   "source": [
    "print(text_chunks[1])\n",
    "# ##: 토큰화했을 때 앞 문장에서 이어진다는 것을 의미\n",
    "# UNK: unknown block > 사전에 없는 단어는 해당 토큰으로 대체 (특수 단어, 특수 문자 등)"
   ]
  },
  {
   "cell_type": "code",
   "execution_count": 26,
   "metadata": {},
   "outputs": [
    {
     "name": "stderr",
     "output_type": "stream",
     "text": [
      "c:\\Users\\RMARKET\\anaconda3\\envs\\langchain\\Lib\\site-packages\\huggingface_hub\\file_download.py:139: UserWarning: `huggingface_hub` cache-system uses symlinks by default to efficiently store duplicated files but your machine does not support them in C:\\Users\\RMARKET\\.cache\\huggingface\\hub\\models--gpt2. Caching files will still work but in a degraded version that might require more space on your disk. This warning can be disabled by setting the `HF_HUB_DISABLE_SYMLINKS_WARNING` environment variable. For more details, see https://huggingface.co/docs/huggingface_hub/how-to-cache#limitations.\n",
      "To support symlinks on Windows, you either need to activate Developer Mode or to run Python as an administrator. In order to activate developer mode, see this article: https://docs.microsoft.com/en-us/windows/apps/get-started/enable-your-device-for-development\n",
      "  warnings.warn(message)\n"
     ]
    }
   ],
   "source": [
    "from transformers import GPT2TokenizerFast\n",
    "\n",
    "hf_tokenizer = GPT2TokenizerFast.from_pretrained('gpt2')"
   ]
  },
  {
   "cell_type": "code",
   "execution_count": 27,
   "metadata": {},
   "outputs": [],
   "source": [
    "text_splitter = CharacterTextSplitter.from_huggingface_tokenizer(\n",
    "    hf_tokenizer,\n",
    "    chunk_size=300,\n",
    "    chunk_overlap=50\n",
    ")   "
   ]
  },
  {
   "cell_type": "code",
   "execution_count": 28,
   "metadata": {},
   "outputs": [
    {
     "name": "stderr",
     "output_type": "stream",
     "text": [
      "Created a chunk of size 358, which is longer than the specified 300\n",
      "Created a chunk of size 315, which is longer than the specified 300\n",
      "Created a chunk of size 305, which is longer than the specified 300\n",
      "Created a chunk of size 366, which is longer than the specified 300\n",
      "Created a chunk of size 330, which is longer than the specified 300\n",
      "Created a chunk of size 351, which is longer than the specified 300\n",
      "Created a chunk of size 378, which is longer than the specified 300\n",
      "Created a chunk of size 361, which is longer than the specified 300\n",
      "Created a chunk of size 350, which is longer than the specified 300\n",
      "Created a chunk of size 362, which is longer than the specified 300\n",
      "Created a chunk of size 335, which is longer than the specified 300\n",
      "Created a chunk of size 353, which is longer than the specified 300\n",
      "Created a chunk of size 358, which is longer than the specified 300\n",
      "Created a chunk of size 336, which is longer than the specified 300\n",
      "Created a chunk of size 324, which is longer than the specified 300\n",
      "Created a chunk of size 337, which is longer than the specified 300\n",
      "Created a chunk of size 307, which is longer than the specified 300\n",
      "Created a chunk of size 361, which is longer than the specified 300\n",
      "Created a chunk of size 354, which is longer than the specified 300\n",
      "Created a chunk of size 378, which is longer than the specified 300\n",
      "Created a chunk of size 381, which is longer than the specified 300\n",
      "Created a chunk of size 365, which is longer than the specified 300\n",
      "Created a chunk of size 377, which is longer than the specified 300\n",
      "Created a chunk of size 329, which is longer than the specified 300\n"
     ]
    }
   ],
   "source": [
    "texts = text_splitter.split_text(file)"
   ]
  },
  {
   "cell_type": "code",
   "execution_count": 30,
   "metadata": {},
   "outputs": [
    {
     "name": "stdout",
     "output_type": "stream",
     "text": [
      "정의: 임베딩은 단어나 문장 같은 텍스트 데이터를 저차원의 연속적인 벡터로 변환하는 과정입니다. 이를 통해 컴퓨터가 텍스트를 이해하고 처리할 수 있게 합니다.\n",
      "예시: \"사과\"라는 단어를 [0.65, -0.23, 0.17]과 같은 벡터로 표현합니다.\n",
      "연관키워드: 자연어 처리, 벡터화, 딥러닝\n"
     ]
    }
   ],
   "source": [
    "print(texts[3])"
   ]
  },
  {
   "cell_type": "code",
   "execution_count": 29,
   "metadata": {},
   "outputs": [],
   "source": [
    "from langchain_openai import OpenAIEmbeddings"
   ]
  },
  {
   "cell_type": "code",
   "execution_count": 32,
   "metadata": {},
   "outputs": [],
   "source": [
    "embeddings = OpenAIEmbeddings(model='text-embedding-3-small')"
   ]
  },
  {
   "cell_type": "code",
   "execution_count": 33,
   "metadata": {},
   "outputs": [],
   "source": [
    "text = '임베딩 테스트를 하기 위한 샘플 문장입니다.'"
   ]
  },
  {
   "cell_type": "code",
   "execution_count": 34,
   "metadata": {},
   "outputs": [],
   "source": [
    "query_result = embeddings.embed_query(text)"
   ]
  },
  {
   "cell_type": "code",
   "execution_count": 35,
   "metadata": {},
   "outputs": [
    {
     "data": {
      "text/plain": [
       "[-0.00776276458054781,\n",
       " 0.03680367395281792,\n",
       " 0.019545823335647583,\n",
       " -0.0196656696498394,\n",
       " 0.017203375697135925]"
      ]
     },
     "execution_count": 35,
     "metadata": {},
     "output_type": "execute_result"
    }
   ],
   "source": [
    "query_result[:5]"
   ]
  },
  {
   "cell_type": "code",
   "execution_count": 36,
   "metadata": {},
   "outputs": [],
   "source": [
    "doc_result = embeddings.embed_documents([text])"
   ]
  },
  {
   "cell_type": "code",
   "execution_count": 37,
   "metadata": {},
   "outputs": [
    {
     "data": {
      "text/plain": [
       "[-0.00776276458054781,\n",
       " 0.03680367395281792,\n",
       " 0.019545823335647583,\n",
       " -0.0196656696498394,\n",
       " 0.017203375697135925]"
      ]
     },
     "execution_count": 37,
     "metadata": {},
     "output_type": "execute_result"
    }
   ],
   "source": [
    "doc_result[0][:5]"
   ]
  },
  {
   "cell_type": "code",
   "execution_count": 38,
   "metadata": {},
   "outputs": [
    {
     "data": {
      "text/plain": [
       "1536"
      ]
     },
     "execution_count": 38,
     "metadata": {},
     "output_type": "execute_result"
    }
   ],
   "source": [
    "len(doc_result[0])"
   ]
  },
  {
   "cell_type": "code",
   "execution_count": null,
   "metadata": {},
   "outputs": [],
   "source": [
    "embeddings_1024 = OpenAIEmbeddings(model = 'text-embedding-3-small', dimensions=1024)  # 차원수 맞추기"
   ]
  },
  {
   "cell_type": "code",
   "execution_count": 43,
   "metadata": {},
   "outputs": [
    {
     "data": {
      "text/plain": [
       "1024"
      ]
     },
     "execution_count": 43,
     "metadata": {},
     "output_type": "execute_result"
    }
   ],
   "source": [
    "len(embeddings_1024.embed_documents([text])[0])"
   ]
  },
  {
   "cell_type": "code",
   "execution_count": 45,
   "metadata": {},
   "outputs": [],
   "source": [
    "sentence1 = '도대체 네가 왜 그런 짓을!'\n",
    "sentence2 = '어떻게 네가 그런 짓을!'\n",
    "sentence3 = '어쩜 그런 짓을 할 수가 있어!'\n",
    "sentence4 = 'How could you do that'\n",
    "sentence5 = 'I fly to the moon.'"
   ]
  },
  {
   "cell_type": "code",
   "execution_count": 46,
   "metadata": {},
   "outputs": [],
   "source": [
    "from sklearn.metrics.pairwise import cosine_similarity"
   ]
  },
  {
   "cell_type": "code",
   "execution_count": 47,
   "metadata": {},
   "outputs": [],
   "source": [
    "sentences = [sentence1, sentence2, sentence3, sentence4, sentence5]\n",
    "embedded_sentence = embeddings_1024.embed_documents(sentences)"
   ]
  },
  {
   "cell_type": "code",
   "execution_count": 48,
   "metadata": {},
   "outputs": [],
   "source": [
    "def similarity(a, b):\n",
    "    return cosine_similarity([a], [b])[0][0]"
   ]
  },
  {
   "cell_type": "code",
   "execution_count": 49,
   "metadata": {},
   "outputs": [
    {
     "name": "stdout",
     "output_type": "stream",
     "text": [
      "[유사도 0.641877] 도대체 네가 왜 그런 짓을! < = > 어떻게 네가 그런 짓을!\n",
      "[유사도 0.527468] 도대체 네가 왜 그런 짓을! < = > 어쩜 그런 짓을 할 수가 있어!\n",
      "[유사도 0.206778] 도대체 네가 왜 그런 짓을! < = > How could you do that\n",
      "[유사도 0.110461] 도대체 네가 왜 그런 짓을! < = > I fly to the moon.\n",
      "[유사도 0.670474] 어떻게 네가 그런 짓을! < = > 어쩜 그런 짓을 할 수가 있어!\n",
      "[유사도 0.337635] 어떻게 네가 그런 짓을! < = > How could you do that\n",
      "[유사도 0.121091] 어떻게 네가 그런 짓을! < = > I fly to the moon.\n",
      "[유사도 0.290914] 어쩜 그런 짓을 할 수가 있어! < = > How could you do that\n",
      "[유사도 0.124011] 어쩜 그런 짓을 할 수가 있어! < = > I fly to the moon.\n",
      "[유사도 0.141362] How could you do that < = > I fly to the moon.\n"
     ]
    }
   ],
   "source": [
    "for i, sentence in enumerate(embedded_sentence):\n",
    "    for j, other_sentence in enumerate(embedded_sentence):\n",
    "        if i < j:\n",
    "            print(f'[유사도 {similarity(sentence, other_sentence):4f}] {sentences[i]} < = > {sentences[j]}')"
   ]
  },
  {
   "cell_type": "code",
   "execution_count": null,
   "metadata": {},
   "outputs": [],
   "source": [
    "from langchain_community.document_loaders import TextLoader\n",
    "from langchain.text_splitter import RecursiveCharacterTextSplitter\n",
    "\n",
    "text_splitter = RecursiveCharacterTextSplitter(chunk_size=100, chunk_overlap=0)\n",
    "# json split\n",
    "\n",
    "loader1 = TextLoader('./data/nlp-keywords.txt')\n",
    "loader2 = TextLoader('./data/finance-keywords.txt')\n",
    "# TextLoader로 불러오면 Document 리스트 형태로 변환"
   ]
  },
  {
   "cell_type": "code",
   "execution_count": 52,
   "metadata": {},
   "outputs": [
    {
     "name": "stdout",
     "output_type": "stream",
     "text": [
      "[Document(metadata={'source': './data/nlp-keywords.txt'}, page_content='Semantic Search\\n\\n정의: 의미론적 검색은 사용자의 질의를 단순한 키워드 매칭을 넘어서 그 의미를 파악하여 관련된 결과를 반환하는 검색 방식입니다.\\n예시: 사용자가 \"태양계 행성\"이라고 검색하면, \"목성\", \"화성\" 등과 같이 관련된 행성에 대한 정보를 반환합니다.\\n연관키워드: 자연어 처리, 검색 알고리즘, 데이터 마이닝\\n\\nEmbedding\\n\\n정의: 임베딩은 단어나 문장 같은 텍스트 데이터를 저차원의 연속적인 벡터로 변환하는 과정입니다. 이를 통해 컴퓨터가 텍스트를 이해하고 처리할 수 있게 합니다.\\n예시: \"사과\"라는 단어를 [0.65, -0.23, 0.17]과 같은 벡터로 표현합니다.\\n연관키워드: 자연어 처리, 벡터화, 딥러닝\\n\\nToken\\n\\n정의: 토큰은 텍스트를 더 작은 단위로 분할하는 것을 의미합니다. 이는 일반적으로 단어, 문장, 또는 구절일 수 있습니다.\\n예시: 문장 \"나는 학교에 간다\"를 \"나는\", \"학교에\", \"간다\"로 분할합니다.\\n연관키워드: 토큰화, 자연어 처리, 구문 분석\\n\\nTokenizer\\n\\n정의: 토크나이저는 텍스트 데이터를 토큰으로 분할하는 도구입니다. 이는 자연어 처리에서 데이터를 전처리하는 데 사용됩니다.\\n예시: \"I love programming.\"이라는 문장을 [\"I\", \"love\", \"programming\", \".\"]으로 분할합니다.\\n연관키워드: 토큰화, 자연어 처리, 구문 분석\\n\\nVectorStore\\n\\n정의: 벡터스토어는 벡터 형식으로 변환된 데이터를 저장하는 시스템입니다. 이는 검색, 분류 및 기타 데이터 분석 작업에 사용됩니다.\\n예시: 단어 임베딩 벡터들을 데이터베이스에 저장하여 빠르게 접근할 수 있습니다.\\n연관키워드: 임베딩, 데이터베이스, 벡터화\\n\\nSQL\\n\\n정의: SQL(Structured Query Language)은 데이터베이스에서 데이터를 관리하기 위한 프로그래밍 언어입니다. 데이터 조회, 수정, 삽입, 삭제 등 다양한 작업을 수행할 수 있습니다.\\n예시: SELECT * FROM users WHERE age > 18;은 18세 이상의 사용자 정보를 조회합니다.\\n연관키워드: 데이터베이스, 쿼리, 데이터 관리\\n\\nCSV\\n\\n정의: CSV(Comma-Separated Values)는 데이터를 저장하는 파일 형식으로, 각 데이터 값은 쉼표로 구분됩니다. 표 형태의 데이터를 간단하게 저장하고 교환할 때 사용됩니다.\\n예시: 이름, 나이, 직업이라는 헤더를 가진 CSV 파일에는 홍길동, 30, 개발자와 같은 데이터가 포함될 수 있습니다.\\n연관키워드: 데이터 형식, 파일 처리, 데이터 교환\\n\\nJSON\\n\\n정의: JSON(JavaScript Object Notation)은 경량의 데이터 교환 형식으로, 사람과 기계 모두에게 읽기 쉬운 텍스트를 사용하여 데이터 객체를 표현합니다.\\n예시: {\"이름\": \"홍길동\", \"나이\": 30, \"직업\": \"개발자\"}는 JSON 형식의 데이터입니다.\\n연관키워드: 데이터 교환, 웹 개발, API\\n\\nTransformer\\n\\n정의: 트랜스포머는 자연어 처리에서 사용되는 딥러닝 모델의 한 유형으로, 주로 번역, 요약, 텍스트 생성 등에 사용됩니다. 이는 Attention 메커니즘을 기반으로 합니다.\\n예시: 구글 번역기는 트랜스포머 모델을 사용하여 다양한 언어 간의 번역을 수행합니다.\\n연관키워드: 딥러닝, 자연어 처리, Attention\\n\\nHuggingFace\\n\\n정의: HuggingFace는 자연어 처리를 위한 다양한 사전 훈련된 모델과 도구를 제공하는 라이브러리입니다. 이는 연구자와 개발자들이 쉽게 NLP 작업을 수행할 수 있도록 돕습니다.\\n예시: HuggingFace의 Transformers 라이브러리를 사용하여 감정 분석, 텍스트 생성 등의 작업을 수행할 수 있습니다.\\n연관키워드: 자연어 처리, 딥러닝, 라이브러리\\n\\nDigital Transformation\\n\\n정의: 디지털 변환은 기술을 활용하여 기업의 서비스, 문화, 운영을 혁신하는 과정입니다. 이는 비즈니스 모델을 개선하고 디지털 기술을 통해 경쟁력을 높이는 데 중점을 둡니다.\\n예시: 기업이 클라우드 컴퓨팅을 도입하여 데이터 저장과 처리를 혁신하는 것은 디지털 변환의 예입니다.\\n연관키워드: 혁신, 기술, 비즈니스 모델\\n\\nCrawling\\n\\n정의: 크롤링은 자동화된 방식으로 웹 페이지를 방문하여 데이터를 수집하는 과정입니다. 이는 검색 엔진 최적화나 데이터 분석에 자주 사용됩니다.\\n예시: 구글 검색 엔진이 인터넷 상의 웹사이트를 방문하여 콘텐츠를 수집하고 인덱싱하는 것이 크롤링입니다.\\n연관키워드: 데이터 수집, 웹 스크래핑, 검색 엔진\\n\\nWord2Vec\\n\\n정의: Word2Vec은 단어를 벡터 공간에 매핑하여 단어 간의 의미적 관계를 나타내는 자연어 처리 기술입니다. 이는 단어의 문맥적 유사성을 기반으로 벡터를 생성합니다.\\n예시: Word2Vec 모델에서 \"왕\"과 \"여왕\"은 서로 가까운 위치에 벡터로 표현됩니다.\\n연관키워드: 자연어 처리, 임베딩, 의미론적 유사성\\nLLM (Large Language Model)\\n\\n정의: LLM은 대규모의 텍스트 데이터로 훈련된 큰 규모의 언어 모델을 의미합니다. 이러한 모델은 다양한 자연어 이해 및 생성 작업에 사용됩니다.\\n예시: OpenAI의 GPT 시리즈는 대표적인 대규모 언어 모델입니다.\\n연관키워드: 자연어 처리, 딥러닝, 텍스트 생성\\n\\nFAISS (Facebook AI Similarity Search)\\n\\n정의: FAISS는 페이스북에서 개발한 고속 유사성 검색 라이브러리로, 특히 대규모 벡터 집합에서 유사 벡터를 효과적으로 검색할 수 있도록 설계되었습니다.\\n예시: 수백만 개의 이미지 벡터 중에서 비슷한 이미지를 빠르게 찾는 데 FAISS가 사용될 수 있습니다.\\n연관키워드: 벡터 검색, 머신러닝, 데이터베이스 최적화\\n\\nOpen Source\\n\\n정의: 오픈 소스는 소스 코드가 공개되어 누구나 자유롭게 사용, 수정, 배포할 수 있는 소프트웨어를 의미합니다. 이는 협업과 혁신을 촉진하는 데 중요한 역할을 합니다.\\n예시: 리눅스 운영 체제는 대표적인 오픈 소스 프로젝트입니다.\\n연관키워드: 소프트웨어 개발, 커뮤니티, 기술 협업\\n\\nStructured Data\\n\\n정의: 구조화된 데이터는 정해진 형식이나 스키마에 따라 조직된 데이터입니다. 이는 데이터베이스, 스프레드시트 등에서 쉽게 검색하고 분석할 수 있습니다.\\n예시: 관계형 데이터베이스에 저장된 고객 정보 테이블은 구조화된 데이터의 예입니다.\\n연관키워드: 데이터베이스, 데이터 분석, 데이터 모델링\\n\\nParser\\n\\n정의: 파서는 주어진 데이터(문자열, 파일 등)를 분석하여 구조화된 형태로 변환하는 도구입니다. 이는 프로그래밍 언어의 구문 분석이나 파일 데이터 처리에 사용됩니다.\\n예시: HTML 문서를 구문 분석하여 웹 페이지의 DOM 구조를 생성하는 것은 파싱의 한 예입니다.\\n연관키워드: 구문 분석, 컴파일러, 데이터 처리\\n\\nTF-IDF (Term Frequency-Inverse Document Frequency)\\n\\n정의: TF-IDF는 문서 내에서 단어의 중요도를 평가하는 데 사용되는 통계적 척도입니다. 이는 문서 내 단어의 빈도와 전체 문서 집합에서 그 단어의 희소성을 고려합니다.\\n예시: 많은 문서에서 자주 등장하지 않는 단어는 높은 TF-IDF 값을 가집니다.\\n연관키워드: 자연어 처리, 정보 검색, 데이터 마이닝\\n\\nDeep Learning\\n\\n정의: 딥러닝은 인공신경망을 이용하여 복잡한 문제를 해결하는 머신러닝의 한 분야입니다. 이는 데이터에서 고수준의 표현을 학습하는 데 중점을 둡니다.\\n예시: 이미지 인식, 음성 인식, 자연어 처리 등에서 딥러닝 모델이 활용됩니다.\\n연관키워드: 인공신경망, 머신러닝, 데이터 분석\\n\\nSchema\\n\\n정의: 스키마는 데이터베이스나 파일의 구조를 정의하는 것으로, 데이터가 어떻게 저장되고 조직되는지에 대한 청사진을 제공합니다.\\n예시: 관계형 데이터베이스의 테이블 스키마는 열 이름, 데이터 타입, 키 제약 조건 등을 정의합니다.\\n연관키워드: 데이터베이스, 데이터 모델링, 데이터 관리\\n\\nDataFrame\\n\\n정의: DataFrame은 행과 열로 이루어진 테이블 형태의 데이터 구조로, 주로 데이터 분석 및 처리에 사용됩니다.\\n예시: 판다스 라이브러리에서 DataFrame은 다양한 데이터 타입의 열을 가질 수 있으며, 데이터 조작과 분석을 용이하게 합니다.\\n연관키워드: 데이터 분석, 판다스, 데이터 처리\\n\\nAttention 메커니즘\\n\\n정의: Attention 메커니즘은 딥러닝에서 중요한 정보에 더 많은 \\'주의\\'를 기울이도록 하는 기법입니다. 이는 주로 시퀀스 데이터(예: 텍스트, 시계열 데이터)에서 사용됩니다.\\n예시: 번역 모델에서 Attention 메커니즘은 입력 문장의 중요한 부분에 더 집중하여 정확한 번역을 생성합니다.\\n연관키워드: 딥러닝, 자연어 처리, 시퀀스 모델링\\n\\n판다스 (Pandas)\\n\\n정의: 판다스는 파이썬 프로그래밍 언어를 위한 데이터 분석 및 조작 도구를 제공하는 라이브러리입니다. 이는 데이터 분석 작업을 효율적으로 수행할 수 있게 합니다.\\n예시: 판다스를 사용하여 CSV 파일을 읽고, 데이터를 정제하며, 다양한 분석을 수행할 수 있습니다.\\n연관키워드: 데이터 분석, 파이썬, 데이터 처리\\n\\nGPT (Generative Pretrained Transformer)\\n\\n정의: GPT는 대규모의 데이터셋으로 사전 훈련된 생성적 언어 모델로, 다양한 텍스트 기반 작업에 활용됩니다. 이는 입력된 텍스트에 기반하여 자연스러운 언어를 생성할 수 있습니다.\\n예시: 사용자가 제공한 질문에 대해 자세한 답변을 생성하는 챗봇은 GPT 모델을 사용할 수 있습니다.\\n연관키워드: 자연어 처리, 텍스트 생성, 딥러닝\\n\\nInstructGPT\\n\\n정의: InstructGPT는 사용자의 지시에 따라 특정한 작업을 수행하기 위해 최적화된 GPT 모델입니다. 이 모델은 보다 정확하고 관련성 높은 결과를 생성하도록 설계되었습니다.\\n예시: 사용자가 \"이메일 초안 작성\"과 같은 특정 지시를 제공하면, InstructGPT는 관련 내용을 기반으로 이메일을 작성합니다.\\n연관키워드: 인공지능, 자연어 이해, 명령 기반 처리\\n\\nKeyword Search\\n\\n정의: 키워드 검색은 사용자가 입력한 키워드를 기반으로 정보를 찾는 과정입니다. 이는 대부분의 검색 엔진과 데이터베이스 시스템에서 기본적인 검색 방식으로 사용됩니다.\\n예시: 사용자가 \"커피숍 서울\"이라고 검색하면, 관련된 커피숍 목록을 반환합니다.\\n연관키워드: 검색 엔진, 데이터 검색, 정보 검색\\n\\nPage Rank\\n\\n정의: 페이지 랭크는 웹 페이지의 중요도를 평가하는 알고리즘으로, 주로 검색 엔진 결과의 순위를 결정하는 데 사용됩니다. 이는 웹 페이지 간의 링크 구조를 분석하여 평가합니다.\\n예시: 구글 검색 엔진은 페이지 랭크 알고리즘을 사용하여 검색 결과의 순위를 정합니다.\\n연관키워드: 검색 엔진 최적화, 웹 분석, 링크 분석\\n\\n데이터 마이닝\\n\\n정의: 데이터 마이닝은 대량의 데이터에서 유용한 정보를 발굴하는 과정입니다. 이는 통계, 머신러닝, 패턴 인식 등의 기술을 활용합니다.\\n예시: 소매업체가 고객 구매 데이터를 분석하여 판매 전략을 수립하는 것은 데이터 마이닝의 예입니다.\\n연관키워드: 빅데이터, 패턴 인식, 예측 분석\\n\\n멀티모달 (Multimodal)\\n\\n정의: 멀티모달은 여러 종류의 데이터 모드(예: 텍스트, 이미지, 소리 등)를 결합하여 처리하는 기술입니다. 이는 서로 다른 형식의 데이터 간의 상호 작용을 통해 보다 풍부하고 정확한 정보를 추출하거나 예측하는 데 사용됩니다.\\n예시: 이미지와 설명 텍스트를 함께 분석하여 더 정확한 이미지 분류를 수행하는 시스템은 멀티모달 기술의 예입니다.\\n연관키워드: 데이터 융합, 인공지능, 딥러닝\\n')]\n"
     ]
    }
   ],
   "source": [
    "documents = loader1.load()\n",
    "print(documents)"
   ]
  },
  {
   "cell_type": "code",
   "execution_count": 53,
   "metadata": {},
   "outputs": [],
   "source": [
    "split_doc1 = loader1.load_and_split(text_splitter)\n",
    "split_doc2 = loader2.load_and_split(text_splitter)"
   ]
  },
  {
   "cell_type": "code",
   "execution_count": null,
   "metadata": {},
   "outputs": [
    {
     "name": "stdout",
     "output_type": "stream",
     "text": [
      "[Document(metadata={'source': './data/nlp-keywords.txt'}, page_content='Semantic Search'), Document(metadata={'source': './data/nlp-keywords.txt'}, page_content='정의: 의미론적 검색은 사용자의 질의를 단순한 키워드 매칭을 넘어서 그 의미를 파악하여 관련된 결과를 반환하는 검색 방식입니다.'), Document(metadata={'source': './data/nlp-keywords.txt'}, page_content='예시: 사용자가 \"태양계 행성\"이라고 검색하면, \"목성\", \"화성\" 등과 같이 관련된 행성에 대한 정보를 반환합니다.\\n연관키워드: 자연어 처리, 검색 알고리즘, 데이터 마이닝'), Document(metadata={'source': './data/nlp-keywords.txt'}, page_content='Embedding'), Document(metadata={'source': './data/nlp-keywords.txt'}, page_content='정의: 임베딩은 단어나 문장 같은 텍스트 데이터를 저차원의 연속적인 벡터로 변환하는 과정입니다. 이를 통해 컴퓨터가 텍스트를 이해하고 처리할 수 있게 합니다.'), Document(metadata={'source': './data/nlp-keywords.txt'}, page_content='예시: \"사과\"라는 단어를 [0.65, -0.23, 0.17]과 같은 벡터로 표현합니다.\\n연관키워드: 자연어 처리, 벡터화, 딥러닝'), Document(metadata={'source': './data/nlp-keywords.txt'}, page_content='Token'), Document(metadata={'source': './data/nlp-keywords.txt'}, page_content='정의: 토큰은 텍스트를 더 작은 단위로 분할하는 것을 의미합니다. 이는 일반적으로 단어, 문장, 또는 구절일 수 있습니다.'), Document(metadata={'source': './data/nlp-keywords.txt'}, page_content='예시: 문장 \"나는 학교에 간다\"를 \"나는\", \"학교에\", \"간다\"로 분할합니다.\\n연관키워드: 토큰화, 자연어 처리, 구문 분석'), Document(metadata={'source': './data/nlp-keywords.txt'}, page_content='Tokenizer'), Document(metadata={'source': './data/nlp-keywords.txt'}, page_content='정의: 토크나이저는 텍스트 데이터를 토큰으로 분할하는 도구입니다. 이는 자연어 처리에서 데이터를 전처리하는 데 사용됩니다.'), Document(metadata={'source': './data/nlp-keywords.txt'}, page_content='예시: \"I love programming.\"이라는 문장을 [\"I\", \"love\", \"programming\", \".\"]으로 분할합니다.'), Document(metadata={'source': './data/nlp-keywords.txt'}, page_content='연관키워드: 토큰화, 자연어 처리, 구문 분석'), Document(metadata={'source': './data/nlp-keywords.txt'}, page_content='VectorStore'), Document(metadata={'source': './data/nlp-keywords.txt'}, page_content='정의: 벡터스토어는 벡터 형식으로 변환된 데이터를 저장하는 시스템입니다. 이는 검색, 분류 및 기타 데이터 분석 작업에 사용됩니다.'), Document(metadata={'source': './data/nlp-keywords.txt'}, page_content='예시: 단어 임베딩 벡터들을 데이터베이스에 저장하여 빠르게 접근할 수 있습니다.\\n연관키워드: 임베딩, 데이터베이스, 벡터화'), Document(metadata={'source': './data/nlp-keywords.txt'}, page_content='SQL'), Document(metadata={'source': './data/nlp-keywords.txt'}, page_content='정의: SQL(Structured Query Language)은 데이터베이스에서 데이터를 관리하기 위한 프로그래밍 언어입니다. 데이터 조회, 수정, 삽입, 삭제 등 다양한 작업을'), Document(metadata={'source': './data/nlp-keywords.txt'}, page_content='수행할 수 있습니다.'), Document(metadata={'source': './data/nlp-keywords.txt'}, page_content='예시: SELECT * FROM users WHERE age > 18;은 18세 이상의 사용자 정보를 조회합니다.\\n연관키워드: 데이터베이스, 쿼리, 데이터 관리'), Document(metadata={'source': './data/nlp-keywords.txt'}, page_content='CSV'), Document(metadata={'source': './data/nlp-keywords.txt'}, page_content='정의: CSV(Comma-Separated Values)는 데이터를 저장하는 파일 형식으로, 각 데이터 값은 쉼표로 구분됩니다. 표 형태의 데이터를 간단하게 저장하고 교환할 때'), Document(metadata={'source': './data/nlp-keywords.txt'}, page_content='사용됩니다.'), Document(metadata={'source': './data/nlp-keywords.txt'}, page_content='예시: 이름, 나이, 직업이라는 헤더를 가진 CSV 파일에는 홍길동, 30, 개발자와 같은 데이터가 포함될 수 있습니다.\\n연관키워드: 데이터 형식, 파일 처리, 데이터 교환'), Document(metadata={'source': './data/nlp-keywords.txt'}, page_content='JSON'), Document(metadata={'source': './data/nlp-keywords.txt'}, page_content='정의: JSON(JavaScript Object Notation)은 경량의 데이터 교환 형식으로, 사람과 기계 모두에게 읽기 쉬운 텍스트를 사용하여 데이터 객체를 표현합니다.'), Document(metadata={'source': './data/nlp-keywords.txt'}, page_content='예시: {\"이름\": \"홍길동\", \"나이\": 30, \"직업\": \"개발자\"}는 JSON 형식의 데이터입니다.\\n연관키워드: 데이터 교환, 웹 개발, API'), Document(metadata={'source': './data/nlp-keywords.txt'}, page_content='Transformer'), Document(metadata={'source': './data/nlp-keywords.txt'}, page_content='정의: 트랜스포머는 자연어 처리에서 사용되는 딥러닝 모델의 한 유형으로, 주로 번역, 요약, 텍스트 생성 등에 사용됩니다. 이는 Attention 메커니즘을 기반으로 합니다.'), Document(metadata={'source': './data/nlp-keywords.txt'}, page_content='예시: 구글 번역기는 트랜스포머 모델을 사용하여 다양한 언어 간의 번역을 수행합니다.\\n연관키워드: 딥러닝, 자연어 처리, Attention'), Document(metadata={'source': './data/nlp-keywords.txt'}, page_content='HuggingFace'), Document(metadata={'source': './data/nlp-keywords.txt'}, page_content='정의: HuggingFace는 자연어 처리를 위한 다양한 사전 훈련된 모델과 도구를 제공하는 라이브러리입니다. 이는 연구자와 개발자들이 쉽게 NLP 작업을 수행할 수 있도록'), Document(metadata={'source': './data/nlp-keywords.txt'}, page_content='돕습니다.'), Document(metadata={'source': './data/nlp-keywords.txt'}, page_content='예시: HuggingFace의 Transformers 라이브러리를 사용하여 감정 분석, 텍스트 생성 등의 작업을 수행할 수 있습니다.'), Document(metadata={'source': './data/nlp-keywords.txt'}, page_content='연관키워드: 자연어 처리, 딥러닝, 라이브러리'), Document(metadata={'source': './data/nlp-keywords.txt'}, page_content='Digital Transformation'), Document(metadata={'source': './data/nlp-keywords.txt'}, page_content='정의: 디지털 변환은 기술을 활용하여 기업의 서비스, 문화, 운영을 혁신하는 과정입니다. 이는 비즈니스 모델을 개선하고 디지털 기술을 통해 경쟁력을 높이는 데 중점을 둡니다.'), Document(metadata={'source': './data/nlp-keywords.txt'}, page_content='예시: 기업이 클라우드 컴퓨팅을 도입하여 데이터 저장과 처리를 혁신하는 것은 디지털 변환의 예입니다.\\n연관키워드: 혁신, 기술, 비즈니스 모델'), Document(metadata={'source': './data/nlp-keywords.txt'}, page_content='Crawling'), Document(metadata={'source': './data/nlp-keywords.txt'}, page_content='정의: 크롤링은 자동화된 방식으로 웹 페이지를 방문하여 데이터를 수집하는 과정입니다. 이는 검색 엔진 최적화나 데이터 분석에 자주 사용됩니다.'), Document(metadata={'source': './data/nlp-keywords.txt'}, page_content='예시: 구글 검색 엔진이 인터넷 상의 웹사이트를 방문하여 콘텐츠를 수집하고 인덱싱하는 것이 크롤링입니다.\\n연관키워드: 데이터 수집, 웹 스크래핑, 검색 엔진'), Document(metadata={'source': './data/nlp-keywords.txt'}, page_content='Word2Vec'), Document(metadata={'source': './data/nlp-keywords.txt'}, page_content='정의: Word2Vec은 단어를 벡터 공간에 매핑하여 단어 간의 의미적 관계를 나타내는 자연어 처리 기술입니다. 이는 단어의 문맥적 유사성을 기반으로 벡터를 생성합니다.'), Document(metadata={'source': './data/nlp-keywords.txt'}, page_content='예시: Word2Vec 모델에서 \"왕\"과 \"여왕\"은 서로 가까운 위치에 벡터로 표현됩니다.\\n연관키워드: 자연어 처리, 임베딩, 의미론적 유사성'), Document(metadata={'source': './data/nlp-keywords.txt'}, page_content='LLM (Large Language Model)'), Document(metadata={'source': './data/nlp-keywords.txt'}, page_content='정의: LLM은 대규모의 텍스트 데이터로 훈련된 큰 규모의 언어 모델을 의미합니다. 이러한 모델은 다양한 자연어 이해 및 생성 작업에 사용됩니다.'), Document(metadata={'source': './data/nlp-keywords.txt'}, page_content='예시: OpenAI의 GPT 시리즈는 대표적인 대규모 언어 모델입니다.\\n연관키워드: 자연어 처리, 딥러닝, 텍스트 생성'), Document(metadata={'source': './data/nlp-keywords.txt'}, page_content='FAISS (Facebook AI Similarity Search)'), Document(metadata={'source': './data/nlp-keywords.txt'}, page_content='정의: FAISS는 페이스북에서 개발한 고속 유사성 검색 라이브러리로, 특히 대규모 벡터 집합에서 유사 벡터를 효과적으로 검색할 수 있도록 설계되었습니다.'), Document(metadata={'source': './data/nlp-keywords.txt'}, page_content='예시: 수백만 개의 이미지 벡터 중에서 비슷한 이미지를 빠르게 찾는 데 FAISS가 사용될 수 있습니다.\\n연관키워드: 벡터 검색, 머신러닝, 데이터베이스 최적화'), Document(metadata={'source': './data/nlp-keywords.txt'}, page_content='Open Source'), Document(metadata={'source': './data/nlp-keywords.txt'}, page_content='정의: 오픈 소스는 소스 코드가 공개되어 누구나 자유롭게 사용, 수정, 배포할 수 있는 소프트웨어를 의미합니다. 이는 협업과 혁신을 촉진하는 데 중요한 역할을 합니다.'), Document(metadata={'source': './data/nlp-keywords.txt'}, page_content='예시: 리눅스 운영 체제는 대표적인 오픈 소스 프로젝트입니다.\\n연관키워드: 소프트웨어 개발, 커뮤니티, 기술 협업'), Document(metadata={'source': './data/nlp-keywords.txt'}, page_content='Structured Data'), Document(metadata={'source': './data/nlp-keywords.txt'}, page_content='정의: 구조화된 데이터는 정해진 형식이나 스키마에 따라 조직된 데이터입니다. 이는 데이터베이스, 스프레드시트 등에서 쉽게 검색하고 분석할 수 있습니다.'), Document(metadata={'source': './data/nlp-keywords.txt'}, page_content='예시: 관계형 데이터베이스에 저장된 고객 정보 테이블은 구조화된 데이터의 예입니다.\\n연관키워드: 데이터베이스, 데이터 분석, 데이터 모델링'), Document(metadata={'source': './data/nlp-keywords.txt'}, page_content='Parser'), Document(metadata={'source': './data/nlp-keywords.txt'}, page_content='정의: 파서는 주어진 데이터(문자열, 파일 등)를 분석하여 구조화된 형태로 변환하는 도구입니다. 이는 프로그래밍 언어의 구문 분석이나 파일 데이터 처리에 사용됩니다.'), Document(metadata={'source': './data/nlp-keywords.txt'}, page_content='예시: HTML 문서를 구문 분석하여 웹 페이지의 DOM 구조를 생성하는 것은 파싱의 한 예입니다.\\n연관키워드: 구문 분석, 컴파일러, 데이터 처리'), Document(metadata={'source': './data/nlp-keywords.txt'}, page_content='TF-IDF (Term Frequency-Inverse Document Frequency)'), Document(metadata={'source': './data/nlp-keywords.txt'}, page_content='정의: TF-IDF는 문서 내에서 단어의 중요도를 평가하는 데 사용되는 통계적 척도입니다. 이는 문서 내 단어의 빈도와 전체 문서 집합에서 그 단어의 희소성을 고려합니다.'), Document(metadata={'source': './data/nlp-keywords.txt'}, page_content='예시: 많은 문서에서 자주 등장하지 않는 단어는 높은 TF-IDF 값을 가집니다.\\n연관키워드: 자연어 처리, 정보 검색, 데이터 마이닝'), Document(metadata={'source': './data/nlp-keywords.txt'}, page_content='Deep Learning'), Document(metadata={'source': './data/nlp-keywords.txt'}, page_content='정의: 딥러닝은 인공신경망을 이용하여 복잡한 문제를 해결하는 머신러닝의 한 분야입니다. 이는 데이터에서 고수준의 표현을 학습하는 데 중점을 둡니다.'), Document(metadata={'source': './data/nlp-keywords.txt'}, page_content='예시: 이미지 인식, 음성 인식, 자연어 처리 등에서 딥러닝 모델이 활용됩니다.\\n연관키워드: 인공신경망, 머신러닝, 데이터 분석'), Document(metadata={'source': './data/nlp-keywords.txt'}, page_content='Schema'), Document(metadata={'source': './data/nlp-keywords.txt'}, page_content='정의: 스키마는 데이터베이스나 파일의 구조를 정의하는 것으로, 데이터가 어떻게 저장되고 조직되는지에 대한 청사진을 제공합니다.'), Document(metadata={'source': './data/nlp-keywords.txt'}, page_content='예시: 관계형 데이터베이스의 테이블 스키마는 열 이름, 데이터 타입, 키 제약 조건 등을 정의합니다.\\n연관키워드: 데이터베이스, 데이터 모델링, 데이터 관리'), Document(metadata={'source': './data/nlp-keywords.txt'}, page_content='DataFrame'), Document(metadata={'source': './data/nlp-keywords.txt'}, page_content='정의: DataFrame은 행과 열로 이루어진 테이블 형태의 데이터 구조로, 주로 데이터 분석 및 처리에 사용됩니다.'), Document(metadata={'source': './data/nlp-keywords.txt'}, page_content='예시: 판다스 라이브러리에서 DataFrame은 다양한 데이터 타입의 열을 가질 수 있으며, 데이터 조작과 분석을 용이하게 합니다.'), Document(metadata={'source': './data/nlp-keywords.txt'}, page_content='연관키워드: 데이터 분석, 판다스, 데이터 처리'), Document(metadata={'source': './data/nlp-keywords.txt'}, page_content='Attention 메커니즘'), Document(metadata={'source': './data/nlp-keywords.txt'}, page_content=\"정의: Attention 메커니즘은 딥러닝에서 중요한 정보에 더 많은 '주의'를 기울이도록 하는 기법입니다. 이는 주로 시퀀스 데이터(예: 텍스트, 시계열 데이터)에서\"), Document(metadata={'source': './data/nlp-keywords.txt'}, page_content='사용됩니다.'), Document(metadata={'source': './data/nlp-keywords.txt'}, page_content='예시: 번역 모델에서 Attention 메커니즘은 입력 문장의 중요한 부분에 더 집중하여 정확한 번역을 생성합니다.\\n연관키워드: 딥러닝, 자연어 처리, 시퀀스 모델링'), Document(metadata={'source': './data/nlp-keywords.txt'}, page_content='판다스 (Pandas)'), Document(metadata={'source': './data/nlp-keywords.txt'}, page_content='정의: 판다스는 파이썬 프로그래밍 언어를 위한 데이터 분석 및 조작 도구를 제공하는 라이브러리입니다. 이는 데이터 분석 작업을 효율적으로 수행할 수 있게 합니다.'), Document(metadata={'source': './data/nlp-keywords.txt'}, page_content='예시: 판다스를 사용하여 CSV 파일을 읽고, 데이터를 정제하며, 다양한 분석을 수행할 수 있습니다.\\n연관키워드: 데이터 분석, 파이썬, 데이터 처리'), Document(metadata={'source': './data/nlp-keywords.txt'}, page_content='GPT (Generative Pretrained Transformer)'), Document(metadata={'source': './data/nlp-keywords.txt'}, page_content='정의: GPT는 대규모의 데이터셋으로 사전 훈련된 생성적 언어 모델로, 다양한 텍스트 기반 작업에 활용됩니다. 이는 입력된 텍스트에 기반하여 자연스러운 언어를 생성할 수'), Document(metadata={'source': './data/nlp-keywords.txt'}, page_content='있습니다.'), Document(metadata={'source': './data/nlp-keywords.txt'}, page_content='예시: 사용자가 제공한 질문에 대해 자세한 답변을 생성하는 챗봇은 GPT 모델을 사용할 수 있습니다.\\n연관키워드: 자연어 처리, 텍스트 생성, 딥러닝'), Document(metadata={'source': './data/nlp-keywords.txt'}, page_content='InstructGPT'), Document(metadata={'source': './data/nlp-keywords.txt'}, page_content='정의: InstructGPT는 사용자의 지시에 따라 특정한 작업을 수행하기 위해 최적화된 GPT 모델입니다. 이 모델은 보다 정확하고 관련성 높은 결과를 생성하도록'), Document(metadata={'source': './data/nlp-keywords.txt'}, page_content='설계되었습니다.'), Document(metadata={'source': './data/nlp-keywords.txt'}, page_content='예시: 사용자가 \"이메일 초안 작성\"과 같은 특정 지시를 제공하면, InstructGPT는 관련 내용을 기반으로 이메일을 작성합니다.'), Document(metadata={'source': './data/nlp-keywords.txt'}, page_content='연관키워드: 인공지능, 자연어 이해, 명령 기반 처리'), Document(metadata={'source': './data/nlp-keywords.txt'}, page_content='Keyword Search'), Document(metadata={'source': './data/nlp-keywords.txt'}, page_content='정의: 키워드 검색은 사용자가 입력한 키워드를 기반으로 정보를 찾는 과정입니다. 이는 대부분의 검색 엔진과 데이터베이스 시스템에서 기본적인 검색 방식으로 사용됩니다.'), Document(metadata={'source': './data/nlp-keywords.txt'}, page_content='예시: 사용자가 \"커피숍 서울\"이라고 검색하면, 관련된 커피숍 목록을 반환합니다.\\n연관키워드: 검색 엔진, 데이터 검색, 정보 검색'), Document(metadata={'source': './data/nlp-keywords.txt'}, page_content='Page Rank'), Document(metadata={'source': './data/nlp-keywords.txt'}, page_content='정의: 페이지 랭크는 웹 페이지의 중요도를 평가하는 알고리즘으로, 주로 검색 엔진 결과의 순위를 결정하는 데 사용됩니다. 이는 웹 페이지 간의 링크 구조를 분석하여 평가합니다.'), Document(metadata={'source': './data/nlp-keywords.txt'}, page_content='예시: 구글 검색 엔진은 페이지 랭크 알고리즘을 사용하여 검색 결과의 순위를 정합니다.\\n연관키워드: 검색 엔진 최적화, 웹 분석, 링크 분석'), Document(metadata={'source': './data/nlp-keywords.txt'}, page_content='데이터 마이닝'), Document(metadata={'source': './data/nlp-keywords.txt'}, page_content='정의: 데이터 마이닝은 대량의 데이터에서 유용한 정보를 발굴하는 과정입니다. 이는 통계, 머신러닝, 패턴 인식 등의 기술을 활용합니다.'), Document(metadata={'source': './data/nlp-keywords.txt'}, page_content='예시: 소매업체가 고객 구매 데이터를 분석하여 판매 전략을 수립하는 것은 데이터 마이닝의 예입니다.\\n연관키워드: 빅데이터, 패턴 인식, 예측 분석'), Document(metadata={'source': './data/nlp-keywords.txt'}, page_content='멀티모달 (Multimodal)'), Document(metadata={'source': './data/nlp-keywords.txt'}, page_content='정의: 멀티모달은 여러 종류의 데이터 모드(예: 텍스트, 이미지, 소리 등)를 결합하여 처리하는 기술입니다. 이는 서로 다른 형식의 데이터 간의 상호 작용을 통해 보다 풍부하고'), Document(metadata={'source': './data/nlp-keywords.txt'}, page_content='정확한 정보를 추출하거나 예측하는 데 사용됩니다.'), Document(metadata={'source': './data/nlp-keywords.txt'}, page_content='예시: 이미지와 설명 텍스트를 함께 분석하여 더 정확한 이미지 분류를 수행하는 시스템은 멀티모달 기술의 예입니다.\\n연관키워드: 데이터 융합, 인공지능, 딥러닝')]\n"
     ]
    }
   ],
   "source": [
    "print(split_doc1)\n",
    "# Page_content가 분할되어 있음"
   ]
  },
  {
   "cell_type": "code",
   "execution_count": 55,
   "metadata": {},
   "outputs": [
    {
     "data": {
      "text/plain": [
       "(101, 60)"
      ]
     },
     "execution_count": 55,
     "metadata": {},
     "output_type": "execute_result"
    }
   ],
   "source": [
    "len(split_doc1), len(split_doc2)"
   ]
  },
  {
   "cell_type": "code",
   "execution_count": 57,
   "metadata": {},
   "outputs": [],
   "source": [
    "# pip install faiss-cpu"
   ]
  },
  {
   "cell_type": "code",
   "execution_count": 58,
   "metadata": {},
   "outputs": [],
   "source": [
    "import faiss\n",
    "from langchain_community.vectorstores import FAISS\n",
    "from langchain_community.docstore.in_memory import InMemoryDocstore\n",
    "from langchain_openai import OpenAIEmbeddings"
   ]
  },
  {
   "cell_type": "code",
   "execution_count": 59,
   "metadata": {},
   "outputs": [],
   "source": [
    "embeddings = OpenAIEmbeddings(model='text-embedding-3-large')"
   ]
  },
  {
   "cell_type": "code",
   "execution_count": null,
   "metadata": {},
   "outputs": [
    {
     "name": "stdout",
     "output_type": "stream",
     "text": [
      "3072\n"
     ]
    }
   ],
   "source": [
    "dimension_size = len(embeddings.embed_query('임베딩 차원 크기'))\n",
    "print(dimension_size)  # 임베딩 차원 크기 확인"
   ]
  },
  {
   "cell_type": "code",
   "execution_count": null,
   "metadata": {},
   "outputs": [],
   "source": [
    "db = FAISS(\n",
    "    embedding_function = embeddings,\n",
    "    # 임베딩 함수\n",
    "    index = faiss.IndexFlatL2(dimension_size),\n",
    "    # FAISS 라이브러리에서 제공하는 벡터 검색용 인덱스 객체 (L2 거리를 기준으로 벡터간 유사도를 계산하는 인덱스 사용)\n",
    "    docstore = InMemoryDocstore(),\n",
    "    # 실행이 되는 동안 메모리를 저장하고 관리하는 Docstore 설정\n",
    "    index_to_docstore_id = {}\n",
    "    # 인덱스에서 검색된 벡터가 어떤 문서에 속하는 연결하는 역할\n",
    ")\n",
    "\n",
    "# 0.3, 0.8, 0.7 -> 유클리디안 거리 계산 결과로 INDEX를 1을 부여받았다고 가정\n",
    "# index_top_docstore_id = {1:[0.3, 0.8, 0.7]}"
   ]
  },
  {
   "cell_type": "code",
   "execution_count": 64,
   "metadata": {},
   "outputs": [],
   "source": [
    "db = FAISS.from_documents(documents=split_doc1, embedding=OpenAIEmbeddings())\n",
    "# 자동으로 DB 생성"
   ]
  },
  {
   "cell_type": "code",
   "execution_count": 66,
   "metadata": {},
   "outputs": [
    {
     "data": {
      "text/plain": [
       "[Document(metadata={'source': './data/nlp-keywords.txt'}, page_content='Semantic Search'),\n",
       " Document(metadata={'source': './data/nlp-keywords.txt'}, page_content='정의: 의미론적 검색은 사용자의 질의를 단순한 키워드 매칭을 넘어서 그 의미를 파악하여 관련된 결과를 반환하는 검색 방식입니다.'),\n",
       " Document(metadata={'source': './data/nlp-keywords.txt'}, page_content='예시: 사용자가 \"태양계 행성\"이라고 검색하면, \"목성\", \"화성\" 등과 같이 관련된 행성에 대한 정보를 반환합니다.\\n연관키워드: 자연어 처리, 검색 알고리즘, 데이터 마이닝'),\n",
       " Document(metadata={'source': './data/nlp-keywords.txt'}, page_content='Embedding'),\n",
       " Document(metadata={'source': './data/nlp-keywords.txt'}, page_content='정의: 임베딩은 단어나 문장 같은 텍스트 데이터를 저차원의 연속적인 벡터로 변환하는 과정입니다. 이를 통해 컴퓨터가 텍스트를 이해하고 처리할 수 있게 합니다.'),\n",
       " Document(metadata={'source': './data/nlp-keywords.txt'}, page_content='예시: \"사과\"라는 단어를 [0.65, -0.23, 0.17]과 같은 벡터로 표현합니다.\\n연관키워드: 자연어 처리, 벡터화, 딥러닝'),\n",
       " Document(metadata={'source': './data/nlp-keywords.txt'}, page_content='Token'),\n",
       " Document(metadata={'source': './data/nlp-keywords.txt'}, page_content='정의: 토큰은 텍스트를 더 작은 단위로 분할하는 것을 의미합니다. 이는 일반적으로 단어, 문장, 또는 구절일 수 있습니다.'),\n",
       " Document(metadata={'source': './data/nlp-keywords.txt'}, page_content='예시: 문장 \"나는 학교에 간다\"를 \"나는\", \"학교에\", \"간다\"로 분할합니다.\\n연관키워드: 토큰화, 자연어 처리, 구문 분석'),\n",
       " Document(metadata={'source': './data/nlp-keywords.txt'}, page_content='Tokenizer'),\n",
       " Document(metadata={'source': './data/nlp-keywords.txt'}, page_content='정의: 토크나이저는 텍스트 데이터를 토큰으로 분할하는 도구입니다. 이는 자연어 처리에서 데이터를 전처리하는 데 사용됩니다.'),\n",
       " Document(metadata={'source': './data/nlp-keywords.txt'}, page_content='예시: \"I love programming.\"이라는 문장을 [\"I\", \"love\", \"programming\", \".\"]으로 분할합니다.'),\n",
       " Document(metadata={'source': './data/nlp-keywords.txt'}, page_content='연관키워드: 토큰화, 자연어 처리, 구문 분석'),\n",
       " Document(metadata={'source': './data/nlp-keywords.txt'}, page_content='VectorStore'),\n",
       " Document(metadata={'source': './data/nlp-keywords.txt'}, page_content='정의: 벡터스토어는 벡터 형식으로 변환된 데이터를 저장하는 시스템입니다. 이는 검색, 분류 및 기타 데이터 분석 작업에 사용됩니다.'),\n",
       " Document(metadata={'source': './data/nlp-keywords.txt'}, page_content='예시: 단어 임베딩 벡터들을 데이터베이스에 저장하여 빠르게 접근할 수 있습니다.\\n연관키워드: 임베딩, 데이터베이스, 벡터화'),\n",
       " Document(metadata={'source': './data/nlp-keywords.txt'}, page_content='SQL'),\n",
       " Document(metadata={'source': './data/nlp-keywords.txt'}, page_content='정의: SQL(Structured Query Language)은 데이터베이스에서 데이터를 관리하기 위한 프로그래밍 언어입니다. 데이터 조회, 수정, 삽입, 삭제 등 다양한 작업을'),\n",
       " Document(metadata={'source': './data/nlp-keywords.txt'}, page_content='수행할 수 있습니다.'),\n",
       " Document(metadata={'source': './data/nlp-keywords.txt'}, page_content='예시: SELECT * FROM users WHERE age > 18;은 18세 이상의 사용자 정보를 조회합니다.\\n연관키워드: 데이터베이스, 쿼리, 데이터 관리'),\n",
       " Document(metadata={'source': './data/nlp-keywords.txt'}, page_content='CSV'),\n",
       " Document(metadata={'source': './data/nlp-keywords.txt'}, page_content='정의: CSV(Comma-Separated Values)는 데이터를 저장하는 파일 형식으로, 각 데이터 값은 쉼표로 구분됩니다. 표 형태의 데이터를 간단하게 저장하고 교환할 때'),\n",
       " Document(metadata={'source': './data/nlp-keywords.txt'}, page_content='사용됩니다.'),\n",
       " Document(metadata={'source': './data/nlp-keywords.txt'}, page_content='예시: 이름, 나이, 직업이라는 헤더를 가진 CSV 파일에는 홍길동, 30, 개발자와 같은 데이터가 포함될 수 있습니다.\\n연관키워드: 데이터 형식, 파일 처리, 데이터 교환'),\n",
       " Document(metadata={'source': './data/nlp-keywords.txt'}, page_content='JSON'),\n",
       " Document(metadata={'source': './data/nlp-keywords.txt'}, page_content='정의: JSON(JavaScript Object Notation)은 경량의 데이터 교환 형식으로, 사람과 기계 모두에게 읽기 쉬운 텍스트를 사용하여 데이터 객체를 표현합니다.'),\n",
       " Document(metadata={'source': './data/nlp-keywords.txt'}, page_content='예시: {\"이름\": \"홍길동\", \"나이\": 30, \"직업\": \"개발자\"}는 JSON 형식의 데이터입니다.\\n연관키워드: 데이터 교환, 웹 개발, API'),\n",
       " Document(metadata={'source': './data/nlp-keywords.txt'}, page_content='Transformer'),\n",
       " Document(metadata={'source': './data/nlp-keywords.txt'}, page_content='정의: 트랜스포머는 자연어 처리에서 사용되는 딥러닝 모델의 한 유형으로, 주로 번역, 요약, 텍스트 생성 등에 사용됩니다. 이는 Attention 메커니즘을 기반으로 합니다.'),\n",
       " Document(metadata={'source': './data/nlp-keywords.txt'}, page_content='예시: 구글 번역기는 트랜스포머 모델을 사용하여 다양한 언어 간의 번역을 수행합니다.\\n연관키워드: 딥러닝, 자연어 처리, Attention'),\n",
       " Document(metadata={'source': './data/nlp-keywords.txt'}, page_content='HuggingFace'),\n",
       " Document(metadata={'source': './data/nlp-keywords.txt'}, page_content='정의: HuggingFace는 자연어 처리를 위한 다양한 사전 훈련된 모델과 도구를 제공하는 라이브러리입니다. 이는 연구자와 개발자들이 쉽게 NLP 작업을 수행할 수 있도록'),\n",
       " Document(metadata={'source': './data/nlp-keywords.txt'}, page_content='돕습니다.'),\n",
       " Document(metadata={'source': './data/nlp-keywords.txt'}, page_content='예시: HuggingFace의 Transformers 라이브러리를 사용하여 감정 분석, 텍스트 생성 등의 작업을 수행할 수 있습니다.'),\n",
       " Document(metadata={'source': './data/nlp-keywords.txt'}, page_content='연관키워드: 자연어 처리, 딥러닝, 라이브러리'),\n",
       " Document(metadata={'source': './data/nlp-keywords.txt'}, page_content='Digital Transformation'),\n",
       " Document(metadata={'source': './data/nlp-keywords.txt'}, page_content='정의: 디지털 변환은 기술을 활용하여 기업의 서비스, 문화, 운영을 혁신하는 과정입니다. 이는 비즈니스 모델을 개선하고 디지털 기술을 통해 경쟁력을 높이는 데 중점을 둡니다.'),\n",
       " Document(metadata={'source': './data/nlp-keywords.txt'}, page_content='예시: 기업이 클라우드 컴퓨팅을 도입하여 데이터 저장과 처리를 혁신하는 것은 디지털 변환의 예입니다.\\n연관키워드: 혁신, 기술, 비즈니스 모델'),\n",
       " Document(metadata={'source': './data/nlp-keywords.txt'}, page_content='Crawling'),\n",
       " Document(metadata={'source': './data/nlp-keywords.txt'}, page_content='정의: 크롤링은 자동화된 방식으로 웹 페이지를 방문하여 데이터를 수집하는 과정입니다. 이는 검색 엔진 최적화나 데이터 분석에 자주 사용됩니다.'),\n",
       " Document(metadata={'source': './data/nlp-keywords.txt'}, page_content='예시: 구글 검색 엔진이 인터넷 상의 웹사이트를 방문하여 콘텐츠를 수집하고 인덱싱하는 것이 크롤링입니다.\\n연관키워드: 데이터 수집, 웹 스크래핑, 검색 엔진'),\n",
       " Document(metadata={'source': './data/nlp-keywords.txt'}, page_content='Word2Vec'),\n",
       " Document(metadata={'source': './data/nlp-keywords.txt'}, page_content='정의: Word2Vec은 단어를 벡터 공간에 매핑하여 단어 간의 의미적 관계를 나타내는 자연어 처리 기술입니다. 이는 단어의 문맥적 유사성을 기반으로 벡터를 생성합니다.'),\n",
       " Document(metadata={'source': './data/nlp-keywords.txt'}, page_content='예시: Word2Vec 모델에서 \"왕\"과 \"여왕\"은 서로 가까운 위치에 벡터로 표현됩니다.\\n연관키워드: 자연어 처리, 임베딩, 의미론적 유사성'),\n",
       " Document(metadata={'source': './data/nlp-keywords.txt'}, page_content='LLM (Large Language Model)'),\n",
       " Document(metadata={'source': './data/nlp-keywords.txt'}, page_content='정의: LLM은 대규모의 텍스트 데이터로 훈련된 큰 규모의 언어 모델을 의미합니다. 이러한 모델은 다양한 자연어 이해 및 생성 작업에 사용됩니다.'),\n",
       " Document(metadata={'source': './data/nlp-keywords.txt'}, page_content='예시: OpenAI의 GPT 시리즈는 대표적인 대규모 언어 모델입니다.\\n연관키워드: 자연어 처리, 딥러닝, 텍스트 생성'),\n",
       " Document(metadata={'source': './data/nlp-keywords.txt'}, page_content='FAISS (Facebook AI Similarity Search)'),\n",
       " Document(metadata={'source': './data/nlp-keywords.txt'}, page_content='정의: FAISS는 페이스북에서 개발한 고속 유사성 검색 라이브러리로, 특히 대규모 벡터 집합에서 유사 벡터를 효과적으로 검색할 수 있도록 설계되었습니다.'),\n",
       " Document(metadata={'source': './data/nlp-keywords.txt'}, page_content='예시: 수백만 개의 이미지 벡터 중에서 비슷한 이미지를 빠르게 찾는 데 FAISS가 사용될 수 있습니다.\\n연관키워드: 벡터 검색, 머신러닝, 데이터베이스 최적화'),\n",
       " Document(metadata={'source': './data/nlp-keywords.txt'}, page_content='Open Source'),\n",
       " Document(metadata={'source': './data/nlp-keywords.txt'}, page_content='정의: 오픈 소스는 소스 코드가 공개되어 누구나 자유롭게 사용, 수정, 배포할 수 있는 소프트웨어를 의미합니다. 이는 협업과 혁신을 촉진하는 데 중요한 역할을 합니다.'),\n",
       " Document(metadata={'source': './data/nlp-keywords.txt'}, page_content='예시: 리눅스 운영 체제는 대표적인 오픈 소스 프로젝트입니다.\\n연관키워드: 소프트웨어 개발, 커뮤니티, 기술 협업'),\n",
       " Document(metadata={'source': './data/nlp-keywords.txt'}, page_content='Structured Data'),\n",
       " Document(metadata={'source': './data/nlp-keywords.txt'}, page_content='정의: 구조화된 데이터는 정해진 형식이나 스키마에 따라 조직된 데이터입니다. 이는 데이터베이스, 스프레드시트 등에서 쉽게 검색하고 분석할 수 있습니다.'),\n",
       " Document(metadata={'source': './data/nlp-keywords.txt'}, page_content='예시: 관계형 데이터베이스에 저장된 고객 정보 테이블은 구조화된 데이터의 예입니다.\\n연관키워드: 데이터베이스, 데이터 분석, 데이터 모델링'),\n",
       " Document(metadata={'source': './data/nlp-keywords.txt'}, page_content='Parser'),\n",
       " Document(metadata={'source': './data/nlp-keywords.txt'}, page_content='정의: 파서는 주어진 데이터(문자열, 파일 등)를 분석하여 구조화된 형태로 변환하는 도구입니다. 이는 프로그래밍 언어의 구문 분석이나 파일 데이터 처리에 사용됩니다.'),\n",
       " Document(metadata={'source': './data/nlp-keywords.txt'}, page_content='예시: HTML 문서를 구문 분석하여 웹 페이지의 DOM 구조를 생성하는 것은 파싱의 한 예입니다.\\n연관키워드: 구문 분석, 컴파일러, 데이터 처리'),\n",
       " Document(metadata={'source': './data/nlp-keywords.txt'}, page_content='TF-IDF (Term Frequency-Inverse Document Frequency)'),\n",
       " Document(metadata={'source': './data/nlp-keywords.txt'}, page_content='정의: TF-IDF는 문서 내에서 단어의 중요도를 평가하는 데 사용되는 통계적 척도입니다. 이는 문서 내 단어의 빈도와 전체 문서 집합에서 그 단어의 희소성을 고려합니다.'),\n",
       " Document(metadata={'source': './data/nlp-keywords.txt'}, page_content='예시: 많은 문서에서 자주 등장하지 않는 단어는 높은 TF-IDF 값을 가집니다.\\n연관키워드: 자연어 처리, 정보 검색, 데이터 마이닝'),\n",
       " Document(metadata={'source': './data/nlp-keywords.txt'}, page_content='Deep Learning'),\n",
       " Document(metadata={'source': './data/nlp-keywords.txt'}, page_content='정의: 딥러닝은 인공신경망을 이용하여 복잡한 문제를 해결하는 머신러닝의 한 분야입니다. 이는 데이터에서 고수준의 표현을 학습하는 데 중점을 둡니다.'),\n",
       " Document(metadata={'source': './data/nlp-keywords.txt'}, page_content='예시: 이미지 인식, 음성 인식, 자연어 처리 등에서 딥러닝 모델이 활용됩니다.\\n연관키워드: 인공신경망, 머신러닝, 데이터 분석'),\n",
       " Document(metadata={'source': './data/nlp-keywords.txt'}, page_content='Schema'),\n",
       " Document(metadata={'source': './data/nlp-keywords.txt'}, page_content='정의: 스키마는 데이터베이스나 파일의 구조를 정의하는 것으로, 데이터가 어떻게 저장되고 조직되는지에 대한 청사진을 제공합니다.'),\n",
       " Document(metadata={'source': './data/nlp-keywords.txt'}, page_content='예시: 관계형 데이터베이스의 테이블 스키마는 열 이름, 데이터 타입, 키 제약 조건 등을 정의합니다.\\n연관키워드: 데이터베이스, 데이터 모델링, 데이터 관리'),\n",
       " Document(metadata={'source': './data/nlp-keywords.txt'}, page_content='DataFrame'),\n",
       " Document(metadata={'source': './data/nlp-keywords.txt'}, page_content='정의: DataFrame은 행과 열로 이루어진 테이블 형태의 데이터 구조로, 주로 데이터 분석 및 처리에 사용됩니다.'),\n",
       " Document(metadata={'source': './data/nlp-keywords.txt'}, page_content='예시: 판다스 라이브러리에서 DataFrame은 다양한 데이터 타입의 열을 가질 수 있으며, 데이터 조작과 분석을 용이하게 합니다.'),\n",
       " Document(metadata={'source': './data/nlp-keywords.txt'}, page_content='연관키워드: 데이터 분석, 판다스, 데이터 처리'),\n",
       " Document(metadata={'source': './data/nlp-keywords.txt'}, page_content='Attention 메커니즘'),\n",
       " Document(metadata={'source': './data/nlp-keywords.txt'}, page_content=\"정의: Attention 메커니즘은 딥러닝에서 중요한 정보에 더 많은 '주의'를 기울이도록 하는 기법입니다. 이는 주로 시퀀스 데이터(예: 텍스트, 시계열 데이터)에서\"),\n",
       " Document(metadata={'source': './data/nlp-keywords.txt'}, page_content='사용됩니다.'),\n",
       " Document(metadata={'source': './data/nlp-keywords.txt'}, page_content='예시: 번역 모델에서 Attention 메커니즘은 입력 문장의 중요한 부분에 더 집중하여 정확한 번역을 생성합니다.\\n연관키워드: 딥러닝, 자연어 처리, 시퀀스 모델링'),\n",
       " Document(metadata={'source': './data/nlp-keywords.txt'}, page_content='판다스 (Pandas)'),\n",
       " Document(metadata={'source': './data/nlp-keywords.txt'}, page_content='정의: 판다스는 파이썬 프로그래밍 언어를 위한 데이터 분석 및 조작 도구를 제공하는 라이브러리입니다. 이는 데이터 분석 작업을 효율적으로 수행할 수 있게 합니다.'),\n",
       " Document(metadata={'source': './data/nlp-keywords.txt'}, page_content='예시: 판다스를 사용하여 CSV 파일을 읽고, 데이터를 정제하며, 다양한 분석을 수행할 수 있습니다.\\n연관키워드: 데이터 분석, 파이썬, 데이터 처리'),\n",
       " Document(metadata={'source': './data/nlp-keywords.txt'}, page_content='GPT (Generative Pretrained Transformer)'),\n",
       " Document(metadata={'source': './data/nlp-keywords.txt'}, page_content='정의: GPT는 대규모의 데이터셋으로 사전 훈련된 생성적 언어 모델로, 다양한 텍스트 기반 작업에 활용됩니다. 이는 입력된 텍스트에 기반하여 자연스러운 언어를 생성할 수'),\n",
       " Document(metadata={'source': './data/nlp-keywords.txt'}, page_content='있습니다.'),\n",
       " Document(metadata={'source': './data/nlp-keywords.txt'}, page_content='예시: 사용자가 제공한 질문에 대해 자세한 답변을 생성하는 챗봇은 GPT 모델을 사용할 수 있습니다.\\n연관키워드: 자연어 처리, 텍스트 생성, 딥러닝'),\n",
       " Document(metadata={'source': './data/nlp-keywords.txt'}, page_content='InstructGPT'),\n",
       " Document(metadata={'source': './data/nlp-keywords.txt'}, page_content='정의: InstructGPT는 사용자의 지시에 따라 특정한 작업을 수행하기 위해 최적화된 GPT 모델입니다. 이 모델은 보다 정확하고 관련성 높은 결과를 생성하도록'),\n",
       " Document(metadata={'source': './data/nlp-keywords.txt'}, page_content='설계되었습니다.'),\n",
       " Document(metadata={'source': './data/nlp-keywords.txt'}, page_content='예시: 사용자가 \"이메일 초안 작성\"과 같은 특정 지시를 제공하면, InstructGPT는 관련 내용을 기반으로 이메일을 작성합니다.'),\n",
       " Document(metadata={'source': './data/nlp-keywords.txt'}, page_content='연관키워드: 인공지능, 자연어 이해, 명령 기반 처리'),\n",
       " Document(metadata={'source': './data/nlp-keywords.txt'}, page_content='Keyword Search'),\n",
       " Document(metadata={'source': './data/nlp-keywords.txt'}, page_content='정의: 키워드 검색은 사용자가 입력한 키워드를 기반으로 정보를 찾는 과정입니다. 이는 대부분의 검색 엔진과 데이터베이스 시스템에서 기본적인 검색 방식으로 사용됩니다.'),\n",
       " Document(metadata={'source': './data/nlp-keywords.txt'}, page_content='예시: 사용자가 \"커피숍 서울\"이라고 검색하면, 관련된 커피숍 목록을 반환합니다.\\n연관키워드: 검색 엔진, 데이터 검색, 정보 검색'),\n",
       " Document(metadata={'source': './data/nlp-keywords.txt'}, page_content='Page Rank'),\n",
       " Document(metadata={'source': './data/nlp-keywords.txt'}, page_content='정의: 페이지 랭크는 웹 페이지의 중요도를 평가하는 알고리즘으로, 주로 검색 엔진 결과의 순위를 결정하는 데 사용됩니다. 이는 웹 페이지 간의 링크 구조를 분석하여 평가합니다.'),\n",
       " Document(metadata={'source': './data/nlp-keywords.txt'}, page_content='예시: 구글 검색 엔진은 페이지 랭크 알고리즘을 사용하여 검색 결과의 순위를 정합니다.\\n연관키워드: 검색 엔진 최적화, 웹 분석, 링크 분석'),\n",
       " Document(metadata={'source': './data/nlp-keywords.txt'}, page_content='데이터 마이닝'),\n",
       " Document(metadata={'source': './data/nlp-keywords.txt'}, page_content='정의: 데이터 마이닝은 대량의 데이터에서 유용한 정보를 발굴하는 과정입니다. 이는 통계, 머신러닝, 패턴 인식 등의 기술을 활용합니다.'),\n",
       " Document(metadata={'source': './data/nlp-keywords.txt'}, page_content='예시: 소매업체가 고객 구매 데이터를 분석하여 판매 전략을 수립하는 것은 데이터 마이닝의 예입니다.\\n연관키워드: 빅데이터, 패턴 인식, 예측 분석'),\n",
       " Document(metadata={'source': './data/nlp-keywords.txt'}, page_content='멀티모달 (Multimodal)'),\n",
       " Document(metadata={'source': './data/nlp-keywords.txt'}, page_content='정의: 멀티모달은 여러 종류의 데이터 모드(예: 텍스트, 이미지, 소리 등)를 결합하여 처리하는 기술입니다. 이는 서로 다른 형식의 데이터 간의 상호 작용을 통해 보다 풍부하고'),\n",
       " Document(metadata={'source': './data/nlp-keywords.txt'}, page_content='정확한 정보를 추출하거나 예측하는 데 사용됩니다.'),\n",
       " Document(metadata={'source': './data/nlp-keywords.txt'}, page_content='예시: 이미지와 설명 텍스트를 함께 분석하여 더 정확한 이미지 분류를 수행하는 시스템은 멀티모달 기술의 예입니다.\\n연관키워드: 데이터 융합, 인공지능, 딥러닝')]"
      ]
     },
     "execution_count": 66,
     "metadata": {},
     "output_type": "execute_result"
    }
   ],
   "source": [
    "split_doc1"
   ]
  },
  {
   "cell_type": "code",
   "execution_count": null,
   "metadata": {},
   "outputs": [
    {
     "data": {
      "text/plain": [
       "{0: 'db8994e0-8237-4d65-9e0d-823e7af7b068',\n",
       " 1: '421ec90d-766f-4785-98d4-0f76326ca7e2',\n",
       " 2: '6af03ea4-8b6f-462d-9f5d-702072446200',\n",
       " 3: 'a57fba3c-d35d-46d7-96be-034e0cda3f73',\n",
       " 4: '092adebf-a787-4d75-a1cb-cce1225f84b3',\n",
       " 5: '9ce32397-5e72-48d5-95e5-db792abb686c',\n",
       " 6: 'f068a01a-0f4f-4caf-a526-89c18091f9ec',\n",
       " 7: '364ed341-b933-4d73-a818-b7af0e6b18b7',\n",
       " 8: 'd4450c3f-9652-4bed-9c62-9e31be67dc7e',\n",
       " 9: '64ad4719-396f-4d73-96f5-e2a64aa6018e',\n",
       " 10: '7f1d6555-174f-46bf-b981-0c5801858f94',\n",
       " 11: 'da798dbf-a762-4550-81b3-c2d1579b9dbf',\n",
       " 12: '381c572f-26f7-4817-8521-7f62501a6f68',\n",
       " 13: '8127076a-b0dd-4c0d-9767-5e2ec70a1c0d',\n",
       " 14: '18143486-4e23-4bfc-86c4-5604cc8e3b42',\n",
       " 15: '5fed304b-3eb8-4f28-9b19-e1560919cf8d',\n",
       " 16: '144c426a-51a6-4254-a811-6ac29b67276b',\n",
       " 17: '5141de43-dd14-40eb-a56f-b48a4d79a3c8',\n",
       " 18: '746ea32c-2374-45f9-b1d9-89202aa4fede',\n",
       " 19: '3a388268-10a6-4e58-b848-f6e2c63e62f0',\n",
       " 20: '8a75d5d0-6967-40d2-a44c-67e0670f1649',\n",
       " 21: '40e7d443-2417-4cd1-a12b-f3228dfb9781',\n",
       " 22: '3fc2843b-2a45-46b1-9c1c-7404248dbc40',\n",
       " 23: '71e2633b-cb6e-4e6c-922e-adedf6a682c1',\n",
       " 24: '7da6e231-40d7-4d0f-9ab4-1004d6d7b6b4',\n",
       " 25: '64a1b13e-32e0-49e4-b3a9-9ab6414c45dd',\n",
       " 26: '16acfb6c-1925-46cd-b1ad-d7271fdd3b11',\n",
       " 27: '7215759d-6c27-4ebf-8574-c6c6385221ca',\n",
       " 28: 'bb94eaad-2a44-4a3a-8b20-2ff86d221975',\n",
       " 29: '8e039141-3483-4fe9-9d53-b7b8c69a7991',\n",
       " 30: '45f9d832-cf71-4449-9a31-6e0eaa93f866',\n",
       " 31: '71f71e1e-3b04-4b6c-841d-c877696525d1',\n",
       " 32: '480f9070-99e7-4744-9bf5-c1f0e424f010',\n",
       " 33: '85c2f3a1-071b-4b58-b32b-b1bdf4fe29a7',\n",
       " 34: 'd386be00-2318-466e-952b-8b00b5706dcd',\n",
       " 35: '129cd0ac-c83c-4113-a794-5b5849f526fe',\n",
       " 36: '89ab269c-a207-4e4a-9a09-f1827552d22e',\n",
       " 37: 'e363bddf-e18e-4ae7-bded-19c5fec96b41',\n",
       " 38: '2280c455-c2f3-4b0b-8ecb-66cd843df654',\n",
       " 39: 'b818e7c4-d9cf-4632-b7c6-12cd2bcf1674',\n",
       " 40: 'baed6fed-faa8-4635-9dc7-9467d684d3bb',\n",
       " 41: '1ae38a43-47e8-47be-ab39-14f69561ff8b',\n",
       " 42: '996a5597-2652-40cd-832f-865d71d5739a',\n",
       " 43: '329dedd6-a812-494b-92e2-ec012abd76cb',\n",
       " 44: '12e7950b-04f4-444b-9cac-c12ae8578b04',\n",
       " 45: 'ff7d9277-0917-4a97-96c6-5128adbe4764',\n",
       " 46: 'd10ac2b4-8136-4869-8e19-83b0be3d1e54',\n",
       " 47: '921002e8-5a9f-4595-9269-6c2175fc827a',\n",
       " 48: 'ec62986c-6fff-43af-ba0c-9f9fd360c61a',\n",
       " 49: 'c2267706-49a9-493b-a98e-b2989b1fa71a',\n",
       " 50: '9dc8c85e-0701-4e97-9a3f-447b0d4fa84a',\n",
       " 51: '4a2c71bf-4475-4c5c-858f-9b51a8424d9a',\n",
       " 52: '5f18456e-ec34-4e1a-a521-00374f7fdfae',\n",
       " 53: '97aa40af-7d3e-4573-ac0a-a4623cd2c63d',\n",
       " 54: '7164ab13-fce8-4484-b6e6-b5adc819b303',\n",
       " 55: 'c75482a4-8bab-461c-aec9-e08048a78e7c',\n",
       " 56: 'b7e69ba8-dbe8-45b5-b00e-b48518ab5f1f',\n",
       " 57: '49b41460-65d4-444c-9503-fdf987465a11',\n",
       " 58: 'fc9b5550-300c-4e94-b1c9-faa193664616',\n",
       " 59: 'd796926c-9bc4-4dfb-bdfa-9565374d2275',\n",
       " 60: 'a2fde6c3-ea09-423b-aec7-c9654978bdce',\n",
       " 61: '34ebe769-f6ab-4542-b336-bd0db1d65002',\n",
       " 62: '4c4722d1-8296-4d95-898f-745c6fe2561c',\n",
       " 63: '0b13f1f2-a66f-4425-974a-d3215246caff',\n",
       " 64: '87a96e6f-5b39-4b38-ba32-d71ae6a617d8',\n",
       " 65: 'c2adfd6b-884c-4a06-8abb-0df48d97bc66',\n",
       " 66: '3cf05612-188b-446b-992f-b6244c837113',\n",
       " 67: '119e8da5-a6e0-4f75-8088-a1137d08835d',\n",
       " 68: '9dba6003-c527-4346-9d74-c2f46b84de6d',\n",
       " 69: 'efc6d8ed-29ad-4312-828e-5892fa2ddb74',\n",
       " 70: '7b26c69a-7e65-4bf6-8769-20e5eec90866',\n",
       " 71: '849dff62-d645-456e-b9f3-e49d9bf950bc',\n",
       " 72: '45ae1515-0375-45d6-bf1c-42c1a42b25f7',\n",
       " 73: 'b3f6ee4f-dbcb-40d8-9eb8-c33990d768ca',\n",
       " 74: '94a18c78-1dd4-450b-9163-523d13cb1548',\n",
       " 75: '526e7d6b-6d1e-4ae9-826f-4f6c496c368e',\n",
       " 76: '915fcf70-5f8e-43d3-b74d-070cc4e4ff97',\n",
       " 77: '87b0fd96-5971-44ec-ba95-abde82bcd5c1',\n",
       " 78: 'a4b49924-e119-4e22-af3e-6360c5623254',\n",
       " 79: 'e99afb0d-e0ce-4404-bde5-4acbf19e80ac',\n",
       " 80: '84ac8713-7da4-4338-b0b6-be18990d47f8',\n",
       " 81: '7cfd76f8-1667-4fa2-a34e-a780261b6f7b',\n",
       " 82: '76384c2c-b6ab-4511-b792-b4e88f0fc6a9',\n",
       " 83: 'e0bc9976-14cf-41b0-8cd8-a58f44552846',\n",
       " 84: '7c8bf006-7446-49b3-9622-f3b25a206311',\n",
       " 85: '4b1070a4-272c-4dcc-b24a-9c4553430573',\n",
       " 86: '4182282d-0126-442d-82d5-1fff38cfd292',\n",
       " 87: '4534f976-530e-4365-a650-0b647d865895',\n",
       " 88: '95639640-0773-4121-8212-ba885e5f36c8',\n",
       " 89: 'cc255e11-11a8-4568-a717-df40bee5ab64',\n",
       " 90: 'ec86313b-59d9-4991-8195-392066aa9e02',\n",
       " 91: '9be030bb-e4e4-4be6-9f21-06051776f7a8',\n",
       " 92: '6b7418cf-af21-4482-b819-fcee8af8d345',\n",
       " 93: '7dba01e5-105e-4fcf-81c6-5b9c9ea29dd4',\n",
       " 94: '39b219ed-f930-4fe1-87d0-70c3e89b7d82',\n",
       " 95: '72b1c38a-be4a-4abb-84f9-7cba4bf8e0ce',\n",
       " 96: '4a667481-2e31-47d5-941d-6666d8c821f2',\n",
       " 97: 'd407533a-a6bd-4301-93fc-1b8b35d0d7c9',\n",
       " 98: '0686cb65-209d-4abe-a916-fac296f2f1e5',\n",
       " 99: '30ac1bdc-6668-4429-8925-ed9136ef55da',\n",
       " 100: '223f7c1d-2226-4915-bce9-0bd15aaacd0a'}"
      ]
     },
     "execution_count": 65,
     "metadata": {},
     "output_type": "execute_result"
    }
   ],
   "source": [
    "db.index_to_docstore_id\n",
    "# FAISS 벡터 ID와 문서 저장소 ID를 매핑하는 딕셔너리"
   ]
  },
  {
   "cell_type": "code",
   "execution_count": 67,
   "metadata": {},
   "outputs": [
    {
     "data": {
      "text/plain": [
       "{'db8994e0-8237-4d65-9e0d-823e7af7b068': Document(metadata={'source': './data/nlp-keywords.txt'}, page_content='Semantic Search'),\n",
       " '421ec90d-766f-4785-98d4-0f76326ca7e2': Document(metadata={'source': './data/nlp-keywords.txt'}, page_content='정의: 의미론적 검색은 사용자의 질의를 단순한 키워드 매칭을 넘어서 그 의미를 파악하여 관련된 결과를 반환하는 검색 방식입니다.'),\n",
       " '6af03ea4-8b6f-462d-9f5d-702072446200': Document(metadata={'source': './data/nlp-keywords.txt'}, page_content='예시: 사용자가 \"태양계 행성\"이라고 검색하면, \"목성\", \"화성\" 등과 같이 관련된 행성에 대한 정보를 반환합니다.\\n연관키워드: 자연어 처리, 검색 알고리즘, 데이터 마이닝'),\n",
       " 'a57fba3c-d35d-46d7-96be-034e0cda3f73': Document(metadata={'source': './data/nlp-keywords.txt'}, page_content='Embedding'),\n",
       " '092adebf-a787-4d75-a1cb-cce1225f84b3': Document(metadata={'source': './data/nlp-keywords.txt'}, page_content='정의: 임베딩은 단어나 문장 같은 텍스트 데이터를 저차원의 연속적인 벡터로 변환하는 과정입니다. 이를 통해 컴퓨터가 텍스트를 이해하고 처리할 수 있게 합니다.'),\n",
       " '9ce32397-5e72-48d5-95e5-db792abb686c': Document(metadata={'source': './data/nlp-keywords.txt'}, page_content='예시: \"사과\"라는 단어를 [0.65, -0.23, 0.17]과 같은 벡터로 표현합니다.\\n연관키워드: 자연어 처리, 벡터화, 딥러닝'),\n",
       " 'f068a01a-0f4f-4caf-a526-89c18091f9ec': Document(metadata={'source': './data/nlp-keywords.txt'}, page_content='Token'),\n",
       " '364ed341-b933-4d73-a818-b7af0e6b18b7': Document(metadata={'source': './data/nlp-keywords.txt'}, page_content='정의: 토큰은 텍스트를 더 작은 단위로 분할하는 것을 의미합니다. 이는 일반적으로 단어, 문장, 또는 구절일 수 있습니다.'),\n",
       " 'd4450c3f-9652-4bed-9c62-9e31be67dc7e': Document(metadata={'source': './data/nlp-keywords.txt'}, page_content='예시: 문장 \"나는 학교에 간다\"를 \"나는\", \"학교에\", \"간다\"로 분할합니다.\\n연관키워드: 토큰화, 자연어 처리, 구문 분석'),\n",
       " '64ad4719-396f-4d73-96f5-e2a64aa6018e': Document(metadata={'source': './data/nlp-keywords.txt'}, page_content='Tokenizer'),\n",
       " '7f1d6555-174f-46bf-b981-0c5801858f94': Document(metadata={'source': './data/nlp-keywords.txt'}, page_content='정의: 토크나이저는 텍스트 데이터를 토큰으로 분할하는 도구입니다. 이는 자연어 처리에서 데이터를 전처리하는 데 사용됩니다.'),\n",
       " 'da798dbf-a762-4550-81b3-c2d1579b9dbf': Document(metadata={'source': './data/nlp-keywords.txt'}, page_content='예시: \"I love programming.\"이라는 문장을 [\"I\", \"love\", \"programming\", \".\"]으로 분할합니다.'),\n",
       " '381c572f-26f7-4817-8521-7f62501a6f68': Document(metadata={'source': './data/nlp-keywords.txt'}, page_content='연관키워드: 토큰화, 자연어 처리, 구문 분석'),\n",
       " '8127076a-b0dd-4c0d-9767-5e2ec70a1c0d': Document(metadata={'source': './data/nlp-keywords.txt'}, page_content='VectorStore'),\n",
       " '18143486-4e23-4bfc-86c4-5604cc8e3b42': Document(metadata={'source': './data/nlp-keywords.txt'}, page_content='정의: 벡터스토어는 벡터 형식으로 변환된 데이터를 저장하는 시스템입니다. 이는 검색, 분류 및 기타 데이터 분석 작업에 사용됩니다.'),\n",
       " '5fed304b-3eb8-4f28-9b19-e1560919cf8d': Document(metadata={'source': './data/nlp-keywords.txt'}, page_content='예시: 단어 임베딩 벡터들을 데이터베이스에 저장하여 빠르게 접근할 수 있습니다.\\n연관키워드: 임베딩, 데이터베이스, 벡터화'),\n",
       " '144c426a-51a6-4254-a811-6ac29b67276b': Document(metadata={'source': './data/nlp-keywords.txt'}, page_content='SQL'),\n",
       " '5141de43-dd14-40eb-a56f-b48a4d79a3c8': Document(metadata={'source': './data/nlp-keywords.txt'}, page_content='정의: SQL(Structured Query Language)은 데이터베이스에서 데이터를 관리하기 위한 프로그래밍 언어입니다. 데이터 조회, 수정, 삽입, 삭제 등 다양한 작업을'),\n",
       " '746ea32c-2374-45f9-b1d9-89202aa4fede': Document(metadata={'source': './data/nlp-keywords.txt'}, page_content='수행할 수 있습니다.'),\n",
       " '3a388268-10a6-4e58-b848-f6e2c63e62f0': Document(metadata={'source': './data/nlp-keywords.txt'}, page_content='예시: SELECT * FROM users WHERE age > 18;은 18세 이상의 사용자 정보를 조회합니다.\\n연관키워드: 데이터베이스, 쿼리, 데이터 관리'),\n",
       " '8a75d5d0-6967-40d2-a44c-67e0670f1649': Document(metadata={'source': './data/nlp-keywords.txt'}, page_content='CSV'),\n",
       " '40e7d443-2417-4cd1-a12b-f3228dfb9781': Document(metadata={'source': './data/nlp-keywords.txt'}, page_content='정의: CSV(Comma-Separated Values)는 데이터를 저장하는 파일 형식으로, 각 데이터 값은 쉼표로 구분됩니다. 표 형태의 데이터를 간단하게 저장하고 교환할 때'),\n",
       " '3fc2843b-2a45-46b1-9c1c-7404248dbc40': Document(metadata={'source': './data/nlp-keywords.txt'}, page_content='사용됩니다.'),\n",
       " '71e2633b-cb6e-4e6c-922e-adedf6a682c1': Document(metadata={'source': './data/nlp-keywords.txt'}, page_content='예시: 이름, 나이, 직업이라는 헤더를 가진 CSV 파일에는 홍길동, 30, 개발자와 같은 데이터가 포함될 수 있습니다.\\n연관키워드: 데이터 형식, 파일 처리, 데이터 교환'),\n",
       " '7da6e231-40d7-4d0f-9ab4-1004d6d7b6b4': Document(metadata={'source': './data/nlp-keywords.txt'}, page_content='JSON'),\n",
       " '64a1b13e-32e0-49e4-b3a9-9ab6414c45dd': Document(metadata={'source': './data/nlp-keywords.txt'}, page_content='정의: JSON(JavaScript Object Notation)은 경량의 데이터 교환 형식으로, 사람과 기계 모두에게 읽기 쉬운 텍스트를 사용하여 데이터 객체를 표현합니다.'),\n",
       " '16acfb6c-1925-46cd-b1ad-d7271fdd3b11': Document(metadata={'source': './data/nlp-keywords.txt'}, page_content='예시: {\"이름\": \"홍길동\", \"나이\": 30, \"직업\": \"개발자\"}는 JSON 형식의 데이터입니다.\\n연관키워드: 데이터 교환, 웹 개발, API'),\n",
       " '7215759d-6c27-4ebf-8574-c6c6385221ca': Document(metadata={'source': './data/nlp-keywords.txt'}, page_content='Transformer'),\n",
       " 'bb94eaad-2a44-4a3a-8b20-2ff86d221975': Document(metadata={'source': './data/nlp-keywords.txt'}, page_content='정의: 트랜스포머는 자연어 처리에서 사용되는 딥러닝 모델의 한 유형으로, 주로 번역, 요약, 텍스트 생성 등에 사용됩니다. 이는 Attention 메커니즘을 기반으로 합니다.'),\n",
       " '8e039141-3483-4fe9-9d53-b7b8c69a7991': Document(metadata={'source': './data/nlp-keywords.txt'}, page_content='예시: 구글 번역기는 트랜스포머 모델을 사용하여 다양한 언어 간의 번역을 수행합니다.\\n연관키워드: 딥러닝, 자연어 처리, Attention'),\n",
       " '45f9d832-cf71-4449-9a31-6e0eaa93f866': Document(metadata={'source': './data/nlp-keywords.txt'}, page_content='HuggingFace'),\n",
       " '71f71e1e-3b04-4b6c-841d-c877696525d1': Document(metadata={'source': './data/nlp-keywords.txt'}, page_content='정의: HuggingFace는 자연어 처리를 위한 다양한 사전 훈련된 모델과 도구를 제공하는 라이브러리입니다. 이는 연구자와 개발자들이 쉽게 NLP 작업을 수행할 수 있도록'),\n",
       " '480f9070-99e7-4744-9bf5-c1f0e424f010': Document(metadata={'source': './data/nlp-keywords.txt'}, page_content='돕습니다.'),\n",
       " '85c2f3a1-071b-4b58-b32b-b1bdf4fe29a7': Document(metadata={'source': './data/nlp-keywords.txt'}, page_content='예시: HuggingFace의 Transformers 라이브러리를 사용하여 감정 분석, 텍스트 생성 등의 작업을 수행할 수 있습니다.'),\n",
       " 'd386be00-2318-466e-952b-8b00b5706dcd': Document(metadata={'source': './data/nlp-keywords.txt'}, page_content='연관키워드: 자연어 처리, 딥러닝, 라이브러리'),\n",
       " '129cd0ac-c83c-4113-a794-5b5849f526fe': Document(metadata={'source': './data/nlp-keywords.txt'}, page_content='Digital Transformation'),\n",
       " '89ab269c-a207-4e4a-9a09-f1827552d22e': Document(metadata={'source': './data/nlp-keywords.txt'}, page_content='정의: 디지털 변환은 기술을 활용하여 기업의 서비스, 문화, 운영을 혁신하는 과정입니다. 이는 비즈니스 모델을 개선하고 디지털 기술을 통해 경쟁력을 높이는 데 중점을 둡니다.'),\n",
       " 'e363bddf-e18e-4ae7-bded-19c5fec96b41': Document(metadata={'source': './data/nlp-keywords.txt'}, page_content='예시: 기업이 클라우드 컴퓨팅을 도입하여 데이터 저장과 처리를 혁신하는 것은 디지털 변환의 예입니다.\\n연관키워드: 혁신, 기술, 비즈니스 모델'),\n",
       " '2280c455-c2f3-4b0b-8ecb-66cd843df654': Document(metadata={'source': './data/nlp-keywords.txt'}, page_content='Crawling'),\n",
       " 'b818e7c4-d9cf-4632-b7c6-12cd2bcf1674': Document(metadata={'source': './data/nlp-keywords.txt'}, page_content='정의: 크롤링은 자동화된 방식으로 웹 페이지를 방문하여 데이터를 수집하는 과정입니다. 이는 검색 엔진 최적화나 데이터 분석에 자주 사용됩니다.'),\n",
       " 'baed6fed-faa8-4635-9dc7-9467d684d3bb': Document(metadata={'source': './data/nlp-keywords.txt'}, page_content='예시: 구글 검색 엔진이 인터넷 상의 웹사이트를 방문하여 콘텐츠를 수집하고 인덱싱하는 것이 크롤링입니다.\\n연관키워드: 데이터 수집, 웹 스크래핑, 검색 엔진'),\n",
       " '1ae38a43-47e8-47be-ab39-14f69561ff8b': Document(metadata={'source': './data/nlp-keywords.txt'}, page_content='Word2Vec'),\n",
       " '996a5597-2652-40cd-832f-865d71d5739a': Document(metadata={'source': './data/nlp-keywords.txt'}, page_content='정의: Word2Vec은 단어를 벡터 공간에 매핑하여 단어 간의 의미적 관계를 나타내는 자연어 처리 기술입니다. 이는 단어의 문맥적 유사성을 기반으로 벡터를 생성합니다.'),\n",
       " '329dedd6-a812-494b-92e2-ec012abd76cb': Document(metadata={'source': './data/nlp-keywords.txt'}, page_content='예시: Word2Vec 모델에서 \"왕\"과 \"여왕\"은 서로 가까운 위치에 벡터로 표현됩니다.\\n연관키워드: 자연어 처리, 임베딩, 의미론적 유사성'),\n",
       " '12e7950b-04f4-444b-9cac-c12ae8578b04': Document(metadata={'source': './data/nlp-keywords.txt'}, page_content='LLM (Large Language Model)'),\n",
       " 'ff7d9277-0917-4a97-96c6-5128adbe4764': Document(metadata={'source': './data/nlp-keywords.txt'}, page_content='정의: LLM은 대규모의 텍스트 데이터로 훈련된 큰 규모의 언어 모델을 의미합니다. 이러한 모델은 다양한 자연어 이해 및 생성 작업에 사용됩니다.'),\n",
       " 'd10ac2b4-8136-4869-8e19-83b0be3d1e54': Document(metadata={'source': './data/nlp-keywords.txt'}, page_content='예시: OpenAI의 GPT 시리즈는 대표적인 대규모 언어 모델입니다.\\n연관키워드: 자연어 처리, 딥러닝, 텍스트 생성'),\n",
       " '921002e8-5a9f-4595-9269-6c2175fc827a': Document(metadata={'source': './data/nlp-keywords.txt'}, page_content='FAISS (Facebook AI Similarity Search)'),\n",
       " 'ec62986c-6fff-43af-ba0c-9f9fd360c61a': Document(metadata={'source': './data/nlp-keywords.txt'}, page_content='정의: FAISS는 페이스북에서 개발한 고속 유사성 검색 라이브러리로, 특히 대규모 벡터 집합에서 유사 벡터를 효과적으로 검색할 수 있도록 설계되었습니다.'),\n",
       " 'c2267706-49a9-493b-a98e-b2989b1fa71a': Document(metadata={'source': './data/nlp-keywords.txt'}, page_content='예시: 수백만 개의 이미지 벡터 중에서 비슷한 이미지를 빠르게 찾는 데 FAISS가 사용될 수 있습니다.\\n연관키워드: 벡터 검색, 머신러닝, 데이터베이스 최적화'),\n",
       " '9dc8c85e-0701-4e97-9a3f-447b0d4fa84a': Document(metadata={'source': './data/nlp-keywords.txt'}, page_content='Open Source'),\n",
       " '4a2c71bf-4475-4c5c-858f-9b51a8424d9a': Document(metadata={'source': './data/nlp-keywords.txt'}, page_content='정의: 오픈 소스는 소스 코드가 공개되어 누구나 자유롭게 사용, 수정, 배포할 수 있는 소프트웨어를 의미합니다. 이는 협업과 혁신을 촉진하는 데 중요한 역할을 합니다.'),\n",
       " '5f18456e-ec34-4e1a-a521-00374f7fdfae': Document(metadata={'source': './data/nlp-keywords.txt'}, page_content='예시: 리눅스 운영 체제는 대표적인 오픈 소스 프로젝트입니다.\\n연관키워드: 소프트웨어 개발, 커뮤니티, 기술 협업'),\n",
       " '97aa40af-7d3e-4573-ac0a-a4623cd2c63d': Document(metadata={'source': './data/nlp-keywords.txt'}, page_content='Structured Data'),\n",
       " '7164ab13-fce8-4484-b6e6-b5adc819b303': Document(metadata={'source': './data/nlp-keywords.txt'}, page_content='정의: 구조화된 데이터는 정해진 형식이나 스키마에 따라 조직된 데이터입니다. 이는 데이터베이스, 스프레드시트 등에서 쉽게 검색하고 분석할 수 있습니다.'),\n",
       " 'c75482a4-8bab-461c-aec9-e08048a78e7c': Document(metadata={'source': './data/nlp-keywords.txt'}, page_content='예시: 관계형 데이터베이스에 저장된 고객 정보 테이블은 구조화된 데이터의 예입니다.\\n연관키워드: 데이터베이스, 데이터 분석, 데이터 모델링'),\n",
       " 'b7e69ba8-dbe8-45b5-b00e-b48518ab5f1f': Document(metadata={'source': './data/nlp-keywords.txt'}, page_content='Parser'),\n",
       " '49b41460-65d4-444c-9503-fdf987465a11': Document(metadata={'source': './data/nlp-keywords.txt'}, page_content='정의: 파서는 주어진 데이터(문자열, 파일 등)를 분석하여 구조화된 형태로 변환하는 도구입니다. 이는 프로그래밍 언어의 구문 분석이나 파일 데이터 처리에 사용됩니다.'),\n",
       " 'fc9b5550-300c-4e94-b1c9-faa193664616': Document(metadata={'source': './data/nlp-keywords.txt'}, page_content='예시: HTML 문서를 구문 분석하여 웹 페이지의 DOM 구조를 생성하는 것은 파싱의 한 예입니다.\\n연관키워드: 구문 분석, 컴파일러, 데이터 처리'),\n",
       " 'd796926c-9bc4-4dfb-bdfa-9565374d2275': Document(metadata={'source': './data/nlp-keywords.txt'}, page_content='TF-IDF (Term Frequency-Inverse Document Frequency)'),\n",
       " 'a2fde6c3-ea09-423b-aec7-c9654978bdce': Document(metadata={'source': './data/nlp-keywords.txt'}, page_content='정의: TF-IDF는 문서 내에서 단어의 중요도를 평가하는 데 사용되는 통계적 척도입니다. 이는 문서 내 단어의 빈도와 전체 문서 집합에서 그 단어의 희소성을 고려합니다.'),\n",
       " '34ebe769-f6ab-4542-b336-bd0db1d65002': Document(metadata={'source': './data/nlp-keywords.txt'}, page_content='예시: 많은 문서에서 자주 등장하지 않는 단어는 높은 TF-IDF 값을 가집니다.\\n연관키워드: 자연어 처리, 정보 검색, 데이터 마이닝'),\n",
       " '4c4722d1-8296-4d95-898f-745c6fe2561c': Document(metadata={'source': './data/nlp-keywords.txt'}, page_content='Deep Learning'),\n",
       " '0b13f1f2-a66f-4425-974a-d3215246caff': Document(metadata={'source': './data/nlp-keywords.txt'}, page_content='정의: 딥러닝은 인공신경망을 이용하여 복잡한 문제를 해결하는 머신러닝의 한 분야입니다. 이는 데이터에서 고수준의 표현을 학습하는 데 중점을 둡니다.'),\n",
       " '87a96e6f-5b39-4b38-ba32-d71ae6a617d8': Document(metadata={'source': './data/nlp-keywords.txt'}, page_content='예시: 이미지 인식, 음성 인식, 자연어 처리 등에서 딥러닝 모델이 활용됩니다.\\n연관키워드: 인공신경망, 머신러닝, 데이터 분석'),\n",
       " 'c2adfd6b-884c-4a06-8abb-0df48d97bc66': Document(metadata={'source': './data/nlp-keywords.txt'}, page_content='Schema'),\n",
       " '3cf05612-188b-446b-992f-b6244c837113': Document(metadata={'source': './data/nlp-keywords.txt'}, page_content='정의: 스키마는 데이터베이스나 파일의 구조를 정의하는 것으로, 데이터가 어떻게 저장되고 조직되는지에 대한 청사진을 제공합니다.'),\n",
       " '119e8da5-a6e0-4f75-8088-a1137d08835d': Document(metadata={'source': './data/nlp-keywords.txt'}, page_content='예시: 관계형 데이터베이스의 테이블 스키마는 열 이름, 데이터 타입, 키 제약 조건 등을 정의합니다.\\n연관키워드: 데이터베이스, 데이터 모델링, 데이터 관리'),\n",
       " '9dba6003-c527-4346-9d74-c2f46b84de6d': Document(metadata={'source': './data/nlp-keywords.txt'}, page_content='DataFrame'),\n",
       " 'efc6d8ed-29ad-4312-828e-5892fa2ddb74': Document(metadata={'source': './data/nlp-keywords.txt'}, page_content='정의: DataFrame은 행과 열로 이루어진 테이블 형태의 데이터 구조로, 주로 데이터 분석 및 처리에 사용됩니다.'),\n",
       " '7b26c69a-7e65-4bf6-8769-20e5eec90866': Document(metadata={'source': './data/nlp-keywords.txt'}, page_content='예시: 판다스 라이브러리에서 DataFrame은 다양한 데이터 타입의 열을 가질 수 있으며, 데이터 조작과 분석을 용이하게 합니다.'),\n",
       " '849dff62-d645-456e-b9f3-e49d9bf950bc': Document(metadata={'source': './data/nlp-keywords.txt'}, page_content='연관키워드: 데이터 분석, 판다스, 데이터 처리'),\n",
       " '45ae1515-0375-45d6-bf1c-42c1a42b25f7': Document(metadata={'source': './data/nlp-keywords.txt'}, page_content='Attention 메커니즘'),\n",
       " 'b3f6ee4f-dbcb-40d8-9eb8-c33990d768ca': Document(metadata={'source': './data/nlp-keywords.txt'}, page_content=\"정의: Attention 메커니즘은 딥러닝에서 중요한 정보에 더 많은 '주의'를 기울이도록 하는 기법입니다. 이는 주로 시퀀스 데이터(예: 텍스트, 시계열 데이터)에서\"),\n",
       " '94a18c78-1dd4-450b-9163-523d13cb1548': Document(metadata={'source': './data/nlp-keywords.txt'}, page_content='사용됩니다.'),\n",
       " '526e7d6b-6d1e-4ae9-826f-4f6c496c368e': Document(metadata={'source': './data/nlp-keywords.txt'}, page_content='예시: 번역 모델에서 Attention 메커니즘은 입력 문장의 중요한 부분에 더 집중하여 정확한 번역을 생성합니다.\\n연관키워드: 딥러닝, 자연어 처리, 시퀀스 모델링'),\n",
       " '915fcf70-5f8e-43d3-b74d-070cc4e4ff97': Document(metadata={'source': './data/nlp-keywords.txt'}, page_content='판다스 (Pandas)'),\n",
       " '87b0fd96-5971-44ec-ba95-abde82bcd5c1': Document(metadata={'source': './data/nlp-keywords.txt'}, page_content='정의: 판다스는 파이썬 프로그래밍 언어를 위한 데이터 분석 및 조작 도구를 제공하는 라이브러리입니다. 이는 데이터 분석 작업을 효율적으로 수행할 수 있게 합니다.'),\n",
       " 'a4b49924-e119-4e22-af3e-6360c5623254': Document(metadata={'source': './data/nlp-keywords.txt'}, page_content='예시: 판다스를 사용하여 CSV 파일을 읽고, 데이터를 정제하며, 다양한 분석을 수행할 수 있습니다.\\n연관키워드: 데이터 분석, 파이썬, 데이터 처리'),\n",
       " 'e99afb0d-e0ce-4404-bde5-4acbf19e80ac': Document(metadata={'source': './data/nlp-keywords.txt'}, page_content='GPT (Generative Pretrained Transformer)'),\n",
       " '84ac8713-7da4-4338-b0b6-be18990d47f8': Document(metadata={'source': './data/nlp-keywords.txt'}, page_content='정의: GPT는 대규모의 데이터셋으로 사전 훈련된 생성적 언어 모델로, 다양한 텍스트 기반 작업에 활용됩니다. 이는 입력된 텍스트에 기반하여 자연스러운 언어를 생성할 수'),\n",
       " '7cfd76f8-1667-4fa2-a34e-a780261b6f7b': Document(metadata={'source': './data/nlp-keywords.txt'}, page_content='있습니다.'),\n",
       " '76384c2c-b6ab-4511-b792-b4e88f0fc6a9': Document(metadata={'source': './data/nlp-keywords.txt'}, page_content='예시: 사용자가 제공한 질문에 대해 자세한 답변을 생성하는 챗봇은 GPT 모델을 사용할 수 있습니다.\\n연관키워드: 자연어 처리, 텍스트 생성, 딥러닝'),\n",
       " 'e0bc9976-14cf-41b0-8cd8-a58f44552846': Document(metadata={'source': './data/nlp-keywords.txt'}, page_content='InstructGPT'),\n",
       " '7c8bf006-7446-49b3-9622-f3b25a206311': Document(metadata={'source': './data/nlp-keywords.txt'}, page_content='정의: InstructGPT는 사용자의 지시에 따라 특정한 작업을 수행하기 위해 최적화된 GPT 모델입니다. 이 모델은 보다 정확하고 관련성 높은 결과를 생성하도록'),\n",
       " '4b1070a4-272c-4dcc-b24a-9c4553430573': Document(metadata={'source': './data/nlp-keywords.txt'}, page_content='설계되었습니다.'),\n",
       " '4182282d-0126-442d-82d5-1fff38cfd292': Document(metadata={'source': './data/nlp-keywords.txt'}, page_content='예시: 사용자가 \"이메일 초안 작성\"과 같은 특정 지시를 제공하면, InstructGPT는 관련 내용을 기반으로 이메일을 작성합니다.'),\n",
       " '4534f976-530e-4365-a650-0b647d865895': Document(metadata={'source': './data/nlp-keywords.txt'}, page_content='연관키워드: 인공지능, 자연어 이해, 명령 기반 처리'),\n",
       " '95639640-0773-4121-8212-ba885e5f36c8': Document(metadata={'source': './data/nlp-keywords.txt'}, page_content='Keyword Search'),\n",
       " 'cc255e11-11a8-4568-a717-df40bee5ab64': Document(metadata={'source': './data/nlp-keywords.txt'}, page_content='정의: 키워드 검색은 사용자가 입력한 키워드를 기반으로 정보를 찾는 과정입니다. 이는 대부분의 검색 엔진과 데이터베이스 시스템에서 기본적인 검색 방식으로 사용됩니다.'),\n",
       " 'ec86313b-59d9-4991-8195-392066aa9e02': Document(metadata={'source': './data/nlp-keywords.txt'}, page_content='예시: 사용자가 \"커피숍 서울\"이라고 검색하면, 관련된 커피숍 목록을 반환합니다.\\n연관키워드: 검색 엔진, 데이터 검색, 정보 검색'),\n",
       " '9be030bb-e4e4-4be6-9f21-06051776f7a8': Document(metadata={'source': './data/nlp-keywords.txt'}, page_content='Page Rank'),\n",
       " '6b7418cf-af21-4482-b819-fcee8af8d345': Document(metadata={'source': './data/nlp-keywords.txt'}, page_content='정의: 페이지 랭크는 웹 페이지의 중요도를 평가하는 알고리즘으로, 주로 검색 엔진 결과의 순위를 결정하는 데 사용됩니다. 이는 웹 페이지 간의 링크 구조를 분석하여 평가합니다.'),\n",
       " '7dba01e5-105e-4fcf-81c6-5b9c9ea29dd4': Document(metadata={'source': './data/nlp-keywords.txt'}, page_content='예시: 구글 검색 엔진은 페이지 랭크 알고리즘을 사용하여 검색 결과의 순위를 정합니다.\\n연관키워드: 검색 엔진 최적화, 웹 분석, 링크 분석'),\n",
       " '39b219ed-f930-4fe1-87d0-70c3e89b7d82': Document(metadata={'source': './data/nlp-keywords.txt'}, page_content='데이터 마이닝'),\n",
       " '72b1c38a-be4a-4abb-84f9-7cba4bf8e0ce': Document(metadata={'source': './data/nlp-keywords.txt'}, page_content='정의: 데이터 마이닝은 대량의 데이터에서 유용한 정보를 발굴하는 과정입니다. 이는 통계, 머신러닝, 패턴 인식 등의 기술을 활용합니다.'),\n",
       " '4a667481-2e31-47d5-941d-6666d8c821f2': Document(metadata={'source': './data/nlp-keywords.txt'}, page_content='예시: 소매업체가 고객 구매 데이터를 분석하여 판매 전략을 수립하는 것은 데이터 마이닝의 예입니다.\\n연관키워드: 빅데이터, 패턴 인식, 예측 분석'),\n",
       " 'd407533a-a6bd-4301-93fc-1b8b35d0d7c9': Document(metadata={'source': './data/nlp-keywords.txt'}, page_content='멀티모달 (Multimodal)'),\n",
       " '0686cb65-209d-4abe-a916-fac296f2f1e5': Document(metadata={'source': './data/nlp-keywords.txt'}, page_content='정의: 멀티모달은 여러 종류의 데이터 모드(예: 텍스트, 이미지, 소리 등)를 결합하여 처리하는 기술입니다. 이는 서로 다른 형식의 데이터 간의 상호 작용을 통해 보다 풍부하고'),\n",
       " '30ac1bdc-6668-4429-8925-ed9136ef55da': Document(metadata={'source': './data/nlp-keywords.txt'}, page_content='정확한 정보를 추출하거나 예측하는 데 사용됩니다.'),\n",
       " '223f7c1d-2226-4915-bce9-0bd15aaacd0a': Document(metadata={'source': './data/nlp-keywords.txt'}, page_content='예시: 이미지와 설명 텍스트를 함께 분석하여 더 정확한 이미지 분류를 수행하는 시스템은 멀티모달 기술의 예입니다.\\n연관키워드: 데이터 융합, 인공지능, 딥러닝')}"
      ]
     },
     "execution_count": 67,
     "metadata": {},
     "output_type": "execute_result"
    }
   ],
   "source": [
    "db.docstore._dict"
   ]
  },
  {
   "cell_type": "code",
   "execution_count": 69,
   "metadata": {},
   "outputs": [],
   "source": [
    "db2 = FAISS.from_texts(\n",
    "    ['안녕하세요 반갑습니다.', '제 이름은 수빈입니다.'],\n",
    "    embedding = OpenAIEmbeddings(),\n",
    "    metadatas = [{'source': '텍스트 문서1'}, {'source': '텍스트 문서2'}],\n",
    "    ids = ['doc1', 'doc2']\n",
    ")"
   ]
  },
  {
   "cell_type": "code",
   "execution_count": 70,
   "metadata": {},
   "outputs": [
    {
     "data": {
      "text/plain": [
       "{'doc1': Document(metadata={'source': '텍스트 문서1'}, page_content='안녕하세요 반갑습니다.'),\n",
       " 'doc2': Document(metadata={'source': '텍스트 문서2'}, page_content='제 이름은 수빈입니다.')}"
      ]
     },
     "execution_count": 70,
     "metadata": {},
     "output_type": "execute_result"
    }
   ],
   "source": [
    "db2.docstore._dict"
   ]
  },
  {
   "cell_type": "code",
   "execution_count": 71,
   "metadata": {},
   "outputs": [
    {
     "data": {
      "text/plain": [
       "[Document(metadata={'source': './data/nlp-keywords.txt'}, page_content='정의: TF-IDF는 문서 내에서 단어의 중요도를 평가하는 데 사용되는 통계적 척도입니다. 이는 문서 내 단어의 빈도와 전체 문서 집합에서 그 단어의 희소성을 고려합니다.'),\n",
       " Document(metadata={'source': './data/nlp-keywords.txt'}, page_content='TF-IDF (Term Frequency-Inverse Document Frequency)'),\n",
       " Document(metadata={'source': './data/nlp-keywords.txt'}, page_content='예시: 많은 문서에서 자주 등장하지 않는 단어는 높은 TF-IDF 값을 가집니다.\\n연관키워드: 자연어 처리, 정보 검색, 데이터 마이닝'),\n",
       " Document(metadata={'source': './data/nlp-keywords.txt'}, page_content='정의: Word2Vec은 단어를 벡터 공간에 매핑하여 단어 간의 의미적 관계를 나타내는 자연어 처리 기술입니다. 이는 단어의 문맥적 유사성을 기반으로 벡터를 생성합니다.')]"
      ]
     },
     "execution_count": 71,
     "metadata": {},
     "output_type": "execute_result"
    }
   ],
   "source": [
    "db.similarity_search('TF-IDF 가 뭐야?')"
   ]
  },
  {
   "cell_type": "code",
   "execution_count": 72,
   "metadata": {},
   "outputs": [
    {
     "data": {
      "text/plain": [
       "[Document(metadata={'source': './data/nlp-keywords.txt'}, page_content='정의: SQL(Structured Query Language)은 데이터베이스에서 데이터를 관리하기 위한 프로그래밍 언어입니다. 데이터 조회, 수정, 삽입, 삭제 등 다양한 작업을'),\n",
       " Document(metadata={'source': './data/nlp-keywords.txt'}, page_content='SQL')]"
      ]
     },
     "execution_count": 72,
     "metadata": {},
     "output_type": "execute_result"
    }
   ],
   "source": [
    "db.similarity_search('SQL에 대해 알려줘', k=2)"
   ]
  },
  {
   "cell_type": "code",
   "execution_count": 75,
   "metadata": {},
   "outputs": [
    {
     "data": {
      "text/plain": [
       "[Document(metadata={'source': './data/nlp-keywords.txt'}, page_content='정의: TF-IDF는 문서 내에서 단어의 중요도를 평가하는 데 사용되는 통계적 척도입니다. 이는 문서 내 단어의 빈도와 전체 문서 집합에서 그 단어의 희소성을 고려합니다.'),\n",
       " Document(metadata={'source': './data/nlp-keywords.txt'}, page_content='TF-IDF (Term Frequency-Inverse Document Frequency)')]"
      ]
     },
     "execution_count": 75,
     "metadata": {},
     "output_type": "execute_result"
    }
   ],
   "source": [
    "db.similarity_search('TF-IDF에 대해 알려줘', filter={'source': './data/nlp-keywords.txt'}, k=2)\n",
    "# 원하는 소스에서만 정보를 검색할 수 있다"
   ]
  },
  {
   "cell_type": "code",
   "execution_count": null,
   "metadata": {},
   "outputs": [
    {
     "data": {
      "text/plain": [
       "[]"
      ]
     },
     "execution_count": 74,
     "metadata": {},
     "output_type": "execute_result"
    }
   ],
   "source": [
    "db.similarity_search('TF-IDF에 대해 알려줘', filter={'source': './data/finance-keywords.txt'}, k=2)\n",
    "# 검색 내용이 없는 경우 빈 리스트가 출력된다"
   ]
  },
  {
   "cell_type": "code",
   "execution_count": 78,
   "metadata": {},
   "outputs": [
    {
     "data": {
      "text/plain": [
       "['new_doc1']"
      ]
     },
     "execution_count": 78,
     "metadata": {},
     "output_type": "execute_result"
    }
   ],
   "source": [
    "from langchain_core.documents import Document\n",
    "db.add_documents(\n",
    "    [\n",
    "        Document(\n",
    "            page_content = '좋습니다. 이번엔 새로 document를 추가해볼게요',\n",
    "            metadata = {'source': 'mydata.txt'}\n",
    "        )\n",
    "    ], \n",
    "    ids = ['new_doc1']\n",
    ")"
   ]
  },
  {
   "cell_type": "code",
   "execution_count": 81,
   "metadata": {},
   "outputs": [
    {
     "data": {
      "text/plain": [
       "[Document(metadata={'source': 'mydata.txt'}, page_content='좋습니다. 이번엔 새로 document를 추가해볼게요'),\n",
       " Document(metadata={'source': 'mydata.txt'}, page_content='좋습니다. 이번엔 새로 document를 추가해볼게요'),\n",
       " Document(metadata={'source': './data/nlp-keywords.txt'}, page_content='있습니다.')]"
      ]
     },
     "execution_count": 81,
     "metadata": {},
     "output_type": "execute_result"
    }
   ],
   "source": [
    "db.similarity_search('좋습니다', k=3)"
   ]
  },
  {
   "cell_type": "code",
   "execution_count": 82,
   "metadata": {},
   "outputs": [
    {
     "data": {
      "text/plain": [
       "['new_doc2', 'new_doc3']"
      ]
     },
     "execution_count": 82,
     "metadata": {},
     "output_type": "execute_result"
    }
   ],
   "source": [
    "db.add_texts(\n",
    "    ['이번엔 텍스트 데이터를 추가합니다.', '추가한 2번째 텍스트 데이터입니다.'],\n",
    "    metadatas = [{'source': 'mydata.txt'}, {'source': 'mydata.txt'}],\n",
    "    ids = ['new_doc2', 'new_doc3']\n",
    ")"
   ]
  },
  {
   "cell_type": "code",
   "execution_count": 83,
   "metadata": {},
   "outputs": [
    {
     "data": {
      "text/plain": [
       "[Document(metadata={'source': 'mydata.txt'}, page_content='이번엔 텍스트 데이터를 추가합니다.'),\n",
       " Document(metadata={'source': 'mydata.txt'}, page_content='추가한 2번째 텍스트 데이터입니다.'),\n",
       " Document(metadata={'source': './data/nlp-keywords.txt'}, page_content='정의: 토크나이저는 텍스트 데이터를 토큰으로 분할하는 도구입니다. 이는 자연어 처리에서 데이터를 전처리하는 데 사용됩니다.')]"
      ]
     },
     "execution_count": 83,
     "metadata": {},
     "output_type": "execute_result"
    }
   ],
   "source": [
    "db.similarity_search('텍스트 데이터', k=3)"
   ]
  },
  {
   "cell_type": "code",
   "execution_count": 84,
   "metadata": {},
   "outputs": [
    {
     "data": {
      "text/plain": [
       "{0: 'db8994e0-8237-4d65-9e0d-823e7af7b068',\n",
       " 1: '421ec90d-766f-4785-98d4-0f76326ca7e2',\n",
       " 2: '6af03ea4-8b6f-462d-9f5d-702072446200',\n",
       " 3: 'a57fba3c-d35d-46d7-96be-034e0cda3f73',\n",
       " 4: '092adebf-a787-4d75-a1cb-cce1225f84b3',\n",
       " 5: '9ce32397-5e72-48d5-95e5-db792abb686c',\n",
       " 6: 'f068a01a-0f4f-4caf-a526-89c18091f9ec',\n",
       " 7: '364ed341-b933-4d73-a818-b7af0e6b18b7',\n",
       " 8: 'd4450c3f-9652-4bed-9c62-9e31be67dc7e',\n",
       " 9: '64ad4719-396f-4d73-96f5-e2a64aa6018e',\n",
       " 10: '7f1d6555-174f-46bf-b981-0c5801858f94',\n",
       " 11: 'da798dbf-a762-4550-81b3-c2d1579b9dbf',\n",
       " 12: '381c572f-26f7-4817-8521-7f62501a6f68',\n",
       " 13: '8127076a-b0dd-4c0d-9767-5e2ec70a1c0d',\n",
       " 14: '18143486-4e23-4bfc-86c4-5604cc8e3b42',\n",
       " 15: '5fed304b-3eb8-4f28-9b19-e1560919cf8d',\n",
       " 16: '144c426a-51a6-4254-a811-6ac29b67276b',\n",
       " 17: '5141de43-dd14-40eb-a56f-b48a4d79a3c8',\n",
       " 18: '746ea32c-2374-45f9-b1d9-89202aa4fede',\n",
       " 19: '3a388268-10a6-4e58-b848-f6e2c63e62f0',\n",
       " 20: '8a75d5d0-6967-40d2-a44c-67e0670f1649',\n",
       " 21: '40e7d443-2417-4cd1-a12b-f3228dfb9781',\n",
       " 22: '3fc2843b-2a45-46b1-9c1c-7404248dbc40',\n",
       " 23: '71e2633b-cb6e-4e6c-922e-adedf6a682c1',\n",
       " 24: '7da6e231-40d7-4d0f-9ab4-1004d6d7b6b4',\n",
       " 25: '64a1b13e-32e0-49e4-b3a9-9ab6414c45dd',\n",
       " 26: '16acfb6c-1925-46cd-b1ad-d7271fdd3b11',\n",
       " 27: '7215759d-6c27-4ebf-8574-c6c6385221ca',\n",
       " 28: 'bb94eaad-2a44-4a3a-8b20-2ff86d221975',\n",
       " 29: '8e039141-3483-4fe9-9d53-b7b8c69a7991',\n",
       " 30: '45f9d832-cf71-4449-9a31-6e0eaa93f866',\n",
       " 31: '71f71e1e-3b04-4b6c-841d-c877696525d1',\n",
       " 32: '480f9070-99e7-4744-9bf5-c1f0e424f010',\n",
       " 33: '85c2f3a1-071b-4b58-b32b-b1bdf4fe29a7',\n",
       " 34: 'd386be00-2318-466e-952b-8b00b5706dcd',\n",
       " 35: '129cd0ac-c83c-4113-a794-5b5849f526fe',\n",
       " 36: '89ab269c-a207-4e4a-9a09-f1827552d22e',\n",
       " 37: 'e363bddf-e18e-4ae7-bded-19c5fec96b41',\n",
       " 38: '2280c455-c2f3-4b0b-8ecb-66cd843df654',\n",
       " 39: 'b818e7c4-d9cf-4632-b7c6-12cd2bcf1674',\n",
       " 40: 'baed6fed-faa8-4635-9dc7-9467d684d3bb',\n",
       " 41: '1ae38a43-47e8-47be-ab39-14f69561ff8b',\n",
       " 42: '996a5597-2652-40cd-832f-865d71d5739a',\n",
       " 43: '329dedd6-a812-494b-92e2-ec012abd76cb',\n",
       " 44: '12e7950b-04f4-444b-9cac-c12ae8578b04',\n",
       " 45: 'ff7d9277-0917-4a97-96c6-5128adbe4764',\n",
       " 46: 'd10ac2b4-8136-4869-8e19-83b0be3d1e54',\n",
       " 47: '921002e8-5a9f-4595-9269-6c2175fc827a',\n",
       " 48: 'ec62986c-6fff-43af-ba0c-9f9fd360c61a',\n",
       " 49: 'c2267706-49a9-493b-a98e-b2989b1fa71a',\n",
       " 50: '9dc8c85e-0701-4e97-9a3f-447b0d4fa84a',\n",
       " 51: '4a2c71bf-4475-4c5c-858f-9b51a8424d9a',\n",
       " 52: '5f18456e-ec34-4e1a-a521-00374f7fdfae',\n",
       " 53: '97aa40af-7d3e-4573-ac0a-a4623cd2c63d',\n",
       " 54: '7164ab13-fce8-4484-b6e6-b5adc819b303',\n",
       " 55: 'c75482a4-8bab-461c-aec9-e08048a78e7c',\n",
       " 56: 'b7e69ba8-dbe8-45b5-b00e-b48518ab5f1f',\n",
       " 57: '49b41460-65d4-444c-9503-fdf987465a11',\n",
       " 58: 'fc9b5550-300c-4e94-b1c9-faa193664616',\n",
       " 59: 'd796926c-9bc4-4dfb-bdfa-9565374d2275',\n",
       " 60: 'a2fde6c3-ea09-423b-aec7-c9654978bdce',\n",
       " 61: '34ebe769-f6ab-4542-b336-bd0db1d65002',\n",
       " 62: '4c4722d1-8296-4d95-898f-745c6fe2561c',\n",
       " 63: '0b13f1f2-a66f-4425-974a-d3215246caff',\n",
       " 64: '87a96e6f-5b39-4b38-ba32-d71ae6a617d8',\n",
       " 65: 'c2adfd6b-884c-4a06-8abb-0df48d97bc66',\n",
       " 66: '3cf05612-188b-446b-992f-b6244c837113',\n",
       " 67: '119e8da5-a6e0-4f75-8088-a1137d08835d',\n",
       " 68: '9dba6003-c527-4346-9d74-c2f46b84de6d',\n",
       " 69: 'efc6d8ed-29ad-4312-828e-5892fa2ddb74',\n",
       " 70: '7b26c69a-7e65-4bf6-8769-20e5eec90866',\n",
       " 71: '849dff62-d645-456e-b9f3-e49d9bf950bc',\n",
       " 72: '45ae1515-0375-45d6-bf1c-42c1a42b25f7',\n",
       " 73: 'b3f6ee4f-dbcb-40d8-9eb8-c33990d768ca',\n",
       " 74: '94a18c78-1dd4-450b-9163-523d13cb1548',\n",
       " 75: '526e7d6b-6d1e-4ae9-826f-4f6c496c368e',\n",
       " 76: '915fcf70-5f8e-43d3-b74d-070cc4e4ff97',\n",
       " 77: '87b0fd96-5971-44ec-ba95-abde82bcd5c1',\n",
       " 78: 'a4b49924-e119-4e22-af3e-6360c5623254',\n",
       " 79: 'e99afb0d-e0ce-4404-bde5-4acbf19e80ac',\n",
       " 80: '84ac8713-7da4-4338-b0b6-be18990d47f8',\n",
       " 81: '7cfd76f8-1667-4fa2-a34e-a780261b6f7b',\n",
       " 82: '76384c2c-b6ab-4511-b792-b4e88f0fc6a9',\n",
       " 83: 'e0bc9976-14cf-41b0-8cd8-a58f44552846',\n",
       " 84: '7c8bf006-7446-49b3-9622-f3b25a206311',\n",
       " 85: '4b1070a4-272c-4dcc-b24a-9c4553430573',\n",
       " 86: '4182282d-0126-442d-82d5-1fff38cfd292',\n",
       " 87: '4534f976-530e-4365-a650-0b647d865895',\n",
       " 88: '95639640-0773-4121-8212-ba885e5f36c8',\n",
       " 89: 'cc255e11-11a8-4568-a717-df40bee5ab64',\n",
       " 90: 'ec86313b-59d9-4991-8195-392066aa9e02',\n",
       " 91: '9be030bb-e4e4-4be6-9f21-06051776f7a8',\n",
       " 92: '6b7418cf-af21-4482-b819-fcee8af8d345',\n",
       " 93: '7dba01e5-105e-4fcf-81c6-5b9c9ea29dd4',\n",
       " 94: '39b219ed-f930-4fe1-87d0-70c3e89b7d82',\n",
       " 95: '72b1c38a-be4a-4abb-84f9-7cba4bf8e0ce',\n",
       " 96: '4a667481-2e31-47d5-941d-6666d8c821f2',\n",
       " 97: 'd407533a-a6bd-4301-93fc-1b8b35d0d7c9',\n",
       " 98: '0686cb65-209d-4abe-a916-fac296f2f1e5',\n",
       " 99: '30ac1bdc-6668-4429-8925-ed9136ef55da',\n",
       " 100: '223f7c1d-2226-4915-bce9-0bd15aaacd0a',\n",
       " 101: '459d97e0-8367-4e55-bd6b-fc4db44a7e48',\n",
       " 102: 'new_doc1',\n",
       " 103: 'new_doc2',\n",
       " 104: 'new_doc3'}"
      ]
     },
     "execution_count": 84,
     "metadata": {},
     "output_type": "execute_result"
    }
   ],
   "source": [
    "db.index_to_docstore_id"
   ]
  },
  {
   "cell_type": "code",
   "execution_count": 86,
   "metadata": {},
   "outputs": [
    {
     "data": {
      "text/plain": [
       "True"
      ]
     },
     "execution_count": 86,
     "metadata": {},
     "output_type": "execute_result"
    }
   ],
   "source": [
    "db.delete(['459d97e0-8367-4e55-bd6b-fc4db44a7e48'])"
   ]
  },
  {
   "cell_type": "code",
   "execution_count": 88,
   "metadata": {},
   "outputs": [
    {
     "data": {
      "text/plain": [
       "{0: 'db8994e0-8237-4d65-9e0d-823e7af7b068',\n",
       " 1: '421ec90d-766f-4785-98d4-0f76326ca7e2',\n",
       " 2: '6af03ea4-8b6f-462d-9f5d-702072446200',\n",
       " 3: 'a57fba3c-d35d-46d7-96be-034e0cda3f73',\n",
       " 4: '092adebf-a787-4d75-a1cb-cce1225f84b3',\n",
       " 5: '9ce32397-5e72-48d5-95e5-db792abb686c',\n",
       " 6: 'f068a01a-0f4f-4caf-a526-89c18091f9ec',\n",
       " 7: '364ed341-b933-4d73-a818-b7af0e6b18b7',\n",
       " 8: 'd4450c3f-9652-4bed-9c62-9e31be67dc7e',\n",
       " 9: '64ad4719-396f-4d73-96f5-e2a64aa6018e',\n",
       " 10: '7f1d6555-174f-46bf-b981-0c5801858f94',\n",
       " 11: 'da798dbf-a762-4550-81b3-c2d1579b9dbf',\n",
       " 12: '381c572f-26f7-4817-8521-7f62501a6f68',\n",
       " 13: '8127076a-b0dd-4c0d-9767-5e2ec70a1c0d',\n",
       " 14: '18143486-4e23-4bfc-86c4-5604cc8e3b42',\n",
       " 15: '5fed304b-3eb8-4f28-9b19-e1560919cf8d',\n",
       " 16: '144c426a-51a6-4254-a811-6ac29b67276b',\n",
       " 17: '5141de43-dd14-40eb-a56f-b48a4d79a3c8',\n",
       " 18: '746ea32c-2374-45f9-b1d9-89202aa4fede',\n",
       " 19: '3a388268-10a6-4e58-b848-f6e2c63e62f0',\n",
       " 20: '8a75d5d0-6967-40d2-a44c-67e0670f1649',\n",
       " 21: '40e7d443-2417-4cd1-a12b-f3228dfb9781',\n",
       " 22: '3fc2843b-2a45-46b1-9c1c-7404248dbc40',\n",
       " 23: '71e2633b-cb6e-4e6c-922e-adedf6a682c1',\n",
       " 24: '7da6e231-40d7-4d0f-9ab4-1004d6d7b6b4',\n",
       " 25: '64a1b13e-32e0-49e4-b3a9-9ab6414c45dd',\n",
       " 26: '16acfb6c-1925-46cd-b1ad-d7271fdd3b11',\n",
       " 27: '7215759d-6c27-4ebf-8574-c6c6385221ca',\n",
       " 28: 'bb94eaad-2a44-4a3a-8b20-2ff86d221975',\n",
       " 29: '8e039141-3483-4fe9-9d53-b7b8c69a7991',\n",
       " 30: '45f9d832-cf71-4449-9a31-6e0eaa93f866',\n",
       " 31: '71f71e1e-3b04-4b6c-841d-c877696525d1',\n",
       " 32: '480f9070-99e7-4744-9bf5-c1f0e424f010',\n",
       " 33: '85c2f3a1-071b-4b58-b32b-b1bdf4fe29a7',\n",
       " 34: 'd386be00-2318-466e-952b-8b00b5706dcd',\n",
       " 35: '129cd0ac-c83c-4113-a794-5b5849f526fe',\n",
       " 36: '89ab269c-a207-4e4a-9a09-f1827552d22e',\n",
       " 37: 'e363bddf-e18e-4ae7-bded-19c5fec96b41',\n",
       " 38: '2280c455-c2f3-4b0b-8ecb-66cd843df654',\n",
       " 39: 'b818e7c4-d9cf-4632-b7c6-12cd2bcf1674',\n",
       " 40: 'baed6fed-faa8-4635-9dc7-9467d684d3bb',\n",
       " 41: '1ae38a43-47e8-47be-ab39-14f69561ff8b',\n",
       " 42: '996a5597-2652-40cd-832f-865d71d5739a',\n",
       " 43: '329dedd6-a812-494b-92e2-ec012abd76cb',\n",
       " 44: '12e7950b-04f4-444b-9cac-c12ae8578b04',\n",
       " 45: 'ff7d9277-0917-4a97-96c6-5128adbe4764',\n",
       " 46: 'd10ac2b4-8136-4869-8e19-83b0be3d1e54',\n",
       " 47: '921002e8-5a9f-4595-9269-6c2175fc827a',\n",
       " 48: 'ec62986c-6fff-43af-ba0c-9f9fd360c61a',\n",
       " 49: 'c2267706-49a9-493b-a98e-b2989b1fa71a',\n",
       " 50: '9dc8c85e-0701-4e97-9a3f-447b0d4fa84a',\n",
       " 51: '4a2c71bf-4475-4c5c-858f-9b51a8424d9a',\n",
       " 52: '5f18456e-ec34-4e1a-a521-00374f7fdfae',\n",
       " 53: '97aa40af-7d3e-4573-ac0a-a4623cd2c63d',\n",
       " 54: '7164ab13-fce8-4484-b6e6-b5adc819b303',\n",
       " 55: 'c75482a4-8bab-461c-aec9-e08048a78e7c',\n",
       " 56: 'b7e69ba8-dbe8-45b5-b00e-b48518ab5f1f',\n",
       " 57: '49b41460-65d4-444c-9503-fdf987465a11',\n",
       " 58: 'fc9b5550-300c-4e94-b1c9-faa193664616',\n",
       " 59: 'd796926c-9bc4-4dfb-bdfa-9565374d2275',\n",
       " 60: 'a2fde6c3-ea09-423b-aec7-c9654978bdce',\n",
       " 61: '34ebe769-f6ab-4542-b336-bd0db1d65002',\n",
       " 62: '4c4722d1-8296-4d95-898f-745c6fe2561c',\n",
       " 63: '0b13f1f2-a66f-4425-974a-d3215246caff',\n",
       " 64: '87a96e6f-5b39-4b38-ba32-d71ae6a617d8',\n",
       " 65: 'c2adfd6b-884c-4a06-8abb-0df48d97bc66',\n",
       " 66: '3cf05612-188b-446b-992f-b6244c837113',\n",
       " 67: '119e8da5-a6e0-4f75-8088-a1137d08835d',\n",
       " 68: '9dba6003-c527-4346-9d74-c2f46b84de6d',\n",
       " 69: 'efc6d8ed-29ad-4312-828e-5892fa2ddb74',\n",
       " 70: '7b26c69a-7e65-4bf6-8769-20e5eec90866',\n",
       " 71: '849dff62-d645-456e-b9f3-e49d9bf950bc',\n",
       " 72: '45ae1515-0375-45d6-bf1c-42c1a42b25f7',\n",
       " 73: 'b3f6ee4f-dbcb-40d8-9eb8-c33990d768ca',\n",
       " 74: '94a18c78-1dd4-450b-9163-523d13cb1548',\n",
       " 75: '526e7d6b-6d1e-4ae9-826f-4f6c496c368e',\n",
       " 76: '915fcf70-5f8e-43d3-b74d-070cc4e4ff97',\n",
       " 77: '87b0fd96-5971-44ec-ba95-abde82bcd5c1',\n",
       " 78: 'a4b49924-e119-4e22-af3e-6360c5623254',\n",
       " 79: 'e99afb0d-e0ce-4404-bde5-4acbf19e80ac',\n",
       " 80: '84ac8713-7da4-4338-b0b6-be18990d47f8',\n",
       " 81: '7cfd76f8-1667-4fa2-a34e-a780261b6f7b',\n",
       " 82: '76384c2c-b6ab-4511-b792-b4e88f0fc6a9',\n",
       " 83: 'e0bc9976-14cf-41b0-8cd8-a58f44552846',\n",
       " 84: '7c8bf006-7446-49b3-9622-f3b25a206311',\n",
       " 85: '4b1070a4-272c-4dcc-b24a-9c4553430573',\n",
       " 86: '4182282d-0126-442d-82d5-1fff38cfd292',\n",
       " 87: '4534f976-530e-4365-a650-0b647d865895',\n",
       " 88: '95639640-0773-4121-8212-ba885e5f36c8',\n",
       " 89: 'cc255e11-11a8-4568-a717-df40bee5ab64',\n",
       " 90: 'ec86313b-59d9-4991-8195-392066aa9e02',\n",
       " 91: '9be030bb-e4e4-4be6-9f21-06051776f7a8',\n",
       " 92: '6b7418cf-af21-4482-b819-fcee8af8d345',\n",
       " 93: '7dba01e5-105e-4fcf-81c6-5b9c9ea29dd4',\n",
       " 94: '39b219ed-f930-4fe1-87d0-70c3e89b7d82',\n",
       " 95: '72b1c38a-be4a-4abb-84f9-7cba4bf8e0ce',\n",
       " 96: '4a667481-2e31-47d5-941d-6666d8c821f2',\n",
       " 97: 'd407533a-a6bd-4301-93fc-1b8b35d0d7c9',\n",
       " 98: '0686cb65-209d-4abe-a916-fac296f2f1e5',\n",
       " 99: '30ac1bdc-6668-4429-8925-ed9136ef55da',\n",
       " 100: '223f7c1d-2226-4915-bce9-0bd15aaacd0a',\n",
       " 101: 'new_doc1',\n",
       " 102: 'new_doc2',\n",
       " 103: 'new_doc3'}"
      ]
     },
     "execution_count": 88,
     "metadata": {},
     "output_type": "execute_result"
    }
   ],
   "source": [
    "db.index_to_docstore_id"
   ]
  },
  {
   "cell_type": "code",
   "execution_count": null,
   "metadata": {},
   "outputs": [],
   "source": [
    "db.save_local(folder_path='faiss_db', index_name='faiss_index')\n",
    "# DB 로컬 저장"
   ]
  },
  {
   "cell_type": "code",
   "execution_count": null,
   "metadata": {},
   "outputs": [],
   "source": [
    "loaded_db = FAISS.load_local(\n",
    "    folder_path='faiss_db',\n",
    "    index_name='faiss_index',\n",
    "    embeddings=embeddings,\n",
    "    allow_dangerous_deserialization=True\n",
    "    # 역직렬화의 위험성을 확인하고 사용자의 명시적 허가를 요구한다는 의미\n",
    ")"
   ]
  },
  {
   "cell_type": "code",
   "execution_count": 91,
   "metadata": {},
   "outputs": [
    {
     "data": {
      "text/plain": [
       "{0: 'db8994e0-8237-4d65-9e0d-823e7af7b068',\n",
       " 1: '421ec90d-766f-4785-98d4-0f76326ca7e2',\n",
       " 2: '6af03ea4-8b6f-462d-9f5d-702072446200',\n",
       " 3: 'a57fba3c-d35d-46d7-96be-034e0cda3f73',\n",
       " 4: '092adebf-a787-4d75-a1cb-cce1225f84b3',\n",
       " 5: '9ce32397-5e72-48d5-95e5-db792abb686c',\n",
       " 6: 'f068a01a-0f4f-4caf-a526-89c18091f9ec',\n",
       " 7: '364ed341-b933-4d73-a818-b7af0e6b18b7',\n",
       " 8: 'd4450c3f-9652-4bed-9c62-9e31be67dc7e',\n",
       " 9: '64ad4719-396f-4d73-96f5-e2a64aa6018e',\n",
       " 10: '7f1d6555-174f-46bf-b981-0c5801858f94',\n",
       " 11: 'da798dbf-a762-4550-81b3-c2d1579b9dbf',\n",
       " 12: '381c572f-26f7-4817-8521-7f62501a6f68',\n",
       " 13: '8127076a-b0dd-4c0d-9767-5e2ec70a1c0d',\n",
       " 14: '18143486-4e23-4bfc-86c4-5604cc8e3b42',\n",
       " 15: '5fed304b-3eb8-4f28-9b19-e1560919cf8d',\n",
       " 16: '144c426a-51a6-4254-a811-6ac29b67276b',\n",
       " 17: '5141de43-dd14-40eb-a56f-b48a4d79a3c8',\n",
       " 18: '746ea32c-2374-45f9-b1d9-89202aa4fede',\n",
       " 19: '3a388268-10a6-4e58-b848-f6e2c63e62f0',\n",
       " 20: '8a75d5d0-6967-40d2-a44c-67e0670f1649',\n",
       " 21: '40e7d443-2417-4cd1-a12b-f3228dfb9781',\n",
       " 22: '3fc2843b-2a45-46b1-9c1c-7404248dbc40',\n",
       " 23: '71e2633b-cb6e-4e6c-922e-adedf6a682c1',\n",
       " 24: '7da6e231-40d7-4d0f-9ab4-1004d6d7b6b4',\n",
       " 25: '64a1b13e-32e0-49e4-b3a9-9ab6414c45dd',\n",
       " 26: '16acfb6c-1925-46cd-b1ad-d7271fdd3b11',\n",
       " 27: '7215759d-6c27-4ebf-8574-c6c6385221ca',\n",
       " 28: 'bb94eaad-2a44-4a3a-8b20-2ff86d221975',\n",
       " 29: '8e039141-3483-4fe9-9d53-b7b8c69a7991',\n",
       " 30: '45f9d832-cf71-4449-9a31-6e0eaa93f866',\n",
       " 31: '71f71e1e-3b04-4b6c-841d-c877696525d1',\n",
       " 32: '480f9070-99e7-4744-9bf5-c1f0e424f010',\n",
       " 33: '85c2f3a1-071b-4b58-b32b-b1bdf4fe29a7',\n",
       " 34: 'd386be00-2318-466e-952b-8b00b5706dcd',\n",
       " 35: '129cd0ac-c83c-4113-a794-5b5849f526fe',\n",
       " 36: '89ab269c-a207-4e4a-9a09-f1827552d22e',\n",
       " 37: 'e363bddf-e18e-4ae7-bded-19c5fec96b41',\n",
       " 38: '2280c455-c2f3-4b0b-8ecb-66cd843df654',\n",
       " 39: 'b818e7c4-d9cf-4632-b7c6-12cd2bcf1674',\n",
       " 40: 'baed6fed-faa8-4635-9dc7-9467d684d3bb',\n",
       " 41: '1ae38a43-47e8-47be-ab39-14f69561ff8b',\n",
       " 42: '996a5597-2652-40cd-832f-865d71d5739a',\n",
       " 43: '329dedd6-a812-494b-92e2-ec012abd76cb',\n",
       " 44: '12e7950b-04f4-444b-9cac-c12ae8578b04',\n",
       " 45: 'ff7d9277-0917-4a97-96c6-5128adbe4764',\n",
       " 46: 'd10ac2b4-8136-4869-8e19-83b0be3d1e54',\n",
       " 47: '921002e8-5a9f-4595-9269-6c2175fc827a',\n",
       " 48: 'ec62986c-6fff-43af-ba0c-9f9fd360c61a',\n",
       " 49: 'c2267706-49a9-493b-a98e-b2989b1fa71a',\n",
       " 50: '9dc8c85e-0701-4e97-9a3f-447b0d4fa84a',\n",
       " 51: '4a2c71bf-4475-4c5c-858f-9b51a8424d9a',\n",
       " 52: '5f18456e-ec34-4e1a-a521-00374f7fdfae',\n",
       " 53: '97aa40af-7d3e-4573-ac0a-a4623cd2c63d',\n",
       " 54: '7164ab13-fce8-4484-b6e6-b5adc819b303',\n",
       " 55: 'c75482a4-8bab-461c-aec9-e08048a78e7c',\n",
       " 56: 'b7e69ba8-dbe8-45b5-b00e-b48518ab5f1f',\n",
       " 57: '49b41460-65d4-444c-9503-fdf987465a11',\n",
       " 58: 'fc9b5550-300c-4e94-b1c9-faa193664616',\n",
       " 59: 'd796926c-9bc4-4dfb-bdfa-9565374d2275',\n",
       " 60: 'a2fde6c3-ea09-423b-aec7-c9654978bdce',\n",
       " 61: '34ebe769-f6ab-4542-b336-bd0db1d65002',\n",
       " 62: '4c4722d1-8296-4d95-898f-745c6fe2561c',\n",
       " 63: '0b13f1f2-a66f-4425-974a-d3215246caff',\n",
       " 64: '87a96e6f-5b39-4b38-ba32-d71ae6a617d8',\n",
       " 65: 'c2adfd6b-884c-4a06-8abb-0df48d97bc66',\n",
       " 66: '3cf05612-188b-446b-992f-b6244c837113',\n",
       " 67: '119e8da5-a6e0-4f75-8088-a1137d08835d',\n",
       " 68: '9dba6003-c527-4346-9d74-c2f46b84de6d',\n",
       " 69: 'efc6d8ed-29ad-4312-828e-5892fa2ddb74',\n",
       " 70: '7b26c69a-7e65-4bf6-8769-20e5eec90866',\n",
       " 71: '849dff62-d645-456e-b9f3-e49d9bf950bc',\n",
       " 72: '45ae1515-0375-45d6-bf1c-42c1a42b25f7',\n",
       " 73: 'b3f6ee4f-dbcb-40d8-9eb8-c33990d768ca',\n",
       " 74: '94a18c78-1dd4-450b-9163-523d13cb1548',\n",
       " 75: '526e7d6b-6d1e-4ae9-826f-4f6c496c368e',\n",
       " 76: '915fcf70-5f8e-43d3-b74d-070cc4e4ff97',\n",
       " 77: '87b0fd96-5971-44ec-ba95-abde82bcd5c1',\n",
       " 78: 'a4b49924-e119-4e22-af3e-6360c5623254',\n",
       " 79: 'e99afb0d-e0ce-4404-bde5-4acbf19e80ac',\n",
       " 80: '84ac8713-7da4-4338-b0b6-be18990d47f8',\n",
       " 81: '7cfd76f8-1667-4fa2-a34e-a780261b6f7b',\n",
       " 82: '76384c2c-b6ab-4511-b792-b4e88f0fc6a9',\n",
       " 83: 'e0bc9976-14cf-41b0-8cd8-a58f44552846',\n",
       " 84: '7c8bf006-7446-49b3-9622-f3b25a206311',\n",
       " 85: '4b1070a4-272c-4dcc-b24a-9c4553430573',\n",
       " 86: '4182282d-0126-442d-82d5-1fff38cfd292',\n",
       " 87: '4534f976-530e-4365-a650-0b647d865895',\n",
       " 88: '95639640-0773-4121-8212-ba885e5f36c8',\n",
       " 89: 'cc255e11-11a8-4568-a717-df40bee5ab64',\n",
       " 90: 'ec86313b-59d9-4991-8195-392066aa9e02',\n",
       " 91: '9be030bb-e4e4-4be6-9f21-06051776f7a8',\n",
       " 92: '6b7418cf-af21-4482-b819-fcee8af8d345',\n",
       " 93: '7dba01e5-105e-4fcf-81c6-5b9c9ea29dd4',\n",
       " 94: '39b219ed-f930-4fe1-87d0-70c3e89b7d82',\n",
       " 95: '72b1c38a-be4a-4abb-84f9-7cba4bf8e0ce',\n",
       " 96: '4a667481-2e31-47d5-941d-6666d8c821f2',\n",
       " 97: 'd407533a-a6bd-4301-93fc-1b8b35d0d7c9',\n",
       " 98: '0686cb65-209d-4abe-a916-fac296f2f1e5',\n",
       " 99: '30ac1bdc-6668-4429-8925-ed9136ef55da',\n",
       " 100: '223f7c1d-2226-4915-bce9-0bd15aaacd0a',\n",
       " 101: 'new_doc1',\n",
       " 102: 'new_doc2',\n",
       " 103: 'new_doc3'}"
      ]
     },
     "execution_count": 91,
     "metadata": {},
     "output_type": "execute_result"
    }
   ],
   "source": [
    "loaded_db.index_to_docstore_id"
   ]
  },
  {
   "cell_type": "code",
   "execution_count": 92,
   "metadata": {},
   "outputs": [],
   "source": [
    "db2 = FAISS.from_documents(documents=split_doc2, embedding=OpenAIEmbeddings())"
   ]
  },
  {
   "cell_type": "code",
   "execution_count": 93,
   "metadata": {},
   "outputs": [
    {
     "data": {
      "text/plain": [
       "{0: '5c87fd97-1b79-468f-8db2-4dc4c4d3fea6',\n",
       " 1: '567a7320-bfd2-4f36-b11e-6aff9d444563',\n",
       " 2: '5145157e-b84d-4264-8ca1-d87710ca90a1',\n",
       " 3: 'aebdeb1c-9eb1-4d91-9653-449a852b851f',\n",
       " 4: '1a0fbeea-0acb-4cc1-9252-9d68481cbd1a',\n",
       " 5: 'df793139-662e-4937-9480-39301025ec48',\n",
       " 6: '7bb79c16-51ce-4916-984a-ad770dff011e',\n",
       " 7: '045b090c-8486-4364-81f0-7e8c51a66e65',\n",
       " 8: '07eadf62-c3b7-4583-8b9f-58996531c244',\n",
       " 9: 'af6c8e3f-41ed-4b84-9097-180f276ba677',\n",
       " 10: '4ba6043a-7a61-47c6-a9a5-0ba2edd8fe63',\n",
       " 11: '00af0119-98f8-42ee-9523-ee81866c39b4',\n",
       " 12: '520c6e50-87c6-407a-80a3-611ed49df1ee',\n",
       " 13: 'be3a01bd-11fe-4414-9d05-354456f2eb95',\n",
       " 14: 'af76aaa2-dcb6-4f98-994f-1f747b6cf835',\n",
       " 15: '2b01f132-eb3e-4b53-bdd4-9b4225d628e7',\n",
       " 16: '84e0283b-2d15-4edf-88f7-d56b365c4f79',\n",
       " 17: 'e024ce29-09f4-4b7b-b9f2-3c8f74114ec3',\n",
       " 18: 'cb4b32a3-22f8-4876-b959-d1bf0ec4cec1',\n",
       " 19: 'ed748fd9-0fdb-45f3-85ba-bc0e9c2c98f5',\n",
       " 20: 'ccd8f0f7-114e-43e3-992c-89e108e182cd',\n",
       " 21: '34e0b1ec-fb6e-4474-b2df-1f272caad76f',\n",
       " 22: 'e9c503b2-4e70-4ec5-a50d-a9d4ae5860bc',\n",
       " 23: '6d2f7714-720b-4739-bdf5-53ae142cf2d0',\n",
       " 24: '9e138e6a-2773-422d-bd4e-747fc8b819d6',\n",
       " 25: '1dce4097-31ee-407e-9da6-44acf4cd50f1',\n",
       " 26: 'e3c5881a-13e8-4df5-b70d-f58d0f95f582',\n",
       " 27: '6a59f9dd-d6e1-4e72-bf4a-5005ffa5fb0d',\n",
       " 28: 'a4816993-ef39-4158-a3fe-097a42124f8d',\n",
       " 29: '2b75b3bb-10bc-4fe2-8e4c-baaffbd20b41',\n",
       " 30: 'd0c17ae5-02a8-49bf-99ce-f6308150e61a',\n",
       " 31: '116553c7-fbf1-4661-b4b1-ca9e886bcb34',\n",
       " 32: 'fdf99771-3383-4027-9174-d91e34c9887a',\n",
       " 33: '43a00866-cdf8-4996-975f-68e3fa37c0bc',\n",
       " 34: 'bf158104-1c7b-4b86-aab3-219a810a168a',\n",
       " 35: '9b33dc04-257d-4e60-8bc6-6c0fff83a278',\n",
       " 36: '6349a3f5-d49d-4163-86e5-c4971d2f3669',\n",
       " 37: '1544425a-d042-458e-91d8-f0192f69f867',\n",
       " 38: 'a35958a0-221c-4203-a246-a76aae499460',\n",
       " 39: 'd9b7a934-37f9-4726-81e3-ad407c15bcf6',\n",
       " 40: 'b4d6feb4-d558-4e81-9668-f73de266cae3',\n",
       " 41: 'dcf1343b-8ba5-4aba-9aa4-509d9d4d1ba4',\n",
       " 42: '8dcc25cd-81ea-40e6-aa68-c412b5b5c044',\n",
       " 43: 'bb9bcad3-8dbf-4265-bf71-aeb90f6d2898',\n",
       " 44: 'f63dccd1-75d4-490e-84c0-f3ff2d973426',\n",
       " 45: '1390f2e7-6b7a-4199-afe7-279e719c840f',\n",
       " 46: '0139eda6-2fd9-4fe2-abb6-73dac837bd6e',\n",
       " 47: 'cc209978-5643-42f0-8c83-e5251a8b71fa',\n",
       " 48: '733deda5-5ed2-4ee2-b09c-6ece2d5f9877',\n",
       " 49: '52e46907-074b-4783-b8a0-23c5c1b3bd5f',\n",
       " 50: '8d4a97b2-3bcc-410f-a799-7344fdd1f9b3',\n",
       " 51: '28a89dab-d173-4c07-91a7-c5427244bdb5',\n",
       " 52: 'df3854bd-5d7b-4da4-b77e-8d6d95e5efd7',\n",
       " 53: 'd09af7cc-72d9-4cd7-acb8-3a9824384ff7',\n",
       " 54: '7d7e10f7-983a-4e29-838c-8e564b62e4fc',\n",
       " 55: '1cad505f-f277-4911-a85e-82071c80d49c',\n",
       " 56: 'e02c4b0f-8e50-4823-b622-51453bfde7e1',\n",
       " 57: 'bf7746f0-6f9e-4ad9-ba9e-946520e83e9d',\n",
       " 58: '2d64ae88-db4b-4942-9cd6-c71f84bfbe16',\n",
       " 59: '9d04e634-82b9-4a2a-a39b-34fdccc36446'}"
      ]
     },
     "execution_count": 93,
     "metadata": {},
     "output_type": "execute_result"
    }
   ],
   "source": [
    "db2.index_to_docstore_id"
   ]
  },
  {
   "cell_type": "code",
   "execution_count": 94,
   "metadata": {},
   "outputs": [],
   "source": [
    "db.merge_from(db2)"
   ]
  },
  {
   "cell_type": "code",
   "execution_count": 95,
   "metadata": {},
   "outputs": [
    {
     "data": {
      "text/plain": [
       "{0: 'db8994e0-8237-4d65-9e0d-823e7af7b068',\n",
       " 1: '421ec90d-766f-4785-98d4-0f76326ca7e2',\n",
       " 2: '6af03ea4-8b6f-462d-9f5d-702072446200',\n",
       " 3: 'a57fba3c-d35d-46d7-96be-034e0cda3f73',\n",
       " 4: '092adebf-a787-4d75-a1cb-cce1225f84b3',\n",
       " 5: '9ce32397-5e72-48d5-95e5-db792abb686c',\n",
       " 6: 'f068a01a-0f4f-4caf-a526-89c18091f9ec',\n",
       " 7: '364ed341-b933-4d73-a818-b7af0e6b18b7',\n",
       " 8: 'd4450c3f-9652-4bed-9c62-9e31be67dc7e',\n",
       " 9: '64ad4719-396f-4d73-96f5-e2a64aa6018e',\n",
       " 10: '7f1d6555-174f-46bf-b981-0c5801858f94',\n",
       " 11: 'da798dbf-a762-4550-81b3-c2d1579b9dbf',\n",
       " 12: '381c572f-26f7-4817-8521-7f62501a6f68',\n",
       " 13: '8127076a-b0dd-4c0d-9767-5e2ec70a1c0d',\n",
       " 14: '18143486-4e23-4bfc-86c4-5604cc8e3b42',\n",
       " 15: '5fed304b-3eb8-4f28-9b19-e1560919cf8d',\n",
       " 16: '144c426a-51a6-4254-a811-6ac29b67276b',\n",
       " 17: '5141de43-dd14-40eb-a56f-b48a4d79a3c8',\n",
       " 18: '746ea32c-2374-45f9-b1d9-89202aa4fede',\n",
       " 19: '3a388268-10a6-4e58-b848-f6e2c63e62f0',\n",
       " 20: '8a75d5d0-6967-40d2-a44c-67e0670f1649',\n",
       " 21: '40e7d443-2417-4cd1-a12b-f3228dfb9781',\n",
       " 22: '3fc2843b-2a45-46b1-9c1c-7404248dbc40',\n",
       " 23: '71e2633b-cb6e-4e6c-922e-adedf6a682c1',\n",
       " 24: '7da6e231-40d7-4d0f-9ab4-1004d6d7b6b4',\n",
       " 25: '64a1b13e-32e0-49e4-b3a9-9ab6414c45dd',\n",
       " 26: '16acfb6c-1925-46cd-b1ad-d7271fdd3b11',\n",
       " 27: '7215759d-6c27-4ebf-8574-c6c6385221ca',\n",
       " 28: 'bb94eaad-2a44-4a3a-8b20-2ff86d221975',\n",
       " 29: '8e039141-3483-4fe9-9d53-b7b8c69a7991',\n",
       " 30: '45f9d832-cf71-4449-9a31-6e0eaa93f866',\n",
       " 31: '71f71e1e-3b04-4b6c-841d-c877696525d1',\n",
       " 32: '480f9070-99e7-4744-9bf5-c1f0e424f010',\n",
       " 33: '85c2f3a1-071b-4b58-b32b-b1bdf4fe29a7',\n",
       " 34: 'd386be00-2318-466e-952b-8b00b5706dcd',\n",
       " 35: '129cd0ac-c83c-4113-a794-5b5849f526fe',\n",
       " 36: '89ab269c-a207-4e4a-9a09-f1827552d22e',\n",
       " 37: 'e363bddf-e18e-4ae7-bded-19c5fec96b41',\n",
       " 38: '2280c455-c2f3-4b0b-8ecb-66cd843df654',\n",
       " 39: 'b818e7c4-d9cf-4632-b7c6-12cd2bcf1674',\n",
       " 40: 'baed6fed-faa8-4635-9dc7-9467d684d3bb',\n",
       " 41: '1ae38a43-47e8-47be-ab39-14f69561ff8b',\n",
       " 42: '996a5597-2652-40cd-832f-865d71d5739a',\n",
       " 43: '329dedd6-a812-494b-92e2-ec012abd76cb',\n",
       " 44: '12e7950b-04f4-444b-9cac-c12ae8578b04',\n",
       " 45: 'ff7d9277-0917-4a97-96c6-5128adbe4764',\n",
       " 46: 'd10ac2b4-8136-4869-8e19-83b0be3d1e54',\n",
       " 47: '921002e8-5a9f-4595-9269-6c2175fc827a',\n",
       " 48: 'ec62986c-6fff-43af-ba0c-9f9fd360c61a',\n",
       " 49: 'c2267706-49a9-493b-a98e-b2989b1fa71a',\n",
       " 50: '9dc8c85e-0701-4e97-9a3f-447b0d4fa84a',\n",
       " 51: '4a2c71bf-4475-4c5c-858f-9b51a8424d9a',\n",
       " 52: '5f18456e-ec34-4e1a-a521-00374f7fdfae',\n",
       " 53: '97aa40af-7d3e-4573-ac0a-a4623cd2c63d',\n",
       " 54: '7164ab13-fce8-4484-b6e6-b5adc819b303',\n",
       " 55: 'c75482a4-8bab-461c-aec9-e08048a78e7c',\n",
       " 56: 'b7e69ba8-dbe8-45b5-b00e-b48518ab5f1f',\n",
       " 57: '49b41460-65d4-444c-9503-fdf987465a11',\n",
       " 58: 'fc9b5550-300c-4e94-b1c9-faa193664616',\n",
       " 59: 'd796926c-9bc4-4dfb-bdfa-9565374d2275',\n",
       " 60: 'a2fde6c3-ea09-423b-aec7-c9654978bdce',\n",
       " 61: '34ebe769-f6ab-4542-b336-bd0db1d65002',\n",
       " 62: '4c4722d1-8296-4d95-898f-745c6fe2561c',\n",
       " 63: '0b13f1f2-a66f-4425-974a-d3215246caff',\n",
       " 64: '87a96e6f-5b39-4b38-ba32-d71ae6a617d8',\n",
       " 65: 'c2adfd6b-884c-4a06-8abb-0df48d97bc66',\n",
       " 66: '3cf05612-188b-446b-992f-b6244c837113',\n",
       " 67: '119e8da5-a6e0-4f75-8088-a1137d08835d',\n",
       " 68: '9dba6003-c527-4346-9d74-c2f46b84de6d',\n",
       " 69: 'efc6d8ed-29ad-4312-828e-5892fa2ddb74',\n",
       " 70: '7b26c69a-7e65-4bf6-8769-20e5eec90866',\n",
       " 71: '849dff62-d645-456e-b9f3-e49d9bf950bc',\n",
       " 72: '45ae1515-0375-45d6-bf1c-42c1a42b25f7',\n",
       " 73: 'b3f6ee4f-dbcb-40d8-9eb8-c33990d768ca',\n",
       " 74: '94a18c78-1dd4-450b-9163-523d13cb1548',\n",
       " 75: '526e7d6b-6d1e-4ae9-826f-4f6c496c368e',\n",
       " 76: '915fcf70-5f8e-43d3-b74d-070cc4e4ff97',\n",
       " 77: '87b0fd96-5971-44ec-ba95-abde82bcd5c1',\n",
       " 78: 'a4b49924-e119-4e22-af3e-6360c5623254',\n",
       " 79: 'e99afb0d-e0ce-4404-bde5-4acbf19e80ac',\n",
       " 80: '84ac8713-7da4-4338-b0b6-be18990d47f8',\n",
       " 81: '7cfd76f8-1667-4fa2-a34e-a780261b6f7b',\n",
       " 82: '76384c2c-b6ab-4511-b792-b4e88f0fc6a9',\n",
       " 83: 'e0bc9976-14cf-41b0-8cd8-a58f44552846',\n",
       " 84: '7c8bf006-7446-49b3-9622-f3b25a206311',\n",
       " 85: '4b1070a4-272c-4dcc-b24a-9c4553430573',\n",
       " 86: '4182282d-0126-442d-82d5-1fff38cfd292',\n",
       " 87: '4534f976-530e-4365-a650-0b647d865895',\n",
       " 88: '95639640-0773-4121-8212-ba885e5f36c8',\n",
       " 89: 'cc255e11-11a8-4568-a717-df40bee5ab64',\n",
       " 90: 'ec86313b-59d9-4991-8195-392066aa9e02',\n",
       " 91: '9be030bb-e4e4-4be6-9f21-06051776f7a8',\n",
       " 92: '6b7418cf-af21-4482-b819-fcee8af8d345',\n",
       " 93: '7dba01e5-105e-4fcf-81c6-5b9c9ea29dd4',\n",
       " 94: '39b219ed-f930-4fe1-87d0-70c3e89b7d82',\n",
       " 95: '72b1c38a-be4a-4abb-84f9-7cba4bf8e0ce',\n",
       " 96: '4a667481-2e31-47d5-941d-6666d8c821f2',\n",
       " 97: 'd407533a-a6bd-4301-93fc-1b8b35d0d7c9',\n",
       " 98: '0686cb65-209d-4abe-a916-fac296f2f1e5',\n",
       " 99: '30ac1bdc-6668-4429-8925-ed9136ef55da',\n",
       " 100: '223f7c1d-2226-4915-bce9-0bd15aaacd0a',\n",
       " 101: 'new_doc1',\n",
       " 102: 'new_doc2',\n",
       " 103: 'new_doc3',\n",
       " 104: '5c87fd97-1b79-468f-8db2-4dc4c4d3fea6',\n",
       " 105: '567a7320-bfd2-4f36-b11e-6aff9d444563',\n",
       " 106: '5145157e-b84d-4264-8ca1-d87710ca90a1',\n",
       " 107: 'aebdeb1c-9eb1-4d91-9653-449a852b851f',\n",
       " 108: '1a0fbeea-0acb-4cc1-9252-9d68481cbd1a',\n",
       " 109: 'df793139-662e-4937-9480-39301025ec48',\n",
       " 110: '7bb79c16-51ce-4916-984a-ad770dff011e',\n",
       " 111: '045b090c-8486-4364-81f0-7e8c51a66e65',\n",
       " 112: '07eadf62-c3b7-4583-8b9f-58996531c244',\n",
       " 113: 'af6c8e3f-41ed-4b84-9097-180f276ba677',\n",
       " 114: '4ba6043a-7a61-47c6-a9a5-0ba2edd8fe63',\n",
       " 115: '00af0119-98f8-42ee-9523-ee81866c39b4',\n",
       " 116: '520c6e50-87c6-407a-80a3-611ed49df1ee',\n",
       " 117: 'be3a01bd-11fe-4414-9d05-354456f2eb95',\n",
       " 118: 'af76aaa2-dcb6-4f98-994f-1f747b6cf835',\n",
       " 119: '2b01f132-eb3e-4b53-bdd4-9b4225d628e7',\n",
       " 120: '84e0283b-2d15-4edf-88f7-d56b365c4f79',\n",
       " 121: 'e024ce29-09f4-4b7b-b9f2-3c8f74114ec3',\n",
       " 122: 'cb4b32a3-22f8-4876-b959-d1bf0ec4cec1',\n",
       " 123: 'ed748fd9-0fdb-45f3-85ba-bc0e9c2c98f5',\n",
       " 124: 'ccd8f0f7-114e-43e3-992c-89e108e182cd',\n",
       " 125: '34e0b1ec-fb6e-4474-b2df-1f272caad76f',\n",
       " 126: 'e9c503b2-4e70-4ec5-a50d-a9d4ae5860bc',\n",
       " 127: '6d2f7714-720b-4739-bdf5-53ae142cf2d0',\n",
       " 128: '9e138e6a-2773-422d-bd4e-747fc8b819d6',\n",
       " 129: '1dce4097-31ee-407e-9da6-44acf4cd50f1',\n",
       " 130: 'e3c5881a-13e8-4df5-b70d-f58d0f95f582',\n",
       " 131: '6a59f9dd-d6e1-4e72-bf4a-5005ffa5fb0d',\n",
       " 132: 'a4816993-ef39-4158-a3fe-097a42124f8d',\n",
       " 133: '2b75b3bb-10bc-4fe2-8e4c-baaffbd20b41',\n",
       " 134: 'd0c17ae5-02a8-49bf-99ce-f6308150e61a',\n",
       " 135: '116553c7-fbf1-4661-b4b1-ca9e886bcb34',\n",
       " 136: 'fdf99771-3383-4027-9174-d91e34c9887a',\n",
       " 137: '43a00866-cdf8-4996-975f-68e3fa37c0bc',\n",
       " 138: 'bf158104-1c7b-4b86-aab3-219a810a168a',\n",
       " 139: '9b33dc04-257d-4e60-8bc6-6c0fff83a278',\n",
       " 140: '6349a3f5-d49d-4163-86e5-c4971d2f3669',\n",
       " 141: '1544425a-d042-458e-91d8-f0192f69f867',\n",
       " 142: 'a35958a0-221c-4203-a246-a76aae499460',\n",
       " 143: 'd9b7a934-37f9-4726-81e3-ad407c15bcf6',\n",
       " 144: 'b4d6feb4-d558-4e81-9668-f73de266cae3',\n",
       " 145: 'dcf1343b-8ba5-4aba-9aa4-509d9d4d1ba4',\n",
       " 146: '8dcc25cd-81ea-40e6-aa68-c412b5b5c044',\n",
       " 147: 'bb9bcad3-8dbf-4265-bf71-aeb90f6d2898',\n",
       " 148: 'f63dccd1-75d4-490e-84c0-f3ff2d973426',\n",
       " 149: '1390f2e7-6b7a-4199-afe7-279e719c840f',\n",
       " 150: '0139eda6-2fd9-4fe2-abb6-73dac837bd6e',\n",
       " 151: 'cc209978-5643-42f0-8c83-e5251a8b71fa',\n",
       " 152: '733deda5-5ed2-4ee2-b09c-6ece2d5f9877',\n",
       " 153: '52e46907-074b-4783-b8a0-23c5c1b3bd5f',\n",
       " 154: '8d4a97b2-3bcc-410f-a799-7344fdd1f9b3',\n",
       " 155: '28a89dab-d173-4c07-91a7-c5427244bdb5',\n",
       " 156: 'df3854bd-5d7b-4da4-b77e-8d6d95e5efd7',\n",
       " 157: 'd09af7cc-72d9-4cd7-acb8-3a9824384ff7',\n",
       " 158: '7d7e10f7-983a-4e29-838c-8e564b62e4fc',\n",
       " 159: '1cad505f-f277-4911-a85e-82071c80d49c',\n",
       " 160: 'e02c4b0f-8e50-4823-b622-51453bfde7e1',\n",
       " 161: 'bf7746f0-6f9e-4ad9-ba9e-946520e83e9d',\n",
       " 162: '2d64ae88-db4b-4942-9cd6-c71f84bfbe16',\n",
       " 163: '9d04e634-82b9-4a2a-a39b-34fdccc36446'}"
      ]
     },
     "execution_count": 95,
     "metadata": {},
     "output_type": "execute_result"
    }
   ],
   "source": [
    "db.index_to_docstore_id"
   ]
  },
  {
   "cell_type": "code",
   "execution_count": 96,
   "metadata": {},
   "outputs": [],
   "source": [
    "db = FAISS.from_documents(\n",
    "    documents = split_doc1 + split_doc2, embedding=OpenAIEmbeddings()\n",
    ")"
   ]
  },
  {
   "cell_type": "code",
   "execution_count": 97,
   "metadata": {},
   "outputs": [
    {
     "data": {
      "text/plain": [
       "{0: 'ed8f34b5-b0b0-478a-aab4-89f8d26ea142',\n",
       " 1: 'de68903f-1d0d-4212-b768-d3eb9378e3b9',\n",
       " 2: '1cae6014-5f26-40a5-ae74-cecd1ed93658',\n",
       " 3: '51dea07b-7f80-40a5-9e7a-67b1f93695f4',\n",
       " 4: '6329059b-c607-4786-a84c-884d40d09745',\n",
       " 5: '524d00a6-024e-4230-8a1b-f6c3cea521ef',\n",
       " 6: '89016c43-1d9a-4eee-8466-c5c9553b9b3b',\n",
       " 7: 'c24add72-2c29-4c44-ad7f-5bac4d7926f4',\n",
       " 8: 'dbe10fda-434a-4007-8608-6f88a4ad4538',\n",
       " 9: '828323db-0747-4d3c-a24c-5f89e1a079e2',\n",
       " 10: '18d5b4d0-2adc-42a9-a70e-83fe99bb56f0',\n",
       " 11: 'be14e80c-49f8-45ec-aa5e-3e64b2380378',\n",
       " 12: '22734a6d-8d93-41d5-bc01-73e84e898f96',\n",
       " 13: 'd178bfc5-141b-4aa3-9411-59c97ede6bb4',\n",
       " 14: 'b9a3d974-fd8a-44a2-a7c9-6ed20d2c9581',\n",
       " 15: 'a8e36864-2a92-4097-b0bd-d629bd8d44a8',\n",
       " 16: '6bd041a6-d3c1-48a2-8de5-7e6c671cf6b8',\n",
       " 17: '8ef3e2a9-7b74-4130-b67a-0a0574fce3cd',\n",
       " 18: 'a1629709-7ac0-41d3-9141-95789847f561',\n",
       " 19: 'c1132828-5925-4c31-bbcc-fa5e051d1fd2',\n",
       " 20: 'ae9d4b21-6a4b-4a36-aaeb-aa0ddbeab1fd',\n",
       " 21: '0c2f9562-5195-4907-b2fa-420f98f0a88d',\n",
       " 22: '3064e5ba-0af1-4457-8983-aa6eef89c875',\n",
       " 23: '72df8184-c830-4afe-89bd-51ac0ecd3e13',\n",
       " 24: 'c0e9e99b-bb73-4e5f-a8bb-f92d7e990233',\n",
       " 25: '5a1f1713-b389-486c-9a8a-1219e1e3606c',\n",
       " 26: '667e0404-a9ef-48dc-b52f-3c49ca462d0e',\n",
       " 27: 'f35a417c-927a-43b6-97c5-fc894e30aa28',\n",
       " 28: 'cea3ec5d-7df1-4829-a32c-39621638d969',\n",
       " 29: '52d74aca-e1c2-4afb-a474-7883b7cba8f6',\n",
       " 30: 'e0267e33-8558-4ce2-a6ad-8f3556f53f41',\n",
       " 31: 'b257087b-71e0-4a47-ba8c-7760d6538a40',\n",
       " 32: 'f5af1dbd-ca4e-4deb-9677-5fdadba8eaa6',\n",
       " 33: 'fbead945-85c8-447a-9b26-8b58f04ad1cb',\n",
       " 34: '2f23b8ca-1a09-479f-8082-f06c35897b04',\n",
       " 35: 'f9ac84f2-eb40-41d4-a3cc-ccadf93b91f6',\n",
       " 36: 'f4c6e780-8a0a-4c9b-85ab-e035d1a58f08',\n",
       " 37: '241c0ae0-a10b-4188-a2df-20d7fb644f43',\n",
       " 38: '9bcb4439-37f4-42ee-a88c-4d544a3fc896',\n",
       " 39: '6f79507c-e7af-442b-9768-47a9771198d1',\n",
       " 40: '4e358bb0-1000-4cf1-8f16-a103521c1989',\n",
       " 41: '9cac43a0-1f58-4906-9586-35892fc13b63',\n",
       " 42: '42ec42bd-ba86-43ac-b0c8-316771e7805b',\n",
       " 43: 'ebb416f0-8c0c-46f9-b2fa-daf46dbe0655',\n",
       " 44: 'c71cd2c1-3d49-4c4b-bb6a-8c3a242fb52d',\n",
       " 45: 'ecf73f4c-f20d-4176-8a56-cddf1a3dd0a5',\n",
       " 46: 'ec9ac3a2-40fa-45ad-b6ef-1343f7f79817',\n",
       " 47: '6a40f4e8-573c-4778-b4d3-60024d6d1e43',\n",
       " 48: '551da101-8111-4055-b31d-d42db0fd8e3a',\n",
       " 49: 'ed364d81-2542-41be-a4b2-6ef015e8075a',\n",
       " 50: '6ea29587-5d14-4b3d-8919-47d3dd350374',\n",
       " 51: '3493af6b-a143-437c-a7a2-514450c0ef8e',\n",
       " 52: '59a3dcda-1cc4-401c-9201-934fb15f5ebe',\n",
       " 53: 'f9d1ac34-4d51-48f9-bc34-85d25f2c8900',\n",
       " 54: '9c4918d9-3317-4c55-91cd-753d1006e6f5',\n",
       " 55: '3ce3c5fc-1b1d-41c2-b373-a47e0b08982c',\n",
       " 56: '6e05321b-05f2-4e09-9e6c-5afd7ab939ab',\n",
       " 57: '594557df-56f8-4e38-ac05-90b1c476a0a3',\n",
       " 58: 'f40cd12a-53c0-4db9-b257-0faa12318605',\n",
       " 59: 'e2c80a43-f4e5-4778-b17b-cd871c842a07',\n",
       " 60: 'e66a94f9-0670-4277-b8d9-92abef3df1d1',\n",
       " 61: '1d1c3dd6-81b6-433b-92df-4a559ed5522f',\n",
       " 62: '30329fb5-f92f-4e0a-bf70-52b56db9d7e4',\n",
       " 63: 'eb77a6cd-0739-4951-af1a-c601a9da3b44',\n",
       " 64: '4a65f902-330c-4028-a9d3-11d8ed521d53',\n",
       " 65: 'f0090269-18bf-408f-84dd-99093cd52c27',\n",
       " 66: '519f3809-db97-4f83-ade3-1d249b93a29d',\n",
       " 67: '4e22ac3b-5588-464b-8544-81725a5f1168',\n",
       " 68: 'fcf6ed42-fa4e-41f6-a1ba-e73bdf165e0b',\n",
       " 69: '7d0de0e5-c136-44b1-83e9-bd5bff5b5493',\n",
       " 70: '0c2552f4-084a-4537-8236-cf237492e99b',\n",
       " 71: '909ff132-1566-4953-91b4-8575fb749de0',\n",
       " 72: 'adf7bcbe-bd72-4fc5-80c9-03397bc6edc4',\n",
       " 73: '977d45e4-47e2-4f4b-8bfb-586d7396e46e',\n",
       " 74: '53f0f2f0-ca71-4236-9c02-06f18587713b',\n",
       " 75: '80d776ac-fea9-498f-8aa0-8d3865150ec7',\n",
       " 76: '8152c353-4487-4b23-a76b-bb0341ddfc00',\n",
       " 77: '6238affd-bf7c-4da6-bf76-65597dd26b42',\n",
       " 78: '47ca8d5f-4236-46b3-8074-a93cd7b85fbf',\n",
       " 79: '02b9daf7-e8f2-492b-9092-290815ea38a1',\n",
       " 80: '109a47ca-85f9-4e31-87ce-96a31264b021',\n",
       " 81: '3a455ddb-2caf-4db9-8f34-bdb2a0d4f737',\n",
       " 82: 'a531fba5-a1b8-49b1-b43b-70427f853f09',\n",
       " 83: 'fc0d6e05-5a58-400f-9ba6-47ea62413c2d',\n",
       " 84: 'def53440-0a84-40d7-932a-8e5af139a608',\n",
       " 85: 'a9af734f-efe9-46d7-a905-02fa0112f038',\n",
       " 86: '62f09885-1f68-4b51-9301-61e746bd7208',\n",
       " 87: '6665752d-c21e-4f4a-be24-f2b75acc5473',\n",
       " 88: '064efcaf-8399-4a19-b9b4-56a329300c17',\n",
       " 89: 'a5cfda24-eadc-453b-856b-41c508560940',\n",
       " 90: '304f39fa-1470-47bd-b6f2-62c7131df09a',\n",
       " 91: '1e23a543-ec22-4e40-87cf-4c9ee66fb054',\n",
       " 92: '92f5dabb-b702-48a3-91f9-522948beda8b',\n",
       " 93: '37d2cd53-46b4-436c-985e-fb1be00e25e4',\n",
       " 94: '43d8d62b-0325-4e65-8b0e-32359dd7e264',\n",
       " 95: 'def189cc-c625-4ec6-8706-344ea417a28a',\n",
       " 96: '73b7a962-1d40-403f-acbd-668ff181274c',\n",
       " 97: '8a3a9092-1110-47de-920d-20082ed5c244',\n",
       " 98: '747ac9b6-48e4-4d06-816d-61feebc41933',\n",
       " 99: '9ba9e0ca-f8b5-4ea6-807b-2e952b40c928',\n",
       " 100: '89df19bd-6403-41f6-b7dd-c6e90b289f77',\n",
       " 101: '7179a10b-beaa-4379-89a2-9fae20c94a8e',\n",
       " 102: '3fcc1d17-e883-4d70-bc7d-e28f6247bd88',\n",
       " 103: '73e1e086-74e8-41da-93c9-139bdf20083d',\n",
       " 104: '0bc3ab04-71c1-46a8-a6dd-4a696a8d627e',\n",
       " 105: 'dc01275b-fd22-4409-9ed0-8c910af530a6',\n",
       " 106: '5f2d1bfc-b4fd-4f47-8165-6a24a6880ba6',\n",
       " 107: 'dfc7fd3a-34e9-48a4-a1e6-85624c623807',\n",
       " 108: '585ad965-b182-43c5-818e-ac51d6873651',\n",
       " 109: '321e0e9c-72ab-4766-a1a1-5d1a2e77ce31',\n",
       " 110: '9a2c619b-740c-46d2-9db9-9cbaa9ec9f84',\n",
       " 111: '49d1272d-d223-49b4-a2ce-c88b54cd117f',\n",
       " 112: '7d574f43-c4fc-40d3-a39a-e5db40732ddb',\n",
       " 113: '34469b1e-c419-4f9a-8b13-e86683c36451',\n",
       " 114: 'bdea82e4-f6f4-48c1-89ac-186b0cbff26f',\n",
       " 115: '1557242f-b321-4245-a5b4-72b73516802f',\n",
       " 116: 'caa6fa22-d93e-4d5f-8cf3-d84f029e581d',\n",
       " 117: 'a57ee003-5c99-4358-8c08-2caad226b56d',\n",
       " 118: '2fe98094-10dd-4ecf-98ab-0b6a5030f3b8',\n",
       " 119: '9d70e1c1-904c-406e-812d-190fe3c51e76',\n",
       " 120: 'a2e07621-a280-4048-8b59-472d0a7888e9',\n",
       " 121: '12e77dc9-cf39-4c45-b253-fbba72d5aad2',\n",
       " 122: '47dcfc89-8e23-4d33-9ec7-70301a10db10',\n",
       " 123: 'd4a40120-9298-40b5-bfa3-03cb6845aef7',\n",
       " 124: 'c95e69e1-d05d-4eee-aea4-1c8a8fc727d8',\n",
       " 125: 'd8150451-da3e-4d6e-ac7c-c9e81c5ea210',\n",
       " 126: '5bb2c6d2-ad2f-4854-8051-6151aeb45fc9',\n",
       " 127: 'd8ab9a59-270e-4e7c-a894-4d1a9e4bcc55',\n",
       " 128: '9a5090fd-5adb-4813-8845-a04b808d0620',\n",
       " 129: '4dcb16bb-7c64-4cbf-bf19-9bededcbfb10',\n",
       " 130: '8519fd18-8822-4d26-a7c2-370a6f955fcf',\n",
       " 131: 'dbd1e653-1e1a-44f3-b46d-7069ed79b901',\n",
       " 132: '4a584f43-5e8e-4719-9443-27b6d9f47312',\n",
       " 133: '2e213514-7c71-41d9-886b-0f7d8e2953b1',\n",
       " 134: 'c1ff4ffa-6aa1-4753-9513-e605c98b427a',\n",
       " 135: '0c696238-44c8-4a15-b969-55e1d4516d37',\n",
       " 136: '4fc2278f-f7fc-496d-967a-589b9c0fb7f7',\n",
       " 137: '431b0839-bbe1-48cd-942f-6b76b2cb8045',\n",
       " 138: 'd67a4cae-f7d4-47ac-ad39-f4ed08fe90c3',\n",
       " 139: '49e2cff0-124f-467e-86e7-dcfa1b01661e',\n",
       " 140: 'bbac35da-cf57-4e15-895c-ee673277c57f',\n",
       " 141: 'f04b6005-5396-4d25-b621-39ba8f135277',\n",
       " 142: '12375064-699a-4ded-90f6-d6be7bb087e9',\n",
       " 143: '7916d3fd-2752-4dfd-90dc-5daee22371dc',\n",
       " 144: 'cb71d187-8fe6-4060-b759-a0f64bdc6750',\n",
       " 145: 'd560f08b-76dc-4296-83f5-777935681f37',\n",
       " 146: 'f25c31ae-644a-43d9-9124-f0b631fdc188',\n",
       " 147: 'd329817e-891a-42d9-aa15-d6d4143deb21',\n",
       " 148: 'a6a40138-297d-4ce6-88d6-446fc44551b7',\n",
       " 149: '4872783f-0924-4aab-9023-358f348d7253',\n",
       " 150: '3da142de-647a-4eaf-b8d7-d0582bbcb80d',\n",
       " 151: '30c7ba83-dbb5-4f00-84e2-8895a993741e',\n",
       " 152: '542f96ad-544e-40cf-ba00-afe33ed515bf',\n",
       " 153: '34e575dd-7aa9-4ef5-a651-ddbf3be702c1',\n",
       " 154: '4740679d-c2d4-44ff-b431-01103fdb4ca8',\n",
       " 155: '47267ac4-5af4-4db6-9c3b-374a11cd439e',\n",
       " 156: '59186747-216f-46e5-8e46-4753500dafb0',\n",
       " 157: '7a5c2352-1c01-485f-ae91-e9bd0a099920',\n",
       " 158: 'bf619832-9892-4ecb-837d-cee4fc9371d1',\n",
       " 159: 'da70b206-bd29-435e-b065-05fe0a89f598',\n",
       " 160: 'cab17b82-5708-441d-88dc-a335e0072778'}"
      ]
     },
     "execution_count": 97,
     "metadata": {},
     "output_type": "execute_result"
    }
   ],
   "source": [
    "db.index_to_docstore_id"
   ]
  },
  {
   "cell_type": "code",
   "execution_count": 98,
   "metadata": {},
   "outputs": [],
   "source": [
    "retriever = db.as_retriever()"
   ]
  },
  {
   "cell_type": "code",
   "execution_count": 99,
   "metadata": {},
   "outputs": [
    {
     "data": {
      "text/plain": [
       "[Document(metadata={'source': './data/nlp-keywords.txt'}, page_content='Word2Vec'),\n",
       " Document(metadata={'source': './data/nlp-keywords.txt'}, page_content='정의: Word2Vec은 단어를 벡터 공간에 매핑하여 단어 간의 의미적 관계를 나타내는 자연어 처리 기술입니다. 이는 단어의 문맥적 유사성을 기반으로 벡터를 생성합니다.'),\n",
       " Document(metadata={'source': './data/nlp-keywords.txt'}, page_content='예시: Word2Vec 모델에서 \"왕\"과 \"여왕\"은 서로 가까운 위치에 벡터로 표현됩니다.\\n연관키워드: 자연어 처리, 임베딩, 의미론적 유사성'),\n",
       " Document(metadata={'source': './data/nlp-keywords.txt'}, page_content='정의: 임베딩은 단어나 문장 같은 텍스트 데이터를 저차원의 연속적인 벡터로 변환하는 과정입니다. 이를 통해 컴퓨터가 텍스트를 이해하고 처리할 수 있게 합니다.')]"
      ]
     },
     "execution_count": 99,
     "metadata": {},
     "output_type": "execute_result"
    }
   ],
   "source": [
    "retriever.invoke('Word2Vec에 대해 알려줘')"
   ]
  },
  {
   "cell_type": "code",
   "execution_count": null,
   "metadata": {},
   "outputs": [],
   "source": [
    "retriever = db.as_retriever(\n",
    "    search_type = 'mmr', search_kwargs = {'k': 5, 'lambda_mult': 0.25, 'fetch_k': 10}\n",
    ")\n",
    "# MMR 검색: 유사성과 다양성을 균형있게 고려하여 검색 결과를 반환하는 검색 방법\n",
    "# lambda_mult (0에 가까울수록 유사성을 더 중시하고. 1에 가까울수록 다양성을 더 고려)\n",
    "# fetch_k: 관련 데이터를 몇 개나 가져올지"
   ]
  },
  {
   "cell_type": "code",
   "execution_count": 101,
   "metadata": {},
   "outputs": [
    {
     "data": {
      "text/plain": [
       "[Document(metadata={'source': './data/nlp-keywords.txt'}, page_content='Word2Vec'),\n",
       " Document(metadata={'source': './data/nlp-keywords.txt'}, page_content='정확한 정보를 추출하거나 예측하는 데 사용됩니다.'),\n",
       " Document(metadata={'source': './data/nlp-keywords.txt'}, page_content='예시: \"사과\"라는 단어를 [0.65, -0.23, 0.17]과 같은 벡터로 표현합니다.\\n연관키워드: 자연어 처리, 벡터화, 딥러닝'),\n",
       " Document(metadata={'source': './data/nlp-keywords.txt'}, page_content='정의: 트랜스포머는 자연어 처리에서 사용되는 딥러닝 모델의 한 유형으로, 주로 번역, 요약, 텍스트 생성 등에 사용됩니다. 이는 Attention 메커니즘을 기반으로 합니다.'),\n",
       " Document(metadata={'source': './data/nlp-keywords.txt'}, page_content='정의: Word2Vec은 단어를 벡터 공간에 매핑하여 단어 간의 의미적 관계를 나타내는 자연어 처리 기술입니다. 이는 단어의 문맥적 유사성을 기반으로 벡터를 생성합니다.')]"
      ]
     },
     "execution_count": 101,
     "metadata": {},
     "output_type": "execute_result"
    }
   ],
   "source": [
    "retriever.invoke('Word2Vec에 대해 알려줘')"
   ]
  },
  {
   "cell_type": "code",
   "execution_count": 104,
   "metadata": {},
   "outputs": [
    {
     "data": {
      "text/plain": [
       "[Document(metadata={'source': './data/nlp-keywords.txt'}, page_content='Word2Vec'),\n",
       " Document(metadata={'source': './data/nlp-keywords.txt'}, page_content='정확한 정보를 추출하거나 예측하는 데 사용됩니다.')]"
      ]
     },
     "execution_count": 104,
     "metadata": {},
     "output_type": "execute_result"
    }
   ],
   "source": [
    "retriever = db.as_retriever(\n",
    "    search_type = 'mmr', search_kwargs = {'k': 2, 'fetch_k': 10}\n",
    ")\n",
    "retriever.invoke('Word2Vec에 대해 알려줘')"
   ]
  },
  {
   "cell_type": "code",
   "execution_count": null,
   "metadata": {},
   "outputs": [
    {
     "data": {
      "text/plain": [
       "[Document(metadata={'source': './data/nlp-keywords.txt'}, page_content='Word2Vec'),\n",
       " Document(metadata={'source': './data/nlp-keywords.txt'}, page_content='정의: Word2Vec은 단어를 벡터 공간에 매핑하여 단어 간의 의미적 관계를 나타내는 자연어 처리 기술입니다. 이는 단어의 문맥적 유사성을 기반으로 벡터를 생성합니다.'),\n",
       " Document(metadata={'source': './data/nlp-keywords.txt'}, page_content='예시: Word2Vec 모델에서 \"왕\"과 \"여왕\"은 서로 가까운 위치에 벡터로 표현됩니다.\\n연관키워드: 자연어 처리, 임베딩, 의미론적 유사성')]"
      ]
     },
     "execution_count": 105,
     "metadata": {},
     "output_type": "execute_result"
    }
   ],
   "source": [
    "retriever = db.as_retriever(\n",
    "    search_type = 'similarity_score_threshold', search_kwargs = {'score_threshold': 0.8}\n",
    "    # 유사도 점수 기반\n",
    "    # 검색된 문서의 유사도 점수가 기준 값인 score_threshold 이상일 경우만 결과에 포함\n",
    ")\n",
    "retriever.invoke('Word2Vec에 대해 알려줘')"
   ]
  },
  {
   "cell_type": "code",
   "execution_count": 106,
   "metadata": {},
   "outputs": [
    {
     "data": {
      "text/plain": [
       "[Document(metadata={'source': './data/finance-keywords.txt'}, page_content='Growth Stock'),\n",
       " Document(metadata={'source': './data/finance-keywords.txt'}, page_content='정의: 성장주는 평균 이상의 높은 성장률을 보이는 기업의 주식을 의미합니다.\\n예시: 페이스북(메타)과 같은 기술 기업들은 S&P 500에 포함된 대표적인 성장주로 꼽힙니다.')]"
      ]
     },
     "execution_count": 106,
     "metadata": {},
     "output_type": "execute_result"
    }
   ],
   "source": [
    "retriever = db.as_retriever(search_kwargs = {'filter': {'source': './data/finance-keywords.txt'}, 'k': 2})\n",
    "retriever.invoke('Growth Stock에 대해 알려줘')"
   ]
  },
  {
   "cell_type": "code",
   "execution_count": 107,
   "metadata": {},
   "outputs": [
    {
     "name": "stderr",
     "output_type": "stream",
     "text": [
      "USER_AGENT environment variable not set, consider setting it to identify your requests.\n"
     ]
    }
   ],
   "source": [
    "import bs4\n",
    "from langchain_text_splitters import RecursiveCharacterTextSplitter\n",
    "from langchain_community.document_loaders import WebBaseLoader\n",
    "from langchain_community.vectorstores import FAISS\n",
    "from langchain_core.output_parsers import StrOutputParser\n",
    "from langchain_core.runnables import RunnablePassthrough\n",
    "from langchain_openai import ChatOpenAI, OpenAIEmbeddings"
   ]
  },
  {
   "cell_type": "code",
   "execution_count": 108,
   "metadata": {},
   "outputs": [
    {
     "data": {
      "text/plain": [
       "<bs4.element.SoupStrainer at 0x1c339d7d9d0>"
      ]
     },
     "execution_count": 108,
     "metadata": {},
     "output_type": "execute_result"
    }
   ],
   "source": [
    "bs4.SoupStrainer(\n",
    "    'div',\n",
    "    attrs = {'class': ['newsct_article _article_body', 'media_end_head_title']}\n",
    ")"
   ]
  },
  {
   "cell_type": "code",
   "execution_count": 109,
   "metadata": {},
   "outputs": [],
   "source": [
    "loader = WebBaseLoader(\n",
    "    web_path = ('https://n.news.naver.com/article/437/0000420199?sid=101'),\n",
    "    bs_kwargs = dict(\n",
    "        parse_only = bs4.SoupStrainer(\n",
    "            'div',\n",
    "            attrs = {'class': ['newsct_article _article_body', 'media_end_head_title']}\n",
    "        )\n",
    "    )\n",
    ")\n",
    "\n",
    "docs = loader.load()"
   ]
  },
  {
   "cell_type": "code",
   "execution_count": 110,
   "metadata": {},
   "outputs": [
    {
     "name": "stdout",
     "output_type": "stream",
     "text": [
      "1\n"
     ]
    }
   ],
   "source": [
    "print(len(docs))"
   ]
  },
  {
   "cell_type": "code",
   "execution_count": 111,
   "metadata": {},
   "outputs": [],
   "source": [
    "text_splitter = RecursiveCharacterTextSplitter(chunk_size=100, chunk_overlap=20)"
   ]
  },
  {
   "cell_type": "code",
   "execution_count": 112,
   "metadata": {},
   "outputs": [
    {
     "data": {
      "text/plain": [
       "11"
      ]
     },
     "execution_count": 112,
     "metadata": {},
     "output_type": "execute_result"
    }
   ],
   "source": [
    "splits = text_splitter.split_documents(docs)\n",
    "len(splits)"
   ]
  },
  {
   "cell_type": "code",
   "execution_count": null,
   "metadata": {},
   "outputs": [],
   "source": [
    "vectorstore = FAISS.from_documents(documents=splits, embedding=OpenAIEmbeddings())\n",
    "# 벡터 DB 생성"
   ]
  },
  {
   "cell_type": "code",
   "execution_count": null,
   "metadata": {},
   "outputs": [],
   "source": [
    "retriever = vectorstore.as_retriever()\n",
    "# 검색기 생성"
   ]
  },
  {
   "cell_type": "code",
   "execution_count": 115,
   "metadata": {},
   "outputs": [],
   "source": [
    "from langchain_core.prompts import PromptTemplate\n",
    "\n",
    "prompt = PromptTemplate.from_template(\n",
    "    \"\"\"\n",
    "    당신은 질문에 따라 답변을 수행하는 친절한 AI 비서입니다. 당신은 주어진 context에서 주어진 question에 답하는 것을 수행합니다.\n",
    "    검색된 결과인 다음 context를 사용하여 질문인 question에 답하세요.\n",
    "    만약, context에서 답을 찾을 수 없거나 답을 모른다면 '주어진 정보에서 질문에 대한 정보를 찾을 수 없습니다.' 라고 한글로 답변해주세요.\n",
    "    이름이나 기술적인 용어는 번역하지 않고 그대로 출력해주세요.\n",
    "\n",
    "    # Question: {question}\n",
    "    # Context: {context}\n",
    "    # Answer:\n",
    "    \"\"\"\n",
    ")"
   ]
  },
  {
   "cell_type": "code",
   "execution_count": 124,
   "metadata": {},
   "outputs": [],
   "source": [
    "llm = ChatOpenAI(model='gpt-4o', temperature=0.2)"
   ]
  },
  {
   "cell_type": "code",
   "execution_count": 117,
   "metadata": {},
   "outputs": [],
   "source": [
    "rag_chain = (\n",
    "    {'context': retriever, 'question': RunnablePassthrough()}\n",
    "    | prompt\n",
    "    | llm\n",
    "    | StrOutputParser()\n",
    ")"
   ]
  },
  {
   "cell_type": "code",
   "execution_count": 118,
   "metadata": {},
   "outputs": [],
   "source": [
    "from langchain_teddynote.messages import stream_response"
   ]
  },
  {
   "cell_type": "code",
   "execution_count": 125,
   "metadata": {},
   "outputs": [
    {
     "name": "stdout",
     "output_type": "stream",
     "text": [
      "현대차 그룹이 공개한 산업용 웨어러블 로봇의 이름은 '엑스블 숄더'입니다."
     ]
    }
   ],
   "source": [
    "answer = rag_chain.stream('로봇 이름')\n",
    "stream_response(answer)"
   ]
  },
  {
   "cell_type": "code",
   "execution_count": 126,
   "metadata": {},
   "outputs": [
    {
     "name": "stdout",
     "output_type": "stream",
     "text": [
      "조끼 무게는 2kg가 채 되지 않습니다."
     ]
    }
   ],
   "source": [
    "answer = rag_chain.stream('조끼 무게')\n",
    "stream_response(answer)"
   ]
  },
  {
   "cell_type": "code",
   "execution_count": 129,
   "metadata": {},
   "outputs": [
    {
     "name": "stdout",
     "output_type": "stream",
     "text": [
      "엑스블 숄더는 현대차 그룹이 공개한 산업용 웨어러블 로봇으로, 어깨를 지지해 주는 장치가 연결되어 있습니다. 이 로봇은 팔을 위로 올려 부품을 조립해야 하는 완성차 제조공장에서 생산직 노동자들을 돕기 위해 설계되었습니다. 조끼 형태로 착용하면 힘을 강하게 만들어 주어 산업 현장의 생산직 노동자뿐만 아니라 재활 치료와 일상생활에도 도움을 줄 수 있습니다."
     ]
    }
   ],
   "source": [
    "answer = rag_chain.stream('엑스블 숄더가 뭐야?')\n",
    "stream_response(answer)"
   ]
  }
 ],
 "metadata": {
  "kernelspec": {
   "display_name": "langchain",
   "language": "python",
   "name": "python3"
  },
  "language_info": {
   "codemirror_mode": {
    "name": "ipython",
    "version": 3
   },
   "file_extension": ".py",
   "mimetype": "text/x-python",
   "name": "python",
   "nbconvert_exporter": "python",
   "pygments_lexer": "ipython3",
   "version": "3.11.10"
  }
 },
 "nbformat": 4,
 "nbformat_minor": 2
}
