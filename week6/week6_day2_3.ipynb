{
 "cells": [
  {
   "cell_type": "markdown",
   "metadata": {},
   "source": [
    "\n",
    "# 🌼 RAG기법의 이해와 적용(3) - 2차시(24.11.29)\n",
    "\n",
    "---"
   ]
  },
  {
   "cell_type": "code",
   "execution_count": 1,
   "metadata": {},
   "outputs": [
    {
     "data": {
      "text/plain": [
       "True"
      ]
     },
     "execution_count": 1,
     "metadata": {},
     "output_type": "execute_result"
    }
   ],
   "source": [
    "from dotenv import load_dotenv\n",
    "\n",
    "load_dotenv()"
   ]
  },
  {
   "cell_type": "code",
   "execution_count": 4,
   "metadata": {},
   "outputs": [
    {
     "name": "stdout",
     "output_type": "stream",
     "text": [
      "LangSmith 추적을 시작합니다.\n",
      "[프로젝트명]\n",
      "langchain_practice\n"
     ]
    }
   ],
   "source": [
    "from langchain_teddynote import logging\n",
    "logging.langsmith('langchain_practice')"
   ]
  },
  {
   "cell_type": "code",
   "execution_count": 3,
   "metadata": {},
   "outputs": [],
   "source": [
    "from langchain_openai import ChatOpenAI\n",
    "from langchain_core.prompts import PromptTemplate"
   ]
  },
  {
   "cell_type": "code",
   "execution_count": 5,
   "metadata": {},
   "outputs": [],
   "source": [
    "llm = ChatOpenAI(model_name='gpt-4o')"
   ]
  },
  {
   "cell_type": "code",
   "execution_count": 6,
   "metadata": {},
   "outputs": [],
   "source": [
    "prompt = PromptTemplate.from_template('{country}에 대해 300자 내외로 요약해서 설명해줘')"
   ]
  },
  {
   "cell_type": "code",
   "execution_count": 7,
   "metadata": {},
   "outputs": [],
   "source": [
    "chain = prompt | llm"
   ]
  },
  {
   "cell_type": "code",
   "execution_count": 26,
   "metadata": {},
   "outputs": [
    {
     "name": "stdout",
     "output_type": "stream",
     "text": [
      "한국은 동아시아에 위치한 나라로, 한반도의 남쪽에 자리잡고 있습니다. 수도는 서울이며, 공용어는 한국어입니다. 한국은 역사적으로 삼국시대, 고려, 조선 등의 왕조를 거쳐 왔으며, 20세기에는 일제강점기와 한국 전쟁을 겪었습니다. 현대 한국은 민주주의 체제의 공화국으로, 경제적으로는 반도체, 자동차, 가전제품 등 첨단 산업에서 세계적인 경쟁력을 갖추고 있습니다. K-팝, 드라마, 영화 등 문화 콘텐츠로도 국제적인 인기를 누리고 있습니다.\n",
      "CPU times: total: 0 ns\n",
      "Wall time: 2.98 s\n"
     ]
    }
   ],
   "source": [
    "%%time\n",
    "response = chain.invoke({'country': '한국'})\n",
    "print(response.content)"
   ]
  },
  {
   "cell_type": "code",
   "execution_count": 10,
   "metadata": {},
   "outputs": [],
   "source": [
    "from langchain.globals import set_llm_cache\n",
    "from langchain.cache import InMemoryCache\n",
    "set_llm_cache(InMemoryCache())\n",
    "# 이미 처리된 요청과 응답 데이터를 메모리에 저장 -> 동일한 요청이 들어오면 결과를 재사용"
   ]
  },
  {
   "cell_type": "code",
   "execution_count": 13,
   "metadata": {},
   "outputs": [
    {
     "name": "stdout",
     "output_type": "stream",
     "text": [
      "한국은 동아시아에 위치한 국가로, 한반도의 남쪽에 자리 잡고 있습니다. 공식 명칭은 대한민국이며, 수도는 서울입니다. 한국은 반도 지형으로, 북쪽으로는 북한과 국경을 접하고 있습니다. 문화적으로는 한글, 한식, 한류 등 독자적인 문화를 발전시켰으며, 경제적으로는 IT, 자동차, 조선업 등 여러 산업에서 세계적인 경쟁력을 가지고 있습니다. 정치 체제는 민주공화국이며, 사회적으로는 교육열이 높고 빠른 기술 발전을 이루어 왔습니다.\n",
      "CPU times: total: 0 ns\n",
      "Wall time: 5.35 ms\n"
     ]
    }
   ],
   "source": [
    "%%time\n",
    "response = chain.invoke({'country': '한국'})\n",
    "print(response.content)"
   ]
  },
  {
   "cell_type": "code",
   "execution_count": 14,
   "metadata": {},
   "outputs": [],
   "source": [
    "from langchain_community.cache import SQLiteCache\n",
    "from langchain_core.globals import set_llm_cache\n",
    "import os"
   ]
  },
  {
   "cell_type": "code",
   "execution_count": null,
   "metadata": {},
   "outputs": [],
   "source": [
    "if not os.path.exists('cache'):\n",
    "    os.makedirs('cache')  # 캐시 폴더 생성"
   ]
  },
  {
   "cell_type": "code",
   "execution_count": 17,
   "metadata": {},
   "outputs": [],
   "source": [
    "set_llm_cache(SQLiteCache(database_path='cache/llm_cache.db'))"
   ]
  },
  {
   "cell_type": "code",
   "execution_count": 19,
   "metadata": {},
   "outputs": [
    {
     "name": "stdout",
     "output_type": "stream",
     "text": [
      "캐나다는 북아메리카 대륙의 북쪽에 위치한 국가로, 세계에서 두 번째로 큰 면적을 자랑합니다. 수도는 오타와이며, 주요 도시로는 토론토, 밴쿠버, 몬트리올 등이 있습니다. 공용어는 영어와 프랑스어입니다. 풍부한 자연 자원과 다양한 문화가 특징이며, 다문화주의를 중시합니다. 정치 체제는 입헌군주제와 의원 내각제를 채택하고 있으며, 엘리자베스 2세 여왕이 국가 원수로 있었으나 현재는 찰스 3세가 왕위에 있습니다. 경제는 서비스업, 자원 산업, 제조업 등이 주를 이루며, 높은 삶의 질과 교육 수준으로 잘 알려져 있습니다.\n",
      "CPU times: total: 31.2 ms\n",
      "Wall time: 2.7 s\n"
     ]
    }
   ],
   "source": [
    "%%time\n",
    "response = chain.invoke({'country': '캐나다'})\n",
    "print(response.content)"
   ]
  },
  {
   "cell_type": "code",
   "execution_count": 20,
   "metadata": {},
   "outputs": [
    {
     "name": "stdout",
     "output_type": "stream",
     "text": [
      "캐나다는 북아메리카 대륙의 북쪽에 위치한 국가로, 세계에서 두 번째로 큰 면적을 자랑합니다. 수도는 오타와이며, 주요 도시로는 토론토, 밴쿠버, 몬트리올 등이 있습니다. 공용어는 영어와 프랑스어입니다. 풍부한 자연 자원과 다양한 문화가 특징이며, 다문화주의를 중시합니다. 정치 체제는 입헌군주제와 의원 내각제를 채택하고 있으며, 엘리자베스 2세 여왕이 국가 원수로 있었으나 현재는 찰스 3세가 왕위에 있습니다. 경제는 서비스업, 자원 산업, 제조업 등이 주를 이루며, 높은 삶의 질과 교육 수준으로 잘 알려져 있습니다.\n",
      "CPU times: total: 0 ns\n",
      "Wall time: 5.92 ms\n"
     ]
    }
   ],
   "source": [
    "%%time\n",
    "response = chain.invoke({'country': '캐나다'})\n",
    "print(response.content)"
   ]
  },
  {
   "cell_type": "code",
   "execution_count": 28,
   "metadata": {},
   "outputs": [
    {
     "name": "stdout",
     "output_type": "stream",
     "text": [
      "영국은 유럽 북서부에 위치한 섬나라로, 잉글랜드, 스코틀랜드, 웨일스, 북아일랜드로 구성된 연합 왕국입니다. 수도는 런던이며, 입헌 군주제와 의회 민주주의를 채택하고 있습니다. 영국은 산업혁명의 발상지로, 세계 경제와 문화에 큰 영향을 미쳤습니다. 영어의 본고장이며, 유명한 문화적 아이콘으로 셰익스피어, 비틀즈 등이 있습니다. 현재는 다양한 인종과 문화를 포용하는 다문화 사회로 발전하고 있습니다.\n",
      "CPU times: total: 0 ns\n",
      "Wall time: 3.46 s\n"
     ]
    }
   ],
   "source": [
    "%%time\n",
    "response = chain.invoke({'country': '영국'})\n",
    "print(response.content)"
   ]
  },
  {
   "cell_type": "code",
   "execution_count": 21,
   "metadata": {},
   "outputs": [],
   "source": [
    "import sqlite3"
   ]
  },
  {
   "cell_type": "code",
   "execution_count": 22,
   "metadata": {},
   "outputs": [],
   "source": [
    "db_path = 'cache/llm_cache.db'\n",
    "conn = sqlite3.connect(db_path)\n",
    "cursor = conn.cursor()"
   ]
  },
  {
   "cell_type": "code",
   "execution_count": 24,
   "metadata": {},
   "outputs": [
    {
     "name": "stdout",
     "output_type": "stream",
     "text": [
      "Tables [('full_llm_cache',), ('full_md5_llm_cache',)]\n"
     ]
    }
   ],
   "source": [
    "cursor.execute(\"SELECT name FROM sqlite_master WHERE type='table';\")\n",
    "tables = cursor.fetchall()\n",
    "print('Tables', tables)"
   ]
  },
  {
   "cell_type": "code",
   "execution_count": 29,
   "metadata": {},
   "outputs": [
    {
     "name": "stdout",
     "output_type": "stream",
     "text": [
      "\n",
      "cache contents: \n",
      "('[{\"lc\": 1, \"type\": \"constructor\", \"id\": [\"langchain\", \"schema\", \"messages\", \"HumanMessage\"], \"kwargs\": {\"content\": \"\\\\uce90\\\\ub098\\\\ub2e4\\\\uc5d0 \\\\ub300\\\\ud574 300\\\\uc790 \\\\ub0b4\\\\uc678\\\\ub85c \\\\uc694\\\\uc57d\\\\ud574\\\\uc11c \\\\uc124\\\\uba85\\\\ud574\\\\uc918\", \"type\": \"human\"}}]', '{\"id\": [\"langchain\", \"chat_models\", \"openai\", \"ChatOpenAI\"], \"kwargs\": {\"max_retries\": 2, \"model_name\": \"gpt-4o\", \"n\": 1, \"openai_api_key\": {\"id\": [\"OPENAI_API_KEY\"], \"lc\": 1, \"type\": \"secret\"}, \"temperature\": 0.7}, \"lc\": 1, \"name\": \"ChatOpenAI\", \"type\": \"constructor\"}---[(\\'stop\\', None)]', 0, '{\"lc\": 1, \"type\": \"constructor\", \"id\": [\"langchain\", \"schema\", \"output\", \"ChatGeneration\"], \"kwargs\": {\"text\": \"\\\\uce90\\\\ub098\\\\ub2e4\\\\ub294 \\\\ubd81\\\\uc544\\\\uba54\\\\ub9ac\\\\uce74 \\\\ub300\\\\ub959\\\\uc758 \\\\ubd81\\\\ucabd\\\\uc5d0 \\\\uc704\\\\uce58\\\\ud55c \\\\uad6d\\\\uac00\\\\ub85c, \\\\uc138\\\\uacc4\\\\uc5d0\\\\uc11c \\\\ub450 \\\\ubc88\\\\uc9f8\\\\ub85c \\\\ud070 \\\\uba74\\\\uc801\\\\uc744 \\\\uc790\\\\ub791\\\\ud569\\\\ub2c8\\\\ub2e4. \\\\uc218\\\\ub3c4\\\\ub294 \\\\uc624\\\\ud0c0\\\\uc640\\\\uc774\\\\uba70, \\\\uc8fc\\\\uc694 \\\\ub3c4\\\\uc2dc\\\\ub85c\\\\ub294 \\\\ud1a0\\\\ub860\\\\ud1a0, \\\\ubc34\\\\ucfe0\\\\ubc84, \\\\ubaac\\\\ud2b8\\\\ub9ac\\\\uc62c \\\\ub4f1\\\\uc774 \\\\uc788\\\\uc2b5\\\\ub2c8\\\\ub2e4. \\\\uacf5\\\\uc6a9\\\\uc5b4\\\\ub294 \\\\uc601\\\\uc5b4\\\\uc640 \\\\ud504\\\\ub791\\\\uc2a4\\\\uc5b4\\\\uc785\\\\ub2c8\\\\ub2e4. \\\\ud48d\\\\ubd80\\\\ud55c \\\\uc790\\\\uc5f0 \\\\uc790\\\\uc6d0\\\\uacfc \\\\ub2e4\\\\uc591\\\\ud55c \\\\ubb38\\\\ud654\\\\uac00 \\\\ud2b9\\\\uc9d5\\\\uc774\\\\uba70, \\\\ub2e4\\\\ubb38\\\\ud654\\\\uc8fc\\\\uc758\\\\ub97c \\\\uc911\\\\uc2dc\\\\ud569\\\\ub2c8\\\\ub2e4. \\\\uc815\\\\uce58 \\\\uccb4\\\\uc81c\\\\ub294 \\\\uc785\\\\ud5cc\\\\uad70\\\\uc8fc\\\\uc81c\\\\uc640 \\\\uc758\\\\uc6d0 \\\\ub0b4\\\\uac01\\\\uc81c\\\\ub97c \\\\ucc44\\\\ud0dd\\\\ud558\\\\uace0 \\\\uc788\\\\uc73c\\\\uba70, \\\\uc5d8\\\\ub9ac\\\\uc790\\\\ubca0\\\\uc2a4 2\\\\uc138 \\\\uc5ec\\\\uc655\\\\uc774 \\\\uad6d\\\\uac00 \\\\uc6d0\\\\uc218\\\\ub85c \\\\uc788\\\\uc5c8\\\\uc73c\\\\ub098 \\\\ud604\\\\uc7ac\\\\ub294 \\\\ucc30\\\\uc2a4 3\\\\uc138\\\\uac00 \\\\uc655\\\\uc704\\\\uc5d0 \\\\uc788\\\\uc2b5\\\\ub2c8\\\\ub2e4. \\\\uacbd\\\\uc81c\\\\ub294 \\\\uc11c\\\\ube44\\\\uc2a4\\\\uc5c5, \\\\uc790\\\\uc6d0 \\\\uc0b0\\\\uc5c5, \\\\uc81c\\\\uc870\\\\uc5c5 \\\\ub4f1\\\\uc774 \\\\uc8fc\\\\ub97c \\\\uc774\\\\ub8e8\\\\uba70, \\\\ub192\\\\uc740 \\\\uc0b6\\\\uc758 \\\\uc9c8\\\\uacfc \\\\uad50\\\\uc721 \\\\uc218\\\\uc900\\\\uc73c\\\\ub85c \\\\uc798 \\\\uc54c\\\\ub824\\\\uc838 \\\\uc788\\\\uc2b5\\\\ub2c8\\\\ub2e4.\", \"generation_info\": {\"finish_reason\": \"stop\", \"logprobs\": null}, \"type\": \"ChatGeneration\", \"message\": {\"lc\": 1, \"type\": \"constructor\", \"id\": [\"langchain\", \"schema\", \"messages\", \"AIMessage\"], \"kwargs\": {\"content\": \"\\\\uce90\\\\ub098\\\\ub2e4\\\\ub294 \\\\ubd81\\\\uc544\\\\uba54\\\\ub9ac\\\\uce74 \\\\ub300\\\\ub959\\\\uc758 \\\\ubd81\\\\ucabd\\\\uc5d0 \\\\uc704\\\\uce58\\\\ud55c \\\\uad6d\\\\uac00\\\\ub85c, \\\\uc138\\\\uacc4\\\\uc5d0\\\\uc11c \\\\ub450 \\\\ubc88\\\\uc9f8\\\\ub85c \\\\ud070 \\\\uba74\\\\uc801\\\\uc744 \\\\uc790\\\\ub791\\\\ud569\\\\ub2c8\\\\ub2e4. \\\\uc218\\\\ub3c4\\\\ub294 \\\\uc624\\\\ud0c0\\\\uc640\\\\uc774\\\\uba70, \\\\uc8fc\\\\uc694 \\\\ub3c4\\\\uc2dc\\\\ub85c\\\\ub294 \\\\ud1a0\\\\ub860\\\\ud1a0, \\\\ubc34\\\\ucfe0\\\\ubc84, \\\\ubaac\\\\ud2b8\\\\ub9ac\\\\uc62c \\\\ub4f1\\\\uc774 \\\\uc788\\\\uc2b5\\\\ub2c8\\\\ub2e4. \\\\uacf5\\\\uc6a9\\\\uc5b4\\\\ub294 \\\\uc601\\\\uc5b4\\\\uc640 \\\\ud504\\\\ub791\\\\uc2a4\\\\uc5b4\\\\uc785\\\\ub2c8\\\\ub2e4. \\\\ud48d\\\\ubd80\\\\ud55c \\\\uc790\\\\uc5f0 \\\\uc790\\\\uc6d0\\\\uacfc \\\\ub2e4\\\\uc591\\\\ud55c \\\\ubb38\\\\ud654\\\\uac00 \\\\ud2b9\\\\uc9d5\\\\uc774\\\\uba70, \\\\ub2e4\\\\ubb38\\\\ud654\\\\uc8fc\\\\uc758\\\\ub97c \\\\uc911\\\\uc2dc\\\\ud569\\\\ub2c8\\\\ub2e4. \\\\uc815\\\\uce58 \\\\uccb4\\\\uc81c\\\\ub294 \\\\uc785\\\\ud5cc\\\\uad70\\\\uc8fc\\\\uc81c\\\\uc640 \\\\uc758\\\\uc6d0 \\\\ub0b4\\\\uac01\\\\uc81c\\\\ub97c \\\\ucc44\\\\ud0dd\\\\ud558\\\\uace0 \\\\uc788\\\\uc73c\\\\uba70, \\\\uc5d8\\\\ub9ac\\\\uc790\\\\ubca0\\\\uc2a4 2\\\\uc138 \\\\uc5ec\\\\uc655\\\\uc774 \\\\uad6d\\\\uac00 \\\\uc6d0\\\\uc218\\\\ub85c \\\\uc788\\\\uc5c8\\\\uc73c\\\\ub098 \\\\ud604\\\\uc7ac\\\\ub294 \\\\ucc30\\\\uc2a4 3\\\\uc138\\\\uac00 \\\\uc655\\\\uc704\\\\uc5d0 \\\\uc788\\\\uc2b5\\\\ub2c8\\\\ub2e4. \\\\uacbd\\\\uc81c\\\\ub294 \\\\uc11c\\\\ube44\\\\uc2a4\\\\uc5c5, \\\\uc790\\\\uc6d0 \\\\uc0b0\\\\uc5c5, \\\\uc81c\\\\uc870\\\\uc5c5 \\\\ub4f1\\\\uc774 \\\\uc8fc\\\\ub97c \\\\uc774\\\\ub8e8\\\\uba70, \\\\ub192\\\\uc740 \\\\uc0b6\\\\uc758 \\\\uc9c8\\\\uacfc \\\\uad50\\\\uc721 \\\\uc218\\\\uc900\\\\uc73c\\\\ub85c \\\\uc798 \\\\uc54c\\\\ub824\\\\uc838 \\\\uc788\\\\uc2b5\\\\ub2c8\\\\ub2e4.\", \"additional_kwargs\": {\"refusal\": null}, \"response_metadata\": {\"token_usage\": {\"completion_tokens\": 176, \"prompt_tokens\": 23, \"total_tokens\": 199, \"completion_tokens_details\": {\"accepted_prediction_tokens\": 0, \"audio_tokens\": 0, \"reasoning_tokens\": 0, \"rejected_prediction_tokens\": 0}, \"prompt_tokens_details\": {\"audio_tokens\": 0, \"cached_tokens\": 0}}, \"model_name\": \"gpt-4o-2024-08-06\", \"system_fingerprint\": \"fp_7f6be3efb0\", \"finish_reason\": \"stop\", \"logprobs\": null}, \"type\": \"ai\", \"id\": \"run-58f6b2f4-60c7-4603-8aec-51de8a561037-0\", \"usage_metadata\": {\"input_tokens\": 23, \"output_tokens\": 176, \"total_tokens\": 199, \"input_token_details\": {\"audio\": 0, \"cache_read\": 0}, \"output_token_details\": {\"audio\": 0, \"reasoning\": 0}}, \"tool_calls\": [], \"invalid_tool_calls\": []}}}}')\n",
      "('[{\"lc\": 1, \"type\": \"constructor\", \"id\": [\"langchain\", \"schema\", \"messages\", \"HumanMessage\"], \"kwargs\": {\"content\": \"\\\\ud55c\\\\uad6d\\\\uc5d0 \\\\ub300\\\\ud574 300\\\\uc790 \\\\ub0b4\\\\uc678\\\\ub85c \\\\uc694\\\\uc57d\\\\ud574\\\\uc11c \\\\uc124\\\\uba85\\\\ud574\\\\uc918\", \"type\": \"human\"}}]', '{\"id\": [\"langchain\", \"chat_models\", \"openai\", \"ChatOpenAI\"], \"kwargs\": {\"max_retries\": 2, \"model_name\": \"gpt-4o\", \"n\": 1, \"openai_api_key\": {\"id\": [\"OPENAI_API_KEY\"], \"lc\": 1, \"type\": \"secret\"}, \"temperature\": 0.7}, \"lc\": 1, \"name\": \"ChatOpenAI\", \"type\": \"constructor\"}---[(\\'stop\\', None)]', 0, '{\"lc\": 1, \"type\": \"constructor\", \"id\": [\"langchain\", \"schema\", \"output\", \"ChatGeneration\"], \"kwargs\": {\"text\": \"\\\\ud55c\\\\uad6d\\\\uc740 \\\\ub3d9\\\\uc544\\\\uc2dc\\\\uc544\\\\uc5d0 \\\\uc704\\\\uce58\\\\ud55c \\\\ub098\\\\ub77c\\\\ub85c, \\\\ud55c\\\\ubc18\\\\ub3c4\\\\uc758 \\\\ub0a8\\\\ucabd\\\\uc5d0 \\\\uc790\\\\ub9ac\\\\uc7a1\\\\uace0 \\\\uc788\\\\uc2b5\\\\ub2c8\\\\ub2e4. \\\\uc218\\\\ub3c4\\\\ub294 \\\\uc11c\\\\uc6b8\\\\uc774\\\\uba70, \\\\uacf5\\\\uc6a9\\\\uc5b4\\\\ub294 \\\\ud55c\\\\uad6d\\\\uc5b4\\\\uc785\\\\ub2c8\\\\ub2e4. \\\\ud55c\\\\uad6d\\\\uc740 \\\\uc5ed\\\\uc0ac\\\\uc801\\\\uc73c\\\\ub85c \\\\uc0bc\\\\uad6d\\\\uc2dc\\\\ub300, \\\\uace0\\\\ub824, \\\\uc870\\\\uc120 \\\\ub4f1\\\\uc758 \\\\uc655\\\\uc870\\\\ub97c \\\\uac70\\\\uccd0 \\\\uc654\\\\uc73c\\\\uba70, 20\\\\uc138\\\\uae30\\\\uc5d0\\\\ub294 \\\\uc77c\\\\uc81c\\\\uac15\\\\uc810\\\\uae30\\\\uc640 \\\\ud55c\\\\uad6d \\\\uc804\\\\uc7c1\\\\uc744 \\\\uacaa\\\\uc5c8\\\\uc2b5\\\\ub2c8\\\\ub2e4. \\\\ud604\\\\ub300 \\\\ud55c\\\\uad6d\\\\uc740 \\\\ubbfc\\\\uc8fc\\\\uc8fc\\\\uc758 \\\\uccb4\\\\uc81c\\\\uc758 \\\\uacf5\\\\ud654\\\\uad6d\\\\uc73c\\\\ub85c, \\\\uacbd\\\\uc81c\\\\uc801\\\\uc73c\\\\ub85c\\\\ub294 \\\\ubc18\\\\ub3c4\\\\uccb4, \\\\uc790\\\\ub3d9\\\\ucc28, \\\\uac00\\\\uc804\\\\uc81c\\\\ud488 \\\\ub4f1 \\\\ucca8\\\\ub2e8 \\\\uc0b0\\\\uc5c5\\\\uc5d0\\\\uc11c \\\\uc138\\\\uacc4\\\\uc801\\\\uc778 \\\\uacbd\\\\uc7c1\\\\ub825\\\\uc744 \\\\uac16\\\\ucd94\\\\uace0 \\\\uc788\\\\uc2b5\\\\ub2c8\\\\ub2e4. K-\\\\ud31d, \\\\ub4dc\\\\ub77c\\\\ub9c8, \\\\uc601\\\\ud654 \\\\ub4f1 \\\\ubb38\\\\ud654 \\\\ucf58\\\\ud150\\\\uce20\\\\ub85c\\\\ub3c4 \\\\uad6d\\\\uc81c\\\\uc801\\\\uc778 \\\\uc778\\\\uae30\\\\ub97c \\\\ub204\\\\ub9ac\\\\uace0 \\\\uc788\\\\uc2b5\\\\ub2c8\\\\ub2e4.\", \"generation_info\": {\"finish_reason\": \"stop\", \"logprobs\": null}, \"type\": \"ChatGeneration\", \"message\": {\"lc\": 1, \"type\": \"constructor\", \"id\": [\"langchain\", \"schema\", \"messages\", \"AIMessage\"], \"kwargs\": {\"content\": \"\\\\ud55c\\\\uad6d\\\\uc740 \\\\ub3d9\\\\uc544\\\\uc2dc\\\\uc544\\\\uc5d0 \\\\uc704\\\\uce58\\\\ud55c \\\\ub098\\\\ub77c\\\\ub85c, \\\\ud55c\\\\ubc18\\\\ub3c4\\\\uc758 \\\\ub0a8\\\\ucabd\\\\uc5d0 \\\\uc790\\\\ub9ac\\\\uc7a1\\\\uace0 \\\\uc788\\\\uc2b5\\\\ub2c8\\\\ub2e4. \\\\uc218\\\\ub3c4\\\\ub294 \\\\uc11c\\\\uc6b8\\\\uc774\\\\uba70, \\\\uacf5\\\\uc6a9\\\\uc5b4\\\\ub294 \\\\ud55c\\\\uad6d\\\\uc5b4\\\\uc785\\\\ub2c8\\\\ub2e4. \\\\ud55c\\\\uad6d\\\\uc740 \\\\uc5ed\\\\uc0ac\\\\uc801\\\\uc73c\\\\ub85c \\\\uc0bc\\\\uad6d\\\\uc2dc\\\\ub300, \\\\uace0\\\\ub824, \\\\uc870\\\\uc120 \\\\ub4f1\\\\uc758 \\\\uc655\\\\uc870\\\\ub97c \\\\uac70\\\\uccd0 \\\\uc654\\\\uc73c\\\\uba70, 20\\\\uc138\\\\uae30\\\\uc5d0\\\\ub294 \\\\uc77c\\\\uc81c\\\\uac15\\\\uc810\\\\uae30\\\\uc640 \\\\ud55c\\\\uad6d \\\\uc804\\\\uc7c1\\\\uc744 \\\\uacaa\\\\uc5c8\\\\uc2b5\\\\ub2c8\\\\ub2e4. \\\\ud604\\\\ub300 \\\\ud55c\\\\uad6d\\\\uc740 \\\\ubbfc\\\\uc8fc\\\\uc8fc\\\\uc758 \\\\uccb4\\\\uc81c\\\\uc758 \\\\uacf5\\\\ud654\\\\uad6d\\\\uc73c\\\\ub85c, \\\\uacbd\\\\uc81c\\\\uc801\\\\uc73c\\\\ub85c\\\\ub294 \\\\ubc18\\\\ub3c4\\\\uccb4, \\\\uc790\\\\ub3d9\\\\ucc28, \\\\uac00\\\\uc804\\\\uc81c\\\\ud488 \\\\ub4f1 \\\\ucca8\\\\ub2e8 \\\\uc0b0\\\\uc5c5\\\\uc5d0\\\\uc11c \\\\uc138\\\\uacc4\\\\uc801\\\\uc778 \\\\uacbd\\\\uc7c1\\\\ub825\\\\uc744 \\\\uac16\\\\ucd94\\\\uace0 \\\\uc788\\\\uc2b5\\\\ub2c8\\\\ub2e4. K-\\\\ud31d, \\\\ub4dc\\\\ub77c\\\\ub9c8, \\\\uc601\\\\ud654 \\\\ub4f1 \\\\ubb38\\\\ud654 \\\\ucf58\\\\ud150\\\\uce20\\\\ub85c\\\\ub3c4 \\\\uad6d\\\\uc81c\\\\uc801\\\\uc778 \\\\uc778\\\\uae30\\\\ub97c \\\\ub204\\\\ub9ac\\\\uace0 \\\\uc788\\\\uc2b5\\\\ub2c8\\\\ub2e4.\", \"additional_kwargs\": {\"refusal\": null}, \"response_metadata\": {\"token_usage\": {\"completion_tokens\": 139, \"prompt_tokens\": 22, \"total_tokens\": 161, \"completion_tokens_details\": {\"accepted_prediction_tokens\": 0, \"audio_tokens\": 0, \"reasoning_tokens\": 0, \"rejected_prediction_tokens\": 0}, \"prompt_tokens_details\": {\"audio_tokens\": 0, \"cached_tokens\": 0}}, \"model_name\": \"gpt-4o-2024-08-06\", \"system_fingerprint\": \"fp_7f6be3efb0\", \"finish_reason\": \"stop\", \"logprobs\": null}, \"type\": \"ai\", \"id\": \"run-006c69fa-6fae-461c-97fb-5181dd7c723a-0\", \"usage_metadata\": {\"input_tokens\": 22, \"output_tokens\": 139, \"total_tokens\": 161, \"input_token_details\": {\"audio\": 0, \"cache_read\": 0}, \"output_token_details\": {\"audio\": 0, \"reasoning\": 0}}, \"tool_calls\": [], \"invalid_tool_calls\": []}}}}')\n",
      "('[{\"lc\": 1, \"type\": \"constructor\", \"id\": [\"langchain\", \"schema\", \"messages\", \"HumanMessage\"], \"kwargs\": {\"content\": \"\\\\uc601\\\\uad6d\\\\uc5d0 \\\\ub300\\\\ud574 300\\\\uc790 \\\\ub0b4\\\\uc678\\\\ub85c \\\\uc694\\\\uc57d\\\\ud574\\\\uc11c \\\\uc124\\\\uba85\\\\ud574\\\\uc918\", \"type\": \"human\"}}]', '{\"id\": [\"langchain\", \"chat_models\", \"openai\", \"ChatOpenAI\"], \"kwargs\": {\"max_retries\": 2, \"model_name\": \"gpt-4o\", \"n\": 1, \"openai_api_key\": {\"id\": [\"OPENAI_API_KEY\"], \"lc\": 1, \"type\": \"secret\"}, \"temperature\": 0.7}, \"lc\": 1, \"name\": \"ChatOpenAI\", \"type\": \"constructor\"}---[(\\'stop\\', None)]', 0, '{\"lc\": 1, \"type\": \"constructor\", \"id\": [\"langchain\", \"schema\", \"output\", \"ChatGeneration\"], \"kwargs\": {\"text\": \"\\\\uc601\\\\uad6d\\\\uc740 \\\\uc720\\\\ub7fd \\\\ubd81\\\\uc11c\\\\ubd80\\\\uc5d0 \\\\uc704\\\\uce58\\\\ud55c \\\\uc12c\\\\ub098\\\\ub77c\\\\ub85c, \\\\uc789\\\\uae00\\\\ub79c\\\\ub4dc, \\\\uc2a4\\\\ucf54\\\\ud2c0\\\\ub79c\\\\ub4dc, \\\\uc6e8\\\\uc77c\\\\uc2a4, \\\\ubd81\\\\uc544\\\\uc77c\\\\ub79c\\\\ub4dc\\\\ub85c \\\\uad6c\\\\uc131\\\\ub41c \\\\uc5f0\\\\ud569 \\\\uc655\\\\uad6d\\\\uc785\\\\ub2c8\\\\ub2e4. \\\\uc218\\\\ub3c4\\\\ub294 \\\\ub7f0\\\\ub358\\\\uc774\\\\uba70, \\\\uc785\\\\ud5cc \\\\uad70\\\\uc8fc\\\\uc81c\\\\uc640 \\\\uc758\\\\ud68c \\\\ubbfc\\\\uc8fc\\\\uc8fc\\\\uc758\\\\ub97c \\\\ucc44\\\\ud0dd\\\\ud558\\\\uace0 \\\\uc788\\\\uc2b5\\\\ub2c8\\\\ub2e4. \\\\uc601\\\\uad6d\\\\uc740 \\\\uc0b0\\\\uc5c5\\\\ud601\\\\uba85\\\\uc758 \\\\ubc1c\\\\uc0c1\\\\uc9c0\\\\ub85c, \\\\uc138\\\\uacc4 \\\\uacbd\\\\uc81c\\\\uc640 \\\\ubb38\\\\ud654\\\\uc5d0 \\\\ud070 \\\\uc601\\\\ud5a5\\\\uc744 \\\\ubbf8\\\\ucce4\\\\uc2b5\\\\ub2c8\\\\ub2e4. \\\\uc601\\\\uc5b4\\\\uc758 \\\\ubcf8\\\\uace0\\\\uc7a5\\\\uc774\\\\uba70, \\\\uc720\\\\uba85\\\\ud55c \\\\ubb38\\\\ud654\\\\uc801 \\\\uc544\\\\uc774\\\\ucf58\\\\uc73c\\\\ub85c \\\\uc170\\\\uc775\\\\uc2a4\\\\ud53c\\\\uc5b4, \\\\ube44\\\\ud2c0\\\\uc988 \\\\ub4f1\\\\uc774 \\\\uc788\\\\uc2b5\\\\ub2c8\\\\ub2e4. \\\\ud604\\\\uc7ac\\\\ub294 \\\\ub2e4\\\\uc591\\\\ud55c \\\\uc778\\\\uc885\\\\uacfc \\\\ubb38\\\\ud654\\\\ub97c \\\\ud3ec\\\\uc6a9\\\\ud558\\\\ub294 \\\\ub2e4\\\\ubb38\\\\ud654 \\\\uc0ac\\\\ud68c\\\\ub85c \\\\ubc1c\\\\uc804\\\\ud558\\\\uace0 \\\\uc788\\\\uc2b5\\\\ub2c8\\\\ub2e4.\", \"generation_info\": {\"finish_reason\": \"stop\", \"logprobs\": null}, \"type\": \"ChatGeneration\", \"message\": {\"lc\": 1, \"type\": \"constructor\", \"id\": [\"langchain\", \"schema\", \"messages\", \"AIMessage\"], \"kwargs\": {\"content\": \"\\\\uc601\\\\uad6d\\\\uc740 \\\\uc720\\\\ub7fd \\\\ubd81\\\\uc11c\\\\ubd80\\\\uc5d0 \\\\uc704\\\\uce58\\\\ud55c \\\\uc12c\\\\ub098\\\\ub77c\\\\ub85c, \\\\uc789\\\\uae00\\\\ub79c\\\\ub4dc, \\\\uc2a4\\\\ucf54\\\\ud2c0\\\\ub79c\\\\ub4dc, \\\\uc6e8\\\\uc77c\\\\uc2a4, \\\\ubd81\\\\uc544\\\\uc77c\\\\ub79c\\\\ub4dc\\\\ub85c \\\\uad6c\\\\uc131\\\\ub41c \\\\uc5f0\\\\ud569 \\\\uc655\\\\uad6d\\\\uc785\\\\ub2c8\\\\ub2e4. \\\\uc218\\\\ub3c4\\\\ub294 \\\\ub7f0\\\\ub358\\\\uc774\\\\uba70, \\\\uc785\\\\ud5cc \\\\uad70\\\\uc8fc\\\\uc81c\\\\uc640 \\\\uc758\\\\ud68c \\\\ubbfc\\\\uc8fc\\\\uc8fc\\\\uc758\\\\ub97c \\\\ucc44\\\\ud0dd\\\\ud558\\\\uace0 \\\\uc788\\\\uc2b5\\\\ub2c8\\\\ub2e4. \\\\uc601\\\\uad6d\\\\uc740 \\\\uc0b0\\\\uc5c5\\\\ud601\\\\uba85\\\\uc758 \\\\ubc1c\\\\uc0c1\\\\uc9c0\\\\ub85c, \\\\uc138\\\\uacc4 \\\\uacbd\\\\uc81c\\\\uc640 \\\\ubb38\\\\ud654\\\\uc5d0 \\\\ud070 \\\\uc601\\\\ud5a5\\\\uc744 \\\\ubbf8\\\\ucce4\\\\uc2b5\\\\ub2c8\\\\ub2e4. \\\\uc601\\\\uc5b4\\\\uc758 \\\\ubcf8\\\\uace0\\\\uc7a5\\\\uc774\\\\uba70, \\\\uc720\\\\uba85\\\\ud55c \\\\ubb38\\\\ud654\\\\uc801 \\\\uc544\\\\uc774\\\\ucf58\\\\uc73c\\\\ub85c \\\\uc170\\\\uc775\\\\uc2a4\\\\ud53c\\\\uc5b4, \\\\ube44\\\\ud2c0\\\\uc988 \\\\ub4f1\\\\uc774 \\\\uc788\\\\uc2b5\\\\ub2c8\\\\ub2e4. \\\\ud604\\\\uc7ac\\\\ub294 \\\\ub2e4\\\\uc591\\\\ud55c \\\\uc778\\\\uc885\\\\uacfc \\\\ubb38\\\\ud654\\\\ub97c \\\\ud3ec\\\\uc6a9\\\\ud558\\\\ub294 \\\\ub2e4\\\\ubb38\\\\ud654 \\\\uc0ac\\\\ud68c\\\\ub85c \\\\ubc1c\\\\uc804\\\\ud558\\\\uace0 \\\\uc788\\\\uc2b5\\\\ub2c8\\\\ub2e4.\", \"additional_kwargs\": {\"refusal\": null}, \"response_metadata\": {\"token_usage\": {\"completion_tokens\": 135, \"prompt_tokens\": 23, \"total_tokens\": 158, \"completion_tokens_details\": {\"accepted_prediction_tokens\": 0, \"audio_tokens\": 0, \"reasoning_tokens\": 0, \"rejected_prediction_tokens\": 0}, \"prompt_tokens_details\": {\"audio_tokens\": 0, \"cached_tokens\": 0}}, \"model_name\": \"gpt-4o-2024-08-06\", \"system_fingerprint\": \"fp_7f6be3efb0\", \"finish_reason\": \"stop\", \"logprobs\": null}, \"type\": \"ai\", \"id\": \"run-64a80bb1-c5c8-4401-966c-fdc408ad6de9-0\", \"usage_metadata\": {\"input_tokens\": 23, \"output_tokens\": 135, \"total_tokens\": 158, \"input_token_details\": {\"audio\": 0, \"cache_read\": 0}, \"output_token_details\": {\"audio\": 0, \"reasoning\": 0}}, \"tool_calls\": [], \"invalid_tool_calls\": []}}}}')\n"
     ]
    }
   ],
   "source": [
    "cursor.execute(\"SELECT * FROM full_llm_cache;\")\n",
    "rows = cursor.fetchall()\n",
    "print('\\ncache contents: ')\n",
    "\n",
    "for row in rows:\n",
    "    print(row)"
   ]
  },
  {
   "cell_type": "code",
   "execution_count": 30,
   "metadata": {},
   "outputs": [],
   "source": [
    "conn.close()"
   ]
  },
  {
   "cell_type": "code",
   "execution_count": 31,
   "metadata": {},
   "outputs": [],
   "source": [
    "from langchain.callbacks import get_openai_callback\n",
    "from langchain_openai import ChatOpenAI"
   ]
  },
  {
   "cell_type": "code",
   "execution_count": 32,
   "metadata": {},
   "outputs": [
    {
     "name": "stdout",
     "output_type": "stream",
     "text": [
      "Tokens Used: 24\n",
      "\tPrompt Tokens: 16\n",
      "\tCompletion Tokens: 8\n",
      "Successful Requests: 1\n",
      "Total Cost (USD): $0.00012000000000000002\n",
      "CPU times: total: 0 ns\n",
      "Wall time: 800 ms\n"
     ]
    }
   ],
   "source": [
    "%%time\n",
    "\n",
    "with get_openai_callback() as cb:\n",
    "    result = llm.invoke('대한민국의 수도는 어디인가요?')\n",
    "    print(cb)"
   ]
  },
  {
   "cell_type": "code",
   "execution_count": 34,
   "metadata": {},
   "outputs": [
    {
     "name": "stdout",
     "output_type": "stream",
     "text": [
      "총 사용된 토큰 수: 25\n",
      "프롬프트에 사용된 토큰 수: 15\n",
      "답변에 사용된 토큰 수: 10\n",
      "호출에 청구된 금액(USD): 0.0001375\n"
     ]
    }
   ],
   "source": [
    "with get_openai_callback() as cb:\n",
    "    result = llm.invoke('겨울은 영어로 뭐야?')\n",
    "    print(f'총 사용된 토큰 수: {cb.total_tokens}')\n",
    "    print(f'프롬프트에 사용된 토큰 수: {cb.prompt_tokens}')\n",
    "    print(f'답변에 사용된 토큰 수: {cb.completion_tokens}')\n",
    "    print(f'호출에 청구된 금액(USD): {cb.total_cost}')"
   ]
  },
  {
   "cell_type": "code",
   "execution_count": 36,
   "metadata": {},
   "outputs": [],
   "source": [
    "# pip install -qU langchain-community arxiv pymupdf pypdf unstructured python-pptx"
   ]
  },
  {
   "cell_type": "code",
   "execution_count": 37,
   "metadata": {},
   "outputs": [],
   "source": [
    "file_path = './data/SPRi AI Brief_11월호_산업동향_F.pdf'"
   ]
  },
  {
   "cell_type": "code",
   "execution_count": 38,
   "metadata": {},
   "outputs": [],
   "source": [
    "def show_metadata(docs):\n",
    "    if docs:\n",
    "        print('[metadata]')\n",
    "        keys = []\n",
    "        for k in docs[0].metadata.keys():\n",
    "            keys.append(k)\n",
    "        print(keys)"
   ]
  },
  {
   "cell_type": "code",
   "execution_count": 39,
   "metadata": {},
   "outputs": [],
   "source": [
    "from langchain_community.document_loaders import PyPDFLoader\n",
    "\n",
    "loader = PyPDFLoader(file_path)"
   ]
  },
  {
   "cell_type": "code",
   "execution_count": 40,
   "metadata": {},
   "outputs": [],
   "source": [
    "docs = loader.load()"
   ]
  },
  {
   "cell_type": "code",
   "execution_count": 41,
   "metadata": {},
   "outputs": [
    {
     "name": "stdout",
     "output_type": "stream",
     "text": [
      "[metadata]\n",
      "['source', 'page']\n"
     ]
    }
   ],
   "source": [
    "show_metadata(docs)"
   ]
  },
  {
   "cell_type": "code",
   "execution_count": 43,
   "metadata": {},
   "outputs": [
    {
     "name": "stdout",
     "output_type": "stream",
     "text": [
      "SPRi AI Brief |  2024-11월호\n",
      "20\n",
      "인디드 조사 결과, 생성AI가 인간 근로자 대체할 가능성은 희박n인디드가 2,800개 이상의 직무 기술에 대한 생성AI의 수행 능력을 분석해 인간을 대체할 가능성을 평가한 결과, 생성AI로 대체될 가능성이 “매우 높은” 것으로 평가된 기술은 전무n생성AI의 최대 강점은 직무 기술과 관련된 이론적 지식을 제공하는 능력이며, 물리적 작업 수행이 필요한 직무 기술에서는 인간 근로자를 대체할 가능성이 희박 \n",
      "KEY Contents\n",
      "£생성AI, 문제 해결 역량 및 물리적 작업 수행 역량의 부족으로 인간 근로자 대체에 한계n미국의 채용 플랫폼 인디드(Indeed) 산하 연구소 하이어링랩(Hiring Lab)이 2024년 9월 25일 발표한 연구 결과에 따르면 생성AI가 인간 근로자를 대체할 가능성은 희박∙인디드 하이어링랩은 오픈AI의 GPT-4o로 2,800개 이상의 고유한 직무 기술에 대한 생성AI의 수행 능력을 분석해 생성AI가 인간을 대체할 가능성을 평가∙연구진은 오픈AI의 GPT-4o가 △기술과 관련된 이론적 지식의 제공 역량 △기술을 사용한 문제 해결 역량 △기술 활용 시 물리적 작업의 중요성에 관한 판단 능력의 3개 차원에서 자체 수행 능력을 평가하도록 진행 ∙다섯 가지 선택지(매우 낮음, 낮음, 보통, 높음, 매우 높음)로 평가 결과, 인디드가 평가 대상으로 삼은 2,800개 이상의 직무 기술 중 68.7%는 생성AI로 대체될 가능성이 “매우 낮음” 또는 “낮음”으로 평가됐으며, “매우 높음”으로 평가된 기술은 전무n생성AI는 직무 기술의 이론적 지식을 제공하는 자체 능력을 다소 높게 평가했으나, 문제 해결 능력 및 물리적 작업의 중요성에 관한 판단 능력은 상대적으로 낮게 평가∙생성AI는 직무 기술 중 79.7%에 이론적 지식의 제공 능력을 4점(높음)으로, 기술 중 70.7%에 문제 해결 역량을 3점(보통)으로 평가했으며, 기술 중 54%에 대하여 물리적 작업의 필요성이 “높음” 또는 “매우 높음”이라고 평가** 매우 낮음(very unlikely 1점), 낮음(unlikely, 2점), 보통(possible, 3점), 높음(likely, 4점), 매우 높음(very likely, 5점) ∙생성AI는 물리적 작업을 수행할 몸체가 없어 실제 작업 수행이 필요한 직무 기술에서는 인간 근로자를 대체할 가능성이 제한적∙일례로 생성AI는 디지털 기술 비중이 큰 소프트웨어 개발 직종의 구인 공고에서 통상 제시되는 직무 기술의 71%에 대하여 인간을 대체할 가능성이 “보통” 또는 “높음”으로 평가했으나, 간호사 직종의 구인 공고에 제시되는 기술의 약 32.9%만 생성AI로 대체될 가능성이 “보통” 또는 “높음”으로 평가  n인디드는 현재 생성AI의 최대 강점은 직무 기술과 관련된 이론적 지식을 제공하는 능력이라고 강조∙생성AI는 직원 생산성을 극대화하여 노동 시장의 경색을 완화할 수 있으며, 물리적 작업 수행이 필요한 직업에서도 근로자가 핵심 업무에 집중할 수 있도록 지원 가능  ∙그러나 생성AI는 논리적 오류나 사실과 다른 내용 또는 편향이나 차별과 같은 비윤리적 응답을 출력할 가능성도 있으므로 인간의 신중한 검토 필요☞  출처: Indeed Hiring Lab, AI at Work: Why GenAI Is More Likely To Support Workers Than Replace Them, 2024.09.25.\n"
     ]
    }
   ],
   "source": [
    "print(docs[22].page_content)"
   ]
  },
  {
   "cell_type": "code",
   "execution_count": 44,
   "metadata": {},
   "outputs": [],
   "source": [
    "from langchain_community.document_loaders import UnstructuredPowerPointLoader\n",
    "\n",
    "loader = UnstructuredPowerPointLoader('./data/RAG(지식 검색 및 생성 기법)기법 적용_2일차.pptx')"
   ]
  },
  {
   "cell_type": "code",
   "execution_count": 47,
   "metadata": {},
   "outputs": [
    {
     "data": {
      "text/plain": [
       "[Document(metadata={'source': './data/RAG(지식 검색 및 생성 기법)기법 적용_2일차.pptx'}, page_content='RAG(지식 검색 및 생성 기법) 적용\\n\\nDay 02\\n\\n강의자 : 김수빈\\n\\n\\n\\n1\\n\\n2\\n\\n3\\n\\nContents\\n\\nRAG\\n\\n벡터 DB\\n\\nLangchain\\n\\n\\n\\n1\\n\\n2\\n\\n3\\n\\n3\\n\\nLangChain\\n\\n랭체인?\\n\\n- 대규모 언어 모델(LLM)을 활용한 애플리케이션을 쉽게 개발할 수 있도록 도와주는 프레임워크\\n\\nLLM과 도구 연결 : Vecor DB, API, 파일 등과 통합\\n\\n작업 자동화 : 자동화된 워크플로우 구현 지원\\n\\n검색 및 생성 기능 : LLM과 검색 기반 시스템을 결합해 응답의 품질 향상\\n\\n\\n\\n3\\n\\nLangChain\\n\\n기능\\n\\n프롬프트 지시사항, 소수의 예시, 응답에 근거한 내용 등을 포함한 다양한 문맥 소스와 모델의 연결\\n\\n→ 언어 모델은 제공된 정보를 기반으로 더 정확하고 관련성 높은 답변을 생성할 수 있다.\\n\\n문맥 인식\\n\\n언어 모델은 주어진 문맥을 바탕으로 어떤 답변을 제공하거나 어떤 조취를 취해야 할지 스스로 추론할 수 있다\\n\\n→ 단순히 정보 재생산이 아니라 주어진 상황을 분석하고 적절한 해결책 제시 가능\\n\\n추론\\n\\n\\n\\n3\\n\\nLangChain\\n\\nLangSmith\\n\\nLLM 애플리케이션 개발, 모니터링 및 테스트를 위한 플랫폼\\n\\n단순히 정보 재생산이 아니라 주어진 상황을 분석하고 적절한 해결책 제시 가능\\n\\n추적 기능\\n\\n예상치 못한 최종 결과, 체인이 예상보다 느린 이유 등에 대해 추적하는데 도움이 될 수 있다\\n\\n\\n\\n3\\n\\nLangChain\\n\\nLangSmith\\n\\nhttps://smith.langchain.com\\n\\n- 마찬가지로 키 발급(★★★★★★저장필수)\\n\\n- .env에 넣어야 할 항목\\n\\n```\\n\\nLANGCHAIN_TRACING_V2 = true\\n\\nLANGCHAIN_ENDPOINT = https://api.langchain.com\\n\\nLANGCHAIN_API_KEY = 발급받은 키\\n\\nLANGCHAIN_PROJECT = 프로젝트명\\n\\n```\\n\\n\\n\\n감사합니다.\\n\\nThank You')]"
      ]
     },
     "execution_count": 47,
     "metadata": {},
     "output_type": "execute_result"
    }
   ],
   "source": [
    "docs = loader.load()\n",
    "docs"
   ]
  },
  {
   "cell_type": "code",
   "execution_count": 48,
   "metadata": {},
   "outputs": [
    {
     "name": "stderr",
     "output_type": "stream",
     "text": [
      "USER_AGENT environment variable not set, consider setting it to identify your requests.\n"
     ]
    }
   ],
   "source": [
    "import bs4\n",
    "from langchain_community.document_loaders import WebBaseLoader"
   ]
  },
  {
   "cell_type": "code",
   "execution_count": 49,
   "metadata": {},
   "outputs": [],
   "source": [
    "url1 = 'https://blog.langchain.dev/'\n",
    "url2 = 'https://blog.langchain.dev/langgraph-v0-2/'"
   ]
  },
  {
   "cell_type": "code",
   "execution_count": 64,
   "metadata": {},
   "outputs": [
    {
     "data": {
      "text/plain": [
       "2"
      ]
     },
     "execution_count": 64,
     "metadata": {},
     "output_type": "execute_result"
    }
   ],
   "source": [
    "loader = WebBaseLoader(\n",
    "    web_path=(url1, url2),\n",
    "    bs_kwargs=dict(\n",
    "        parse_only = bs4.SoupStrainer(\n",
    "            class_ = ('article-content', 'article-header')\n",
    "        )\n",
    "    )\n",
    ")\n",
    "docs = loader.load()\n",
    "len(docs)"
   ]
  },
  {
   "cell_type": "code",
   "execution_count": 66,
   "metadata": {},
   "outputs": [
    {
     "data": {
      "text/plain": [
       "\"\\nToday, we’re excited to announce the stable release of LangGraph v0.2, which introduces a new ecosystem of LangGraph checkpointer libraries. These simplify the creation and customization of checkpointers, which allows users to build more resilient LLM applications with smooth session memory, robust error recovery, and human-in-the-loop features.Why we built LangGraph v0.2One of the key pillars of LangGraph is its built-in persistence layer, implemented through checkpointers. When you use a checkpointer with a graph, you can interact with and manage the graph's state. The checkpointer saves a checkpoint of the graph state at each step, enabling several powerful capabilities, including:Session memory: Store history (checkpoints) of user interactions and resume from a saved checkpoint in follow up interactionsError recovery: Recover from failures at any given step in the graph execution by continuing from the last successful step checkpointHuman-in-the-loop: Implement tool approval, wait for human input, edit agent actions and moreTime travel: Edit graph state at any point in the history of execution and create an alternative execution from that point in time (i.e. fork the thread)Since the early days of LangGraph, we’ve designed checkpointing to be database-agnostic, allowing users to implement their own checkpointer adapters for their database of choice.Since the LangGraph v0.1 release, we've seen a lot of interest from the community in creating checkpointers for many popular databases like Postgres, Redis, and MongoDB. However, there was no clear blueprint for the users to implement their own, custom checkpointers.New checkpointer libraries in LangGraphWith LangGraph v0.2, we’re making it easier to create new checkpointers. We’ve also laid the foundation to foster a community-maintained ecosystem of checkpointer implementations.We now have a suite of new, dedicated checkpointer libraries:langgraph_checkpoint : The base interface for checkpointer savers (BaseCheckpointSaver ) and serialization/deserialization interface (SerializationProtocol). Includes in-memory checkpointer implementation (MemorySaver) for experimentation.langgraph_checkpoint_sqlite : An implementation of LangGraph checkpointer that uses SQLite database. Ideal for experimentation and local workflows.langgraph_checkpoint_postgres : Our advanced checkpointer that we wrote and optimized for Postgres in LangGraph Cloud is now open-sourced and available to the community to build upon. Ideal for using in production.Checkpointer implementations can be used interchangeably, which lets users tailor their stateful LangGraph applications to their custom needs.LangGraph Postgres Checkpointer for production-ready appslanggraph_checkpoint_postgres implementation can serve as a blueprint for community members to implement their own optimized, production-ready checkpointers for their favorite database. Postgres checkpointer implements a number of optimizations both on the write-, as well as read-side.Write-side optimizations:We're making use of Postgres pipeline mode to reduce database roundtripsWe're storing each channel value separately and versioned so that each new checkpoint only stores the values that changed.Read-side optimizations:We're making use of a cursor for the list endpoint in order to efficiently fetch long thread histories when needed.Getting started on LangGraph v0.2Since LangGraph checkpointer libraries are implemented as namespace packages, you can import checkpointer interfaces and implementations the same way as before, using:from langgraph.checkpoint.base import BaseCheckpointSaverfrom langgraph.checkpoint.memory import MemorySaverfrom langgraph.checkpoint.sqlite import SqliteSaverfrom langgraph.checkpoint.postgres import PostgresSaverSince SQLite and Postgres checkpointers are provided via separate libraries, you will need to install them using pip install langgraph-checkpoint-sqlite or pip install langgraph-checkpoint-postgres.LangGraph checkpoint libraries will follow semantic versioning (starting with current release of 1.0), and any breaking changes in the main library will result in a major version bump for those libraries. For example, the next breaking change in langgraph_checkpoint will result in 2.0 version, and you can expect the checkpointer implementations (e.g.,langgraph_checkpoint_sqlite) to also be updated to 2.0 to follow that change.To get started, follow this guide on how to use checkpointers in LangGraph. You can also check out our documentation, including a reference and overview of checkpointers. Run agents at scale with LangGraph CloudTo complement the LangGraph framework, we also have a new runtime, LangGraph Cloud, which provides infrastructure purpose-built for deploying agents at scale.LangGraph Cloud does the heavy lifting for your agentic application, removing the maintenance work for custom checkpointers while adding fault-tolerant scalability. It gracefully manages horizontally-scaling task queues, servers, and includes our robust Postgres checkpointer out-of-the-box to help you handle many concurrent users and efficiently store large states and threads.In addition, LangGraph Cloud supports real-world interaction patterns beyond streaming and human-in-the-loop. These include double-texting to handle new user inputs on currently-running threads of the graph, async background jobs for long-running tasks, and cron jobs.Lastly, you can easily deploy your agentic app and collaborate in LangGraph Studio, a playground-like space for visualizing and debugging agent trajectories, with LangGraph Cloud. The LangGraph Studio desktop app is now also available for all LangSmith users to try for free.LangGraph Cloud is now available in beta for all LangSmith users on Plus or Enterprise plans. Try it out today for free by signing up for LangSmith.Additional changes in LangGraph v0.2LangGraph v0.2 contains many improvements, and we've designed it to be largely backwards compatible. Below is a list of breaking changes and deprecations in this latest version.Breaking changesLangGraph v0.2 introduces several breaking changes:thread_ts and parent_ts have been renamed to checkpoint_id and parent_checkpoint_id , respectively (via langgraph_checkpoint==1.0.0).Note: LangGraph checkpointers still recognize thread_ts if passed via config and treat it as checkpoint_idRe-exported imports like from langgraph.checkpoint import BaseCheckpointSaver are no longer possible due to the use of namespace packages. Instead, use from langgraph.checkpoint.base import BaseCheckpointSaverSQLite checkpointers have been moved to a separate library, so you’ll need to install them separately using pip install langgraph-checkpoint-sqliteDeprecationsIn LangGraph v0.2, we've removed:langgraph.prebuilt.chat_agent_executor.create_function_calling_executor . We recommend you use langgraph.prebuilt.chat_agent_executor.create_react_agent instead.langgraph.prebuilt.agent_executor . We recommend you use langgraph.prebuilt.chat_agent_executor.create_react_agent instead.ConclusionWe are incredibly grateful to our community and users for pushing us and building with LangGraph to improve agent reliability. We hope that with LangGraph v0.2, you’ll find it easier to build and maintain your own checkpointer implementations– and we’re excited to see all the apps that you create.As you try out LangGraph v0.2, we'd love to hear your feedback at hello@langchain.dev. You can also learn more from these additional resources:LangGraph docsLangGraph webpage (with FAQs)\\n\""
      ]
     },
     "execution_count": 66,
     "metadata": {},
     "output_type": "execute_result"
    }
   ],
   "source": [
    "docs[1].page_content"
   ]
  },
  {
   "cell_type": "code",
   "execution_count": 53,
   "metadata": {},
   "outputs": [],
   "source": [
    "from langchain_community.document_loaders import ArxivLoader"
   ]
  },
  {
   "cell_type": "code",
   "execution_count": 54,
   "metadata": {},
   "outputs": [],
   "source": [
    "loader = ArxivLoader(\n",
    "    query = 'ChatGPT',\n",
    "    load_max_docs = 2,\n",
    "    load_all_available_meta = False\n",
    ")"
   ]
  },
  {
   "cell_type": "code",
   "execution_count": 55,
   "metadata": {},
   "outputs": [],
   "source": [
    "docs = loader.load()"
   ]
  },
  {
   "cell_type": "code",
   "execution_count": 56,
   "metadata": {},
   "outputs": [
    {
     "data": {
      "text/plain": [
       "{'Published': '2023-10-05',\n",
       " 'Title': 'In ChatGPT We Trust? Measuring and Characterizing the Reliability of ChatGPT',\n",
       " 'Authors': 'Xinyue Shen, Zeyuan Chen, Michael Backes, Yang Zhang',\n",
       " 'Summary': \"The way users acquire information is undergoing a paradigm shift with the\\nadvent of ChatGPT. Unlike conventional search engines, ChatGPT retrieves\\nknowledge from the model itself and generates answers for users. ChatGPT's\\nimpressive question-answering (QA) capability has attracted more than 100\\nmillion users within a short period of time but has also raised concerns\\nregarding its reliability. In this paper, we perform the first large-scale\\nmeasurement of ChatGPT's reliability in the generic QA scenario with a\\ncarefully curated set of 5,695 questions across ten datasets and eight domains.\\nWe find that ChatGPT's reliability varies across different domains, especially\\nunderperforming in law and science questions. We also demonstrate that system\\nroles, originally designed by OpenAI to allow users to steer ChatGPT's\\nbehavior, can impact ChatGPT's reliability in an imperceptible way. We further\\nshow that ChatGPT is vulnerable to adversarial examples, and even a single\\ncharacter change can negatively affect its reliability in certain cases. We\\nbelieve that our study provides valuable insights into ChatGPT's reliability\\nand underscores the need for strengthening the reliability and security of\\nlarge language models (LLMs).\"}"
      ]
     },
     "execution_count": 56,
     "metadata": {},
     "output_type": "execute_result"
    }
   ],
   "source": [
    "docs[0].metadata"
   ]
  },
  {
   "cell_type": "code",
   "execution_count": 57,
   "metadata": {},
   "outputs": [
    {
     "data": {
      "text/plain": [
       "{'Published': '2023-12-30',\n",
       " 'Title': 'Is ChatGPT Involved in Texts? Measure the Polish Ratio to Detect ChatGPT-Generated Text',\n",
       " 'Authors': 'Lingyi Yang, Feng Jiang, Haizhou Li',\n",
       " 'Summary': 'The remarkable capabilities of large-scale language models, such as ChatGPT,\\nin text generation have impressed readers and spurred researchers to devise\\ndetectors to mitigate potential risks, including misinformation, phishing, and\\nacademic dishonesty. Despite this, most previous studies have been\\npredominantly geared towards creating detectors that differentiate between\\npurely ChatGPT-generated texts and human-authored texts. This approach,\\nhowever, fails to work on discerning texts generated through human-machine\\ncollaboration, such as ChatGPT-polished texts. Addressing this gap, we\\nintroduce a novel dataset termed HPPT (ChatGPT-polished academic abstracts),\\nfacilitating the construction of more robust detectors. It diverges from extant\\ncorpora by comprising pairs of human-written and ChatGPT-polished abstracts\\ninstead of purely ChatGPT-generated texts. Additionally, we propose the \"Polish\\nRatio\" method, an innovative measure of the degree of modification made by\\nChatGPT compared to the original human-written text. It provides a mechanism to\\nmeasure the degree of ChatGPT influence in the resulting text. Our experimental\\nresults show our proposed model has better robustness on the HPPT dataset and\\ntwo existing datasets (HC3 and CDB). Furthermore, the \"Polish Ratio\" we\\nproposed offers a more comprehensive explanation by quantifying the degree of\\nChatGPT involvement.'}"
      ]
     },
     "execution_count": 57,
     "metadata": {},
     "output_type": "execute_result"
    }
   ],
   "source": [
    "docs[1].metadata"
   ]
  },
  {
   "cell_type": "code",
   "execution_count": null,
   "metadata": {},
   "outputs": [
    {
     "name": "stdout",
     "output_type": "stream",
     "text": [
      "The way users acquire information is undergoing a paradigm shift with the\n",
      "advent of ChatGPT. Unlike conventional search engines, ChatGPT retrieves\n",
      "knowledge from the model itself and generates answers for users. ChatGPT's\n",
      "impressive question-answering (QA) capability has attracted more than 100\n",
      "million users within a short period of time but has also raised concerns\n",
      "regarding its reliability. In this paper, we perform the first large-scale\n",
      "measurement of ChatGPT's reliability in the generic QA scenario with a\n",
      "carefully curated set of 5,695 questions across ten datasets and eight domains.\n",
      "We find that ChatGPT's reliability varies across different domains, especially\n",
      "underperforming in law and science questions. We also demonstrate that system\n",
      "roles, originally designed by OpenAI to allow users to steer ChatGPT's\n",
      "behavior, can impact ChatGPT's reliability in an imperceptible way. We further\n",
      "show that ChatGPT is vulnerable to adversarial examples, and even a single\n",
      "character change can negatively affect its reliability in certain cases. We\n",
      "believe that our study provides valuable insights into ChatGPT's reliability\n",
      "and underscores the need for strengthening the reliability and security of\n",
      "large language models (LLMs).\n"
     ]
    }
   ],
   "source": [
    "docs = loader.get_summaries_as_docs()\n",
    "print(docs[0].page_content)  # 0번째 문서의 요약을 볼 수 있다"
   ]
  },
  {
   "cell_type": "code",
   "execution_count": null,
   "metadata": {},
   "outputs": [],
   "source": []
  }
 ],
 "metadata": {
  "kernelspec": {
   "display_name": "langchain",
   "language": "python",
   "name": "python3"
  },
  "language_info": {
   "codemirror_mode": {
    "name": "ipython",
    "version": 3
   },
   "file_extension": ".py",
   "mimetype": "text/x-python",
   "name": "python",
   "nbconvert_exporter": "python",
   "pygments_lexer": "ipython3",
   "version": "3.11.10"
  }
 },
 "nbformat": 4,
 "nbformat_minor": 2
}
