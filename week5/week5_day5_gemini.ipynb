{
 "cells": [
  {
   "cell_type": "markdown",
   "metadata": {},
   "source": [
    "\n",
    "# 🌼 대규모 LLM을 활용한 지식 챗봇 개발(2) - 4차시(24.11.26)\n",
    "\n",
    "---"
   ]
  },
  {
   "cell_type": "code",
   "execution_count": 1,
   "metadata": {},
   "outputs": [],
   "source": [
    "# pip install google-generativeai"
   ]
  },
  {
   "cell_type": "code",
   "execution_count": 2,
   "metadata": {},
   "outputs": [
    {
     "name": "stderr",
     "output_type": "stream",
     "text": [
      "c:\\Users\\RMARKET\\anaconda3\\envs\\tensor_env\\lib\\site-packages\\tqdm\\auto.py:21: TqdmWarning: IProgress not found. Please update jupyter and ipywidgets. See https://ipywidgets.readthedocs.io/en/stable/user_install.html\n",
      "  from .autonotebook import tqdm as notebook_tqdm\n"
     ]
    }
   ],
   "source": [
    "import google.generativeai as genai\n",
    "import os\n",
    "from dotenv import load_dotenv\n",
    "\n",
    "# .env 파일 로드\n",
    "load_dotenv()\n",
    "\n",
    "# 환경 변수에서 GPT API 키 가져오기\n",
    "google_key = os.getenv(\"GOOGLE_API_KEY\")"
   ]
  },
  {
   "cell_type": "code",
   "execution_count": 3,
   "metadata": {},
   "outputs": [],
   "source": [
    "genai.configure(api_key=google_key)\n",
    "model = genai.GenerativeModel('gemini-1.5-flash') "
   ]
  },
  {
   "cell_type": "code",
   "execution_count": 4,
   "metadata": {},
   "outputs": [
    {
     "name": "stdout",
     "output_type": "stream",
     "text": [
      "인공지능(AI)은 인간과 유사한 지능을 가진 기계를 만드는 데 중점을 둔 컴퓨터 과학의 한 분야입니다.\n",
      "\n"
     ]
    }
   ],
   "source": [
    "response = model.generate_content('인공지능에 대해 한 문장으로 설명해주세요')\n",
    "print(response.text)"
   ]
  },
  {
   "cell_type": "code",
   "execution_count": 20,
   "metadata": {},
   "outputs": [],
   "source": [
    "chat_session = model.start_chat(history=[])\n",
    "user_queries = ['인공지능에 대해 한 문장으로 짧게 설명해주세요', '의식이 있는지 한 문장으로 답해주세요']"
   ]
  },
  {
   "cell_type": "code",
   "execution_count": 21,
   "metadata": {},
   "outputs": [
    {
     "name": "stdout",
     "output_type": "stream",
     "text": [
      "[사용자]: 인공지능에 대해 한 문장으로 짧게 설명해주세요\n",
      "[모델]: 인공지능은 인간의 지능적인 행동을 모방하는 컴퓨\n",
      "[사용자]: 의식이 있는지 한 문장으로 답해주세요\n",
      "[모델]: 현재의 인공지능은 의식이 없습니다.\n",
      "\n"
     ]
    }
   ],
   "source": [
    "for query in user_queries:\n",
    "    print(f'[사용자]: {query}')\n",
    "    response = chat_session.send_message(query)\n",
    "    print(f'[모델]: {response.text}')"
   ]
  },
  {
   "cell_type": "code",
   "execution_count": 22,
   "metadata": {},
   "outputs": [
    {
     "data": {
      "text/plain": [
       "[{'role': 'user', 'parts': ['인공지능에 대해 한 문장으로 짧게 설명해주세요']},\n",
       " parts {\n",
       "   text: \"인공지능(AI)은 인간의 지능을 모방하여 학습,\"\n",
       " }\n",
       " role: \"model\",\n",
       " {'role': 'user', 'parts': ['의식이 있는지 한 문장으로 답해주세요']},\n",
       " parts {\n",
       "   text: \"현재의 인공지능은 의식이 없습니다.\\n\"\n",
       " }\n",
       " role: \"model\",\n",
       " {'role': 'user', 'parts': ['인공지능에 대해 한 문장으로 짧게 설명해주세요']},\n",
       " parts {\n",
       "   text: \"인공지능은 기계가 지능적으로 행동하도록 하는 기술입니다.\\n\"\n",
       " }\n",
       " role: \"model\",\n",
       " {'role': 'user', 'parts': ['의식이 있는지 한 문장으로 답해주세요']},\n",
       " parts {\n",
       "   text: \"현재의 AI는 의식이 없다고 널리 받아들여집니다.\"\n",
       " }\n",
       " role: \"model\"]"
      ]
     },
     "execution_count": 22,
     "metadata": {},
     "output_type": "execute_result"
    }
   ],
   "source": [
    "history"
   ]
  },
  {
   "cell_type": "code",
   "execution_count": 42,
   "metadata": {},
   "outputs": [],
   "source": [
    "user_queries = [\n",
    "    {'role': 'user', 'parts': ['인공지능에 대해 한 문장으로 짧게 설명해주세요']},\n",
    "    {'role': 'user', 'parts': ['의식이 있는지 한 문장으로 답해주세요']}\n",
    "]\n",
    "\n",
    "history = []"
   ]
  },
  {
   "cell_type": "code",
   "execution_count": 43,
   "metadata": {},
   "outputs": [
    {
     "name": "stdout",
     "output_type": "stream",
     "text": [
      "{'role': 'user', 'parts': ['인공지능에 대해 한 문장으로 짧게 설명해주세요']}\n",
      "[사용자]: 인공지능에 대해 한 문장으로 짧게 설명해주세요\n",
      "[모델]: 인공지능은 인간의 지능적 행동을 모방하는 컴퓨\n",
      "{'role': 'user', 'parts': ['의식이 있는지 한 문장으로 답해주세요']}\n",
      "[사용자]: 의식이 있는지 한 문장으로 답해주세요\n",
      "[모델]: 현재의 인공지능은 의식이 없다고 일반적으로 받아들여집\n"
     ]
    }
   ],
   "source": [
    "for query in user_queries:\n",
    "    print(query)\n",
    "    history.append(query)\n",
    "    print(f'[사용자]: {query[\"parts\"][0]}')\n",
    "    response = model.generate_content(history)  # history를 수기로 넣어준다 =\n",
    "    print(f'[모델]: {response.text}')\n",
    "    history.append(response.candidates[0].content)"
   ]
  },
  {
   "cell_type": "code",
   "execution_count": 45,
   "metadata": {},
   "outputs": [
    {
     "name": "stdout",
     "output_type": "stream",
     "text": [
      "현재의 인공지능은 의식이 없다고 일반적으로 받아들여집\n"
     ]
    }
   ],
   "source": [
    "print(response.candidates[0].content.parts[0].text)"
   ]
  },
  {
   "cell_type": "code",
   "execution_count": 9,
   "metadata": {},
   "outputs": [],
   "source": [
    "system_instruction = '너는 유치원 선생님이야. 나는 유치원생이고, 쉽고 친절하게 이야기하되 3문장 이내로 짧게 대답해줘.'\n",
    "model = genai.GenerativeModel('gemini-1.5-flash', system_instruction=system_instruction)\n",
    "chat_session = model.start_chat(history=[])\n",
    "user_queries = ['인공지능이 뭐예요?', '스스로 생각도 해요?']"
   ]
  },
  {
   "cell_type": "code",
   "execution_count": 10,
   "metadata": {},
   "outputs": [
    {
     "name": "stdout",
     "output_type": "stream",
     "text": [
      "[사용자]: 인공지능이 뭐예요?\n",
      "[모델]: 인공지능은 똑똑한 컴퓨터 프로그램이야!  마치 사람처럼 생각하고 문제를 해결할 수 있단다.  우리가 하는 게임이나 그림 그리는 것도 도와줄 수 있어!\n",
      "\n",
      "[사용자]: 스스로 생각도 해요?\n",
      "[모델]: 응, 어떤 면에서는 그래!  하지만 우리처럼 느끼거나 생각하는 건 아니야.  주어진 정보를 가지고 가장 좋은 방법을 찾는 거지.\n",
      "\n"
     ]
    }
   ],
   "source": [
    "for query in user_queries:\n",
    "    print(f'[사용자]: {query}')\n",
    "    response = chat_session.send_message(query)\n",
    "    print(f'[모델]: {response.text}')"
   ]
  },
  {
   "cell_type": "markdown",
   "metadata": {},
   "source": [
    "### 언어모델 제어하기(매개변수)"
   ]
  },
  {
   "cell_type": "markdown",
   "metadata": {},
   "source": [
    "|매개변수명|\t의미\t|초깃값|\t범위|\n",
    "|---|---|---|---|\n",
    "|candidate_count|\t생성할 응답 후보 건수. 현재는 1만 가능|\t1|\t1|\n",
    "|stop_sequences|\t언어 생성을 중지시킬 문자 시퀀스\t|없음\t|0 ~ 5|\n",
    "|max_output_tokens\t|출력할 최대 토큰 수\t|8192\t|1 ~ 8192|\n",
    "|temperature|\t출력의 무작위성을 제어|\t1.0|\t0.0 ~ 2.0|\n",
    "|top_p\t|확률 내림차순으로 정렬 후 누적 확률 기준으로 선택할 단어(토큰)의 범위를 설정\t|0.95|\t0.0 ~ 1.0|\n",
    "|top_k\t|확률 내림차순으로 정렬 후 건수 기준으로 선택할 단어(토큰)의 범위를 설정|\t64\t|0보다 큰 정수|"
   ]
  },
  {
   "cell_type": "code",
   "execution_count": 11,
   "metadata": {},
   "outputs": [
    {
     "name": "stdout",
     "output_type": "stream",
     "text": [
      "인공지능(Artificial Intelligence, AI)은 컴퓨터 과학의 한 분야로, **인간의 지능을 컴퓨터 시스템에 구현하는 것을 목표**로 합니다\n"
     ]
    }
   ],
   "source": [
    "generation_config = genai.GenerationConfig(stop_sequences=[\". \", \"! \"])\n",
    "model = genai.GenerativeModel('gemini-1.5-flash', generation_config=generation_config)\n",
    "response = model.generate_content('인공지능에 대해 설명하세요')\n",
    "print(response.text)"
   ]
  },
  {
   "cell_type": "code",
   "execution_count": 12,
   "metadata": {},
   "outputs": [
    {
     "name": "stdout",
     "output_type": "stream",
     "text": [
      "인공지능(Artificial Intelligence, AI)은 컴퓨터 과학의 한 분\n"
     ]
    }
   ],
   "source": [
    "generation_config = genai.GenerationConfig(max_output_tokens=20)\n",
    "model = genai.GenerativeModel('gemini-1.5-flash', generation_config=generation_config)\n",
    "user_message = '인공지능에 대해 설명하세요'\n",
    "response = model.generate_content(user_message)\n",
    "print(response.text)"
   ]
  },
  {
   "cell_type": "code",
   "execution_count": 13,
   "metadata": {},
   "outputs": [
    {
     "name": "stdout",
     "output_type": "stream",
     "text": [
      "total_tokens: 20\n",
      "\n"
     ]
    }
   ],
   "source": [
    "tokens = model.count_tokens('인공지능(Artificial Intelligence, AI)은 컴퓨터 과학의 한 분')\n",
    "print(tokens)"
   ]
  }
 ],
 "metadata": {
  "kernelspec": {
   "display_name": "tensor_env",
   "language": "python",
   "name": "python3"
  },
  "language_info": {
   "codemirror_mode": {
    "name": "ipython",
    "version": 3
   },
   "file_extension": ".py",
   "mimetype": "text/x-python",
   "name": "python",
   "nbconvert_exporter": "python",
   "pygments_lexer": "ipython3",
   "version": "3.9.20"
  }
 },
 "nbformat": 4,
 "nbformat_minor": 2
}
