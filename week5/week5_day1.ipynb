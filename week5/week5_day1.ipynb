{
 "cells": [
  {
   "cell_type": "markdown",
   "metadata": {},
   "source": [
    "\n",
    "# 🌼 대규모 LLM을 활용한 지식 챗봇 개발 - 1차시(24.11.21)\n",
    "\n",
    "---\n"
   ]
  },
  {
   "cell_type": "code",
   "execution_count": 1,
   "metadata": {},
   "outputs": [],
   "source": [
    "import os\n",
    "import shutil\n",
    "import pandas as pd\n",
    "import tensorflow as tf\n",
    "import urllib3\n",
    "from tensorflow.keras.preprocessing.sequence import pad_sequences\n",
    "from tensorflow.keras.utils import to_categorical"
   ]
  },
  {
   "cell_type": "code",
   "execution_count": 2,
   "metadata": {},
   "outputs": [
    {
     "data": {
      "text/html": [
       "<div>\n",
       "<style scoped>\n",
       "    .dataframe tbody tr th:only-of-type {\n",
       "        vertical-align: middle;\n",
       "    }\n",
       "\n",
       "    .dataframe tbody tr th {\n",
       "        vertical-align: top;\n",
       "    }\n",
       "\n",
       "    .dataframe thead th {\n",
       "        text-align: right;\n",
       "    }\n",
       "</style>\n",
       "<table border=\"1\" class=\"dataframe\">\n",
       "  <thead>\n",
       "    <tr style=\"text-align: right;\">\n",
       "      <th></th>\n",
       "      <th>src</th>\n",
       "      <th>tar</th>\n",
       "      <th>lic</th>\n",
       "    </tr>\n",
       "  </thead>\n",
       "  <tbody>\n",
       "    <tr>\n",
       "      <th>0</th>\n",
       "      <td>Go.</td>\n",
       "      <td>Va !</td>\n",
       "      <td>CC-BY 2.0 (France) Attribution: tatoeba.org #2...</td>\n",
       "    </tr>\n",
       "    <tr>\n",
       "      <th>1</th>\n",
       "      <td>Go.</td>\n",
       "      <td>Marche.</td>\n",
       "      <td>CC-BY 2.0 (France) Attribution: tatoeba.org #2...</td>\n",
       "    </tr>\n",
       "    <tr>\n",
       "      <th>2</th>\n",
       "      <td>Go.</td>\n",
       "      <td>En route !</td>\n",
       "      <td>CC-BY 2.0 (France) Attribution: tatoeba.org #2...</td>\n",
       "    </tr>\n",
       "    <tr>\n",
       "      <th>3</th>\n",
       "      <td>Go.</td>\n",
       "      <td>Bouge !</td>\n",
       "      <td>CC-BY 2.0 (France) Attribution: tatoeba.org #2...</td>\n",
       "    </tr>\n",
       "    <tr>\n",
       "      <th>4</th>\n",
       "      <td>Hi.</td>\n",
       "      <td>Salut !</td>\n",
       "      <td>CC-BY 2.0 (France) Attribution: tatoeba.org #5...</td>\n",
       "    </tr>\n",
       "  </tbody>\n",
       "</table>\n",
       "</div>"
      ],
      "text/plain": [
       "   src         tar                                                lic\n",
       "0  Go.        Va !  CC-BY 2.0 (France) Attribution: tatoeba.org #2...\n",
       "1  Go.     Marche.  CC-BY 2.0 (France) Attribution: tatoeba.org #2...\n",
       "2  Go.  En route !  CC-BY 2.0 (France) Attribution: tatoeba.org #2...\n",
       "3  Go.     Bouge !  CC-BY 2.0 (France) Attribution: tatoeba.org #2...\n",
       "4  Hi.     Salut !  CC-BY 2.0 (France) Attribution: tatoeba.org #5..."
      ]
     },
     "execution_count": 2,
     "metadata": {},
     "output_type": "execute_result"
    }
   ],
   "source": [
    "lines = pd.read_csv('./data/fra.txt', names=['src', 'tar', 'lic'], sep='\\t')\n",
    "lines.head()"
   ]
  },
  {
   "cell_type": "code",
   "execution_count": 3,
   "metadata": {},
   "outputs": [],
   "source": [
    "del lines['lic']"
   ]
  },
  {
   "cell_type": "code",
   "execution_count": 4,
   "metadata": {},
   "outputs": [
    {
     "name": "stdout",
     "output_type": "stream",
     "text": [
      "전체 데이터 개수: 232736\n"
     ]
    }
   ],
   "source": [
    "print(f'전체 데이터 개수: {len(lines)}')"
   ]
  },
  {
   "cell_type": "code",
   "execution_count": 5,
   "metadata": {},
   "outputs": [
    {
     "data": {
      "text/html": [
       "<div>\n",
       "<style scoped>\n",
       "    .dataframe tbody tr th:only-of-type {\n",
       "        vertical-align: middle;\n",
       "    }\n",
       "\n",
       "    .dataframe tbody tr th {\n",
       "        vertical-align: top;\n",
       "    }\n",
       "\n",
       "    .dataframe thead th {\n",
       "        text-align: right;\n",
       "    }\n",
       "</style>\n",
       "<table border=\"1\" class=\"dataframe\">\n",
       "  <thead>\n",
       "    <tr style=\"text-align: right;\">\n",
       "      <th></th>\n",
       "      <th>src</th>\n",
       "      <th>tar</th>\n",
       "    </tr>\n",
       "  </thead>\n",
       "  <tbody>\n",
       "    <tr>\n",
       "      <th>0</th>\n",
       "      <td>Go.</td>\n",
       "      <td>Va !</td>\n",
       "    </tr>\n",
       "    <tr>\n",
       "      <th>1</th>\n",
       "      <td>Go.</td>\n",
       "      <td>Marche.</td>\n",
       "    </tr>\n",
       "    <tr>\n",
       "      <th>2</th>\n",
       "      <td>Go.</td>\n",
       "      <td>En route !</td>\n",
       "    </tr>\n",
       "    <tr>\n",
       "      <th>3</th>\n",
       "      <td>Go.</td>\n",
       "      <td>Bouge !</td>\n",
       "    </tr>\n",
       "    <tr>\n",
       "      <th>4</th>\n",
       "      <td>Hi.</td>\n",
       "      <td>Salut !</td>\n",
       "    </tr>\n",
       "  </tbody>\n",
       "</table>\n",
       "</div>"
      ],
      "text/plain": [
       "   src         tar\n",
       "0  Go.        Va !\n",
       "1  Go.     Marche.\n",
       "2  Go.  En route !\n",
       "3  Go.     Bouge !\n",
       "4  Hi.     Salut !"
      ]
     },
     "execution_count": 5,
     "metadata": {},
     "output_type": "execute_result"
    }
   ],
   "source": [
    "lines.head()"
   ]
  },
  {
   "cell_type": "code",
   "execution_count": 6,
   "metadata": {},
   "outputs": [
    {
     "data": {
      "text/html": [
       "<div>\n",
       "<style scoped>\n",
       "    .dataframe tbody tr th:only-of-type {\n",
       "        vertical-align: middle;\n",
       "    }\n",
       "\n",
       "    .dataframe tbody tr th {\n",
       "        vertical-align: top;\n",
       "    }\n",
       "\n",
       "    .dataframe thead th {\n",
       "        text-align: right;\n",
       "    }\n",
       "</style>\n",
       "<table border=\"1\" class=\"dataframe\">\n",
       "  <thead>\n",
       "    <tr style=\"text-align: right;\">\n",
       "      <th></th>\n",
       "      <th>src</th>\n",
       "      <th>tar</th>\n",
       "    </tr>\n",
       "  </thead>\n",
       "  <tbody>\n",
       "    <tr>\n",
       "      <th>38511</th>\n",
       "      <td>You aren't invited.</td>\n",
       "      <td>Vous n'êtes pas invité.</td>\n",
       "    </tr>\n",
       "    <tr>\n",
       "      <th>18594</th>\n",
       "      <td>We're very busy.</td>\n",
       "      <td>Nous sommes fort occupés.</td>\n",
       "    </tr>\n",
       "    <tr>\n",
       "      <th>59776</th>\n",
       "      <td>Nothing is impossible.</td>\n",
       "      <td>Rien n'est impossible.</td>\n",
       "    </tr>\n",
       "    <tr>\n",
       "      <th>32858</th>\n",
       "      <td>He arrived in time.</td>\n",
       "      <td>Il est arrivé à temps.</td>\n",
       "    </tr>\n",
       "    <tr>\n",
       "      <th>55895</th>\n",
       "      <td>Don't touch the stove.</td>\n",
       "      <td>Ne touchez pas le poêle.</td>\n",
       "    </tr>\n",
       "    <tr>\n",
       "      <th>5360</th>\n",
       "      <td>I might stay.</td>\n",
       "      <td>Il se pourrait que je reste.</td>\n",
       "    </tr>\n",
       "    <tr>\n",
       "      <th>15992</th>\n",
       "      <td>I was very busy.</td>\n",
       "      <td>J'étais bien occupé.</td>\n",
       "    </tr>\n",
       "    <tr>\n",
       "      <th>25282</th>\n",
       "      <td>Am I a bad person?</td>\n",
       "      <td>Suis-je quelqu'un de mauvais ?</td>\n",
       "    </tr>\n",
       "    <tr>\n",
       "      <th>9121</th>\n",
       "      <td>Show yourself.</td>\n",
       "      <td>Montre-toi !</td>\n",
       "    </tr>\n",
       "    <tr>\n",
       "      <th>44301</th>\n",
       "      <td>This guy is a loser.</td>\n",
       "      <td>Ce mec est un nullard.</td>\n",
       "    </tr>\n",
       "  </tbody>\n",
       "</table>\n",
       "</div>"
      ],
      "text/plain": [
       "                          src                             tar\n",
       "38511     You aren't invited.         Vous n'êtes pas invité.\n",
       "18594        We're very busy.       Nous sommes fort occupés.\n",
       "59776  Nothing is impossible.          Rien n'est impossible.\n",
       "32858     He arrived in time.          Il est arrivé à temps.\n",
       "55895  Don't touch the stove.        Ne touchez pas le poêle.\n",
       "5360            I might stay.    Il se pourrait que je reste.\n",
       "15992        I was very busy.            J'étais bien occupé.\n",
       "25282      Am I a bad person?  Suis-je quelqu'un de mauvais ?\n",
       "9121           Show yourself.                    Montre-toi !\n",
       "44301    This guy is a loser.          Ce mec est un nullard."
      ]
     },
     "execution_count": 6,
     "metadata": {},
     "output_type": "execute_result"
    }
   ],
   "source": [
    "lines = lines[:60000]\n",
    "# 데이터 개수 줄이기\n",
    "lines.sample(10)"
   ]
  },
  {
   "cell_type": "code",
   "execution_count": 7,
   "metadata": {},
   "outputs": [],
   "source": [
    "lines.tar = lines.tar.apply(lambda x: '\\t '+ x + ' \\n')\n",
    "# 시작을 의미하는 sos , 끝을 의미하는 eos"
   ]
  },
  {
   "cell_type": "code",
   "execution_count": 8,
   "metadata": {},
   "outputs": [
    {
     "data": {
      "text/plain": [
       "0                              \\t Va ! \\n\n",
       "1                           \\t Marche. \\n\n",
       "2                        \\t En route ! \\n\n",
       "3                           \\t Bouge ! \\n\n",
       "4                           \\t Salut ! \\n\n",
       "                       ...               \n",
       "59995      \\t Elle aime l'enseignante. \\n\n",
       "59996          \\t Elle aime le maitre. \\n\n",
       "59997       \\t Elle aime la maitresse. \\n\n",
       "59998    \\t Elle vécut une longue vie. \\n\n",
       "59999          \\t Elle vit à New York. \\n\n",
       "Name: tar, Length: 60000, dtype: object"
      ]
     },
     "execution_count": 8,
     "metadata": {},
     "output_type": "execute_result"
    }
   ],
   "source": [
    "lines.tar"
   ]
  },
  {
   "cell_type": "code",
   "execution_count": 9,
   "metadata": {},
   "outputs": [
    {
     "data": {
      "text/html": [
       "<div>\n",
       "<style scoped>\n",
       "    .dataframe tbody tr th:only-of-type {\n",
       "        vertical-align: middle;\n",
       "    }\n",
       "\n",
       "    .dataframe tbody tr th {\n",
       "        vertical-align: top;\n",
       "    }\n",
       "\n",
       "    .dataframe thead th {\n",
       "        text-align: right;\n",
       "    }\n",
       "</style>\n",
       "<table border=\"1\" class=\"dataframe\">\n",
       "  <thead>\n",
       "    <tr style=\"text-align: right;\">\n",
       "      <th></th>\n",
       "      <th>src</th>\n",
       "      <th>tar</th>\n",
       "    </tr>\n",
       "  </thead>\n",
       "  <tbody>\n",
       "    <tr>\n",
       "      <th>44654</th>\n",
       "      <td>Tom is on his phone.</td>\n",
       "      <td>\\t Tom est au téléphone. \\n</td>\n",
       "    </tr>\n",
       "    <tr>\n",
       "      <th>22381</th>\n",
       "      <td>No one disagreed.</td>\n",
       "      <td>\\t Personne ne fut en désaccord. \\n</td>\n",
       "    </tr>\n",
       "    <tr>\n",
       "      <th>33614</th>\n",
       "      <td>I failed miserably.</td>\n",
       "      <td>\\t J'ai lamentablement échoué. \\n</td>\n",
       "    </tr>\n",
       "    <tr>\n",
       "      <th>15788</th>\n",
       "      <td>I outwitted him.</td>\n",
       "      <td>\\t J'ai été plus maline que lui. \\n</td>\n",
       "    </tr>\n",
       "    <tr>\n",
       "      <th>6678</th>\n",
       "      <td>Try to sleep.</td>\n",
       "      <td>\\t Essayez de dormir. \\n</td>\n",
       "    </tr>\n",
       "    <tr>\n",
       "      <th>22585</th>\n",
       "      <td>Red wine, please.</td>\n",
       "      <td>\\t Du vin rouge, s'il vous plait. \\n</td>\n",
       "    </tr>\n",
       "    <tr>\n",
       "      <th>22961</th>\n",
       "      <td>The apple is red.</td>\n",
       "      <td>\\t La pomme est rouge. \\n</td>\n",
       "    </tr>\n",
       "    <tr>\n",
       "      <th>46016</th>\n",
       "      <td>Would you chill out?</td>\n",
       "      <td>\\t Voudrais-tu te détendre ? \\n</td>\n",
       "    </tr>\n",
       "    <tr>\n",
       "      <th>47287</th>\n",
       "      <td>Do you understand me?</td>\n",
       "      <td>\\t Me comprends-tu ? \\n</td>\n",
       "    </tr>\n",
       "    <tr>\n",
       "      <th>53428</th>\n",
       "      <td>We have lots of time.</td>\n",
       "      <td>\\t Nous avons beaucoup de temps. \\n</td>\n",
       "    </tr>\n",
       "  </tbody>\n",
       "</table>\n",
       "</div>"
      ],
      "text/plain": [
       "                         src                                   tar\n",
       "44654   Tom is on his phone.           \\t Tom est au téléphone. \\n\n",
       "22381      No one disagreed.   \\t Personne ne fut en désaccord. \\n\n",
       "33614    I failed miserably.     \\t J'ai lamentablement échoué. \\n\n",
       "15788       I outwitted him.   \\t J'ai été plus maline que lui. \\n\n",
       "6678           Try to sleep.              \\t Essayez de dormir. \\n\n",
       "22585      Red wine, please.  \\t Du vin rouge, s'il vous plait. \\n\n",
       "22961      The apple is red.             \\t La pomme est rouge. \\n\n",
       "46016   Would you chill out?       \\t Voudrais-tu te détendre ? \\n\n",
       "47287  Do you understand me?               \\t Me comprends-tu ? \\n\n",
       "53428  We have lots of time.   \\t Nous avons beaucoup de temps. \\n"
      ]
     },
     "execution_count": 9,
     "metadata": {},
     "output_type": "execute_result"
    }
   ],
   "source": [
    "lines.sample(10)"
   ]
  },
  {
   "cell_type": "code",
   "execution_count": 10,
   "metadata": {},
   "outputs": [],
   "source": [
    "src_vocab = set()\n",
    "for line in lines['src']:\n",
    "    for char in line:\n",
    "        src_vocab.add(char)\n",
    "        # src 문자 집합 구축"
   ]
  },
  {
   "cell_type": "code",
   "execution_count": 11,
   "metadata": {},
   "outputs": [
    {
     "name": "stdout",
     "output_type": "stream",
     "text": [
      "{'M', 'q', \"'\", 'l', 'P', '0', '7', '\"', 'S', 'B', 'b', 'X', 'e', 'I', 'i', '-', 'é', 'u', '3', 'N', 'G', 'C', '5', 'p', '8', 'F', '€', ' ', '$', 'z', 'O', 'w', 's', 'n', 'A', 'o', 'R', 'y', '6', ',', 't', 'r', '%', '4', 'x', 'H', 'g', 'k', 'L', 'f', 'j', '’', 'W', 'h', 'Y', 'Q', '/', 'ï', '9', 'v', 'm', 'T', '&', 'a', 'D', 'E', 'c', 'V', 'U', '!', 'J', 'd', ':', '1', 'K', 'Z', '?', '2', '.'}\n"
     ]
    }
   ],
   "source": [
    "print(src_vocab)"
   ]
  },
  {
   "cell_type": "code",
   "execution_count": 12,
   "metadata": {},
   "outputs": [],
   "source": [
    "target_vocab = set()\n",
    "for line in lines['tar']:\n",
    "    for char in line:\n",
    "        target_vocab.add(char)\n",
    "        # tar 문자 집합 구축"
   ]
  },
  {
   "cell_type": "code",
   "execution_count": 13,
   "metadata": {},
   "outputs": [
    {
     "name": "stdout",
     "output_type": "stream",
     "text": [
      "{'M', '«', '‽', 'q', \"'\", 'l', 'P', '0', '7', '\"', 'S', 'B', 'ê', 'b', 'X', 'e', 'I', 'i', 'î', 'œ', '-', 'é', 'u', '3', 'N', 'G', 'C', '5', 'p', '8', 'ë', 'F', ' ', '$', 'û', 'z', 'O', 'w', '\\n', 'Ô', 's', 'n', 'A', 'o', 'R', '\\xa0', 'y', 'Ê', '6', 'ç', ',', 't', 'r', '%', '4', 'x', 'H', 'g', '\\u202f', 'k', 'L', 'è', 'j', 'f', '’', 'W', 'h', '\\t', '\\u2009', 'ï', 'Q', 'Y', '9', 'v', 'm', 'T', '&', 'a', 'D', 'É', 'Ç', 'E', 'ô', 'c', 'V', 'U', 'à', '!', 'J', 'ù', 'd', 'À', ':', '1', 'K', '?', '2', 'â', '‘', '.', '»'}\n"
     ]
    }
   ],
   "source": [
    "print(target_vocab)"
   ]
  },
  {
   "cell_type": "code",
   "execution_count": 14,
   "metadata": {},
   "outputs": [
    {
     "name": "stdout",
     "output_type": "stream",
     "text": [
      "src 문장의 문자 집합 크기: 80\n"
     ]
    }
   ],
   "source": [
    "src_vocab_size = len(src_vocab) + 1\n",
    "print(f'src 문장의 문자 집합 크기: {src_vocab_size}')\n",
    "# 인코더에 데이터를 넣을 때 사용될 차원의 크기"
   ]
  },
  {
   "cell_type": "code",
   "execution_count": 15,
   "metadata": {},
   "outputs": [
    {
     "name": "stdout",
     "output_type": "stream",
     "text": [
      "tar 문장의 문자 집합 크기: 102\n"
     ]
    }
   ],
   "source": [
    "tar_vocab_size = len(target_vocab) + 1\n",
    "print(f'tar 문장의 문자 집합 크기: {tar_vocab_size}')\n",
    "# 디코더에 데이터를 넣을 때 사용될 차원의 크기"
   ]
  },
  {
   "cell_type": "code",
   "execution_count": 16,
   "metadata": {},
   "outputs": [
    {
     "name": "stdout",
     "output_type": "stream",
     "text": [
      "{'M', 'q', \"'\", 'l', 'P', '0', '7', '\"', 'S', 'B', 'b', 'X', 'e', 'I', 'i', '-', 'é', 'u', '3', 'N', 'G', 'C', '5', 'p', '8', 'F', '€', ' ', '$', 'z', 'O', 'w', 's', 'n', 'A', 'o', 'R', 'y', '6', ',', 't', 'r', '%', '4', 'x', 'H', 'g', 'k', 'L', 'f', 'j', '’', 'W', 'h', 'Y', 'Q', '/', 'ï', '9', 'v', 'm', 'T', '&', 'a', 'D', 'E', 'c', 'V', 'U', '!', 'J', 'd', ':', '1', 'K', 'Z', '?', '2', '.'}\n"
     ]
    }
   ],
   "source": [
    "print(src_vocab)"
   ]
  },
  {
   "cell_type": "code",
   "execution_count": 17,
   "metadata": {},
   "outputs": [],
   "source": [
    "src_to_index = {}\n",
    "\n",
    "for i, word in enumerate(src_vocab):\n",
    "    src_to_index[word] = i + 1  # padding\n",
    "    # 정수 인덱싱을 위한 인코딩 작업"
   ]
  },
  {
   "cell_type": "code",
   "execution_count": 18,
   "metadata": {},
   "outputs": [
    {
     "name": "stdout",
     "output_type": "stream",
     "text": [
      "{'M': 1, 'q': 2, \"'\": 3, 'l': 4, 'P': 5, '0': 6, '7': 7, '\"': 8, 'S': 9, 'B': 10, 'b': 11, 'X': 12, 'e': 13, 'I': 14, 'i': 15, '-': 16, 'é': 17, 'u': 18, '3': 19, 'N': 20, 'G': 21, 'C': 22, '5': 23, 'p': 24, '8': 25, 'F': 26, '€': 27, ' ': 28, '$': 29, 'z': 30, 'O': 31, 'w': 32, 's': 33, 'n': 34, 'A': 35, 'o': 36, 'R': 37, 'y': 38, '6': 39, ',': 40, 't': 41, 'r': 42, '%': 43, '4': 44, 'x': 45, 'H': 46, 'g': 47, 'k': 48, 'L': 49, 'f': 50, 'j': 51, '’': 52, 'W': 53, 'h': 54, 'Y': 55, 'Q': 56, '/': 57, 'ï': 58, '9': 59, 'v': 60, 'm': 61, 'T': 62, '&': 63, 'a': 64, 'D': 65, 'E': 66, 'c': 67, 'V': 68, 'U': 69, '!': 70, 'J': 71, 'd': 72, ':': 73, '1': 74, 'K': 75, 'Z': 76, '?': 77, '2': 78, '.': 79}\n"
     ]
    }
   ],
   "source": [
    "print(src_to_index)"
   ]
  },
  {
   "cell_type": "code",
   "execution_count": 19,
   "metadata": {},
   "outputs": [],
   "source": [
    "tar_to_index = {}\n",
    "\n",
    "for i, word in enumerate(target_vocab):\n",
    "    tar_to_index[word] = i+1"
   ]
  },
  {
   "cell_type": "code",
   "execution_count": 20,
   "metadata": {},
   "outputs": [
    {
     "name": "stdout",
     "output_type": "stream",
     "text": [
      "{'M': 1, '«': 2, '‽': 3, 'q': 4, \"'\": 5, 'l': 6, 'P': 7, '0': 8, '7': 9, '\"': 10, 'S': 11, 'B': 12, 'ê': 13, 'b': 14, 'X': 15, 'e': 16, 'I': 17, 'i': 18, 'î': 19, 'œ': 20, '-': 21, 'é': 22, 'u': 23, '3': 24, 'N': 25, 'G': 26, 'C': 27, '5': 28, 'p': 29, '8': 30, 'ë': 31, 'F': 32, ' ': 33, '$': 34, 'û': 35, 'z': 36, 'O': 37, 'w': 38, '\\n': 39, 'Ô': 40, 's': 41, 'n': 42, 'A': 43, 'o': 44, 'R': 45, '\\xa0': 46, 'y': 47, 'Ê': 48, '6': 49, 'ç': 50, ',': 51, 't': 52, 'r': 53, '%': 54, '4': 55, 'x': 56, 'H': 57, 'g': 58, '\\u202f': 59, 'k': 60, 'L': 61, 'è': 62, 'j': 63, 'f': 64, '’': 65, 'W': 66, 'h': 67, '\\t': 68, '\\u2009': 69, 'ï': 70, 'Q': 71, 'Y': 72, '9': 73, 'v': 74, 'm': 75, 'T': 76, '&': 77, 'a': 78, 'D': 79, 'É': 80, 'Ç': 81, 'E': 82, 'ô': 83, 'c': 84, 'V': 85, 'U': 86, 'à': 87, '!': 88, 'J': 89, 'ù': 90, 'd': 91, 'À': 92, ':': 93, '1': 94, 'K': 95, '?': 96, '2': 97, 'â': 98, '‘': 99, '.': 100, '»': 101}\n"
     ]
    }
   ],
   "source": [
    "print(tar_to_index)"
   ]
  },
  {
   "cell_type": "code",
   "execution_count": 21,
   "metadata": {},
   "outputs": [
    {
     "name": "stdout",
     "output_type": "stream",
     "text": [
      "src 문장의 정수 인코딩 [[21, 36, 79], [21, 36, 79], [21, 36, 79], [21, 36, 79], [46, 15, 79]]\n"
     ]
    }
   ],
   "source": [
    "encoder_input = []\n",
    "for line in lines['src']:\n",
    "    encoded_line = []\n",
    "    for char in line:\n",
    "        encoded_line.append(src_to_index[char])\n",
    "    encoder_input.append(encoded_line)\n",
    "\n",
    "print(f'src 문장의 정수 인코딩 {encoder_input[:5]}')"
   ]
  },
  {
   "cell_type": "code",
   "execution_count": 22,
   "metadata": {},
   "outputs": [
    {
     "name": "stdout",
     "output_type": "stream",
     "text": [
      "tar 문장의 정수 인코딩 [[68, 33, 85, 78, 33, 88, 33, 39], [68, 33, 1, 78, 53, 84, 67, 16, 100, 33, 39], [68, 33, 82, 42, 33, 53, 44, 23, 52, 16, 33, 88, 33, 39], [68, 33, 12, 44, 23, 58, 16, 33, 88, 33, 39], [68, 33, 11, 78, 6, 23, 52, 33, 88, 33, 39]]\n"
     ]
    }
   ],
   "source": [
    "decoder_input = []\n",
    "for line in lines['tar']:\n",
    "    decoded_line = []\n",
    "    for char in line:\n",
    "        decoded_line.append(tar_to_index[char])\n",
    "    decoder_input.append(decoded_line)\n",
    "\n",
    "print(f'tar 문장의 정수 인코딩 {decoder_input[:5]}')"
   ]
  },
  {
   "cell_type": "code",
   "execution_count": 23,
   "metadata": {},
   "outputs": [
    {
     "name": "stdout",
     "output_type": "stream",
     "text": [
      "디코더 target 문장의 정수 인코딩 [[33, 85, 78, 33, 88, 33, 39], [33, 1, 78, 53, 84, 67, 16, 100, 33, 39], [33, 82, 42, 33, 53, 44, 23, 52, 16, 33, 88, 33, 39], [33, 12, 44, 23, 58, 16, 33, 88, 33, 39], [33, 11, 78, 6, 23, 52, 33, 88, 33, 39]]\n"
     ]
    }
   ],
   "source": [
    "decoder_target = []\n",
    "for line in lines['tar']:\n",
    "    char_position = 0\n",
    "    # 문자 위치를 추적할 수 있는 변수\n",
    "    decoded_line = []\n",
    "    for char in line:\n",
    "        if char_position != 0:\n",
    "            decoded_line.append(tar_to_index[char])\n",
    "        char_position += 1\n",
    "    decoder_target.append(decoded_line)\n",
    "\n",
    "print(f'디코더 target 문장의 정수 인코딩 {decoder_target[:5]}')"
   ]
  },
  {
   "cell_type": "code",
   "execution_count": 24,
   "metadata": {},
   "outputs": [
    {
     "name": "stdout",
     "output_type": "stream",
     "text": [
      "src 문장의 최대 길이 22\n"
     ]
    }
   ],
   "source": [
    "lengths = []\n",
    "for line in lines['src']:\n",
    "    lengths.append(len(line))\n",
    "\n",
    "max_src = max(lengths)\n",
    "print(f'src 문장의 최대 길이 {max_src}')"
   ]
  },
  {
   "cell_type": "code",
   "execution_count": 25,
   "metadata": {},
   "outputs": [
    {
     "name": "stdout",
     "output_type": "stream",
     "text": [
      "tar 문장의 최대 길이 76\n"
     ]
    }
   ],
   "source": [
    "lengths = []\n",
    "for line in lines['tar']:\n",
    "    lengths.append(len(line))\n",
    "\n",
    "max_tar = max(lengths)\n",
    "print(f'tar 문장의 최대 길이 {max_tar}')"
   ]
  },
  {
   "cell_type": "code",
   "execution_count": 26,
   "metadata": {},
   "outputs": [],
   "source": [
    "encoder_input = pad_sequences(encoder_input, maxlen=max_src, padding='post')\n",
    "decoder_input = pad_sequences(decoder_input, maxlen=max_tar, padding='post')\n",
    "# 인코더와 디코더에 들어갈 데이터 패딩 작업\n",
    "\n",
    "# input과 output의 길이를 맞춰줄 필요가 없다 > 언어에 따른 길이의 차이가 있기 때문에"
   ]
  },
  {
   "cell_type": "code",
   "execution_count": 27,
   "metadata": {},
   "outputs": [],
   "source": [
    "decoder_target = pad_sequences(decoder_target, maxlen=max_tar, padding='post')\n",
    "# 디코더에 정답 데이터로 사용될 데이터 패딩 작업\n",
    "\n",
    "# pre: 문장 생성 시에는 문장 끝에 어떤 단어가 나올지가 더 중요하기 때문에 앞쪽에 패딩을 넣어주는 것이 좋다\n",
    "# post: 문장의 순서, 시퀀스를 유지하는 것이 더 중요한 예측에서는 뒷쪽에 패딩을 넣어주는 것이 좋다\n",
    "\n",
    "# target maxlen=max_tar: 패딩은 부족한 부분을 0을 채워 동일한 길이로 맞추는 과정이기 때문에, target과 decoder의 길이 차이는 중요하지 않다"
   ]
  },
  {
   "cell_type": "code",
   "execution_count": 28,
   "metadata": {},
   "outputs": [],
   "source": [
    "encoder_input = to_categorical(encoder_input)\n",
    "decoder_input = to_categorical(decoder_input)\n",
    "decoder_target = to_categorical(decoder_target)"
   ]
  },
  {
   "cell_type": "code",
   "execution_count": 29,
   "metadata": {},
   "outputs": [],
   "source": [
    "from tensorflow.keras.layers import Input, LSTM, Embedding, Dense\n",
    "from tensorflow.keras.models import Model\n",
    "import numpy as np"
   ]
  },
  {
   "cell_type": "code",
   "execution_count": 30,
   "metadata": {},
   "outputs": [],
   "source": [
    "encoder_inputs = Input(shape=(None, src_vocab_size))\n",
    "# (None, src_vocab_size)의 형태를 갖는 input을 주겠다\n",
    "# None: 가변적인 입력 문장의 길이 (명시하지 않겠다)\n",
    "# abc > [[0, 0, 1], [0, 1, 0], [1, 0, 0]], de > [[1, 0, 1]. [1, 1, 1]]"
   ]
  },
  {
   "cell_type": "code",
   "execution_count": 31,
   "metadata": {},
   "outputs": [],
   "source": [
    "encoder_lstm = LSTM(units=256, return_state=True)"
   ]
  },
  {
   "cell_type": "code",
   "execution_count": 32,
   "metadata": {},
   "outputs": [],
   "source": [
    "encoder_outputs, state_h, state_c = encoder_lstm(encoder_inputs)\n",
    "# LSTM은 은닉 상태와 셀 상태를 리턴한다\n",
    "# state_h: 은닉 상태 (현재 시점에서의 출력), state_c: 장기기억으로 보존하고 있는 셀 상태 (비교적 중요한 값들을 기억하고 있다)"
   ]
  },
  {
   "cell_type": "code",
   "execution_count": 33,
   "metadata": {},
   "outputs": [],
   "source": [
    "encoder_states = [state_h, state_c]\n",
    "# context vector"
   ]
  },
  {
   "cell_type": "code",
   "execution_count": 34,
   "metadata": {},
   "outputs": [],
   "source": [
    "decoder_inputs = Input(shape=(None, tar_vocab_size))\n",
    "# 디코더는 인코더의 마지막 context vector를 초기 은닉 상태로 사용한다"
   ]
  },
  {
   "cell_type": "code",
   "execution_count": 35,
   "metadata": {},
   "outputs": [],
   "source": [
    "decoder_lstm = LSTM(units=256, return_sequences=True, return_state=True)\n",
    "# return_sequences: 모든 타임스텝의 출력\n",
    "# return_state: 마지막 타임스텝의 은닉 상태와 셀 상태를 출력"
   ]
  },
  {
   "cell_type": "code",
   "execution_count": 36,
   "metadata": {},
   "outputs": [],
   "source": [
    "decoder_outputs, _, _ = decoder_lstm(decoder_inputs, initial_state=encoder_states)\n",
    "# 디코더의 outputs 출력되는 구간\n",
    "# state_h, state_c를 사용하지 않으므로 _로 넣어둔다 (정답을 넣어줄 것이기 때문 - 교사강요)"
   ]
  },
  {
   "cell_type": "code",
   "execution_count": 37,
   "metadata": {},
   "outputs": [],
   "source": [
    "decoder_softmax_layer = Dense(tar_vocab_size, activation='softmax')\n",
    "# 디코더의 출력은 타겟 단어 집합의 각 단어에 대한 확률 중 높은 값이어야한다"
   ]
  },
  {
   "cell_type": "code",
   "execution_count": 38,
   "metadata": {},
   "outputs": [],
   "source": [
    "decoder_outputs = decoder_softmax_layer(decoder_outputs)"
   ]
  },
  {
   "cell_type": "code",
   "execution_count": 39,
   "metadata": {},
   "outputs": [],
   "source": [
    "model = Model([encoder_inputs, decoder_inputs], decoder_outputs)\n",
    "# 모델에 입력할 데이터의 형태\n",
    "model.compile(optimizer='rmsprop', loss='categorical_crossentropy')"
   ]
  },
  {
   "cell_type": "code",
   "execution_count": 40,
   "metadata": {},
   "outputs": [
    {
     "name": "stdout",
     "output_type": "stream",
     "text": [
      "Epoch 1/20\n",
      "750/750 [==============================] - 196s 257ms/step - loss: 0.7337 - val_loss: 0.6377\n",
      "Epoch 2/20\n",
      "750/750 [==============================] - 201s 267ms/step - loss: 0.4467 - val_loss: 0.5110\n",
      "Epoch 3/20\n",
      "750/750 [==============================] - 199s 265ms/step - loss: 0.3724 - val_loss: 0.4519\n",
      "Epoch 4/20\n",
      "750/750 [==============================] - 205s 273ms/step - loss: 0.3302 - val_loss: 0.4149\n",
      "Epoch 5/20\n",
      "750/750 [==============================] - 214s 285ms/step - loss: 0.3021 - val_loss: 0.3919\n",
      "Epoch 6/20\n",
      "750/750 [==============================] - 220s 294ms/step - loss: 0.2815 - val_loss: 0.3741\n",
      "Epoch 7/20\n",
      "750/750 [==============================] - 229s 306ms/step - loss: 0.2653 - val_loss: 0.3609\n",
      "Epoch 8/20\n",
      "750/750 [==============================] - 226s 302ms/step - loss: 0.2521 - val_loss: 0.3527\n",
      "Epoch 9/20\n",
      "750/750 [==============================] - 225s 299ms/step - loss: 0.2413 - val_loss: 0.3458\n",
      "Epoch 10/20\n",
      "750/750 [==============================] - 215s 286ms/step - loss: 0.2318 - val_loss: 0.3396\n",
      "Epoch 11/20\n",
      "750/750 [==============================] - 213s 284ms/step - loss: 0.2237 - val_loss: 0.3360\n",
      "Epoch 12/20\n",
      "750/750 [==============================] - 208s 277ms/step - loss: 0.2162 - val_loss: 0.3332\n",
      "Epoch 13/20\n",
      "750/750 [==============================] - 213s 284ms/step - loss: 0.2096 - val_loss: 0.3329\n",
      "Epoch 14/20\n",
      "750/750 [==============================] - 231s 308ms/step - loss: 0.2034 - val_loss: 0.3312\n",
      "Epoch 15/20\n",
      "750/750 [==============================] - 218s 291ms/step - loss: 0.1979 - val_loss: 0.3284\n",
      "Epoch 16/20\n",
      "750/750 [==============================] - 216s 288ms/step - loss: 0.1927 - val_loss: 0.3292\n",
      "Epoch 17/20\n",
      "750/750 [==============================] - 227s 303ms/step - loss: 0.1880 - val_loss: 0.3279\n",
      "Epoch 18/20\n",
      "750/750 [==============================] - 230s 306ms/step - loss: 0.1834 - val_loss: 0.3290\n",
      "Epoch 19/20\n",
      "750/750 [==============================] - 232s 309ms/step - loss: 0.1792 - val_loss: 0.3297\n",
      "Epoch 20/20\n",
      "750/750 [==============================] - 248s 330ms/step - loss: 0.1753 - val_loss: 0.3310\n"
     ]
    },
    {
     "data": {
      "text/plain": [
       "<keras.callbacks.History at 0x1ae1cbe7be0>"
      ]
     },
     "execution_count": 40,
     "metadata": {},
     "output_type": "execute_result"
    }
   ],
   "source": [
    "model.fit(\n",
    "    x=[encoder_input, decoder_input],\n",
    "    # 모델에 입력할 데이터\n",
    "    y=decoder_target,\n",
    "    batch_size=64,\n",
    "    epochs=20,\n",
    "    validation_split=0.2\n",
    ")"
   ]
  },
  {
   "cell_type": "code",
   "execution_count": 41,
   "metadata": {},
   "outputs": [],
   "source": [
    "# 번역 동작 step\n",
    "# 1. 번역하려고 하는 input 문장이 인코더에 들어가서 context 벡터를 얻는다\n",
    "# 2. context 벡터와 <sos> (\\t)를 디코더로 보낸다\n",
    "# 3. 디코더가 <eos> (\\n)이 나올 때까지 다음 문자를 예측 반복\n",
    "\n",
    "encoder_model = Model(inputs=encoder_inputs, outputs=encoder_states)"
   ]
  },
  {
   "cell_type": "code",
   "execution_count": 42,
   "metadata": {},
   "outputs": [],
   "source": [
    "decoder_state_input_h = Input(shape=(256, ))  # 은닉 상태\n",
    "decoder_state_input_c = Input(shape=(256, ))  # 셀 상태\n",
    "\n",
    "# 디코더 셀에서 각각 이전 시점의 상태를 저장하는 텐서\n",
    "# 디코더의 은닉 상태와 셀 상태를 입력으로 받기 위한 텐서로, 디코더 LSTM의 hidden units의 크기와 동일하게 넣어주기"
   ]
  },
  {
   "cell_type": "code",
   "execution_count": 43,
   "metadata": {},
   "outputs": [],
   "source": [
    "decoder_states_inputs = [decoder_state_input_h, decoder_state_input_c]"
   ]
  },
  {
   "cell_type": "code",
   "execution_count": 44,
   "metadata": {},
   "outputs": [],
   "source": [
    "decoder_outputs, state_h, state_c = decoder_lstm(decoder_inputs, initial_state=decoder_states_inputs)\n",
    "# 디코더 LSTM 모델이 입력 값인 decoder_inputs와, 이전 상태인 decoder_states_inputs를 입력 받아 다음 단어를 예측하는 출력(decoder_outputs)와 새로운 은닉상태/셀상태(state_h, state_c)를 계산"
   ]
  },
  {
   "cell_type": "code",
   "execution_count": 45,
   "metadata": {},
   "outputs": [],
   "source": [
    "decoder_states = [state_h, state_c]"
   ]
  },
  {
   "cell_type": "code",
   "execution_count": 46,
   "metadata": {},
   "outputs": [],
   "source": [
    "decoder_outputs = decoder_softmax_layer(decoder_outputs)\n",
    "# 디코더 출력 값을 소프트맥스 레이어로 통과시켜 단어별 확률 분포 변화"
   ]
  },
  {
   "cell_type": "code",
   "execution_count": 47,
   "metadata": {},
   "outputs": [],
   "source": [
    "decoder_model = Model(inputs=[decoder_inputs] + decoder_states_inputs, outputs=[decoder_outputs] + decoder_states)\n",
    "# 다음 단어의 확률 분포와 새로운 상태 값을 반환"
   ]
  },
  {
   "cell_type": "code",
   "execution_count": 48,
   "metadata": {},
   "outputs": [
    {
     "name": "stdout",
     "output_type": "stream",
     "text": [
      "{1: 'M', 2: 'q', 3: \"'\", 4: 'l', 5: 'P', 6: '0', 7: '7', 8: '\"', 9: 'S', 10: 'B', 11: 'b', 12: 'X', 13: 'e', 14: 'I', 15: 'i', 16: '-', 17: 'é', 18: 'u', 19: '3', 20: 'N', 21: 'G', 22: 'C', 23: '5', 24: 'p', 25: '8', 26: 'F', 27: '€', 28: ' ', 29: '$', 30: 'z', 31: 'O', 32: 'w', 33: 's', 34: 'n', 35: 'A', 36: 'o', 37: 'R', 38: 'y', 39: '6', 40: ',', 41: 't', 42: 'r', 43: '%', 44: '4', 45: 'x', 46: 'H', 47: 'g', 48: 'k', 49: 'L', 50: 'f', 51: 'j', 52: '’', 53: 'W', 54: 'h', 55: 'Y', 56: 'Q', 57: '/', 58: 'ï', 59: '9', 60: 'v', 61: 'm', 62: 'T', 63: '&', 64: 'a', 65: 'D', 66: 'E', 67: 'c', 68: 'V', 69: 'U', 70: '!', 71: 'J', 72: 'd', 73: ':', 74: '1', 75: 'K', 76: 'Z', 77: '?', 78: '2', 79: '.'}\n"
     ]
    }
   ],
   "source": [
    "index_to_src = {}\n",
    "for char, i in src_to_index.items():\n",
    "    index_to_src[i] = char\n",
    "    # key: 정수인덱스, value: 문자가 되도록 뒤집어주기\n",
    "\n",
    "print(index_to_src)"
   ]
  },
  {
   "cell_type": "code",
   "execution_count": 49,
   "metadata": {},
   "outputs": [
    {
     "name": "stdout",
     "output_type": "stream",
     "text": [
      "{1: 'M', 2: '«', 3: '‽', 4: 'q', 5: \"'\", 6: 'l', 7: 'P', 8: '0', 9: '7', 10: '\"', 11: 'S', 12: 'B', 13: 'ê', 14: 'b', 15: 'X', 16: 'e', 17: 'I', 18: 'i', 19: 'î', 20: 'œ', 21: '-', 22: 'é', 23: 'u', 24: '3', 25: 'N', 26: 'G', 27: 'C', 28: '5', 29: 'p', 30: '8', 31: 'ë', 32: 'F', 33: ' ', 34: '$', 35: 'û', 36: 'z', 37: 'O', 38: 'w', 39: '\\n', 40: 'Ô', 41: 's', 42: 'n', 43: 'A', 44: 'o', 45: 'R', 46: '\\xa0', 47: 'y', 48: 'Ê', 49: '6', 50: 'ç', 51: ',', 52: 't', 53: 'r', 54: '%', 55: '4', 56: 'x', 57: 'H', 58: 'g', 59: '\\u202f', 60: 'k', 61: 'L', 62: 'è', 63: 'j', 64: 'f', 65: '’', 66: 'W', 67: 'h', 68: '\\t', 69: '\\u2009', 70: 'ï', 71: 'Q', 72: 'Y', 73: '9', 74: 'v', 75: 'm', 76: 'T', 77: '&', 78: 'a', 79: 'D', 80: 'É', 81: 'Ç', 82: 'E', 83: 'ô', 84: 'c', 85: 'V', 86: 'U', 87: 'à', 88: '!', 89: 'J', 90: 'ù', 91: 'd', 92: 'À', 93: ':', 94: '1', 95: 'K', 96: '?', 97: '2', 98: 'â', 99: '‘', 100: '.', 101: '»'}\n"
     ]
    }
   ],
   "source": [
    "index_to_tar = {}\n",
    "for char, i in tar_to_index.items():\n",
    "    index_to_tar[i] = char\n",
    "\n",
    "print(index_to_tar)"
   ]
  },
  {
   "cell_type": "code",
   "execution_count": 50,
   "metadata": {},
   "outputs": [],
   "source": [
    "def decode_sequence(input_seq):\n",
    "    states_value = encoder_model.predict(input_seq)\n",
    "\n",
    "    target_seq = np.zeros((1, 1, tar_vocab_size))\n",
    "    # 크기가 (1, 1, tar_vocab_size)인 배열 생성\n",
    "    target_seq[0, 0, tar_to_index['\\t']] = 1\n",
    "    # 0번째 문장의 0번째 단어의 \\t에 해당하는 위치를 1로 설정\n",
    "\n",
    "    stop_condition = False\n",
    "    decoded_sentence = ''\n",
    "    \n",
    "    while not stop_condition:\n",
    "        output_tokens, h, c = decoder_model.predict([target_seq] + states_value)\n",
    "        # target_sequence: 현재 디코더의 입력 시퀀스\n",
    "        # states_value: context vector\n",
    "        # output_tokens: 다음 단어에 대한 예측 확률 분포, h: 은닉 상태, c: 셀 상태\n",
    "\n",
    "        sampled_token_index = np.argmax(output_tokens[0, -1, :])\n",
    "        # 예측된 데이터 중에서 현재 타임 스텝인 마지막 값을 불러와서 그 중에 argmax(최댓값)을 sampled_token_index에 저장\n",
    "        sampled_char = index_to_tar[sampled_token_index]\n",
    "\n",
    "        decoded_sentence += sampled_char\n",
    "\n",
    "        if sampled_char == '\\n' or len(decoded_sentence) > max_tar:\n",
    "            stop_condition = True\n",
    "            # eos에 도달하거나 최대 문장 길이를 넘어서면 반복을 중단\n",
    "\n",
    "        target_seq = np.zeros([1, 1, tar_vocab_size])\n",
    "        # 1, 1, target_vocab_size의 배열 생성\n",
    "        # (배치 사이즈, 시퀀스 길이, 타겟 집합의 크기)\n",
    "        target_seq[0, 0, sampled_token_index] = 1\n",
    "        # 첫 번째 배치, 첫 번째 타임스텝에서 sampled_token_index에 해당하는 위치를 1로 설정\n",
    "\n",
    "        states_value = [h, c]\n",
    "        # 현재 시점의 상태를 다음 시점의 상태로 전달\n",
    "\n",
    "    return decoded_sentence"
   ]
  },
  {
   "cell_type": "code",
   "execution_count": 53,
   "metadata": {},
   "outputs": [
    {
     "name": "stdout",
     "output_type": "stream",
     "text": [
      "1/1 [==============================] - 0s 17ms/step\n",
      "1/1 [==============================] - 0s 18ms/step\n",
      "1/1 [==============================] - 0s 19ms/step\n",
      "1/1 [==============================] - 0s 19ms/step\n",
      "1/1 [==============================] - 0s 16ms/step\n",
      "1/1 [==============================] - 0s 19ms/step\n",
      "1/1 [==============================] - 0s 18ms/step\n",
      "1/1 [==============================] - 0s 17ms/step\n",
      "1/1 [==============================] - 0s 18ms/step\n",
      "1/1 [==============================] - 0s 16ms/step\n",
      "1/1 [==============================] - 0s 16ms/step\n",
      "1/1 [==============================] - 0s 17ms/step\n",
      "1/1 [==============================] - 0s 18ms/step\n",
      "1/1 [==============================] - 0s 17ms/step\n",
      "1/1 [==============================] - 0s 20ms/step\n",
      "1/1 [==============================] - 0s 17ms/step\n",
      "1/1 [==============================] - 0s 17ms/step\n",
      "1/1 [==============================] - 0s 17ms/step\n",
      "1/1 [==============================] - 0s 19ms/step\n",
      "1/1 [==============================] - 0s 18ms/step\n",
      "입력 문장: I'm OK.\n",
      "정답 문장: Je vais bien. \n",
      "번역 문장: Je suis content. \n",
      "\n",
      "1/1 [==============================] - 0s 16ms/step\n",
      "1/1 [==============================] - 0s 17ms/step\n",
      "1/1 [==============================] - 0s 18ms/step\n",
      "1/1 [==============================] - 0s 18ms/step\n",
      "1/1 [==============================] - 0s 18ms/step\n",
      "1/1 [==============================] - 0s 17ms/step\n",
      "1/1 [==============================] - 0s 17ms/step\n",
      "1/1 [==============================] - 0s 18ms/step\n",
      "1/1 [==============================] - 0s 17ms/step\n",
      "1/1 [==============================] - 0s 17ms/step\n",
      "1/1 [==============================] - 0s 17ms/step\n",
      "입력 문장: Help!\n",
      "정답 문장: À l'aide ! \n",
      "번역 문장: Salut ! \n",
      "\n",
      "1/1 [==============================] - 0s 17ms/step\n",
      "1/1 [==============================] - 0s 17ms/step\n",
      "1/1 [==============================] - 0s 18ms/step\n",
      "1/1 [==============================] - 0s 18ms/step\n",
      "1/1 [==============================] - 0s 18ms/step\n",
      "1/1 [==============================] - 0s 16ms/step\n",
      "1/1 [==============================] - 0s 17ms/step\n",
      "1/1 [==============================] - 0s 17ms/step\n",
      "1/1 [==============================] - 0s 18ms/step\n",
      "1/1 [==============================] - 0s 16ms/step\n",
      "1/1 [==============================] - 0s 16ms/step\n",
      "1/1 [==============================] - 0s 15ms/step\n",
      "1/1 [==============================] - 0s 18ms/step\n",
      "1/1 [==============================] - 0s 17ms/step\n",
      "1/1 [==============================] - 0s 15ms/step\n",
      "1/1 [==============================] - 0s 20ms/step\n",
      "1/1 [==============================] - 0s 23ms/step\n",
      "입력 문장: Run.\n",
      "정답 문장: Cours ! \n",
      "번역 문장: Courrasse-le. \n",
      "\n",
      "1/1 [==============================] - 0s 18ms/step\n",
      "1/1 [==============================] - 0s 18ms/step\n",
      "1/1 [==============================] - 0s 21ms/step\n",
      "1/1 [==============================] - 0s 19ms/step\n",
      "1/1 [==============================] - 0s 17ms/step\n",
      "1/1 [==============================] - 0s 17ms/step\n",
      "1/1 [==============================] - 0s 15ms/step\n",
      "1/1 [==============================] - 0s 17ms/step\n",
      "1/1 [==============================] - 0s 18ms/step\n",
      "1/1 [==============================] - 0s 18ms/step\n",
      "1/1 [==============================] - 0s 16ms/step\n",
      "1/1 [==============================] - 0s 16ms/step\n",
      "1/1 [==============================] - 0s 25ms/step\n",
      "1/1 [==============================] - 0s 17ms/step\n",
      "입력 문장: Get down.\n",
      "정답 문장: Descendez ! \n",
      "번역 문장: Descends ! \n",
      "\n"
     ]
    }
   ],
   "source": [
    "for seq_index in [128, 30, 14, 554]:\n",
    "    input_seq = encoder_input[seq_index:seq_index+1]\n",
    "    decoded_sentence = decode_sequence(input_seq)\n",
    "    print(f'입력 문장: {lines.src[seq_index]}')\n",
    "    print(f'정답 문장: {lines.tar[seq_index][2:len(lines.tar[seq_index])-1]}')\n",
    "    print(f'번역 문장: {decoded_sentence[1:len(decoded_sentence)]}')"
   ]
  }
 ],
 "metadata": {
  "kernelspec": {
   "display_name": "tensor_env",
   "language": "python",
   "name": "python3"
  },
  "language_info": {
   "codemirror_mode": {
    "name": "ipython",
    "version": 3
   },
   "file_extension": ".py",
   "mimetype": "text/x-python",
   "name": "python",
   "nbconvert_exporter": "python",
   "pygments_lexer": "ipython3",
   "version": "3.9.20"
  }
 },
 "nbformat": 4,
 "nbformat_minor": 2
}
