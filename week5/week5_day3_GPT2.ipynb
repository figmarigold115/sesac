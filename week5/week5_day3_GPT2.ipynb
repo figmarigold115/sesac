{
  "cells": [
    {
      "cell_type": "markdown",
      "metadata": {
        "id": "OBdzxvVl1Cwq"
      },
      "source": [
        "\n",
        "# 🌼 대규모 LLM을 활용한 지식 챗봇 개발 - 3차시(24.11.25)\n",
        "\n",
        "---"
      ]
    },
    {
      "cell_type": "code",
      "execution_count": null,
      "metadata": {
        "id": "_F5a5NwyDBcc"
      },
      "outputs": [],
      "source": [
        "import tensorflow as tf\n",
        "from transformers import AutoTokenizer, TFGPT2LMHeadModel\n",
        "import pandas as pd\n",
        "import tqdm"
      ]
    },
    {
      "cell_type": "code",
      "execution_count": null,
      "metadata": {
        "colab": {
          "base_uri": "https://localhost:8080/"
        },
        "id": "dvSizkmofdAm",
        "outputId": "7ead7a55-ad04-4316-c500-df7270f7582d"
      },
      "outputs": [
        {
          "output_type": "stream",
          "name": "stderr",
          "text": [
            "Some weights of the PyTorch model were not used when initializing the TF 2.0 model TFGPT2LMHeadModel: ['transformer.h.0.attn.masked_bias', 'transformer.h.2.attn.masked_bias', 'transformer.h.11.attn.masked_bias', 'transformer.h.5.attn.masked_bias', 'lm_head.weight', 'transformer.h.3.attn.masked_bias', 'transformer.h.9.attn.masked_bias', 'transformer.h.10.attn.masked_bias', 'transformer.h.1.attn.masked_bias', 'transformer.h.8.attn.masked_bias', 'transformer.h.6.attn.masked_bias', 'transformer.h.7.attn.masked_bias', 'transformer.h.4.attn.masked_bias']\n",
            "- This IS expected if you are initializing TFGPT2LMHeadModel from a PyTorch model trained on another task or with another architecture (e.g. initializing a TFBertForSequenceClassification model from a BertForPreTraining model).\n",
            "- This IS NOT expected if you are initializing TFGPT2LMHeadModel from a PyTorch model that you expect to be exactly identical (e.g. initializing a TFBertForSequenceClassification model from a BertForSequenceClassification model).\n",
            "All the weights of TFGPT2LMHeadModel were initialized from the PyTorch model.\n",
            "If your task is similar to the task the model of the checkpoint was trained on, you can already use TFGPT2LMHeadModel for predictions without further training.\n"
          ]
        }
      ],
      "source": [
        "tokenizer = AutoTokenizer.from_pretrained('skt/kogpt2-base-v2', bos_token='</s>', eos_token='</s>', pad_token='<pad>')\n",
        "model = TFGPT2LMHeadModel.from_pretrained('skt/kogpt2-base-v2', from_pt=True)"
      ]
    },
    {
      "cell_type": "code",
      "execution_count": null,
      "metadata": {
        "colab": {
          "base_uri": "https://localhost:8080/"
        },
        "id": "yTHfJTixfdAm",
        "outputId": "d544b642-f781-4e58-cbdf-6447fb4e2164"
      },
      "outputs": [
        {
          "output_type": "stream",
          "name": "stdout",
          "text": [
            "Drive already mounted at /content/drive; to attempt to forcibly remount, call drive.mount(\"/content/drive\", force_remount=True).\n"
          ]
        }
      ],
      "source": [
        "from google.colab import drive\n",
        "drive.mount('/content/drive')"
      ]
    },
    {
      "cell_type": "code",
      "execution_count": null,
      "metadata": {
        "id": "ev94Vl50fdAn"
      },
      "outputs": [],
      "source": [
        "train_data = pd.read_excel('/content/drive/MyDrive/ChatbotData.xlsx')"
      ]
    },
    {
      "cell_type": "code",
      "execution_count": null,
      "metadata": {
        "colab": {
          "base_uri": "https://localhost:8080/"
        },
        "id": "5Ncn6aFSfdAn",
        "outputId": "bad1a03b-3bea-4a8e-cd69-751f9cc87499"
      },
      "outputs": [
        {
          "output_type": "stream",
          "name": "stdout",
          "text": [
            "데이터 개수: 11823\n"
          ]
        }
      ],
      "source": [
        "print(f'데이터 개수: {len(train_data)}')"
      ]
    },
    {
      "cell_type": "code",
      "execution_count": null,
      "metadata": {
        "colab": {
          "base_uri": "https://localhost:8080/",
          "height": 206
        },
        "id": "BJAHLp0ffdAn",
        "outputId": "e78969fc-cf3f-413a-ec4c-9c42fa6d85f0"
      },
      "outputs": [
        {
          "output_type": "execute_result",
          "data": {
            "text/plain": [
              "                 Q            A\n",
              "0           12시 땡!   하루가 또 가네요.\n",
              "1      1지망 학교 떨어졌어    위로해 드립니다.\n",
              "2     3박4일 놀러가고 싶다  여행은 언제나 좋죠.\n",
              "3  3박4일 정도 놀러가고 싶다  여행은 언제나 좋죠.\n",
              "4          PPL 심하네   눈살이 찌푸려지죠."
            ],
            "text/html": [
              "\n",
              "  <div id=\"df-0aa899e8-4a85-4736-bd96-623153d3108c\" class=\"colab-df-container\">\n",
              "    <div>\n",
              "<style scoped>\n",
              "    .dataframe tbody tr th:only-of-type {\n",
              "        vertical-align: middle;\n",
              "    }\n",
              "\n",
              "    .dataframe tbody tr th {\n",
              "        vertical-align: top;\n",
              "    }\n",
              "\n",
              "    .dataframe thead th {\n",
              "        text-align: right;\n",
              "    }\n",
              "</style>\n",
              "<table border=\"1\" class=\"dataframe\">\n",
              "  <thead>\n",
              "    <tr style=\"text-align: right;\">\n",
              "      <th></th>\n",
              "      <th>Q</th>\n",
              "      <th>A</th>\n",
              "    </tr>\n",
              "  </thead>\n",
              "  <tbody>\n",
              "    <tr>\n",
              "      <th>0</th>\n",
              "      <td>12시 땡!</td>\n",
              "      <td>하루가 또 가네요.</td>\n",
              "    </tr>\n",
              "    <tr>\n",
              "      <th>1</th>\n",
              "      <td>1지망 학교 떨어졌어</td>\n",
              "      <td>위로해 드립니다.</td>\n",
              "    </tr>\n",
              "    <tr>\n",
              "      <th>2</th>\n",
              "      <td>3박4일 놀러가고 싶다</td>\n",
              "      <td>여행은 언제나 좋죠.</td>\n",
              "    </tr>\n",
              "    <tr>\n",
              "      <th>3</th>\n",
              "      <td>3박4일 정도 놀러가고 싶다</td>\n",
              "      <td>여행은 언제나 좋죠.</td>\n",
              "    </tr>\n",
              "    <tr>\n",
              "      <th>4</th>\n",
              "      <td>PPL 심하네</td>\n",
              "      <td>눈살이 찌푸려지죠.</td>\n",
              "    </tr>\n",
              "  </tbody>\n",
              "</table>\n",
              "</div>\n",
              "    <div class=\"colab-df-buttons\">\n",
              "\n",
              "  <div class=\"colab-df-container\">\n",
              "    <button class=\"colab-df-convert\" onclick=\"convertToInteractive('df-0aa899e8-4a85-4736-bd96-623153d3108c')\"\n",
              "            title=\"Convert this dataframe to an interactive table.\"\n",
              "            style=\"display:none;\">\n",
              "\n",
              "  <svg xmlns=\"http://www.w3.org/2000/svg\" height=\"24px\" viewBox=\"0 -960 960 960\">\n",
              "    <path d=\"M120-120v-720h720v720H120Zm60-500h600v-160H180v160Zm220 220h160v-160H400v160Zm0 220h160v-160H400v160ZM180-400h160v-160H180v160Zm440 0h160v-160H620v160ZM180-180h160v-160H180v160Zm440 0h160v-160H620v160Z\"/>\n",
              "  </svg>\n",
              "    </button>\n",
              "\n",
              "  <style>\n",
              "    .colab-df-container {\n",
              "      display:flex;\n",
              "      gap: 12px;\n",
              "    }\n",
              "\n",
              "    .colab-df-convert {\n",
              "      background-color: #E8F0FE;\n",
              "      border: none;\n",
              "      border-radius: 50%;\n",
              "      cursor: pointer;\n",
              "      display: none;\n",
              "      fill: #1967D2;\n",
              "      height: 32px;\n",
              "      padding: 0 0 0 0;\n",
              "      width: 32px;\n",
              "    }\n",
              "\n",
              "    .colab-df-convert:hover {\n",
              "      background-color: #E2EBFA;\n",
              "      box-shadow: 0px 1px 2px rgba(60, 64, 67, 0.3), 0px 1px 3px 1px rgba(60, 64, 67, 0.15);\n",
              "      fill: #174EA6;\n",
              "    }\n",
              "\n",
              "    .colab-df-buttons div {\n",
              "      margin-bottom: 4px;\n",
              "    }\n",
              "\n",
              "    [theme=dark] .colab-df-convert {\n",
              "      background-color: #3B4455;\n",
              "      fill: #D2E3FC;\n",
              "    }\n",
              "\n",
              "    [theme=dark] .colab-df-convert:hover {\n",
              "      background-color: #434B5C;\n",
              "      box-shadow: 0px 1px 3px 1px rgba(0, 0, 0, 0.15);\n",
              "      filter: drop-shadow(0px 1px 2px rgba(0, 0, 0, 0.3));\n",
              "      fill: #FFFFFF;\n",
              "    }\n",
              "  </style>\n",
              "\n",
              "    <script>\n",
              "      const buttonEl =\n",
              "        document.querySelector('#df-0aa899e8-4a85-4736-bd96-623153d3108c button.colab-df-convert');\n",
              "      buttonEl.style.display =\n",
              "        google.colab.kernel.accessAllowed ? 'block' : 'none';\n",
              "\n",
              "      async function convertToInteractive(key) {\n",
              "        const element = document.querySelector('#df-0aa899e8-4a85-4736-bd96-623153d3108c');\n",
              "        const dataTable =\n",
              "          await google.colab.kernel.invokeFunction('convertToInteractive',\n",
              "                                                    [key], {});\n",
              "        if (!dataTable) return;\n",
              "\n",
              "        const docLinkHtml = 'Like what you see? Visit the ' +\n",
              "          '<a target=\"_blank\" href=https://colab.research.google.com/notebooks/data_table.ipynb>data table notebook</a>'\n",
              "          + ' to learn more about interactive tables.';\n",
              "        element.innerHTML = '';\n",
              "        dataTable['output_type'] = 'display_data';\n",
              "        await google.colab.output.renderOutput(dataTable, element);\n",
              "        const docLink = document.createElement('div');\n",
              "        docLink.innerHTML = docLinkHtml;\n",
              "        element.appendChild(docLink);\n",
              "      }\n",
              "    </script>\n",
              "  </div>\n",
              "\n",
              "\n",
              "<div id=\"df-4b1e40d4-7165-4840-9215-eec0aa0348bf\">\n",
              "  <button class=\"colab-df-quickchart\" onclick=\"quickchart('df-4b1e40d4-7165-4840-9215-eec0aa0348bf')\"\n",
              "            title=\"Suggest charts\"\n",
              "            style=\"display:none;\">\n",
              "\n",
              "<svg xmlns=\"http://www.w3.org/2000/svg\" height=\"24px\"viewBox=\"0 0 24 24\"\n",
              "     width=\"24px\">\n",
              "    <g>\n",
              "        <path d=\"M19 3H5c-1.1 0-2 .9-2 2v14c0 1.1.9 2 2 2h14c1.1 0 2-.9 2-2V5c0-1.1-.9-2-2-2zM9 17H7v-7h2v7zm4 0h-2V7h2v10zm4 0h-2v-4h2v4z\"/>\n",
              "    </g>\n",
              "</svg>\n",
              "  </button>\n",
              "\n",
              "<style>\n",
              "  .colab-df-quickchart {\n",
              "      --bg-color: #E8F0FE;\n",
              "      --fill-color: #1967D2;\n",
              "      --hover-bg-color: #E2EBFA;\n",
              "      --hover-fill-color: #174EA6;\n",
              "      --disabled-fill-color: #AAA;\n",
              "      --disabled-bg-color: #DDD;\n",
              "  }\n",
              "\n",
              "  [theme=dark] .colab-df-quickchart {\n",
              "      --bg-color: #3B4455;\n",
              "      --fill-color: #D2E3FC;\n",
              "      --hover-bg-color: #434B5C;\n",
              "      --hover-fill-color: #FFFFFF;\n",
              "      --disabled-bg-color: #3B4455;\n",
              "      --disabled-fill-color: #666;\n",
              "  }\n",
              "\n",
              "  .colab-df-quickchart {\n",
              "    background-color: var(--bg-color);\n",
              "    border: none;\n",
              "    border-radius: 50%;\n",
              "    cursor: pointer;\n",
              "    display: none;\n",
              "    fill: var(--fill-color);\n",
              "    height: 32px;\n",
              "    padding: 0;\n",
              "    width: 32px;\n",
              "  }\n",
              "\n",
              "  .colab-df-quickchart:hover {\n",
              "    background-color: var(--hover-bg-color);\n",
              "    box-shadow: 0 1px 2px rgba(60, 64, 67, 0.3), 0 1px 3px 1px rgba(60, 64, 67, 0.15);\n",
              "    fill: var(--button-hover-fill-color);\n",
              "  }\n",
              "\n",
              "  .colab-df-quickchart-complete:disabled,\n",
              "  .colab-df-quickchart-complete:disabled:hover {\n",
              "    background-color: var(--disabled-bg-color);\n",
              "    fill: var(--disabled-fill-color);\n",
              "    box-shadow: none;\n",
              "  }\n",
              "\n",
              "  .colab-df-spinner {\n",
              "    border: 2px solid var(--fill-color);\n",
              "    border-color: transparent;\n",
              "    border-bottom-color: var(--fill-color);\n",
              "    animation:\n",
              "      spin 1s steps(1) infinite;\n",
              "  }\n",
              "\n",
              "  @keyframes spin {\n",
              "    0% {\n",
              "      border-color: transparent;\n",
              "      border-bottom-color: var(--fill-color);\n",
              "      border-left-color: var(--fill-color);\n",
              "    }\n",
              "    20% {\n",
              "      border-color: transparent;\n",
              "      border-left-color: var(--fill-color);\n",
              "      border-top-color: var(--fill-color);\n",
              "    }\n",
              "    30% {\n",
              "      border-color: transparent;\n",
              "      border-left-color: var(--fill-color);\n",
              "      border-top-color: var(--fill-color);\n",
              "      border-right-color: var(--fill-color);\n",
              "    }\n",
              "    40% {\n",
              "      border-color: transparent;\n",
              "      border-right-color: var(--fill-color);\n",
              "      border-top-color: var(--fill-color);\n",
              "    }\n",
              "    60% {\n",
              "      border-color: transparent;\n",
              "      border-right-color: var(--fill-color);\n",
              "    }\n",
              "    80% {\n",
              "      border-color: transparent;\n",
              "      border-right-color: var(--fill-color);\n",
              "      border-bottom-color: var(--fill-color);\n",
              "    }\n",
              "    90% {\n",
              "      border-color: transparent;\n",
              "      border-bottom-color: var(--fill-color);\n",
              "    }\n",
              "  }\n",
              "</style>\n",
              "\n",
              "  <script>\n",
              "    async function quickchart(key) {\n",
              "      const quickchartButtonEl =\n",
              "        document.querySelector('#' + key + ' button');\n",
              "      quickchartButtonEl.disabled = true;  // To prevent multiple clicks.\n",
              "      quickchartButtonEl.classList.add('colab-df-spinner');\n",
              "      try {\n",
              "        const charts = await google.colab.kernel.invokeFunction(\n",
              "            'suggestCharts', [key], {});\n",
              "      } catch (error) {\n",
              "        console.error('Error during call to suggestCharts:', error);\n",
              "      }\n",
              "      quickchartButtonEl.classList.remove('colab-df-spinner');\n",
              "      quickchartButtonEl.classList.add('colab-df-quickchart-complete');\n",
              "    }\n",
              "    (() => {\n",
              "      let quickchartButtonEl =\n",
              "        document.querySelector('#df-4b1e40d4-7165-4840-9215-eec0aa0348bf button');\n",
              "      quickchartButtonEl.style.display =\n",
              "        google.colab.kernel.accessAllowed ? 'block' : 'none';\n",
              "    })();\n",
              "  </script>\n",
              "</div>\n",
              "\n",
              "    </div>\n",
              "  </div>\n"
            ],
            "application/vnd.google.colaboratory.intrinsic+json": {
              "type": "dataframe",
              "variable_name": "train_data",
              "summary": "{\n  \"name\": \"train_data\",\n  \"rows\": 11823,\n  \"fields\": [\n    {\n      \"column\": \"Q\",\n      \"properties\": {\n        \"dtype\": \"string\",\n        \"num_unique_values\": 11662,\n        \"samples\": [\n          \"\\uc0ac\\ub791\\ud558\\ub294 \\uc0ac\\ub78c \\uc78a\\ub294 \\ubc95\",\n          \"\\uc220 \\uc548 \\uba39\\uc73c\\uba74 \\uce5c\\uad6c\\ub791 \\ubb50\\ud558\\uc9c0\",\n          \"\\uc9dd\\ub0a8\\uc774 \\uace0\\uc2dc\\uc0dd\\uc774\\uba74 \\uae30\\ub2e4\\ub824\\uc57c \\ud558\\ub098\\uc694?\"\n        ],\n        \"semantic_type\": \"\",\n        \"description\": \"\"\n      }\n    },\n    {\n      \"column\": \"A\",\n      \"properties\": {\n        \"dtype\": \"string\",\n        \"num_unique_values\": 7779,\n        \"samples\": [\n          \"\\uc720\\uba38\\ucf54\\ub4dc\\uac00 \\ub9de\\ub294 \\uc0ac\\ub78c\\uc744 \\ucc3e\\uc544\\ubcf4\\uc138\\uc694.\",\n          \"\\uc5ec\\ud589\\uc744 \\ub5a0\\ub098 \\ubcf4\\uc138\\uc694.\",\n          \"\\ud589\\ubcf5\\ud560 \\uac70\\ub77c \\uc0dd\\uac01\\ud574\\uc694.\"\n        ],\n        \"semantic_type\": \"\",\n        \"description\": \"\"\n      }\n    }\n  ]\n}"
            }
          },
          "metadata": {},
          "execution_count": 22
        }
      ],
      "source": [
        "train_data.head()"
      ]
    },
    {
      "cell_type": "code",
      "execution_count": null,
      "metadata": {
        "id": "xlIVUQLkfdAn"
      },
      "outputs": [],
      "source": [
        "def get_chat_data():\n",
        "  for question, answer in zip(train_data.Q.to_list(), train_data.A.to_list()):\n",
        "    bos_token = [tokenizer.bos_token_id]  # bos_token: 문장이 시작될 때의 토큰\n",
        "    eos_token = [tokenizer.eos_token_id]  # eos_token: 문장이 끝날 때의 토큰\n",
        "    sent = tokenizer.encode('<usr>' + question + '<sys>' + answer)\n",
        "    yield bos_token + sent + eos_token  # yield: 데이터가 필요할 때마다 return (메모리 효율 good)"
      ]
    },
    {
      "cell_type": "code",
      "execution_count": null,
      "metadata": {
        "id": "NGabV8yXfdAn"
      },
      "outputs": [],
      "source": [
        "batch_size = 16\n",
        "dataset = tf.data.Dataset.from_generator(get_chat_data, output_signature=tf.TensorSpec(shape=(None,), dtype=tf.int32))  # TensorSpec: tensor로 변환할 때 입력값 None(지정X)"
      ]
    },
    {
      "cell_type": "code",
      "execution_count": null,
      "metadata": {
        "id": "duzh-d5tfdAn"
      },
      "outputs": [],
      "source": [
        "dataset = dataset.padded_batch(batch_size=batch_size, padded_shapes=(None, ), padding_values=tokenizer.pad_token_id)"
      ]
    },
    {
      "cell_type": "code",
      "execution_count": null,
      "metadata": {
        "colab": {
          "base_uri": "https://localhost:8080/"
        },
        "id": "-HFnQrcyfdAo",
        "outputId": "436bd424-16ab-4334-d7cd-7f2760f6bf6a"
      },
      "outputs": [
        {
          "output_type": "stream",
          "name": "stdout",
          "text": [
            "tf.Tensor(\n",
            "[[    1     2  9349  7888   739  7318   376     4 12557  6824  9108  9028\n",
            "   7098 25856     1     3     3     3     3     3     3]\n",
            " [    1     2  9020  8263  7497 10192 11615  8210  8006     4 12422  8711\n",
            "   9535  7483 12521     1     3     3     3     3     3]\n",
            " [    1     2  9085  7597   395  8149 10624  7397 24224 13358  7182     4\n",
            "  12079  8135 16899  9677  8234   389     1     3     3]\n",
            " [    1     2  9085  7597   395  8149  9465 10624  7397 24224 13358  7182\n",
            "      4 12079  8135 16899  9677  8234   389     1     3]\n",
            " [    1     2  9943   422   418  9327  8702  7098     4  9847 16912 18328\n",
            "   8671  7415  8263  8234   389     1     3     3     3]\n",
            " [    1     2  9815   410 21249 10174  6824  8210  8006     4  9427 11056\n",
            "  11594 10137 10556  9266  8711 25856     1     3     3]\n",
            " [    1     2  9815   410 21249  9183  7249     4  9427 11056 11594 10137\n",
            "  10556  9266  8711 25856     1     3     3     3     3]\n",
            " [    1     2  9815 37655  9622  8619 10401  9183  9328   216     4  9443\n",
            "  29490  9846  9788  9341 25856     1     3     3     3]\n",
            " [    1     2  9815 37655 10135  7066 39488  9122  9050  9668 16576  9277\n",
            "   9044     4 15148 19658  9098  7652  7801 25856     1]\n",
            " [    1     2  9815 37655 10135  7066  7692 11848  9042  7019 20284  7254\n",
            "      4 15148 19658  9098  7652  7801 25856     1     3]\n",
            " [    1     2  9815 37655 18381  9063  7489 29615  9054 15730 29452  8030\n",
            "      4 33254 10300 23775 25856     1     3     3     3]\n",
            " [    1     2 19319 48397  8711     4  9022 19858 27031  9122  8046 25856\n",
            "      1     3     3     3     3     3     3     3     3]\n",
            " [    1     2 19319 46651 27481 48397  8711     4  9022 19858 27031  9122\n",
            "   8046 25856     1     3     3     3     3     3     3]\n",
            " [    1     2 19319  8135  9749 10225  6866  9677  7182     4  9749  9589\n",
            "  20540  7801 25856     1     3     3     3     3     3]\n",
            " [    1     2 17230 17429  9160  8098     4 10855  8135  9427 35813  9122\n",
            "   8046 25856     1     3     3     3     3     3     3]\n",
            " [    1     2 47980 22227 26992  7058  7182     4 26992  8137  9376  8737\n",
            "   8236  7801 25856     1     3     3     3     3     3]], shape=(16, 21), dtype=int32)\n"
          ]
        }
      ],
      "source": [
        "for batch in dataset:\n",
        "  print(batch)\n",
        "  break\n",
        "\n",
        "# 시작 토큰과 끝 토큰을 같게 설정했지만 인덱스는 다르다? 1인데...?"
      ]
    },
    {
      "cell_type": "code",
      "execution_count": null,
      "metadata": {
        "colab": {
          "base_uri": "https://localhost:8080/"
        },
        "id": "XNBNUVVCfdAo",
        "outputId": "49a4010e-c2e5-4678-af37-77eddf3f2e72"
      },
      "outputs": [
        {
          "output_type": "stream",
          "name": "stdout",
          "text": [
            "</s><usr> 12시 땡!<sys> 하루가 또 가네요.</s><pad><pad><pad><pad><pad><pad>\n"
          ]
        },
        {
          "output_type": "execute_result",
          "data": {
            "text/plain": [
              "[1,\n",
              " 2,\n",
              " 9349,\n",
              " 7888,\n",
              " 739,\n",
              " 7318,\n",
              " 376,\n",
              " 4,\n",
              " 12557,\n",
              " 6824,\n",
              " 9108,\n",
              " 9028,\n",
              " 7098,\n",
              " 25856,\n",
              " 1,\n",
              " 3,\n",
              " 3,\n",
              " 3,\n",
              " 3,\n",
              " 3,\n",
              " 3]"
            ]
          },
          "metadata": {},
          "execution_count": 27
        }
      ],
      "source": [
        "print(tokenizer.decode(batch[0]))\n",
        "[1, 2, 9349, 7888, 739, 7318, 376, 4, 12557, 6824, 9108, 9028, 7098, 25856, 1, 3, 3, 3, 3, 3, 3]"
      ]
    },
    {
      "cell_type": "code",
      "execution_count": null,
      "metadata": {
        "id": "F-G3hXUbfdAo"
      },
      "outputs": [],
      "source": [
        "adam = tf.keras.optimizers.Adam(learning_rate=3e-5, epsilon=1e-08)\n",
        "# epsilon: 0으로 나눠지는 상황을 방지하기 위해 아주 작은 값을 추가 (모델의 안정성 증가)"
      ]
    },
    {
      "cell_type": "code",
      "execution_count": null,
      "metadata": {
        "id": "1SN9PDxPfdAo"
      },
      "outputs": [],
      "source": [
        "steps = len(train_data) // batch_size + 1  # 남는 데이터가 있을 경우를 대비해 스텝을 추가하여 학습 (배치 사이즈로 딱 나누어 떨어지지 않을 수 있다)"
      ]
    },
    {
      "cell_type": "code",
      "execution_count": null,
      "metadata": {
        "colab": {
          "base_uri": "https://localhost:8080/"
        },
        "id": "rarqD38-fdAo",
        "outputId": "c9aae90e-b89d-4ac2-d965-a837c4a3e81e"
      },
      "outputs": [
        {
          "output_type": "stream",
          "name": "stderr",
          "text": [
            "100%|██████████| 739/739 [09:21<00:00,  1.32it/s]\n"
          ]
        },
        {
          "output_type": "stream",
          "name": "stdout",
          "text": [
            "[Epoch : 1] cost = 2.14646912\n"
          ]
        },
        {
          "output_type": "stream",
          "name": "stderr",
          "text": [
            "100%|██████████| 739/739 [09:21<00:00,  1.32it/s]\n"
          ]
        },
        {
          "output_type": "stream",
          "name": "stdout",
          "text": [
            "[Epoch : 2] cost = 1.71464109\n"
          ]
        },
        {
          "output_type": "stream",
          "name": "stderr",
          "text": [
            "100%|██████████| 739/739 [10:21<00:00,  1.19it/s]"
          ]
        },
        {
          "output_type": "stream",
          "name": "stdout",
          "text": [
            "[Epoch : 3] cost = 1.33611929\n"
          ]
        },
        {
          "output_type": "stream",
          "name": "stderr",
          "text": [
            "\n"
          ]
        }
      ],
      "source": [
        "epochs = 3\n",
        "for epochs in range(epochs):\n",
        "    epoch_loss = 0\n",
        "    for batch in tqdm.tqdm(dataset, total=steps):  # tqdm으로 시각화\n",
        "        with tf.GradientTape() as tape:\n",
        "            result = model(batch, labels=batch)  # 교사강요, labels=batch: 정답 데이터, 시퀀스가 하나 shift된 상태\n",
        "            loss = result[0]\n",
        "            batch_loss = tf.reduce_mean(loss)  # loss 값을 평균화 해서 batch_loss에 입력\n",
        "        grads = tape.gradient(batch_loss, model.trainable_variables)\n",
        "        # 학습 가능한 변수 trainable_variables의 기울기를 계산\n",
        "        adam.apply_gradients(zip(grads, model.trainable_variables))\n",
        "        epoch_loss += batch_loss/steps  # epoch의 loss 값\n",
        "    print(f'[Epoch : {epochs+1}] cost = {epoch_loss:>.9}')"
      ]
    },
    {
      "cell_type": "code",
      "execution_count": null,
      "metadata": {
        "id": "072sCbdqfdAo"
      },
      "outputs": [],
      "source": [
        "text = '오늘 뭐하지'\n",
        "sent = '<usr>' + text + '<sys>'\n",
        "input_ids = [tokenizer.bos_token_id] + tokenizer.encode(sent)\n",
        "input_ids = tf.convert_to_tensor([input_ids])"
      ]
    },
    {
      "cell_type": "code",
      "execution_count": null,
      "metadata": {
        "colab": {
          "base_uri": "https://localhost:8080/"
        },
        "id": "jWs9Wo5_fdAo",
        "outputId": "2cb75338-b251-4990-cfda-5e7b78cc1ebb"
      },
      "outputs": [
        {
          "output_type": "stream",
          "name": "stdout",
          "text": [
            "정수 인코딩: [[    1     2 10070 46651  9328     4]]\n"
          ]
        }
      ],
      "source": [
        "print(f'정수 인코딩: {input_ids}')"
      ]
    },
    {
      "cell_type": "code",
      "execution_count": null,
      "metadata": {
        "colab": {
          "base_uri": "https://localhost:8080/"
        },
        "id": "NLCeCJWafdAp",
        "outputId": "f8939ff4-245e-42c9-d952-5a62aa250a8c"
      },
      "outputs": [
        {
          "output_type": "stream",
          "name": "stdout",
          "text": [
            "정수 인코딩을 디코딩: </s><usr> 오늘 뭐하지<sys>\n"
          ]
        }
      ],
      "source": [
        "print(f'정수 인코딩을 디코딩: {tokenizer.decode(input_ids[0])}')"
      ]
    },
    {
      "cell_type": "code",
      "execution_count": null,
      "metadata": {
        "colab": {
          "base_uri": "https://localhost:8080/"
        },
        "id": "fjx0g0XjfdAp",
        "outputId": "a00fee67-2c7b-49e4-9b50-c2106976aeef"
      },
      "outputs": [
        {
          "output_type": "stream",
          "name": "stderr",
          "text": [
            "/usr/local/lib/python3.10/dist-packages/transformers/generation/configuration_utils.py:638: UserWarning: `num_beams` is set to 1. However, `early_stopping` is set to `True` -- this flag is only used in beam-based generation modes. You should set `num_beams>1` or unset `early_stopping`.\n",
            "  warnings.warn(\n"
          ]
        }
      ],
      "source": [
        "output = model.generate(input_ids, max_length=50, early_stopping=True, eos_token_id=tokenizer.eos_token_id)"
      ]
    },
    {
      "cell_type": "code",
      "execution_count": null,
      "metadata": {
        "colab": {
          "base_uri": "https://localhost:8080/"
        },
        "id": "ITc1qmGbfdAp",
        "outputId": "dbba7a18-43c3-4613-c99d-f8d6b93fe80a"
      },
      "outputs": [
        {
          "output_type": "stream",
          "name": "stdout",
          "text": [
            "</s><usr> 오늘 뭐하지<sys> 오늘은 그냥 연락하고 마음으로 키우는 거죠.</s>\n"
          ]
        }
      ],
      "source": [
        "decoded_sentence = tokenizer.decode(output[0].numpy().tolist())\n",
        "print(decoded_sentence)"
      ]
    },
    {
      "cell_type": "code",
      "execution_count": null,
      "metadata": {
        "colab": {
          "base_uri": "https://localhost:8080/"
        },
        "id": "dWvU1o_rfdAp",
        "outputId": "b18b413c-dd7f-45a2-c0e9-3ae515e4af41"
      },
      "outputs": [
        {
          "output_type": "stream",
          "name": "stdout",
          "text": [
            "오늘은 그냥 연락하고 마음으로 키우는 거죠.\n"
          ]
        }
      ],
      "source": [
        "print(decoded_sentence.split('<sys> ')[1].replace('</s>', ''))  # 답변만 출력하기 위해 1번째 인덱스"
      ]
    },
    {
      "cell_type": "code",
      "source": [
        "output = model.generate(input_ids, max_length=100, do_sample=True, top_k=10)\n",
        "# do_sample=True: 텍스트 생성 시 확률 기바느올 랜덤성을 추가\n",
        "decoded_sentence = tokenizer.decode(output[0].numpy().tolist())\n",
        "print(decoded_sentence.split('<sys> ')[1].replace('</s>', ''))"
      ],
      "metadata": {
        "colab": {
          "base_uri": "https://localhost:8080/"
        },
        "id": "55UO-Tv37UWR",
        "outputId": "d78decb3-1b8f-48fb-a205-ad5635431a7a"
      },
      "execution_count": null,
      "outputs": [
        {
          "output_type": "stream",
          "name": "stdout",
          "text": [
            "나랑 같이 놀아요.\n"
          ]
        }
      ]
    },
    {
      "cell_type": "code",
      "source": [
        "def return_answer(user_text):\n",
        "    sent = '<usr>' + user_text + '<sys>'\n",
        "    input_ids = [tokenizer.bos_token_id] + tokenizer.encode(sent)\n",
        "    input_ids = tf.convert_to_tensor([input_ids])\n",
        "    output = model.generate(input_ids, max_length=50, do_sample=True, top_k=3)\n",
        "    sentence = tokenizer.decode(output[0].numpy().tolist())\n",
        "    chatbot_respone = sentence.split('<sys> ')[1].replace('</s>', '')\n",
        "    return chatbot_respone"
      ],
      "metadata": {
        "id": "Vzw0j2J88GOo"
      },
      "execution_count": null,
      "outputs": []
    },
    {
      "cell_type": "code",
      "source": [
        "return_answer('오늘 뭐먹지?')"
      ],
      "metadata": {
        "colab": {
          "base_uri": "https://localhost:8080/",
          "height": 34
        },
        "id": "R0A3NZR-83Ry",
        "outputId": "7e5c25cb-6937-4cc5-f17e-7eb0712247eb"
      },
      "execution_count": null,
      "outputs": [
        {
          "output_type": "execute_result",
          "data": {
            "text/plain": [
              "'오늘 먹는 거 좋아해서 못 먹는다고 하셨는데 맛난 거 같아요.'"
            ],
            "application/vnd.google.colaboratory.intrinsic+json": {
              "type": "string"
            }
          },
          "metadata": {},
          "execution_count": 65
        }
      ]
    },
    {
      "cell_type": "code",
      "source": [
        "return_answer('책 추천해줘')"
      ],
      "metadata": {
        "colab": {
          "base_uri": "https://localhost:8080/",
          "height": 34
        },
        "id": "GI1UUMOS9JcI",
        "outputId": "14002a91-5080-448b-ddd2-4137b3340340"
      },
      "execution_count": null,
      "outputs": [
        {
          "output_type": "execute_result",
          "data": {
            "text/plain": [
              "'책 소개가 좋겠어요.'"
            ],
            "application/vnd.google.colaboratory.intrinsic+json": {
              "type": "string"
            }
          },
          "metadata": {},
          "execution_count": 66
        }
      ]
    },
    {
      "cell_type": "code",
      "source": [
        "return_answer('나 누구게')"
      ],
      "metadata": {
        "colab": {
          "base_uri": "https://localhost:8080/",
          "height": 34
        },
        "id": "_ULgaZxN9LnH",
        "outputId": "d7ca3e25-56b7-4cf8-fd9e-fd77110e9747"
      },
      "execution_count": null,
      "outputs": [
        {
          "output_type": "execute_result",
          "data": {
            "text/plain": [
              "'그 사람의 마음을 알기는 어려울 거 같아요.'"
            ],
            "application/vnd.google.colaboratory.intrinsic+json": {
              "type": "string"
            }
          },
          "metadata": {},
          "execution_count": 67
        }
      ]
    }
  ],
  "metadata": {
    "accelerator": "GPU",
    "colab": {
      "gpuType": "T4",
      "provenance": []
    },
    "kernelspec": {
      "display_name": "Python 3",
      "name": "python3"
    },
    "language_info": {
      "name": "python"
    }
  },
  "nbformat": 4,
  "nbformat_minor": 0
}