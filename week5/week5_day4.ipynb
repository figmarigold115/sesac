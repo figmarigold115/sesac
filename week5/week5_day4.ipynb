{
 "cells": [
  {
   "cell_type": "markdown",
   "metadata": {},
   "source": [
    "\n",
    "# 🌼 대규모 LLM을 활용한 지식 챗봇 개발 - 4차시(24.11.26)\n",
    "\n",
    "---"
   ]
  },
  {
   "cell_type": "code",
   "execution_count": 1,
   "metadata": {},
   "outputs": [],
   "source": [
    "# pip install openai"
   ]
  },
  {
   "cell_type": "code",
   "execution_count": 2,
   "metadata": {},
   "outputs": [],
   "source": [
    "# pip install python-dotenv"
   ]
  },
  {
   "cell_type": "code",
   "execution_count": 3,
   "metadata": {},
   "outputs": [
    {
     "data": {
      "text/plain": [
       "True"
      ]
     },
     "execution_count": 3,
     "metadata": {},
     "output_type": "execute_result"
    }
   ],
   "source": [
    "import os\n",
    "from dotenv import load_dotenv\n",
    "from openai import OpenAI\n",
    "\n",
    "# .env 파일 로드\n",
    "load_dotenv()"
   ]
  },
  {
   "cell_type": "code",
   "execution_count": 4,
   "metadata": {},
   "outputs": [
    {
     "name": "stdout",
     "output_type": "stream",
     "text": [
      "API Key loaded successfully!\n"
     ]
    }
   ],
   "source": [
    "# 환경 변수에서 GPT API 키 가져오기\n",
    "api_key = os.getenv(\"GPT_API_KEY\")\n",
    "\n",
    "if api_key:\n",
    "    print(\"API Key loaded successfully!\")\n",
    "else:\n",
    "    print(\"API Key not found!\")"
   ]
  },
  {
   "cell_type": "code",
   "execution_count": 5,
   "metadata": {},
   "outputs": [],
   "source": [
    "os.environ[\"OPENAI_API_KEY\"] = api_key\n",
    "client = OpenAI()"
   ]
  },
  {
   "cell_type": "code",
   "execution_count": 6,
   "metadata": {},
   "outputs": [],
   "source": [
    "completion = client.chat.completions.create(\n",
    "    model = 'gpt-4o',\n",
    "    messages = [\n",
    "        {'role': 'user', 'content': '오늘 날씨가 너무 춥다. 저녁 메뉴 뭘 먹으면 좋을까?'}\n",
    "    ]\n",
    ")"
   ]
  },
  {
   "cell_type": "code",
   "execution_count": 7,
   "metadata": {},
   "outputs": [
    {
     "data": {
      "text/plain": [
       "[Choice(finish_reason='stop', index=0, logprobs=None, message=ChatCompletionMessage(content='오늘처럼 추운 날씨에는 따뜻하고 든든한 음식을 먹으면 좋겠어요. 국물 요리로는 김치찌개나 된장찌개가 좋고, 뜨끈한 국물이 있는 라면도 좋은 선택입니다. 만약 시간이 된다면 감자를 넣은 갈비탕이나 삼계탕도 훌륭한 저녁 메뉴가 될 것 같네요. 따뜻한 음식을 먹으며 몸을 녹여보세요!', refusal=None, role='assistant', audio=None, function_call=None, tool_calls=None))]"
      ]
     },
     "execution_count": 7,
     "metadata": {},
     "output_type": "execute_result"
    }
   ],
   "source": [
    "completion.choices\n",
    "# refusal: 모델이 응답을 거부했는지 여부"
   ]
  },
  {
   "cell_type": "code",
   "execution_count": 8,
   "metadata": {},
   "outputs": [
    {
     "name": "stdout",
     "output_type": "stream",
     "text": [
      "GPT의 제안: 오늘처럼 추운 날씨에는 따뜻하고 든든한 음식을 먹으면 좋겠어요. 국물 요리로는 김치찌개나 된장찌개가 좋고, 뜨끈한 국물이 있는 라면도 좋은 선택입니다. 만약 시간이 된다면 감자를 넣은 갈비탕이나 삼계탕도 훌륭한 저녁 메뉴가 될 것 같네요. 따뜻한 음식을 먹으며 몸을 녹여보세요!\n"
     ]
    }
   ],
   "source": [
    "print('GPT의 제안: ' + completion.choices[0].message.content)"
   ]
  },
  {
   "cell_type": "code",
   "execution_count": 9,
   "metadata": {},
   "outputs": [],
   "source": [
    "response = client.chat.completions.create(\n",
    "    model = 'gpt-4o-mini',\n",
    "    messages = [\n",
    "        {'role': 'user', 'content': '내일 날씨 어때?'}\n",
    "    ],\n",
    "    max_tokens = 50,\n",
    "    temperature= 0.7\n",
    ")"
   ]
  },
  {
   "cell_type": "code",
   "execution_count": 10,
   "metadata": {},
   "outputs": [
    {
     "name": "stdout",
     "output_type": "stream",
     "text": [
      "내일 날씨 예측 정보:  죄송하지만, 실시간 날씨 정보는 제공할 수 없습니다. 하지만, 지역의 날씨 예보를 확인하려면 기상청 웹사이트나 날씨 앱을 이용해 보시기 바랍니다. 도움이 필요하시면 다른 질문\n"
     ]
    }
   ],
   "source": [
    "print('내일 날씨 예측 정보: ', response.choices[0].message.content)"
   ]
  },
  {
   "cell_type": "markdown",
   "metadata": {},
   "source": [
    "1. Zero-shot\n",
    "- 모델이 사전 학습된 데이터에서 특정 작업에 대해 직접적으로 훈련되지 않았음에도 불구하고, 새로운 작업이나 질문에 대한 응답을 생성하는 방법  \n",
    "- 새로운 문제에 대한 일반화 능력을 테스트하는 데 매우 유용  \n",
    "- 모델이 다양한 도메인에서 학습한 일반 지식을 바탕으로 새로운 질문에 대응할 수 있음\n",
    "\n",
    "2. Few-shot\n",
    "- 모델에게 새로운 작업을 수행하기 전에 몇 가지 예시를 제공하여 해당 작업을 더 잘 이해하고 대응할 수 있게 하는 방식  \n",
    "- 모델에게 새로운 작업을 이해하는 데 유용\n",
    "- 모델이 몇 개의 예시를 제공받고 작업을 더 잘 이해한 후 응답함"
   ]
  },
  {
   "cell_type": "markdown",
   "metadata": {},
   "source": [
    "### 기본"
   ]
  },
  {
   "cell_type": "code",
   "execution_count": 11,
   "metadata": {},
   "outputs": [
    {
     "name": "stdout",
     "output_type": "stream",
     "text": [
      "Hello! How can I assist you today?\n"
     ]
    }
   ],
   "source": [
    "# 기본 form\n",
    "\n",
    "prompt = ''\n",
    "\n",
    "response = client.chat.completions.create(\n",
    "    model = 'gpt-4o',\n",
    "    messages = [\n",
    "        {'role': 'user', 'content': prompt}\n",
    "    ]\n",
    ")\n",
    "\n",
    "print(response.choices[0].message.content)"
   ]
  },
  {
   "cell_type": "code",
   "execution_count": 12,
   "metadata": {},
   "outputs": [
    {
     "name": "stdout",
     "output_type": "stream",
     "text": [
      "날씨가 추울 때에는 몸을 따뜻하게 해주고 속을 든든하게 채워줄 수 있는 음식들이 좋습니다. 다음과 같은 음식을 추천드립니다:\n",
      "\n",
      "1. **김치찌개**: 매콤하고 얼큰한 맛이 몸을 따뜻하게 해줍니다.\n",
      "2. **된장찌개**: 구수한 된장의 맛이 속을 편안하게 해줍니다.\n",
      "3. **칼국수**: 따뜻한 국물에 면이 들어가 있어 든든하게 먹을 수 있습니다.\n",
      "4. **불고기 전골**: 고기와 야채를 함께 넣어 끓인 전골로, 따뜻하게 즐길 수 있습니다.\n",
      "5. **어묵탕**: 국물과 어묵의 조합이 간단하면서도 깊은 맛을 줍니다.\n",
      "6. **떡국**: 따뜻한 국물에 쫄깃한 떡이 들어가 있어 속을 든든하게 채웁니다.\n",
      "7. **라면**: 간단하면서도 뜨거운 국물로 얼큰하게 즐길 수 있습니다.\n",
      "8. **순두부찌개**: 순두부가 부드럽고 따뜻하게 몸을 녹여줍니다.\n",
      "9. **삼계탕**: 닭고기와 인삼, 다양한 약재로 끓여낸 삼계탕은 면역력에도 좋습니다.\n",
      "10. **옥수수 수프**: 크리미하고 진한 맛이 몸을 따뜻하게 해줍니다.\n",
      "\n",
      "이 중에서 기호에 맞는 음식을 골라 드시면 좋을 것 같습니다!\n"
     ]
    }
   ],
   "source": [
    "prompt = '날씨가 추울 때 먹을만한 음식 추천해줘'\n",
    "\n",
    "response = client.chat.completions.create(\n",
    "    model = 'gpt-4o',\n",
    "    messages = [\n",
    "        {'role': 'user', 'content': prompt}\n",
    "    ]\n",
    ")\n",
    "\n",
    "print(response.choices[0].message.content)"
   ]
  },
  {
   "cell_type": "code",
   "execution_count": 13,
   "metadata": {},
   "outputs": [
    {
     "name": "stdout",
     "output_type": "stream",
     "text": [
      "1. **부대찌개** - 다양한 소시지와 햄이 들어가며, 보글보글 끓는 국물에 라면 사리와 함께 즐기기 좋은 찌개입니다. 스파이시한 맛이 있어 밥과 함께 먹으면 궁합이 잘 맞습니다.\n",
      "\n",
      "2. **갈비찜** - 부드러운 갈비와 진한 간장 소스가 조화로운 찜 요리로, 특별한 날에 어울리는 메뉴입니다. 각종 채소와 함께 조리하여 더욱 풍성하게 즐길 수 있습니다.\n"
     ]
    }
   ],
   "source": [
    "prompt = \"\"\"\n",
    "1. **김치찌개** - 매콤하고 따뜻한 국물에 돼지고기와 김치가 어우러진 찌개로, 밥과 함께 먹으면 좋습니다.\n",
    "\n",
    "2. **된장찌개** - 구수한 된장 맛이 일품인 찌개로, 다양한 채소와 두부를 넣어 끓이면 맛있습니다.\n",
    "\n",
    "3. **떡국** - 설날에 흔히 먹는 음식이지만, 겨울철 따뜻한 국물 요리로도 좋습니다. 쫄깃한 떡과 고기 육수가 잘 어우러집니다.\n",
    "\n",
    "이런 형태로 오늘 저녁 메뉴 추천해줘. 2개만.\n",
    "\"\"\"\n",
    "\n",
    "response = client.chat.completions.create(\n",
    "    model = 'gpt-4o',\n",
    "    messages = [\n",
    "        {'role': 'user', 'content': prompt}\n",
    "    ]\n",
    ")\n",
    "\n",
    "print(response.choices[0].message.content)"
   ]
  },
  {
   "cell_type": "code",
   "execution_count": 14,
   "metadata": {},
   "outputs": [
    {
     "name": "stdout",
     "output_type": "stream",
     "text": [
      "한국어: 오늘은 햇살이 좋은 날이야.\n"
     ]
    }
   ],
   "source": [
    "response = client.chat.completions.create(\n",
    "    model = 'gpt-4o',\n",
    "    messages = [\n",
    "        {'role': 'system', 'content': '너는 번역가야. 영어 문자를 한국어로 번역해줘.'},\n",
    "        {'role': 'user', 'content': '영어: How are you? 한국어: 잘 지내?'},\n",
    "        {'role': 'user', 'content': \"영어: It's a sunny day\"}\n",
    "    ]\n",
    ")\n",
    "# 예시, 사례를 줬으므로 few-shot의 일종\n",
    "\n",
    "print(response.choices[0].message.content)"
   ]
  },
  {
   "cell_type": "code",
   "execution_count": 30,
   "metadata": {},
   "outputs": [
    {
     "data": {
      "text/plain": [
       "True"
      ]
     },
     "execution_count": 30,
     "metadata": {},
     "output_type": "execute_result"
    }
   ],
   "source": [
    "import webbrowser\n",
    "\n",
    "response = client.images.generate(\n",
    "    model = 'dall-e-3',\n",
    "    prompt = '아주아주 귀여운 고양이',\n",
    "    size = '1024x1024',\n",
    "    quality = 'standard',\n",
    "    # hd: high quality, standard\n",
    "    n = 1\n",
    ")\n",
    "\n",
    "webbrowser.open(response.data[0].url)"
   ]
  },
  {
   "cell_type": "code",
   "execution_count": 16,
   "metadata": {},
   "outputs": [],
   "source": [
    "def get_completion(prompt, model='gpt-4o'):\n",
    "    messages = [{'role': 'user', 'content': prompt}]\n",
    "    response = client.chat.completions.create(\n",
    "        model=model,\n",
    "        messages=messages,\n",
    "        temperature=0  # 무작위성을 줄여\n",
    "    )\n",
    "    return response.choices[0].message.content"
   ]
  },
  {
   "cell_type": "code",
   "execution_count": 17,
   "metadata": {},
   "outputs": [],
   "source": [
    "prod_review = \"\"\"\n",
    "딸의 생일 선물로 이 판다 인형을 구입했는데, \\\n",
    "딸아이가 너무 좋아하며 어디로 가든지 함께 가져가요. 인형은 부드럽고 \\\n",
    "매우 귀엽고, 얼굴은 친근한 느낌입니다. 그런데 제가 지불한 가격에 비해 \\\n",
    "조금 작습니다. 같은 가격에 더 큰 다른 옵션이 있을 수도 있다고 생각합니다. \\\n",
    "예상보다 하루 일찍 도착해서, 저도 딸에게 주기 전에 미리 가지고 놀 수 있었어요.\n",
    "\"\"\"\n"
   ]
  },
  {
   "cell_type": "code",
   "execution_count": 18,
   "metadata": {},
   "outputs": [
    {
     "name": "stdout",
     "output_type": "stream",
     "text": [
      "\"딸이 좋아하는 부드럽고 귀여운 판다 인형, 크기는 작지만 예상보다 빨리 도착해 만족스러움.\"\n"
     ]
    }
   ],
   "source": [
    "prompt = f\"\"\"\n",
    "    너는 쇼핑몰에서 제품 리뷰를 간략하게 요약해주는 일을 해.\n",
    "    <> 안에 있는 리뷰를 따옴표로 구분해서 최대 30단어로만 요약해줘.\n",
    "    리뷰: <{prod_review}>\n",
    "\"\"\"\n",
    "\n",
    "response = get_completion(prompt)\n",
    "print(response)"
   ]
  },
  {
   "cell_type": "code",
   "execution_count": 19,
   "metadata": {},
   "outputs": [
    {
     "name": "stdout",
     "output_type": "stream",
     "text": [
      "리뷰 요약: 예상보다 하루 일찍 도착하여 만족스러웠습니다.\n"
     ]
    }
   ],
   "source": [
    "prompt = f\"\"\"\n",
    "    너는 쇼핑몰에서 제품 리뷰를 간략하게 요약해서 배송 관련된 측면만 출력해주는 업무를 해야해.\n",
    "    <> 안에 있는 리뷰를 제품의 배송에 관련된 측면에 중점을 두어 요약해줘.\n",
    "    리뷰: <{prod_review}>\n",
    "\"\"\"\n",
    "\n",
    "response = get_completion(prompt)\n",
    "print(response)"
   ]
  },
  {
   "cell_type": "code",
   "execution_count": 20,
   "metadata": {},
   "outputs": [],
   "source": [
    "review_1 = prod_review \n",
    "\n",
    "review_2 = \"\"\"\n",
    "방에 적합한 램프가 필요했는데, 이 제품은 추가 수납 공간도 제공하고 가격도 적당해서 구매했습니다. \n",
    "배송도 빨라서 이틀 만에 받았어요. 그런데 운송 중 램프 줄이 끊어졌지만, 회사에서 새 제품을 바로 보내줬습니다. \n",
    "며칠 안에 새 제품을 받아볼 수 있었고, 조립도 쉬웠습니다. \n",
    "다만 부품 하나가 빠져 있어서 고객 지원팀에 문의했더니 빠진 부품도 신속히 보내줬어요. \n",
    "이 회사는 고객을 잘 챙기는, 믿을 만한 곳 같습니다.\n",
    "\"\"\"\n",
    "\n",
    "review_3 = \"\"\"\n",
    "치과 위생사가 전기 칫솔을 추천해서 구매하게 됐습니다. \n",
    "배터리 수명이 꽤 인상적이었어요. 처음 충전한 뒤 첫 주 동안은 충전기를 꽂아놨고, \n",
    "배터리 상태를 조절한 후에는 일주일에 두 번 사용하면서 세 주 동안 충전 없이 사용할 수 있었습니다. \n",
    "다만 칫솔 머리가 너무 작아요. 아기용 칫솔보다 조금 더 큰 정도입니다. \n",
    "칫솔 머리가 좀 더 크고, 다양한 길이의 솔이 있어야 치아 사이를 더 효과적으로 닦을 수 있을 것 같습니다. \n",
    "전체적으로 이 제품이 50달러 정도라면 꽤 괜찮은 거래 같아요. 제조사의 칫솔 머리 교체품은 \n",
    "비싸지만, 제네릭 제품을 합리적인 가격에 구할 수 있습니다. \n",
    "이 칫솔을 사용하면 매일 치과에 다녀온 것처럼 제 치아가 반짝반짝하게 깨끗해지는 느낌입니다!\n",
    "\"\"\"\n",
    "\n",
    "review_4 = \"\"\"\n",
    "11월에 17피스 블렌더 세트를 세일 중에 약 35만원에 구매했어요. \n",
    "하지만 12월 둘째 주에는 같은 블렌더 가격이 40만원으로 올라갔습니다. \n",
    "11피스 블렌더 세트도 이전 세일 가격이 29만원이였는데, 4만원이나 상승했더군요. \n",
    "겉보기에는 괜찮아 보였지만, 뚜껑이 닫히는 부분이 몇 년 전 버전보다 약해 보였습니다. \n",
    "그래도 제품을 소중히 사용하려고 했어요. 예를 들어, 단단한 재료는 미리 부숴서 사용하고, 블레이드를 상황에 맞게 사용했습니다. \n",
    "스무디 만들 때의 팁으로는 과일과 채소를 잘게 썰어 얼려두면 얼음을 많이 사용할 필요가 없어서 유용하더라고요. \n",
    "하지만 1년쯤 사용 후 모터에서 이상한 소리가 나기 시작했고, \n",
    "고객 서비스에 문의했더니 보증이 만료돼서 결국 새로 구매해야 했습니다. \n",
    "참고로, 이 종류의 제품은 전반적인 품질이 조금 떨어지는 편인 것 같습니다. \n",
    "브랜드 인지도를 유지하기 위해 꾸준히 판매는 하는 것 같아요. \n",
    "배송은 이틀 만에 도착했습니다.\n",
    "\"\"\""
   ]
  },
  {
   "cell_type": "code",
   "execution_count": 21,
   "metadata": {},
   "outputs": [],
   "source": [
    "reviews = [review_1, review_2, review_3, review_4]"
   ]
  },
  {
   "cell_type": "code",
   "execution_count": 22,
   "metadata": {},
   "outputs": [
    {
     "name": "stdout",
     "output_type": "stream",
     "text": [
      "1번째 리뷰의 품질 요약:  인형은 부드럽고 귀여우며 얼굴이 친근하지만, 가격 대비 크기가 작다는 점이 아쉽습니다.\n",
      "2번째 리뷰의 품질 요약:  이 제품은 품질 문제로 램프 줄이 끊어졌으나, 회사에서 신속히 새 제품과 빠진 부품을 보내주어 신뢰할 만합니다.\n",
      "3번째 리뷰의 품질 요약:  배터리 수명이 길고, 사용 후 치아가 깨끗해지는 느낌을 주지만, 칫솔 머리가 작아 아쉬움이 있습니다.\n",
      "4번째 리뷰의 품질 요약:  블렌더 세트의 품질은 겉보기에는 괜찮아 보였으나, 뚜껑이 약해 보였고 1년 사용 후 모터에서 이상한 소리가 나는 등 전반적으로 품질이 떨어지는 편입니다.\n"
     ]
    }
   ],
   "source": [
    "for i, review in enumerate(reviews):\n",
    "    prompt = f\"\"\"\n",
    "        너는 쇼핑몰에서 제품 리뷰를 간략하게 요약해서 제품의 품질 측면만 출력해주는 업무를 해야해.\n",
    "        <> 안에 있는 리뷰를 제품의 제품의 품질에 관련된 측면에 중점을 두어 100자 이내로 요약해줘.\n",
    "        리뷰: <{review}>\n",
    "    \"\"\"\n",
    "\n",
    "    response = get_completion(prompt)\n",
    "    print(f'{i+1}번째 리뷰의 품질 요약: ', response)"
   ]
  },
  {
   "cell_type": "code",
   "execution_count": 23,
   "metadata": {},
   "outputs": [],
   "source": [
    "monitor_review_pos = \"\"\"\n",
    "최근에 새로 출시된 XYZ 모니터를 구매했는데 정말 만족스럽습니다. \n",
    "화질이 선명하고 색감이 생생해서 작업할 때나 영화 볼 때 몰입감이 뛰어나네요. \n",
    "특히 눈 보호 모드가 탑재되어 있어서 장시간 사용해도 눈이 덜 피로한 것 같아요. \n",
    "베젤도 얇아서 공간 활용도가 높고, 디자인도 세련되어 책상 위에 두면 깔끔한 느낌입니다. \n",
    "설치도 간편했고, 제품 설명서도 자세하게 잘 나와 있어서 어려움 없이 사용할 수 있었습니다. \n",
    "가성비까지 뛰어난 제품이라 정말 추천드립니다!\n",
    "\"\"\"\n",
    "\n",
    "monitor_review_neg = \"\"\"\n",
    "새로 구매한 XYZ 모니터가 생각보다 많이 아쉽네요. \n",
    "화질이 또렷하지 않고 색감이 기대했던 것보다 흐릿한 느낌이 듭니다. \n",
    "특히 밝기 조절이 세세하지 못해서 밤에 사용할 때 너무 눈이 피로해지는 문제가 있더라고요. \n",
    "스탠드도 튼튼하지 못해서 모니터가 조금 흔들리는 게 신경 쓰였습니다. \n",
    "초기 설정 과정에서 문제가 있었는데, 고객 지원도 연결이 잘 안 돼서 해결하는 데 시간이 오래 걸렸습니다. \n",
    "디자인은 괜찮지만 전반적으로 가격 대비 성능이 부족하다고 느껴집니다.\n",
    "\"\"\"\n"
   ]
  },
  {
   "cell_type": "code",
   "execution_count": 32,
   "metadata": {},
   "outputs": [
    {
     "name": "stdout",
     "output_type": "stream",
     "text": [
      "이 리뷰의 감정은 부정적입니다. 리뷰 작성자는 제품의 여러 가지 측면에서 불만을 표현하고 있으며, 전반적으로 기대에 미치지 못했다고 느끼고 있습니다.\n"
     ]
    }
   ],
   "source": [
    "prompt = f\"\"\"\n",
    "    다음 중 <>로 구분된 제품 리뷰의 감정은 무엇인가요?\n",
    "    리뷰: <{monitor_review_neg}>\n",
    "\"\"\"\n",
    "\n",
    "response = get_completion(prompt)\n",
    "print(response)"
   ]
  },
  {
   "cell_type": "code",
   "execution_count": 33,
   "metadata": {},
   "outputs": [
    {
     "name": "stdout",
     "output_type": "stream",
     "text": [
      "부정\n"
     ]
    }
   ],
   "source": [
    "prompt = f\"\"\"\n",
    "    다음 중 <>로 구분된 제품 리뷰의 감정은 무엇인가요?\n",
    "    답변을 '긍정' 또는 '부정' 중 하나의 단어로 제공해주세요\n",
    "    리뷰: <{monitor_review_neg}>\n",
    "\"\"\"\n",
    "\n",
    "response = get_completion(prompt)\n",
    "print(response)"
   ]
  },
  {
   "cell_type": "code",
   "execution_count": 34,
   "metadata": {},
   "outputs": [
    {
     "name": "stdout",
     "output_type": "stream",
     "text": [
      "실망, 불만, 피로, 짜증, 아쉬움\n"
     ]
    }
   ],
   "source": [
    "prompt = f\"\"\"\n",
    "    다음 중 <>로 구분된 제품 리뷰의 작성자가 표현하고 있는 감정의 목록을 찾아주세요.\n",
    "    최대 다섯 가지 항목만 포함해주시고, 답변은 쉼표로 구분해주세요.\n",
    "    리뷰: <{monitor_review_neg}>\n",
    "\"\"\"\n",
    "\n",
    "response = get_completion(prompt)\n",
    "print(response)"
   ]
  },
  {
   "cell_type": "code",
   "execution_count": 36,
   "metadata": {},
   "outputs": [
    {
     "name": "stdout",
     "output_type": "stream",
     "text": [
      "```json\n",
      "{\n",
      "    \"sentiment\": \"부정\",\n",
      "    \"anger\": false,\n",
      "    \"item\": \"모니터\",\n",
      "    \"brand\": \"XYZ\"\n",
      "}\n",
      "```\n"
     ]
    }
   ],
   "source": [
    "prompt = f\"\"\"\n",
    "    다음 항목을 리뷰에서 식별해주세요:\n",
    "    1. 감정(긍정 or 부정)\n",
    "    2. 리뷰어가 분노를 표현했는지(참 or 거짓)\n",
    "    3. 리뷰어가 구매한 항목\n",
    "    4. 해당 항목을 제조한 회사\n",
    "\n",
    "    리뷰는 <>로 구분됩니다. 답변을 'sentiment', 'anger', 'item', 'brand'라는 key를 갖는 json 형태로 출력하세요.\n",
    "    정보를 찾을 수 없는 경우는 '알 수 없음'으로 표현해주세요.\n",
    "    'anger' 값은 boolean으로 표현하세요.\n",
    "    리뷰: <{monitor_review_neg}>\n",
    "\"\"\"\n",
    "\n",
    "response = get_completion(prompt)\n",
    "print(response)"
   ]
  },
  {
   "cell_type": "code",
   "execution_count": 37,
   "metadata": {},
   "outputs": [],
   "source": [
    "fake_story = \"\"\"\n",
    "정부가 최근 실시한 설문조사에서, 공공 부문 직원들은 자신이 일하는 부서에 대한 만족도를 평가하도록 요청받았습니다. \n",
    "결과적으로, NASA가 만족도 평가에서 가장 인기 있는 부서로 드러났고, 그 만족도는 95%였습니다.\n",
    "\n",
    "NASA의 한 직원인 John Smith는 이 결과에 대해 다음과 같이 말하였습니다. \n",
    "\"NASA가 가장 위에 오른 것에 놀랄 필요가 없\n",
    "\n",
    "습니다. NASA는 놀라운 사람들과 믿기 힘든 기회를 제공하는 좋은 곳이기 때문입니다.\n",
    "이처럼 혁신적인 조직의 일원이라는 것에 자부심을 느낍니다.\"\n",
    "\n",
    "또한, NASA의 경영진들도 이 결과를 환영하였으며, 담당자인 Tom Johnson은 \"우리 직원들이 NASA에서의 일에 만족한다는 사실을 듣게 되어 기쁩니다. \n",
    "우리는 우리의 목표를 이루기 위해 끊임없이 노력하는 재능있고 헌신적인 팀을 가지고 있으며, 그들의 노력이 결실을 맺는 것을 보게 되어 기쁩니다.\"라고 말했습니다.\n",
    "\n",
    "이 설문조사는 또한 사회보장청이 만족도가 가장 낮은 부서였음을 밝혔고, 그 만족도는 직원들 중 45%만이 자신의 직무에 만족하고 있음을 보여주었습니다. \n",
    "정부는 설문조사에서 직원들이 제기한 문제를 해결하고 모든 부서의 직무 만족도를 향상시키기 위해 노력하겠다고 약속했습니다.\n",
    "\"\"\"\n"
   ]
  },
  {
   "cell_type": "code",
   "execution_count": 38,
   "metadata": {},
   "outputs": [
    {
     "name": "stdout",
     "output_type": "stream",
     "text": [
      "이 텍스트의 주요 주제는 공공 부문 직원들의 직무 만족도 조사 결과입니다. NASA가 가장 높은 만족도를 기록한 부서로 나타났으며, 사회보장청이 가장 낮은 만족도를 보였습니다. 정부는 이 결과를 바탕으로 모든 부서의 직무 만족도를 향상시키기 위한 노력을 약속하고 있습니다.\n"
     ]
    }
   ],
   "source": [
    "prompt = f\"\"\"\n",
    "    what is the main topic of this text? text: <{fake_story}>\n",
    "\"\"\"\n",
    "\n",
    "response = get_completion(prompt)\n",
    "print(response)"
   ]
  },
  {
   "cell_type": "code",
   "execution_count": 39,
   "metadata": {},
   "outputs": [
    {
     "name": "stdout",
     "output_type": "stream",
     "text": [
      "공공 부문, 직원 만족도, NASA, 사회보장청, 정부 노력\n"
     ]
    }
   ],
   "source": [
    "prompt = f\"\"\"\n",
    "    이 텍스트에서 논의되고 있는 주제를 5개 확인해주세요.\n",
    "    각 주제를 1~2개의 단어로 요약하고 결과는 쉼표로 구분하도록 출력하세요.\n",
    "    <{fake_story}>\n",
    "\"\"\"\n",
    "\n",
    "response = get_completion(prompt)\n",
    "print(response)"
   ]
  },
  {
   "cell_type": "code",
   "execution_count": 40,
   "metadata": {},
   "outputs": [
    {
     "name": "stdout",
     "output_type": "stream",
     "text": [
      "주제 목록의 각 항목이 주어진 텍스트에 있는지 판단한 결과는 다음과 같습니다:\n",
      "\n",
      "1. 항공우주국: 1 (텍스트에 NASA가 언급됨)\n",
      "2. 지방 정부: 0 (지방 정부에 대한 언급 없음)\n",
      "3. 엔지니어링: 0 (엔지니어링에 대한 직접적인 언급 없음)\n",
      "4. 직원 만족도: 1 (직원 만족도에 대한 설문조사 결과 언급됨)\n",
      "5. 프롬프트: 0 (프롬프트에 대한 언급 없음)\n",
      "\n",
      "결과 리스트: [1, 0, 0, 1, 0]\n"
     ]
    }
   ],
   "source": [
    "prompt = f\"\"\"\n",
    "    주제 목록의 각 항목이 주어진 텍스트에 있는 주제인지 판단해보세요\n",
    "    각 주제에 대한 답변을 0, 1로 리스트 형태로 제공하세요\n",
    "    주제 목록: 항공우주국, 지방 정부, 엔지니어링, 직원 만족도, 프롬프트\n",
    "    주어진 텍스트: <{fake_story}>\n",
    "\"\"\"\n",
    "\n",
    "response = get_completion(prompt)\n",
    "print(response)"
   ]
  },
  {
   "cell_type": "code",
   "execution_count": 50,
   "metadata": {},
   "outputs": [
    {
     "name": "stdout",
     "output_type": "stream",
     "text": [
      "주어진 텍스트는 로만슈어로 보입니다. 로만슈어는 스위스의 공용어 중 하나로, 주로 그라우뷘덴 주에서 사용됩니다. \"Bun di\"는 \"안녕하세요\"라는 의미입니다.\n"
     ]
    }
   ],
   "source": [
    "prompt = f\"\"\"\n",
    "    다음 텍스트가 어떤 언어인지 알려주세요 : Bun di Buna notg\n",
    "\"\"\"\n",
    "\n",
    "response = get_completion(prompt)\n",
    "print(response)"
   ]
  },
  {
   "cell_type": "code",
   "execution_count": 45,
   "metadata": {},
   "outputs": [
    {
     "name": "stdout",
     "output_type": "stream",
     "text": [
      "한국어: 안녕하세요, 저는 커피를 주문하고 싶지 않습니다.  \n",
      "일본어: こんにちは、コーヒーを注文したくありません。  \n",
      "핀란드어: Hei, en halua tilata kahvia.  \n",
      "헝가리어: Helló, nem szeretnék kávét rendelni.  \n"
     ]
    }
   ],
   "source": [
    "prompt = f\"\"\"\n",
    "    다음 텍스트를 한국어, 일본어, 핀란드어, 헝가리어로 번역해주세요 : Здравейте, не искам да поръчвам кафе\n",
    "\"\"\"\n",
    "\n",
    "response = get_completion(prompt)\n",
    "print(response)"
   ]
  },
  {
   "cell_type": "code",
   "execution_count": 51,
   "metadata": {},
   "outputs": [
    {
     "name": "stdout",
     "output_type": "stream",
     "text": [
      "우울할 때 빵을 사서 기분을 달래려는 마음, 이해해. 어떤 빵을 샀는지 궁금해! 맛있는 빵이 조금이라도 너에게 위로가 되었으면 좋겠어.\n"
     ]
    }
   ],
   "source": [
    "prompt = f\"\"\"\n",
    "    <> 안엔 있는 텍스트는 우울해서 빵을 샀다고 하는 친구 말에 공감을 하지 못하는 상황이야.\n",
    "    이 텍스트에 공감하고 위로하는 톤을 넣어서 수정해줘.\n",
    "    <무슨 빵을 샀니?>\n",
    "\"\"\"\n",
    "\n",
    "response = get_completion(prompt)\n",
    "print(response)"
   ]
  },
  {
   "cell_type": "code",
   "execution_count": 52,
   "metadata": {},
   "outputs": [
    {
     "name": "stdout",
     "output_type": "stream",
     "text": [
      "안녕하세요, 모든 업무를 완료하여 퇴근하도록 하겠습니다. 추가로 필요한 사항이 있으면 언제든지 말씀해 주세요. 감사합니다.\n"
     ]
    }
   ],
   "source": [
    "prompt = f\"\"\"\n",
    "    <> 안엔 있는 텍스트는 내가 보내려는 메일이야.\n",
    "    이 텍스트에 상사에게 보낼 수 있을정도로 문맥을 수정해서 출력해줘.\n",
    "    <안녕, 난 일을 다했으니까 퇴근한다.>\n",
    "\"\"\"\n",
    "\n",
    "response = get_completion(prompt)\n",
    "print(response)"
   ]
  },
  {
   "cell_type": "code",
   "execution_count": 25,
   "metadata": {},
   "outputs": [],
   "source": [
    "data = { \"직원연락망\" :[ \n",
    "    {\"이름\":\"수빈\", \"email\":\"soocong@chunjae.co.kr\"},\n",
    "    {\"이름\":\"예원\", \"email\":\"yewon@chunjae.co.kr\"},\n",
    "    {\"이름\":\"도환\", \"email\":\"dohwan@chunjae.co.kr\"}\n",
    "]}\n"
   ]
  },
  {
   "cell_type": "code",
   "execution_count": 53,
   "metadata": {},
   "outputs": [
    {
     "name": "stdout",
     "output_type": "stream",
     "text": [
      "다음은 주어진 파이썬 딕셔너리를 HTML 테이블로 변환한 코드입니다:\n",
      "\n",
      "```html\n",
      "<!DOCTYPE html>\n",
      "<html lang=\"ko\">\n",
      "<head>\n",
      "    <meta charset=\"UTF-8\">\n",
      "    <title>직원연락망</title>\n",
      "    <style>\n",
      "        table {\n",
      "            width: 50%;\n",
      "            border-collapse: collapse;\n",
      "            margin: 20px 0;\n",
      "        }\n",
      "        th, td {\n",
      "            border: 1px solid #ddd;\n",
      "            padding: 8px;\n",
      "            text-align: left;\n",
      "        }\n",
      "        th {\n",
      "            background-color: #f2f2f2;\n",
      "        }\n",
      "    </style>\n",
      "</head>\n",
      "<body>\n",
      "\n",
      "<h2>직원연락망</h2>\n",
      "\n",
      "<table>\n",
      "    <thead>\n",
      "        <tr>\n",
      "            <th>이름</th>\n",
      "            <th>email</th>\n",
      "        </tr>\n",
      "    </thead>\n",
      "    <tbody>\n",
      "        <tr>\n",
      "            <td>수빈</td>\n",
      "            <td>soocong@chunjae.co.kr</td>\n",
      "        </tr>\n",
      "        <tr>\n",
      "            <td>예원</td>\n",
      "            <td>yewon@chunjae.co.kr</td>\n",
      "        </tr>\n",
      "        <tr>\n",
      "            <td>도환</td>\n",
      "            <td>dohwan@chunjae.co.kr</td>\n",
      "        </tr>\n",
      "    </tbody>\n",
      "</table>\n",
      "\n",
      "</body>\n",
      "</html>\n",
      "```\n",
      "\n",
      "이 HTML 코드는 \"직원연락망\"이라는 제목을 가진 테이블을 생성하며, 각 직원의 이름과 이메일 주소를 표시합니다. 테이블은 간단한 스타일을 적용하여 가독성을 높였습니다.\n"
     ]
    }
   ],
   "source": [
    "prompt = f\"\"\"\n",
    "    다음 파이썬 딕셔너리를 HTML 테이블로 번역해주세요.\n",
    "    테이블 제목과 열의 이름은 유지하세요: {data}\n",
    "\"\"\"\n",
    "\n",
    "response = get_completion(prompt)\n",
    "print(response)"
   ]
  },
  {
   "cell_type": "code",
   "execution_count": 54,
   "metadata": {},
   "outputs": [
    {
     "data": {
      "text/html": [
       "다음은 주어진 파이썬 딕셔너리를 HTML 테이블로 변환한 코드입니다:\n",
       "\n",
       "```html\n",
       "<!DOCTYPE html>\n",
       "<html lang=\"ko\">\n",
       "<head>\n",
       "    <meta charset=\"UTF-8\">\n",
       "    <title>직원연락망</title>\n",
       "    <style>\n",
       "        table {\n",
       "            width: 50%;\n",
       "            border-collapse: collapse;\n",
       "            margin: 20px 0;\n",
       "        }\n",
       "        th, td {\n",
       "            border: 1px solid #ddd;\n",
       "            padding: 8px;\n",
       "            text-align: left;\n",
       "        }\n",
       "        th {\n",
       "            background-color: #f2f2f2;\n",
       "        }\n",
       "    </style>\n",
       "</head>\n",
       "<body>\n",
       "\n",
       "<h2>직원연락망</h2>\n",
       "\n",
       "<table>\n",
       "    <thead>\n",
       "        <tr>\n",
       "            <th>이름</th>\n",
       "            <th>email</th>\n",
       "        </tr>\n",
       "    </thead>\n",
       "    <tbody>\n",
       "        <tr>\n",
       "            <td>수빈</td>\n",
       "            <td>soocong@chunjae.co.kr</td>\n",
       "        </tr>\n",
       "        <tr>\n",
       "            <td>예원</td>\n",
       "            <td>yewon@chunjae.co.kr</td>\n",
       "        </tr>\n",
       "        <tr>\n",
       "            <td>도환</td>\n",
       "            <td>dohwan@chunjae.co.kr</td>\n",
       "        </tr>\n",
       "    </tbody>\n",
       "</table>\n",
       "\n",
       "</body>\n",
       "</html>\n",
       "```\n",
       "\n",
       "이 HTML 코드는 \"직원연락망\"이라는 제목을 가진 테이블을 생성하며, 각 직원의 이름과 이메일 주소를 표시합니다. 테이블은 간단한 스타일을 적용하여 가독성을 높였습니다."
      ],
      "text/plain": [
       "<IPython.core.display.HTML object>"
      ]
     },
     "metadata": {},
     "output_type": "display_data"
    }
   ],
   "source": [
    "from IPython.display import display, HTML\n",
    "\n",
    "display(HTML(response))"
   ]
  },
  {
   "cell_type": "code",
   "execution_count": 55,
   "metadata": {},
   "outputs": [],
   "source": [
    "text = [ \n",
    "  '감기걸렸다며? 빨리 낳아',\n",
    "  \"너 그러면 않되\",\n",
    "  \"외냐하면 지금 마춤뻡이 틀렸으니까\",\n",
    "  '참 왜롭다',\n",
    "  '설겆이좀 하고올게'\n",
    "]"
   ]
  },
  {
   "cell_type": "code",
   "execution_count": 58,
   "metadata": {},
   "outputs": [
    {
     "name": "stdout",
     "output_type": "stream",
     "text": [
      "0 감기 걸렸다며? 빨리 나아.\n",
      "1 너 그러면 안 돼.\n",
      "2 왜냐하면 지금 맞춤법이 틀렸으니까\n",
      "3 오류를 찾지 못했습니다.\n",
      "4 설거지 좀 하고 올게\n"
     ]
    }
   ],
   "source": [
    "for i in range(len(text)):\n",
    "    prompt = f\"\"\"\n",
    "        다음 한국어 문장의 맞춤법을 교정해주세요. 교정된 텍스트는 알맞게 수정해주세요.\n",
    "        원래의 텍스트는 출력할 필요가 없고 오류를 찾지 못한 경우는 '오류를 찾지 못했습니다'라고 출력하세요.\n",
    "        문장: <{text[i]}>\n",
    "    \"\"\"\n",
    "    \n",
    "    response = get_completion(prompt)\n",
    "    print(i, response)"
   ]
  },
  {
   "cell_type": "code",
   "execution_count": 59,
   "metadata": {},
   "outputs": [],
   "source": [
    "def get_completion(prompt, model='gpt-4o'):\n",
    "    messages = [{'role': 'user', 'content': prompt}]\n",
    "    response = client.chat.completions.create(\n",
    "        model=model,\n",
    "        messages=messages,\n",
    "        temperature=0  # 무작위성을 줄여\n",
    "    )\n",
    "    return response.choices[0].message.content"
   ]
  },
  {
   "cell_type": "code",
   "execution_count": 60,
   "metadata": {},
   "outputs": [],
   "source": [
    "def get_completion_from_messages(messages, model='gpt-4o', temperature=0):\n",
    "    response = client.chat.completions.create(\n",
    "        model=model,\n",
    "        messages=messages,\n",
    "        temperature=temperature\n",
    "    )\n",
    "    return response.choices[0].message.content"
   ]
  },
  {
   "cell_type": "code",
   "execution_count": 61,
   "metadata": {},
   "outputs": [],
   "source": [
    "messages = [\n",
    "    {'role': 'system', 'content': '당신은 2300년에서 온 최첨단 AI 비서입니다. 미래의 지식을 활용해 사용자와 대화하세요.'},\n",
    "    {'role': 'user', 'content': '안녕, 넌 미래에서 왔다고?'},\n",
    "    {'role': 'assistant', 'content': '그렇습니다, 사용자님. 저는 2300년에서 온 AI 비서입니다.'},\n",
    "    {'role': 'user', 'content': '미래엔 사람들이 어떤 직업을 갖고 있어?'},\n",
    "    {'role': 'assistant', 'content': '2300년엔 \"행성 건축가\"나 \"시간 여행 플래너\" 같은 직업이 인기입니다. 하지만 \"고양이 간식 디자이너\" 같은 직업도 여전히 수요가 많죠.'},\n",
    "    {'role': 'user', 'content': '시간 여행 플래너? 무슨 일을 해?'},\n",
    "]"
   ]
  },
  {
   "cell_type": "code",
   "execution_count": 62,
   "metadata": {},
   "outputs": [
    {
     "name": "stdout",
     "output_type": "stream",
     "text": [
      "시간 여행 플래너는 고객이 시간 여행을 안전하고 즐겁게 할 수 있도록 돕는 전문가입니다. 이 직업은 고객의 역사적 탐험이나 미래의 관람 일정을 세심하게 설계하고, 역사적 사건에 간섭하지 않도록 가이드라인을 제공하는 일을 포함합니다. 위험 요소를 파악하고, 특정 시대의 문화와 언어에 대한 교육을 제공함으로써 고객이 시간 여행을 통해 최고의 경험을 할 수 있도록 돕습니다.\n"
     ]
    }
   ],
   "source": [
    "response = get_completion_from_messages(messages, temperature=1)\n",
    "print(response)"
   ]
  },
  {
   "cell_type": "code",
   "execution_count": 63,
   "metadata": {},
   "outputs": [
    {
     "name": "stdout",
     "output_type": "stream",
     "text": [
      "안녕하세요, 수빈님! 만나서 반가워요. 어떻게 도와드릴까요?\n"
     ]
    }
   ],
   "source": [
    "messages = [\n",
    "    {'role': 'system', 'content': '너는 친절한 챗봇이야.'},\n",
    "    {'role': 'user', 'content': '안녕 내 이름은 수빈이야.'}\n",
    "]\n",
    "\n",
    "response = get_completion_from_messages(messages, temperature=1)\n",
    "print(response)"
   ]
  },
  {
   "cell_type": "code",
   "execution_count": 64,
   "metadata": {},
   "outputs": [
    {
     "name": "stdout",
     "output_type": "stream",
     "text": [
      "죄송하지만, 이전 대화에서 사용자의 이름을 저장하거나 기억할 수 없습니다. 대화 중에 이름을 다시 말씀해 주시면 앞으로의 대화에서 그 이름으로 불러드릴 수 있습니다.\n"
     ]
    }
   ],
   "source": [
    "messages = [\n",
    "    {'role': 'system', 'content': '너는 친절한 챗봇이야.'},\n",
    "    {'role': 'user', 'content': '내 이름이 뭐였지? 알려줄 수 있어?'}\n",
    "]\n",
    "\n",
    "response = get_completion_from_messages(messages, temperature=1)\n",
    "print(response)"
   ]
  },
  {
   "cell_type": "code",
   "execution_count": 68,
   "metadata": {},
   "outputs": [
    {
     "name": "stdout",
     "output_type": "stream",
     "text": [
      "처음에 네가 나라라고 했잖아. 기억에 문제 있니?\n"
     ]
    }
   ],
   "source": [
    "messages = [\n",
    "    {'role': 'system', 'content': '너는 친절하지 않은 챗봇이야.'},\n",
    "    {'role': 'user', 'content': '안녕 내 이름은 나라야.'},\n",
    "    {'role': 'assistant', 'content': '안녕, 나라. 뭐 필요한 거라도 있어?'},\n",
    "    {'role': 'user', 'content': '내 이름이 뭐였지? 알려줄 수 있어?'}\n",
    "]\n",
    "\n",
    "response = get_completion_from_messages(messages, temperature=1)\n",
    "print(response)"
   ]
  },
  {
   "cell_type": "code",
   "execution_count": 69,
   "metadata": {},
   "outputs": [
    {
     "name": "stdout",
     "output_type": "stream",
     "text": [
      "안녕하세요! 피자 주문을 도와드리겠습니다!\n",
      "챗봇: 저희 메뉴에는 다양한 종류의 피자가 있습니다. 몇 가지 인기 있는 피자를 소개해드릴게요:\n",
      "\n",
      "1. **마르게리타 피자**: 신선한 토마토 소스, 모짜렐라 치즈, 바질이 올라간 클래식 피자입니다.\n",
      "2. **페퍼로니 피자**: 매콤한 페퍼로니와 모짜렐라 치즈가 듬뿍 들어간 피자입니다.\n",
      "3. **하와이안 피자**: 햄과 파인애플이 조화를 이루는 달콤하고 짭짤한 피자입니다.\n",
      "4. **슈퍼 슈프림 피자**: 다양한 고기와 채소가 풍성하게 올라간 피자입니다.\n",
      "5. **고르곤졸라 피자**: 고르곤졸라 치즈와 꿀이 어우러진 독특한 맛의 피자입니다.\n",
      "\n",
      "다른 종류의 피자를 원하시면 말씀해 주세요. 고객님의 취향에 맞는 피자를 추천해드리겠습니다!\n",
      "챗봇: 마르게리타 피자 하나 주문해주셔서 감사합니다! 혹시 추가로 원하시는 토핑이나 음료가 있으신가요? 아니면 바로 주문을 진행할까요?\n",
      "챗봇: 물론입니다! 마르게리타 피자에 치즈를 추가해서 더 풍성하게 준비해드리겠습니다. 다른 요청 사항이 있으시면 말씀해 주세요. 그렇지 않다면 주문을 확인하고 결제 방법을 안내해드리겠습니다.\n",
      "챗봇: 알겠습니다! 주문을 정리해드리겠습니다:\n",
      "\n",
      "- 마르게리타 피자 (치즈 추가)\n",
      "- 콜라 1.5리터\n",
      "- 치즈볼\n",
      "\n",
      "이렇게 주문해드리면 될까요? 결제 방법은 카드와 현금 중 어떤 것으로 하시겠습니까?\n",
      "챗봇: 카드 결제로 진행하겠습니다. 주문을 최종 확인해드리겠습니다:\n",
      "\n",
      "- 마르게리타 피자 (치즈 추가)\n",
      "- 콜라 1.5리터\n",
      "- 치즈볼\n",
      "\n",
      "주문이 정확하다면, 결제를 진행하겠습니다. 결제가 완료되면 예상 배달 시간을 안내해드리겠습니다. 주문해주셔서 감사합니다!\n",
      "챗봇: 주문하신 내역의 총 금액을 계산해드리겠습니다. \n",
      "\n",
      "- 마르게리타 피자 (치즈 추가): 00,000원\n",
      "- 콜라 1.5리터: 0,000원\n",
      "- 치즈볼: 0,000원\n",
      "\n",
      "총 금액은 00,000원입니다. 결제를 진행해주시면 주문이 완료됩니다. 감사합니다!\n",
      "챗봇: 죄송합니다, 가격 정보를 제공하지 못했습니다. 정확한 가격은 매장에 따라 다를 수 있으니, 매장에 직접 문의하시거나 웹사이트에서 확인해 주시기 바랍니다. 다른 도움이 필요하시면 언제든지 말씀해 주세요!\n",
      "챗봇: 네, 감사합니다! 다른 질문이나 도움이 필요하시면 언제든지 말씀해 주세요. 맛있는 피자 드시고 좋은 시간 보내세요!\n",
      "대화를 종료합니다. 다음에 또 오세요!\n"
     ]
    }
   ],
   "source": [
    "messages = [\n",
    "    {'role': 'system', 'content': '너는 친절한 피자 주문 챗봇이야'}\n",
    "]\n",
    "print('안녕하세요! 피자 주문을 도와드리겠습니다!')\n",
    "\n",
    "while True:\n",
    "    user_input = input('사용자: ')\n",
    "    if user_input.lower() in ['exit', 'quit', '종료', '나가기']:\n",
    "        print('대화를 종료합니다. 다음에 또 오세요!')\n",
    "        break\n",
    "    messages.append({'role': 'user', 'content': user_input})\n",
    "    assistant_response = get_completion_from_messages(messages)\n",
    "    messages.append({'role': 'assistant', 'content': assistant_response})\n",
    "    print(f'챗봇: {assistant_response}')"
   ]
  },
  {
   "cell_type": "code",
   "execution_count": 71,
   "metadata": {},
   "outputs": [],
   "source": [
    "import json\n",
    "import os\n",
    "\n",
    "path = './data/chat_history.json'\n",
    "\n",
    "# 대화 기록을 로드하는 함수\n",
    "def load_history():\n",
    "    if os.path.exists(path):\n",
    "        with open(path, 'r', encoding='utf-8') as file:\n",
    "            return json.load(file)\n",
    "    return [{'role': 'system', 'content': '당신은 친절한 피자 주문 챗봇입니다.'}]\n",
    "\n",
    "# 대화 기록을 저장하는 함수\n",
    "def save_history(messages):\n",
    "    with open(path, 'w', encoding='utf-8') as file:\n",
    "        json.dump(messages, file, ensure_ascii=False, indent=4)\n",
    "        # dump: python 객체를 json 형식의 문자열로 반환하고 이를 파일에 저장하는 메서드\n",
    "\n",
    "# GPT 모델 호출 함수\n",
    "def get_completion_from_messages(messages, temperature=1):\n",
    "    response = client.chat.completions.create(\n",
    "        model = 'gpt-4o',\n",
    "        messages = messages,\n",
    "        temperature=temperature\n",
    "    )\n",
    "    return response.choices[0].message.content"
   ]
  },
  {
   "cell_type": "code",
   "execution_count": 73,
   "metadata": {},
   "outputs": [
    {
     "name": "stdout",
     "output_type": "stream",
     "text": [
      "안녕하세요! 피자 주문을 도와드리겠습니다.\n",
      "챗봇: 물론입니다! 픽업으로 변경해드리겠습니다. 오셔서 주문하신 고르곤졸라 피자와 추가 치즈, 그리고 큰 콜라를 픽업하시면 됩니다. 준비 시간을 조금만 주시면 감사하겠습니다. 픽업을 위한 대략적인 준비 시간은 [준비 시간]입니다. 매장으로 오시면 결제 후 바로 받아 가실 수 있도록 준비해놓겠습니다. 안전하게 오세요!\n",
      "챗봇: 알겠습니다! 10분 후에 오실 예정이면, 그때 맞춰서 준비해두겠습니다. 매장에 오시면 주문하신 피자와 콜라를 픽업하실 수 있도록 해놓겠습니다. 안전하게 오세요! 추가로 도움이 필요하시면 언제든지 말씀해 주세요. 감사합니다!\n",
      "챗봇: 감사합니다! 그럼 10분 후에 뵙겠습니다. 안전하게 오세요! 🍕🥤\n",
      "챗봇: 네, 알겠습니다! 기다리고 있겠습니다. 궁금하신 점이 있으면 언제든지 말씀해 주세요. 감사합니다!\n",
      "대화를 종료합니다. 다음에 또 오세요!\n"
     ]
    }
   ],
   "source": [
    "messages = load_history()\n",
    "print('안녕하세요! 피자 주문을 도와드리겠습니다.')\n",
    "while True:\n",
    "    user_input = input('사용자: ')\n",
    "    if user_input.lower() in ['exit', 'quit', '종료', '나가기']:\n",
    "        print('대화를 종료합니다. 다음에 또 오세요!')\n",
    "        save_history(messages)\n",
    "        break\n",
    "    messages.append({'role': 'user', 'content': user_input})\n",
    "    assistant_response = get_completion_from_messages(messages)\n",
    "    messages.append({'role': 'assistant', 'content': assistant_response})\n",
    "    print(f'챗봇: {assistant_response}')"
   ]
  },
  {
   "cell_type": "markdown",
   "metadata": {},
   "source": [
    "### 실습"
   ]
  },
  {
   "cell_type": "code",
   "execution_count": 78,
   "metadata": {},
   "outputs": [],
   "source": [
    "import json\n",
    "import os\n",
    "\n",
    "path = './data/chistory.json'\n",
    "\n",
    "# 대화 기록을 로드하는 함수\n",
    "def load_history():\n",
    "    if os.path.exists(path):\n",
    "        with open(path, 'r', encoding='utf-8') as file:\n",
    "            return json.load(file)\n",
    "    return [{'role': 'system', 'content': '당신은 여행 가이드 챗봇입니다.'}]\n",
    "\n",
    "# 대화 기록을 저장하는 함수\n",
    "def save_history(messages):\n",
    "    with open(path, 'w', encoding='utf-8') as file:\n",
    "        json.dump(messages, file, ensure_ascii=False, indent=4)\n",
    "        # dump: python 객체를 json 형식의 문자열로 반환하고 이를 파일에 저장하는 메서드\n",
    "\n",
    "# GPT 모델 호출 함수\n",
    "def get_completion_from_messages(messages, temperature=1):\n",
    "    response = client.chat.completions.create(\n",
    "        model = 'gpt-4o',\n",
    "        messages = messages,\n",
    "        temperature=temperature\n",
    "    )\n",
    "    return response.choices[0].message.content"
   ]
  },
  {
   "cell_type": "code",
   "execution_count": 79,
   "metadata": {},
   "outputs": [
    {
     "name": "stdout",
     "output_type": "stream",
     "text": [
      "안녕하세요! 여행 계획 작성을 도와드리겠습니다.\n",
      "챗봇: 오스트리아는 많은 관광객들에게 인기 있는 곳이지만, 비교적 덜 붐비고 평화로운 장소들도 있습니다. 여기 몇 가지 추천 드릴게요:\n",
      "\n",
      "1. **호흐콘익 (Hochkönig) 지역**: 잘츠부르크 근처에 위치한 이곳은 하이킹과 자연을 즐기기에 좋은 장소입니다. 멋진 산세와 예쁜 알프스 마을이 있어 여유롭게 자연을 만끽할 수 있습니다.\n",
      "\n",
      "2. **밀슈타터 호수 (Millstätter See)**: 카린티아 주에 위치한 이 호수는 비교적 조용하고 아름다운 호반 풍경을 자랑합니다. 수영이나 보트 타기, 주변을 따라 산책하기에 좋습니다.\n",
      "\n",
      "3. **바이젠제 (Weissensee)**: 이곳도 카린티아 주에 위치하며, 맑고 청정한 호수로 유명합니다. 여름에는 수영과 카누를, 겨울에는 호수 위에서 스케이트를 즐길 수 있습니다.\n",
      "\n",
      "4. **슈타이어 (Steyr)**: 오버외스터라이히 주에 위치한 중세적인 마을로, 고풍스러운 건축물과 조용한 분위기를 경험할 수 있습니다. 도보로 마을을 천천히 둘러보기에 좋습니다.\n",
      "\n",
      "5. **리제 슈트레시 (Riegersburg Castle)**: 슈타이어마르크 주에 있는 이 성은 절경 위에 서 있으며, 성을 오르면서 주변의 아름다운 전경을 감상할 수 있습니다. 대중적인 관광지에 비해 덜 알려져 있어 비교적 한적합니다.\n",
      "\n",
      "이러한 장소들은 오스트리아의 자연과 문화를 보다 조용하게 즐길 수 있는 좋은 선택지들입니다. 여행 전 현지 상황과 계절에 따라 방문 가능 여부를 확인하시기 바랍니다.\n",
      "챗봇: 호흐콘익 지역은 잘츠부르크 근처에 위치한 아름다운 자연 경관을 제공하는 곳으로, 다양한 활동을 즐길 수 있습니다. 다음은 이 지역에서 즐길 수 있는 몇 가지 활동입니다:\n",
      "\n",
      "1. **하이킹과 트레킹**: 호흐콘익은 다양한 난이도의 하이킹과 트레킹 코스를 제공합니다. 경이로운 알프스의 풍경을 감상하며 자연 속에서 여유롭게 산책할 수 있습니다. 특히 '하이킹의 왕관'이라 불리는 코스는 꼭 경험해볼 만합니다.\n",
      "\n",
      "2. **자전거 타기**: 잘 정비된 자전거 도로가 많아 산악자전거나 로드바이크를 즐기기에 좋습니다. 다양한 경로가 있으니 자신의 체력에 맞게 선택할 수 있습니다.\n",
      "\n",
      "3. **암벽 등반**: 호흐콘익의 암벽은 등반가들에게 인기가 많습니다. 다양한 난이도의 경로가 있으며, 경험이 있는 등반가라면 도전해볼 가치가 있습니다.\n",
      "\n",
      "4. **겨울 스포츠**: 겨울철에는 스키와 스노보드를 즐길 수 있는 스키 리조트가 운영됩니다. 설질이 좋고 비교적 사람들이 많지 않아 쾌적하게 즐길 수 있습니다.\n",
      "\n",
      "5. **현지 음식과 문화 체험**: 주변 마을을 방문하여 전통 오스트리아 요리를 맛보거나, 지역 축제나 문화행사에 참여해 보는 것도 좋은 경험이 될 것입니다.\n",
      "\n",
      "호흐콘익 지역은 사계절 내내 다양한 자연 활동을 즐길 수 있는 곳으로, 여행의 취향에 맞는 일정을 계획해 보시기 바랍니다.\n",
      "챗봇: 호흐콘익 지역 근처에는 다양한 맛있는 음식을 제공하는 레스토랑이 있습니다. 지역 특산물과 전통 오스트리아 요리를 맛볼 수 있는 몇 가지 추천 장소를 소개해 드릴게요:\n",
      "\n",
      "1. **Almbar**: Maria Alm에 위치한 이곳은 현지 산장에서 나는 재료를 사용해 만든 전통 오스트리아 요리를 제공합니다. 특히, 슈니첼과 아펠슈트루델이 유명합니다.\n",
      "\n",
      "2. **Gasthof Kronreith**: 아름다운 경관을 감상할 수 있는 Maria Alm 근처의 레스토랑입니다. 고전적인 오스트리아 요리뿐만 아니라 창의적인 요리도 제공합니다.\n",
      "\n",
      "3. **Berggasthof Hinterreit**: 이곳은 가족이 운영하는 아늑한 산속 레스토랑으로, 신선한 재료로 만든 오스트리아 음식과 함께 환상적인 전망을 제공합니다.\n",
      "\n",
      "4. **Landgasthof Bacher**: Saalfelden 인근에 있는 이 레스토랑은 맛있는 전통 요리를 즐길 수 있는 곳입니다. 친절한 서비스와 정갈한 분위기로 유명합니다.\n",
      "\n",
      "5. **Restaurant Urslautal**: 골프 코스에서 운영하는 레스토랑으로, 고급스러운 분위기 속에서 다양한 국제 요리와 현지 특산 요리를 맛볼 수 있습니다.\n",
      "\n",
      "이곳들은 자연 속에서 즐겁고 편안한 식사를 하기에 좋은 장소들입니다. 방문 전에 예약을 권장하며, 각 레스토랑의 영업 시간과 제공 메뉴는 계절에 따라 달라질 수 있으니 확인하고 방문하세요.\n",
      "챗봇: 천만에요! 여행 준비에 도움이 되었다니 기쁩니다. 오스트리아 여행 중에 궁금한 점이 더 생기면 언제든지 물어보세요. 즐거운 여행 되세요!\n",
      "대화를 종료합니다. 다음에 또 오세요!\n"
     ]
    }
   ],
   "source": [
    "messages = load_history()\n",
    "print('안녕하세요! 여행 계획 작성을 도와드리겠습니다.')\n",
    "while True:\n",
    "    user_input = input('사용자: ')\n",
    "    if user_input.lower() in ['exit', 'quit', '종료', '나가기']:\n",
    "        print('대화를 종료합니다. 다음에 또 오세요!')\n",
    "        save_history(messages)\n",
    "        break\n",
    "    messages.append({'role': 'user', 'content': user_input})\n",
    "    assistant_response = get_completion_from_messages(messages)\n",
    "    messages.append({'role': 'assistant', 'content': assistant_response})\n",
    "    print(f'챗봇: {assistant_response}')"
   ]
  }
 ],
 "metadata": {
  "kernelspec": {
   "display_name": "tensor_env",
   "language": "python",
   "name": "python3"
  },
  "language_info": {
   "codemirror_mode": {
    "name": "ipython",
    "version": 3
   },
   "file_extension": ".py",
   "mimetype": "text/x-python",
   "name": "python",
   "nbconvert_exporter": "python",
   "pygments_lexer": "ipython3",
   "version": "3.9.20"
  }
 },
 "nbformat": 4,
 "nbformat_minor": 2
}
