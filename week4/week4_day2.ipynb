{
 "cells": [
  {
   "cell_type": "markdown",
   "metadata": {},
   "source": [
    "\n",
    "# 🌼 제너레이티브AI의 이해 - 2차시(24.11.19)\n",
    "\n",
    "---\n"
   ]
  },
  {
   "cell_type": "markdown",
   "metadata": {},
   "source": [
    "## 1. GAN\n",
    "- 생성자와 판별자 두 가지 모델이 서로 경쟁하며 학습하는 방식\n",
    "- 생성자 : 랜덤한 잠재 벡터를 입력받아, 이를 기반으로 새로운 데이터 생성\n",
    "- 판별자 : 생성된 데이터가 진짜인지 가짜인지 판별"
   ]
  },
  {
   "cell_type": "code",
   "execution_count": 21,
   "metadata": {},
   "outputs": [
    {
     "data": {
      "text/plain": [
       "<torch._C.Generator at 0x29105029eb0>"
      ]
     },
     "execution_count": 21,
     "metadata": {},
     "output_type": "execute_result"
    }
   ],
   "source": [
    "import torch\n",
    "import torch.nn as nn\n",
    "import torch.nn.functional as F\n",
    "from torchvision import datasets, transforms\n",
    "from torch.utils.data import DataLoader\n",
    "import matplotlib.pyplot as plt\n",
    "torch.manual_seed(42)"
   ]
  },
  {
   "cell_type": "code",
   "execution_count": null,
   "metadata": {},
   "outputs": [],
   "source": [
    "transform = transforms.Compose([\n",
    "    transforms.ToTensor(),\n",
    "    transforms.Normalize((0.5,), (0.5,))\n",
    "])\n",
    "\n",
    "# 음수와 양수 값을 모두 다룰 수 있기 때문에 데이터 다루기에 용이\n",
    "\n",
    "mnist_data = datasets.MNIST(root='./data', train=True, transform=transform, download=True)\n",
    "data_loader = DataLoader(mnist_data, batch_size=64, shuffle=True)"
   ]
  },
  {
   "cell_type": "code",
   "execution_count": 3,
   "metadata": {},
   "outputs": [],
   "source": [
    "example_data, example_label = next(iter(data_loader))"
   ]
  },
  {
   "cell_type": "code",
   "execution_count": 4,
   "metadata": {},
   "outputs": [
    {
     "name": "stdout",
     "output_type": "stream",
     "text": [
      "첫 번째 데이터의 shape: torch.Size([64, 1, 28, 28])\n"
     ]
    }
   ],
   "source": [
    "print(f'첫 번째 데이터의 shape: {example_data.shape}')\n",
    "# 배치 크기, 채널, 높이, 너비"
   ]
  },
  {
   "cell_type": "code",
   "execution_count": 6,
   "metadata": {},
   "outputs": [
    {
     "name": "stdout",
     "output_type": "stream",
     "text": [
      "첫 번재 데이터의 라벨: 5\n"
     ]
    }
   ],
   "source": [
    "print(f'첫 번재 데이터의 라벨: {example_label[0]}')"
   ]
  },
  {
   "cell_type": "code",
   "execution_count": 7,
   "metadata": {},
   "outputs": [
    {
     "data": {
      "image/png": "[encoded data removed]",
      "text/plain": [
       "<Figure size 640x480 with 1 Axes>"
      ]
     },
     "metadata": {},
     "output_type": "display_data"
    }
   ],
   "source": [
    "plt.imshow(example_data[0].squeeze(), cmap='gray')\n",
    "plt.title(f'label: {example_label[0].item()}')\n",
    "plt.show()"
   ]
  },
  {
   "cell_type": "code",
   "execution_count": 8,
   "metadata": {},
   "outputs": [],
   "source": [
    "input_size = 100  # 너무 크면 과적합 될 수 있음\n",
    "hidden_size_gen1 = 256  # 중간 레이어들의 뉴런 수 (GAN에서는 점점 늘어나는 계층적인 구조를 이룬다)\n",
    "hidden_size_gen2 = 512\n",
    "hidden_size_gen3 = 1024\n",
    "output_size = 28 * 28"
   ]
  },
  {
   "cell_type": "code",
   "execution_count": 9,
   "metadata": {},
   "outputs": [],
   "source": [
    "# 생성자 레이어 정의\n",
    "gen_w1 = nn.Parameter(torch.randn(input_size, hidden_size_gen1) * 0.02)\n",
    "# 첫 번째 가중치: input_size -> hidden_size_gen1으로 변환하는 첫 번째 레이어의 가중치를 랜덤으로 초기화\n",
    "# 0.02는 가중치 값을 초기화할 때 스케일 조정\n",
    "gen_b1 = nn.Parameter(torch.zeros(hidden_size_gen1))\n",
    "# 편향 벡터, 뉴런의 입력 값이 0이어도 출력이 발생할 수 있도록 유연하게 조정\n",
    "\n",
    "gen_w2 = nn.Parameter(torch.randn(hidden_size_gen1, hidden_size_gen2) * 0.02)\n",
    "gen_b2 = nn.Parameter(torch.zeros(hidden_size_gen2))\n",
    "\n",
    "gen_w3 = nn.Parameter(torch.randn(hidden_size_gen2, hidden_size_gen3) * 0.02)\n",
    "gen_b3 = nn.Parameter(torch.zeros(hidden_size_gen3))\n",
    "\n",
    "gen_w4 = nn.Parameter(torch.randn(hidden_size_gen3, output_size) * 0.02)\n",
    "gen_b4 = nn.Parameter(torch.zeros(output_size))"
   ]
  },
  {
   "cell_type": "code",
   "execution_count": 10,
   "metadata": {},
   "outputs": [],
   "source": [
    "def generator(x):\n",
    "    x = torch.matmul(x, gen_w1) + gen_b1\n",
    "    # 입력 벡터 x에 첫 번재 레이어의 가중치인 gen_w1을 곱하고 편향 gen_b1를 더하기\n",
    "    # 첫 번재 레이어의 출력\n",
    "    x = torch.relu(x)\n",
    "\n",
    "    x = torch.matmul(x, gen_w2) + gen_b2\n",
    "    x = torch.relu(x)\n",
    "\n",
    "    x = torch.matmul(x, gen_w3) + gen_b3\n",
    "    x = torch.relu(x)\n",
    "\n",
    "    x = torch.matmul(x, gen_w4) + gen_b4\n",
    "    x = torch.tanh(x)\n",
    "    # 마지막 출력을 -1~1사이 범위로 조정\n",
    "    return x"
   ]
  },
  {
   "cell_type": "code",
   "execution_count": 11,
   "metadata": {},
   "outputs": [],
   "source": [
    "# 판별자 정의\n",
    "input_size_dis = 28 * 28\n",
    "hidden_size_dis1 = 1024\n",
    "hidden_size_dis2 = 512\n",
    "hidden_size_dis3 = 256\n",
    "output_size_dis = 1"
   ]
  },
  {
   "cell_type": "code",
   "execution_count": 12,
   "metadata": {},
   "outputs": [],
   "source": [
    "dis_w1 = nn.Parameter(torch.randn(input_size_dis, hidden_size_dis1) * 0.02)\n",
    "dis_b1 = nn.Parameter(torch.zeros(hidden_size_dis1))\n",
    "\n",
    "dis_w2 = nn.Parameter(torch.randn(hidden_size_dis1, hidden_size_dis2) * 0.02)\n",
    "dis_b2 = nn.Parameter(torch.zeros(hidden_size_dis2))\n",
    "\n",
    "dis_w3 = nn.Parameter(torch.randn(hidden_size_dis2, hidden_size_dis3) * 0.02)\n",
    "dis_b3 = nn.Parameter(torch.zeros(hidden_size_dis3))\n",
    "\n",
    "dis_w4 = nn.Parameter(torch.randn(hidden_size_dis3, output_size_dis) * 0.02)\n",
    "dis_b4 = nn.Parameter(torch.zeros(output_size_dis))"
   ]
  },
  {
   "cell_type": "code",
   "execution_count": 13,
   "metadata": {},
   "outputs": [],
   "source": [
    "# 판별자 전방 전달\n",
    "def discriminator(x):\n",
    "    x = torch.matmul(x, dis_w1) + dis_b1\n",
    "    x = F.leaky_relu(x, 0.2)\n",
    "    # 0.2: 음수 구간의 기울기에 곱해줄 작은 값\n",
    "\n",
    "    x = torch.matmul(x, dis_w2) + dis_b2\n",
    "    x = F.leaky_relu(x, 0.2)\n",
    "\n",
    "    x = torch.matmul(x, dis_w3) + dis_b3\n",
    "    x = F.leaky_relu(x, 0.2)\n",
    "\n",
    "    x = torch.matmul(x, dis_w4) + dis_b4\n",
    "    x = torch.sigmoid(x)\n",
    "    return x\n",
    "    # 출력이 0과 1 사이 값, 진짜 or 가짜"
   ]
  },
  {
   "cell_type": "code",
   "execution_count": 16,
   "metadata": {},
   "outputs": [],
   "source": [
    "loss_fn = nn.BCELoss()  # Binary Cross Entropy\n",
    "lr = 0.0002\n",
    "gen_params = [gen_w1, gen_b1, gen_w2, gen_b2, gen_w3, gen_b3, gen_w4, gen_b4]\n",
    "dis_params = [dis_w1, dis_b1, dis_w2, dis_b2, dis_w3, dis_b3, dis_w4, dis_b4]"
   ]
  },
  {
   "cell_type": "code",
   "execution_count": 17,
   "metadata": {},
   "outputs": [],
   "source": [
    "optimizer_gen = torch.optim.Adam(gen_params, lr=lr)\n",
    "optimizer_dis = torch.optim.Adam(dis_params, lr=lr)"
   ]
  },
  {
   "cell_type": "code",
   "execution_count": 18,
   "metadata": {},
   "outputs": [
    {
     "name": "stdout",
     "output_type": "stream",
     "text": [
      "Epoch: 1 / 20, Loss D: 0.3541618585586548, Loss G: 2.1726138591766357\n",
      "Epoch: 2 / 20, Loss D: 0.24016866087913513, Loss G: 4.343298435211182\n",
      "Epoch: 3 / 20, Loss D: 0.8972729444503784, Loss G: 6.500575065612793\n",
      "Epoch: 4 / 20, Loss D: 0.23801420629024506, Loss G: 6.129885673522949\n",
      "Epoch: 5 / 20, Loss D: 0.3287588953971863, Loss G: 9.508502960205078\n",
      "Epoch: 6 / 20, Loss D: 0.0067023239098489285, Loss G: 5.234284400939941\n",
      "Epoch: 7 / 20, Loss D: 0.08931363373994827, Loss G: 4.357615947723389\n",
      "Epoch: 8 / 20, Loss D: 0.1582915186882019, Loss G: 7.554990291595459\n",
      "Epoch: 9 / 20, Loss D: 3.961047332268208e-05, Loss G: 11.327078819274902\n",
      "Epoch: 10 / 20, Loss D: 0.0001393253041896969, Loss G: 9.002958297729492\n",
      "Epoch: 11 / 20, Loss D: 2.5276738597312942e-05, Loss G: 10.61777400970459\n",
      "Epoch: 12 / 20, Loss D: 0.0008447295404039323, Loss G: 23.616764068603516\n",
      "Epoch: 13 / 20, Loss D: 1.8265171092934906e-05, Loss G: 10.91982650756836\n",
      "Epoch: 14 / 20, Loss D: 1.4737813901335587e-18, Loss G: 41.95839309692383\n",
      "Epoch: 15 / 20, Loss D: 2.467142394380062e-06, Loss G: 13.42707633972168\n",
      "Epoch: 16 / 20, Loss D: 3.2950774766504765e-06, Loss G: 12.631340980529785\n",
      "Epoch: 17 / 20, Loss D: 6.751153705408797e-06, Loss G: 11.725852012634277\n",
      "Epoch: 18 / 20, Loss D: 1.2648820302274544e-06, Loss G: 13.610526084899902\n",
      "Epoch: 19 / 20, Loss D: 2.0922502927485594e-17, Loss G: 46.99979019165039\n",
      "Epoch: 20 / 20, Loss D: 1.5125592653930653e-06, Loss G: 13.858051300048828\n"
     ]
    }
   ],
   "source": [
    "epochs = 20\n",
    "for epoch in range(epochs):\n",
    "    for real_images, _ in data_loader:\n",
    "        batch_size = real_images.size(0)\n",
    "        # real images의 첫 번째 차원의 값인 batch size\n",
    "        real_images = real_images.view(batch_size, -1)\n",
    "        # 기존에 (64, 1, 28, 28) -> (64, 784)\n",
    "\n",
    "        real_labels = torch.ones(batch_size, 1)\n",
    "        # (64, 1) 텐서를 생성해서 전체 요소의 각 값들이 전부 1\n",
    "        fake_labels = torch.zeros(batch_size, 1)\n",
    "        # (64, 1) 텐서를 생성해서 전체 요소의 각 값들이 전부 0\n",
    "\n",
    "        # 생성자 학습 구간\n",
    "        random_noise = torch.randn(batch_size, input_size)\n",
    "        fake_images = generator(random_noise)\n",
    "\n",
    "        # 판별자 학습 구간\n",
    "        real_output = discriminator(real_images)\n",
    "        fake_output = discriminator(fake_images)\n",
    "\n",
    "        loss_real = loss_fn(real_output, real_labels)\n",
    "        # 실제 이미지에 대한 손실값\n",
    "        loss_fake = loss_fn(fake_output, fake_labels)\n",
    "        # 가짜 이미지에 대한 손실값\n",
    "        loss_dis = loss_real + loss_fake\n",
    "        # 판별자의 총 손실\n",
    "\n",
    "        optimizer_dis.zero_grad()\n",
    "        # 기울기 곗간 전 가중치 초기화\n",
    "        loss_dis.backward()\n",
    "        # 역전파를 통한 기울기 계산\n",
    "        optimizer_dis.step()\n",
    "        # 기울기 업데이트\n",
    "\n",
    "        # 생성자가 학습\n",
    "        random_noise = torch.randn(batch_size, input_size)\n",
    "        # 랜덤 노이즈 생성\n",
    "        fake_images = generator(random_noise)\n",
    "        fake_output = discriminator(fake_images)\n",
    "\n",
    "        # 생성자 손실 계산 + 가중치 업데이트\n",
    "        loss_gen = loss_fn(fake_output, real_labels)\n",
    "        # fake_output: 생성자가 만든 가짜 이미지를 판별자가 판별한 결과\n",
    "        # real_lables: 진짜 이미지의 라벨\n",
    "        # 가짜 이미지의 판별 결과 vs 진짜 이미지의 라벨\n",
    "\n",
    "        optimizer_gen.zero_grad()\n",
    "        loss_gen.backward()\n",
    "        optimizer_gen.step()\n",
    "\n",
    "    print(f'Epoch: {epoch + 1} / {epochs}, Loss D: {loss_dis.item()}, Loss G: {loss_gen.item()}')\n",
    "    # 판별자 손실이 작은 경우: 모든 가짜를 완벽하게 구분하고 있다는 의미\n",
    "    # 생성자 손실이 큰 경우: 판별자를 속이기 위한 진전이 없다는 의미"
   ]
  },
  {
   "cell_type": "code",
   "execution_count": 19,
   "metadata": {},
   "outputs": [],
   "source": [
    "random_noise = torch.randn(16, input_size)\n",
    "generated_images = generator(random_noise).view(-1, 1, 28, 28).detach()"
   ]
  },
  {
   "cell_type": "code",
   "execution_count": 22,
   "metadata": {},
   "outputs": [
    {
     "data": {
      "image/png": "[encoded data removed]",
      "text/plain": [
       "<Figure size 600x600 with 16 Axes>"
      ]
     },
     "metadata": {},
     "output_type": "display_data"
    }
   ],
   "source": [
    "fig, axes = plt.subplots(4, 4, figsize=(6, 6))\n",
    "for i, ax in enumerate(axes.flatten()):\n",
    "    ax.imshow(generated_images[i].squeeze(), cmap='gray')\n",
    "    ax.axis('off')\n",
    "plt.show()"
   ]
  },
  {
   "cell_type": "markdown",
   "metadata": {},
   "source": [
    "\n",
    "## 🌼마무리 문제\n",
    "\n",
    "다양한 데이터셋을 적용해보세요\n",
    "\n",
    "Q1. Fashion MNIST\n",
    "- 28X28 크기의 패션 아이템 이미지로 구성된 흑백 이미지 데이터셋\n",
    "\n",
    "\n",
    "Q2. CIFAR-10\n",
    "- 32X32 크기의 색상이 있는 자동차, 동물 등 다양한 객체가 포함된 데이터셋"
   ]
  },
  {
   "cell_type": "code",
   "execution_count": 23,
   "metadata": {},
   "outputs": [],
   "source": [
    "trans = transforms.ToTensor()\n",
    "fashion_mnist_data = datasets.FashionMNIST(root='./data', train=True, transform=trans, download=True)\n",
    "data_loader = DataLoader(fashion_mnist_data, batch_size=64, shuffle=True)"
   ]
  },
  {
   "cell_type": "code",
   "execution_count": 24,
   "metadata": {},
   "outputs": [
    {
     "name": "stdout",
     "output_type": "stream",
     "text": [
      "첫 번째 데이터의 shape: torch.Size([64, 1, 28, 28])\n"
     ]
    }
   ],
   "source": [
    "edata, elabel = next(iter(data_loader))\n",
    "print(f'첫 번째 데이터의 shape: {edata.shape}')"
   ]
  },
  {
   "cell_type": "code",
   "execution_count": 25,
   "metadata": {},
   "outputs": [
    {
     "data": {
      "image/png": "[encoded data removed]",
      "text/plain": [
       "<Figure size 640x480 with 1 Axes>"
      ]
     },
     "metadata": {},
     "output_type": "display_data"
    }
   ],
   "source": [
    "plt.imshow(edata[0].squeeze(), cmap='gray')\n",
    "plt.title(f'label: {example_label[0].item()}')\n",
    "plt.show()"
   ]
  },
  {
   "cell_type": "code",
   "execution_count": 54,
   "metadata": {},
   "outputs": [],
   "source": [
    "input_size = 180 \n",
    "hidden_size_gen1 = 256 \n",
    "hidden_size_gen2 = 512\n",
    "hidden_size_gen3 = 1024\n",
    "output_size = 28 * 28\n",
    "\n",
    "gen_w1 = nn.Parameter(torch.randn(input_size, hidden_size_gen1) * 0.02)\n",
    "gen_b1 = nn.Parameter(torch.zeros(hidden_size_gen1))\n",
    "\n",
    "gen_w2 = nn.Parameter(torch.randn(hidden_size_gen1, hidden_size_gen2) * 0.02)\n",
    "gen_b2 = nn.Parameter(torch.zeros(hidden_size_gen2))\n",
    "\n",
    "gen_w3 = nn.Parameter(torch.randn(hidden_size_gen2, hidden_size_gen3) * 0.02)\n",
    "gen_b3 = nn.Parameter(torch.zeros(hidden_size_gen3))\n",
    "\n",
    "gen_w4 = nn.Parameter(torch.randn(hidden_size_gen3, output_size) * 0.02)\n",
    "gen_b4 = nn.Parameter(torch.zeros(output_size))"
   ]
  },
  {
   "cell_type": "code",
   "execution_count": 27,
   "metadata": {},
   "outputs": [],
   "source": [
    "def generator(x):\n",
    "    x = torch.matmul(x, gen_w1) + gen_b1\n",
    "    x = torch.relu(x)\n",
    "\n",
    "    x = torch.matmul(x, gen_w2) + gen_b2\n",
    "    x = torch.relu(x)\n",
    "\n",
    "    x = torch.matmul(x, gen_w3) + gen_b3\n",
    "    x = torch.relu(x)\n",
    "\n",
    "    x = torch.matmul(x, gen_w4) + gen_b4\n",
    "    x = torch.tanh(x)\n",
    "    return x"
   ]
  },
  {
   "cell_type": "code",
   "execution_count": 28,
   "metadata": {},
   "outputs": [],
   "source": [
    "input_size_dis = 28 * 28\n",
    "hidden_size_dis1 = 1024\n",
    "hidden_size_dis2 = 512\n",
    "hidden_size_dis3 = 256\n",
    "output_size_dis = 1\n",
    "\n",
    "dis_w1 = nn.Parameter(torch.randn(input_size_dis, hidden_size_dis1) * 0.02)\n",
    "dis_b1 = nn.Parameter(torch.zeros(hidden_size_dis1))\n",
    "\n",
    "dis_w2 = nn.Parameter(torch.randn(hidden_size_dis1, hidden_size_dis2) * 0.02)\n",
    "dis_b2 = nn.Parameter(torch.zeros(hidden_size_dis2))\n",
    "\n",
    "dis_w3 = nn.Parameter(torch.randn(hidden_size_dis2, hidden_size_dis3) * 0.02)\n",
    "dis_b3 = nn.Parameter(torch.zeros(hidden_size_dis3))\n",
    "\n",
    "dis_w4 = nn.Parameter(torch.randn(hidden_size_dis3, output_size_dis) * 0.02)\n",
    "dis_b4 = nn.Parameter(torch.zeros(output_size_dis))"
   ]
  },
  {
   "cell_type": "code",
   "execution_count": 29,
   "metadata": {},
   "outputs": [],
   "source": [
    "def discriminator(x):\n",
    "    x = torch.matmul(x, dis_w1) + dis_b1\n",
    "    x = F.leaky_relu(x, 0.2)\n",
    "\n",
    "    x = torch.matmul(x, dis_w2) + dis_b2\n",
    "    x = F.leaky_relu(x, 0.2)\n",
    "\n",
    "    x = torch.matmul(x, dis_w3) + dis_b3\n",
    "    x = F.leaky_relu(x, 0.2)\n",
    "\n",
    "    x = torch.matmul(x, dis_w4) + dis_b4\n",
    "    x = torch.sigmoid(x)\n",
    "    return x"
   ]
  },
  {
   "cell_type": "code",
   "execution_count": 42,
   "metadata": {},
   "outputs": [],
   "source": [
    "loss_fn = nn.BCELoss()  # Binary Cross Entropy\n",
    "lr = 0.0002\n",
    "gen_params = [gen_w1, gen_b1, gen_w2, gen_b2, gen_w3, gen_b3, gen_w4, gen_b4]\n",
    "dis_params = [dis_w1, dis_b1, dis_w2, dis_b2, dis_w3, dis_b3, dis_w4, dis_b4]"
   ]
  },
  {
   "cell_type": "code",
   "execution_count": 37,
   "metadata": {},
   "outputs": [],
   "source": [
    "optimizer_gen = torch.optim.Adam(gen_params, lr=lr)\n",
    "optimizer_dis = torch.optim.Adam(dis_params, lr=lr)"
   ]
  },
  {
   "cell_type": "code",
   "execution_count": 55,
   "metadata": {},
   "outputs": [
    {
     "name": "stdout",
     "output_type": "stream",
     "text": [
      "Epoch: 1 / 5, Loss D: 3.885895338839873e-08, Loss G: 17.806400299072266\n",
      "Epoch: 2 / 5, Loss D: 1.2636389712383789e-08, Loss G: 18.823427200317383\n",
      "Epoch: 3 / 5, Loss D: 6.202646396502587e-09, Loss G: 19.062313079833984\n",
      "Epoch: 4 / 5, Loss D: 3.3948497346614204e-09, Loss G: 19.641387939453125\n",
      "Epoch: 5 / 5, Loss D: 3.543505711078865e-09, Loss G: 20.05622673034668\n"
     ]
    }
   ],
   "source": [
    "epochs = 5\n",
    "for epoch in range(epochs):\n",
    "    for real_images, _ in data_loader:\n",
    "        batch_size = real_images.size(0)\n",
    "        real_images = real_images.view(batch_size, -1)\n",
    "\n",
    "        real_labels = torch.ones(batch_size, 1)\n",
    "        fake_labels = torch.zeros(batch_size, 1)\n",
    "\n",
    "        random_noise = torch.randn(batch_size, input_size)\n",
    "        fake_images = generator(random_noise)\n",
    "\n",
    "        real_output = discriminator(real_images)\n",
    "        fake_output = discriminator(fake_images)\n",
    "\n",
    "        loss_real = loss_fn(real_output, real_labels)\n",
    "        loss_fake = loss_fn(fake_output, fake_labels)\n",
    "        loss_dis = loss_real + loss_fake\n",
    "\n",
    "        optimizer_dis.zero_grad()\n",
    "        loss_dis.backward()\n",
    "        optimizer_dis.step()\n",
    "\n",
    "        random_noise = torch.randn(batch_size, input_size)\n",
    "        fake_images = generator(random_noise)\n",
    "        fake_output = discriminator(fake_images)\n",
    "\n",
    "        loss_gen = loss_fn(fake_output, real_labels)\n",
    "\n",
    "        optimizer_gen.zero_grad()\n",
    "        loss_gen.backward()\n",
    "        optimizer_gen.step()\n",
    "\n",
    "    print(f'Epoch: {epoch + 1} / {epochs}, Loss D: {loss_dis.item()}, Loss G: {loss_gen.item()}')"
   ]
  },
  {
   "cell_type": "code",
   "execution_count": 56,
   "metadata": {},
   "outputs": [
    {
     "data": {
      "image/png": "[encoded data removed]",
      "text/plain": [
       "<Figure size 1200x400 with 5 Axes>"
      ]
     },
     "metadata": {},
     "output_type": "display_data"
    }
   ],
   "source": [
    "random_noise = torch.randn(5, input_size)\n",
    "generated_images = generator(random_noise).view(-1, 1, 28, 28).detach()\n",
    "\n",
    "fig, axes = plt.subplots(1, 5, figsize=(12, 4))\n",
    "for i, ax in enumerate(axes.flatten()):\n",
    "    ax.imshow(generated_images[i].squeeze(), cmap='gray')\n",
    "    ax.axis('off')\n",
    "plt.show()"
   ]
  }
 ],
 "metadata": {
  "kernelspec": {
   "display_name": "tensor_env",
   "language": "python",
   "name": "python3"
  },
  "language_info": {
   "codemirror_mode": {
    "name": "ipython",
    "version": 3
   },
   "file_extension": ".py",
   "mimetype": "text/x-python",
   "name": "python",
   "nbconvert_exporter": "python",
   "pygments_lexer": "ipython3",
   "version": "3.9.20"
  }
 },
 "nbformat": 4,
 "nbformat_minor": 2
}
